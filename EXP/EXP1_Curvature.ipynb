{
 "cells": [
  {
   "cell_type": "code",
   "execution_count": 1,
   "id": "9a5d2460-5438-4eb6-a9b6-0f85c3305d4b",
   "metadata": {},
   "outputs": [
    {
     "name": "stdout",
     "output_type": "stream",
     "text": [
      "[2024-04-16 16:40:23,005] [INFO] [real_accelerator.py:191:get_accelerator] Setting ds_accelerator to cuda (auto detect)\n"
     ]
    },
    {
     "name": "stderr",
     "output_type": "stream",
     "text": [
      "You are using a model of type llava to instantiate a model of type llava_llama. This is not supported for all configurations of models and can yield errors.\n"
     ]
    },
    {
     "data": {
      "application/vnd.jupyter.widget-view+json": {
       "model_id": "9d67450a92a045b4803adca3b8c75225",
       "version_major": 2,
       "version_minor": 0
      },
      "text/plain": [
       "Loading checkpoint shards:   0%|          | 0/2 [00:00<?, ?it/s]"
      ]
     },
     "metadata": {},
     "output_type": "display_data"
    },
    {
     "name": "stderr",
     "output_type": "stream",
     "text": [
      "/home/kenichi.maeda001/anaconda3/envs/LLMP/lib/python3.11/site-packages/transformers/generation/configuration_utils.py:389: UserWarning: `do_sample` is set to `False`. However, `temperature` is set to `0` -- this flag is only used in sample-based generation modes. You should set `do_sample=True` or unset `temperature`.\n",
      "  warnings.warn(\n",
      "/home/kenichi.maeda001/anaconda3/envs/LLMP/lib/python3.11/site-packages/transformers/generation/configuration_utils.py:394: UserWarning: `do_sample` is set to `False`. However, `top_p` is set to `None` -- this flag is only used in sample-based generation modes. You should set `do_sample=True` or unset `top_p`.\n",
      "  warnings.warn(\n",
      "You are using a model of type llava to instantiate a model of type llava_llama. This is not supported for all configurations of models and can yield errors.\n"
     ]
    },
    {
     "data": {
      "application/vnd.jupyter.widget-view+json": {
       "model_id": "d96ead6604a5442196c43eb7efcf7ed0",
       "version_major": 2,
       "version_minor": 0
      },
      "text/plain": [
       "Loading checkpoint shards:   0%|          | 0/2 [00:00<?, ?it/s]"
      ]
     },
     "metadata": {},
     "output_type": "display_data"
    },
    {
     "name": "stderr",
     "output_type": "stream",
     "text": [
      "You are using a model of type llava to instantiate a model of type llava_llama. This is not supported for all configurations of models and can yield errors.\n"
     ]
    },
    {
     "data": {
      "application/vnd.jupyter.widget-view+json": {
       "model_id": "5a1e2b332d074cb58799a228fffa4294",
       "version_major": 2,
       "version_minor": 0
      },
      "text/plain": [
       "Loading checkpoint shards:   0%|          | 0/2 [00:00<?, ?it/s]"
      ]
     },
     "metadata": {},
     "output_type": "display_data"
    },
    {
     "name": "stderr",
     "output_type": "stream",
     "text": [
      "You are using a model of type llava to instantiate a model of type llava_llama. This is not supported for all configurations of models and can yield errors.\n"
     ]
    },
    {
     "data": {
      "application/vnd.jupyter.widget-view+json": {
       "model_id": "1a4abd68b80e48a2b534adea3abc8de4",
       "version_major": 2,
       "version_minor": 0
      },
      "text/plain": [
       "Loading checkpoint shards:   0%|          | 0/2 [00:00<?, ?it/s]"
      ]
     },
     "metadata": {},
     "output_type": "display_data"
    },
    {
     "name": "stderr",
     "output_type": "stream",
     "text": [
      "You are using a model of type llava to instantiate a model of type llava_llama. This is not supported for all configurations of models and can yield errors.\n"
     ]
    },
    {
     "data": {
      "application/vnd.jupyter.widget-view+json": {
       "model_id": "51a4ab68706f427bbdcae94b3099134a",
       "version_major": 2,
       "version_minor": 0
      },
      "text/plain": [
       "Loading checkpoint shards:   0%|          | 0/2 [00:00<?, ?it/s]"
      ]
     },
     "metadata": {},
     "output_type": "display_data"
    },
    {
     "name": "stderr",
     "output_type": "stream",
     "text": [
      "You are using a model of type llava to instantiate a model of type llava_llama. This is not supported for all configurations of models and can yield errors.\n"
     ]
    },
    {
     "data": {
      "application/vnd.jupyter.widget-view+json": {
       "model_id": "35fa7973c6c740be9efe717dc214553d",
       "version_major": 2,
       "version_minor": 0
      },
      "text/plain": [
       "Loading checkpoint shards:   0%|          | 0/2 [00:00<?, ?it/s]"
      ]
     },
     "metadata": {},
     "output_type": "display_data"
    },
    {
     "name": "stderr",
     "output_type": "stream",
     "text": [
      "You are using a model of type llava to instantiate a model of type llava_llama. This is not supported for all configurations of models and can yield errors.\n"
     ]
    },
    {
     "data": {
      "application/vnd.jupyter.widget-view+json": {
       "model_id": "bf3175278191442fa1b5f2d189bf80a8",
       "version_major": 2,
       "version_minor": 0
      },
      "text/plain": [
       "Loading checkpoint shards:   0%|          | 0/2 [00:00<?, ?it/s]"
      ]
     },
     "metadata": {},
     "output_type": "display_data"
    },
    {
     "name": "stderr",
     "output_type": "stream",
     "text": [
      "You are using a model of type llava to instantiate a model of type llava_llama. This is not supported for all configurations of models and can yield errors.\n"
     ]
    },
    {
     "data": {
      "application/vnd.jupyter.widget-view+json": {
       "model_id": "935757104c5c41909925f5a563d321e1",
       "version_major": 2,
       "version_minor": 0
      },
      "text/plain": [
       "Loading checkpoint shards:   0%|          | 0/2 [00:00<?, ?it/s]"
      ]
     },
     "metadata": {},
     "output_type": "display_data"
    },
    {
     "name": "stderr",
     "output_type": "stream",
     "text": [
      "You are using a model of type llava to instantiate a model of type llava_llama. This is not supported for all configurations of models and can yield errors.\n"
     ]
    },
    {
     "data": {
      "application/vnd.jupyter.widget-view+json": {
       "model_id": "016293ab82dd45b789ac73b8dc8bd243",
       "version_major": 2,
       "version_minor": 0
      },
      "text/plain": [
       "Loading checkpoint shards:   0%|          | 0/2 [00:00<?, ?it/s]"
      ]
     },
     "metadata": {},
     "output_type": "display_data"
    },
    {
     "name": "stderr",
     "output_type": "stream",
     "text": [
      "You are using a model of type llava to instantiate a model of type llava_llama. This is not supported for all configurations of models and can yield errors.\n"
     ]
    },
    {
     "data": {
      "application/vnd.jupyter.widget-view+json": {
       "model_id": "49f9396acc784f5fbd98c69d17ee4ce9",
       "version_major": 2,
       "version_minor": 0
      },
      "text/plain": [
       "Loading checkpoint shards:   0%|          | 0/2 [00:00<?, ?it/s]"
      ]
     },
     "metadata": {},
     "output_type": "display_data"
    },
    {
     "name": "stdout",
     "output_type": "stream",
     "text": [
      "{'gt': [0.076, 0.001, 0.003, 0.002, 0.01, 0.047, 0.051, 0.006, 0.019, 0.021], 'ChatGPT': {'parameters': None, 'raw_answers': ['0.2-0.3', '0-0.1', '0 - 0.1', '0-0.1', '0.01-0.05', '0.2 - 0.3', '0.2-0.3', '0.02-0.05', '0.1 - 0.3', '0.1 - 0.2'], 'parsed_answers': [[0.2, 0.3], [0.0, 0.1], [0.0, 0.1], [0.0, 0.1], [0.01, 0.05], [0.2, 0.3], [0.2, 0.3], [0.02, 0.05], [0.1, 0.3], [0.1, 0.2]], 'mse': 0.0011538, 'mlae': 1.3132458517875614, 'times': [1149.2297649383545, 1365.4718399047852, 1545.7608699798584, 1114.2609119415283, 1940.0320053100586, 1758.2731246948242, 1082.364559173584, 1697.3981857299805, 1217.968463897705, 1309.4508647918701], 'forced_repetitions': 0}, 'LLaVA': {'parameters': None, 'raw_answers': ['0.4', '0.3', '0.3', '0.3', '0.3', '0.3', '0.3', '0.35', '0.35', '0.35'], 'parsed_answers': [[0.4], [0.3], [0.3], [0.3], [0.3], [0.3], [0.3], [0.35], [0.35], [0.35]], 'mse': 0.09176379999999999, 'mlae': 4.919578445935473, 'times': [21641.02840423584, 7623.653888702393, 6787.374973297119, 6674.311637878418, 6709.697723388672, 6846.272706985474, 6766.463279724121, 6933.289527893066, 6669.684886932373, 6712.882995605469], 'forced_repetitions': 0}, 'CustomLLaVA': {'parameters': None, 'raw_answers': ['0.067', '0.068', '0.017', '0.047', '0.057', '0.058', '0.058', '0.057', '0.058', '0.067'], 'parsed_answers': [[0.067], [0.068], [0.017], [0.047], [0.057], [0.058], [0.058], [0.057], [0.058], [0.067]], 'mse': 0.0015408, 'mlae': 1.8011586560936985, 'times': [20693.96662712097, 20708.328247070312, 19429.258108139038, 19507.795333862305, 19712.361812591553, 22012.126922607422, 19519.69027519226, 19199.171543121338, 19529.25705909729, 19710.439682006836], 'forced_repetitions': 0}}\n"
     ]
    }
   ],
   "source": [
    "import sys\n",
    "sys.path.append('../')\n",
    "import LLMP as L\n",
    "import torch\n",
    "torch.torch.cuda.empty_cache()\n",
    "\n",
    "query = \"What do you see? You should see a black curved line. The image is 100 by 100 pixels. Estimate the curvature of the line. \\\n",
    "            It does not have to be perfectly precise; please respond with JUST a numerical rage. The value should be between 0 and 1.\"\n",
    "images = [L.GPImage.figure1('curvature') for i in range(10)]\n",
    "models = [\"ChatGPT\", \"LLaVA\", \"CustomLLaVA\"]\n",
    "\n",
    "results = L.Evaluator.run(images, query, models)\n",
    "print(results)"
   ]
  },
  {
   "cell_type": "code",
   "execution_count": 2,
   "id": "b59e1344-cbdf-4f76-96a5-8714b8bc452e",
   "metadata": {},
   "outputs": [],
   "source": [
    "chatGPT_mse = results[\"ChatGPT\"][\"mse\"]\n",
    "chatGPT_mlae = results[\"ChatGPT\"][\"mlae\"]\n",
    "llava_mse = results[\"LLaVA\"][\"mse\"]\n",
    "llava_mlae = results[\"LLaVA\"][\"mlae\"]\n",
    "custom_llava_mse = results[\"CustomLLaVA\"][\"mse\"]\n",
    "custom_llava_mlae = results[\"CustomLLaVA\"][\"mlae\"]"
   ]
  },
  {
   "cell_type": "code",
   "execution_count": 3,
   "id": "70671bcf-ab1d-4279-8c10-dd988963d939",
   "metadata": {},
   "outputs": [
    {
     "name": "stdout",
     "output_type": "stream",
     "text": [
      "ChatGPT mse:  0.0011538\n",
      "ChatGPT mlae: 1.3132458517875614\n",
      "LLaVA mse:    0.09176379999999999\n",
      "LLaVA mlae:   4.919578445935473\n",
      "CLLaVA mse:   0.0015408\n",
      "CLLaVA mlae:  1.8011586560936985\n"
     ]
    }
   ],
   "source": [
    "print(\"ChatGPT mse: \", chatGPT_mse)\n",
    "print(\"ChatGPT mlae:\", chatGPT_mlae)\n",
    "print(\"LLaVA mse:   \", llava_mse)\n",
    "print(\"LLaVA mlae:  \", llava_mlae)\n",
    "print(\"CLLaVA mse:  \", custom_llava_mse)\n",
    "print(\"CLLaVA mlae: \", custom_llava_mlae)"
   ]
  },
  {
   "cell_type": "code",
   "execution_count": null,
   "id": "0f2a5cbc-8cdb-435e-a195-2b22e3d6298a",
   "metadata": {},
   "outputs": [],
   "source": []
  },
  {
   "cell_type": "code",
   "execution_count": null,
   "id": "453c5a92-1c27-4972-a076-b9c39e94f93d",
   "metadata": {},
   "outputs": [],
   "source": []
  },
  {
   "cell_type": "code",
   "execution_count": 1,
   "id": "8e4082db-62c7-4f0b-a45e-ccfdfd509977",
   "metadata": {},
   "outputs": [
    {
     "name": "stdout",
     "output_type": "stream",
     "text": [
      "[2024-04-20 16:52:24,534] [INFO] [real_accelerator.py:191:get_accelerator] Setting ds_accelerator to cuda (auto detect)\n"
     ]
    },
    {
     "name": "stderr",
     "output_type": "stream",
     "text": [
      "You are using a model of type llava to instantiate a model of type llava_llama. This is not supported for all configurations of models and can yield errors.\n"
     ]
    },
    {
     "data": {
      "application/vnd.jupyter.widget-view+json": {
       "model_id": "2ca51344273e45b582cf24ca3ac0a5f8",
       "version_major": 2,
       "version_minor": 0
      },
      "text/plain": [
       "Loading checkpoint shards:   0%|          | 0/2 [00:00<?, ?it/s]"
      ]
     },
     "metadata": {},
     "output_type": "display_data"
    },
    {
     "name": "stderr",
     "output_type": "stream",
     "text": [
      "/home/kenichi.maeda001/anaconda3/envs/LLMP/lib/python3.11/site-packages/transformers/generation/configuration_utils.py:389: UserWarning: `do_sample` is set to `False`. However, `temperature` is set to `0` -- this flag is only used in sample-based generation modes. You should set `do_sample=True` or unset `temperature`.\n",
      "  warnings.warn(\n",
      "/home/kenichi.maeda001/anaconda3/envs/LLMP/lib/python3.11/site-packages/transformers/generation/configuration_utils.py:394: UserWarning: `do_sample` is set to `False`. However, `top_p` is set to `None` -- this flag is only used in sample-based generation modes. You should set `do_sample=True` or unset `top_p`.\n",
      "  warnings.warn(\n",
      "You are using a model of type llava to instantiate a model of type llava_llama. This is not supported for all configurations of models and can yield errors.\n"
     ]
    },
    {
     "data": {
      "application/vnd.jupyter.widget-view+json": {
       "model_id": "cec575b7896d4356aca59b1652803f64",
       "version_major": 2,
       "version_minor": 0
      },
      "text/plain": [
       "Loading checkpoint shards:   0%|          | 0/2 [00:00<?, ?it/s]"
      ]
     },
     "metadata": {},
     "output_type": "display_data"
    },
    {
     "name": "stderr",
     "output_type": "stream",
     "text": [
      "You are using a model of type llava to instantiate a model of type llava_llama. This is not supported for all configurations of models and can yield errors.\n"
     ]
    },
    {
     "data": {
      "application/vnd.jupyter.widget-view+json": {
       "model_id": "ed2d2747ac1745e2bfffa5e5cb87ab17",
       "version_major": 2,
       "version_minor": 0
      },
      "text/plain": [
       "Loading checkpoint shards:   0%|          | 0/2 [00:00<?, ?it/s]"
      ]
     },
     "metadata": {},
     "output_type": "display_data"
    },
    {
     "name": "stderr",
     "output_type": "stream",
     "text": [
      "You are using a model of type llava to instantiate a model of type llava_llama. This is not supported for all configurations of models and can yield errors.\n"
     ]
    },
    {
     "data": {
      "application/vnd.jupyter.widget-view+json": {
       "model_id": "2fd5ea41d0914deda376cda7d8eda280",
       "version_major": 2,
       "version_minor": 0
      },
      "text/plain": [
       "Loading checkpoint shards:   0%|          | 0/2 [00:00<?, ?it/s]"
      ]
     },
     "metadata": {},
     "output_type": "display_data"
    },
    {
     "name": "stderr",
     "output_type": "stream",
     "text": [
      "You are using a model of type llava to instantiate a model of type llava_llama. This is not supported for all configurations of models and can yield errors.\n"
     ]
    },
    {
     "data": {
      "application/vnd.jupyter.widget-view+json": {
       "model_id": "d1a9632a7680403889925e6f36731e66",
       "version_major": 2,
       "version_minor": 0
      },
      "text/plain": [
       "Loading checkpoint shards:   0%|          | 0/2 [00:00<?, ?it/s]"
      ]
     },
     "metadata": {},
     "output_type": "display_data"
    },
    {
     "name": "stderr",
     "output_type": "stream",
     "text": [
      "You are using a model of type llava to instantiate a model of type llava_llama. This is not supported for all configurations of models and can yield errors.\n"
     ]
    },
    {
     "data": {
      "application/vnd.jupyter.widget-view+json": {
       "model_id": "de24a49246c845b684a962de333416f3",
       "version_major": 2,
       "version_minor": 0
      },
      "text/plain": [
       "Loading checkpoint shards:   0%|          | 0/2 [00:00<?, ?it/s]"
      ]
     },
     "metadata": {},
     "output_type": "display_data"
    },
    {
     "name": "stderr",
     "output_type": "stream",
     "text": [
      "You are using a model of type llava to instantiate a model of type llava_llama. This is not supported for all configurations of models and can yield errors.\n"
     ]
    },
    {
     "data": {
      "application/vnd.jupyter.widget-view+json": {
       "model_id": "7cf339e46be54e198dc816c918f3f923",
       "version_major": 2,
       "version_minor": 0
      },
      "text/plain": [
       "Loading checkpoint shards:   0%|          | 0/2 [00:00<?, ?it/s]"
      ]
     },
     "metadata": {},
     "output_type": "display_data"
    },
    {
     "name": "stderr",
     "output_type": "stream",
     "text": [
      "You are using a model of type llava to instantiate a model of type llava_llama. This is not supported for all configurations of models and can yield errors.\n"
     ]
    },
    {
     "data": {
      "application/vnd.jupyter.widget-view+json": {
       "model_id": "7cf50b77e4e14454b87b83083024c9cb",
       "version_major": 2,
       "version_minor": 0
      },
      "text/plain": [
       "Loading checkpoint shards:   0%|          | 0/2 [00:00<?, ?it/s]"
      ]
     },
     "metadata": {},
     "output_type": "display_data"
    },
    {
     "name": "stderr",
     "output_type": "stream",
     "text": [
      "You are using a model of type llava to instantiate a model of type llava_llama. This is not supported for all configurations of models and can yield errors.\n"
     ]
    },
    {
     "data": {
      "application/vnd.jupyter.widget-view+json": {
       "model_id": "df350394802b4eed8fecb20cd737fc60",
       "version_major": 2,
       "version_minor": 0
      },
      "text/plain": [
       "Loading checkpoint shards:   0%|          | 0/2 [00:00<?, ?it/s]"
      ]
     },
     "metadata": {},
     "output_type": "display_data"
    },
    {
     "name": "stderr",
     "output_type": "stream",
     "text": [
      "You are using a model of type llava to instantiate a model of type llava_llama. This is not supported for all configurations of models and can yield errors.\n"
     ]
    },
    {
     "data": {
      "application/vnd.jupyter.widget-view+json": {
       "model_id": "5e5976be19274e23be72f7190a2f35b4",
       "version_major": 2,
       "version_minor": 0
      },
      "text/plain": [
       "Loading checkpoint shards:   0%|          | 0/2 [00:00<?, ?it/s]"
      ]
     },
     "metadata": {},
     "output_type": "display_data"
    },
    {
     "name": "stderr",
     "output_type": "stream",
     "text": [
      "You are using a model of type llava to instantiate a model of type llava_llama. This is not supported for all configurations of models and can yield errors.\n"
     ]
    },
    {
     "data": {
      "application/vnd.jupyter.widget-view+json": {
       "model_id": "4707e881f8f442d5892f313dc8a5b9c9",
       "version_major": 2,
       "version_minor": 0
      },
      "text/plain": [
       "Loading checkpoint shards:   0%|          | 0/2 [00:00<?, ?it/s]"
      ]
     },
     "metadata": {},
     "output_type": "display_data"
    },
    {
     "name": "stderr",
     "output_type": "stream",
     "text": [
      "You are using a model of type llava to instantiate a model of type llava_llama. This is not supported for all configurations of models and can yield errors.\n"
     ]
    },
    {
     "data": {
      "application/vnd.jupyter.widget-view+json": {
       "model_id": "cb330d724e0a44ff955cffed0643fbfb",
       "version_major": 2,
       "version_minor": 0
      },
      "text/plain": [
       "Loading checkpoint shards:   0%|          | 0/2 [00:00<?, ?it/s]"
      ]
     },
     "metadata": {},
     "output_type": "display_data"
    },
    {
     "name": "stderr",
     "output_type": "stream",
     "text": [
      "You are using a model of type llava to instantiate a model of type llava_llama. This is not supported for all configurations of models and can yield errors.\n"
     ]
    },
    {
     "data": {
      "application/vnd.jupyter.widget-view+json": {
       "model_id": "989ee3fa6d974ea3ba0c9abaef5ae241",
       "version_major": 2,
       "version_minor": 0
      },
      "text/plain": [
       "Loading checkpoint shards:   0%|          | 0/2 [00:00<?, ?it/s]"
      ]
     },
     "metadata": {},
     "output_type": "display_data"
    },
    {
     "name": "stderr",
     "output_type": "stream",
     "text": [
      "You are using a model of type llava to instantiate a model of type llava_llama. This is not supported for all configurations of models and can yield errors.\n"
     ]
    },
    {
     "data": {
      "application/vnd.jupyter.widget-view+json": {
       "model_id": "945a93cfd4d3427ead4953e0e14e19a9",
       "version_major": 2,
       "version_minor": 0
      },
      "text/plain": [
       "Loading checkpoint shards:   0%|          | 0/2 [00:00<?, ?it/s]"
      ]
     },
     "metadata": {},
     "output_type": "display_data"
    },
    {
     "name": "stderr",
     "output_type": "stream",
     "text": [
      "You are using a model of type llava to instantiate a model of type llava_llama. This is not supported for all configurations of models and can yield errors.\n"
     ]
    },
    {
     "data": {
      "application/vnd.jupyter.widget-view+json": {
       "model_id": "44a92f8d2a5f4b8c8bf84f5425812e74",
       "version_major": 2,
       "version_minor": 0
      },
      "text/plain": [
       "Loading checkpoint shards:   0%|          | 0/2 [00:00<?, ?it/s]"
      ]
     },
     "metadata": {},
     "output_type": "display_data"
    },
    {
     "name": "stderr",
     "output_type": "stream",
     "text": [
      "You are using a model of type llava to instantiate a model of type llava_llama. This is not supported for all configurations of models and can yield errors.\n"
     ]
    },
    {
     "data": {
      "application/vnd.jupyter.widget-view+json": {
       "model_id": "6e4aae45347a4ff6ac64bdd5b051f824",
       "version_major": 2,
       "version_minor": 0
      },
      "text/plain": [
       "Loading checkpoint shards:   0%|          | 0/2 [00:00<?, ?it/s]"
      ]
     },
     "metadata": {},
     "output_type": "display_data"
    },
    {
     "name": "stderr",
     "output_type": "stream",
     "text": [
      "You are using a model of type llava to instantiate a model of type llava_llama. This is not supported for all configurations of models and can yield errors.\n"
     ]
    },
    {
     "data": {
      "application/vnd.jupyter.widget-view+json": {
       "model_id": "17e2ebed952f4174946c6639fe311bee",
       "version_major": 2,
       "version_minor": 0
      },
      "text/plain": [
       "Loading checkpoint shards:   0%|          | 0/2 [00:00<?, ?it/s]"
      ]
     },
     "metadata": {},
     "output_type": "display_data"
    },
    {
     "name": "stderr",
     "output_type": "stream",
     "text": [
      "You are using a model of type llava to instantiate a model of type llava_llama. This is not supported for all configurations of models and can yield errors.\n"
     ]
    },
    {
     "data": {
      "application/vnd.jupyter.widget-view+json": {
       "model_id": "81f89c718942431e827f4030bf643621",
       "version_major": 2,
       "version_minor": 0
      },
      "text/plain": [
       "Loading checkpoint shards:   0%|          | 0/2 [00:00<?, ?it/s]"
      ]
     },
     "metadata": {},
     "output_type": "display_data"
    },
    {
     "name": "stderr",
     "output_type": "stream",
     "text": [
      "You are using a model of type llava to instantiate a model of type llava_llama. This is not supported for all configurations of models and can yield errors.\n"
     ]
    },
    {
     "data": {
      "application/vnd.jupyter.widget-view+json": {
       "model_id": "5174205df40449698b56c61e9e66f404",
       "version_major": 2,
       "version_minor": 0
      },
      "text/plain": [
       "Loading checkpoint shards:   0%|          | 0/2 [00:00<?, ?it/s]"
      ]
     },
     "metadata": {},
     "output_type": "display_data"
    },
    {
     "name": "stderr",
     "output_type": "stream",
     "text": [
      "You are using a model of type llava to instantiate a model of type llava_llama. This is not supported for all configurations of models and can yield errors.\n"
     ]
    },
    {
     "data": {
      "application/vnd.jupyter.widget-view+json": {
       "model_id": "6a200dd1f7e848c6aa285852e40a2864",
       "version_major": 2,
       "version_minor": 0
      },
      "text/plain": [
       "Loading checkpoint shards:   0%|          | 0/2 [00:00<?, ?it/s]"
      ]
     },
     "metadata": {},
     "output_type": "display_data"
    },
    {
     "name": "stderr",
     "output_type": "stream",
     "text": [
      "You are using a model of type llava to instantiate a model of type llava_llama. This is not supported for all configurations of models and can yield errors.\n"
     ]
    },
    {
     "data": {
      "application/vnd.jupyter.widget-view+json": {
       "model_id": "7c702fecaf764b74ae76efb9819e9842",
       "version_major": 2,
       "version_minor": 0
      },
      "text/plain": [
       "Loading checkpoint shards:   0%|          | 0/2 [00:00<?, ?it/s]"
      ]
     },
     "metadata": {},
     "output_type": "display_data"
    },
    {
     "name": "stderr",
     "output_type": "stream",
     "text": [
      "You are using a model of type llava to instantiate a model of type llava_llama. This is not supported for all configurations of models and can yield errors.\n"
     ]
    },
    {
     "data": {
      "application/vnd.jupyter.widget-view+json": {
       "model_id": "7b45c0fca3db4febba849a5aae30b9ee",
       "version_major": 2,
       "version_minor": 0
      },
      "text/plain": [
       "Loading checkpoint shards:   0%|          | 0/2 [00:00<?, ?it/s]"
      ]
     },
     "metadata": {},
     "output_type": "display_data"
    },
    {
     "name": "stderr",
     "output_type": "stream",
     "text": [
      "You are using a model of type llava to instantiate a model of type llava_llama. This is not supported for all configurations of models and can yield errors.\n"
     ]
    },
    {
     "data": {
      "application/vnd.jupyter.widget-view+json": {
       "model_id": "525bd3af08b1430ab2bba8893fb48592",
       "version_major": 2,
       "version_minor": 0
      },
      "text/plain": [
       "Loading checkpoint shards:   0%|          | 0/2 [00:00<?, ?it/s]"
      ]
     },
     "metadata": {},
     "output_type": "display_data"
    },
    {
     "name": "stderr",
     "output_type": "stream",
     "text": [
      "You are using a model of type llava to instantiate a model of type llava_llama. This is not supported for all configurations of models and can yield errors.\n"
     ]
    },
    {
     "data": {
      "application/vnd.jupyter.widget-view+json": {
       "model_id": "5f7afb377fb24cdc9d81e5e705417ff1",
       "version_major": 2,
       "version_minor": 0
      },
      "text/plain": [
       "Loading checkpoint shards:   0%|          | 0/2 [00:00<?, ?it/s]"
      ]
     },
     "metadata": {},
     "output_type": "display_data"
    },
    {
     "name": "stderr",
     "output_type": "stream",
     "text": [
      "You are using a model of type llava to instantiate a model of type llava_llama. This is not supported for all configurations of models and can yield errors.\n"
     ]
    },
    {
     "data": {
      "application/vnd.jupyter.widget-view+json": {
       "model_id": "188244193b664ca78b6f3b058b5aa350",
       "version_major": 2,
       "version_minor": 0
      },
      "text/plain": [
       "Loading checkpoint shards:   0%|          | 0/2 [00:00<?, ?it/s]"
      ]
     },
     "metadata": {},
     "output_type": "display_data"
    },
    {
     "name": "stderr",
     "output_type": "stream",
     "text": [
      "You are using a model of type llava to instantiate a model of type llava_llama. This is not supported for all configurations of models and can yield errors.\n"
     ]
    },
    {
     "data": {
      "application/vnd.jupyter.widget-view+json": {
       "model_id": "18aaf7f7344b43c49ec9fca7a203b4e0",
       "version_major": 2,
       "version_minor": 0
      },
      "text/plain": [
       "Loading checkpoint shards:   0%|          | 0/2 [00:00<?, ?it/s]"
      ]
     },
     "metadata": {},
     "output_type": "display_data"
    },
    {
     "name": "stderr",
     "output_type": "stream",
     "text": [
      "You are using a model of type llava to instantiate a model of type llava_llama. This is not supported for all configurations of models and can yield errors.\n"
     ]
    },
    {
     "data": {
      "application/vnd.jupyter.widget-view+json": {
       "model_id": "5c4bf52c7f464d58bd213d0aeaa3e4fb",
       "version_major": 2,
       "version_minor": 0
      },
      "text/plain": [
       "Loading checkpoint shards:   0%|          | 0/2 [00:00<?, ?it/s]"
      ]
     },
     "metadata": {},
     "output_type": "display_data"
    },
    {
     "name": "stderr",
     "output_type": "stream",
     "text": [
      "You are using a model of type llava to instantiate a model of type llava_llama. This is not supported for all configurations of models and can yield errors.\n"
     ]
    },
    {
     "data": {
      "application/vnd.jupyter.widget-view+json": {
       "model_id": "895e4f6aba1147e59e5a7f3410c3dac1",
       "version_major": 2,
       "version_minor": 0
      },
      "text/plain": [
       "Loading checkpoint shards:   0%|          | 0/2 [00:00<?, ?it/s]"
      ]
     },
     "metadata": {},
     "output_type": "display_data"
    },
    {
     "name": "stderr",
     "output_type": "stream",
     "text": [
      "You are using a model of type llava to instantiate a model of type llava_llama. This is not supported for all configurations of models and can yield errors.\n"
     ]
    },
    {
     "data": {
      "application/vnd.jupyter.widget-view+json": {
       "model_id": "de2ca5b823ee480dae785e337d8644ec",
       "version_major": 2,
       "version_minor": 0
      },
      "text/plain": [
       "Loading checkpoint shards:   0%|          | 0/2 [00:00<?, ?it/s]"
      ]
     },
     "metadata": {},
     "output_type": "display_data"
    },
    {
     "name": "stderr",
     "output_type": "stream",
     "text": [
      "You are using a model of type llava to instantiate a model of type llava_llama. This is not supported for all configurations of models and can yield errors.\n"
     ]
    },
    {
     "data": {
      "application/vnd.jupyter.widget-view+json": {
       "model_id": "86349c1a51ee473d9448fe13d75ef055",
       "version_major": 2,
       "version_minor": 0
      },
      "text/plain": [
       "Loading checkpoint shards:   0%|          | 0/2 [00:00<?, ?it/s]"
      ]
     },
     "metadata": {},
     "output_type": "display_data"
    },
    {
     "name": "stderr",
     "output_type": "stream",
     "text": [
      "You are using a model of type llava to instantiate a model of type llava_llama. This is not supported for all configurations of models and can yield errors.\n"
     ]
    },
    {
     "data": {
      "application/vnd.jupyter.widget-view+json": {
       "model_id": "da0ad099688f43bab51be6947589c841",
       "version_major": 2,
       "version_minor": 0
      },
      "text/plain": [
       "Loading checkpoint shards:   0%|          | 0/2 [00:00<?, ?it/s]"
      ]
     },
     "metadata": {},
     "output_type": "display_data"
    },
    {
     "name": "stderr",
     "output_type": "stream",
     "text": [
      "You are using a model of type llava to instantiate a model of type llava_llama. This is not supported for all configurations of models and can yield errors.\n"
     ]
    },
    {
     "data": {
      "application/vnd.jupyter.widget-view+json": {
       "model_id": "7c5de69a9e874c149dfbf6bc933c9dab",
       "version_major": 2,
       "version_minor": 0
      },
      "text/plain": [
       "Loading checkpoint shards:   0%|          | 0/2 [00:00<?, ?it/s]"
      ]
     },
     "metadata": {},
     "output_type": "display_data"
    },
    {
     "name": "stderr",
     "output_type": "stream",
     "text": [
      "You are using a model of type llava to instantiate a model of type llava_llama. This is not supported for all configurations of models and can yield errors.\n"
     ]
    },
    {
     "data": {
      "application/vnd.jupyter.widget-view+json": {
       "model_id": "0a9c04afa86b435cbb84523e0617d973",
       "version_major": 2,
       "version_minor": 0
      },
      "text/plain": [
       "Loading checkpoint shards:   0%|          | 0/2 [00:00<?, ?it/s]"
      ]
     },
     "metadata": {},
     "output_type": "display_data"
    },
    {
     "name": "stderr",
     "output_type": "stream",
     "text": [
      "You are using a model of type llava to instantiate a model of type llava_llama. This is not supported for all configurations of models and can yield errors.\n"
     ]
    },
    {
     "data": {
      "application/vnd.jupyter.widget-view+json": {
       "model_id": "28ee01c5ed5d4a83a14c4dbb8e8dbd3a",
       "version_major": 2,
       "version_minor": 0
      },
      "text/plain": [
       "Loading checkpoint shards:   0%|          | 0/2 [00:00<?, ?it/s]"
      ]
     },
     "metadata": {},
     "output_type": "display_data"
    },
    {
     "name": "stderr",
     "output_type": "stream",
     "text": [
      "You are using a model of type llava to instantiate a model of type llava_llama. This is not supported for all configurations of models and can yield errors.\n"
     ]
    },
    {
     "data": {
      "application/vnd.jupyter.widget-view+json": {
       "model_id": "08b8d4d0034543c1a034f8c828bb744e",
       "version_major": 2,
       "version_minor": 0
      },
      "text/plain": [
       "Loading checkpoint shards:   0%|          | 0/2 [00:00<?, ?it/s]"
      ]
     },
     "metadata": {},
     "output_type": "display_data"
    },
    {
     "name": "stderr",
     "output_type": "stream",
     "text": [
      "You are using a model of type llava to instantiate a model of type llava_llama. This is not supported for all configurations of models and can yield errors.\n"
     ]
    },
    {
     "data": {
      "application/vnd.jupyter.widget-view+json": {
       "model_id": "aa483f514c0743d0979f677cdbebc754",
       "version_major": 2,
       "version_minor": 0
      },
      "text/plain": [
       "Loading checkpoint shards:   0%|          | 0/2 [00:00<?, ?it/s]"
      ]
     },
     "metadata": {},
     "output_type": "display_data"
    },
    {
     "name": "stderr",
     "output_type": "stream",
     "text": [
      "You are using a model of type llava to instantiate a model of type llava_llama. This is not supported for all configurations of models and can yield errors.\n"
     ]
    },
    {
     "data": {
      "application/vnd.jupyter.widget-view+json": {
       "model_id": "a8c67974d85f47c6b40e5ab9e5208516",
       "version_major": 2,
       "version_minor": 0
      },
      "text/plain": [
       "Loading checkpoint shards:   0%|          | 0/2 [00:00<?, ?it/s]"
      ]
     },
     "metadata": {},
     "output_type": "display_data"
    },
    {
     "name": "stderr",
     "output_type": "stream",
     "text": [
      "You are using a model of type llava to instantiate a model of type llava_llama. This is not supported for all configurations of models and can yield errors.\n"
     ]
    },
    {
     "data": {
      "application/vnd.jupyter.widget-view+json": {
       "model_id": "378b33c06e244a76b3022a07cf84f2ba",
       "version_major": 2,
       "version_minor": 0
      },
      "text/plain": [
       "Loading checkpoint shards:   0%|          | 0/2 [00:00<?, ?it/s]"
      ]
     },
     "metadata": {},
     "output_type": "display_data"
    },
    {
     "name": "stderr",
     "output_type": "stream",
     "text": [
      "You are using a model of type llava to instantiate a model of type llava_llama. This is not supported for all configurations of models and can yield errors.\n"
     ]
    },
    {
     "data": {
      "application/vnd.jupyter.widget-view+json": {
       "model_id": "ac4822f52c4b4d099dd6a46bd6fe851d",
       "version_major": 2,
       "version_minor": 0
      },
      "text/plain": [
       "Loading checkpoint shards:   0%|          | 0/2 [00:00<?, ?it/s]"
      ]
     },
     "metadata": {},
     "output_type": "display_data"
    },
    {
     "name": "stderr",
     "output_type": "stream",
     "text": [
      "You are using a model of type llava to instantiate a model of type llava_llama. This is not supported for all configurations of models and can yield errors.\n"
     ]
    },
    {
     "data": {
      "application/vnd.jupyter.widget-view+json": {
       "model_id": "ef699a5fe90b44dcbd2d72d1b3b12dd8",
       "version_major": 2,
       "version_minor": 0
      },
      "text/plain": [
       "Loading checkpoint shards:   0%|          | 0/2 [00:00<?, ?it/s]"
      ]
     },
     "metadata": {},
     "output_type": "display_data"
    },
    {
     "name": "stderr",
     "output_type": "stream",
     "text": [
      "You are using a model of type llava to instantiate a model of type llava_llama. This is not supported for all configurations of models and can yield errors.\n"
     ]
    },
    {
     "data": {
      "application/vnd.jupyter.widget-view+json": {
       "model_id": "00af0a8209104bd1bccb335f0e53adfb",
       "version_major": 2,
       "version_minor": 0
      },
      "text/plain": [
       "Loading checkpoint shards:   0%|          | 0/2 [00:00<?, ?it/s]"
      ]
     },
     "metadata": {},
     "output_type": "display_data"
    },
    {
     "name": "stderr",
     "output_type": "stream",
     "text": [
      "You are using a model of type llava to instantiate a model of type llava_llama. This is not supported for all configurations of models and can yield errors.\n"
     ]
    },
    {
     "data": {
      "application/vnd.jupyter.widget-view+json": {
       "model_id": "3d65d77bb8a842298960650e404dc47c",
       "version_major": 2,
       "version_minor": 0
      },
      "text/plain": [
       "Loading checkpoint shards:   0%|          | 0/2 [00:00<?, ?it/s]"
      ]
     },
     "metadata": {},
     "output_type": "display_data"
    },
    {
     "name": "stderr",
     "output_type": "stream",
     "text": [
      "You are using a model of type llava to instantiate a model of type llava_llama. This is not supported for all configurations of models and can yield errors.\n"
     ]
    },
    {
     "data": {
      "application/vnd.jupyter.widget-view+json": {
       "model_id": "7b69422fb2e74243b642b9617497798a",
       "version_major": 2,
       "version_minor": 0
      },
      "text/plain": [
       "Loading checkpoint shards:   0%|          | 0/2 [00:00<?, ?it/s]"
      ]
     },
     "metadata": {},
     "output_type": "display_data"
    },
    {
     "name": "stderr",
     "output_type": "stream",
     "text": [
      "You are using a model of type llava to instantiate a model of type llava_llama. This is not supported for all configurations of models and can yield errors.\n"
     ]
    },
    {
     "data": {
      "application/vnd.jupyter.widget-view+json": {
       "model_id": "e175c15870514009bebb6e12a1d82ef6",
       "version_major": 2,
       "version_minor": 0
      },
      "text/plain": [
       "Loading checkpoint shards:   0%|          | 0/2 [00:00<?, ?it/s]"
      ]
     },
     "metadata": {},
     "output_type": "display_data"
    },
    {
     "name": "stderr",
     "output_type": "stream",
     "text": [
      "You are using a model of type llava to instantiate a model of type llava_llama. This is not supported for all configurations of models and can yield errors.\n"
     ]
    },
    {
     "data": {
      "application/vnd.jupyter.widget-view+json": {
       "model_id": "e693136becb048d8a5a82ded83b5e35d",
       "version_major": 2,
       "version_minor": 0
      },
      "text/plain": [
       "Loading checkpoint shards:   0%|          | 0/2 [00:00<?, ?it/s]"
      ]
     },
     "metadata": {},
     "output_type": "display_data"
    },
    {
     "name": "stderr",
     "output_type": "stream",
     "text": [
      "You are using a model of type llava to instantiate a model of type llava_llama. This is not supported for all configurations of models and can yield errors.\n"
     ]
    },
    {
     "data": {
      "application/vnd.jupyter.widget-view+json": {
       "model_id": "870340d4462b42588b7d7be9d2c961b6",
       "version_major": 2,
       "version_minor": 0
      },
      "text/plain": [
       "Loading checkpoint shards:   0%|          | 0/2 [00:00<?, ?it/s]"
      ]
     },
     "metadata": {},
     "output_type": "display_data"
    },
    {
     "name": "stderr",
     "output_type": "stream",
     "text": [
      "You are using a model of type llava to instantiate a model of type llava_llama. This is not supported for all configurations of models and can yield errors.\n"
     ]
    },
    {
     "data": {
      "application/vnd.jupyter.widget-view+json": {
       "model_id": "0f45539db55643718b2aa9e9a35030cb",
       "version_major": 2,
       "version_minor": 0
      },
      "text/plain": [
       "Loading checkpoint shards:   0%|          | 0/2 [00:00<?, ?it/s]"
      ]
     },
     "metadata": {},
     "output_type": "display_data"
    },
    {
     "name": "stderr",
     "output_type": "stream",
     "text": [
      "You are using a model of type llava to instantiate a model of type llava_llama. This is not supported for all configurations of models and can yield errors.\n"
     ]
    },
    {
     "data": {
      "application/vnd.jupyter.widget-view+json": {
       "model_id": "40c691f156be42779cc3e9c66345ab20",
       "version_major": 2,
       "version_minor": 0
      },
      "text/plain": [
       "Loading checkpoint shards:   0%|          | 0/2 [00:00<?, ?it/s]"
      ]
     },
     "metadata": {},
     "output_type": "display_data"
    },
    {
     "name": "stderr",
     "output_type": "stream",
     "text": [
      "You are using a model of type llava to instantiate a model of type llava_llama. This is not supported for all configurations of models and can yield errors.\n"
     ]
    },
    {
     "data": {
      "application/vnd.jupyter.widget-view+json": {
       "model_id": "7f8c66190c8e4407838cf2abf4d716c5",
       "version_major": 2,
       "version_minor": 0
      },
      "text/plain": [
       "Loading checkpoint shards:   0%|          | 0/2 [00:00<?, ?it/s]"
      ]
     },
     "metadata": {},
     "output_type": "display_data"
    },
    {
     "name": "stderr",
     "output_type": "stream",
     "text": [
      "You are using a model of type llava to instantiate a model of type llava_llama. This is not supported for all configurations of models and can yield errors.\n"
     ]
    },
    {
     "data": {
      "application/vnd.jupyter.widget-view+json": {
       "model_id": "b8605119a7554f9d933b2b64ccaf685c",
       "version_major": 2,
       "version_minor": 0
      },
      "text/plain": [
       "Loading checkpoint shards:   0%|          | 0/2 [00:00<?, ?it/s]"
      ]
     },
     "metadata": {},
     "output_type": "display_data"
    },
    {
     "name": "stderr",
     "output_type": "stream",
     "text": [
      "You are using a model of type llava to instantiate a model of type llava_llama. This is not supported for all configurations of models and can yield errors.\n"
     ]
    },
    {
     "data": {
      "application/vnd.jupyter.widget-view+json": {
       "model_id": "99d126aa614143beb6696d6b19e0ec32",
       "version_major": 2,
       "version_minor": 0
      },
      "text/plain": [
       "Loading checkpoint shards:   0%|          | 0/2 [00:00<?, ?it/s]"
      ]
     },
     "metadata": {},
     "output_type": "display_data"
    },
    {
     "name": "stderr",
     "output_type": "stream",
     "text": [
      "You are using a model of type llava to instantiate a model of type llava_llama. This is not supported for all configurations of models and can yield errors.\n"
     ]
    },
    {
     "data": {
      "application/vnd.jupyter.widget-view+json": {
       "model_id": "ef6b6800d3534b6f9c2ef76f17cdd652",
       "version_major": 2,
       "version_minor": 0
      },
      "text/plain": [
       "Loading checkpoint shards:   0%|          | 0/2 [00:00<?, ?it/s]"
      ]
     },
     "metadata": {},
     "output_type": "display_data"
    },
    {
     "name": "stderr",
     "output_type": "stream",
     "text": [
      "You are using a model of type llava to instantiate a model of type llava_llama. This is not supported for all configurations of models and can yield errors.\n"
     ]
    },
    {
     "data": {
      "application/vnd.jupyter.widget-view+json": {
       "model_id": "4f61aaf790ad4327861cf715f4f6c928",
       "version_major": 2,
       "version_minor": 0
      },
      "text/plain": [
       "Loading checkpoint shards:   0%|          | 0/2 [00:00<?, ?it/s]"
      ]
     },
     "metadata": {},
     "output_type": "display_data"
    },
    {
     "name": "stderr",
     "output_type": "stream",
     "text": [
      "You are using a model of type llava to instantiate a model of type llava_llama. This is not supported for all configurations of models and can yield errors.\n"
     ]
    },
    {
     "data": {
      "application/vnd.jupyter.widget-view+json": {
       "model_id": "9244e994943c49b29aea9c188434eddf",
       "version_major": 2,
       "version_minor": 0
      },
      "text/plain": [
       "Loading checkpoint shards:   0%|          | 0/2 [00:00<?, ?it/s]"
      ]
     },
     "metadata": {},
     "output_type": "display_data"
    },
    {
     "name": "stderr",
     "output_type": "stream",
     "text": [
      "You are using a model of type llava to instantiate a model of type llava_llama. This is not supported for all configurations of models and can yield errors.\n"
     ]
    },
    {
     "data": {
      "application/vnd.jupyter.widget-view+json": {
       "model_id": "4c3a31f3849840d5b8f8793072bd9581",
       "version_major": 2,
       "version_minor": 0
      },
      "text/plain": [
       "Loading checkpoint shards:   0%|          | 0/2 [00:00<?, ?it/s]"
      ]
     },
     "metadata": {},
     "output_type": "display_data"
    },
    {
     "name": "stdout",
     "output_type": "stream",
     "text": [
      "{'gt': [0.016, 0.081, 0.062, 0.053, 0.062, 0.032, 0.024, 0.011, 0.039, 0.078, 0.039, 0.026, 0.014, 0.003, 0.029, 0.026, 0.028, 0.049, 0.021, 0.02, 0.081, 0.069, 0.082, 0.034, 0.078, 0.007, 0.076, 0.04, 0.043, 0.077, 0.014, 0.073, 0.007, 0.061, 0.007, 0.021, 0.077, 0.07, 0.016, 0.052, 0.088, 0.039, 0.026, 0.073, 0.011, 0.009, 0.043, 0.037, 0.013, 0.059, 0.032, 0.018, 0.031, 0.053, 0.006], 'ChatGPT': {'parameters': None, 'raw_answers': ['0.2-0.3', '0.2 - 0.3', '0.2-0.3', '0.1-0.3', '0.2 - 0.3', '0.1 - 0.3', '0.2-0.3', '0.01-0.03', '0.1 - 0.3', '0.2-0.3', '0.1-0.3', '0.05-0.15', '0.01-0.05', '0 - 0.1', '0.1-0.2', '0.2-0.3', '0.1-0.2', '0.2 - 0.3', '0.2 - 0.3', '0.01-0.1', '0.2-0.3', '0.2-0.3', '0.2-0.3', '0.2 - 0.3', '0.6-0.8', '0.01-0.05', '0.2 - 0.3', '0.2 - 0.3', '0.2 - 0.3', '0.2-0.3', '0.01 - 0.05', '0.2-0.3', '0.01-0.05', '0.2-0.3', '0.01-0.05', '0.1-0.2', '0.1-0.2', '0.2-0.3', '0.1 - 0.3', '0.1-0.3', '0.2-0.3', '0.2 - 0.3', '0.1-0.2', '0.2-0.3', '0.01-0.05', '0.01 - 0.1', '0.2 - 0.3', '0.05-0.20', '0.01-0.05', '0.2 - 0.3', '0.2 - 0.3', '0.2-0.3', '0.1-0.2', '0.2-0.3', '0 - 0.1'], 'parsed_answers': [[0.2, 0.3], [0.2, 0.3], [0.2, 0.3], [0.1, 0.3], [0.2, 0.3], [0.1, 0.3], [0.2, 0.3], [0.01, 0.03], [0.1, 0.3], [0.2, 0.3], [0.1, 0.3], [0.05, 0.15], [0.01, 0.05], [0.0, 0.1], [0.1, 0.2], [0.2, 0.3], [0.1, 0.2], [0.2, 0.3], [0.2, 0.3], [0.01, 0.1], [0.2, 0.3], [0.2, 0.3], [0.2, 0.3], [0.2, 0.3], [0.6, 0.8], [0.01, 0.05], [0.2, 0.3], [0.2, 0.3], [0.2, 0.3], [0.2, 0.3], [0.01, 0.05], [0.2, 0.3], [0.01, 0.05], [0.2, 0.3], [0.01, 0.05], [0.1, 0.2], [0.1, 0.2], [0.2, 0.3], [0.1, 0.3], [0.1, 0.3], [0.2, 0.3], [0.2, 0.3], [0.1, 0.2], [0.2, 0.3], [0.01, 0.05], [0.01, 0.1], [0.2, 0.3], [0.05, 0.2], [0.01, 0.05], [0.2, 0.3], [0.2, 0.3], [0.2, 0.3], [0.1, 0.2], [0.2, 0.3], [0.0, 0.1]], 'mean': 0.0, 'std': 0.0, 'mse': 0.0022934909090909093, 'mlae': 2.0671067439020967, 'times': [1619.8720932006836, 2518.1164741516113, 1328.5002708435059, 887.1920108795166, 862.9031181335449, 933.7804317474365, 1212.0544910430908, 2428.3273220062256, 942.9073333740234, 942.9841041564941, 1571.946620941162, 850.6410121917725, 1251.7051696777344, 866.7998313903809, 1477.4584770202637, 874.1049766540527, 1127.2172927856445, 917.8524017333984, 1621.2890148162842, 872.4484443664551, 869.5869445800781, 907.5617790222168, 1452.676773071289, 1585.3238105773926, 843.8272476196289, 1193.8843727111816, 889.7500038146973, 931.0219287872314, 967.1895503997803, 1123.9547729492188, 950.164794921875, 983.2823276519775, 1170.7444190979004, 1512.197494506836, 1010.390043258667, 797.9855537414551, 1197.4976062774658, 1225.2516746520996, 956.4685821533203, 1612.6532554626465, 1010.1280212402344, 1133.0726146697998, 1872.3385334014893, 838.0987644195557, 964.2374515533447, 1289.247989654541, 2065.779209136963, 1388.1840705871582, 1537.9769802093506, 1067.492961883545, 1535.2418422698975, 934.1831207275391, 915.5769348144531, 882.4493885040283, 1092.2362804412842], 'forced_repetitions': 0}, 'LLaVA': {'parameters': None, 'raw_answers': ['0.3', '0.35', '0.35', '0.3', '0.35', '0.35', '0.35', '0.3', '0.35', '0.35', '0.35', '0.35', '0.3', '0.3', '0.35', '0.35', '0.35', '0.3', '0.35', '0.35', '0.35', '0.35', '0.35', '0.3', '0.35', '0.3', '0.4', '0.3', '0.3', '0.4', '0.3', '0.35', '0.3', '0.35', '0.3', '0.35', '0.4', '0.35', '0.3', '0.3', '0.35', '0.35', '0.35', '0.35', '0.3', '0.3', '0.3', '0.35', '0.3', '0.35', '0.35', '0.35', '0.35', '0.3', '0.35'], 'parsed_answers': [[0.3], [0.35], [0.35], [0.3], [0.35], [0.35], [0.35], [0.3], [0.35], [0.35], [0.35], [0.35], [0.3], [0.3], [0.35], [0.35], [0.35], [0.3], [0.35], [0.35], [0.35], [0.35], [0.35], [0.3], [0.35], [0.3], [0.4], [0.3], [0.3], [0.4], [0.3], [0.35], [0.3], [0.35], [0.3], [0.35], [0.4], [0.35], [0.3], [0.3], [0.35], [0.35], [0.35], [0.35], [0.3], [0.3], [0.3], [0.35], [0.3], [0.35], [0.35], [0.35], [0.35], [0.3], [0.35]], 'mean': 0.33454545454545465, 'std': 0.028400907912387828, 'mse': 0.08704439999999998, 'mlae': 4.8833319995681475, 'times': [21085.699319839478, 7669.96431350708, 7615.308523178101, 6609.049558639526, 8149.905443191528, 6949.400901794434, 6946.288824081421, 6754.270315170288, 6566.155433654785, 7201.46918296814, 7026.8425941467285, 6774.512529373169, 6714.028358459473, 6732.600688934326, 6779.868841171265, 6697.932004928589, 6799.929618835449, 8069.500923156738, 7107.6672077178955, 6857.220411300659, 6788.259983062744, 6781.594753265381, 6920.250415802002, 6944.041013717651, 7525.468587875366, 6868.813991546631, 7298.776626586914, 7212.662935256958, 7003.392457962036, 6623.002529144287, 7152.532339096069, 7109.688997268677, 6678.314447402954, 7069.929361343384, 6876.758575439453, 7106.020212173462, 6723.525285720825, 6727.863311767578, 7165.704965591431, 6781.687259674072, 7015.533208847046, 6845.3662395477295, 6910.067558288574, 6946.365594863892, 7228.915691375732, 6943.866491317749, 6995.659828186035, 6980.350732803345, 6755.290985107422, 6823.726654052734, 6858.897686004639, 7052.926778793335, 6955.168962478638, 6799.064636230469, 6750.179767608643], 'forced_repetitions': 0}, 'CustomLLaVA': {'parameters': None, 'raw_answers': ['0.057', '0.057', '0.047', '0.067', '0.016', '0.057', '0.048', '0.048', '0.058', '0.057', '0.08', '0.057', '0.04', '0.047', '0.05', '0.059', '0.067', '0.057', '0.057', '0.04', '0.06', '0.058', '0.047', '0.038', '0.056', '0.076', '0.057', '0.058', '0.057', '0.05', '0.046', '0.057', '0.067', '0.05', '0.059', '0.057', '0.057', '0.058', '0.05', '0.067', '0.057', '0.063', '0.05', '0.067', '0.018', '0.057', '0.069', '0.057', '0.048', '0.067', '0.047', '0.056', '0.056', '0.057', '0.067'], 'parsed_answers': [[0.057], [0.057], [0.047], [0.067], [0.016], [0.057], [0.048], [0.048], [0.058], [0.057], [0.08], [0.057], [0.04], [0.047], [0.05], [0.059], [0.067], [0.057], [0.057], [0.04], [0.06], [0.058], [0.047], [0.038], [0.056], [0.076], [0.057], [0.058], [0.057], [0.05], [0.046], [0.057], [0.067], [0.05], [0.059], [0.057], [0.057], [0.058], [0.05], [0.067], [0.057], [0.063], [0.05], [0.067], [0.018], [0.057], [0.069], [0.057], [0.048], [0.067], [0.047], [0.056], [0.056], [0.057], [0.067]], 'mean': 0.05503636363636364, 'std': 0.011063393588133364, 'mse': 0.0009220545454545456, 'mlae': 1.4795598201382454, 'times': [410720.2994823456, 19469.796657562256, 18870.710611343384, 18862.940073013306, 18937.9723072052, 18697.9558467865, 19671.265363693237, 18751.254558563232, 19261.865854263306, 19033.23745727539, 18947.768688201904, 19558.505058288574, 18576.777458190918, 21176.431894302368, 18753.70502471924, 19642.94743537903, 19295.575618743896, 19222.521543502808, 19415.926694869995, 18882.201433181763, 19104.413747787476, 18602.21529006958, 18872.952938079834, 21765.976190567017, 18966.821670532227, 19508.267641067505, 19040.980577468872, 19042.651414871216, 19975.765705108643, 19555.57918548584, 19535.905361175537, 19115.6063079834, 18532.3748588562, 19209.25259590149, 19000.27298927307, 19266.9620513916, 18869.587659835815, 18889.081478118896, 19718.66011619568, 19059.11111831665, 19826.733112335205, 18955.853700637817, 19405.25794029236, 19024.85680580139, 19086.398363113403, 19237.210750579834, 18960.44373512268, 18730.520725250244, 19301.783561706543, 19873.475551605225, 19232.18321800232, 18586.00926399231, 19867.29145050049, 18742.31219291687, 19104.30121421814], 'forced_repetitions': 0}}\n"
     ]
    }
   ],
   "source": [
    "import sys\n",
    "sys.path.append('../')\n",
    "import LLMP as L\n",
    "import torch\n",
    "torch.torch.cuda.empty_cache()\n",
    "\n",
    "query = \"What do you see? You should see a black curved line. The image is 100 by 100 pixels. Estimate the curvature of the line. \\\n",
    "            It does not have to be perfectly precise; please respond with JUST a numerical rage. The value should be between 0 and 1.\"\n",
    "images = [L.GPImage.figure1('curvature') for i in range(55)]\n",
    "models = [\"ChatGPT\", \"LLaVA\", \"CustomLLaVA\"]\n",
    "\n",
    "results = L.Evaluator.run(images, query, models)\n",
    "print(results)"
   ]
  },
  {
   "cell_type": "code",
   "execution_count": 2,
   "id": "e5369abe-9764-4bb4-9137-10bde6dd0ea0",
   "metadata": {},
   "outputs": [],
   "source": [
    "chatGPT_mse = results[\"ChatGPT\"][\"mse\"]\n",
    "chatGPT_mlae = results[\"ChatGPT\"][\"mlae\"]\n",
    "chatGPT_mean = results[\"ChatGPT\"][\"mean\"]\n",
    "chatGPT_std = results[\"ChatGPT\"][\"std\"]\n",
    "llava_mse = results[\"LLaVA\"][\"mse\"]\n",
    "llava_mlae = results[\"LLaVA\"][\"mlae\"]\n",
    "llava_mean = results[\"LLaVA\"][\"mean\"]\n",
    "llava_std = results[\"LLaVA\"][\"std\"]\n",
    "custom_llava_mse = results[\"CustomLLaVA\"][\"mse\"]\n",
    "custom_llava_mlae = results[\"CustomLLaVA\"][\"mlae\"]\n",
    "custom_llava_mean = results[\"CustomLLaVA\"][\"mean\"]\n",
    "custom_llava_std = results[\"CustomLLaVA\"][\"std\"]"
   ]
  },
  {
   "cell_type": "code",
   "execution_count": 3,
   "id": "930c5144-7bd8-4882-a680-f33f5c3976a3",
   "metadata": {},
   "outputs": [
    {
     "name": "stdout",
     "output_type": "stream",
     "text": [
      "ChatGPT mse:  0.0022934909090909093\n",
      "ChatGPT mlae: 2.0671067439020967\n",
      "ChatGPT mean: 0.0\n",
      "ChatGPT std: 0.0\n",
      "LLaVA mse:    0.08704439999999998\n",
      "LLaVA mlae:   4.8833319995681475\n",
      "LLaVA mean:   0.33454545454545465\n",
      "LLaVA std:   0.028400907912387828\n",
      "CLLaVA mse:   0.0009220545454545456\n",
      "CLLaVA mlae:  1.4795598201382454\n",
      "CLLaVA mean:  0.05503636363636364\n",
      "CLLaVA std:  0.011063393588133364\n"
     ]
    }
   ],
   "source": [
    "print(\"ChatGPT mse: \", chatGPT_mse)\n",
    "print(\"ChatGPT mlae:\", chatGPT_mlae)\n",
    "print(\"ChatGPT mean:\", chatGPT_mean)\n",
    "print(\"ChatGPT std:\", chatGPT_std)\n",
    "print(\"LLaVA mse:   \", llava_mse)\n",
    "print(\"LLaVA mlae:  \", llava_mlae)\n",
    "print(\"LLaVA mean:  \", llava_mean)\n",
    "print(\"LLaVA std:  \", llava_std)\n",
    "print(\"CLLaVA mse:  \", custom_llava_mse)\n",
    "print(\"CLLaVA mlae: \", custom_llava_mlae)\n",
    "print(\"CLLaVA mean: \", custom_llava_mean)\n",
    "print(\"CLLaVA std: \", custom_llava_std)"
   ]
  },
  {
   "cell_type": "code",
   "execution_count": null,
   "id": "3c29bc28-edf4-4d85-881b-0a521dfcaad7",
   "metadata": {},
   "outputs": [],
   "source": []
  }
 ],
 "metadata": {
  "kernelspec": {
   "display_name": "Python 3 (ipykernel)",
   "language": "python",
   "name": "python3"
  },
  "language_info": {
   "codemirror_mode": {
    "name": "ipython",
    "version": 3
   },
   "file_extension": ".py",
   "mimetype": "text/x-python",
   "name": "python",
   "nbconvert_exporter": "python",
   "pygments_lexer": "ipython3",
   "version": "3.11.7"
  }
 },
 "nbformat": 4,
 "nbformat_minor": 5
}
