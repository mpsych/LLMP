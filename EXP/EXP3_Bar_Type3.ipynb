{
 "cells": [
  {
   "cell_type": "code",
   "execution_count": 1,
   "id": "6c219ee9-76e7-4b15-bbd4-de151756eb2e",
   "metadata": {},
   "outputs": [
    {
     "name": "stdout",
     "output_type": "stream",
     "text": [
      "[2024-04-26 00:37:25,696] [INFO] [real_accelerator.py:191:get_accelerator] Setting ds_accelerator to cuda (auto detect)\n"
     ]
    },
    {
     "name": "stderr",
     "output_type": "stream",
     "text": [
      "You are using a model of type llava to instantiate a model of type llava_llama. This is not supported for all configurations of models and can yield errors.\n"
     ]
    },
    {
     "data": {
      "application/vnd.jupyter.widget-view+json": {
       "model_id": "9de6853a0b994b2c80d7603746d0c177",
       "version_major": 2,
       "version_minor": 0
      },
      "text/plain": [
       "Loading checkpoint shards:   0%|          | 0/2 [00:00<?, ?it/s]"
      ]
     },
     "metadata": {},
     "output_type": "display_data"
    },
    {
     "name": "stderr",
     "output_type": "stream",
     "text": [
      "/home/kenichi.maeda001/anaconda3/envs/LLMP/lib/python3.11/site-packages/transformers/generation/configuration_utils.py:389: UserWarning: `do_sample` is set to `False`. However, `temperature` is set to `0` -- this flag is only used in sample-based generation modes. You should set `do_sample=True` or unset `temperature`.\n",
      "  warnings.warn(\n",
      "/home/kenichi.maeda001/anaconda3/envs/LLMP/lib/python3.11/site-packages/transformers/generation/configuration_utils.py:394: UserWarning: `do_sample` is set to `False`. However, `top_p` is set to `None` -- this flag is only used in sample-based generation modes. You should set `do_sample=True` or unset `top_p`.\n",
      "  warnings.warn(\n",
      "You are using a model of type llava to instantiate a model of type llava_llama. This is not supported for all configurations of models and can yield errors.\n"
     ]
    },
    {
     "data": {
      "application/vnd.jupyter.widget-view+json": {
       "model_id": "2f4edae0aae74e889e3fdb82445cdca2",
       "version_major": 2,
       "version_minor": 0
      },
      "text/plain": [
       "Loading checkpoint shards:   0%|          | 0/2 [00:00<?, ?it/s]"
      ]
     },
     "metadata": {},
     "output_type": "display_data"
    },
    {
     "name": "stderr",
     "output_type": "stream",
     "text": [
      "You are using a model of type llava to instantiate a model of type llava_llama. This is not supported for all configurations of models and can yield errors.\n"
     ]
    },
    {
     "data": {
      "application/vnd.jupyter.widget-view+json": {
       "model_id": "712010faca1546fd970a7f5ac5440b77",
       "version_major": 2,
       "version_minor": 0
      },
      "text/plain": [
       "Loading checkpoint shards:   0%|          | 0/2 [00:00<?, ?it/s]"
      ]
     },
     "metadata": {},
     "output_type": "display_data"
    },
    {
     "name": "stderr",
     "output_type": "stream",
     "text": [
      "You are using a model of type llava to instantiate a model of type llava_llama. This is not supported for all configurations of models and can yield errors.\n"
     ]
    },
    {
     "data": {
      "application/vnd.jupyter.widget-view+json": {
       "model_id": "9907005f26134dc9a087016f374083c1",
       "version_major": 2,
       "version_minor": 0
      },
      "text/plain": [
       "Loading checkpoint shards:   0%|          | 0/2 [00:00<?, ?it/s]"
      ]
     },
     "metadata": {},
     "output_type": "display_data"
    },
    {
     "name": "stderr",
     "output_type": "stream",
     "text": [
      "You are using a model of type llava to instantiate a model of type llava_llama. This is not supported for all configurations of models and can yield errors.\n"
     ]
    },
    {
     "data": {
      "application/vnd.jupyter.widget-view+json": {
       "model_id": "82e5bc9808a44f5f849227aeaff1fb1a",
       "version_major": 2,
       "version_minor": 0
      },
      "text/plain": [
       "Loading checkpoint shards:   0%|          | 0/2 [00:00<?, ?it/s]"
      ]
     },
     "metadata": {},
     "output_type": "display_data"
    },
    {
     "name": "stderr",
     "output_type": "stream",
     "text": [
      "You are using a model of type llava to instantiate a model of type llava_llama. This is not supported for all configurations of models and can yield errors.\n"
     ]
    },
    {
     "data": {
      "application/vnd.jupyter.widget-view+json": {
       "model_id": "e9b68f16f4f3471db5ca06671092caba",
       "version_major": 2,
       "version_minor": 0
      },
      "text/plain": [
       "Loading checkpoint shards:   0%|          | 0/2 [00:00<?, ?it/s]"
      ]
     },
     "metadata": {},
     "output_type": "display_data"
    },
    {
     "name": "stderr",
     "output_type": "stream",
     "text": [
      "You are using a model of type llava to instantiate a model of type llava_llama. This is not supported for all configurations of models and can yield errors.\n"
     ]
    },
    {
     "data": {
      "application/vnd.jupyter.widget-view+json": {
       "model_id": "0184dab921214b37a44e0f0a4a42c961",
       "version_major": 2,
       "version_minor": 0
      },
      "text/plain": [
       "Loading checkpoint shards:   0%|          | 0/2 [00:00<?, ?it/s]"
      ]
     },
     "metadata": {},
     "output_type": "display_data"
    },
    {
     "name": "stderr",
     "output_type": "stream",
     "text": [
      "You are using a model of type llava to instantiate a model of type llava_llama. This is not supported for all configurations of models and can yield errors.\n"
     ]
    },
    {
     "data": {
      "application/vnd.jupyter.widget-view+json": {
       "model_id": "34617a8339e54915a6445612f75023f2",
       "version_major": 2,
       "version_minor": 0
      },
      "text/plain": [
       "Loading checkpoint shards:   0%|          | 0/2 [00:00<?, ?it/s]"
      ]
     },
     "metadata": {},
     "output_type": "display_data"
    },
    {
     "name": "stderr",
     "output_type": "stream",
     "text": [
      "You are using a model of type llava to instantiate a model of type llava_llama. This is not supported for all configurations of models and can yield errors.\n"
     ]
    },
    {
     "data": {
      "application/vnd.jupyter.widget-view+json": {
       "model_id": "a1a6ce642cea409daa6a1b92aa9370ba",
       "version_major": 2,
       "version_minor": 0
      },
      "text/plain": [
       "Loading checkpoint shards:   0%|          | 0/2 [00:00<?, ?it/s]"
      ]
     },
     "metadata": {},
     "output_type": "display_data"
    },
    {
     "name": "stderr",
     "output_type": "stream",
     "text": [
      "You are using a model of type llava to instantiate a model of type llava_llama. This is not supported for all configurations of models and can yield errors.\n"
     ]
    },
    {
     "data": {
      "application/vnd.jupyter.widget-view+json": {
       "model_id": "ceebe35598b8475b8fdd9d726973f45a",
       "version_major": 2,
       "version_minor": 0
      },
      "text/plain": [
       "Loading checkpoint shards:   0%|          | 0/2 [00:00<?, ?it/s]"
      ]
     },
     "metadata": {},
     "output_type": "display_data"
    },
    {
     "name": "stderr",
     "output_type": "stream",
     "text": [
      "You are using a model of type llava to instantiate a model of type llava_llama. This is not supported for all configurations of models and can yield errors.\n"
     ]
    },
    {
     "data": {
      "application/vnd.jupyter.widget-view+json": {
       "model_id": "43bcfe687ae443679268572070531400",
       "version_major": 2,
       "version_minor": 0
      },
      "text/plain": [
       "Loading checkpoint shards:   0%|          | 0/2 [00:00<?, ?it/s]"
      ]
     },
     "metadata": {},
     "output_type": "display_data"
    },
    {
     "name": "stderr",
     "output_type": "stream",
     "text": [
      "You are using a model of type llava to instantiate a model of type llava_llama. This is not supported for all configurations of models and can yield errors.\n"
     ]
    },
    {
     "data": {
      "application/vnd.jupyter.widget-view+json": {
       "model_id": "683792d67d9c40eb9041fe150089746c",
       "version_major": 2,
       "version_minor": 0
      },
      "text/plain": [
       "Loading checkpoint shards:   0%|          | 0/2 [00:00<?, ?it/s]"
      ]
     },
     "metadata": {},
     "output_type": "display_data"
    },
    {
     "name": "stderr",
     "output_type": "stream",
     "text": [
      "You are using a model of type llava to instantiate a model of type llava_llama. This is not supported for all configurations of models and can yield errors.\n"
     ]
    },
    {
     "data": {
      "application/vnd.jupyter.widget-view+json": {
       "model_id": "bea3faf9458f4cf4a64e61c2543b0b92",
       "version_major": 2,
       "version_minor": 0
      },
      "text/plain": [
       "Loading checkpoint shards:   0%|          | 0/2 [00:00<?, ?it/s]"
      ]
     },
     "metadata": {},
     "output_type": "display_data"
    },
    {
     "name": "stderr",
     "output_type": "stream",
     "text": [
      "You are using a model of type llava to instantiate a model of type llava_llama. This is not supported for all configurations of models and can yield errors.\n"
     ]
    },
    {
     "data": {
      "application/vnd.jupyter.widget-view+json": {
       "model_id": "68fa246eda9a4ae7b5000ab22ab4a5a9",
       "version_major": 2,
       "version_minor": 0
      },
      "text/plain": [
       "Loading checkpoint shards:   0%|          | 0/2 [00:00<?, ?it/s]"
      ]
     },
     "metadata": {},
     "output_type": "display_data"
    },
    {
     "name": "stderr",
     "output_type": "stream",
     "text": [
      "You are using a model of type llava to instantiate a model of type llava_llama. This is not supported for all configurations of models and can yield errors.\n"
     ]
    },
    {
     "data": {
      "application/vnd.jupyter.widget-view+json": {
       "model_id": "f77ea2c81aaf40ffbb39a3fb1d5b7356",
       "version_major": 2,
       "version_minor": 0
      },
      "text/plain": [
       "Loading checkpoint shards:   0%|          | 0/2 [00:00<?, ?it/s]"
      ]
     },
     "metadata": {},
     "output_type": "display_data"
    },
    {
     "name": "stderr",
     "output_type": "stream",
     "text": [
      "You are using a model of type llava to instantiate a model of type llava_llama. This is not supported for all configurations of models and can yield errors.\n"
     ]
    },
    {
     "data": {
      "application/vnd.jupyter.widget-view+json": {
       "model_id": "2e457ab8d0044d75baaa37d6c9c96af4",
       "version_major": 2,
       "version_minor": 0
      },
      "text/plain": [
       "Loading checkpoint shards:   0%|          | 0/2 [00:00<?, ?it/s]"
      ]
     },
     "metadata": {},
     "output_type": "display_data"
    },
    {
     "name": "stderr",
     "output_type": "stream",
     "text": [
      "You are using a model of type llava to instantiate a model of type llava_llama. This is not supported for all configurations of models and can yield errors.\n"
     ]
    },
    {
     "data": {
      "application/vnd.jupyter.widget-view+json": {
       "model_id": "12d7bdbd68a942799c4b1b73073f93e8",
       "version_major": 2,
       "version_minor": 0
      },
      "text/plain": [
       "Loading checkpoint shards:   0%|          | 0/2 [00:00<?, ?it/s]"
      ]
     },
     "metadata": {},
     "output_type": "display_data"
    },
    {
     "name": "stderr",
     "output_type": "stream",
     "text": [
      "You are using a model of type llava to instantiate a model of type llava_llama. This is not supported for all configurations of models and can yield errors.\n"
     ]
    },
    {
     "data": {
      "application/vnd.jupyter.widget-view+json": {
       "model_id": "e8a6adcc2843432a85d4e283b6fb9818",
       "version_major": 2,
       "version_minor": 0
      },
      "text/plain": [
       "Loading checkpoint shards:   0%|          | 0/2 [00:00<?, ?it/s]"
      ]
     },
     "metadata": {},
     "output_type": "display_data"
    },
    {
     "name": "stderr",
     "output_type": "stream",
     "text": [
      "You are using a model of type llava to instantiate a model of type llava_llama. This is not supported for all configurations of models and can yield errors.\n"
     ]
    },
    {
     "data": {
      "application/vnd.jupyter.widget-view+json": {
       "model_id": "ce65498ab0e546529e0366f25802d2e9",
       "version_major": 2,
       "version_minor": 0
      },
      "text/plain": [
       "Loading checkpoint shards:   0%|          | 0/2 [00:00<?, ?it/s]"
      ]
     },
     "metadata": {},
     "output_type": "display_data"
    },
    {
     "name": "stderr",
     "output_type": "stream",
     "text": [
      "You are using a model of type llava to instantiate a model of type llava_llama. This is not supported for all configurations of models and can yield errors.\n"
     ]
    },
    {
     "data": {
      "application/vnd.jupyter.widget-view+json": {
       "model_id": "4f9bd22e763d455e8ccd4dcc83c4cd8d",
       "version_major": 2,
       "version_minor": 0
      },
      "text/plain": [
       "Loading checkpoint shards:   0%|          | 0/2 [00:00<?, ?it/s]"
      ]
     },
     "metadata": {},
     "output_type": "display_data"
    },
    {
     "name": "stderr",
     "output_type": "stream",
     "text": [
      "You are using a model of type llava to instantiate a model of type llava_llama. This is not supported for all configurations of models and can yield errors.\n"
     ]
    },
    {
     "data": {
      "application/vnd.jupyter.widget-view+json": {
       "model_id": "92d2e062bd264855b4f447f887512068",
       "version_major": 2,
       "version_minor": 0
      },
      "text/plain": [
       "Loading checkpoint shards:   0%|          | 0/2 [00:00<?, ?it/s]"
      ]
     },
     "metadata": {},
     "output_type": "display_data"
    },
    {
     "name": "stderr",
     "output_type": "stream",
     "text": [
      "You are using a model of type llava to instantiate a model of type llava_llama. This is not supported for all configurations of models and can yield errors.\n"
     ]
    },
    {
     "data": {
      "application/vnd.jupyter.widget-view+json": {
       "model_id": "7e828edee01546a69d4135fedb26b1f9",
       "version_major": 2,
       "version_minor": 0
      },
      "text/plain": [
       "Loading checkpoint shards:   0%|          | 0/2 [00:00<?, ?it/s]"
      ]
     },
     "metadata": {},
     "output_type": "display_data"
    },
    {
     "name": "stderr",
     "output_type": "stream",
     "text": [
      "You are using a model of type llava to instantiate a model of type llava_llama. This is not supported for all configurations of models and can yield errors.\n"
     ]
    },
    {
     "data": {
      "application/vnd.jupyter.widget-view+json": {
       "model_id": "6818653023844ba59a7d8013725528c2",
       "version_major": 2,
       "version_minor": 0
      },
      "text/plain": [
       "Loading checkpoint shards:   0%|          | 0/2 [00:00<?, ?it/s]"
      ]
     },
     "metadata": {},
     "output_type": "display_data"
    },
    {
     "name": "stderr",
     "output_type": "stream",
     "text": [
      "You are using a model of type llava to instantiate a model of type llava_llama. This is not supported for all configurations of models and can yield errors.\n"
     ]
    },
    {
     "data": {
      "application/vnd.jupyter.widget-view+json": {
       "model_id": "1d42c6f9cf824d56923c1e52853b630b",
       "version_major": 2,
       "version_minor": 0
      },
      "text/plain": [
       "Loading checkpoint shards:   0%|          | 0/2 [00:00<?, ?it/s]"
      ]
     },
     "metadata": {},
     "output_type": "display_data"
    },
    {
     "name": "stderr",
     "output_type": "stream",
     "text": [
      "You are using a model of type llava to instantiate a model of type llava_llama. This is not supported for all configurations of models and can yield errors.\n"
     ]
    },
    {
     "data": {
      "application/vnd.jupyter.widget-view+json": {
       "model_id": "1c9717a8e95b4ee9b06aae63ce0f1e66",
       "version_major": 2,
       "version_minor": 0
      },
      "text/plain": [
       "Loading checkpoint shards:   0%|          | 0/2 [00:00<?, ?it/s]"
      ]
     },
     "metadata": {},
     "output_type": "display_data"
    },
    {
     "name": "stderr",
     "output_type": "stream",
     "text": [
      "You are using a model of type llava to instantiate a model of type llava_llama. This is not supported for all configurations of models and can yield errors.\n"
     ]
    },
    {
     "data": {
      "application/vnd.jupyter.widget-view+json": {
       "model_id": "d4269566b592494785f08b90daeeea54",
       "version_major": 2,
       "version_minor": 0
      },
      "text/plain": [
       "Loading checkpoint shards:   0%|          | 0/2 [00:00<?, ?it/s]"
      ]
     },
     "metadata": {},
     "output_type": "display_data"
    },
    {
     "name": "stderr",
     "output_type": "stream",
     "text": [
      "You are using a model of type llava to instantiate a model of type llava_llama. This is not supported for all configurations of models and can yield errors.\n"
     ]
    },
    {
     "data": {
      "application/vnd.jupyter.widget-view+json": {
       "model_id": "08979b27a24b4fed97e304fa26ec6620",
       "version_major": 2,
       "version_minor": 0
      },
      "text/plain": [
       "Loading checkpoint shards:   0%|          | 0/2 [00:00<?, ?it/s]"
      ]
     },
     "metadata": {},
     "output_type": "display_data"
    },
    {
     "name": "stderr",
     "output_type": "stream",
     "text": [
      "You are using a model of type llava to instantiate a model of type llava_llama. This is not supported for all configurations of models and can yield errors.\n"
     ]
    },
    {
     "data": {
      "application/vnd.jupyter.widget-view+json": {
       "model_id": "559ffb7e707e4c0799dd3d298357905a",
       "version_major": 2,
       "version_minor": 0
      },
      "text/plain": [
       "Loading checkpoint shards:   0%|          | 0/2 [00:00<?, ?it/s]"
      ]
     },
     "metadata": {},
     "output_type": "display_data"
    },
    {
     "name": "stderr",
     "output_type": "stream",
     "text": [
      "You are using a model of type llava to instantiate a model of type llava_llama. This is not supported for all configurations of models and can yield errors.\n"
     ]
    },
    {
     "data": {
      "application/vnd.jupyter.widget-view+json": {
       "model_id": "70dfad6b48bd4613b877ade66cdcafd8",
       "version_major": 2,
       "version_minor": 0
      },
      "text/plain": [
       "Loading checkpoint shards:   0%|          | 0/2 [00:00<?, ?it/s]"
      ]
     },
     "metadata": {},
     "output_type": "display_data"
    },
    {
     "name": "stderr",
     "output_type": "stream",
     "text": [
      "You are using a model of type llava to instantiate a model of type llava_llama. This is not supported for all configurations of models and can yield errors.\n"
     ]
    },
    {
     "data": {
      "application/vnd.jupyter.widget-view+json": {
       "model_id": "9ba11e28748f4e7c93ba916660cbe0f3",
       "version_major": 2,
       "version_minor": 0
      },
      "text/plain": [
       "Loading checkpoint shards:   0%|          | 0/2 [00:00<?, ?it/s]"
      ]
     },
     "metadata": {},
     "output_type": "display_data"
    },
    {
     "name": "stderr",
     "output_type": "stream",
     "text": [
      "You are using a model of type llava to instantiate a model of type llava_llama. This is not supported for all configurations of models and can yield errors.\n"
     ]
    },
    {
     "data": {
      "application/vnd.jupyter.widget-view+json": {
       "model_id": "63d8d0abf796407c808732f7080ea1ee",
       "version_major": 2,
       "version_minor": 0
      },
      "text/plain": [
       "Loading checkpoint shards:   0%|          | 0/2 [00:00<?, ?it/s]"
      ]
     },
     "metadata": {},
     "output_type": "display_data"
    },
    {
     "name": "stderr",
     "output_type": "stream",
     "text": [
      "You are using a model of type llava to instantiate a model of type llava_llama. This is not supported for all configurations of models and can yield errors.\n"
     ]
    },
    {
     "data": {
      "application/vnd.jupyter.widget-view+json": {
       "model_id": "249d7c64b3ff4238a8a93f81303a0f21",
       "version_major": 2,
       "version_minor": 0
      },
      "text/plain": [
       "Loading checkpoint shards:   0%|          | 0/2 [00:00<?, ?it/s]"
      ]
     },
     "metadata": {},
     "output_type": "display_data"
    },
    {
     "name": "stderr",
     "output_type": "stream",
     "text": [
      "You are using a model of type llava to instantiate a model of type llava_llama. This is not supported for all configurations of models and can yield errors.\n"
     ]
    },
    {
     "data": {
      "application/vnd.jupyter.widget-view+json": {
       "model_id": "8605b45b998649cea47e8efe9883de1f",
       "version_major": 2,
       "version_minor": 0
      },
      "text/plain": [
       "Loading checkpoint shards:   0%|          | 0/2 [00:00<?, ?it/s]"
      ]
     },
     "metadata": {},
     "output_type": "display_data"
    },
    {
     "name": "stderr",
     "output_type": "stream",
     "text": [
      "You are using a model of type llava to instantiate a model of type llava_llama. This is not supported for all configurations of models and can yield errors.\n"
     ]
    },
    {
     "data": {
      "application/vnd.jupyter.widget-view+json": {
       "model_id": "7a4db987a79b451cb16387ee271fbac3",
       "version_major": 2,
       "version_minor": 0
      },
      "text/plain": [
       "Loading checkpoint shards:   0%|          | 0/2 [00:00<?, ?it/s]"
      ]
     },
     "metadata": {},
     "output_type": "display_data"
    },
    {
     "name": "stderr",
     "output_type": "stream",
     "text": [
      "You are using a model of type llava to instantiate a model of type llava_llama. This is not supported for all configurations of models and can yield errors.\n"
     ]
    },
    {
     "data": {
      "application/vnd.jupyter.widget-view+json": {
       "model_id": "7792096bc9a64dc1977829d5ae5cd996",
       "version_major": 2,
       "version_minor": 0
      },
      "text/plain": [
       "Loading checkpoint shards:   0%|          | 0/2 [00:00<?, ?it/s]"
      ]
     },
     "metadata": {},
     "output_type": "display_data"
    },
    {
     "name": "stderr",
     "output_type": "stream",
     "text": [
      "You are using a model of type llava to instantiate a model of type llava_llama. This is not supported for all configurations of models and can yield errors.\n"
     ]
    },
    {
     "data": {
      "application/vnd.jupyter.widget-view+json": {
       "model_id": "ccec5bd029ba437d85390806bc26b199",
       "version_major": 2,
       "version_minor": 0
      },
      "text/plain": [
       "Loading checkpoint shards:   0%|          | 0/2 [00:00<?, ?it/s]"
      ]
     },
     "metadata": {},
     "output_type": "display_data"
    },
    {
     "name": "stderr",
     "output_type": "stream",
     "text": [
      "You are using a model of type llava to instantiate a model of type llava_llama. This is not supported for all configurations of models and can yield errors.\n"
     ]
    },
    {
     "data": {
      "application/vnd.jupyter.widget-view+json": {
       "model_id": "7d73cb8f3a29460c8c3d443b2c84463b",
       "version_major": 2,
       "version_minor": 0
      },
      "text/plain": [
       "Loading checkpoint shards:   0%|          | 0/2 [00:00<?, ?it/s]"
      ]
     },
     "metadata": {},
     "output_type": "display_data"
    },
    {
     "name": "stderr",
     "output_type": "stream",
     "text": [
      "You are using a model of type llava to instantiate a model of type llava_llama. This is not supported for all configurations of models and can yield errors.\n"
     ]
    },
    {
     "data": {
      "application/vnd.jupyter.widget-view+json": {
       "model_id": "5eff2082e4ca405ba263be184b4bb643",
       "version_major": 2,
       "version_minor": 0
      },
      "text/plain": [
       "Loading checkpoint shards:   0%|          | 0/2 [00:00<?, ?it/s]"
      ]
     },
     "metadata": {},
     "output_type": "display_data"
    },
    {
     "name": "stderr",
     "output_type": "stream",
     "text": [
      "You are using a model of type llava to instantiate a model of type llava_llama. This is not supported for all configurations of models and can yield errors.\n"
     ]
    },
    {
     "data": {
      "application/vnd.jupyter.widget-view+json": {
       "model_id": "9ae52e7f97834af1ba94f9cbf06f9f92",
       "version_major": 2,
       "version_minor": 0
      },
      "text/plain": [
       "Loading checkpoint shards:   0%|          | 0/2 [00:00<?, ?it/s]"
      ]
     },
     "metadata": {},
     "output_type": "display_data"
    },
    {
     "name": "stderr",
     "output_type": "stream",
     "text": [
      "You are using a model of type llava to instantiate a model of type llava_llama. This is not supported for all configurations of models and can yield errors.\n"
     ]
    },
    {
     "data": {
      "application/vnd.jupyter.widget-view+json": {
       "model_id": "053678a8e45143409a971d3e22df5aab",
       "version_major": 2,
       "version_minor": 0
      },
      "text/plain": [
       "Loading checkpoint shards:   0%|          | 0/2 [00:00<?, ?it/s]"
      ]
     },
     "metadata": {},
     "output_type": "display_data"
    },
    {
     "name": "stderr",
     "output_type": "stream",
     "text": [
      "You are using a model of type llava to instantiate a model of type llava_llama. This is not supported for all configurations of models and can yield errors.\n"
     ]
    },
    {
     "data": {
      "application/vnd.jupyter.widget-view+json": {
       "model_id": "95728a1f4cc546b9be2d9b9bd53d09e6",
       "version_major": 2,
       "version_minor": 0
      },
      "text/plain": [
       "Loading checkpoint shards:   0%|          | 0/2 [00:00<?, ?it/s]"
      ]
     },
     "metadata": {},
     "output_type": "display_data"
    },
    {
     "name": "stderr",
     "output_type": "stream",
     "text": [
      "You are using a model of type llava to instantiate a model of type llava_llama. This is not supported for all configurations of models and can yield errors.\n"
     ]
    },
    {
     "data": {
      "application/vnd.jupyter.widget-view+json": {
       "model_id": "46ec9359b2824c2787ead3cafa9d7d76",
       "version_major": 2,
       "version_minor": 0
      },
      "text/plain": [
       "Loading checkpoint shards:   0%|          | 0/2 [00:00<?, ?it/s]"
      ]
     },
     "metadata": {},
     "output_type": "display_data"
    },
    {
     "name": "stderr",
     "output_type": "stream",
     "text": [
      "You are using a model of type llava to instantiate a model of type llava_llama. This is not supported for all configurations of models and can yield errors.\n"
     ]
    },
    {
     "data": {
      "application/vnd.jupyter.widget-view+json": {
       "model_id": "d9b10f27fe414fa6ab7fcc41c1bfcd18",
       "version_major": 2,
       "version_minor": 0
      },
      "text/plain": [
       "Loading checkpoint shards:   0%|          | 0/2 [00:00<?, ?it/s]"
      ]
     },
     "metadata": {},
     "output_type": "display_data"
    },
    {
     "name": "stderr",
     "output_type": "stream",
     "text": [
      "You are using a model of type llava to instantiate a model of type llava_llama. This is not supported for all configurations of models and can yield errors.\n"
     ]
    },
    {
     "data": {
      "application/vnd.jupyter.widget-view+json": {
       "model_id": "7057f1cc6e334c61a9230a49f7b17b05",
       "version_major": 2,
       "version_minor": 0
      },
      "text/plain": [
       "Loading checkpoint shards:   0%|          | 0/2 [00:00<?, ?it/s]"
      ]
     },
     "metadata": {},
     "output_type": "display_data"
    },
    {
     "name": "stderr",
     "output_type": "stream",
     "text": [
      "You are using a model of type llava to instantiate a model of type llava_llama. This is not supported for all configurations of models and can yield errors.\n"
     ]
    },
    {
     "data": {
      "application/vnd.jupyter.widget-view+json": {
       "model_id": "8b7faa0c62f54db68d3855d02079f97a",
       "version_major": 2,
       "version_minor": 0
      },
      "text/plain": [
       "Loading checkpoint shards:   0%|          | 0/2 [00:00<?, ?it/s]"
      ]
     },
     "metadata": {},
     "output_type": "display_data"
    },
    {
     "name": "stderr",
     "output_type": "stream",
     "text": [
      "You are using a model of type llava to instantiate a model of type llava_llama. This is not supported for all configurations of models and can yield errors.\n"
     ]
    },
    {
     "data": {
      "application/vnd.jupyter.widget-view+json": {
       "model_id": "8f48a22e8f3f4ac1a2fc91ece5a3a7b2",
       "version_major": 2,
       "version_minor": 0
      },
      "text/plain": [
       "Loading checkpoint shards:   0%|          | 0/2 [00:00<?, ?it/s]"
      ]
     },
     "metadata": {},
     "output_type": "display_data"
    },
    {
     "name": "stderr",
     "output_type": "stream",
     "text": [
      "You are using a model of type llava to instantiate a model of type llava_llama. This is not supported for all configurations of models and can yield errors.\n"
     ]
    },
    {
     "data": {
      "application/vnd.jupyter.widget-view+json": {
       "model_id": "346fab56dfc34df69aa74afc2d879646",
       "version_major": 2,
       "version_minor": 0
      },
      "text/plain": [
       "Loading checkpoint shards:   0%|          | 0/2 [00:00<?, ?it/s]"
      ]
     },
     "metadata": {},
     "output_type": "display_data"
    },
    {
     "name": "stderr",
     "output_type": "stream",
     "text": [
      "You are using a model of type llava to instantiate a model of type llava_llama. This is not supported for all configurations of models and can yield errors.\n"
     ]
    },
    {
     "data": {
      "application/vnd.jupyter.widget-view+json": {
       "model_id": "f8bcafb7998540c78c94ce61078ed20f",
       "version_major": 2,
       "version_minor": 0
      },
      "text/plain": [
       "Loading checkpoint shards:   0%|          | 0/2 [00:00<?, ?it/s]"
      ]
     },
     "metadata": {},
     "output_type": "display_data"
    },
    {
     "name": "stderr",
     "output_type": "stream",
     "text": [
      "You are using a model of type llava to instantiate a model of type llava_llama. This is not supported for all configurations of models and can yield errors.\n"
     ]
    },
    {
     "data": {
      "application/vnd.jupyter.widget-view+json": {
       "model_id": "2e3a2de81e33416fbbbbe51ded18f081",
       "version_major": 2,
       "version_minor": 0
      },
      "text/plain": [
       "Loading checkpoint shards:   0%|          | 0/2 [00:00<?, ?it/s]"
      ]
     },
     "metadata": {},
     "output_type": "display_data"
    },
    {
     "name": "stderr",
     "output_type": "stream",
     "text": [
      "You are using a model of type llava to instantiate a model of type llava_llama. This is not supported for all configurations of models and can yield errors.\n"
     ]
    },
    {
     "data": {
      "application/vnd.jupyter.widget-view+json": {
       "model_id": "d51662a0e4b84ce9b8a504ab78617301",
       "version_major": 2,
       "version_minor": 0
      },
      "text/plain": [
       "Loading checkpoint shards:   0%|          | 0/2 [00:00<?, ?it/s]"
      ]
     },
     "metadata": {},
     "output_type": "display_data"
    },
    {
     "name": "stderr",
     "output_type": "stream",
     "text": [
      "You are using a model of type llava to instantiate a model of type llava_llama. This is not supported for all configurations of models and can yield errors.\n"
     ]
    },
    {
     "data": {
      "application/vnd.jupyter.widget-view+json": {
       "model_id": "60181fe863fd440db68204a73b7202b2",
       "version_major": 2,
       "version_minor": 0
      },
      "text/plain": [
       "Loading checkpoint shards:   0%|          | 0/2 [00:00<?, ?it/s]"
      ]
     },
     "metadata": {},
     "output_type": "display_data"
    },
    {
     "name": "stderr",
     "output_type": "stream",
     "text": [
      "You are using a model of type llava to instantiate a model of type llava_llama. This is not supported for all configurations of models and can yield errors.\n"
     ]
    },
    {
     "data": {
      "application/vnd.jupyter.widget-view+json": {
       "model_id": "e08df7bc64224017b48825b63bc87dd1",
       "version_major": 2,
       "version_minor": 0
      },
      "text/plain": [
       "Loading checkpoint shards:   0%|          | 0/2 [00:00<?, ?it/s]"
      ]
     },
     "metadata": {},
     "output_type": "display_data"
    },
    {
     "name": "stderr",
     "output_type": "stream",
     "text": [
      "You are using a model of type llava to instantiate a model of type llava_llama. This is not supported for all configurations of models and can yield errors.\n"
     ]
    },
    {
     "data": {
      "application/vnd.jupyter.widget-view+json": {
       "model_id": "3f68b3638fb94c6386a9b3371058b015",
       "version_major": 2,
       "version_minor": 0
      },
      "text/plain": [
       "Loading checkpoint shards:   0%|          | 0/2 [00:00<?, ?it/s]"
      ]
     },
     "metadata": {},
     "output_type": "display_data"
    },
    {
     "name": "stderr",
     "output_type": "stream",
     "text": [
      "You are using a model of type llava to instantiate a model of type llava_llama. This is not supported for all configurations of models and can yield errors.\n"
     ]
    },
    {
     "data": {
      "application/vnd.jupyter.widget-view+json": {
       "model_id": "b0fa90e6c9bf4990bd14f254e49ff740",
       "version_major": 2,
       "version_minor": 0
      },
      "text/plain": [
       "Loading checkpoint shards:   0%|          | 0/2 [00:00<?, ?it/s]"
      ]
     },
     "metadata": {},
     "output_type": "display_data"
    },
    {
     "name": "stderr",
     "output_type": "stream",
     "text": [
      "You are using a model of type llava to instantiate a model of type llava_llama. This is not supported for all configurations of models and can yield errors.\n"
     ]
    },
    {
     "data": {
      "application/vnd.jupyter.widget-view+json": {
       "model_id": "e486eb8e15944748b73f797273beed9c",
       "version_major": 2,
       "version_minor": 0
      },
      "text/plain": [
       "Loading checkpoint shards:   0%|          | 0/2 [00:00<?, ?it/s]"
      ]
     },
     "metadata": {},
     "output_type": "display_data"
    },
    {
     "data": {
      "application/vnd.jupyter.widget-view+json": {
       "model_id": "ce8b9734b1474095a48708c2b74b81b3",
       "version_major": 2,
       "version_minor": 0
      },
      "text/plain": [
       "Loading checkpoint shards:   0%|          | 0/2 [00:00<?, ?it/s]"
      ]
     },
     "metadata": {},
     "output_type": "display_data"
    },
    {
     "data": {
      "application/vnd.jupyter.widget-view+json": {
       "model_id": "7d4b163f172d4d289c5db6c1b7a8a240",
       "version_major": 2,
       "version_minor": 0
      },
      "text/plain": [
       "Loading checkpoint shards:   0%|          | 0/2 [00:00<?, ?it/s]"
      ]
     },
     "metadata": {},
     "output_type": "display_data"
    },
    {
     "data": {
      "application/vnd.jupyter.widget-view+json": {
       "model_id": "9bae38c9bd4b4fec8b907978fe084023",
       "version_major": 2,
       "version_minor": 0
      },
      "text/plain": [
       "Loading checkpoint shards:   0%|          | 0/2 [00:00<?, ?it/s]"
      ]
     },
     "metadata": {},
     "output_type": "display_data"
    },
    {
     "data": {
      "application/vnd.jupyter.widget-view+json": {
       "model_id": "89b9942f28e94556950b3ae906a776c3",
       "version_major": 2,
       "version_minor": 0
      },
      "text/plain": [
       "Loading checkpoint shards:   0%|          | 0/2 [00:00<?, ?it/s]"
      ]
     },
     "metadata": {},
     "output_type": "display_data"
    },
    {
     "data": {
      "application/vnd.jupyter.widget-view+json": {
       "model_id": "566891d5a3734cee8cf2f10a6b7a3fd4",
       "version_major": 2,
       "version_minor": 0
      },
      "text/plain": [
       "Loading checkpoint shards:   0%|          | 0/2 [00:00<?, ?it/s]"
      ]
     },
     "metadata": {},
     "output_type": "display_data"
    },
    {
     "data": {
      "application/vnd.jupyter.widget-view+json": {
       "model_id": "35c5d6f909a44763ac8dd731050d89b5",
       "version_major": 2,
       "version_minor": 0
      },
      "text/plain": [
       "Loading checkpoint shards:   0%|          | 0/2 [00:00<?, ?it/s]"
      ]
     },
     "metadata": {},
     "output_type": "display_data"
    },
    {
     "data": {
      "application/vnd.jupyter.widget-view+json": {
       "model_id": "a3f86bdd327146ebb74c9d993315bd06",
       "version_major": 2,
       "version_minor": 0
      },
      "text/plain": [
       "Loading checkpoint shards:   0%|          | 0/2 [00:00<?, ?it/s]"
      ]
     },
     "metadata": {},
     "output_type": "display_data"
    },
    {
     "data": {
      "application/vnd.jupyter.widget-view+json": {
       "model_id": "608ce6fd3552472cac807d266ff0bf53",
       "version_major": 2,
       "version_minor": 0
      },
      "text/plain": [
       "Loading checkpoint shards:   0%|          | 0/2 [00:00<?, ?it/s]"
      ]
     },
     "metadata": {},
     "output_type": "display_data"
    },
    {
     "data": {
      "application/vnd.jupyter.widget-view+json": {
       "model_id": "cb79398381fc4b61a172339889bcb0d3",
       "version_major": 2,
       "version_minor": 0
      },
      "text/plain": [
       "Loading checkpoint shards:   0%|          | 0/2 [00:00<?, ?it/s]"
      ]
     },
     "metadata": {},
     "output_type": "display_data"
    },
    {
     "data": {
      "application/vnd.jupyter.widget-view+json": {
       "model_id": "09cb785db8cb4d01a028feda65d3b848",
       "version_major": 2,
       "version_minor": 0
      },
      "text/plain": [
       "Loading checkpoint shards:   0%|          | 0/2 [00:00<?, ?it/s]"
      ]
     },
     "metadata": {},
     "output_type": "display_data"
    },
    {
     "data": {
      "application/vnd.jupyter.widget-view+json": {
       "model_id": "803ffb1f4bd24f6cbac86402c6c78287",
       "version_major": 2,
       "version_minor": 0
      },
      "text/plain": [
       "Loading checkpoint shards:   0%|          | 0/2 [00:00<?, ?it/s]"
      ]
     },
     "metadata": {},
     "output_type": "display_data"
    },
    {
     "data": {
      "application/vnd.jupyter.widget-view+json": {
       "model_id": "5dae1994722b4da5b86ab8b8e256ea1f",
       "version_major": 2,
       "version_minor": 0
      },
      "text/plain": [
       "Loading checkpoint shards:   0%|          | 0/2 [00:00<?, ?it/s]"
      ]
     },
     "metadata": {},
     "output_type": "display_data"
    },
    {
     "data": {
      "application/vnd.jupyter.widget-view+json": {
       "model_id": "2cf89a81d1a842f09adf712ef91a0748",
       "version_major": 2,
       "version_minor": 0
      },
      "text/plain": [
       "Loading checkpoint shards:   0%|          | 0/2 [00:00<?, ?it/s]"
      ]
     },
     "metadata": {},
     "output_type": "display_data"
    },
    {
     "data": {
      "application/vnd.jupyter.widget-view+json": {
       "model_id": "b591808de9d44345b7b953759119c244",
       "version_major": 2,
       "version_minor": 0
      },
      "text/plain": [
       "Loading checkpoint shards:   0%|          | 0/2 [00:00<?, ?it/s]"
      ]
     },
     "metadata": {},
     "output_type": "display_data"
    },
    {
     "data": {
      "application/vnd.jupyter.widget-view+json": {
       "model_id": "44e099594b5e419fb8d7b1086d2eb22a",
       "version_major": 2,
       "version_minor": 0
      },
      "text/plain": [
       "Loading checkpoint shards:   0%|          | 0/2 [00:00<?, ?it/s]"
      ]
     },
     "metadata": {},
     "output_type": "display_data"
    },
    {
     "data": {
      "application/vnd.jupyter.widget-view+json": {
       "model_id": "88ebf83e8d714e0d9a34996d03b547e3",
       "version_major": 2,
       "version_minor": 0
      },
      "text/plain": [
       "Loading checkpoint shards:   0%|          | 0/2 [00:00<?, ?it/s]"
      ]
     },
     "metadata": {},
     "output_type": "display_data"
    },
    {
     "data": {
      "application/vnd.jupyter.widget-view+json": {
       "model_id": "a5952c2446a2457c98984953aecb95a0",
       "version_major": 2,
       "version_minor": 0
      },
      "text/plain": [
       "Loading checkpoint shards:   0%|          | 0/2 [00:00<?, ?it/s]"
      ]
     },
     "metadata": {},
     "output_type": "display_data"
    },
    {
     "data": {
      "application/vnd.jupyter.widget-view+json": {
       "model_id": "136404ffb88540b49a8c50e19571e426",
       "version_major": 2,
       "version_minor": 0
      },
      "text/plain": [
       "Loading checkpoint shards:   0%|          | 0/2 [00:00<?, ?it/s]"
      ]
     },
     "metadata": {},
     "output_type": "display_data"
    },
    {
     "data": {
      "application/vnd.jupyter.widget-view+json": {
       "model_id": "08e83921f72441419bb00c5450a78486",
       "version_major": 2,
       "version_minor": 0
      },
      "text/plain": [
       "Loading checkpoint shards:   0%|          | 0/2 [00:00<?, ?it/s]"
      ]
     },
     "metadata": {},
     "output_type": "display_data"
    },
    {
     "data": {
      "application/vnd.jupyter.widget-view+json": {
       "model_id": "1cbef120c6a6409e8ff88a135cac3944",
       "version_major": 2,
       "version_minor": 0
      },
      "text/plain": [
       "Loading checkpoint shards:   0%|          | 0/2 [00:00<?, ?it/s]"
      ]
     },
     "metadata": {},
     "output_type": "display_data"
    },
    {
     "data": {
      "application/vnd.jupyter.widget-view+json": {
       "model_id": "a4601036781e4abaa7a93a59be55c6ff",
       "version_major": 2,
       "version_minor": 0
      },
      "text/plain": [
       "Loading checkpoint shards:   0%|          | 0/2 [00:00<?, ?it/s]"
      ]
     },
     "metadata": {},
     "output_type": "display_data"
    },
    {
     "data": {
      "application/vnd.jupyter.widget-view+json": {
       "model_id": "5bdf87b5633346e790b1258a03852d47",
       "version_major": 2,
       "version_minor": 0
      },
      "text/plain": [
       "Loading checkpoint shards:   0%|          | 0/2 [00:00<?, ?it/s]"
      ]
     },
     "metadata": {},
     "output_type": "display_data"
    },
    {
     "data": {
      "application/vnd.jupyter.widget-view+json": {
       "model_id": "59fa44165ae140a097d83541372d2513",
       "version_major": 2,
       "version_minor": 0
      },
      "text/plain": [
       "Loading checkpoint shards:   0%|          | 0/2 [00:00<?, ?it/s]"
      ]
     },
     "metadata": {},
     "output_type": "display_data"
    },
    {
     "data": {
      "application/vnd.jupyter.widget-view+json": {
       "model_id": "099d902b25e94cb588e0141f14bc1716",
       "version_major": 2,
       "version_minor": 0
      },
      "text/plain": [
       "Loading checkpoint shards:   0%|          | 0/2 [00:00<?, ?it/s]"
      ]
     },
     "metadata": {},
     "output_type": "display_data"
    },
    {
     "data": {
      "application/vnd.jupyter.widget-view+json": {
       "model_id": "bceb4a550a8c480b8b63a5bb33ab98fd",
       "version_major": 2,
       "version_minor": 0
      },
      "text/plain": [
       "Loading checkpoint shards:   0%|          | 0/2 [00:00<?, ?it/s]"
      ]
     },
     "metadata": {},
     "output_type": "display_data"
    },
    {
     "data": {
      "application/vnd.jupyter.widget-view+json": {
       "model_id": "74427e3f08ee4768b33bbdd1e3ca109c",
       "version_major": 2,
       "version_minor": 0
      },
      "text/plain": [
       "Loading checkpoint shards:   0%|          | 0/2 [00:00<?, ?it/s]"
      ]
     },
     "metadata": {},
     "output_type": "display_data"
    },
    {
     "data": {
      "application/vnd.jupyter.widget-view+json": {
       "model_id": "5d2936f50227427da8ee4c1618c373bc",
       "version_major": 2,
       "version_minor": 0
      },
      "text/plain": [
       "Loading checkpoint shards:   0%|          | 0/2 [00:00<?, ?it/s]"
      ]
     },
     "metadata": {},
     "output_type": "display_data"
    },
    {
     "data": {
      "application/vnd.jupyter.widget-view+json": {
       "model_id": "6081d076187948a08dbce6f258bfc20f",
       "version_major": 2,
       "version_minor": 0
      },
      "text/plain": [
       "Loading checkpoint shards:   0%|          | 0/2 [00:00<?, ?it/s]"
      ]
     },
     "metadata": {},
     "output_type": "display_data"
    },
    {
     "data": {
      "application/vnd.jupyter.widget-view+json": {
       "model_id": "39a5dac591ef4d7785b830b77317ad8d",
       "version_major": 2,
       "version_minor": 0
      },
      "text/plain": [
       "Loading checkpoint shards:   0%|          | 0/2 [00:00<?, ?it/s]"
      ]
     },
     "metadata": {},
     "output_type": "display_data"
    },
    {
     "data": {
      "application/vnd.jupyter.widget-view+json": {
       "model_id": "44b4dfd877f8443ab0d584dcba2568db",
       "version_major": 2,
       "version_minor": 0
      },
      "text/plain": [
       "Loading checkpoint shards:   0%|          | 0/2 [00:00<?, ?it/s]"
      ]
     },
     "metadata": {},
     "output_type": "display_data"
    },
    {
     "data": {
      "application/vnd.jupyter.widget-view+json": {
       "model_id": "e0f1fc2913e64483a6af45e787dd5c55",
       "version_major": 2,
       "version_minor": 0
      },
      "text/plain": [
       "Loading checkpoint shards:   0%|          | 0/2 [00:00<?, ?it/s]"
      ]
     },
     "metadata": {},
     "output_type": "display_data"
    },
    {
     "data": {
      "application/vnd.jupyter.widget-view+json": {
       "model_id": "3501de8cf576466cb2e273cb1c191b04",
       "version_major": 2,
       "version_minor": 0
      },
      "text/plain": [
       "Loading checkpoint shards:   0%|          | 0/2 [00:00<?, ?it/s]"
      ]
     },
     "metadata": {},
     "output_type": "display_data"
    },
    {
     "data": {
      "application/vnd.jupyter.widget-view+json": {
       "model_id": "8220e6eb3ea948a89c07f3ff5857b9b3",
       "version_major": 2,
       "version_minor": 0
      },
      "text/plain": [
       "Loading checkpoint shards:   0%|          | 0/2 [00:00<?, ?it/s]"
      ]
     },
     "metadata": {},
     "output_type": "display_data"
    },
    {
     "data": {
      "application/vnd.jupyter.widget-view+json": {
       "model_id": "04e7ef5f900f4681bc2e0b2f3bdebf09",
       "version_major": 2,
       "version_minor": 0
      },
      "text/plain": [
       "Loading checkpoint shards:   0%|          | 0/2 [00:00<?, ?it/s]"
      ]
     },
     "metadata": {},
     "output_type": "display_data"
    },
    {
     "data": {
      "application/vnd.jupyter.widget-view+json": {
       "model_id": "1237281a4d054c6aa1bb6053f7dd5889",
       "version_major": 2,
       "version_minor": 0
      },
      "text/plain": [
       "Loading checkpoint shards:   0%|          | 0/2 [00:00<?, ?it/s]"
      ]
     },
     "metadata": {},
     "output_type": "display_data"
    },
    {
     "data": {
      "application/vnd.jupyter.widget-view+json": {
       "model_id": "ca77d48f24224c12b3a382d997c0db01",
       "version_major": 2,
       "version_minor": 0
      },
      "text/plain": [
       "Loading checkpoint shards:   0%|          | 0/2 [00:00<?, ?it/s]"
      ]
     },
     "metadata": {},
     "output_type": "display_data"
    },
    {
     "data": {
      "application/vnd.jupyter.widget-view+json": {
       "model_id": "7a1999b2693a45ea950c03ec4ec3af2c",
       "version_major": 2,
       "version_minor": 0
      },
      "text/plain": [
       "Loading checkpoint shards:   0%|          | 0/2 [00:00<?, ?it/s]"
      ]
     },
     "metadata": {},
     "output_type": "display_data"
    },
    {
     "data": {
      "application/vnd.jupyter.widget-view+json": {
       "model_id": "1643d3b529d945f29f05cd6e5a28b045",
       "version_major": 2,
       "version_minor": 0
      },
      "text/plain": [
       "Loading checkpoint shards:   0%|          | 0/2 [00:00<?, ?it/s]"
      ]
     },
     "metadata": {},
     "output_type": "display_data"
    },
    {
     "data": {
      "application/vnd.jupyter.widget-view+json": {
       "model_id": "ffa8cc01c8f24213874b1f3b02f71891",
       "version_major": 2,
       "version_minor": 0
      },
      "text/plain": [
       "Loading checkpoint shards:   0%|          | 0/2 [00:00<?, ?it/s]"
      ]
     },
     "metadata": {},
     "output_type": "display_data"
    },
    {
     "data": {
      "application/vnd.jupyter.widget-view+json": {
       "model_id": "b9c9094608dc41c590d0866801f9ba57",
       "version_major": 2,
       "version_minor": 0
      },
      "text/plain": [
       "Loading checkpoint shards:   0%|          | 0/2 [00:00<?, ?it/s]"
      ]
     },
     "metadata": {},
     "output_type": "display_data"
    },
    {
     "data": {
      "application/vnd.jupyter.widget-view+json": {
       "model_id": "b7e86a0fb4c44859a5614a5daa0e4740",
       "version_major": 2,
       "version_minor": 0
      },
      "text/plain": [
       "Loading checkpoint shards:   0%|          | 0/2 [00:00<?, ?it/s]"
      ]
     },
     "metadata": {},
     "output_type": "display_data"
    },
    {
     "data": {
      "application/vnd.jupyter.widget-view+json": {
       "model_id": "29ee4837d6ab40029678297c051fc732",
       "version_major": 2,
       "version_minor": 0
      },
      "text/plain": [
       "Loading checkpoint shards:   0%|          | 0/2 [00:00<?, ?it/s]"
      ]
     },
     "metadata": {},
     "output_type": "display_data"
    },
    {
     "data": {
      "application/vnd.jupyter.widget-view+json": {
       "model_id": "1874a3b4adbf442ea23a73c1c143fd04",
       "version_major": 2,
       "version_minor": 0
      },
      "text/plain": [
       "Loading checkpoint shards:   0%|          | 0/2 [00:00<?, ?it/s]"
      ]
     },
     "metadata": {},
     "output_type": "display_data"
    },
    {
     "data": {
      "application/vnd.jupyter.widget-view+json": {
       "model_id": "43612f03abf04a46b4c36feac702a4dd",
       "version_major": 2,
       "version_minor": 0
      },
      "text/plain": [
       "Loading checkpoint shards:   0%|          | 0/2 [00:00<?, ?it/s]"
      ]
     },
     "metadata": {},
     "output_type": "display_data"
    },
    {
     "data": {
      "application/vnd.jupyter.widget-view+json": {
       "model_id": "b21555020125430eaebbc54a19343236",
       "version_major": 2,
       "version_minor": 0
      },
      "text/plain": [
       "Loading checkpoint shards:   0%|          | 0/2 [00:00<?, ?it/s]"
      ]
     },
     "metadata": {},
     "output_type": "display_data"
    },
    {
     "data": {
      "application/vnd.jupyter.widget-view+json": {
       "model_id": "1778f0a3176b4bddadeb9fe87514c2c8",
       "version_major": 2,
       "version_minor": 0
      },
      "text/plain": [
       "Loading checkpoint shards:   0%|          | 0/2 [00:00<?, ?it/s]"
      ]
     },
     "metadata": {},
     "output_type": "display_data"
    },
    {
     "data": {
      "application/vnd.jupyter.widget-view+json": {
       "model_id": "fbf85a150f7a4182bb280667960a46a9",
       "version_major": 2,
       "version_minor": 0
      },
      "text/plain": [
       "Loading checkpoint shards:   0%|          | 0/2 [00:00<?, ?it/s]"
      ]
     },
     "metadata": {},
     "output_type": "display_data"
    },
    {
     "data": {
      "application/vnd.jupyter.widget-view+json": {
       "model_id": "66aa04cb0adc4619b38dd9189e27ddbd",
       "version_major": 2,
       "version_minor": 0
      },
      "text/plain": [
       "Loading checkpoint shards:   0%|          | 0/2 [00:00<?, ?it/s]"
      ]
     },
     "metadata": {},
     "output_type": "display_data"
    },
    {
     "data": {
      "application/vnd.jupyter.widget-view+json": {
       "model_id": "8544b1a1fe354c928e7bc599ad901b35",
       "version_major": 2,
       "version_minor": 0
      },
      "text/plain": [
       "Loading checkpoint shards:   0%|          | 0/2 [00:00<?, ?it/s]"
      ]
     },
     "metadata": {},
     "output_type": "display_data"
    },
    {
     "data": {
      "application/vnd.jupyter.widget-view+json": {
       "model_id": "76b3649efe8f46cd9df834980f8d59ff",
       "version_major": 2,
       "version_minor": 0
      },
      "text/plain": [
       "Loading checkpoint shards:   0%|          | 0/2 [00:00<?, ?it/s]"
      ]
     },
     "metadata": {},
     "output_type": "display_data"
    },
    {
     "data": {
      "application/vnd.jupyter.widget-view+json": {
       "model_id": "467b58c3bce54566b286150f5eea2021",
       "version_major": 2,
       "version_minor": 0
      },
      "text/plain": [
       "Loading checkpoint shards:   0%|          | 0/2 [00:00<?, ?it/s]"
      ]
     },
     "metadata": {},
     "output_type": "display_data"
    },
    {
     "data": {
      "application/vnd.jupyter.widget-view+json": {
       "model_id": "897343150cf648aba46c6d62c04c7a7a",
       "version_major": 2,
       "version_minor": 0
      },
      "text/plain": [
       "Loading checkpoint shards:   0%|          | 0/2 [00:00<?, ?it/s]"
      ]
     },
     "metadata": {},
     "output_type": "display_data"
    },
    {
     "data": {
      "application/vnd.jupyter.widget-view+json": {
       "model_id": "cb22370de0b14ca3a30476ccdfc346ff",
       "version_major": 2,
       "version_minor": 0
      },
      "text/plain": [
       "Loading checkpoint shards:   0%|          | 0/2 [00:00<?, ?it/s]"
      ]
     },
     "metadata": {},
     "output_type": "display_data"
    },
    {
     "data": {
      "application/vnd.jupyter.widget-view+json": {
       "model_id": "12eea64630124d02b1548ed249dd0a8f",
       "version_major": 2,
       "version_minor": 0
      },
      "text/plain": [
       "Loading checkpoint shards:   0%|          | 0/2 [00:00<?, ?it/s]"
      ]
     },
     "metadata": {},
     "output_type": "display_data"
    },
    {
     "data": {
      "application/vnd.jupyter.widget-view+json": {
       "model_id": "ec6b7284e1ca42c28cfe6f847dcbbd7a",
       "version_major": 2,
       "version_minor": 0
      },
      "text/plain": [
       "Loading checkpoint shards:   0%|          | 0/2 [00:00<?, ?it/s]"
      ]
     },
     "metadata": {},
     "output_type": "display_data"
    },
    {
     "name": "stdout",
     "output_type": "stream",
     "text": [
      "{'gt': [0.4782608695652174, 0.32608695652173914, 0.4782608695652174, 0.21428571428571427, 0.8181818181818182, 0.4782608695652174, 0.21739130434782608, 0.6818181818181818, 0.6842105263157895, 0.4782608695652174, 0.45454545454545453, 0.5625, 0.38461538461538464, 0.5789473684210527, 0.5454545454545454, 0.6666666666666666, 0.45454545454545453, 0.4782608695652174, 0.6923076923076923, 0.5454545454545454, 0.6875, 0.47368421052631576, 0.5454545454545454, 0.6956521739130435, 0.8, 0.8333333333333334, 0.8, 0.5789473684210527, 0.5652173913043478, 0.6875, 0.47368421052631576, 0.5625, 0.45454545454545453, 0.26785714285714285, 0.8, 0.8461538461538461, 0.3157894736842105, 0.21739130434782608, 0.32608695652173914, 0.4782608695652174, 0.5555555555555556, 0.32142857142857145, 0.45454545454545453, 0.32142857142857145, 0.3157894736842105, 0.2631578947368421, 0.5625, 0.21739130434782608, 0.391304347826087, 0.32608695652173914, 0.8421052631578947, 0.46153846153846156, 0.32608695652173914, 0.46875, 0.45454545454545453], 'LLaVA': {'parameters': None, 'raw_answers': ['Yes, I can identify the two sections. The longer section has the size of 1.0, and the smaller section is approximately 0.3-0.4 in length.', 'Yes, I can identify the two sections. The longer section has the size of 1.0, and the smaller section is approximately 0.3 times as long as the longer section.', 'Yes, I can identify the two sections. The longer section has the size of 1.0, and the smaller section is approximately 0.3-0.4 in length.', 'Yes, I can identify the two sections. The longer section has the size of 1.0, and the smaller section is approximately 0.1-0.2 in length.', 'Yes, I can identify the two sections. The longer section has the size of 1.0, and the smaller section is approximately 0.3 times as long as the longer section.', 'Yes, I can identify the two sections. The longer section has the size of 1.0, and the smaller section is approximately 0.3 times as long as the longer section.', 'Yes, I can identify the two sections. The longer section has the size of 1.0, and the smaller section is approximately 0.3 times as long as the longer section.', 'Yes, I can identify the two sections. The longer section has the size of 1.0, and the smaller section is approximately 0.3 times as long as the longer section.', 'Yes, I can identify the two sections. The longer section has the size of 1.0, and the smaller section is approximately 0.3 times as long as the longer section.', 'Yes, I can identify the two sections. The longer section has the size of 1.0, and the smaller section is approximately 0.3 times as long as the longer section.', 'Yes, I can identify the two sections. The longer section has the size of 1.0, and the smaller section is approximately 0.3 times as long as the longer section.', 'Yes, I can identify the two sections. The longer section has the size of 1.0, and the smaller section is approximately 0.3-0.4 in length.', 'Yes, I can identify the two sections. The longer section has the size of 1.0, and the smaller section is approximately 0.3-0.4 in length.', 'Yes, I can identify the two sections. The longer section has the size of 1.0, and the smaller section is approximately 0.3-0.4 in length.', 'Yes, I can identify the two sections. The longer section has the size of 1.0, and the smaller section is approximately 0.3 times as long as the longer section.', 'Yes, I can identify the two sections. The longer section has the size of 1.0, and the smaller section is approximately 0.2-0.3 in length.', 'Yes, I can identify the two sections. The longer section has the size of 1.0, and the smaller section is approximately 0.3 times as long as the longer section.', 'Yes, I can identify the two sections. The longer section has the size of 1.0, and the smaller section is approximately 0.3-0.4 in length.', 'Yes, I can identify the two sections. The longer section has the size of 1.0, and the smaller section is approximately 0.3 times as long as the longer section.', 'Yes, I can identify the two sections. The longer section has the size of 1.0, and the smaller section is approximately 0.3 times as long as the longer section.', 'Yes, I can identify the two sections. The longer section has the size of 1.0, and the smaller section is approximately 0.3 times as long as the longer section.', 'Yes, I can identify the two sections. The longer section has the size of 1.0, and the smaller section is approximately 0.3 times as long as the longer section.', 'Yes, I can identify the two sections. The longer section has the size of 1.0, and the smaller section is approximately 0.3-0.4 in length.', 'Yes, I can identify the two sections. The longer section has the size of 1.0, and the smaller section is approximately 0.3-0.4 in length.', 'Yes, I can identify the two sections. The longer section has the size of 1.0, and the smaller section is approximately 0.3 times as long as the longer section.', 'Yes, I can identify the two sections. The longer section has the size of 1.0, and the smaller section is approximately 0.3-0.4 in length.', 'Yes, I can identify the two sections. The longer section has the size of 1.0, and the smaller section is approximately 0.3 times as long as the longer section.', 'Yes, I can identify the two sections. The longer section has the size of 1.0, and the smaller section is approximately 0.3-0.4 in length.', 'Yes, I can identify the two sections. The longer section has the size of 1.0, and the smaller section is approximately 0.3-0.4 in length.', 'Yes, I can identify the two sections. The longer section has the size of 1.0, and the smaller section is approximately 0.3 times as long as the longer section.', 'Yes, I can identify the two sections. The longer section has the size of 1.0, and the smaller section is approximately 0.3 times as long as the longer section.', 'Yes, I can identify the two sections. The longer section has the size of 1.0, and the smaller section is approximately 0.3 times as long as the longer section.', 'Yes, I can identify the two sections. The longer section has the size of 1.0, and the smaller section is approximately 0.3 times as long as the longer section.', 'Yes, I can identify the two sections. The longer section has the size of 1.0, and the smaller section is approximately 0.3 times as long as the longer section.', 'Yes, I can identify the two sections. The longer section has the size of 1.0, and the smaller section is approximately 0.3 times as long as the longer section.', 'Yes, I can identify the two sections. The longer section has the size of 1.0, and the smaller section is approximately 0.3 times as long as the longer section.', 'Yes, I can identify the two sections. The longer section has the size of 1.0, and the smaller section is approximately 0.3-0.4 in length.', 'Yes, I can identify the two sections. The longer section has the size of 1.0, and the smaller section is approximately 0.3 times as long as the longer section.', 'Yes, I can identify the two sections. The longer section has the size of 1.0, and the smaller section is approximately 0.3 times as long as the longer section.', 'Yes, I can identify the two sections. The longer section has the size of 1.0, and the smaller section is approximately 0.3 times as long as the longer section.', 'Yes, I can identify the two sections. The longer section has the size of 1.0, and the smaller section is approximately 0.3 times as long as the longer section.', 'Yes, I can identify the two sections. The longer section has the size of 1.0, and the smaller section is approximately 0.3-0.4 in length.', 'Yes, I can identify the two sections. The longer section has the size of 1.0, and the smaller section is approximately 0.3 times as long as the longer section.', 'Yes, I can identify the two sections. The longer section has the size of 1.0, and the smaller section is approximately 0.3 times as long as the longer section.', 'Yes, I can identify the two sections. The longer section has the size of 1.0, and the smaller section is approximately 0.3 times as long as the longer section.', 'Yes, I can identify the two sections. The longer section has the size of 1.0, and the smaller section is approximately 0.3 times as long as the longer section.', 'Yes, I can identify the two sections. The longer section has the size of 1.0, and the smaller section is approximately 0.3 times as long as the longer section.', 'Yes, I can identify the two sections. The longer section has the size of 1.0, and the smaller section is approximately 0.3 times as long as the longer section.', 'Yes, I can identify the two sections. The longer section has the size of 1.0, and the smaller section is approximately 0.3 times as long as the longer section.', 'Yes, I can identify the two sections. The longer section has the size of 1.0, and the smaller section is approximately 0.3 times as long as the longer section.', 'Yes, I can identify the two sections. The longer section has the size of 1.0, and the smaller section is approximately 0.3 times as long as the longer section.', 'Yes, I can identify the two sections. The longer section has the size of 1.0, and the smaller section is approximately 0.3 times as long as the longer section.', 'Yes, I can identify the two sections. The longer section has the size of 1.0, and the smaller section is approximately 0.3 times as long as the longer section.', 'Yes, I can identify the two sections. The longer section has the size of 1.0, and the smaller section is approximately 0.3 times as long as the longer section.', 'Yes, I can identify the two sections. The longer section has the size of 1.0, and the smaller section is approximately 0.3-0.4 in length.'], 'parsed_answers': [[0.3, 0.4], [0.3], [0.3, 0.4], [0.1, 0.2], [0.3], [0.3], [0.3], [0.3], [0.3], [0.3], [0.3], [0.3, 0.4], [0.3, 0.4], [0.3, 0.4], [0.3], [0.2, 0.3], [0.3], [0.3, 0.4], [0.3], [0.3], [0.3], [0.3], [0.3, 0.4], [0.3, 0.4], [0.3], [0.3, 0.4], [0.3], [0.3, 0.4], [0.3, 0.4], [0.3], [0.3], [0.3], [0.3], [0.3], [0.3], [0.3], [0.3, 0.4], [0.3], [0.3], [0.3], [0.3], [0.3, 0.4], [0.3], [0.3], [0.3], [0.3], [0.3], [0.3], [0.3], [0.3], [0.3], [0.3], [0.3], [0.3], [0.3, 0.4]], 'mean': 0.2127272727272728, 'std': 0.13625450178323775, 'mse': 0.1370652953771802, 'mlae': 4.942511144977692, 'times': [21077.815771102905, 8022.708177566528, 7574.320077896118, 7448.622703552246, 7828.772068023682, 7636.315584182739, 7467.629671096802, 7612.50901222229, 7826.0180950164795, 7231.209278106689, 7577.268123626709, 7223.653078079224, 7155.384540557861, 7156.430244445801, 7184.53049659729, 7308.341264724731, 7266.736030578613, 7254.111528396606, 7347.3687171936035, 7281.54444694519, 7336.264371871948, 7420.057058334351, 7193.005800247192, 7269.0019607543945, 7251.523494720459, 7178.51996421814, 7301.0594844818115, 7387.002468109131, 7194.813013076782, 7279.512405395508, 7152.369737625122, 7271.413087844849, 7498.310089111328, 7574.78404045105, 7179.741621017456, 7244.092702865601, 7352.358818054199, 7236.135959625244, 7271.641731262207, 7736.544370651245, 7289.978742599487, 7213.054895401001, 7324.149131774902, 7286.596775054932, 7172.604084014893, 7490.761756896973, 7377.426862716675, 7234.871387481689, 7166.712045669556, 7216.17579460144, 7284.938097000122, 7256.7033767700195, 7348.25325012207, 7419.5873737335205, 7372.9424476623535], 'forced_repetitions': 0}, 'CustomLLaVA': {'parameters': None, 'raw_answers': ['0.391304347826087', '0.39285714285714285', '0.375', '0.5769230769230769', '0.8421052631578947', '0.5652173913043478', '0.3157894736842105', '0.6842105263157895', '0.5769230769230769', '0.375', '0.3157894736842105', '0.5555555555555556', '0.5652173913043478', '0.6842105263157895', '0.39473684210526316', '0.391304347826087', '0.6923076923076923', '0.8125', '0.391304347826087', '0.3157894736842105', '0.2631578947368421', '0.5454545454545454', '0.8125', '0.8125', '0.375', '0.8125', '0.6842105263157895', '0.6842105263157895', '0.6842105263157895', '0.39473684210526316', '0.3157894736842105', '0.39473684210526316', '0.3157894736842105', '0.39285714285714285', '0.8125', '0.5652173913043478', '0.8125', '0.39473684210526316', '0.8125', '0.375', '0.5769230769230769', '0.3157894736842105', '0.3125', '0.8125', '0.6842105263157895', '0.8125', '0.391304347826087', '0.391304347826087', '0.46153846153846156', '0.6842105263157895', '0.8333333333333334', '0.6842105263157895', '0.391304347826087', '0.3157894736842105', '0.5454545454545454'], 'parsed_answers': [[0.391304347826087], [0.39285714285714285], [0.375], [0.5769230769230769], [0.8421052631578947], [0.5652173913043478], [0.3157894736842105], [0.6842105263157895], [0.5769230769230769], [0.375], [0.3157894736842105], [0.5555555555555556], [0.5652173913043478], [0.6842105263157895], [0.39473684210526316], [0.391304347826087], [0.6923076923076923], [0.8125], [0.391304347826087], [0.3157894736842105], [0.2631578947368421], [0.5454545454545454], [0.8125], [0.8125], [0.375], [0.8125], [0.6842105263157895], [0.6842105263157895], [0.6842105263157895], [0.39473684210526316], [0.3157894736842105], [0.39473684210526316], [0.3157894736842105], [0.39285714285714285], [0.8125], [0.5652173913043478], [0.8125], [0.39473684210526316], [0.8125], [0.375], [0.5769230769230769], [0.3157894736842105], [0.3125], [0.8125], [0.6842105263157895], [0.8125], [0.391304347826087], [0.391304347826087], [0.46153846153846156], [0.6842105263157895], [0.8333333333333334], [0.6842105263157895], [0.391304347826087], [0.3157894736842105], [0.5454545454545454]], 'mean': 0.5397641266114326, 'std': 0.18572716712392295, 'mse': 0.05296413392290597, 'mlae': 4.194204768565232, 'times': [9457.006216049194, 9383.93759727478, 8658.685207366943, 8710.487604141235, 9810.993194580078, 8829.85258102417, 9066.052913665771, 8663.082838058472, 8745.50461769104, 8589.770078659058, 9806.317329406738, 8922.904968261719, 9314.568996429443, 8778.455972671509, 8875.684976577759, 8757.202625274658, 9044.72041130066, 8724.173069000244, 8688.746452331543, 8811.713218688965, 8811.857461929321, 9293.021202087402, 9034.946918487549, 8507.06934928894, 8523.572206497192, 8625.977993011475, 8914.250135421753, 8891.775846481323, 9031.167268753052, 8762.26544380188, 9081.752300262451, 8999.63641166687, 8962.72349357605, 8841.668128967285, 8879.12106513977, 9000.359296798706, 8424.41201210022, 8914.268970489502, 8468.023300170898, 8607.98716545105, 8875.70595741272, 8805.156707763672, 8824.005365371704, 8560.688734054565, 8812.257766723633, 8653.566598892212, 8780.737400054932, 8776.100873947144, 8979.715824127197, 8848.856449127197, 9406.882524490356, 9536.761045455933, 9156.402111053467, 9554.362535476685, 9080.726623535156], 'forced_repetitions': 0}}\n"
     ]
    }
   ],
   "source": [
    "import sys\n",
    "sys.path.append('../')\n",
    "import LLMP as L\n",
    "import torch\n",
    "torch.torch.cuda.empty_cache()\n",
    "\n",
    "query = \"What do you see? The chart with a white background consists of multiple bars with a black border. There are two sections with a tiny \\\n",
    "         black mark (looks like a dot) inside. Can you identify where the two sections are located? If so, proceed as follows: Say the longer \\\n",
    "         section has the size of 1.0. Please estimate the ratio of length of the smaller section to the longer section. It does not have to be \\\n",
    "         prefectly precise; give me a rough estimation. The value should be between 0 and 1.0. Please respond with just the range (Sample answer: 0.3-0.4)\"\n",
    "images = [L.GPImage.figure4('type3') for i in range(55)]\n",
    "models = [\"LLaVA\", \"CustomLLaVA\"]\n",
    "\n",
    "results = L.Evaluator.run(images, query, models)\n",
    "print(results)"
   ]
  },
  {
   "cell_type": "code",
   "execution_count": 2,
   "id": "c553f00e-a4a5-49b8-b3d5-27c6b4b55059",
   "metadata": {},
   "outputs": [
    {
     "data": {
      "text/plain": [
       "{'gt': [0.4782608695652174,\n",
       "  0.32608695652173914,\n",
       "  0.4782608695652174,\n",
       "  0.21428571428571427,\n",
       "  0.8181818181818182,\n",
       "  0.4782608695652174,\n",
       "  0.21739130434782608,\n",
       "  0.6818181818181818,\n",
       "  0.6842105263157895,\n",
       "  0.4782608695652174,\n",
       "  0.45454545454545453,\n",
       "  0.5625,\n",
       "  0.38461538461538464,\n",
       "  0.5789473684210527,\n",
       "  0.5454545454545454,\n",
       "  0.6666666666666666,\n",
       "  0.45454545454545453,\n",
       "  0.4782608695652174,\n",
       "  0.6923076923076923,\n",
       "  0.5454545454545454,\n",
       "  0.6875,\n",
       "  0.47368421052631576,\n",
       "  0.5454545454545454,\n",
       "  0.6956521739130435,\n",
       "  0.8,\n",
       "  0.8333333333333334,\n",
       "  0.8,\n",
       "  0.5789473684210527,\n",
       "  0.5652173913043478,\n",
       "  0.6875,\n",
       "  0.47368421052631576,\n",
       "  0.5625,\n",
       "  0.45454545454545453,\n",
       "  0.26785714285714285,\n",
       "  0.8,\n",
       "  0.8461538461538461,\n",
       "  0.3157894736842105,\n",
       "  0.21739130434782608,\n",
       "  0.32608695652173914,\n",
       "  0.4782608695652174,\n",
       "  0.5555555555555556,\n",
       "  0.32142857142857145,\n",
       "  0.45454545454545453,\n",
       "  0.32142857142857145,\n",
       "  0.3157894736842105,\n",
       "  0.2631578947368421,\n",
       "  0.5625,\n",
       "  0.21739130434782608,\n",
       "  0.391304347826087,\n",
       "  0.32608695652173914,\n",
       "  0.8421052631578947,\n",
       "  0.46153846153846156,\n",
       "  0.32608695652173914,\n",
       "  0.46875,\n",
       "  0.45454545454545453],\n",
       " 'LLaVA': {'parameters': None,\n",
       "  'raw_answers': ['Yes, I can identify the two sections. The longer section has the size of 1.0, and the smaller section is approximately 0.3-0.4 in length.',\n",
       "   'Yes, I can identify the two sections. The longer section has the size of 1.0, and the smaller section is approximately 0.3 times as long as the longer section.',\n",
       "   'Yes, I can identify the two sections. The longer section has the size of 1.0, and the smaller section is approximately 0.3-0.4 in length.',\n",
       "   'Yes, I can identify the two sections. The longer section has the size of 1.0, and the smaller section is approximately 0.1-0.2 in length.',\n",
       "   'Yes, I can identify the two sections. The longer section has the size of 1.0, and the smaller section is approximately 0.3 times as long as the longer section.',\n",
       "   'Yes, I can identify the two sections. The longer section has the size of 1.0, and the smaller section is approximately 0.3 times as long as the longer section.',\n",
       "   'Yes, I can identify the two sections. The longer section has the size of 1.0, and the smaller section is approximately 0.3 times as long as the longer section.',\n",
       "   'Yes, I can identify the two sections. The longer section has the size of 1.0, and the smaller section is approximately 0.3 times as long as the longer section.',\n",
       "   'Yes, I can identify the two sections. The longer section has the size of 1.0, and the smaller section is approximately 0.3 times as long as the longer section.',\n",
       "   'Yes, I can identify the two sections. The longer section has the size of 1.0, and the smaller section is approximately 0.3 times as long as the longer section.',\n",
       "   'Yes, I can identify the two sections. The longer section has the size of 1.0, and the smaller section is approximately 0.3 times as long as the longer section.',\n",
       "   'Yes, I can identify the two sections. The longer section has the size of 1.0, and the smaller section is approximately 0.3-0.4 in length.',\n",
       "   'Yes, I can identify the two sections. The longer section has the size of 1.0, and the smaller section is approximately 0.3-0.4 in length.',\n",
       "   'Yes, I can identify the two sections. The longer section has the size of 1.0, and the smaller section is approximately 0.3-0.4 in length.',\n",
       "   'Yes, I can identify the two sections. The longer section has the size of 1.0, and the smaller section is approximately 0.3 times as long as the longer section.',\n",
       "   'Yes, I can identify the two sections. The longer section has the size of 1.0, and the smaller section is approximately 0.2-0.3 in length.',\n",
       "   'Yes, I can identify the two sections. The longer section has the size of 1.0, and the smaller section is approximately 0.3 times as long as the longer section.',\n",
       "   'Yes, I can identify the two sections. The longer section has the size of 1.0, and the smaller section is approximately 0.3-0.4 in length.',\n",
       "   'Yes, I can identify the two sections. The longer section has the size of 1.0, and the smaller section is approximately 0.3 times as long as the longer section.',\n",
       "   'Yes, I can identify the two sections. The longer section has the size of 1.0, and the smaller section is approximately 0.3 times as long as the longer section.',\n",
       "   'Yes, I can identify the two sections. The longer section has the size of 1.0, and the smaller section is approximately 0.3 times as long as the longer section.',\n",
       "   'Yes, I can identify the two sections. The longer section has the size of 1.0, and the smaller section is approximately 0.3 times as long as the longer section.',\n",
       "   'Yes, I can identify the two sections. The longer section has the size of 1.0, and the smaller section is approximately 0.3-0.4 in length.',\n",
       "   'Yes, I can identify the two sections. The longer section has the size of 1.0, and the smaller section is approximately 0.3-0.4 in length.',\n",
       "   'Yes, I can identify the two sections. The longer section has the size of 1.0, and the smaller section is approximately 0.3 times as long as the longer section.',\n",
       "   'Yes, I can identify the two sections. The longer section has the size of 1.0, and the smaller section is approximately 0.3-0.4 in length.',\n",
       "   'Yes, I can identify the two sections. The longer section has the size of 1.0, and the smaller section is approximately 0.3 times as long as the longer section.',\n",
       "   'Yes, I can identify the two sections. The longer section has the size of 1.0, and the smaller section is approximately 0.3-0.4 in length.',\n",
       "   'Yes, I can identify the two sections. The longer section has the size of 1.0, and the smaller section is approximately 0.3-0.4 in length.',\n",
       "   'Yes, I can identify the two sections. The longer section has the size of 1.0, and the smaller section is approximately 0.3 times as long as the longer section.',\n",
       "   'Yes, I can identify the two sections. The longer section has the size of 1.0, and the smaller section is approximately 0.3 times as long as the longer section.',\n",
       "   'Yes, I can identify the two sections. The longer section has the size of 1.0, and the smaller section is approximately 0.3 times as long as the longer section.',\n",
       "   'Yes, I can identify the two sections. The longer section has the size of 1.0, and the smaller section is approximately 0.3 times as long as the longer section.',\n",
       "   'Yes, I can identify the two sections. The longer section has the size of 1.0, and the smaller section is approximately 0.3 times as long as the longer section.',\n",
       "   'Yes, I can identify the two sections. The longer section has the size of 1.0, and the smaller section is approximately 0.3 times as long as the longer section.',\n",
       "   'Yes, I can identify the two sections. The longer section has the size of 1.0, and the smaller section is approximately 0.3 times as long as the longer section.',\n",
       "   'Yes, I can identify the two sections. The longer section has the size of 1.0, and the smaller section is approximately 0.3-0.4 in length.',\n",
       "   'Yes, I can identify the two sections. The longer section has the size of 1.0, and the smaller section is approximately 0.3 times as long as the longer section.',\n",
       "   'Yes, I can identify the two sections. The longer section has the size of 1.0, and the smaller section is approximately 0.3 times as long as the longer section.',\n",
       "   'Yes, I can identify the two sections. The longer section has the size of 1.0, and the smaller section is approximately 0.3 times as long as the longer section.',\n",
       "   'Yes, I can identify the two sections. The longer section has the size of 1.0, and the smaller section is approximately 0.3 times as long as the longer section.',\n",
       "   'Yes, I can identify the two sections. The longer section has the size of 1.0, and the smaller section is approximately 0.3-0.4 in length.',\n",
       "   'Yes, I can identify the two sections. The longer section has the size of 1.0, and the smaller section is approximately 0.3 times as long as the longer section.',\n",
       "   'Yes, I can identify the two sections. The longer section has the size of 1.0, and the smaller section is approximately 0.3 times as long as the longer section.',\n",
       "   'Yes, I can identify the two sections. The longer section has the size of 1.0, and the smaller section is approximately 0.3 times as long as the longer section.',\n",
       "   'Yes, I can identify the two sections. The longer section has the size of 1.0, and the smaller section is approximately 0.3 times as long as the longer section.',\n",
       "   'Yes, I can identify the two sections. The longer section has the size of 1.0, and the smaller section is approximately 0.3 times as long as the longer section.',\n",
       "   'Yes, I can identify the two sections. The longer section has the size of 1.0, and the smaller section is approximately 0.3 times as long as the longer section.',\n",
       "   'Yes, I can identify the two sections. The longer section has the size of 1.0, and the smaller section is approximately 0.3 times as long as the longer section.',\n",
       "   'Yes, I can identify the two sections. The longer section has the size of 1.0, and the smaller section is approximately 0.3 times as long as the longer section.',\n",
       "   'Yes, I can identify the two sections. The longer section has the size of 1.0, and the smaller section is approximately 0.3 times as long as the longer section.',\n",
       "   'Yes, I can identify the two sections. The longer section has the size of 1.0, and the smaller section is approximately 0.3 times as long as the longer section.',\n",
       "   'Yes, I can identify the two sections. The longer section has the size of 1.0, and the smaller section is approximately 0.3 times as long as the longer section.',\n",
       "   'Yes, I can identify the two sections. The longer section has the size of 1.0, and the smaller section is approximately 0.3 times as long as the longer section.',\n",
       "   'Yes, I can identify the two sections. The longer section has the size of 1.0, and the smaller section is approximately 0.3-0.4 in length.'],\n",
       "  'parsed_answers': [[0.3, 0.4],\n",
       "   [0.3],\n",
       "   [0.3, 0.4],\n",
       "   [0.1, 0.2],\n",
       "   [0.3],\n",
       "   [0.3],\n",
       "   [0.3],\n",
       "   [0.3],\n",
       "   [0.3],\n",
       "   [0.3],\n",
       "   [0.3],\n",
       "   [0.3, 0.4],\n",
       "   [0.3, 0.4],\n",
       "   [0.3, 0.4],\n",
       "   [0.3],\n",
       "   [0.2, 0.3],\n",
       "   [0.3],\n",
       "   [0.3, 0.4],\n",
       "   [0.3],\n",
       "   [0.3],\n",
       "   [0.3],\n",
       "   [0.3],\n",
       "   [0.3, 0.4],\n",
       "   [0.3, 0.4],\n",
       "   [0.3],\n",
       "   [0.3, 0.4],\n",
       "   [0.3],\n",
       "   [0.3, 0.4],\n",
       "   [0.3, 0.4],\n",
       "   [0.3],\n",
       "   [0.3],\n",
       "   [0.3],\n",
       "   [0.3],\n",
       "   [0.3],\n",
       "   [0.3],\n",
       "   [0.3],\n",
       "   [0.3, 0.4],\n",
       "   [0.3],\n",
       "   [0.3],\n",
       "   [0.3],\n",
       "   [0.3],\n",
       "   [0.3, 0.4],\n",
       "   [0.3],\n",
       "   [0.3],\n",
       "   [0.3],\n",
       "   [0.3],\n",
       "   [0.3],\n",
       "   [0.3],\n",
       "   [0.3],\n",
       "   [0.3],\n",
       "   [0.3],\n",
       "   [0.3],\n",
       "   [0.3],\n",
       "   [0.3],\n",
       "   [0.3, 0.4]],\n",
       "  'mean': 0.2127272727272728,\n",
       "  'std': 0.13625450178323775,\n",
       "  'mse': 0.1370652953771802,\n",
       "  'mlae': 4.942511144977692,\n",
       "  'times': [21077.815771102905,\n",
       "   8022.708177566528,\n",
       "   7574.320077896118,\n",
       "   7448.622703552246,\n",
       "   7828.772068023682,\n",
       "   7636.315584182739,\n",
       "   7467.629671096802,\n",
       "   7612.50901222229,\n",
       "   7826.0180950164795,\n",
       "   7231.209278106689,\n",
       "   7577.268123626709,\n",
       "   7223.653078079224,\n",
       "   7155.384540557861,\n",
       "   7156.430244445801,\n",
       "   7184.53049659729,\n",
       "   7308.341264724731,\n",
       "   7266.736030578613,\n",
       "   7254.111528396606,\n",
       "   7347.3687171936035,\n",
       "   7281.54444694519,\n",
       "   7336.264371871948,\n",
       "   7420.057058334351,\n",
       "   7193.005800247192,\n",
       "   7269.0019607543945,\n",
       "   7251.523494720459,\n",
       "   7178.51996421814,\n",
       "   7301.0594844818115,\n",
       "   7387.002468109131,\n",
       "   7194.813013076782,\n",
       "   7279.512405395508,\n",
       "   7152.369737625122,\n",
       "   7271.413087844849,\n",
       "   7498.310089111328,\n",
       "   7574.78404045105,\n",
       "   7179.741621017456,\n",
       "   7244.092702865601,\n",
       "   7352.358818054199,\n",
       "   7236.135959625244,\n",
       "   7271.641731262207,\n",
       "   7736.544370651245,\n",
       "   7289.978742599487,\n",
       "   7213.054895401001,\n",
       "   7324.149131774902,\n",
       "   7286.596775054932,\n",
       "   7172.604084014893,\n",
       "   7490.761756896973,\n",
       "   7377.426862716675,\n",
       "   7234.871387481689,\n",
       "   7166.712045669556,\n",
       "   7216.17579460144,\n",
       "   7284.938097000122,\n",
       "   7256.7033767700195,\n",
       "   7348.25325012207,\n",
       "   7419.5873737335205,\n",
       "   7372.9424476623535],\n",
       "  'forced_repetitions': 0},\n",
       " 'CustomLLaVA': {'parameters': None,\n",
       "  'raw_answers': ['0.391304347826087',\n",
       "   '0.39285714285714285',\n",
       "   '0.375',\n",
       "   '0.5769230769230769',\n",
       "   '0.8421052631578947',\n",
       "   '0.5652173913043478',\n",
       "   '0.3157894736842105',\n",
       "   '0.6842105263157895',\n",
       "   '0.5769230769230769',\n",
       "   '0.375',\n",
       "   '0.3157894736842105',\n",
       "   '0.5555555555555556',\n",
       "   '0.5652173913043478',\n",
       "   '0.6842105263157895',\n",
       "   '0.39473684210526316',\n",
       "   '0.391304347826087',\n",
       "   '0.6923076923076923',\n",
       "   '0.8125',\n",
       "   '0.391304347826087',\n",
       "   '0.3157894736842105',\n",
       "   '0.2631578947368421',\n",
       "   '0.5454545454545454',\n",
       "   '0.8125',\n",
       "   '0.8125',\n",
       "   '0.375',\n",
       "   '0.8125',\n",
       "   '0.6842105263157895',\n",
       "   '0.6842105263157895',\n",
       "   '0.6842105263157895',\n",
       "   '0.39473684210526316',\n",
       "   '0.3157894736842105',\n",
       "   '0.39473684210526316',\n",
       "   '0.3157894736842105',\n",
       "   '0.39285714285714285',\n",
       "   '0.8125',\n",
       "   '0.5652173913043478',\n",
       "   '0.8125',\n",
       "   '0.39473684210526316',\n",
       "   '0.8125',\n",
       "   '0.375',\n",
       "   '0.5769230769230769',\n",
       "   '0.3157894736842105',\n",
       "   '0.3125',\n",
       "   '0.8125',\n",
       "   '0.6842105263157895',\n",
       "   '0.8125',\n",
       "   '0.391304347826087',\n",
       "   '0.391304347826087',\n",
       "   '0.46153846153846156',\n",
       "   '0.6842105263157895',\n",
       "   '0.8333333333333334',\n",
       "   '0.6842105263157895',\n",
       "   '0.391304347826087',\n",
       "   '0.3157894736842105',\n",
       "   '0.5454545454545454'],\n",
       "  'parsed_answers': [[0.391304347826087],\n",
       "   [0.39285714285714285],\n",
       "   [0.375],\n",
       "   [0.5769230769230769],\n",
       "   [0.8421052631578947],\n",
       "   [0.5652173913043478],\n",
       "   [0.3157894736842105],\n",
       "   [0.6842105263157895],\n",
       "   [0.5769230769230769],\n",
       "   [0.375],\n",
       "   [0.3157894736842105],\n",
       "   [0.5555555555555556],\n",
       "   [0.5652173913043478],\n",
       "   [0.6842105263157895],\n",
       "   [0.39473684210526316],\n",
       "   [0.391304347826087],\n",
       "   [0.6923076923076923],\n",
       "   [0.8125],\n",
       "   [0.391304347826087],\n",
       "   [0.3157894736842105],\n",
       "   [0.2631578947368421],\n",
       "   [0.5454545454545454],\n",
       "   [0.8125],\n",
       "   [0.8125],\n",
       "   [0.375],\n",
       "   [0.8125],\n",
       "   [0.6842105263157895],\n",
       "   [0.6842105263157895],\n",
       "   [0.6842105263157895],\n",
       "   [0.39473684210526316],\n",
       "   [0.3157894736842105],\n",
       "   [0.39473684210526316],\n",
       "   [0.3157894736842105],\n",
       "   [0.39285714285714285],\n",
       "   [0.8125],\n",
       "   [0.5652173913043478],\n",
       "   [0.8125],\n",
       "   [0.39473684210526316],\n",
       "   [0.8125],\n",
       "   [0.375],\n",
       "   [0.5769230769230769],\n",
       "   [0.3157894736842105],\n",
       "   [0.3125],\n",
       "   [0.8125],\n",
       "   [0.6842105263157895],\n",
       "   [0.8125],\n",
       "   [0.391304347826087],\n",
       "   [0.391304347826087],\n",
       "   [0.46153846153846156],\n",
       "   [0.6842105263157895],\n",
       "   [0.8333333333333334],\n",
       "   [0.6842105263157895],\n",
       "   [0.391304347826087],\n",
       "   [0.3157894736842105],\n",
       "   [0.5454545454545454]],\n",
       "  'mean': 0.5397641266114326,\n",
       "  'std': 0.18572716712392295,\n",
       "  'mse': 0.05296413392290597,\n",
       "  'mlae': 4.194204768565232,\n",
       "  'times': [9457.006216049194,\n",
       "   9383.93759727478,\n",
       "   8658.685207366943,\n",
       "   8710.487604141235,\n",
       "   9810.993194580078,\n",
       "   8829.85258102417,\n",
       "   9066.052913665771,\n",
       "   8663.082838058472,\n",
       "   8745.50461769104,\n",
       "   8589.770078659058,\n",
       "   9806.317329406738,\n",
       "   8922.904968261719,\n",
       "   9314.568996429443,\n",
       "   8778.455972671509,\n",
       "   8875.684976577759,\n",
       "   8757.202625274658,\n",
       "   9044.72041130066,\n",
       "   8724.173069000244,\n",
       "   8688.746452331543,\n",
       "   8811.713218688965,\n",
       "   8811.857461929321,\n",
       "   9293.021202087402,\n",
       "   9034.946918487549,\n",
       "   8507.06934928894,\n",
       "   8523.572206497192,\n",
       "   8625.977993011475,\n",
       "   8914.250135421753,\n",
       "   8891.775846481323,\n",
       "   9031.167268753052,\n",
       "   8762.26544380188,\n",
       "   9081.752300262451,\n",
       "   8999.63641166687,\n",
       "   8962.72349357605,\n",
       "   8841.668128967285,\n",
       "   8879.12106513977,\n",
       "   9000.359296798706,\n",
       "   8424.41201210022,\n",
       "   8914.268970489502,\n",
       "   8468.023300170898,\n",
       "   8607.98716545105,\n",
       "   8875.70595741272,\n",
       "   8805.156707763672,\n",
       "   8824.005365371704,\n",
       "   8560.688734054565,\n",
       "   8812.257766723633,\n",
       "   8653.566598892212,\n",
       "   8780.737400054932,\n",
       "   8776.100873947144,\n",
       "   8979.715824127197,\n",
       "   8848.856449127197,\n",
       "   9406.882524490356,\n",
       "   9536.761045455933,\n",
       "   9156.402111053467,\n",
       "   9554.362535476685,\n",
       "   9080.726623535156],\n",
       "  'forced_repetitions': 0}}"
      ]
     },
     "metadata": {},
     "output_type": "display_data"
    }
   ],
   "source": [
    "from IPython.display import display\n",
    "display(results)"
   ]
  },
  {
   "cell_type": "code",
   "execution_count": 3,
   "id": "14a99b3f-a28c-496f-9acc-f43b771450c0",
   "metadata": {},
   "outputs": [
    {
     "data": {
      "text/plain": [
       "'LLaVA mse:    0.137065'"
      ]
     },
     "metadata": {},
     "output_type": "display_data"
    },
    {
     "data": {
      "text/plain": [
       "'LLaVA mlae:   4.942511'"
      ]
     },
     "metadata": {},
     "output_type": "display_data"
    },
    {
     "data": {
      "text/plain": [
       "'LLaVA mean:   0.212727'"
      ]
     },
     "metadata": {},
     "output_type": "display_data"
    },
    {
     "data": {
      "text/plain": [
       "'LLaVA std:    0.136255'"
      ]
     },
     "metadata": {},
     "output_type": "display_data"
    },
    {
     "data": {
      "text/plain": [
       "'CLLaVA  mse:  0.052964'"
      ]
     },
     "metadata": {},
     "output_type": "display_data"
    },
    {
     "data": {
      "text/plain": [
       "'CLLaVA  mlae: 4.194205'"
      ]
     },
     "metadata": {},
     "output_type": "display_data"
    },
    {
     "data": {
      "text/plain": [
       "'CLLaVA  mean: 0.539764'"
      ]
     },
     "metadata": {},
     "output_type": "display_data"
    },
    {
     "data": {
      "text/plain": [
       "'CLLaVA  std:  0.185727'"
      ]
     },
     "metadata": {},
     "output_type": "display_data"
    }
   ],
   "source": [
    "llava_mse = results[\"LLaVA\"][\"mse\"]\n",
    "llava_mlae = results[\"LLaVA\"][\"mlae\"]\n",
    "llava_mean = results[\"LLaVA\"][\"mean\"]\n",
    "llava_std = results[\"LLaVA\"][\"std\"]\n",
    "custom_llava_mse = results[\"CustomLLaVA\"][\"mse\"]\n",
    "custom_llava_mlae = results[\"CustomLLaVA\"][\"mlae\"]\n",
    "custom_llava_mean = results[\"CustomLLaVA\"][\"mean\"]\n",
    "custom_llava_std = results[\"CustomLLaVA\"][\"std\"]\n",
    "\n",
    "display(f\"LLaVA mse:    {llava_mse:f}\")\n",
    "display(f\"LLaVA mlae:   {llava_mlae:f}\")\n",
    "display(f\"LLaVA mean:   {llava_mean:f}\")\n",
    "display(f\"LLaVA std:    {llava_std:f}\")\n",
    "display(f\"CLLaVA  mse:  {custom_llava_mse:f}\")\n",
    "display(f\"CLLaVA  mlae: {custom_llava_mlae:f}\")\n",
    "display(f\"CLLaVA  mean: {custom_llava_mean:f}\")\n",
    "display(f\"CLLaVA  std:  {custom_llava_std:f}\")"
   ]
  },
  {
   "cell_type": "code",
   "execution_count": null,
   "id": "dfbeed75-ce38-441f-94a5-f3e6a4fb9cf0",
   "metadata": {},
   "outputs": [],
   "source": []
  }
 ],
 "metadata": {
  "kernelspec": {
   "display_name": "Python 3 (ipykernel)",
   "language": "python",
   "name": "python3"
  },
  "language_info": {
   "codemirror_mode": {
    "name": "ipython",
    "version": 3
   },
   "file_extension": ".py",
   "mimetype": "text/x-python",
   "name": "python",
   "nbconvert_exporter": "python",
   "pygments_lexer": "ipython3",
   "version": "3.11.7"
  }
 },
 "nbformat": 4,
 "nbformat_minor": 5
}
