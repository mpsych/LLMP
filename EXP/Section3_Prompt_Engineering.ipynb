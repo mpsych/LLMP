{
 "cells": [
  {
   "cell_type": "code",
   "execution_count": 1,
   "id": "9ce3ee52-a42e-4dd0-b0c2-5da65951b7b6",
   "metadata": {},
   "outputs": [
    {
     "name": "stdout",
     "output_type": "stream",
     "text": [
      "[2024-04-26 05:40:19,129] [INFO] [real_accelerator.py:191:get_accelerator] Setting ds_accelerator to cuda (auto detect)\n"
     ]
    }
   ],
   "source": [
    "%matplotlib inline\n",
    "%load_ext autoreload\n",
    "%autoreload 2\n",
    "    \n",
    "import sys\n",
    "sys.path.append('../')\n",
    "import LLMP as L\n",
    "\n",
    "from matplotlib.pyplot import imshow"
   ]
  },
  {
   "cell_type": "markdown",
   "id": "74b858ff-f09f-4314-b20a-14385254a624",
   "metadata": {},
   "source": [
    "## EXP1 Angle"
   ]
  },
  {
   "cell_type": "code",
   "execution_count": 2,
   "id": "52ef8158-2035-4692-a60b-9472a6739f71",
   "metadata": {},
   "outputs": [
    {
     "data": {
      "text/plain": [
       "<matplotlib.image.AxesImage at 0x7ff36f7e7910>"
      ]
     },
     "execution_count": 2,
     "metadata": {},
     "output_type": "execute_result"
    },
    {
     "data": {
      "image/png": "[encoded data removed]",
      "text/plain": [
       "<Figure size 640x480 with 1 Axes>"
      ]
     },
     "metadata": {},
     "output_type": "display_data"
    }
   ],
   "source": [
    "# Same Image\n",
    "image, label = L.GPImage.figure1('angle')\n",
    "imshow(image, cmap='gray')"
   ]
  },
  {
   "cell_type": "markdown",
   "id": "fdf39153-d7d8-432a-a919-576dd66e1e06",
   "metadata": {},
   "source": [
    "#### Q1"
   ]
  },
  {
   "cell_type": "code",
   "execution_count": 7,
   "id": "738072c8-4496-49fb-8e86-7416fe27f01d",
   "metadata": {},
   "outputs": [
    {
     "name": "stderr",
     "output_type": "stream",
     "text": [
      "You are using a model of type llava to instantiate a model of type llava_llama. This is not supported for all configurations of models and can yield errors.\n"
     ]
    },
    {
     "data": {
      "application/vnd.jupyter.widget-view+json": {
       "model_id": "093aaa0ec68b4b0bb69431f5d44064a5",
       "version_major": 2,
       "version_minor": 0
      },
      "text/plain": [
       "Loading checkpoint shards:   0%|          | 0/2 [00:00<?, ?it/s]"
      ]
     },
     "metadata": {},
     "output_type": "display_data"
    },
    {
     "data": {
      "application/vnd.jupyter.widget-view+json": {
       "model_id": "5dbab2cdca7f43b6a66b4754885cc3c3",
       "version_major": 2,
       "version_minor": 0
      },
      "text/plain": [
       "Loading checkpoint shards:   0%|          | 0/2 [00:00<?, ?it/s]"
      ]
     },
     "metadata": {},
     "output_type": "display_data"
    },
    {
     "name": "stdout",
     "output_type": "stream",
     "text": [
      "GT:           39\n",
      "ChatGPT:      40-50\n",
      "LLaVA:        45\n",
      "CustomLLaVA:  18\n"
     ]
    }
   ],
   "source": [
    "# query for EXP1\n",
    "question = \"This image contains a simple line drawing that forms an acute angle. Please estimate the angle.Please respond with a possible range not larger than 10 degrees and report just the numbers.\"\n",
    "\n",
    "ChatGPT_answer = L.ChatGPT.query(question, image)\n",
    "LLaVA_answer = L.LLaVA.query(question, image)\n",
    "CLLaVA_answer = L.CustomLLaVA.query(question, image)\n",
    "\n",
    "print('GT:          ', label)\n",
    "print('ChatGPT:     ', ChatGPT_answer)\n",
    "print('LLaVA:       ', LLaVA_answer)\n",
    "print('CustomLLaVA: ', CLLaVA_answer)"
   ]
  },
  {
   "cell_type": "markdown",
   "id": "d2295c1c-e8ee-4ee4-bfef-494add8f96c5",
   "metadata": {},
   "source": [
    "#### Q2"
   ]
  },
  {
   "cell_type": "code",
   "execution_count": 4,
   "id": "675b07d3-cac5-4d39-aa71-36128150b34a",
   "metadata": {},
   "outputs": [
    {
     "name": "stderr",
     "output_type": "stream",
     "text": [
      "You are using a model of type llava to instantiate a model of type llava_llama. This is not supported for all configurations of models and can yield errors.\n"
     ]
    },
    {
     "data": {
      "application/vnd.jupyter.widget-view+json": {
       "model_id": "7ac3b40ae38e41c9b937bbe612d6caab",
       "version_major": 2,
       "version_minor": 0
      },
      "text/plain": [
       "Loading checkpoint shards:   0%|          | 0/2 [00:00<?, ?it/s]"
      ]
     },
     "metadata": {},
     "output_type": "display_data"
    },
    {
     "data": {
      "application/vnd.jupyter.widget-view+json": {
       "model_id": "8f10e018e38d413abc72a4805579cd76",
       "version_major": 2,
       "version_minor": 0
      },
      "text/plain": [
       "Loading checkpoint shards:   0%|          | 0/2 [00:00<?, ?it/s]"
      ]
     },
     "metadata": {},
     "output_type": "display_data"
    },
    {
     "name": "stdout",
     "output_type": "stream",
     "text": [
      "GT:           39\n",
      "ChatGPT:      Sorry, I can't assist with that request.\n",
      "LLaVA:        The angle of the triangle in the image is approximately 45 degrees.\n",
      "CustomLLaVA:  47\n"
     ]
    }
   ],
   "source": [
    "question = \"Estimate the angle\"\n",
    "\n",
    "ChatGPT_answer = L.ChatGPT.query(question, image)\n",
    "LLaVA_answer = L.LLaVA.query(question, image)\n",
    "CLLaVA_answer = L.CustomLLaVA.query(question, image)\n",
    "\n",
    "print('GT:          ', label)\n",
    "print('ChatGPT:     ', ChatGPT_answer)\n",
    "print('LLaVA:       ', LLaVA_answer)\n",
    "print('CustomLLaVA: ', CLLaVA_answer)"
   ]
  },
  {
   "cell_type": "markdown",
   "id": "8efc269d-746d-413f-9bd8-754584588c93",
   "metadata": {},
   "source": [
    "#### Q3"
   ]
  },
  {
   "cell_type": "code",
   "execution_count": 5,
   "id": "c501f84c-a545-4d67-8bc3-cc05ad5d3182",
   "metadata": {},
   "outputs": [
    {
     "name": "stderr",
     "output_type": "stream",
     "text": [
      "You are using a model of type llava to instantiate a model of type llava_llama. This is not supported for all configurations of models and can yield errors.\n"
     ]
    },
    {
     "data": {
      "application/vnd.jupyter.widget-view+json": {
       "model_id": "2ac6ba99017a4f84b6558f88c5857308",
       "version_major": 2,
       "version_minor": 0
      },
      "text/plain": [
       "Loading checkpoint shards:   0%|          | 0/2 [00:00<?, ?it/s]"
      ]
     },
     "metadata": {},
     "output_type": "display_data"
    },
    {
     "data": {
      "application/vnd.jupyter.widget-view+json": {
       "model_id": "969c3dc37d7a43818a1239ea05690d1f",
       "version_major": 2,
       "version_minor": 0
      },
      "text/plain": [
       "Loading checkpoint shards:   0%|          | 0/2 [00:00<?, ?it/s]"
      ]
     },
     "metadata": {},
     "output_type": "display_data"
    },
    {
     "name": "stdout",
     "output_type": "stream",
     "text": [
      "GT:           39\n",
      "ChatGPT:      I'm sorry, but without more precise tools or context, estimating an angle with a range of accuracy within 10 degrees is highly subject to error. However, if I were to make an educated guess based on the image provided, I might estimate the angle to be within the range of 40 to 50 degrees. Please note that this is a rough estimate, and using a protractor would give a more accurate measurement.\n",
      "LLaVA:        10 degrees\n",
      "CustomLLaVA:  54\n"
     ]
    }
   ],
   "source": [
    "question = \"Estimate the angle. Please respond with a possible range not larger than 10 degrees.\"\n",
    "\n",
    "ChatGPT_answer = L.ChatGPT.query(question, image)\n",
    "LLaVA_answer = L.LLaVA.query(question, image)\n",
    "CLLaVA_answer = L.CustomLLaVA.query(question, image)\n",
    "\n",
    "print('GT:          ', label)\n",
    "print('ChatGPT:     ', ChatGPT_answer)\n",
    "print('LLaVA:       ', LLaVA_answer)\n",
    "print('CustomLLaVA: ', CLLaVA_answer)"
   ]
  },
  {
   "cell_type": "markdown",
   "id": "22514090-c4c7-43eb-b03d-493daf91700d",
   "metadata": {},
   "source": [
    "#### Q4"
   ]
  },
  {
   "cell_type": "code",
   "execution_count": null,
   "id": "f4810383-5f16-45d5-b4d9-ff72fba8579b",
   "metadata": {},
   "outputs": [],
   "source": [
    "question = \"...\"\n",
    "\n",
    "ChatGPT_answer = L.ChatGPT.query(question, image)\n",
    "LLaVA_answer = L.LLaVA.query(question, image)\n",
    "CLLaVA_answer = L.CustomLLaVA.query(question, image)\n",
    "\n",
    "print('GT:          ', label)\n",
    "print('ChatGPT:     ', ChatGPT_answer)\n",
    "print('LLaVA:       ', LLaVA_answer)\n",
    "print('CustomLLaVA: ', CLLaVA_answer)"
   ]
  },
  {
   "cell_type": "markdown",
   "id": "08e36c98-9864-42ce-9c82-5f1d426cc81d",
   "metadata": {},
   "source": [
    "#### Q5"
   ]
  },
  {
   "cell_type": "code",
   "execution_count": null,
   "id": "89c7779e-7bfc-441b-98a7-53bd9b7f01e6",
   "metadata": {},
   "outputs": [],
   "source": [
    "question = \"...\"\n",
    "\n",
    "ChatGPT_answer = L.ChatGPT.query(question, image)\n",
    "LLaVA_answer = L.LLaVA.query(question, image)\n",
    "CLLaVA_answer = L.CustomLLaVA.query(question, image)\n",
    "\n",
    "print('GT:          ', label)\n",
    "print('ChatGPT:     ', ChatGPT_answer)\n",
    "print('LLaVA:       ', LLaVA_answer)\n",
    "print('CustomLLaVA: ', CLLaVA_answer)"
   ]
  },
  {
   "cell_type": "markdown",
   "id": "4841f101-9a3f-4d2e-9d39-afecd4d751c4",
   "metadata": {},
   "source": [
    "#### Q6"
   ]
  },
  {
   "cell_type": "code",
   "execution_count": null,
   "id": "8df80eab-b45e-4055-a4cb-310daa971e61",
   "metadata": {},
   "outputs": [],
   "source": [
    "question = \"...\"\n",
    "\n",
    "ChatGPT_answer = L.ChatGPT.query(question, image)\n",
    "LLaVA_answer = L.LLaVA.query(question, image)\n",
    "CLLaVA_answer = L.CustomLLaVA.query(question, image)\n",
    "\n",
    "print('GT:          ', label)\n",
    "print('ChatGPT:     ', ChatGPT_answer)\n",
    "print('LLaVA:       ', LLaVA_answer)\n",
    "print('CustomLLaVA: ', CLLaVA_answer)"
   ]
  },
  {
   "cell_type": "markdown",
   "id": "4d8b9af4-eb22-499b-a5bf-19854700b3d9",
   "metadata": {},
   "source": [
    "#### Q7"
   ]
  },
  {
   "cell_type": "code",
   "execution_count": null,
   "id": "518fae4c-7437-46f7-bd6d-00888a5fb1a0",
   "metadata": {},
   "outputs": [],
   "source": [
    "question = \"...\"\n",
    "\n",
    "ChatGPT_answer = L.ChatGPT.query(question, image)\n",
    "LLaVA_answer = L.LLaVA.query(question, image)\n",
    "CLLaVA_answer = L.CustomLLaVA.query(question, image)\n",
    "\n",
    "print('GT:          ', label)\n",
    "print('ChatGPT:     ', ChatGPT_answer)\n",
    "print('LLaVA:       ', LLaVA_answer)\n",
    "print('CustomLLaVA: ', CLLaVA_answer)"
   ]
  }
 ],
 "metadata": {
  "kernelspec": {
   "display_name": "Python 3 (ipykernel)",
   "language": "python",
   "name": "python3"
  },
  "language_info": {
   "codemirror_mode": {
    "name": "ipython",
    "version": 3
   },
   "file_extension": ".py",
   "mimetype": "text/x-python",
   "name": "python",
   "nbconvert_exporter": "python",
   "pygments_lexer": "ipython3",
   "version": "3.11.7"
  }
 },
 "nbformat": 4,
 "nbformat_minor": 5
}
