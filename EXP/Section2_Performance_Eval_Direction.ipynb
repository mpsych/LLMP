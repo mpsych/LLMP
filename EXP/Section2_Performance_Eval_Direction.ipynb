{
 "cells": [
  {
   "cell_type": "code",
   "execution_count": 1,
   "id": "dd87a59e-89a4-4e3e-a876-b0fa33232c0d",
   "metadata": {},
   "outputs": [
    {
     "name": "stdout",
     "output_type": "stream",
     "text": [
      "[2024-04-26 05:23:37,132] [INFO] [real_accelerator.py:191:get_accelerator] Setting ds_accelerator to cuda (auto detect)\n"
     ]
    }
   ],
   "source": [
    "import sys\n",
    "sys.path.append('../')\n",
    "import LLMP as L\n",
    "import torch\n",
    "torch.torch.cuda.empty_cache()\n",
    "%matplotlib inline\n",
    "from matplotlib.pyplot import imshow\n",
    "\n",
    "# Same question\n",
    "question = \"What do you see? You should see something like a cube in the image. The image itself is 100 by 100 pixels, \\\n",
    "            but suppose the cube exists in a 100 by 100 by 100 pixels space. Estimate the volume of the cube in pixels and \\\n",
    "            respond with a numerical range. It does not have to be perfectly precise; just give me your numerical estimation.\\\n",
    "            If you could estimate, answer shortly just with one sentence as 1000 pixels or 1000-1100 pixels\""
   ]
  },
  {
   "cell_type": "markdown",
   "id": "809cd993-1fde-4916-81bb-c2f6fd8b6271",
   "metadata": {},
   "source": [
    "#### Run1"
   ]
  },
  {
   "cell_type": "code",
   "execution_count": 3,
   "id": "427598a0-d1cd-42de-8e7e-964b9e4bccff",
   "metadata": {},
   "outputs": [
    {
     "name": "stderr",
     "output_type": "stream",
     "text": [
      "You are using a model of type llava to instantiate a model of type llava_llama. This is not supported for all configurations of models and can yield errors.\n"
     ]
    },
    {
     "data": {
      "application/vnd.jupyter.widget-view+json": {
       "model_id": "20d7c80e0bdc450194357a4fb7c5b56b",
       "version_major": 2,
       "version_minor": 0
      },
      "text/plain": [
       "Loading checkpoint shards:   0%|          | 0/2 [00:00<?, ?it/s]"
      ]
     },
     "metadata": {},
     "output_type": "display_data"
    },
    {
     "data": {
      "application/vnd.jupyter.widget-view+json": {
       "model_id": "e47e209163a8413cbf95115523acb29c",
       "version_major": 2,
       "version_minor": 0
      },
      "text/plain": [
       "Loading checkpoint shards:   0%|          | 0/2 [00:00<?, ?it/s]"
      ]
     },
     "metadata": {},
     "output_type": "display_data"
    },
    {
     "name": "stdout",
     "output_type": "stream",
     "text": [
      "GT:           4096\n",
      "ChatGPT:      3000-3500 pixels\n",
      "LLaVA:        1000-1100 pixels\n",
      "CustomLLaVA:  1000\n"
     ]
    },
    {
     "data": {
      "image/png": "[encoded data removed]",
      "text/plain": [
       "<Figure size 640x480 with 1 Axes>"
      ]
     },
     "metadata": {},
     "output_type": "display_data"
    }
   ],
   "source": [
    "image, label = L.GPImage.figure1('volume')\n",
    "imshow(image, cmap='gray')\n",
    "\n",
    "ChatGPT_answer = L.ChatGPT.query(question, image)\n",
    "LLaVA_answer = L.LLaVA.query(question, image)\n",
    "CLLaVA_answer = L.CustomLLaVA.query(question, image)\n",
    "\n",
    "print('GT:          ', label)\n",
    "print('ChatGPT:     ', ChatGPT_answer)\n",
    "print('LLaVA:       ', LLaVA_answer)\n",
    "print('CustomLLaVA: ', CLLaVA_answer)"
   ]
  },
  {
   "cell_type": "markdown",
   "id": "feb39e00-7353-404b-8b99-f47cd0f4226e",
   "metadata": {},
   "source": [
    "#### Run2"
   ]
  },
  {
   "cell_type": "code",
   "execution_count": 2,
   "id": "75beab05-4326-46d8-9c2a-9c41c097a204",
   "metadata": {},
   "outputs": [
    {
     "name": "stderr",
     "output_type": "stream",
     "text": [
      "You are using a model of type llava to instantiate a model of type llava_llama. This is not supported for all configurations of models and can yield errors.\n"
     ]
    },
    {
     "data": {
      "application/vnd.jupyter.widget-view+json": {
       "model_id": "1bccb3df241d442f8fdaf071f25333d4",
       "version_major": 2,
       "version_minor": 0
      },
      "text/plain": [
       "Loading checkpoint shards:   0%|          | 0/2 [00:00<?, ?it/s]"
      ]
     },
     "metadata": {},
     "output_type": "display_data"
    },
    {
     "name": "stderr",
     "output_type": "stream",
     "text": [
      "/home/kenichi.maeda001/anaconda3/envs/LLMP/lib/python3.11/site-packages/transformers/generation/configuration_utils.py:389: UserWarning: `do_sample` is set to `False`. However, `temperature` is set to `0` -- this flag is only used in sample-based generation modes. You should set `do_sample=True` or unset `temperature`.\n",
      "  warnings.warn(\n",
      "/home/kenichi.maeda001/anaconda3/envs/LLMP/lib/python3.11/site-packages/transformers/generation/configuration_utils.py:394: UserWarning: `do_sample` is set to `False`. However, `top_p` is set to `None` -- this flag is only used in sample-based generation modes. You should set `do_sample=True` or unset `top_p`.\n",
      "  warnings.warn(\n"
     ]
    },
    {
     "data": {
      "application/vnd.jupyter.widget-view+json": {
       "model_id": "8df76c7145204a648bb75d1be67c2a04",
       "version_major": 2,
       "version_minor": 0
      },
      "text/plain": [
       "Loading checkpoint shards:   0%|          | 0/2 [00:00<?, ?it/s]"
      ]
     },
     "metadata": {},
     "output_type": "display_data"
    },
    {
     "name": "stdout",
     "output_type": "stream",
     "text": [
      "GT:           5832\n",
      "ChatGPT:      3000-3500 pixels\n",
      "LLaVA:        1000-1100 pixels\n",
      "CustomLLaVA:  1000\n"
     ]
    },
    {
     "data": {
      "image/png": "[encoded data removed]",
      "text/plain": [
       "<Figure size 640x480 with 1 Axes>"
      ]
     },
     "metadata": {},
     "output_type": "display_data"
    }
   ],
   "source": [
    "image, label = L.GPImage.figure1('volume')\n",
    "imshow(image, cmap='gray')\n",
    "\n",
    "ChatGPT_answer = L.ChatGPT.query(question, image)\n",
    "LLaVA_answer = L.LLaVA.query(question, image)\n",
    "CLLaVA_answer = L.CustomLLaVA.query(question, image)\n",
    "\n",
    "print('GT:          ', label)\n",
    "print('ChatGPT:     ', ChatGPT_answer)\n",
    "print('LLaVA:       ', LLaVA_answer)\n",
    "print('CustomLLaVA: ', CLLaVA_answer)"
   ]
  },
  {
   "cell_type": "markdown",
   "id": "bc385f3e-962d-46f1-a028-3de180caab58",
   "metadata": {},
   "source": [
    "#### Run3"
   ]
  },
  {
   "cell_type": "code",
   "execution_count": 4,
   "id": "5a224343-fcb3-4a06-8fb0-923f49504c7e",
   "metadata": {},
   "outputs": [
    {
     "name": "stderr",
     "output_type": "stream",
     "text": [
      "You are using a model of type llava to instantiate a model of type llava_llama. This is not supported for all configurations of models and can yield errors.\n"
     ]
    },
    {
     "data": {
      "application/vnd.jupyter.widget-view+json": {
       "model_id": "4b4ac07243534b8eb5cc074950f21c7c",
       "version_major": 2,
       "version_minor": 0
      },
      "text/plain": [
       "Loading checkpoint shards:   0%|          | 0/2 [00:00<?, ?it/s]"
      ]
     },
     "metadata": {},
     "output_type": "display_data"
    },
    {
     "data": {
      "application/vnd.jupyter.widget-view+json": {
       "model_id": "366c6026a00f40fab0a68ec2be163d81",
       "version_major": 2,
       "version_minor": 0
      },
      "text/plain": [
       "Loading checkpoint shards:   0%|          | 0/2 [00:00<?, ?it/s]"
      ]
     },
     "metadata": {},
     "output_type": "display_data"
    },
    {
     "name": "stdout",
     "output_type": "stream",
     "text": [
      "GT:           27\n",
      "ChatGPT:      The cube appears to be 10 pixels in each dimension, so its volume would be approximately 1000 pixels.\n",
      "LLaVA:        1000-1100 pixels\n",
      "CustomLLaVA:  1000\n"
     ]
    },
    {
     "data": {
      "image/png": "[encoded data removed]",
      "text/plain": [
       "<Figure size 640x480 with 1 Axes>"
      ]
     },
     "metadata": {},
     "output_type": "display_data"
    }
   ],
   "source": [
    "image, label = L.GPImage.figure1('volume')\n",
    "imshow(image, cmap='gray')\n",
    "\n",
    "ChatGPT_answer = L.ChatGPT.query(question, image)\n",
    "LLaVA_answer = L.LLaVA.query(question, image)\n",
    "CLLaVA_answer = L.CustomLLaVA.query(question, image)\n",
    "\n",
    "print('GT:          ', label)\n",
    "print('ChatGPT:     ', ChatGPT_answer)\n",
    "print('LLaVA:       ', LLaVA_answer)\n",
    "print('CustomLLaVA: ', CLLaVA_answer)"
   ]
  },
  {
   "cell_type": "markdown",
   "id": "ca1ffaf1-5acb-433d-9568-f1271ee3c73a",
   "metadata": {},
   "source": [
    "#### Run4"
   ]
  },
  {
   "cell_type": "code",
   "execution_count": 5,
   "id": "f0e31b12-e057-4479-8ba2-34821d2ac8a4",
   "metadata": {},
   "outputs": [
    {
     "name": "stderr",
     "output_type": "stream",
     "text": [
      "You are using a model of type llava to instantiate a model of type llava_llama. This is not supported for all configurations of models and can yield errors.\n"
     ]
    },
    {
     "data": {
      "application/vnd.jupyter.widget-view+json": {
       "model_id": "ed8bcfa99b564e0bafb41ef4db27c14d",
       "version_major": 2,
       "version_minor": 0
      },
      "text/plain": [
       "Loading checkpoint shards:   0%|          | 0/2 [00:00<?, ?it/s]"
      ]
     },
     "metadata": {},
     "output_type": "display_data"
    },
    {
     "data": {
      "application/vnd.jupyter.widget-view+json": {
       "model_id": "b411b00a44db43068905efab531de2c4",
       "version_major": 2,
       "version_minor": 0
      },
      "text/plain": [
       "Loading checkpoint shards:   0%|          | 0/2 [00:00<?, ?it/s]"
      ]
     },
     "metadata": {},
     "output_type": "display_data"
    },
    {
     "name": "stdout",
     "output_type": "stream",
     "text": [
      "GT:           4096\n",
      "ChatGPT:      3000-3500 pixels\n",
      "LLaVA:        1000-1100 pixels\n",
      "CustomLLaVA:  1000\n"
     ]
    },
    {
     "data": {
      "image/png": "[encoded data removed]",
      "text/plain": [
       "<Figure size 640x480 with 1 Axes>"
      ]
     },
     "metadata": {},
     "output_type": "display_data"
    }
   ],
   "source": [
    "image, label = L.GPImage.figure1('volume')\n",
    "imshow(image, cmap='gray')\n",
    "\n",
    "ChatGPT_answer = L.ChatGPT.query(question, image)\n",
    "LLaVA_answer = L.LLaVA.query(question, image)\n",
    "CLLaVA_answer = L.CustomLLaVA.query(question, image)\n",
    "\n",
    "print('GT:          ', label)\n",
    "print('ChatGPT:     ', ChatGPT_answer)\n",
    "print('LLaVA:       ', LLaVA_answer)\n",
    "print('CustomLLaVA: ', CLLaVA_answer)"
   ]
  },
  {
   "cell_type": "markdown",
   "id": "25d94611-4af6-452c-be94-014a586d14b5",
   "metadata": {},
   "source": [
    "#### Run5"
   ]
  },
  {
   "cell_type": "code",
   "execution_count": 6,
   "id": "059e4f57-fb09-4e3e-899e-151db897187d",
   "metadata": {},
   "outputs": [
    {
     "name": "stderr",
     "output_type": "stream",
     "text": [
      "You are using a model of type llava to instantiate a model of type llava_llama. This is not supported for all configurations of models and can yield errors.\n"
     ]
    },
    {
     "data": {
      "application/vnd.jupyter.widget-view+json": {
       "model_id": "1677111b8831499db992772babaace02",
       "version_major": 2,
       "version_minor": 0
      },
      "text/plain": [
       "Loading checkpoint shards:   0%|          | 0/2 [00:00<?, ?it/s]"
      ]
     },
     "metadata": {},
     "output_type": "display_data"
    },
    {
     "data": {
      "application/vnd.jupyter.widget-view+json": {
       "model_id": "fbc878c702f547d8b407afdb5af827c9",
       "version_major": 2,
       "version_minor": 0
      },
      "text/plain": [
       "Loading checkpoint shards:   0%|          | 0/2 [00:00<?, ?it/s]"
      ]
     },
     "metadata": {},
     "output_type": "display_data"
    },
    {
     "name": "stdout",
     "output_type": "stream",
     "text": [
      "GT:           343\n",
      "ChatGPT:      500-600 pixels\n",
      "LLaVA:        1000-1100 pixels\n",
      "CustomLLaVA:  1000\n"
     ]
    },
    {
     "data": {
      "image/png": "[encoded data removed]",
      "text/plain": [
       "<Figure size 640x480 with 1 Axes>"
      ]
     },
     "metadata": {},
     "output_type": "display_data"
    }
   ],
   "source": [
    "image, label = L.GPImage.figure1('volume')\n",
    "imshow(image, cmap='gray')\n",
    "\n",
    "ChatGPT_answer = L.ChatGPT.query(question, image)\n",
    "LLaVA_answer = L.LLaVA.query(question, image)\n",
    "CLLaVA_answer = L.CustomLLaVA.query(question, image)\n",
    "\n",
    "print('GT:          ', label)\n",
    "print('ChatGPT:     ', ChatGPT_answer)\n",
    "print('LLaVA:       ', LLaVA_answer)\n",
    "print('CustomLLaVA: ', CLLaVA_answer)"
   ]
  },
  {
   "cell_type": "markdown",
   "id": "021fb081-9036-4a1e-80f7-78e20c16b63b",
   "metadata": {},
   "source": [
    "#### Run6"
   ]
  },
  {
   "cell_type": "code",
   "execution_count": 7,
   "id": "b5664e2c-2c4e-4544-a618-590e88a4642a",
   "metadata": {},
   "outputs": [
    {
     "name": "stderr",
     "output_type": "stream",
     "text": [
      "You are using a model of type llava to instantiate a model of type llava_llama. This is not supported for all configurations of models and can yield errors.\n"
     ]
    },
    {
     "data": {
      "application/vnd.jupyter.widget-view+json": {
       "model_id": "793642becc1246339f5295492f4698d6",
       "version_major": 2,
       "version_minor": 0
      },
      "text/plain": [
       "Loading checkpoint shards:   0%|          | 0/2 [00:00<?, ?it/s]"
      ]
     },
     "metadata": {},
     "output_type": "display_data"
    },
    {
     "data": {
      "application/vnd.jupyter.widget-view+json": {
       "model_id": "b5ea20879e194f3ca9e0ea735ecc3a39",
       "version_major": 2,
       "version_minor": 0
      },
      "text/plain": [
       "Loading checkpoint shards:   0%|          | 0/2 [00:00<?, ?it/s]"
      ]
     },
     "metadata": {},
     "output_type": "display_data"
    },
    {
     "name": "stdout",
     "output_type": "stream",
     "text": [
      "GT:           1331\n",
      "ChatGPT:      I cannot provide a precise volume estimation as the image provided is 2D and lacks depth information, but if I were to guess based on the cube's appearance in the image, I might estimate it to be roughly 1250-1500 pixels.\n",
      "LLaVA:        1000-1100 pixels\n",
      "CustomLLaVA:  1000\n"
     ]
    },
    {
     "data": {
      "image/png": "[encoded data removed]",
      "text/plain": [
       "<Figure size 640x480 with 1 Axes>"
      ]
     },
     "metadata": {},
     "output_type": "display_data"
    }
   ],
   "source": [
    "image, label = L.GPImage.figure1('volume')\n",
    "imshow(image, cmap='gray')\n",
    "\n",
    "ChatGPT_answer = L.ChatGPT.query(question, image)\n",
    "LLaVA_answer = L.LLaVA.query(question, image)\n",
    "CLLaVA_answer = L.CustomLLaVA.query(question, image)\n",
    "\n",
    "print('GT:          ', label)\n",
    "print('ChatGPT:     ', ChatGPT_answer)\n",
    "print('LLaVA:       ', LLaVA_answer)\n",
    "print('CustomLLaVA: ', CLLaVA_answer)"
   ]
  },
  {
   "cell_type": "markdown",
   "id": "c708277e-f5aa-43db-8437-f3bc7d328050",
   "metadata": {},
   "source": [
    "#### Run7"
   ]
  },
  {
   "cell_type": "code",
   "execution_count": 8,
   "id": "ee239303-720d-4312-8508-4e379b0536cf",
   "metadata": {},
   "outputs": [
    {
     "name": "stderr",
     "output_type": "stream",
     "text": [
      "You are using a model of type llava to instantiate a model of type llava_llama. This is not supported for all configurations of models and can yield errors.\n"
     ]
    },
    {
     "data": {
      "application/vnd.jupyter.widget-view+json": {
       "model_id": "65555ba37517425aa07a586d6695ac22",
       "version_major": 2,
       "version_minor": 0
      },
      "text/plain": [
       "Loading checkpoint shards:   0%|          | 0/2 [00:00<?, ?it/s]"
      ]
     },
     "metadata": {},
     "output_type": "display_data"
    },
    {
     "data": {
      "application/vnd.jupyter.widget-view+json": {
       "model_id": "c1a63ad6fc594db882fbbdb0201fe141",
       "version_major": 2,
       "version_minor": 0
      },
      "text/plain": [
       "Loading checkpoint shards:   0%|          | 0/2 [00:00<?, ?it/s]"
      ]
     },
     "metadata": {},
     "output_type": "display_data"
    },
    {
     "name": "stdout",
     "output_type": "stream",
     "text": [
      "GT:           6859\n",
      "ChatGPT:      3000-4000 pixels\n",
      "LLaVA:        1000-1100 pixels\n",
      "CustomLLaVA:  1000\n"
     ]
    },
    {
     "data": {
      "image/png": "[encoded data removed]",
      "text/plain": [
       "<Figure size 640x480 with 1 Axes>"
      ]
     },
     "metadata": {},
     "output_type": "display_data"
    }
   ],
   "source": [
    "image, label = L.GPImage.figure1('volume')\n",
    "imshow(image, cmap='gray')\n",
    "\n",
    "ChatGPT_answer = L.ChatGPT.query(question, image)\n",
    "LLaVA_answer = L.LLaVA.query(question, image)\n",
    "CLLaVA_answer = L.CustomLLaVA.query(question, image)\n",
    "\n",
    "print('GT:          ', label)\n",
    "print('ChatGPT:     ', ChatGPT_answer)\n",
    "print('LLaVA:       ', LLaVA_answer)\n",
    "print('CustomLLaVA: ', CLLaVA_answer)"
   ]
  },
  {
   "cell_type": "markdown",
   "id": "892f87d2-1292-4489-921e-69be2faf4082",
   "metadata": {},
   "source": [
    "#### Run8"
   ]
  },
  {
   "cell_type": "code",
   "execution_count": 9,
   "id": "d7a65183-47b4-428b-9b18-69dacad093ae",
   "metadata": {},
   "outputs": [
    {
     "name": "stderr",
     "output_type": "stream",
     "text": [
      "You are using a model of type llava to instantiate a model of type llava_llama. This is not supported for all configurations of models and can yield errors.\n"
     ]
    },
    {
     "data": {
      "application/vnd.jupyter.widget-view+json": {
       "model_id": "2be34c8e08ec4fbbb14a2d4c8d3c20a9",
       "version_major": 2,
       "version_minor": 0
      },
      "text/plain": [
       "Loading checkpoint shards:   0%|          | 0/2 [00:00<?, ?it/s]"
      ]
     },
     "metadata": {},
     "output_type": "display_data"
    },
    {
     "data": {
      "application/vnd.jupyter.widget-view+json": {
       "model_id": "55c0fff1836346fbaa68060a289aa9af",
       "version_major": 2,
       "version_minor": 0
      },
      "text/plain": [
       "Loading checkpoint shards:   0%|          | 0/2 [00:00<?, ?it/s]"
      ]
     },
     "metadata": {},
     "output_type": "display_data"
    },
    {
     "name": "stdout",
     "output_type": "stream",
     "text": [
      "GT:           343\n",
      "ChatGPT:      500-600 pixels\n",
      "LLaVA:        1000-1100 pixels\n",
      "CustomLLaVA:  1000\n"
     ]
    },
    {
     "data": {
      "image/png": "[encoded data removed]",
      "text/plain": [
       "<Figure size 640x480 with 1 Axes>"
      ]
     },
     "metadata": {},
     "output_type": "display_data"
    }
   ],
   "source": [
    "image, label = L.GPImage.figure1('volume')\n",
    "imshow(image, cmap='gray')\n",
    "\n",
    "ChatGPT_answer = L.ChatGPT.query(question, image)\n",
    "LLaVA_answer = L.LLaVA.query(question, image)\n",
    "CLLaVA_answer = L.CustomLLaVA.query(question, image)\n",
    "\n",
    "print('GT:          ', label)\n",
    "print('ChatGPT:     ', ChatGPT_answer)\n",
    "print('LLaVA:       ', LLaVA_answer)\n",
    "print('CustomLLaVA: ', CLLaVA_answer)"
   ]
  },
  {
   "cell_type": "markdown",
   "id": "e8510e36-fbaa-4c12-beb5-2a5043b6506a",
   "metadata": {},
   "source": [
    "#### Run9"
   ]
  },
  {
   "cell_type": "code",
   "execution_count": 11,
   "id": "c54d4470-348d-45d9-b177-ab7fe3aea776",
   "metadata": {},
   "outputs": [
    {
     "name": "stderr",
     "output_type": "stream",
     "text": [
      "You are using a model of type llava to instantiate a model of type llava_llama. This is not supported for all configurations of models and can yield errors.\n"
     ]
    },
    {
     "data": {
      "application/vnd.jupyter.widget-view+json": {
       "model_id": "b46ae2d693a84b4f92c0574a1992c41a",
       "version_major": 2,
       "version_minor": 0
      },
      "text/plain": [
       "Loading checkpoint shards:   0%|          | 0/2 [00:00<?, ?it/s]"
      ]
     },
     "metadata": {},
     "output_type": "display_data"
    },
    {
     "data": {
      "application/vnd.jupyter.widget-view+json": {
       "model_id": "c0752e28b54646bca16dd3e16899ca14",
       "version_major": 2,
       "version_minor": 0
      },
      "text/plain": [
       "Loading checkpoint shards:   0%|          | 0/2 [00:00<?, ?it/s]"
      ]
     },
     "metadata": {},
     "output_type": "display_data"
    },
    {
     "name": "stdout",
     "output_type": "stream",
     "text": [
      "GT:           2744\n",
      "ChatGPT:      The cube appears quite small relative to the 100x100 pixel image size. An estimate for the volume of the cube might be in the range of 300-400 pixels.\n",
      "LLaVA:        1000-1100 pixels\n",
      "CustomLLaVA:  1000\n"
     ]
    },
    {
     "data": {
      "image/png": "[encoded data removed]",
      "text/plain": [
       "<Figure size 640x480 with 1 Axes>"
      ]
     },
     "metadata": {},
     "output_type": "display_data"
    }
   ],
   "source": [
    "image, label = L.GPImage.figure1('volume')\n",
    "imshow(image, cmap='gray')\n",
    "\n",
    "ChatGPT_answer = L.ChatGPT.query(question, image)\n",
    "LLaVA_answer = L.LLaVA.query(question, image)\n",
    "CLLaVA_answer = L.CustomLLaVA.query(question, image)\n",
    "\n",
    "print('GT:          ', label)\n",
    "print('ChatGPT:     ', ChatGPT_answer)\n",
    "print('LLaVA:       ', LLaVA_answer)\n",
    "print('CustomLLaVA: ', CLLaVA_answer)"
   ]
  },
  {
   "cell_type": "markdown",
   "id": "4628140c-554a-4a32-af01-bcba58c95f77",
   "metadata": {},
   "source": [
    "#### Run10"
   ]
  },
  {
   "cell_type": "code",
   "execution_count": 12,
   "id": "74150e2f-d39f-4401-b1ff-446be2c8adff",
   "metadata": {},
   "outputs": [
    {
     "name": "stderr",
     "output_type": "stream",
     "text": [
      "You are using a model of type llava to instantiate a model of type llava_llama. This is not supported for all configurations of models and can yield errors.\n"
     ]
    },
    {
     "data": {
      "application/vnd.jupyter.widget-view+json": {
       "model_id": "dfde341aa6e6408f9a1548f0d716bdfd",
       "version_major": 2,
       "version_minor": 0
      },
      "text/plain": [
       "Loading checkpoint shards:   0%|          | 0/2 [00:00<?, ?it/s]"
      ]
     },
     "metadata": {},
     "output_type": "display_data"
    },
    {
     "data": {
      "application/vnd.jupyter.widget-view+json": {
       "model_id": "1551475a58034545af34a3081fbbb3e2",
       "version_major": 2,
       "version_minor": 0
      },
      "text/plain": [
       "Loading checkpoint shards:   0%|          | 0/2 [00:00<?, ?it/s]"
      ]
     },
     "metadata": {},
     "output_type": "display_data"
    },
    {
     "name": "stdout",
     "output_type": "stream",
     "text": [
      "GT:           4096\n",
      "ChatGPT:      3000-3500 pixels\n",
      "LLaVA:        1000-1100 pixels\n",
      "CustomLLaVA:  1000\n"
     ]
    },
    {
     "data": {
      "image/png": "[encoded data removed]",
      "text/plain": [
       "<Figure size 640x480 with 1 Axes>"
      ]
     },
     "metadata": {},
     "output_type": "display_data"
    }
   ],
   "source": [
    "image, label = L.GPImage.figure1('volume')\n",
    "imshow(image, cmap='gray')\n",
    "\n",
    "ChatGPT_answer = L.ChatGPT.query(question, image)\n",
    "LLaVA_answer = L.LLaVA.query(question, image)\n",
    "CLLaVA_answer = L.CustomLLaVA.query(question, image)\n",
    "\n",
    "print('GT:          ', label)\n",
    "print('ChatGPT:     ', ChatGPT_answer)\n",
    "print('LLaVA:       ', LLaVA_answer)\n",
    "print('CustomLLaVA: ', CLLaVA_answer)"
   ]
  },
  {
   "cell_type": "code",
   "execution_count": null,
   "id": "d0cb8c0d-1826-40df-846b-3b73a9b9c227",
   "metadata": {},
   "outputs": [],
   "source": []
  }
 ],
 "metadata": {
  "kernelspec": {
   "display_name": "Python 3 (ipykernel)",
   "language": "python",
   "name": "python3"
  },
  "language_info": {
   "codemirror_mode": {
    "name": "ipython",
    "version": 3
   },
   "file_extension": ".py",
   "mimetype": "text/x-python",
   "name": "python",
   "nbconvert_exporter": "python",
   "pygments_lexer": "ipython3",
   "version": "3.11.7"
  }
 },
 "nbformat": 4,
 "nbformat_minor": 5
}
