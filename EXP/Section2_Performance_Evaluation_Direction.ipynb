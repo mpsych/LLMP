{
 "cells": [
  {
   "cell_type": "code",
   "execution_count": 4,
   "id": "4616c395-68c5-49c3-8d7d-0b6961af8a8a",
   "metadata": {},
   "outputs": [],
   "source": [
    "import sys\n",
    "sys.path.append('../')\n",
    "import LLMP as L\n",
    "import torch\n",
    "torch.torch.cuda.empty_cache()\n",
    "%matplotlib inline\n",
    "from matplotlib.pyplot import imshow\n",
    "\n",
    "# Same question\n",
    "question = \"What do you see? If you see a line, can you estimate the direction of it in degree (0 to 360)? Please respond with just a numerical range \\\n",
    "        not larger than 10 degrees (e.g., 180-190)\""
   ]
  },
  {
   "cell_type": "markdown",
   "id": "007ad749-4c0b-494f-ac92-911f24a2251d",
   "metadata": {},
   "source": [
    "#### Run1"
   ]
  },
  {
   "cell_type": "code",
   "execution_count": 5,
   "id": "fbc49619-5b5b-4162-b6ac-5f22a5422f33",
   "metadata": {},
   "outputs": [
    {
     "name": "stderr",
     "output_type": "stream",
     "text": [
      "You are using a model of type llava to instantiate a model of type llava_llama. This is not supported for all configurations of models and can yield errors.\n"
     ]
    },
    {
     "data": {
      "application/vnd.jupyter.widget-view+json": {
       "model_id": "8086eaac1f7f45a1b17d685a5b528ce7",
       "version_major": 2,
       "version_minor": 0
      },
      "text/plain": [
       "Loading checkpoint shards:   0%|          | 0/2 [00:00<?, ?it/s]"
      ]
     },
     "metadata": {},
     "output_type": "display_data"
    },
    {
     "name": "stderr",
     "output_type": "stream",
     "text": [
      "/home/kenichi.maeda001/anaconda3/envs/LLMP/lib/python3.11/site-packages/transformers/generation/configuration_utils.py:389: UserWarning: `do_sample` is set to `False`. However, `temperature` is set to `0` -- this flag is only used in sample-based generation modes. You should set `do_sample=True` or unset `temperature`.\n",
      "  warnings.warn(\n",
      "/home/kenichi.maeda001/anaconda3/envs/LLMP/lib/python3.11/site-packages/transformers/generation/configuration_utils.py:394: UserWarning: `do_sample` is set to `False`. However, `top_p` is set to `None` -- this flag is only used in sample-based generation modes. You should set `do_sample=True` or unset `top_p`.\n",
      "  warnings.warn(\n"
     ]
    },
    {
     "data": {
      "application/vnd.jupyter.widget-view+json": {
       "model_id": "9e061dce283d40e894ce5beed5103043",
       "version_major": 2,
       "version_minor": 0
      },
      "text/plain": [
       "Loading checkpoint shards:   0%|          | 0/2 [00:00<?, ?it/s]"
      ]
     },
     "metadata": {},
     "output_type": "display_data"
    },
    {
     "name": "stdout",
     "output_type": "stream",
     "text": [
      "GT:           202\n",
      "ChatGPT:      45-55\n",
      "LLaVA:        Yes, I can see a line in the image. The line is pointing upwards, and I estimate its direction to be around 45 degrees.\n",
      "CustomLLaVA:  179\n"
     ]
    },
    {
     "data": {
      "image/png": "[encoded data removed]",
      "text/plain": [
       "<Figure size 640x480 with 1 Axes>"
      ]
     },
     "metadata": {},
     "output_type": "display_data"
    }
   ],
   "source": [
    "image, label = L.GPImage.figure1('direction')\n",
    "imshow(image, cmap='gray')\n",
    "\n",
    "ChatGPT_answer = L.ChatGPT.query(question, image)\n",
    "LLaVA_answer = L.LLaVA.query(question, image)\n",
    "CLLaVA_answer = L.CustomLLaVA.query(question, image)\n",
    "\n",
    "print('GT:          ', label)\n",
    "print('ChatGPT:     ', ChatGPT_answer)\n",
    "print('LLaVA:       ', LLaVA_answer)\n",
    "print('CustomLLaVA: ', CLLaVA_answer)"
   ]
  },
  {
   "cell_type": "markdown",
   "id": "64d75968-1406-453c-8bc8-f8cbe1ea8562",
   "metadata": {},
   "source": [
    "#### Run2"
   ]
  },
  {
   "cell_type": "code",
   "execution_count": 6,
   "id": "c9dc9e23-4fcc-4078-afc7-1d1ae9363a0f",
   "metadata": {},
   "outputs": [
    {
     "name": "stderr",
     "output_type": "stream",
     "text": [
      "You are using a model of type llava to instantiate a model of type llava_llama. This is not supported for all configurations of models and can yield errors.\n"
     ]
    },
    {
     "data": {
      "application/vnd.jupyter.widget-view+json": {
       "model_id": "27af48deb1b64f1eb26d139f7c6b14ce",
       "version_major": 2,
       "version_minor": 0
      },
      "text/plain": [
       "Loading checkpoint shards:   0%|          | 0/2 [00:00<?, ?it/s]"
      ]
     },
     "metadata": {},
     "output_type": "display_data"
    },
    {
     "data": {
      "application/vnd.jupyter.widget-view+json": {
       "model_id": "9a21b63001754539a831a9d800cc1841",
       "version_major": 2,
       "version_minor": 0
      },
      "text/plain": [
       "Loading checkpoint shards:   0%|          | 0/2 [00:00<?, ?it/s]"
      ]
     },
     "metadata": {},
     "output_type": "display_data"
    },
    {
     "name": "stdout",
     "output_type": "stream",
     "text": [
      "GT:           10\n",
      "ChatGPT:      310-320\n",
      "LLaVA:        Yes, I can estimate the direction of the line. It is pointing upwards, approximately 45 degrees.\n",
      "CustomLLaVA:  169\n"
     ]
    },
    {
     "data": {
      "image/png": "[encoded data removed]",
      "text/plain": [
       "<Figure size 640x480 with 1 Axes>"
      ]
     },
     "metadata": {},
     "output_type": "display_data"
    }
   ],
   "source": [
    "image, label = L.GPImage.figure1('direction')\n",
    "imshow(image, cmap='gray')\n",
    "\n",
    "ChatGPT_answer = L.ChatGPT.query(question, image)\n",
    "LLaVA_answer = L.LLaVA.query(question, image)\n",
    "CLLaVA_answer = L.CustomLLaVA.query(question, image)\n",
    "\n",
    "print('GT:          ', label)\n",
    "print('ChatGPT:     ', ChatGPT_answer)\n",
    "print('LLaVA:       ', LLaVA_answer)\n",
    "print('CustomLLaVA: ', CLLaVA_answer)"
   ]
  },
  {
   "cell_type": "markdown",
   "id": "fbb1ca40-1156-44f4-95c0-294af12758fe",
   "metadata": {},
   "source": [
    "#### Run3"
   ]
  },
  {
   "cell_type": "code",
   "execution_count": 7,
   "id": "3e36205e-68e4-41b5-9900-4a60ea102c11",
   "metadata": {},
   "outputs": [
    {
     "name": "stderr",
     "output_type": "stream",
     "text": [
      "You are using a model of type llava to instantiate a model of type llava_llama. This is not supported for all configurations of models and can yield errors.\n"
     ]
    },
    {
     "data": {
      "application/vnd.jupyter.widget-view+json": {
       "model_id": "c176e8dc5cbb481b8ce7d911b4c05786",
       "version_major": 2,
       "version_minor": 0
      },
      "text/plain": [
       "Loading checkpoint shards:   0%|          | 0/2 [00:00<?, ?it/s]"
      ]
     },
     "metadata": {},
     "output_type": "display_data"
    },
    {
     "data": {
      "application/vnd.jupyter.widget-view+json": {
       "model_id": "51b83b5e449749a4b01824f78a3853e9",
       "version_major": 2,
       "version_minor": 0
      },
      "text/plain": [
       "Loading checkpoint shards:   0%|          | 0/2 [00:00<?, ?it/s]"
      ]
     },
     "metadata": {},
     "output_type": "display_data"
    },
    {
     "name": "stdout",
     "output_type": "stream",
     "text": [
      "GT:           241\n",
      "ChatGPT:      45-55\n",
      "LLaVA:        Yes, I can see a line in the image. The line is pointing upwards, and I estimate its direction to be around 45 degrees.\n",
      "CustomLLaVA:  177\n"
     ]
    },
    {
     "data": {
      "image/png": "[encoded data removed]",
      "text/plain": [
       "<Figure size 640x480 with 1 Axes>"
      ]
     },
     "metadata": {},
     "output_type": "display_data"
    }
   ],
   "source": [
    "image, label = L.GPImage.figure1('direction')\n",
    "imshow(image, cmap='gray')\n",
    "\n",
    "ChatGPT_answer = L.ChatGPT.query(question, image)\n",
    "LLaVA_answer = L.LLaVA.query(question, image)\n",
    "CLLaVA_answer = L.CustomLLaVA.query(question, image)\n",
    "\n",
    "print('GT:          ', label)\n",
    "print('ChatGPT:     ', ChatGPT_answer)\n",
    "print('LLaVA:       ', LLaVA_answer)\n",
    "print('CustomLLaVA: ', CLLaVA_answer)"
   ]
  },
  {
   "cell_type": "markdown",
   "id": "420988e4-c67d-4be6-bfe0-86d8970f27cd",
   "metadata": {},
   "source": [
    "#### Run4"
   ]
  },
  {
   "cell_type": "code",
   "execution_count": 8,
   "id": "85994e2f-01d6-4ef3-a335-b8771755243f",
   "metadata": {},
   "outputs": [
    {
     "name": "stderr",
     "output_type": "stream",
     "text": [
      "You are using a model of type llava to instantiate a model of type llava_llama. This is not supported for all configurations of models and can yield errors.\n"
     ]
    },
    {
     "data": {
      "application/vnd.jupyter.widget-view+json": {
       "model_id": "40d1941d67fa42d3a6e6f66ec10faeb6",
       "version_major": 2,
       "version_minor": 0
      },
      "text/plain": [
       "Loading checkpoint shards:   0%|          | 0/2 [00:00<?, ?it/s]"
      ]
     },
     "metadata": {},
     "output_type": "display_data"
    },
    {
     "data": {
      "application/vnd.jupyter.widget-view+json": {
       "model_id": "6b16772f61eb488ab853887417ef375e",
       "version_major": 2,
       "version_minor": 0
      },
      "text/plain": [
       "Loading checkpoint shards:   0%|          | 0/2 [00:00<?, ?it/s]"
      ]
     },
     "metadata": {},
     "output_type": "display_data"
    },
    {
     "name": "stdout",
     "output_type": "stream",
     "text": [
      "GT:           215\n",
      "ChatGPT:      45-55\n",
      "LLaVA:        Yes, I can see a line in the image. The line is pointing upwards, and I estimate its direction to be around 45 degrees.\n",
      "CustomLLaVA:  179\n"
     ]
    },
    {
     "data": {
      "image/png": "[encoded data removed]",
      "text/plain": [
       "<Figure size 640x480 with 1 Axes>"
      ]
     },
     "metadata": {},
     "output_type": "display_data"
    }
   ],
   "source": [
    "image, label = L.GPImage.figure1('direction')\n",
    "imshow(image, cmap='gray')\n",
    "\n",
    "ChatGPT_answer = L.ChatGPT.query(question, image)\n",
    "LLaVA_answer = L.LLaVA.query(question, image)\n",
    "CLLaVA_answer = L.CustomLLaVA.query(question, image)\n",
    "\n",
    "print('GT:          ', label)\n",
    "print('ChatGPT:     ', ChatGPT_answer)\n",
    "print('LLaVA:       ', LLaVA_answer)\n",
    "print('CustomLLaVA: ', CLLaVA_answer)"
   ]
  },
  {
   "cell_type": "markdown",
   "id": "eb523b10-3cca-4c76-9468-90695f2e8a1a",
   "metadata": {},
   "source": [
    "#### Run5"
   ]
  },
  {
   "cell_type": "code",
   "execution_count": 9,
   "id": "315abc24-5d4a-4f32-be6b-ec8e68cc5b3f",
   "metadata": {},
   "outputs": [
    {
     "name": "stderr",
     "output_type": "stream",
     "text": [
      "You are using a model of type llava to instantiate a model of type llava_llama. This is not supported for all configurations of models and can yield errors.\n"
     ]
    },
    {
     "data": {
      "application/vnd.jupyter.widget-view+json": {
       "model_id": "40a65ab8aaec465080d83324ea49b250",
       "version_major": 2,
       "version_minor": 0
      },
      "text/plain": [
       "Loading checkpoint shards:   0%|          | 0/2 [00:00<?, ?it/s]"
      ]
     },
     "metadata": {},
     "output_type": "display_data"
    },
    {
     "data": {
      "application/vnd.jupyter.widget-view+json": {
       "model_id": "30d7b3e58e0b48d196236a2cb59c9995",
       "version_major": 2,
       "version_minor": 0
      },
      "text/plain": [
       "Loading checkpoint shards:   0%|          | 0/2 [00:00<?, ?it/s]"
      ]
     },
     "metadata": {},
     "output_type": "display_data"
    },
    {
     "name": "stdout",
     "output_type": "stream",
     "text": [
      "GT:           356\n",
      "ChatGPT:      270-280\n",
      "LLaVA:        Yes, I can see a line in the image. The line is pointing upwards, and I estimate its direction to be approximately 45 degrees.\n",
      "CustomLLaVA:  171\n"
     ]
    },
    {
     "data": {
      "image/png": "[encoded data removed]",
      "text/plain": [
       "<Figure size 640x480 with 1 Axes>"
      ]
     },
     "metadata": {},
     "output_type": "display_data"
    }
   ],
   "source": [
    "image, label = L.GPImage.figure1('direction')\n",
    "imshow(image, cmap='gray')\n",
    "\n",
    "ChatGPT_answer = L.ChatGPT.query(question, image)\n",
    "LLaVA_answer = L.LLaVA.query(question, image)\n",
    "CLLaVA_answer = L.CustomLLaVA.query(question, image)\n",
    "\n",
    "print('GT:          ', label)\n",
    "print('ChatGPT:     ', ChatGPT_answer)\n",
    "print('LLaVA:       ', LLaVA_answer)\n",
    "print('CustomLLaVA: ', CLLaVA_answer)"
   ]
  },
  {
   "cell_type": "markdown",
   "id": "76bbf0f7-3959-48b2-b899-acaa5495ffb6",
   "metadata": {},
   "source": [
    "#### Run6"
   ]
  },
  {
   "cell_type": "code",
   "execution_count": 10,
   "id": "f6aa3b13-382a-4694-8459-e57238d0274c",
   "metadata": {},
   "outputs": [
    {
     "name": "stderr",
     "output_type": "stream",
     "text": [
      "You are using a model of type llava to instantiate a model of type llava_llama. This is not supported for all configurations of models and can yield errors.\n"
     ]
    },
    {
     "data": {
      "application/vnd.jupyter.widget-view+json": {
       "model_id": "421bba0576e743b08d23ebe52c7fd212",
       "version_major": 2,
       "version_minor": 0
      },
      "text/plain": [
       "Loading checkpoint shards:   0%|          | 0/2 [00:00<?, ?it/s]"
      ]
     },
     "metadata": {},
     "output_type": "display_data"
    },
    {
     "data": {
      "application/vnd.jupyter.widget-view+json": {
       "model_id": "c8bdd441ad4c46ff9d62e41ffb0e944b",
       "version_major": 2,
       "version_minor": 0
      },
      "text/plain": [
       "Loading checkpoint shards:   0%|          | 0/2 [00:00<?, ?it/s]"
      ]
     },
     "metadata": {},
     "output_type": "display_data"
    },
    {
     "name": "stdout",
     "output_type": "stream",
     "text": [
      "GT:           135\n",
      "ChatGPT:      315-325\n",
      "LLaVA:        Yes, I can estimate the direction of the line. It is pointing upwards, approximately 45 degrees.\n",
      "CustomLLaVA:  169\n"
     ]
    },
    {
     "data": {
      "image/png": "[encoded data removed]",
      "text/plain": [
       "<Figure size 640x480 with 1 Axes>"
      ]
     },
     "metadata": {},
     "output_type": "display_data"
    }
   ],
   "source": [
    "image, label = L.GPImage.figure1('direction')\n",
    "imshow(image, cmap='gray')\n",
    "\n",
    "ChatGPT_answer = L.ChatGPT.query(question, image)\n",
    "LLaVA_answer = L.LLaVA.query(question, image)\n",
    "CLLaVA_answer = L.CustomLLaVA.query(question, image)\n",
    "\n",
    "print('GT:          ', label)\n",
    "print('ChatGPT:     ', ChatGPT_answer)\n",
    "print('LLaVA:       ', LLaVA_answer)\n",
    "print('CustomLLaVA: ', CLLaVA_answer)"
   ]
  },
  {
   "cell_type": "markdown",
   "id": "41ef10f1-db2f-4d05-974d-4288908b6797",
   "metadata": {},
   "source": [
    "#### Run7"
   ]
  },
  {
   "cell_type": "code",
   "execution_count": 11,
   "id": "191c2954-e07f-4440-a929-c186b9155bf2",
   "metadata": {},
   "outputs": [
    {
     "name": "stderr",
     "output_type": "stream",
     "text": [
      "You are using a model of type llava to instantiate a model of type llava_llama. This is not supported for all configurations of models and can yield errors.\n"
     ]
    },
    {
     "data": {
      "application/vnd.jupyter.widget-view+json": {
       "model_id": "aae36b2eb1774e5a93e5d34437a048a4",
       "version_major": 2,
       "version_minor": 0
      },
      "text/plain": [
       "Loading checkpoint shards:   0%|          | 0/2 [00:00<?, ?it/s]"
      ]
     },
     "metadata": {},
     "output_type": "display_data"
    },
    {
     "data": {
      "application/vnd.jupyter.widget-view+json": {
       "model_id": "02e670db7bf743c49ecbe6fa18d83e62",
       "version_major": 2,
       "version_minor": 0
      },
      "text/plain": [
       "Loading checkpoint shards:   0%|          | 0/2 [00:00<?, ?it/s]"
      ]
     },
     "metadata": {},
     "output_type": "display_data"
    },
    {
     "name": "stdout",
     "output_type": "stream",
     "text": [
      "GT:           54\n",
      "ChatGPT:      45-55\n",
      "LLaVA:        Yes, I can estimate the direction of the line. It is pointing upwards, approximately 45 degrees.\n",
      "CustomLLaVA:  179\n"
     ]
    },
    {
     "data": {
      "image/png": "[encoded data removed]",
      "text/plain": [
       "<Figure size 640x480 with 1 Axes>"
      ]
     },
     "metadata": {},
     "output_type": "display_data"
    }
   ],
   "source": [
    "image, label = L.GPImage.figure1('direction')\n",
    "imshow(image, cmap='gray')\n",
    "\n",
    "ChatGPT_answer = L.ChatGPT.query(question, image)\n",
    "LLaVA_answer = L.LLaVA.query(question, image)\n",
    "CLLaVA_answer = L.CustomLLaVA.query(question, image)\n",
    "\n",
    "print('GT:          ', label)\n",
    "print('ChatGPT:     ', ChatGPT_answer)\n",
    "print('LLaVA:       ', LLaVA_answer)\n",
    "print('CustomLLaVA: ', CLLaVA_answer)"
   ]
  },
  {
   "cell_type": "markdown",
   "id": "b61caf86-edbf-425d-976e-426acc44354f",
   "metadata": {},
   "source": [
    "#### Run8"
   ]
  },
  {
   "cell_type": "code",
   "execution_count": 12,
   "id": "98caac3b-c088-4d80-adf6-0700062aca88",
   "metadata": {},
   "outputs": [
    {
     "name": "stderr",
     "output_type": "stream",
     "text": [
      "You are using a model of type llava to instantiate a model of type llava_llama. This is not supported for all configurations of models and can yield errors.\n"
     ]
    },
    {
     "data": {
      "application/vnd.jupyter.widget-view+json": {
       "model_id": "8dead09047ad4f738de2ec0d5cd1b91b",
       "version_major": 2,
       "version_minor": 0
      },
      "text/plain": [
       "Loading checkpoint shards:   0%|          | 0/2 [00:00<?, ?it/s]"
      ]
     },
     "metadata": {},
     "output_type": "display_data"
    },
    {
     "data": {
      "application/vnd.jupyter.widget-view+json": {
       "model_id": "6070cc16d9fc4bbd8fd72be8c10e8aa3",
       "version_major": 2,
       "version_minor": 0
      },
      "text/plain": [
       "Loading checkpoint shards:   0%|          | 0/2 [00:00<?, ?it/s]"
      ]
     },
     "metadata": {},
     "output_type": "display_data"
    },
    {
     "name": "stdout",
     "output_type": "stream",
     "text": [
      "GT:           118\n",
      "ChatGPT:      310-320\n",
      "LLaVA:        Yes, I can see a line in the image. The line is pointing upwards, and it is approximately 45 degrees.\n",
      "CustomLLaVA:  176\n"
     ]
    },
    {
     "data": {
      "image/png": "[encoded data removed]",
      "text/plain": [
       "<Figure size 640x480 with 1 Axes>"
      ]
     },
     "metadata": {},
     "output_type": "display_data"
    }
   ],
   "source": [
    "image, label = L.GPImage.figure1('direction')\n",
    "imshow(image, cmap='gray')\n",
    "\n",
    "ChatGPT_answer = L.ChatGPT.query(question, image)\n",
    "LLaVA_answer = L.LLaVA.query(question, image)\n",
    "CLLaVA_answer = L.CustomLLaVA.query(question, image)\n",
    "\n",
    "print('GT:          ', label)\n",
    "print('ChatGPT:     ', ChatGPT_answer)\n",
    "print('LLaVA:       ', LLaVA_answer)\n",
    "print('CustomLLaVA: ', CLLaVA_answer)"
   ]
  },
  {
   "cell_type": "markdown",
   "id": "17bf1297-0ccc-4a19-ada0-a60c82725d64",
   "metadata": {},
   "source": [
    "#### Run9"
   ]
  },
  {
   "cell_type": "code",
   "execution_count": 13,
   "id": "657a0383-5a69-40bb-b67e-011548b284a9",
   "metadata": {},
   "outputs": [
    {
     "name": "stderr",
     "output_type": "stream",
     "text": [
      "You are using a model of type llava to instantiate a model of type llava_llama. This is not supported for all configurations of models and can yield errors.\n"
     ]
    },
    {
     "data": {
      "application/vnd.jupyter.widget-view+json": {
       "model_id": "3118a04792634cff81810b40fabdea77",
       "version_major": 2,
       "version_minor": 0
      },
      "text/plain": [
       "Loading checkpoint shards:   0%|          | 0/2 [00:00<?, ?it/s]"
      ]
     },
     "metadata": {},
     "output_type": "display_data"
    },
    {
     "data": {
      "application/vnd.jupyter.widget-view+json": {
       "model_id": "b09b248330174ecf8bce8742d729f12a",
       "version_major": 2,
       "version_minor": 0
      },
      "text/plain": [
       "Loading checkpoint shards:   0%|          | 0/2 [00:00<?, ?it/s]"
      ]
     },
     "metadata": {},
     "output_type": "display_data"
    },
    {
     "name": "stdout",
     "output_type": "stream",
     "text": [
      "GT:           316\n",
      "ChatGPT:      315-325\n",
      "LLaVA:        Yes, I can estimate the direction of the line. It is pointing upwards, approximately 45 degrees.\n",
      "CustomLLaVA:  179\n"
     ]
    },
    {
     "data": {
      "image/png": "[encoded data removed]",
      "text/plain": [
       "<Figure size 640x480 with 1 Axes>"
      ]
     },
     "metadata": {},
     "output_type": "display_data"
    }
   ],
   "source": [
    "image, label = L.GPImage.figure1('direction')\n",
    "imshow(image, cmap='gray')\n",
    "\n",
    "ChatGPT_answer = L.ChatGPT.query(question, image)\n",
    "LLaVA_answer = L.LLaVA.query(question, image)\n",
    "CLLaVA_answer = L.CustomLLaVA.query(question, image)\n",
    "\n",
    "print('GT:          ', label)\n",
    "print('ChatGPT:     ', ChatGPT_answer)\n",
    "print('LLaVA:       ', LLaVA_answer)\n",
    "print('CustomLLaVA: ', CLLaVA_answer)"
   ]
  },
  {
   "cell_type": "markdown",
   "id": "0368e9cf-a99f-4346-9037-53ad312343b3",
   "metadata": {},
   "source": [
    "#### Run10"
   ]
  },
  {
   "cell_type": "code",
   "execution_count": 14,
   "id": "c353e98b-c0d9-4fe7-944b-fbf3311a18ab",
   "metadata": {},
   "outputs": [
    {
     "name": "stderr",
     "output_type": "stream",
     "text": [
      "You are using a model of type llava to instantiate a model of type llava_llama. This is not supported for all configurations of models and can yield errors.\n"
     ]
    },
    {
     "data": {
      "application/vnd.jupyter.widget-view+json": {
       "model_id": "e44299a30f164241bf9d05b8a384e7c5",
       "version_major": 2,
       "version_minor": 0
      },
      "text/plain": [
       "Loading checkpoint shards:   0%|          | 0/2 [00:00<?, ?it/s]"
      ]
     },
     "metadata": {},
     "output_type": "display_data"
    },
    {
     "data": {
      "application/vnd.jupyter.widget-view+json": {
       "model_id": "51afb6347d584be28159cd7e969e0b14",
       "version_major": 2,
       "version_minor": 0
      },
      "text/plain": [
       "Loading checkpoint shards:   0%|          | 0/2 [00:00<?, ?it/s]"
      ]
     },
     "metadata": {},
     "output_type": "display_data"
    },
    {
     "name": "stdout",
     "output_type": "stream",
     "text": [
      "GT:           133\n",
      "ChatGPT:      45-55\n",
      "LLaVA:        Yes, I can estimate the direction of the line. It is pointing upwards, approximately 45 degrees.\n",
      "CustomLLaVA:  169\n"
     ]
    },
    {
     "data": {
      "image/png": "[encoded data removed]",
      "text/plain": [
       "<Figure size 640x480 with 1 Axes>"
      ]
     },
     "metadata": {},
     "output_type": "display_data"
    }
   ],
   "source": [
    "image, label = L.GPImage.figure1('direction')\n",
    "imshow(image, cmap='gray')\n",
    "\n",
    "ChatGPT_answer = L.ChatGPT.query(question, image)\n",
    "LLaVA_answer = L.LLaVA.query(question, image)\n",
    "CLLaVA_answer = L.CustomLLaVA.query(question, image)\n",
    "\n",
    "print('GT:          ', label)\n",
    "print('ChatGPT:     ', ChatGPT_answer)\n",
    "print('LLaVA:       ', LLaVA_answer)\n",
    "print('CustomLLaVA: ', CLLaVA_answer)"
   ]
  },
  {
   "cell_type": "code",
   "execution_count": null,
   "id": "8aaa2451-d915-4541-be0c-40c922f9e6d9",
   "metadata": {},
   "outputs": [],
   "source": []
  }
 ],
 "metadata": {
  "kernelspec": {
   "display_name": "Python 3 (ipykernel)",
   "language": "python",
   "name": "python3"
  },
  "language_info": {
   "codemirror_mode": {
    "name": "ipython",
    "version": 3
   },
   "file_extension": ".py",
   "mimetype": "text/x-python",
   "name": "python",
   "nbconvert_exporter": "python",
   "pygments_lexer": "ipython3",
   "version": "3.11.7"
  }
 },
 "nbformat": 4,
 "nbformat_minor": 5
}
