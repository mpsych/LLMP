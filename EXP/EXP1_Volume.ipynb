{
 "cells": [
  {
   "cell_type": "code",
   "execution_count": 1,
   "id": "a335fa15-c1cb-4b8a-ab19-4cd1d510ebe2",
   "metadata": {},
   "outputs": [
    {
     "name": "stdout",
     "output_type": "stream",
     "text": [
      "[2024-04-15 23:19:39,422] [INFO] [real_accelerator.py:191:get_accelerator] Setting ds_accelerator to cuda (auto detect)\n"
     ]
    },
    {
     "name": "stderr",
     "output_type": "stream",
     "text": [
      "You are using a model of type llava to instantiate a model of type llava_llama. This is not supported for all configurations of models and can yield errors.\n"
     ]
    },
    {
     "data": {
      "application/vnd.jupyter.widget-view+json": {
       "model_id": "8fc1cc97798746d69a833c3c49e6a720",
       "version_major": 2,
       "version_minor": 0
      },
      "text/plain": [
       "Loading checkpoint shards:   0%|          | 0/2 [00:00<?, ?it/s]"
      ]
     },
     "metadata": {},
     "output_type": "display_data"
    },
    {
     "name": "stderr",
     "output_type": "stream",
     "text": [
      "/home/kenichi.maeda001/anaconda3/envs/LLMP/lib/python3.11/site-packages/transformers/generation/configuration_utils.py:389: UserWarning: `do_sample` is set to `False`. However, `temperature` is set to `0` -- this flag is only used in sample-based generation modes. You should set `do_sample=True` or unset `temperature`.\n",
      "  warnings.warn(\n",
      "/home/kenichi.maeda001/anaconda3/envs/LLMP/lib/python3.11/site-packages/transformers/generation/configuration_utils.py:394: UserWarning: `do_sample` is set to `False`. However, `top_p` is set to `None` -- this flag is only used in sample-based generation modes. You should set `do_sample=True` or unset `top_p`.\n",
      "  warnings.warn(\n",
      "You are using a model of type llava to instantiate a model of type llava_llama. This is not supported for all configurations of models and can yield errors.\n"
     ]
    },
    {
     "data": {
      "application/vnd.jupyter.widget-view+json": {
       "model_id": "8e2b60f288d243ba84622f58e0a4461e",
       "version_major": 2,
       "version_minor": 0
      },
      "text/plain": [
       "Loading checkpoint shards:   0%|          | 0/2 [00:00<?, ?it/s]"
      ]
     },
     "metadata": {},
     "output_type": "display_data"
    },
    {
     "name": "stderr",
     "output_type": "stream",
     "text": [
      "You are using a model of type llava to instantiate a model of type llava_llama. This is not supported for all configurations of models and can yield errors.\n"
     ]
    },
    {
     "data": {
      "application/vnd.jupyter.widget-view+json": {
       "model_id": "bb45f2c0a4244a92ae1fceaf652f80c7",
       "version_major": 2,
       "version_minor": 0
      },
      "text/plain": [
       "Loading checkpoint shards:   0%|          | 0/2 [00:00<?, ?it/s]"
      ]
     },
     "metadata": {},
     "output_type": "display_data"
    },
    {
     "name": "stderr",
     "output_type": "stream",
     "text": [
      "You are using a model of type llava to instantiate a model of type llava_llama. This is not supported for all configurations of models and can yield errors.\n"
     ]
    },
    {
     "data": {
      "application/vnd.jupyter.widget-view+json": {
       "model_id": "21acc8a1462448e0a60e3bb7c84d5a92",
       "version_major": 2,
       "version_minor": 0
      },
      "text/plain": [
       "Loading checkpoint shards:   0%|          | 0/2 [00:00<?, ?it/s]"
      ]
     },
     "metadata": {},
     "output_type": "display_data"
    },
    {
     "name": "stderr",
     "output_type": "stream",
     "text": [
      "You are using a model of type llava to instantiate a model of type llava_llama. This is not supported for all configurations of models and can yield errors.\n"
     ]
    },
    {
     "data": {
      "application/vnd.jupyter.widget-view+json": {
       "model_id": "b850059d1337496d974b18bfa8660a31",
       "version_major": 2,
       "version_minor": 0
      },
      "text/plain": [
       "Loading checkpoint shards:   0%|          | 0/2 [00:00<?, ?it/s]"
      ]
     },
     "metadata": {},
     "output_type": "display_data"
    },
    {
     "name": "stderr",
     "output_type": "stream",
     "text": [
      "You are using a model of type llava to instantiate a model of type llava_llama. This is not supported for all configurations of models and can yield errors.\n"
     ]
    },
    {
     "data": {
      "application/vnd.jupyter.widget-view+json": {
       "model_id": "ccf0110aa3044cf5bb447583c2396999",
       "version_major": 2,
       "version_minor": 0
      },
      "text/plain": [
       "Loading checkpoint shards:   0%|          | 0/2 [00:00<?, ?it/s]"
      ]
     },
     "metadata": {},
     "output_type": "display_data"
    },
    {
     "name": "stderr",
     "output_type": "stream",
     "text": [
      "You are using a model of type llava to instantiate a model of type llava_llama. This is not supported for all configurations of models and can yield errors.\n"
     ]
    },
    {
     "data": {
      "application/vnd.jupyter.widget-view+json": {
       "model_id": "ffcb8fc46f8246a69895de25acd1f668",
       "version_major": 2,
       "version_minor": 0
      },
      "text/plain": [
       "Loading checkpoint shards:   0%|          | 0/2 [00:00<?, ?it/s]"
      ]
     },
     "metadata": {},
     "output_type": "display_data"
    },
    {
     "name": "stderr",
     "output_type": "stream",
     "text": [
      "You are using a model of type llava to instantiate a model of type llava_llama. This is not supported for all configurations of models and can yield errors.\n"
     ]
    },
    {
     "data": {
      "application/vnd.jupyter.widget-view+json": {
       "model_id": "0b6af54dd66440c5b5e56e70b5f56010",
       "version_major": 2,
       "version_minor": 0
      },
      "text/plain": [
       "Loading checkpoint shards:   0%|          | 0/2 [00:00<?, ?it/s]"
      ]
     },
     "metadata": {},
     "output_type": "display_data"
    },
    {
     "name": "stderr",
     "output_type": "stream",
     "text": [
      "You are using a model of type llava to instantiate a model of type llava_llama. This is not supported for all configurations of models and can yield errors.\n"
     ]
    },
    {
     "data": {
      "application/vnd.jupyter.widget-view+json": {
       "model_id": "8a585e74dff348ac89117775820d1130",
       "version_major": 2,
       "version_minor": 0
      },
      "text/plain": [
       "Loading checkpoint shards:   0%|          | 0/2 [00:00<?, ?it/s]"
      ]
     },
     "metadata": {},
     "output_type": "display_data"
    },
    {
     "name": "stderr",
     "output_type": "stream",
     "text": [
      "You are using a model of type llava to instantiate a model of type llava_llama. This is not supported for all configurations of models and can yield errors.\n"
     ]
    },
    {
     "data": {
      "application/vnd.jupyter.widget-view+json": {
       "model_id": "5f10239f2b804273a889fe0f2a32efc3",
       "version_major": 2,
       "version_minor": 0
      },
      "text/plain": [
       "Loading checkpoint shards:   0%|          | 0/2 [00:00<?, ?it/s]"
      ]
     },
     "metadata": {},
     "output_type": "display_data"
    },
    {
     "name": "stdout",
     "output_type": "stream",
     "text": [
      "{'gt': [4096, 8, 125, 1728, 27, 729, 1331, 8000, 4913, 1], 'ChatGPT': {'parameters': None, 'raw_answers': [\"The image does not provide enough information to precisely calculate the volume, but based on the approximate dimensions visually, I'd estimate the cube's volume to be around 300-500 pixels.\", 'The cube appears very small relative to the 100x100 pixel space, so an estimation of its volume could be between 20-30 pixels.', '300-400 pixels', '1000-2000 pixels', 'The cube looks like it might be approximately 5x5x5 pixels, so the volume would be around 125 pixels.', 'The cube appears to occupy roughly a 10x10x10 pixel volume, so the estimated volume would be about 1000 pixels.', 'Given the limited information and assuming the cube is sized proportionally to the pixel space, the volume of the cube is approximately 1000-2000 pixels.', 'Estimating the volume of the cube as it appears in the image: 1000-1500 pixels.', 'The volume of the cube is approximately 27,000-30,000 pixels.', 'The cube appears to occupy a very small volume; if we assume each side is approximately 5 pixels, then the estimated volume would be 125 pixels (5x5x5).'], 'parsed_answers': [[300.0, 500.0], [20.0, 30.0], [300.0, 400.0], [1000.0, 2000.0], [125.0], [1000.0], [1000.0, 2000.0], [1000.0, 1500.0], [27.0, 0.0, 30.0, 0.0], [5.0, 125.0]], 'mse': 8330474.1, 'mlae': 17.32360127218824, 'times': [2475.1057624816895, 2302.2382259368896, 63841.12501144409, 1123.3506202697754, 42964.2972946167, 1443.422794342041, 3109.113931655884, 2395.6332206726074, 15538.074731826782, 88320.6570148468], 'forced_repetitions': 14}, 'LLaVA': {'parameters': None, 'raw_answers': ['1000-1100 pixels', 'The volume of the cube is approximately 1000-1100 pixels.', '1000-1100 pixels', '1000-1100 pixels', '1000-1100 pixels', '1000-1100 pixels', '1000-1100 pixels', '1000-1100 pixels', '1000-1100 pixels', '1000-1100 pixels'], 'parsed_answers': [[1000.0, 1100.0], [1000.0, 1100.0], [1000.0, 1100.0], [1000.0, 1100.0], [1000.0, 1100.0], [1000.0, 1100.0], [1000.0, 1100.0], [1000.0, 1100.0], [1000.0, 1100.0], [1000.0, 1100.0]], 'mse': 7723339.0, 'mlae': 17.549093689841506, 'times': [20979.38585281372, 8135.394096374512, 7060.547351837158, 7968.518257141113, 7053.921937942505, 6954.397201538086, 6964.906454086304, 7172.437429428101, 6909.654855728149, 6979.2845249176025], 'forced_repetitions': 0}, 'CustomLLaVA': {'parameters': None, 'raw_answers': ['1000', '1000', '1000', '1000', '1000', '1000', '1000', '1000', '1000', '1000'], 'parsed_answers': [[1000.0], [1000.0], [1000.0], [1000.0], [1000.0], [1000.0], [1000.0], [1000.0], [1000.0], [1000.0]], 'mse': 7830419.0, 'mlae': 17.549093689841506, 'times': [22175.800323486328, 19720.467805862427, 19261.417865753174, 20410.533905029297, 19431.952476501465, 19110.77904701233, 19691.277980804443, 19219.19560432434, 19123.36277961731, 19755.47766685486], 'forced_repetitions': 0}}\n"
     ]
    }
   ],
   "source": [
    "import sys\n",
    "sys.path.append('../')\n",
    "import LLMP as L\n",
    "import torch\n",
    "torch.torch.cuda.empty_cache()\n",
    "\n",
    "query = \"What do you see? You should see something like a cube in the image. The image itself is 100 by 100 pixels, \\\n",
    "            but suppose the cube exists in a 100 by 100 by 100 pixels space. Estimate the volume of the cube in pixels and \\\n",
    "            respond with a numerical range. It does not have to be perfectly precise; just give me your numerical estimation.\\\n",
    "            If you could estimate, answer shortly just with one sentence as 1000 pixels or 1000-1100 pixels\"\n",
    "images = [L.GPImage.figure1('volume') for i in range(10)]\n",
    "models = [\"ChatGPT\", \"LLaVA\", \"CustomLLaVA\"]\n",
    "\n",
    "results = L.Evaluator.run(images, query, models)\n",
    "print(results)"
   ]
  },
  {
   "cell_type": "code",
   "execution_count": 2,
   "id": "094f2363-bd9d-4714-8f23-0409c793d52b",
   "metadata": {},
   "outputs": [],
   "source": [
    "chatGPT_mse = results[\"ChatGPT\"][\"mse\"]\n",
    "chatGPT_mlae = results[\"ChatGPT\"][\"mlae\"]\n",
    "llava_mse = results[\"LLaVA\"][\"mse\"]\n",
    "llava_mlae = results[\"LLaVA\"][\"mlae\"]\n",
    "custom_llava_mse = results[\"CustomLLaVA\"][\"mse\"]\n",
    "custom_llava_mlae = results[\"CustomLLaVA\"][\"mlae\"]"
   ]
  },
  {
   "cell_type": "code",
   "execution_count": 3,
   "id": "e52d2eac-717b-491a-824f-9cde5c5693ca",
   "metadata": {},
   "outputs": [
    {
     "name": "stdout",
     "output_type": "stream",
     "text": [
      "ChatGPT mse:  8330474.1\n",
      "ChatGPT mlae: 17.32360127218824\n",
      "LLaVA mse:    7723339.0\n",
      "LLaVA mlae:   17.549093689841506\n",
      "CLLaVA mse:   7830419.0\n",
      "CLLaVA mlae:  17.549093689841506\n"
     ]
    }
   ],
   "source": [
    "print(\"ChatGPT mse: \", chatGPT_mse)\n",
    "print(\"ChatGPT mlae:\", chatGPT_mlae)\n",
    "print(\"LLaVA mse:   \", llava_mse)\n",
    "print(\"LLaVA mlae:  \", llava_mlae)\n",
    "print(\"CLLaVA mse:  \", custom_llava_mse)\n",
    "print(\"CLLaVA mlae: \", custom_llava_mlae)"
   ]
  },
  {
   "cell_type": "code",
   "execution_count": null,
   "id": "44abafcb-fa49-4cca-bd29-f027dadba4e5",
   "metadata": {},
   "outputs": [],
   "source": []
  },
  {
   "cell_type": "code",
   "execution_count": null,
   "id": "2f6bfb99-c9a1-4f17-86eb-4e32b6563f47",
   "metadata": {},
   "outputs": [],
   "source": []
  },
  {
   "cell_type": "code",
   "execution_count": 1,
   "id": "a7efadeb-21a0-4327-b480-0c58784a236c",
   "metadata": {},
   "outputs": [
    {
     "name": "stdout",
     "output_type": "stream",
     "text": [
      "[2024-04-21 14:34:53,685] [INFO] [real_accelerator.py:191:get_accelerator] Setting ds_accelerator to cuda (auto detect)\n"
     ]
    },
    {
     "name": "stderr",
     "output_type": "stream",
     "text": [
      "You are using a model of type llava to instantiate a model of type llava_llama. This is not supported for all configurations of models and can yield errors.\n"
     ]
    },
    {
     "data": {
      "application/vnd.jupyter.widget-view+json": {
       "model_id": "4d8156def6fa4e849942e4c5fbd814d8",
       "version_major": 2,
       "version_minor": 0
      },
      "text/plain": [
       "Loading checkpoint shards:   0%|          | 0/2 [00:00<?, ?it/s]"
      ]
     },
     "metadata": {},
     "output_type": "display_data"
    },
    {
     "name": "stderr",
     "output_type": "stream",
     "text": [
      "/home/kenichi.maeda001/anaconda3/envs/LLMP/lib/python3.11/site-packages/transformers/generation/configuration_utils.py:389: UserWarning: `do_sample` is set to `False`. However, `temperature` is set to `0` -- this flag is only used in sample-based generation modes. You should set `do_sample=True` or unset `temperature`.\n",
      "  warnings.warn(\n",
      "/home/kenichi.maeda001/anaconda3/envs/LLMP/lib/python3.11/site-packages/transformers/generation/configuration_utils.py:394: UserWarning: `do_sample` is set to `False`. However, `top_p` is set to `None` -- this flag is only used in sample-based generation modes. You should set `do_sample=True` or unset `top_p`.\n",
      "  warnings.warn(\n",
      "You are using a model of type llava to instantiate a model of type llava_llama. This is not supported for all configurations of models and can yield errors.\n"
     ]
    },
    {
     "data": {
      "application/vnd.jupyter.widget-view+json": {
       "model_id": "8c9350419062465a82fe57323ec4c51c",
       "version_major": 2,
       "version_minor": 0
      },
      "text/plain": [
       "Loading checkpoint shards:   0%|          | 0/2 [00:00<?, ?it/s]"
      ]
     },
     "metadata": {},
     "output_type": "display_data"
    },
    {
     "name": "stderr",
     "output_type": "stream",
     "text": [
      "You are using a model of type llava to instantiate a model of type llava_llama. This is not supported for all configurations of models and can yield errors.\n"
     ]
    },
    {
     "data": {
      "application/vnd.jupyter.widget-view+json": {
       "model_id": "462ce56688754a00a42b44885afec128",
       "version_major": 2,
       "version_minor": 0
      },
      "text/plain": [
       "Loading checkpoint shards:   0%|          | 0/2 [00:00<?, ?it/s]"
      ]
     },
     "metadata": {},
     "output_type": "display_data"
    },
    {
     "name": "stderr",
     "output_type": "stream",
     "text": [
      "You are using a model of type llava to instantiate a model of type llava_llama. This is not supported for all configurations of models and can yield errors.\n"
     ]
    },
    {
     "data": {
      "application/vnd.jupyter.widget-view+json": {
       "model_id": "8f495a35f8384b9283d506b0df48c202",
       "version_major": 2,
       "version_minor": 0
      },
      "text/plain": [
       "Loading checkpoint shards:   0%|          | 0/2 [00:00<?, ?it/s]"
      ]
     },
     "metadata": {},
     "output_type": "display_data"
    },
    {
     "name": "stderr",
     "output_type": "stream",
     "text": [
      "You are using a model of type llava to instantiate a model of type llava_llama. This is not supported for all configurations of models and can yield errors.\n"
     ]
    },
    {
     "data": {
      "application/vnd.jupyter.widget-view+json": {
       "model_id": "625a7044d6a644159abc3b592b9360f6",
       "version_major": 2,
       "version_minor": 0
      },
      "text/plain": [
       "Loading checkpoint shards:   0%|          | 0/2 [00:00<?, ?it/s]"
      ]
     },
     "metadata": {},
     "output_type": "display_data"
    },
    {
     "name": "stderr",
     "output_type": "stream",
     "text": [
      "You are using a model of type llava to instantiate a model of type llava_llama. This is not supported for all configurations of models and can yield errors.\n"
     ]
    },
    {
     "data": {
      "application/vnd.jupyter.widget-view+json": {
       "model_id": "8472f82802b54d3e9a2f61c3a4146208",
       "version_major": 2,
       "version_minor": 0
      },
      "text/plain": [
       "Loading checkpoint shards:   0%|          | 0/2 [00:00<?, ?it/s]"
      ]
     },
     "metadata": {},
     "output_type": "display_data"
    },
    {
     "name": "stderr",
     "output_type": "stream",
     "text": [
      "You are using a model of type llava to instantiate a model of type llava_llama. This is not supported for all configurations of models and can yield errors.\n"
     ]
    },
    {
     "data": {
      "application/vnd.jupyter.widget-view+json": {
       "model_id": "113df15947424d909df7d0c7630e8892",
       "version_major": 2,
       "version_minor": 0
      },
      "text/plain": [
       "Loading checkpoint shards:   0%|          | 0/2 [00:00<?, ?it/s]"
      ]
     },
     "metadata": {},
     "output_type": "display_data"
    },
    {
     "name": "stderr",
     "output_type": "stream",
     "text": [
      "You are using a model of type llava to instantiate a model of type llava_llama. This is not supported for all configurations of models and can yield errors.\n"
     ]
    },
    {
     "data": {
      "application/vnd.jupyter.widget-view+json": {
       "model_id": "6f6237018e174591b35821549eacd0f6",
       "version_major": 2,
       "version_minor": 0
      },
      "text/plain": [
       "Loading checkpoint shards:   0%|          | 0/2 [00:00<?, ?it/s]"
      ]
     },
     "metadata": {},
     "output_type": "display_data"
    },
    {
     "name": "stderr",
     "output_type": "stream",
     "text": [
      "You are using a model of type llava to instantiate a model of type llava_llama. This is not supported for all configurations of models and can yield errors.\n"
     ]
    },
    {
     "data": {
      "application/vnd.jupyter.widget-view+json": {
       "model_id": "d9a863864ae74aa08b1a739ef16af754",
       "version_major": 2,
       "version_minor": 0
      },
      "text/plain": [
       "Loading checkpoint shards:   0%|          | 0/2 [00:00<?, ?it/s]"
      ]
     },
     "metadata": {},
     "output_type": "display_data"
    },
    {
     "name": "stderr",
     "output_type": "stream",
     "text": [
      "You are using a model of type llava to instantiate a model of type llava_llama. This is not supported for all configurations of models and can yield errors.\n"
     ]
    },
    {
     "data": {
      "application/vnd.jupyter.widget-view+json": {
       "model_id": "a73f0fa0bd97496cbc6427fd78ebbb9b",
       "version_major": 2,
       "version_minor": 0
      },
      "text/plain": [
       "Loading checkpoint shards:   0%|          | 0/2 [00:00<?, ?it/s]"
      ]
     },
     "metadata": {},
     "output_type": "display_data"
    },
    {
     "name": "stderr",
     "output_type": "stream",
     "text": [
      "You are using a model of type llava to instantiate a model of type llava_llama. This is not supported for all configurations of models and can yield errors.\n"
     ]
    },
    {
     "data": {
      "application/vnd.jupyter.widget-view+json": {
       "model_id": "7233b75380604cbf95b6bdc0b349d9ad",
       "version_major": 2,
       "version_minor": 0
      },
      "text/plain": [
       "Loading checkpoint shards:   0%|          | 0/2 [00:00<?, ?it/s]"
      ]
     },
     "metadata": {},
     "output_type": "display_data"
    },
    {
     "name": "stderr",
     "output_type": "stream",
     "text": [
      "You are using a model of type llava to instantiate a model of type llava_llama. This is not supported for all configurations of models and can yield errors.\n"
     ]
    },
    {
     "data": {
      "application/vnd.jupyter.widget-view+json": {
       "model_id": "75147484242b42d18acb81a3783089d2",
       "version_major": 2,
       "version_minor": 0
      },
      "text/plain": [
       "Loading checkpoint shards:   0%|          | 0/2 [00:00<?, ?it/s]"
      ]
     },
     "metadata": {},
     "output_type": "display_data"
    },
    {
     "name": "stderr",
     "output_type": "stream",
     "text": [
      "You are using a model of type llava to instantiate a model of type llava_llama. This is not supported for all configurations of models and can yield errors.\n"
     ]
    },
    {
     "data": {
      "application/vnd.jupyter.widget-view+json": {
       "model_id": "1c2fff4d9e344b8c90abca371e413922",
       "version_major": 2,
       "version_minor": 0
      },
      "text/plain": [
       "Loading checkpoint shards:   0%|          | 0/2 [00:00<?, ?it/s]"
      ]
     },
     "metadata": {},
     "output_type": "display_data"
    },
    {
     "name": "stderr",
     "output_type": "stream",
     "text": [
      "You are using a model of type llava to instantiate a model of type llava_llama. This is not supported for all configurations of models and can yield errors.\n"
     ]
    },
    {
     "data": {
      "application/vnd.jupyter.widget-view+json": {
       "model_id": "e9c229e6339146e78c6b7be5859d8245",
       "version_major": 2,
       "version_minor": 0
      },
      "text/plain": [
       "Loading checkpoint shards:   0%|          | 0/2 [00:00<?, ?it/s]"
      ]
     },
     "metadata": {},
     "output_type": "display_data"
    },
    {
     "name": "stderr",
     "output_type": "stream",
     "text": [
      "You are using a model of type llava to instantiate a model of type llava_llama. This is not supported for all configurations of models and can yield errors.\n"
     ]
    },
    {
     "data": {
      "application/vnd.jupyter.widget-view+json": {
       "model_id": "5a9f91d1afae48a69e7ad004ed09246a",
       "version_major": 2,
       "version_minor": 0
      },
      "text/plain": [
       "Loading checkpoint shards:   0%|          | 0/2 [00:00<?, ?it/s]"
      ]
     },
     "metadata": {},
     "output_type": "display_data"
    },
    {
     "name": "stderr",
     "output_type": "stream",
     "text": [
      "You are using a model of type llava to instantiate a model of type llava_llama. This is not supported for all configurations of models and can yield errors.\n"
     ]
    },
    {
     "data": {
      "application/vnd.jupyter.widget-view+json": {
       "model_id": "95031f62801f48ab9354dbbf16fc0ace",
       "version_major": 2,
       "version_minor": 0
      },
      "text/plain": [
       "Loading checkpoint shards:   0%|          | 0/2 [00:00<?, ?it/s]"
      ]
     },
     "metadata": {},
     "output_type": "display_data"
    },
    {
     "name": "stderr",
     "output_type": "stream",
     "text": [
      "You are using a model of type llava to instantiate a model of type llava_llama. This is not supported for all configurations of models and can yield errors.\n"
     ]
    },
    {
     "data": {
      "application/vnd.jupyter.widget-view+json": {
       "model_id": "5541c65af56745f8945f296a6ad1b885",
       "version_major": 2,
       "version_minor": 0
      },
      "text/plain": [
       "Loading checkpoint shards:   0%|          | 0/2 [00:00<?, ?it/s]"
      ]
     },
     "metadata": {},
     "output_type": "display_data"
    },
    {
     "name": "stderr",
     "output_type": "stream",
     "text": [
      "You are using a model of type llava to instantiate a model of type llava_llama. This is not supported for all configurations of models and can yield errors.\n"
     ]
    },
    {
     "data": {
      "application/vnd.jupyter.widget-view+json": {
       "model_id": "fa8df54f5e8747c8810e9ddffea73042",
       "version_major": 2,
       "version_minor": 0
      },
      "text/plain": [
       "Loading checkpoint shards:   0%|          | 0/2 [00:00<?, ?it/s]"
      ]
     },
     "metadata": {},
     "output_type": "display_data"
    },
    {
     "name": "stderr",
     "output_type": "stream",
     "text": [
      "You are using a model of type llava to instantiate a model of type llava_llama. This is not supported for all configurations of models and can yield errors.\n"
     ]
    },
    {
     "data": {
      "application/vnd.jupyter.widget-view+json": {
       "model_id": "769dd7dcd49e4fb8a55de039ff0238b6",
       "version_major": 2,
       "version_minor": 0
      },
      "text/plain": [
       "Loading checkpoint shards:   0%|          | 0/2 [00:00<?, ?it/s]"
      ]
     },
     "metadata": {},
     "output_type": "display_data"
    },
    {
     "name": "stderr",
     "output_type": "stream",
     "text": [
      "You are using a model of type llava to instantiate a model of type llava_llama. This is not supported for all configurations of models and can yield errors.\n"
     ]
    },
    {
     "data": {
      "application/vnd.jupyter.widget-view+json": {
       "model_id": "5bf5548a02c54d499f18b99ecfadfb57",
       "version_major": 2,
       "version_minor": 0
      },
      "text/plain": [
       "Loading checkpoint shards:   0%|          | 0/2 [00:00<?, ?it/s]"
      ]
     },
     "metadata": {},
     "output_type": "display_data"
    },
    {
     "name": "stderr",
     "output_type": "stream",
     "text": [
      "You are using a model of type llava to instantiate a model of type llava_llama. This is not supported for all configurations of models and can yield errors.\n"
     ]
    },
    {
     "data": {
      "application/vnd.jupyter.widget-view+json": {
       "model_id": "686160e3020149acadca38f139bb6d93",
       "version_major": 2,
       "version_minor": 0
      },
      "text/plain": [
       "Loading checkpoint shards:   0%|          | 0/2 [00:00<?, ?it/s]"
      ]
     },
     "metadata": {},
     "output_type": "display_data"
    },
    {
     "name": "stderr",
     "output_type": "stream",
     "text": [
      "You are using a model of type llava to instantiate a model of type llava_llama. This is not supported for all configurations of models and can yield errors.\n"
     ]
    },
    {
     "data": {
      "application/vnd.jupyter.widget-view+json": {
       "model_id": "30915f709c4c42758aee40c6dc7afc6c",
       "version_major": 2,
       "version_minor": 0
      },
      "text/plain": [
       "Loading checkpoint shards:   0%|          | 0/2 [00:00<?, ?it/s]"
      ]
     },
     "metadata": {},
     "output_type": "display_data"
    },
    {
     "name": "stderr",
     "output_type": "stream",
     "text": [
      "You are using a model of type llava to instantiate a model of type llava_llama. This is not supported for all configurations of models and can yield errors.\n"
     ]
    },
    {
     "data": {
      "application/vnd.jupyter.widget-view+json": {
       "model_id": "c0005c9058034f3481a467004a81274d",
       "version_major": 2,
       "version_minor": 0
      },
      "text/plain": [
       "Loading checkpoint shards:   0%|          | 0/2 [00:00<?, ?it/s]"
      ]
     },
     "metadata": {},
     "output_type": "display_data"
    },
    {
     "name": "stderr",
     "output_type": "stream",
     "text": [
      "You are using a model of type llava to instantiate a model of type llava_llama. This is not supported for all configurations of models and can yield errors.\n"
     ]
    },
    {
     "data": {
      "application/vnd.jupyter.widget-view+json": {
       "model_id": "a1b1f002269a4bba875e61ec81e01ad4",
       "version_major": 2,
       "version_minor": 0
      },
      "text/plain": [
       "Loading checkpoint shards:   0%|          | 0/2 [00:00<?, ?it/s]"
      ]
     },
     "metadata": {},
     "output_type": "display_data"
    },
    {
     "name": "stderr",
     "output_type": "stream",
     "text": [
      "You are using a model of type llava to instantiate a model of type llava_llama. This is not supported for all configurations of models and can yield errors.\n"
     ]
    },
    {
     "data": {
      "application/vnd.jupyter.widget-view+json": {
       "model_id": "80bfac35087e4914997a8b99d3467662",
       "version_major": 2,
       "version_minor": 0
      },
      "text/plain": [
       "Loading checkpoint shards:   0%|          | 0/2 [00:00<?, ?it/s]"
      ]
     },
     "metadata": {},
     "output_type": "display_data"
    },
    {
     "name": "stderr",
     "output_type": "stream",
     "text": [
      "You are using a model of type llava to instantiate a model of type llava_llama. This is not supported for all configurations of models and can yield errors.\n"
     ]
    },
    {
     "data": {
      "application/vnd.jupyter.widget-view+json": {
       "model_id": "0246db2c43844b6fb4c3eb9ed506e273",
       "version_major": 2,
       "version_minor": 0
      },
      "text/plain": [
       "Loading checkpoint shards:   0%|          | 0/2 [00:00<?, ?it/s]"
      ]
     },
     "metadata": {},
     "output_type": "display_data"
    },
    {
     "name": "stderr",
     "output_type": "stream",
     "text": [
      "You are using a model of type llava to instantiate a model of type llava_llama. This is not supported for all configurations of models and can yield errors.\n"
     ]
    },
    {
     "data": {
      "application/vnd.jupyter.widget-view+json": {
       "model_id": "8827f07e72a9442093ea1d9dfa2d2d73",
       "version_major": 2,
       "version_minor": 0
      },
      "text/plain": [
       "Loading checkpoint shards:   0%|          | 0/2 [00:00<?, ?it/s]"
      ]
     },
     "metadata": {},
     "output_type": "display_data"
    },
    {
     "name": "stderr",
     "output_type": "stream",
     "text": [
      "You are using a model of type llava to instantiate a model of type llava_llama. This is not supported for all configurations of models and can yield errors.\n"
     ]
    },
    {
     "data": {
      "application/vnd.jupyter.widget-view+json": {
       "model_id": "313b926574264f69b5f20b11082e2c62",
       "version_major": 2,
       "version_minor": 0
      },
      "text/plain": [
       "Loading checkpoint shards:   0%|          | 0/2 [00:00<?, ?it/s]"
      ]
     },
     "metadata": {},
     "output_type": "display_data"
    },
    {
     "name": "stderr",
     "output_type": "stream",
     "text": [
      "You are using a model of type llava to instantiate a model of type llava_llama. This is not supported for all configurations of models and can yield errors.\n"
     ]
    },
    {
     "data": {
      "application/vnd.jupyter.widget-view+json": {
       "model_id": "bf67dafa136541b3ae408f6be5dc378f",
       "version_major": 2,
       "version_minor": 0
      },
      "text/plain": [
       "Loading checkpoint shards:   0%|          | 0/2 [00:00<?, ?it/s]"
      ]
     },
     "metadata": {},
     "output_type": "display_data"
    },
    {
     "name": "stderr",
     "output_type": "stream",
     "text": [
      "You are using a model of type llava to instantiate a model of type llava_llama. This is not supported for all configurations of models and can yield errors.\n"
     ]
    },
    {
     "data": {
      "application/vnd.jupyter.widget-view+json": {
       "model_id": "62b401436fa841b2a3630a17b1de0be4",
       "version_major": 2,
       "version_minor": 0
      },
      "text/plain": [
       "Loading checkpoint shards:   0%|          | 0/2 [00:00<?, ?it/s]"
      ]
     },
     "metadata": {},
     "output_type": "display_data"
    },
    {
     "name": "stderr",
     "output_type": "stream",
     "text": [
      "You are using a model of type llava to instantiate a model of type llava_llama. This is not supported for all configurations of models and can yield errors.\n"
     ]
    },
    {
     "data": {
      "application/vnd.jupyter.widget-view+json": {
       "model_id": "34746d81698142108484f4b34dd275e9",
       "version_major": 2,
       "version_minor": 0
      },
      "text/plain": [
       "Loading checkpoint shards:   0%|          | 0/2 [00:00<?, ?it/s]"
      ]
     },
     "metadata": {},
     "output_type": "display_data"
    },
    {
     "name": "stderr",
     "output_type": "stream",
     "text": [
      "You are using a model of type llava to instantiate a model of type llava_llama. This is not supported for all configurations of models and can yield errors.\n"
     ]
    },
    {
     "data": {
      "application/vnd.jupyter.widget-view+json": {
       "model_id": "b2005a9838544957ae6df556de2257ed",
       "version_major": 2,
       "version_minor": 0
      },
      "text/plain": [
       "Loading checkpoint shards:   0%|          | 0/2 [00:00<?, ?it/s]"
      ]
     },
     "metadata": {},
     "output_type": "display_data"
    },
    {
     "name": "stderr",
     "output_type": "stream",
     "text": [
      "You are using a model of type llava to instantiate a model of type llava_llama. This is not supported for all configurations of models and can yield errors.\n"
     ]
    },
    {
     "data": {
      "application/vnd.jupyter.widget-view+json": {
       "model_id": "1e7adc595dd74af4b9cf968327b3a19b",
       "version_major": 2,
       "version_minor": 0
      },
      "text/plain": [
       "Loading checkpoint shards:   0%|          | 0/2 [00:00<?, ?it/s]"
      ]
     },
     "metadata": {},
     "output_type": "display_data"
    },
    {
     "name": "stderr",
     "output_type": "stream",
     "text": [
      "You are using a model of type llava to instantiate a model of type llava_llama. This is not supported for all configurations of models and can yield errors.\n"
     ]
    },
    {
     "data": {
      "application/vnd.jupyter.widget-view+json": {
       "model_id": "9a861261fbf64b4e90b08109fd47b27d",
       "version_major": 2,
       "version_minor": 0
      },
      "text/plain": [
       "Loading checkpoint shards:   0%|          | 0/2 [00:00<?, ?it/s]"
      ]
     },
     "metadata": {},
     "output_type": "display_data"
    },
    {
     "name": "stderr",
     "output_type": "stream",
     "text": [
      "You are using a model of type llava to instantiate a model of type llava_llama. This is not supported for all configurations of models and can yield errors.\n"
     ]
    },
    {
     "data": {
      "application/vnd.jupyter.widget-view+json": {
       "model_id": "f2bb86cc4d3b437db1440ef268e2abde",
       "version_major": 2,
       "version_minor": 0
      },
      "text/plain": [
       "Loading checkpoint shards:   0%|          | 0/2 [00:00<?, ?it/s]"
      ]
     },
     "metadata": {},
     "output_type": "display_data"
    },
    {
     "name": "stderr",
     "output_type": "stream",
     "text": [
      "You are using a model of type llava to instantiate a model of type llava_llama. This is not supported for all configurations of models and can yield errors.\n"
     ]
    },
    {
     "data": {
      "application/vnd.jupyter.widget-view+json": {
       "model_id": "7a2e474bf9fd4910965fd0cf8f625a23",
       "version_major": 2,
       "version_minor": 0
      },
      "text/plain": [
       "Loading checkpoint shards:   0%|          | 0/2 [00:00<?, ?it/s]"
      ]
     },
     "metadata": {},
     "output_type": "display_data"
    },
    {
     "name": "stderr",
     "output_type": "stream",
     "text": [
      "You are using a model of type llava to instantiate a model of type llava_llama. This is not supported for all configurations of models and can yield errors.\n"
     ]
    },
    {
     "data": {
      "application/vnd.jupyter.widget-view+json": {
       "model_id": "6037dd6a6e75456998586fdbed8e27f8",
       "version_major": 2,
       "version_minor": 0
      },
      "text/plain": [
       "Loading checkpoint shards:   0%|          | 0/2 [00:00<?, ?it/s]"
      ]
     },
     "metadata": {},
     "output_type": "display_data"
    },
    {
     "name": "stderr",
     "output_type": "stream",
     "text": [
      "You are using a model of type llava to instantiate a model of type llava_llama. This is not supported for all configurations of models and can yield errors.\n"
     ]
    },
    {
     "data": {
      "application/vnd.jupyter.widget-view+json": {
       "model_id": "8c29162cd2c546c0894b2741582b0ae4",
       "version_major": 2,
       "version_minor": 0
      },
      "text/plain": [
       "Loading checkpoint shards:   0%|          | 0/2 [00:00<?, ?it/s]"
      ]
     },
     "metadata": {},
     "output_type": "display_data"
    },
    {
     "name": "stderr",
     "output_type": "stream",
     "text": [
      "You are using a model of type llava to instantiate a model of type llava_llama. This is not supported for all configurations of models and can yield errors.\n"
     ]
    },
    {
     "data": {
      "application/vnd.jupyter.widget-view+json": {
       "model_id": "79a0fba55e804cebbd3d9992d2b38f12",
       "version_major": 2,
       "version_minor": 0
      },
      "text/plain": [
       "Loading checkpoint shards:   0%|          | 0/2 [00:00<?, ?it/s]"
      ]
     },
     "metadata": {},
     "output_type": "display_data"
    },
    {
     "name": "stderr",
     "output_type": "stream",
     "text": [
      "You are using a model of type llava to instantiate a model of type llava_llama. This is not supported for all configurations of models and can yield errors.\n"
     ]
    },
    {
     "data": {
      "application/vnd.jupyter.widget-view+json": {
       "model_id": "d2b50004b4ba47de8ce105dd62c1ee5c",
       "version_major": 2,
       "version_minor": 0
      },
      "text/plain": [
       "Loading checkpoint shards:   0%|          | 0/2 [00:00<?, ?it/s]"
      ]
     },
     "metadata": {},
     "output_type": "display_data"
    },
    {
     "name": "stderr",
     "output_type": "stream",
     "text": [
      "You are using a model of type llava to instantiate a model of type llava_llama. This is not supported for all configurations of models and can yield errors.\n"
     ]
    },
    {
     "data": {
      "application/vnd.jupyter.widget-view+json": {
       "model_id": "1e23539262b548f4833ea5c423b97a5d",
       "version_major": 2,
       "version_minor": 0
      },
      "text/plain": [
       "Loading checkpoint shards:   0%|          | 0/2 [00:00<?, ?it/s]"
      ]
     },
     "metadata": {},
     "output_type": "display_data"
    },
    {
     "name": "stderr",
     "output_type": "stream",
     "text": [
      "You are using a model of type llava to instantiate a model of type llava_llama. This is not supported for all configurations of models and can yield errors.\n"
     ]
    },
    {
     "data": {
      "application/vnd.jupyter.widget-view+json": {
       "model_id": "b1b1fb70967e421a98e38ff431a41204",
       "version_major": 2,
       "version_minor": 0
      },
      "text/plain": [
       "Loading checkpoint shards:   0%|          | 0/2 [00:00<?, ?it/s]"
      ]
     },
     "metadata": {},
     "output_type": "display_data"
    },
    {
     "name": "stderr",
     "output_type": "stream",
     "text": [
      "You are using a model of type llava to instantiate a model of type llava_llama. This is not supported for all configurations of models and can yield errors.\n"
     ]
    },
    {
     "data": {
      "application/vnd.jupyter.widget-view+json": {
       "model_id": "2dd7975bc5414846933beaf7e19ffb47",
       "version_major": 2,
       "version_minor": 0
      },
      "text/plain": [
       "Loading checkpoint shards:   0%|          | 0/2 [00:00<?, ?it/s]"
      ]
     },
     "metadata": {},
     "output_type": "display_data"
    },
    {
     "name": "stderr",
     "output_type": "stream",
     "text": [
      "You are using a model of type llava to instantiate a model of type llava_llama. This is not supported for all configurations of models and can yield errors.\n"
     ]
    },
    {
     "data": {
      "application/vnd.jupyter.widget-view+json": {
       "model_id": "05bb572b5afa45c0a49e1f2a18ed121d",
       "version_major": 2,
       "version_minor": 0
      },
      "text/plain": [
       "Loading checkpoint shards:   0%|          | 0/2 [00:00<?, ?it/s]"
      ]
     },
     "metadata": {},
     "output_type": "display_data"
    },
    {
     "name": "stderr",
     "output_type": "stream",
     "text": [
      "You are using a model of type llava to instantiate a model of type llava_llama. This is not supported for all configurations of models and can yield errors.\n"
     ]
    },
    {
     "data": {
      "application/vnd.jupyter.widget-view+json": {
       "model_id": "5683bf5623eb4eb0901fc0e1cf52b46b",
       "version_major": 2,
       "version_minor": 0
      },
      "text/plain": [
       "Loading checkpoint shards:   0%|          | 0/2 [00:00<?, ?it/s]"
      ]
     },
     "metadata": {},
     "output_type": "display_data"
    },
    {
     "name": "stderr",
     "output_type": "stream",
     "text": [
      "You are using a model of type llava to instantiate a model of type llava_llama. This is not supported for all configurations of models and can yield errors.\n"
     ]
    },
    {
     "data": {
      "application/vnd.jupyter.widget-view+json": {
       "model_id": "7e44f624f1cb41feaee94238649ff07b",
       "version_major": 2,
       "version_minor": 0
      },
      "text/plain": [
       "Loading checkpoint shards:   0%|          | 0/2 [00:00<?, ?it/s]"
      ]
     },
     "metadata": {},
     "output_type": "display_data"
    },
    {
     "name": "stderr",
     "output_type": "stream",
     "text": [
      "You are using a model of type llava to instantiate a model of type llava_llama. This is not supported for all configurations of models and can yield errors.\n"
     ]
    },
    {
     "data": {
      "application/vnd.jupyter.widget-view+json": {
       "model_id": "e889024ac88a4abe9cdccc7d35dd271a",
       "version_major": 2,
       "version_minor": 0
      },
      "text/plain": [
       "Loading checkpoint shards:   0%|          | 0/2 [00:00<?, ?it/s]"
      ]
     },
     "metadata": {},
     "output_type": "display_data"
    },
    {
     "name": "stderr",
     "output_type": "stream",
     "text": [
      "You are using a model of type llava to instantiate a model of type llava_llama. This is not supported for all configurations of models and can yield errors.\n"
     ]
    },
    {
     "data": {
      "application/vnd.jupyter.widget-view+json": {
       "model_id": "91d35748563b4aea986437165d9c8eb0",
       "version_major": 2,
       "version_minor": 0
      },
      "text/plain": [
       "Loading checkpoint shards:   0%|          | 0/2 [00:00<?, ?it/s]"
      ]
     },
     "metadata": {},
     "output_type": "display_data"
    },
    {
     "name": "stderr",
     "output_type": "stream",
     "text": [
      "You are using a model of type llava to instantiate a model of type llava_llama. This is not supported for all configurations of models and can yield errors.\n"
     ]
    },
    {
     "data": {
      "application/vnd.jupyter.widget-view+json": {
       "model_id": "e71643425a1241a19c855a4de237281c",
       "version_major": 2,
       "version_minor": 0
      },
      "text/plain": [
       "Loading checkpoint shards:   0%|          | 0/2 [00:00<?, ?it/s]"
      ]
     },
     "metadata": {},
     "output_type": "display_data"
    },
    {
     "name": "stderr",
     "output_type": "stream",
     "text": [
      "You are using a model of type llava to instantiate a model of type llava_llama. This is not supported for all configurations of models and can yield errors.\n"
     ]
    },
    {
     "data": {
      "application/vnd.jupyter.widget-view+json": {
       "model_id": "0577c6fcac6f48a4b23d8cecc49970c2",
       "version_major": 2,
       "version_minor": 0
      },
      "text/plain": [
       "Loading checkpoint shards:   0%|          | 0/2 [00:00<?, ?it/s]"
      ]
     },
     "metadata": {},
     "output_type": "display_data"
    },
    {
     "name": "stderr",
     "output_type": "stream",
     "text": [
      "You are using a model of type llava to instantiate a model of type llava_llama. This is not supported for all configurations of models and can yield errors.\n"
     ]
    },
    {
     "data": {
      "application/vnd.jupyter.widget-view+json": {
       "model_id": "b2091ac3e1d94af3ac719badf225b6ee",
       "version_major": 2,
       "version_minor": 0
      },
      "text/plain": [
       "Loading checkpoint shards:   0%|          | 0/2 [00:00<?, ?it/s]"
      ]
     },
     "metadata": {},
     "output_type": "display_data"
    },
    {
     "name": "stderr",
     "output_type": "stream",
     "text": [
      "You are using a model of type llava to instantiate a model of type llava_llama. This is not supported for all configurations of models and can yield errors.\n"
     ]
    },
    {
     "data": {
      "application/vnd.jupyter.widget-view+json": {
       "model_id": "d15277f2c1504e36883adf648e8fba4e",
       "version_major": 2,
       "version_minor": 0
      },
      "text/plain": [
       "Loading checkpoint shards:   0%|          | 0/2 [00:00<?, ?it/s]"
      ]
     },
     "metadata": {},
     "output_type": "display_data"
    },
    {
     "name": "stderr",
     "output_type": "stream",
     "text": [
      "You are using a model of type llava to instantiate a model of type llava_llama. This is not supported for all configurations of models and can yield errors.\n"
     ]
    },
    {
     "data": {
      "application/vnd.jupyter.widget-view+json": {
       "model_id": "7dc8912dc2b24a7db217170712950289",
       "version_major": 2,
       "version_minor": 0
      },
      "text/plain": [
       "Loading checkpoint shards:   0%|          | 0/2 [00:00<?, ?it/s]"
      ]
     },
     "metadata": {},
     "output_type": "display_data"
    },
    {
     "name": "stderr",
     "output_type": "stream",
     "text": [
      "You are using a model of type llava to instantiate a model of type llava_llama. This is not supported for all configurations of models and can yield errors.\n"
     ]
    },
    {
     "data": {
      "application/vnd.jupyter.widget-view+json": {
       "model_id": "eb5e708e9ca64cc2ac2a57891c900097",
       "version_major": 2,
       "version_minor": 0
      },
      "text/plain": [
       "Loading checkpoint shards:   0%|          | 0/2 [00:00<?, ?it/s]"
      ]
     },
     "metadata": {},
     "output_type": "display_data"
    },
    {
     "name": "stderr",
     "output_type": "stream",
     "text": [
      "You are using a model of type llava to instantiate a model of type llava_llama. This is not supported for all configurations of models and can yield errors.\n"
     ]
    },
    {
     "data": {
      "application/vnd.jupyter.widget-view+json": {
       "model_id": "8d1e3720677b4a8a86451983f9a9dc15",
       "version_major": 2,
       "version_minor": 0
      },
      "text/plain": [
       "Loading checkpoint shards:   0%|          | 0/2 [00:00<?, ?it/s]"
      ]
     },
     "metadata": {},
     "output_type": "display_data"
    },
    {
     "name": "stdout",
     "output_type": "stream",
     "text": [
      "{'gt': [343, 3375, 5832, 27, 8, 4096, 4913, 8, 125, 4096, 1728, 2197, 6859, 1, 1000, 2197, 8000, 8000, 4913, 27, 5832, 3375, 1728, 6859, 125, 1728, 1000, 8, 8, 125, 4913, 125, 8000, 2744, 1728, 1331, 6859, 4096, 8, 1331, 216, 27, 125, 729, 6859, 216, 3375, 3375, 3375, 6859, 216, 125, 2197, 2197, 1331], 'ChatGPT': {'parameters': None, 'raw_answers': ['300-400 pixels', 'The volume of the cube is approximately 1000-1500 pixels.', '500-600 pixels', \"The image is not displayed in the chat interface, but I will provide a hypothetical estimation. If I were to estimate a cube's volume from a 100x100x100 pixel space, considering the cube looks like it might occupy roughly 10x10x10 pixels, the estimated volume would be approximately 1000 pixels.\", 'The cube appears small relative to the 100 by 100 pixel space, I would estimate the volume to be approximately 27-64 pixels.', '500-600 pixels', 'The image is not available to me, but based on the standard assumption of a cube in a 100x100x100 space, if the cube appears to take up roughly one-tenth of the space in each dimension, a rough estimation would be 1000-1100 pixels.', 'The cube appears to occupy a small volume of the space, so given the size constraints, an estimated volume could be in the range of 100-200 pixels.', 'The cube appears to be very small relative to the image size, so a rough estimation of its volume might be in the range of 20-50 pixels.', '2500-3500 pixels', '3000-3500 pixels', \"The cube appears to occupy a small portion of the 100x100 pixel image and doesn't seem to approach occupying the full depth of the hypothetical 100 pixel depth. A rough estimation could place the volume of the cube in the range of 1000-2000 pixels.\", 'Given the image and the size of the space, I would estimate the volume of the cube to be in the range of 3000-4000 pixels.', 'It appears to be a small, single pixel. The volume of a single pixel in a 3D space would be 1 pixel³.', \"The image seems to contain a simple line drawing of a cube. Given that it's a rough sketch, let's assume each side of the cube shown in the 2D representation could be around 30 pixels in a 3D space (100x100x100 pixels). Estimating the volume of the cube, the calculation would be 30^3 = 27,000 pixels. \", '1500-2000 pixels', '3000-4000 pixels', '3000-4000 pixels.', 'The cube appears to occupy roughly 10x10x10 pixels, so the estimated volume is 1000 pixels.', 'Based on the size and perspective of the cube in the image, and assuming it has a uniform depth equivalent to its width and height, the estimated volume is approximately 27-30 pixels.', 'Estimating the volume of the cube based on the provided image and conditions, the volume appears to be approximately 1000-2000 pixels.', 'The cube appears to occupy a small portion of the space, possibly around 10x10x10 pixels, so the estimated volume might be in the range of 1000 pixels.', '3000-3500 pixels', 'The cube appears to occupy approximately a 10x10x10 pixel space, so the estimated volume would be 1000 pixels.', 'The volume of the cube appears to be approximately 27-30 pixels.', 'The image is very small, but estimating based on the dimensions provided, the volume of the cube appears to be around 1000-1100 pixels.', 'Given the constraints and appearance, the volume of the cube is approximately 27-30 pixels.', \"The image's low resolution and the small size of the cube make it difficult to provide an accurate volume estimate, but it appears to be approximately 27-64 pixels.\", 'The volume of the cube is roughly between 500-600 pixels.', 'Estimating from the image, the volume of the cube is approximately 125-175 pixels.', '1500-2000 pixels', 'The cube appears to occupy a very small portion of the image. Estimating the volume of the cube is tricky without precise measurements, but given the scale of the image (100 by 100 pixels), the volume of the cube could be around 125-175 pixels.', '3000-3500 pixels.', '1000-1500 pixels', '3000-3500 pixels', '3000-4000 pixels', '3000-4000 pixels', '3000-3500 pixels', 'The cube appears to be about 10x10x10 pixels, so its volume would be roughly 1000 pixels.', 'The cube appears to occupy a small portion of the image, estimating visually, the volume might be around 125-200 pixels.', '300-400 pixels', 'The volume of the cube appears to be around 27-33 pixels.', '100-200 pixels.', '3000-3500 pixels', '3000-3500 pixels', \"The image appears to depict a simple, two-dimensional representation of a cube. Due to the lack of depth information, I cannot accurately estimate the volume of a three-dimensional cube. However, if we assume the cube's sides visible in the image are equal and use them as the basis for a cube in a 3D space, then it looks like the cube could be approximately 10x10x10 pixels in size, giving an estimated volume of 1000 pixels.\", 'The estimated volume of the cube is 3000-4000 pixels.', '3000-4000 pixels', 'The cube appears to have sides of approximately 10 pixels, so its volume would be around 1000 pixels.', '3000-3500 pixels', \"The cube appears to be a simple wireframe with no clear depth, making an exact volume calculation challenging, but if we estimate the cube's sides to be roughly 10 pixels in length based on the image, a rough estimate for the volume could be 1000 pixels.\", 'The cube appears small relative to the 100x100 pixel space, so an estimated volume range for the cube might be 125-175 pixels.', 'The cube appears small relative to the image size, so a rough estimation of its volume could be around 1000-1500 pixels.', 'The cube appears to be very small relative to the image space; I would estimate its volume to be around 125-200 pixels.', '3000-4000 pixels.'], 'parsed_answers': [[300.0, 400.0], [1000.0, 1500.0], [500.0, 600.0], [1000.0], [100.0, 100.0, 27.0, 64.0], [500.0, 600.0], [1000.0, 1100.0], [100.0, 200.0], [20.0, 50.0], [2500.0, 3500.0], [3000.0, 3500.0], [100.0, 1000.0, 2000.0], [3000.0, 4000.0], [1.0], [30.0, 30.0, 3.0, 27.0, 0.0], [1500.0, 2000.0], [3000.0, 4000.0], [3000.0, 4000.0], [1000.0], [27.0, 30.0], [1000.0, 2000.0], [1000.0], [3000.0, 3500.0], [1000.0], [27.0, 30.0], [1000.0, 1100.0], [27.0, 30.0], [27.0, 64.0], [500.0, 600.0], [125.0, 175.0], [1500.0, 2000.0], [100.0, 100.0, 125.0, 175.0], [3000.0, 3500.0], [1000.0, 1500.0], [3000.0, 3500.0], [3000.0, 4000.0], [3000.0, 4000.0], [3000.0, 3500.0], [1000.0], [125.0, 200.0], [300.0, 400.0], [27.0, 33.0], [100.0, 200.0], [3000.0, 3500.0], [3000.0, 3500.0], [1000.0], [3000.0, 4000.0], [3000.0, 4000.0], [10.0, 1000.0], [3000.0, 3500.0], [10.0, 1000.0], [125.0, 175.0], [1000.0, 1500.0], [125.0, 200.0], [3000.0, 4000.0]], 'mean': 1460.3454545454545, 'std': 1346.8725014664944, 'mse': 5511411.363636363, 'mlae': 17.358149620827103, 'times': [975.4226207733154, 14951.300859451294, 1055.7613372802734, 2076.6854286193848, 1566.9183731079102, 16143.822193145752, 2503.4494400024414, 14568.15767288208, 2660.054922103882, 1071.6559886932373, 1344.7787761688232, 1864.330768585205, 1903.005599975586, 93775.7613658905, 3345.8685874938965, 941.2801265716553, 14745.092391967773, 14447.993755340576, 1296.2532043457031, 28313.01736831665, 1294.2395210266113, 17431.257009506226, 932.1591854095459, 1561.828851699829, 2016.7655944824219, 2124.981164932251, 1215.6224250793457, 2384.4637870788574, 28678.83586883545, 27169.506788253784, 980.48996925354, 3347.2344875335693, 1088.8299942016602, 913.872480392456, 931.8850040435791, 1501.7857551574707, 965.1362895965576, 1448.4639167785645, 27656.809329986572, 1513.6868953704834, 932.2500228881836, 41652.64916419983, 1030.5345058441162, 14527.435064315796, 14488.921165466309, 16938.223838806152, 981.3010692596436, 1611.541509628296, 14725.247621536255, 1117.048740386963, 1800.1205921173096, 1540.956735610962, 1331.7503929138184, 1539.0920639038086, 904.8399925231934], 'forced_repetitions': 28}, 'LLaVA': {'parameters': None, 'raw_answers': ['1000-1100 pixels', '1000-1100 pixels', '1000-1100 pixels', '1000-1100 pixels', 'The volume of the cube is approximately 1000-1100 pixels.', '1000-1100 pixels', '1000-1100 pixels', 'The volume of the cube is approximately 1000-1100 pixels.', '1000-1100 pixels', '1000-1100 pixels', '1000-1100 pixels', '1000-1100 pixels', '1000-1100 pixels', '1000-1100 pixels', '1000-1100 pixels', '1000-1100 pixels', '1000-1100 pixels', '1000-1100 pixels', '1000-1100 pixels', '1000-1100 pixels', '1000-1100 pixels', '1000-1100 pixels', '1000-1100 pixels', '1000-1100 pixels', '1000-1100 pixels', '1000-1100 pixels', '1000-1100 pixels', 'The volume of the cube is approximately 1000-1100 pixels.', 'The volume of the cube is approximately 1000-1100 pixels.', '1000-1100 pixels', '1000-1100 pixels', '1000-1100 pixels', '1000-1100 pixels', '1000-1100 pixels', '1000-1100 pixels', '1000-1100 pixels', '1000-1100 pixels', '1000-1100 pixels', 'The volume of the cube is approximately 1000-1100 pixels.', '1000-1100 pixels', '1000-1100 pixels', '1000-1100 pixels', '1000-1100 pixels', '1000-1100 pixels', '1000-1100 pixels', '1000-1100 pixels', '1000-1100 pixels', '1000-1100 pixels', '1000-1100 pixels', '1000-1100 pixels', '1000-1100 pixels', '1000-1100 pixels', '1000-1100 pixels', '1000-1100 pixels', '1000-1100 pixels'], 'parsed_answers': [[1000.0, 1100.0], [1000.0, 1100.0], [1000.0, 1100.0], [1000.0, 1100.0], [1000.0, 1100.0], [1000.0, 1100.0], [1000.0, 1100.0], [1000.0, 1100.0], [1000.0, 1100.0], [1000.0, 1100.0], [1000.0, 1100.0], [1000.0, 1100.0], [1000.0, 1100.0], [1000.0, 1100.0], [1000.0, 1100.0], [1000.0, 1100.0], [1000.0, 1100.0], [1000.0, 1100.0], [1000.0, 1100.0], [1000.0, 1100.0], [1000.0, 1100.0], [1000.0, 1100.0], [1000.0, 1100.0], [1000.0, 1100.0], [1000.0, 1100.0], [1000.0, 1100.0], [1000.0, 1100.0], [1000.0, 1100.0], [1000.0, 1100.0], [1000.0, 1100.0], [1000.0, 1100.0], [1000.0, 1100.0], [1000.0, 1100.0], [1000.0, 1100.0], [1000.0, 1100.0], [1000.0, 1100.0], [1000.0, 1100.0], [1000.0, 1100.0], [1000.0, 1100.0], [1000.0, 1100.0], [1000.0, 1100.0], [1000.0, 1100.0], [1000.0, 1100.0], [1000.0, 1100.0], [1000.0, 1100.0], [1000.0, 1100.0], [1000.0, 1100.0], [1000.0, 1100.0], [1000.0, 1100.0], [1000.0, 1100.0], [1000.0, 1100.0], [1000.0, 1100.0], [1000.0, 1100.0], [1000.0, 1100.0], [1000.0, 1100.0]], 'mean': 1050.0, 'std': 0.0, 'mse': 8849100.727272727, 'mlae': 17.737046467522706, 'times': [21074.424505233765, 7712.491273880005, 7040.2586460113525, 6791.915416717529, 7264.4944190979, 6803.489685058594, 6719.850063323975, 7251.897573471069, 6972.887992858887, 6973.93798828125, 7278.005123138428, 6797.995567321777, 7071.6235637664795, 6927.06036567688, 6898.105621337891, 7036.775588989258, 6832.912445068359, 7096.4038372039795, 6875.286340713501, 6971.4295864105225, 7021.560192108154, 6887.592315673828, 6950.044631958008, 7199.908018112183, 6946.438789367676, 6834.0325355529785, 6932.186603546143, 7094.959735870361, 6999.614715576172, 6901.278734207153, 6853.310585021973, 6853.399753570557, 6887.95018196106, 6773.834943771362, 7161.455154418945, 7035.748481750488, 7299.670457839966, 6948.543071746826, 7032.559871673584, 7181.6089153289795, 6836.779832839966, 6819.6399211883545, 7130.284547805786, 6800.574779510498, 7144.803524017334, 6881.644487380981, 6824.507236480713, 6717.208385467529, 6741.706609725952, 7024.237632751465, 6838.972806930542, 7135.037899017334, 6746.594190597534, 6899.929761886597, 6962.381601333618], 'forced_repetitions': 0}, 'CustomLLaVA': {'parameters': None, 'raw_answers': ['1000', '1000', '1000', '1000', '1000', '1000', '1000', '1000', '1000', '1000', '1000', '1000', '1000', '1000', '1000', '1000', '1000', '1000', '1000', '1000', '1000', '1000', '1000', '1000', '1000', '1000', '1000', '1000', '1000', '1000', '1000', '1000', '1000', '1000', '1000', '1000', '1000', '1000', '1000', '1000', '1000', '1000', '1000', '1000', '1000', '1000', '1000', '1000', '1000', '1000', '1000', '1000', '27', '1000', '1000'], 'parsed_answers': [[1000.0], [1000.0], [1000.0], [1000.0], [1000.0], [1000.0], [1000.0], [1000.0], [1000.0], [1000.0], [1000.0], [1000.0], [1000.0], [1000.0], [1000.0], [1000.0], [1000.0], [1000.0], [1000.0], [1000.0], [1000.0], [1000.0], [1000.0], [1000.0], [1000.0], [1000.0], [1000.0], [1000.0], [1000.0], [1000.0], [1000.0], [1000.0], [1000.0], [1000.0], [1000.0], [1000.0], [1000.0], [1000.0], [1000.0], [1000.0], [1000.0], [1000.0], [1000.0], [1000.0], [1000.0], [1000.0], [1000.0], [1000.0], [1000.0], [1000.0], [1000.0], [1000.0], [27.0], [1000.0], [1000.0]], 'mean': 982.3090909090909, 'std': 130.0011010760745, 'mse': 9062329.654545454, 'mlae': 17.755217967483734, 'times': [355134.2704296112, 19627.60353088379, 19342.191219329834, 20510.024309158325, 18903.823614120483, 19689.284086227417, 19176.533460617065, 19796.332597732544, 19227.277994155884, 19220.403909683228, 19696.821451187134, 19523.712396621704, 18583.276987075806, 19852.15449333191, 19690.547227859497, 19846.476793289185, 19843.69468688965, 19954.88977432251, 19556.01143836975, 19447.795867919922, 19496.694087982178, 19573.3482837677, 19659.26694869995, 18944.750785827637, 18882.27605819702, 18955.819129943848, 19004.475593566895, 18793.991327285767, 19015.414714813232, 19878.164052963257, 18933.059215545654, 19033.242225646973, 19188.038110733032, 18744.670867919922, 19152.500867843628, 19505.92303276062, 18828.001737594604, 19449.494123458862, 20162.118434906006, 19552.61492729187, 19248.555421829224, 19308.82477760315, 19705.95359802246, 19331.691026687622, 19323.925733566284, 18900.394201278687, 19842.510223388672, 18895.08080482483, 18942.256927490234, 18901.19457244873, 19185.76741218567, 19390.90657234192, 18875.171184539795, 19735.240697860718, 19852.61058807373], 'forced_repetitions': 0}}\n"
     ]
    }
   ],
   "source": [
    "import sys\n",
    "sys.path.append('../')\n",
    "import LLMP as L\n",
    "import torch\n",
    "torch.torch.cuda.empty_cache()\n",
    "\n",
    "query = \"What do you see? You should see something like a cube in the image. The image itself is 100 by 100 pixels, \\\n",
    "            but suppose the cube exists in a 100 by 100 by 100 pixels space. Estimate the volume of the cube in pixels and \\\n",
    "            respond with a numerical range. It does not have to be perfectly precise; just give me your numerical estimation.\\\n",
    "            If you could estimate, answer shortly just with one sentence as 1000 pixels or 1000-1100 pixels\"\n",
    "images = [L.GPImage.figure1('volume') for i in range(55)]\n",
    "models = [\"ChatGPT\", \"LLaVA\", \"CustomLLaVA\"]\n",
    "\n",
    "results = L.Evaluator.run(images, query, models)\n",
    "print(results)"
   ]
  },
  {
   "cell_type": "code",
   "execution_count": 2,
   "id": "996ec5cb-cc9b-43fe-860f-51b4f37b74cb",
   "metadata": {},
   "outputs": [],
   "source": [
    "chatGPT_mse = results[\"ChatGPT\"][\"mse\"]\n",
    "chatGPT_mlae = results[\"ChatGPT\"][\"mlae\"]\n",
    "chatGPT_mean = results[\"ChatGPT\"][\"mean\"]\n",
    "chatGPT_std = results[\"ChatGPT\"][\"std\"]\n",
    "llava_mse = results[\"LLaVA\"][\"mse\"]\n",
    "llava_mlae = results[\"LLaVA\"][\"mlae\"]\n",
    "llava_mean = results[\"LLaVA\"][\"mean\"]\n",
    "llava_std = results[\"LLaVA\"][\"std\"]\n",
    "custom_llava_mse = results[\"CustomLLaVA\"][\"mse\"]\n",
    "custom_llava_mlae = results[\"CustomLLaVA\"][\"mlae\"]\n",
    "custom_llava_mean = results[\"CustomLLaVA\"][\"mean\"]\n",
    "custom_llava_std = results[\"CustomLLaVA\"][\"std\"]"
   ]
  },
  {
   "cell_type": "code",
   "execution_count": 3,
   "id": "439da9eb-74c7-4734-b135-5a15f4f25cf4",
   "metadata": {},
   "outputs": [
    {
     "name": "stdout",
     "output_type": "stream",
     "text": [
      "ChatGPT mse:  5511411.363636363\n",
      "ChatGPT mlae: 17.358149620827103\n",
      "ChatGPT mean: 1460.3454545454545\n",
      "ChatGPT std: 1346.8725014664944\n",
      "LLaVA mse:    8849100.727272727\n",
      "LLaVA mlae:   17.737046467522706\n",
      "LLaVA mean:   1050.0\n",
      "LLaVA std:   0.0\n",
      "CLLaVA mse:   9062329.654545454\n",
      "CLLaVA mlae:  17.755217967483734\n",
      "CLLaVA mean:  982.3090909090909\n",
      "CLLaVA std:  130.0011010760745\n"
     ]
    }
   ],
   "source": [
    "print(\"ChatGPT mse: \", chatGPT_mse)\n",
    "print(\"ChatGPT mlae:\", chatGPT_mlae)\n",
    "print(\"ChatGPT mean:\", chatGPT_mean)\n",
    "print(\"ChatGPT std:\", chatGPT_std)\n",
    "print(\"LLaVA mse:   \", llava_mse)\n",
    "print(\"LLaVA mlae:  \", llava_mlae)\n",
    "print(\"LLaVA mean:  \", llava_mean)\n",
    "print(\"LLaVA std:  \", llava_std)\n",
    "print(\"CLLaVA mse:  \", custom_llava_mse)\n",
    "print(\"CLLaVA mlae: \", custom_llava_mlae)\n",
    "print(\"CLLaVA mean: \", custom_llava_mean)\n",
    "print(\"CLLaVA std: \", custom_llava_std)"
   ]
  },
  {
   "cell_type": "code",
   "execution_count": null,
   "id": "63baf439-2de9-49f2-a770-26cd7f115938",
   "metadata": {},
   "outputs": [],
   "source": []
  }
 ],
 "metadata": {
  "kernelspec": {
   "display_name": "Python 3 (ipykernel)",
   "language": "python",
   "name": "python3"
  },
  "language_info": {
   "codemirror_mode": {
    "name": "ipython",
    "version": 3
   },
   "file_extension": ".py",
   "mimetype": "text/x-python",
   "name": "python",
   "nbconvert_exporter": "python",
   "pygments_lexer": "ipython3",
   "version": "3.11.7"
  }
 },
 "nbformat": 4,
 "nbformat_minor": 5
}
