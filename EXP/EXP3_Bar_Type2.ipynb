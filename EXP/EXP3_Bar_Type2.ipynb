{
 "cells": [
  {
   "cell_type": "code",
   "execution_count": 1,
   "id": "c6164175-c528-45b7-bd0e-1dbaad9d472c",
   "metadata": {},
   "outputs": [
    {
     "name": "stdout",
     "output_type": "stream",
     "text": [
      "[2024-04-23 05:55:54,155] [INFO] [real_accelerator.py:191:get_accelerator] Setting ds_accelerator to cuda (auto detect)\n"
     ]
    },
    {
     "name": "stderr",
     "output_type": "stream",
     "text": [
      "You are using a model of type llava to instantiate a model of type llava_llama. This is not supported for all configurations of models and can yield errors.\n"
     ]
    },
    {
     "data": {
      "application/vnd.jupyter.widget-view+json": {
       "model_id": "1ae98ef530a845059428e37ff5682455",
       "version_major": 2,
       "version_minor": 0
      },
      "text/plain": [
       "Loading checkpoint shards:   0%|          | 0/2 [00:00<?, ?it/s]"
      ]
     },
     "metadata": {},
     "output_type": "display_data"
    },
    {
     "name": "stderr",
     "output_type": "stream",
     "text": [
      "/home/kenichi.maeda001/anaconda3/envs/LLMP/lib/python3.11/site-packages/transformers/generation/configuration_utils.py:389: UserWarning: `do_sample` is set to `False`. However, `temperature` is set to `0` -- this flag is only used in sample-based generation modes. You should set `do_sample=True` or unset `temperature`.\n",
      "  warnings.warn(\n",
      "/home/kenichi.maeda001/anaconda3/envs/LLMP/lib/python3.11/site-packages/transformers/generation/configuration_utils.py:394: UserWarning: `do_sample` is set to `False`. However, `top_p` is set to `None` -- this flag is only used in sample-based generation modes. You should set `do_sample=True` or unset `top_p`.\n",
      "  warnings.warn(\n",
      "You are using a model of type llava to instantiate a model of type llava_llama. This is not supported for all configurations of models and can yield errors.\n"
     ]
    },
    {
     "data": {
      "application/vnd.jupyter.widget-view+json": {
       "model_id": "be0fb9d2d5394572a42e513012166dad",
       "version_major": 2,
       "version_minor": 0
      },
      "text/plain": [
       "Loading checkpoint shards:   0%|          | 0/2 [00:00<?, ?it/s]"
      ]
     },
     "metadata": {},
     "output_type": "display_data"
    },
    {
     "name": "stderr",
     "output_type": "stream",
     "text": [
      "You are using a model of type llava to instantiate a model of type llava_llama. This is not supported for all configurations of models and can yield errors.\n"
     ]
    },
    {
     "data": {
      "application/vnd.jupyter.widget-view+json": {
       "model_id": "f9e528ec361d4aa6a1ef9f2e8ef415c7",
       "version_major": 2,
       "version_minor": 0
      },
      "text/plain": [
       "Loading checkpoint shards:   0%|          | 0/2 [00:00<?, ?it/s]"
      ]
     },
     "metadata": {},
     "output_type": "display_data"
    },
    {
     "name": "stderr",
     "output_type": "stream",
     "text": [
      "You are using a model of type llava to instantiate a model of type llava_llama. This is not supported for all configurations of models and can yield errors.\n"
     ]
    },
    {
     "data": {
      "application/vnd.jupyter.widget-view+json": {
       "model_id": "67ec55d1d1394475a76ce05dab392803",
       "version_major": 2,
       "version_minor": 0
      },
      "text/plain": [
       "Loading checkpoint shards:   0%|          | 0/2 [00:00<?, ?it/s]"
      ]
     },
     "metadata": {},
     "output_type": "display_data"
    },
    {
     "name": "stderr",
     "output_type": "stream",
     "text": [
      "You are using a model of type llava to instantiate a model of type llava_llama. This is not supported for all configurations of models and can yield errors.\n"
     ]
    },
    {
     "data": {
      "application/vnd.jupyter.widget-view+json": {
       "model_id": "344a49847b1d493abc4724c976faaf20",
       "version_major": 2,
       "version_minor": 0
      },
      "text/plain": [
       "Loading checkpoint shards:   0%|          | 0/2 [00:00<?, ?it/s]"
      ]
     },
     "metadata": {},
     "output_type": "display_data"
    },
    {
     "name": "stderr",
     "output_type": "stream",
     "text": [
      "You are using a model of type llava to instantiate a model of type llava_llama. This is not supported for all configurations of models and can yield errors.\n"
     ]
    },
    {
     "data": {
      "application/vnd.jupyter.widget-view+json": {
       "model_id": "97524c7c2c334331a8a4a211b43ab327",
       "version_major": 2,
       "version_minor": 0
      },
      "text/plain": [
       "Loading checkpoint shards:   0%|          | 0/2 [00:00<?, ?it/s]"
      ]
     },
     "metadata": {},
     "output_type": "display_data"
    },
    {
     "name": "stderr",
     "output_type": "stream",
     "text": [
      "You are using a model of type llava to instantiate a model of type llava_llama. This is not supported for all configurations of models and can yield errors.\n"
     ]
    },
    {
     "data": {
      "application/vnd.jupyter.widget-view+json": {
       "model_id": "083a92ce04d9450898f4893a7236c651",
       "version_major": 2,
       "version_minor": 0
      },
      "text/plain": [
       "Loading checkpoint shards:   0%|          | 0/2 [00:00<?, ?it/s]"
      ]
     },
     "metadata": {},
     "output_type": "display_data"
    },
    {
     "name": "stderr",
     "output_type": "stream",
     "text": [
      "You are using a model of type llava to instantiate a model of type llava_llama. This is not supported for all configurations of models and can yield errors.\n"
     ]
    },
    {
     "data": {
      "application/vnd.jupyter.widget-view+json": {
       "model_id": "e253a13ad940436c8c2f577f063060d3",
       "version_major": 2,
       "version_minor": 0
      },
      "text/plain": [
       "Loading checkpoint shards:   0%|          | 0/2 [00:00<?, ?it/s]"
      ]
     },
     "metadata": {},
     "output_type": "display_data"
    },
    {
     "name": "stderr",
     "output_type": "stream",
     "text": [
      "You are using a model of type llava to instantiate a model of type llava_llama. This is not supported for all configurations of models and can yield errors.\n"
     ]
    },
    {
     "data": {
      "application/vnd.jupyter.widget-view+json": {
       "model_id": "52b545d00e424d21bd775ec3af6cdb70",
       "version_major": 2,
       "version_minor": 0
      },
      "text/plain": [
       "Loading checkpoint shards:   0%|          | 0/2 [00:00<?, ?it/s]"
      ]
     },
     "metadata": {},
     "output_type": "display_data"
    },
    {
     "name": "stderr",
     "output_type": "stream",
     "text": [
      "You are using a model of type llava to instantiate a model of type llava_llama. This is not supported for all configurations of models and can yield errors.\n"
     ]
    },
    {
     "data": {
      "application/vnd.jupyter.widget-view+json": {
       "model_id": "cdc837e6908347c49a8747b063299f0b",
       "version_major": 2,
       "version_minor": 0
      },
      "text/plain": [
       "Loading checkpoint shards:   0%|          | 0/2 [00:00<?, ?it/s]"
      ]
     },
     "metadata": {},
     "output_type": "display_data"
    },
    {
     "name": "stderr",
     "output_type": "stream",
     "text": [
      "You are using a model of type llava to instantiate a model of type llava_llama. This is not supported for all configurations of models and can yield errors.\n"
     ]
    },
    {
     "data": {
      "application/vnd.jupyter.widget-view+json": {
       "model_id": "c0242915d8e64ee69c77d4a0133401d8",
       "version_major": 2,
       "version_minor": 0
      },
      "text/plain": [
       "Loading checkpoint shards:   0%|          | 0/2 [00:00<?, ?it/s]"
      ]
     },
     "metadata": {},
     "output_type": "display_data"
    },
    {
     "name": "stderr",
     "output_type": "stream",
     "text": [
      "You are using a model of type llava to instantiate a model of type llava_llama. This is not supported for all configurations of models and can yield errors.\n"
     ]
    },
    {
     "data": {
      "application/vnd.jupyter.widget-view+json": {
       "model_id": "9e6345f8c88345c39b1091d726e40aac",
       "version_major": 2,
       "version_minor": 0
      },
      "text/plain": [
       "Loading checkpoint shards:   0%|          | 0/2 [00:00<?, ?it/s]"
      ]
     },
     "metadata": {},
     "output_type": "display_data"
    },
    {
     "name": "stderr",
     "output_type": "stream",
     "text": [
      "You are using a model of type llava to instantiate a model of type llava_llama. This is not supported for all configurations of models and can yield errors.\n"
     ]
    },
    {
     "data": {
      "application/vnd.jupyter.widget-view+json": {
       "model_id": "7f9ec4f756764e0a91ce3c3b19087e70",
       "version_major": 2,
       "version_minor": 0
      },
      "text/plain": [
       "Loading checkpoint shards:   0%|          | 0/2 [00:00<?, ?it/s]"
      ]
     },
     "metadata": {},
     "output_type": "display_data"
    },
    {
     "name": "stderr",
     "output_type": "stream",
     "text": [
      "You are using a model of type llava to instantiate a model of type llava_llama. This is not supported for all configurations of models and can yield errors.\n"
     ]
    },
    {
     "data": {
      "application/vnd.jupyter.widget-view+json": {
       "model_id": "147c4451e06e42dc9288359a3345a1b4",
       "version_major": 2,
       "version_minor": 0
      },
      "text/plain": [
       "Loading checkpoint shards:   0%|          | 0/2 [00:00<?, ?it/s]"
      ]
     },
     "metadata": {},
     "output_type": "display_data"
    },
    {
     "name": "stderr",
     "output_type": "stream",
     "text": [
      "You are using a model of type llava to instantiate a model of type llava_llama. This is not supported for all configurations of models and can yield errors.\n"
     ]
    },
    {
     "data": {
      "application/vnd.jupyter.widget-view+json": {
       "model_id": "0d7e7911734545f5a40a5f32cb4de5c2",
       "version_major": 2,
       "version_minor": 0
      },
      "text/plain": [
       "Loading checkpoint shards:   0%|          | 0/2 [00:00<?, ?it/s]"
      ]
     },
     "metadata": {},
     "output_type": "display_data"
    },
    {
     "name": "stderr",
     "output_type": "stream",
     "text": [
      "You are using a model of type llava to instantiate a model of type llava_llama. This is not supported for all configurations of models and can yield errors.\n"
     ]
    },
    {
     "data": {
      "application/vnd.jupyter.widget-view+json": {
       "model_id": "10eadf4f9b1149edbfc77a7472c2834b",
       "version_major": 2,
       "version_minor": 0
      },
      "text/plain": [
       "Loading checkpoint shards:   0%|          | 0/2 [00:00<?, ?it/s]"
      ]
     },
     "metadata": {},
     "output_type": "display_data"
    },
    {
     "name": "stderr",
     "output_type": "stream",
     "text": [
      "You are using a model of type llava to instantiate a model of type llava_llama. This is not supported for all configurations of models and can yield errors.\n"
     ]
    },
    {
     "data": {
      "application/vnd.jupyter.widget-view+json": {
       "model_id": "42e8ce2f644e4d379aeb2426313b9014",
       "version_major": 2,
       "version_minor": 0
      },
      "text/plain": [
       "Loading checkpoint shards:   0%|          | 0/2 [00:00<?, ?it/s]"
      ]
     },
     "metadata": {},
     "output_type": "display_data"
    },
    {
     "name": "stderr",
     "output_type": "stream",
     "text": [
      "You are using a model of type llava to instantiate a model of type llava_llama. This is not supported for all configurations of models and can yield errors.\n"
     ]
    },
    {
     "data": {
      "application/vnd.jupyter.widget-view+json": {
       "model_id": "b4ca4164339c42e4af4c64175361b6d7",
       "version_major": 2,
       "version_minor": 0
      },
      "text/plain": [
       "Loading checkpoint shards:   0%|          | 0/2 [00:00<?, ?it/s]"
      ]
     },
     "metadata": {},
     "output_type": "display_data"
    },
    {
     "name": "stderr",
     "output_type": "stream",
     "text": [
      "You are using a model of type llava to instantiate a model of type llava_llama. This is not supported for all configurations of models and can yield errors.\n"
     ]
    },
    {
     "data": {
      "application/vnd.jupyter.widget-view+json": {
       "model_id": "99d9df48047c4c008fdbd394286218a2",
       "version_major": 2,
       "version_minor": 0
      },
      "text/plain": [
       "Loading checkpoint shards:   0%|          | 0/2 [00:00<?, ?it/s]"
      ]
     },
     "metadata": {},
     "output_type": "display_data"
    },
    {
     "name": "stderr",
     "output_type": "stream",
     "text": [
      "You are using a model of type llava to instantiate a model of type llava_llama. This is not supported for all configurations of models and can yield errors.\n"
     ]
    },
    {
     "data": {
      "application/vnd.jupyter.widget-view+json": {
       "model_id": "3c94e1fd149c45e78299677cd8ea60da",
       "version_major": 2,
       "version_minor": 0
      },
      "text/plain": [
       "Loading checkpoint shards:   0%|          | 0/2 [00:00<?, ?it/s]"
      ]
     },
     "metadata": {},
     "output_type": "display_data"
    },
    {
     "name": "stderr",
     "output_type": "stream",
     "text": [
      "You are using a model of type llava to instantiate a model of type llava_llama. This is not supported for all configurations of models and can yield errors.\n"
     ]
    },
    {
     "data": {
      "application/vnd.jupyter.widget-view+json": {
       "model_id": "913c5a56b4244ecc85df0f2adc720dba",
       "version_major": 2,
       "version_minor": 0
      },
      "text/plain": [
       "Loading checkpoint shards:   0%|          | 0/2 [00:00<?, ?it/s]"
      ]
     },
     "metadata": {},
     "output_type": "display_data"
    },
    {
     "name": "stderr",
     "output_type": "stream",
     "text": [
      "You are using a model of type llava to instantiate a model of type llava_llama. This is not supported for all configurations of models and can yield errors.\n"
     ]
    },
    {
     "data": {
      "application/vnd.jupyter.widget-view+json": {
       "model_id": "be6db479fd4d436aa21eec16caaae1ad",
       "version_major": 2,
       "version_minor": 0
      },
      "text/plain": [
       "Loading checkpoint shards:   0%|          | 0/2 [00:00<?, ?it/s]"
      ]
     },
     "metadata": {},
     "output_type": "display_data"
    },
    {
     "name": "stderr",
     "output_type": "stream",
     "text": [
      "You are using a model of type llava to instantiate a model of type llava_llama. This is not supported for all configurations of models and can yield errors.\n"
     ]
    },
    {
     "data": {
      "application/vnd.jupyter.widget-view+json": {
       "model_id": "8d96924e0f02424b86db40b9581ea149",
       "version_major": 2,
       "version_minor": 0
      },
      "text/plain": [
       "Loading checkpoint shards:   0%|          | 0/2 [00:00<?, ?it/s]"
      ]
     },
     "metadata": {},
     "output_type": "display_data"
    },
    {
     "name": "stderr",
     "output_type": "stream",
     "text": [
      "You are using a model of type llava to instantiate a model of type llava_llama. This is not supported for all configurations of models and can yield errors.\n"
     ]
    },
    {
     "data": {
      "application/vnd.jupyter.widget-view+json": {
       "model_id": "0c05c2fd8e8a4a5f9fc833777da54568",
       "version_major": 2,
       "version_minor": 0
      },
      "text/plain": [
       "Loading checkpoint shards:   0%|          | 0/2 [00:00<?, ?it/s]"
      ]
     },
     "metadata": {},
     "output_type": "display_data"
    },
    {
     "name": "stderr",
     "output_type": "stream",
     "text": [
      "You are using a model of type llava to instantiate a model of type llava_llama. This is not supported for all configurations of models and can yield errors.\n"
     ]
    },
    {
     "data": {
      "application/vnd.jupyter.widget-view+json": {
       "model_id": "8b046d2d807b47bcabea18a4013e32d9",
       "version_major": 2,
       "version_minor": 0
      },
      "text/plain": [
       "Loading checkpoint shards:   0%|          | 0/2 [00:00<?, ?it/s]"
      ]
     },
     "metadata": {},
     "output_type": "display_data"
    },
    {
     "name": "stderr",
     "output_type": "stream",
     "text": [
      "You are using a model of type llava to instantiate a model of type llava_llama. This is not supported for all configurations of models and can yield errors.\n"
     ]
    },
    {
     "data": {
      "application/vnd.jupyter.widget-view+json": {
       "model_id": "7f4fd69bdd3d4363b195478d9faf6310",
       "version_major": 2,
       "version_minor": 0
      },
      "text/plain": [
       "Loading checkpoint shards:   0%|          | 0/2 [00:00<?, ?it/s]"
      ]
     },
     "metadata": {},
     "output_type": "display_data"
    },
    {
     "name": "stderr",
     "output_type": "stream",
     "text": [
      "You are using a model of type llava to instantiate a model of type llava_llama. This is not supported for all configurations of models and can yield errors.\n"
     ]
    },
    {
     "data": {
      "application/vnd.jupyter.widget-view+json": {
       "model_id": "8b5ba89ae09e459c820add8b6c814ddb",
       "version_major": 2,
       "version_minor": 0
      },
      "text/plain": [
       "Loading checkpoint shards:   0%|          | 0/2 [00:00<?, ?it/s]"
      ]
     },
     "metadata": {},
     "output_type": "display_data"
    },
    {
     "name": "stderr",
     "output_type": "stream",
     "text": [
      "You are using a model of type llava to instantiate a model of type llava_llama. This is not supported for all configurations of models and can yield errors.\n"
     ]
    },
    {
     "data": {
      "application/vnd.jupyter.widget-view+json": {
       "model_id": "8b415927793a4b8a9c9d0140b976637a",
       "version_major": 2,
       "version_minor": 0
      },
      "text/plain": [
       "Loading checkpoint shards:   0%|          | 0/2 [00:00<?, ?it/s]"
      ]
     },
     "metadata": {},
     "output_type": "display_data"
    },
    {
     "name": "stderr",
     "output_type": "stream",
     "text": [
      "You are using a model of type llava to instantiate a model of type llava_llama. This is not supported for all configurations of models and can yield errors.\n"
     ]
    },
    {
     "data": {
      "application/vnd.jupyter.widget-view+json": {
       "model_id": "c97a1d7522394c28a08ca6c8590721c4",
       "version_major": 2,
       "version_minor": 0
      },
      "text/plain": [
       "Loading checkpoint shards:   0%|          | 0/2 [00:00<?, ?it/s]"
      ]
     },
     "metadata": {},
     "output_type": "display_data"
    },
    {
     "name": "stderr",
     "output_type": "stream",
     "text": [
      "You are using a model of type llava to instantiate a model of type llava_llama. This is not supported for all configurations of models and can yield errors.\n"
     ]
    },
    {
     "data": {
      "application/vnd.jupyter.widget-view+json": {
       "model_id": "d7cc37153ae74fb5b0408cad455f168f",
       "version_major": 2,
       "version_minor": 0
      },
      "text/plain": [
       "Loading checkpoint shards:   0%|          | 0/2 [00:00<?, ?it/s]"
      ]
     },
     "metadata": {},
     "output_type": "display_data"
    },
    {
     "name": "stderr",
     "output_type": "stream",
     "text": [
      "You are using a model of type llava to instantiate a model of type llava_llama. This is not supported for all configurations of models and can yield errors.\n"
     ]
    },
    {
     "data": {
      "application/vnd.jupyter.widget-view+json": {
       "model_id": "9c8df2f46d1347c4857c052d275cb2a7",
       "version_major": 2,
       "version_minor": 0
      },
      "text/plain": [
       "Loading checkpoint shards:   0%|          | 0/2 [00:00<?, ?it/s]"
      ]
     },
     "metadata": {},
     "output_type": "display_data"
    },
    {
     "name": "stderr",
     "output_type": "stream",
     "text": [
      "You are using a model of type llava to instantiate a model of type llava_llama. This is not supported for all configurations of models and can yield errors.\n"
     ]
    },
    {
     "data": {
      "application/vnd.jupyter.widget-view+json": {
       "model_id": "2dffc8c3829545db97ea4b73b868ba12",
       "version_major": 2,
       "version_minor": 0
      },
      "text/plain": [
       "Loading checkpoint shards:   0%|          | 0/2 [00:00<?, ?it/s]"
      ]
     },
     "metadata": {},
     "output_type": "display_data"
    },
    {
     "name": "stderr",
     "output_type": "stream",
     "text": [
      "You are using a model of type llava to instantiate a model of type llava_llama. This is not supported for all configurations of models and can yield errors.\n"
     ]
    },
    {
     "data": {
      "application/vnd.jupyter.widget-view+json": {
       "model_id": "6deba1693d414c7faa676f074641c014",
       "version_major": 2,
       "version_minor": 0
      },
      "text/plain": [
       "Loading checkpoint shards:   0%|          | 0/2 [00:00<?, ?it/s]"
      ]
     },
     "metadata": {},
     "output_type": "display_data"
    },
    {
     "name": "stderr",
     "output_type": "stream",
     "text": [
      "You are using a model of type llava to instantiate a model of type llava_llama. This is not supported for all configurations of models and can yield errors.\n"
     ]
    },
    {
     "data": {
      "application/vnd.jupyter.widget-view+json": {
       "model_id": "61576cc44d9f42bf9504fdc56d16adfc",
       "version_major": 2,
       "version_minor": 0
      },
      "text/plain": [
       "Loading checkpoint shards:   0%|          | 0/2 [00:00<?, ?it/s]"
      ]
     },
     "metadata": {},
     "output_type": "display_data"
    },
    {
     "name": "stderr",
     "output_type": "stream",
     "text": [
      "You are using a model of type llava to instantiate a model of type llava_llama. This is not supported for all configurations of models and can yield errors.\n"
     ]
    },
    {
     "data": {
      "application/vnd.jupyter.widget-view+json": {
       "model_id": "b3cd5c99b9544b24911ae95352a03489",
       "version_major": 2,
       "version_minor": 0
      },
      "text/plain": [
       "Loading checkpoint shards:   0%|          | 0/2 [00:00<?, ?it/s]"
      ]
     },
     "metadata": {},
     "output_type": "display_data"
    },
    {
     "name": "stderr",
     "output_type": "stream",
     "text": [
      "You are using a model of type llava to instantiate a model of type llava_llama. This is not supported for all configurations of models and can yield errors.\n"
     ]
    },
    {
     "data": {
      "application/vnd.jupyter.widget-view+json": {
       "model_id": "0068a367bb9a4d5daec56548c6a491f4",
       "version_major": 2,
       "version_minor": 0
      },
      "text/plain": [
       "Loading checkpoint shards:   0%|          | 0/2 [00:00<?, ?it/s]"
      ]
     },
     "metadata": {},
     "output_type": "display_data"
    },
    {
     "name": "stderr",
     "output_type": "stream",
     "text": [
      "You are using a model of type llava to instantiate a model of type llava_llama. This is not supported for all configurations of models and can yield errors.\n"
     ]
    },
    {
     "data": {
      "application/vnd.jupyter.widget-view+json": {
       "model_id": "01243ab9a3f14c13ad72d3cbf22ec1ec",
       "version_major": 2,
       "version_minor": 0
      },
      "text/plain": [
       "Loading checkpoint shards:   0%|          | 0/2 [00:00<?, ?it/s]"
      ]
     },
     "metadata": {},
     "output_type": "display_data"
    },
    {
     "name": "stderr",
     "output_type": "stream",
     "text": [
      "You are using a model of type llava to instantiate a model of type llava_llama. This is not supported for all configurations of models and can yield errors.\n"
     ]
    },
    {
     "data": {
      "application/vnd.jupyter.widget-view+json": {
       "model_id": "fdfeb838d69248fd963aa697fe150181",
       "version_major": 2,
       "version_minor": 0
      },
      "text/plain": [
       "Loading checkpoint shards:   0%|          | 0/2 [00:00<?, ?it/s]"
      ]
     },
     "metadata": {},
     "output_type": "display_data"
    },
    {
     "name": "stderr",
     "output_type": "stream",
     "text": [
      "You are using a model of type llava to instantiate a model of type llava_llama. This is not supported for all configurations of models and can yield errors.\n"
     ]
    },
    {
     "data": {
      "application/vnd.jupyter.widget-view+json": {
       "model_id": "c17401f83e9b4b29b304e4537e97da66",
       "version_major": 2,
       "version_minor": 0
      },
      "text/plain": [
       "Loading checkpoint shards:   0%|          | 0/2 [00:00<?, ?it/s]"
      ]
     },
     "metadata": {},
     "output_type": "display_data"
    },
    {
     "name": "stderr",
     "output_type": "stream",
     "text": [
      "You are using a model of type llava to instantiate a model of type llava_llama. This is not supported for all configurations of models and can yield errors.\n"
     ]
    },
    {
     "data": {
      "application/vnd.jupyter.widget-view+json": {
       "model_id": "8a828cb330174ec6a20d4bd6b3b083a1",
       "version_major": 2,
       "version_minor": 0
      },
      "text/plain": [
       "Loading checkpoint shards:   0%|          | 0/2 [00:00<?, ?it/s]"
      ]
     },
     "metadata": {},
     "output_type": "display_data"
    },
    {
     "name": "stderr",
     "output_type": "stream",
     "text": [
      "You are using a model of type llava to instantiate a model of type llava_llama. This is not supported for all configurations of models and can yield errors.\n"
     ]
    },
    {
     "data": {
      "application/vnd.jupyter.widget-view+json": {
       "model_id": "fa566144949e4c6b94bb2a53681927a0",
       "version_major": 2,
       "version_minor": 0
      },
      "text/plain": [
       "Loading checkpoint shards:   0%|          | 0/2 [00:00<?, ?it/s]"
      ]
     },
     "metadata": {},
     "output_type": "display_data"
    },
    {
     "name": "stderr",
     "output_type": "stream",
     "text": [
      "You are using a model of type llava to instantiate a model of type llava_llama. This is not supported for all configurations of models and can yield errors.\n"
     ]
    },
    {
     "data": {
      "application/vnd.jupyter.widget-view+json": {
       "model_id": "1bed99878cf748899f3557104313f6bc",
       "version_major": 2,
       "version_minor": 0
      },
      "text/plain": [
       "Loading checkpoint shards:   0%|          | 0/2 [00:00<?, ?it/s]"
      ]
     },
     "metadata": {},
     "output_type": "display_data"
    },
    {
     "name": "stderr",
     "output_type": "stream",
     "text": [
      "You are using a model of type llava to instantiate a model of type llava_llama. This is not supported for all configurations of models and can yield errors.\n"
     ]
    },
    {
     "data": {
      "application/vnd.jupyter.widget-view+json": {
       "model_id": "bbeebb54af97482b9270c491e97cbfd1",
       "version_major": 2,
       "version_minor": 0
      },
      "text/plain": [
       "Loading checkpoint shards:   0%|          | 0/2 [00:00<?, ?it/s]"
      ]
     },
     "metadata": {},
     "output_type": "display_data"
    },
    {
     "name": "stderr",
     "output_type": "stream",
     "text": [
      "You are using a model of type llava to instantiate a model of type llava_llama. This is not supported for all configurations of models and can yield errors.\n"
     ]
    },
    {
     "data": {
      "application/vnd.jupyter.widget-view+json": {
       "model_id": "4e1281da311d4b6b97ecbe94064fe95e",
       "version_major": 2,
       "version_minor": 0
      },
      "text/plain": [
       "Loading checkpoint shards:   0%|          | 0/2 [00:00<?, ?it/s]"
      ]
     },
     "metadata": {},
     "output_type": "display_data"
    },
    {
     "name": "stderr",
     "output_type": "stream",
     "text": [
      "You are using a model of type llava to instantiate a model of type llava_llama. This is not supported for all configurations of models and can yield errors.\n"
     ]
    },
    {
     "data": {
      "application/vnd.jupyter.widget-view+json": {
       "model_id": "f5eb7bc028de4db69d636bef85b2b95b",
       "version_major": 2,
       "version_minor": 0
      },
      "text/plain": [
       "Loading checkpoint shards:   0%|          | 0/2 [00:00<?, ?it/s]"
      ]
     },
     "metadata": {},
     "output_type": "display_data"
    },
    {
     "name": "stderr",
     "output_type": "stream",
     "text": [
      "You are using a model of type llava to instantiate a model of type llava_llama. This is not supported for all configurations of models and can yield errors.\n"
     ]
    },
    {
     "data": {
      "application/vnd.jupyter.widget-view+json": {
       "model_id": "4a3618f5b4d14e4eb1d77684b288c80c",
       "version_major": 2,
       "version_minor": 0
      },
      "text/plain": [
       "Loading checkpoint shards:   0%|          | 0/2 [00:00<?, ?it/s]"
      ]
     },
     "metadata": {},
     "output_type": "display_data"
    },
    {
     "name": "stderr",
     "output_type": "stream",
     "text": [
      "You are using a model of type llava to instantiate a model of type llava_llama. This is not supported for all configurations of models and can yield errors.\n"
     ]
    },
    {
     "data": {
      "application/vnd.jupyter.widget-view+json": {
       "model_id": "2251533721f0436ca97bb4bea8860af4",
       "version_major": 2,
       "version_minor": 0
      },
      "text/plain": [
       "Loading checkpoint shards:   0%|          | 0/2 [00:00<?, ?it/s]"
      ]
     },
     "metadata": {},
     "output_type": "display_data"
    },
    {
     "name": "stderr",
     "output_type": "stream",
     "text": [
      "You are using a model of type llava to instantiate a model of type llava_llama. This is not supported for all configurations of models and can yield errors.\n"
     ]
    },
    {
     "data": {
      "application/vnd.jupyter.widget-view+json": {
       "model_id": "1232e110d84047ba916de0a9db404e75",
       "version_major": 2,
       "version_minor": 0
      },
      "text/plain": [
       "Loading checkpoint shards:   0%|          | 0/2 [00:00<?, ?it/s]"
      ]
     },
     "metadata": {},
     "output_type": "display_data"
    },
    {
     "name": "stderr",
     "output_type": "stream",
     "text": [
      "You are using a model of type llava to instantiate a model of type llava_llama. This is not supported for all configurations of models and can yield errors.\n"
     ]
    },
    {
     "data": {
      "application/vnd.jupyter.widget-view+json": {
       "model_id": "2fbbf0b8d6ee4c70854a4218bd539b99",
       "version_major": 2,
       "version_minor": 0
      },
      "text/plain": [
       "Loading checkpoint shards:   0%|          | 0/2 [00:00<?, ?it/s]"
      ]
     },
     "metadata": {},
     "output_type": "display_data"
    },
    {
     "name": "stderr",
     "output_type": "stream",
     "text": [
      "You are using a model of type llava to instantiate a model of type llava_llama. This is not supported for all configurations of models and can yield errors.\n"
     ]
    },
    {
     "data": {
      "application/vnd.jupyter.widget-view+json": {
       "model_id": "855333c29c72416e9ef4ba1ffb3a63ec",
       "version_major": 2,
       "version_minor": 0
      },
      "text/plain": [
       "Loading checkpoint shards:   0%|          | 0/2 [00:00<?, ?it/s]"
      ]
     },
     "metadata": {},
     "output_type": "display_data"
    },
    {
     "name": "stderr",
     "output_type": "stream",
     "text": [
      "You are using a model of type llava to instantiate a model of type llava_llama. This is not supported for all configurations of models and can yield errors.\n"
     ]
    },
    {
     "data": {
      "application/vnd.jupyter.widget-view+json": {
       "model_id": "f8469e4326ba4e3b9302fc340ca077e4",
       "version_major": 2,
       "version_minor": 0
      },
      "text/plain": [
       "Loading checkpoint shards:   0%|          | 0/2 [00:00<?, ?it/s]"
      ]
     },
     "metadata": {},
     "output_type": "display_data"
    },
    {
     "name": "stderr",
     "output_type": "stream",
     "text": [
      "You are using a model of type llava to instantiate a model of type llava_llama. This is not supported for all configurations of models and can yield errors.\n"
     ]
    },
    {
     "data": {
      "application/vnd.jupyter.widget-view+json": {
       "model_id": "666577cc1b2c4e55a8f40148e6a729d2",
       "version_major": 2,
       "version_minor": 0
      },
      "text/plain": [
       "Loading checkpoint shards:   0%|          | 0/2 [00:00<?, ?it/s]"
      ]
     },
     "metadata": {},
     "output_type": "display_data"
    },
    {
     "name": "stderr",
     "output_type": "stream",
     "text": [
      "You are using a model of type llava to instantiate a model of type llava_llama. This is not supported for all configurations of models and can yield errors.\n"
     ]
    },
    {
     "data": {
      "application/vnd.jupyter.widget-view+json": {
       "model_id": "8df569a2968f4d12993fa0ded0dea563",
       "version_major": 2,
       "version_minor": 0
      },
      "text/plain": [
       "Loading checkpoint shards:   0%|          | 0/2 [00:00<?, ?it/s]"
      ]
     },
     "metadata": {},
     "output_type": "display_data"
    },
    {
     "name": "stderr",
     "output_type": "stream",
     "text": [
      "You are using a model of type llava to instantiate a model of type llava_llama. This is not supported for all configurations of models and can yield errors.\n"
     ]
    },
    {
     "data": {
      "application/vnd.jupyter.widget-view+json": {
       "model_id": "7c38e01c097840d4bc691336aa715bb9",
       "version_major": 2,
       "version_minor": 0
      },
      "text/plain": [
       "Loading checkpoint shards:   0%|          | 0/2 [00:00<?, ?it/s]"
      ]
     },
     "metadata": {},
     "output_type": "display_data"
    },
    {
     "name": "stderr",
     "output_type": "stream",
     "text": [
      "You are using a model of type llava to instantiate a model of type llava_llama. This is not supported for all configurations of models and can yield errors.\n"
     ]
    },
    {
     "data": {
      "application/vnd.jupyter.widget-view+json": {
       "model_id": "bcaf2128796845d6bd1146392d8f3d3e",
       "version_major": 2,
       "version_minor": 0
      },
      "text/plain": [
       "Loading checkpoint shards:   0%|          | 0/2 [00:00<?, ?it/s]"
      ]
     },
     "metadata": {},
     "output_type": "display_data"
    },
    {
     "name": "stdout",
     "output_type": "stream",
     "text": [
      "{'gt': [0.6956521739130435, 0.5555555555555556, 0.8461538461538461, 0.2608695652173913, 0.2631578947368421, 0.5555555555555556, 0.8, 0.47368421052631576, 0.8421052631578947, 0.5769230769230769, 0.391304347826087, 0.8, 0.2608695652173913, 0.8, 0.2631578947368421, 0.3157894736842105, 0.32608695652173914, 0.3125, 0.6666666666666666, 0.5652173913043478, 0.6666666666666666, 0.391304347826087, 0.3125, 0.5652173913043478, 0.5454545454545454, 0.3125, 0.5454545454545454, 0.17857142857142858, 0.2631578947368421, 0.8125, 0.5555555555555556, 0.5555555555555556, 0.5769230769230769, 0.26785714285714285, 0.38461538461538464, 0.21428571428571427, 0.2608695652173913, 0.5769230769230769, 0.8421052631578947, 0.26785714285714285, 0.8461538461538461, 0.46153846153846156, 0.45454545454545453, 0.6875, 0.375, 0.8, 0.45454545454545453, 0.21739130434782608, 0.8181818181818182, 0.26785714285714285, 0.46875, 0.5652173913043478, 0.5555555555555556, 0.8, 0.47368421052631576], 'ChatGPT': {'parameters': None, 'raw_answers': ['0.6-0.7', '0.6-0.7', '0.6-0.7', '0.2-0.3', '0.6-0.7', '0.6-0.7', '0.6-0.7', '0.6-0.7', '0.6-0.7', '0.6-0.7', '0.2-0.3', '0.6-0.7', '0.6-0.7', '0.6-0.7', '0.6-0.7', '0.6-0.7', '0.6-0.7', '0.6-0.7', '0.6-0.7', '0.5-0.6', '0.6-0.7', '0.2-0.3', '0.6-0.7', '0.6-0.7', '0.6-0.7', '0.6-0.7', '0.6-0.7\\n', '0.6-0.7', '0.2-0.3', '0.6-0.7', '0.6-0.7', '0.6-0.7', '0.6-0.7', '0.2-0.3', '0.6-0.7', '0.6-0.7', '0.6-0.7', '0.6-0.7', '0.6-0.7', '0.2-0.3', '0.6-0.7', '0.5-0.6', '0.6-0.7', '0.6-0.7', '0.6-0.7', '0.6-0.7', '0.5-0.6', '0.6-0.7', '0.6-0.7', '0.2-0.3', '0.6-0.7', '0.6-0.7', '0.6-0.7', '0.5-0.6', '0.6-0.7'], 'parsed_answers': [[0.6, 0.7], [0.6, 0.7], [0.6, 0.7], [0.2, 0.3], [0.6, 0.7], [0.6, 0.7], [0.6, 0.7], [0.6, 0.7], [0.6, 0.7], [0.6, 0.7], [0.2, 0.3], [0.6, 0.7], [0.6, 0.7], [0.6, 0.7], [0.6, 0.7], [0.6, 0.7], [0.6, 0.7], [0.6, 0.7], [0.6, 0.7], [0.5, 0.6], [0.6, 0.7], [0.2, 0.3], [0.6, 0.7], [0.6, 0.7], [0.6, 0.7], [0.6, 0.7], [0.6, 0.7], [0.6, 0.7], [0.2, 0.3], [0.6, 0.7], [0.6, 0.7], [0.6, 0.7], [0.6, 0.7], [0.2, 0.3], [0.6, 0.7], [0.6, 0.7], [0.6, 0.7], [0.6, 0.7], [0.6, 0.7], [0.2, 0.3], [0.6, 0.7], [0.5, 0.6], [0.6, 0.7], [0.6, 0.7], [0.6, 0.7], [0.6, 0.7], [0.5, 0.6], [0.6, 0.7], [0.6, 0.7], [0.2, 0.3], [0.6, 0.7], [0.6, 0.7], [0.6, 0.7], [0.5, 0.6], [0.6, 0.7]], 'mean': 0.0, 'std': 0.0, 'mse': 0.29929516463176264, 'mlae': 5.668913051625072, 'times': [2252.0933151245117, 1569.9989795684814, 2181.796073913574, 1809.6976280212402, 1529.184341430664, 1146.277904510498, 1003.39674949646, 14539.9649143219, 15187.641143798828, 1188.1091594696045, 2267.1546936035156, 14708.287954330444, 1258.4421634674072, 1051.7945289611816, 1832.8633308410645, 1698.3251571655273, 1492.5470352172852, 1568.6697959899902, 1493.9165115356445, 1074.7871398925781, 15038.307666778564, 1700.1447677612305, 15324.966192245483, 1061.6075992584229, 6431.888580322266, 1076.3616561889648, 1242.6319122314453, 1101.470708847046, 1152.939796447754, 1333.554744720459, 1627.4304389953613, 41164.22653198242, 14437.094688415527, 1055.7031631469727, 1142.3900127410889, 1285.1479053497314, 1124.4299411773682, 1218.979835510254, 6492.879390716553, 1153.2881259918213, 1074.8181343078613, 1521.4319229125977, 14180.35888671875, 1190.7262802124023, 1034.644365310669, 1012.2354030609131, 1280.2999019622803, 1258.4095001220703, 1496.3269233703613, 1224.7953414916992, 1619.2102432250977, 1042.0684814453125, 15040.735483169556, 1218.4250354766846, 1131.166696548462], 'forced_repetitions': 11}, 'LLaVA': {'parameters': None, 'raw_answers': ['Yes, I can identify the two sections. The longer section has the size of 1.0, and the smaller section is approximately 0.3-0.4 in length.', 'Yes, I can identify the two sections. The longer section has the size of 1.0, and the smaller section is approximately 0.3 times as long as the longer section.', 'Yes, I can identify the two sections. The longer section has the size of 1.0, and the smaller section is approximately 0.3-0.4 in length.', 'Yes, I can identify the two sections. The longer section has the size of 1.0, and the smaller section is approximately 0.3-0.4 in length.', 'Yes, I can identify the two sections. The longer section has the size of 1.0, and the smaller section is approximately 0.3-0.4 in length.', 'Yes, I can identify the two sections. The longer section has the size of 1.0, and the smaller section is approximately 0.3 times as long as the longer section.', 'Yes, I can identify the two sections. The longer section has the size of 1.0, and the smaller section is approximately 0.3-0.4 in length.', 'Yes, I can identify the two sections. The longer section has the size of 1.0, and the smaller section is approximately 0.3 times as long as the longer section.', 'Yes, I can identify the two sections. The longer section has the size of 1.0, and the smaller section is approximately 0.3-0.4 in length.', 'Yes, I can identify the two sections. The longer section has the size of 1.0, and the smaller section is approximately 0.3-0.4 in length.', 'Yes, I can identify the two sections. The longer section has the size of 1.0, and the smaller section is approximately 0.3-0.4 in length.', 'Yes, I can identify the two sections. The longer section has the size of 1.0, and the smaller section is approximately 0.3 times as long as the longer section.', 'Yes, I can identify the two sections. The longer section has the size of 1.0, and the smaller section is approximately 0.3-0.4 in length.', 'Yes, I can identify the two sections. The longer section has the size of 1.0, and the smaller section is approximately 0.3 times as long as the longer section.', 'Yes, I can identify the two sections. The longer section has the size of 1.0, and the smaller section is approximately 0.3-0.4 in length.', 'Yes, I can identify the two sections. The longer section has the size of 1.0, and the smaller section is approximately 0.3-0.4 in length.', 'Yes, I can identify the two sections. The longer section has the size of 1.0, and the smaller section is approximately 0.3-0.4 in length.', 'Yes, I can identify the two sections. The longer section has the size of 1.0, and the smaller section is approximately 0.3-0.4 in length.', 'Yes, I can identify the two sections. The longer section has the size of 1.0, and the smaller section is approximately 0.3 times as long as the longer section.', 'Yes, I can identify the two sections. The longer section has the size of 1.0, and the smaller section is approximately 0.3-0.4 in length.', 'Yes, I can identify the two sections. The longer section has the size of 1.0, and the smaller section is approximately 0.3 times as long as the longer section.', 'Yes, I can identify the two sections. The longer section has the size of 1.0, and the smaller section is approximately 0.3-0.4 in length.', 'Yes, I can identify the two sections. The longer section has the size of 1.0, and the smaller section is approximately 0.3-0.4 in length.', 'Yes, I can identify the two sections. The longer section has the size of 1.0, and the smaller section is approximately 0.3-0.4 in length.', 'Yes, I can identify the two sections. The longer section has the size of 1.0, and the smaller section is approximately 0.3 times as long as the longer section.', 'Yes, I can identify the two sections. The longer section has the size of 1.0, and the smaller section is approximately 0.3 times as long as the longer section.', 'Yes, I can identify the two sections. The longer section has the size of 1.0, and the smaller section is approximately 0.3-0.4 in length.', 'Yes, I can identify the two sections. The longer section has the size of 1.0, and the smaller section is approximately 0.3-0.4 in length.', 'Yes, I can identify the two sections. The longer section has the size of 1.0, and the smaller section is approximately 0.3-0.4 in length.', 'Yes, I can identify the two sections. The longer section has the size of 1.0, and the smaller section is approximately 0.3-0.4 in length.', 'Yes, I can identify the two sections. The longer section has the size of 1.0, and the smaller section is approximately 0.3 times as long as the longer section.', 'Yes, I can identify the two sections. The longer section has the size of 1.0, and the smaller section is approximately 0.3 times as long as the longer section.', 'Yes, I can identify the two sections. The longer section has the size of 1.0, and the smaller section is approximately 0.3-0.4 in length.', 'Yes, I can identify the two sections. The longer section has the size of 1.0, and the smaller section is approximately 0.3-0.4 in length.', 'Yes, I can identify the two sections. The longer section has the size of 1.0, and the smaller section is approximately 0.3 times as long as the longer section.', 'Yes, I can identify the two sections. The longer section has the size of 1.0, and the smaller section is approximately 0.3 times as long as the longer section.', 'Yes, I can identify the two sections. The longer section has the size of 1.0, and the smaller section is approximately 0.3-0.4 in length.', 'Yes, I can identify the two sections. The longer section has the size of 1.0, and the smaller section is approximately 0.3-0.4 in length.', 'Yes, I can identify the two sections. The longer section has the size of 1.0, and the smaller section is approximately 0.3-0.4 in length.', 'Yes, I can identify the two sections. The longer section has the size of 1.0, and the smaller section is approximately 0.3-0.4 in length.', 'Yes, I can identify the two sections. The longer section has the size of 1.0, and the smaller section is approximately 0.3-0.4 in length.', 'Yes, I can identify the two sections. The longer section has the size of 1.0, and the smaller section is approximately 0.3 times as long as the longer section.', 'Yes, I can identify the two sections. The longer section has the size of 1.0, and the smaller section is approximately 0.3 times as long as the longer section.', 'Yes, I can identify the two sections. The longer section has the size of 1.0, and the smaller section is approximately 0.3-0.4 in length.', 'Yes, I can identify the two sections. The longer section has the size of 1.0, and the smaller section is approximately 0.3-0.4 in length.', 'Yes, I can identify the two sections. The longer section has the size of 1.0, and the smaller section is approximately 0.3-0.4 in length.', 'Yes, I can identify the two sections. The longer section has the size of 1.0, and the smaller section is approximately 0.3 times as long as the longer section.', 'Yes, I can identify the two sections. The longer section has the size of 1.0, and the smaller section is approximately 0.3-0.4 in length.', 'Yes, I can identify the two sections. The longer section has the size of 1.0, and the smaller section is approximately 0.3-0.4 in length.', 'Yes, I can identify the two sections. The longer section has the size of 1.0, and the smaller section is approximately 0.3-0.4 in length.', 'Yes, I can identify the two sections. The longer section has the size of 1.0, and the smaller section is approximately 0.3-0.4 in length.', 'Yes, I can identify the two sections. The longer section has the size of 1.0, and the smaller section is approximately 0.3-0.4 in length.', 'Yes, I can identify the two sections. The longer section has the size of 1.0, and the smaller section is approximately 0.3 times as long as the longer section.', 'Yes, I can identify the two sections. The longer section has the size of 1.0, and the smaller section is approximately 0.3-0.4 in length.', 'Yes, I can identify the two sections. The longer section has the size of 1.0, and the smaller section is approximately 0.3-0.4 in length.'], 'parsed_answers': [[0.3, 0.4], [0.3], [0.3, 0.4], [0.3, 0.4], [0.3, 0.4], [0.3], [0.3, 0.4], [0.3], [0.3, 0.4], [0.3, 0.4], [0.3, 0.4], [0.3], [0.3, 0.4], [0.3], [0.3, 0.4], [0.3, 0.4], [0.3, 0.4], [0.3, 0.4], [0.3], [0.3, 0.4], [0.3], [0.3, 0.4], [0.3, 0.4], [0.3, 0.4], [0.3], [0.3], [0.3, 0.4], [0.3, 0.4], [0.3, 0.4], [0.3, 0.4], [0.3], [0.3], [0.3, 0.4], [0.3, 0.4], [0.3], [0.3], [0.3, 0.4], [0.3, 0.4], [0.3, 0.4], [0.3, 0.4], [0.3, 0.4], [0.3], [0.3], [0.3, 0.4], [0.3, 0.4], [0.3, 0.4], [0.3], [0.3, 0.4], [0.3, 0.4], [0.3, 0.4], [0.3, 0.4], [0.3, 0.4], [0.3], [0.3, 0.4], [0.3, 0.4]], 'mean': 0.09272727272727273, 'std': 0.1386356184778782, 'mse': 0.22879756095951784, 'mlae': 5.389393031297396, 'times': [10712.310075759888, 7910.440921783447, 7571.612119674683, 7732.741355895996, 7693.619966506958, 7603.324174880981, 7900.268316268921, 7669.558048248291, 7574.784278869629, 7594.850778579712, 7783.347129821777, 7562.997102737427, 7789.29591178894, 7503.471374511719, 7481.827974319458, 7536.44585609436, 7543.615341186523, 7477.923154830933, 7782.4389934539795, 7428.25722694397, 7724.898815155029, 7777.884483337402, 7589.789152145386, 7848.245859146118, 7495.708227157593, 7580.473184585571, 7588.234901428223, 7666.278123855591, 7549.579858779907, 7852.222681045532, 7864.390134811401, 7666.421413421631, 7863.1956577301025, 7622.456073760986, 7797.461748123169, 7882.492780685425, 7833.491802215576, 7669.709205627441, 7601.428031921387, 7586.36474609375, 7545.281171798706, 7644.610166549683, 8147.617340087891, 7962.731838226318, 7622.510194778442, 7699.881076812744, 7687.4840259552, 7851.685047149658, 7637.331962585449, 7536.409616470337, 7819.445371627808, 7661.6315841674805, 7822.819709777832, 7877.078533172607, 7583.64200592041], 'forced_repetitions': 0}, 'CustomLLaVA': {'parameters': None, 'raw_answers': ['0.8125', '0.391304347826087', '0.5454545454545454', '0.6842105263157895', '0.3157894736842105', '0.5555555555555556', '0.6875', '0.3125', '0.8125', '0.32142857142857145', '0.8125', '0.375', '0.8125', '0.3125', '0.5454545454545454', '0.3157894736842105', '0.39285714285714285', '0.3157894736842105', '0.391304347826087', '0.8', '0.5652173913043478', '0.391304347826087', '0.391304347826087', '0.38461538461538464', '0.8461538461538461', '0.391304347826087', '0.375', '0.39473684210526316', '0.391304347826087', '0.5652173913043478', '0.5555555555555556', '0.6842105263157895', '0.6842105263157895', '0.5652173913043478', '0.391304347826087', '0.6923076923076923', '0.3157894736842105', '0.6842105263157895', '0.391304347826087', '0.8125', '0.5652173913043478', '0.6842105263157895', '0.6842105263157895', '0.8461538461538461', '0.3157894736842105', '0.5652173913043478', '0.38461538461538464', '0.6842105263157895', '0.5652173913043478', '0.6956521739130435', '0.5454545454545454', '0.3157894736842105', '0.3157894736842105', '0.2608695652173913', '0.3125'], 'parsed_answers': [[0.8125], [0.391304347826087], [0.5454545454545454], [0.6842105263157895], [0.3157894736842105], [0.5555555555555556], [0.6875], [0.3125], [0.8125], [0.32142857142857145], [0.8125], [0.375], [0.8125], [0.3125], [0.5454545454545454], [0.3157894736842105], [0.39285714285714285], [0.3157894736842105], [0.391304347826087], [0.8], [0.5652173913043478], [0.391304347826087], [0.391304347826087], [0.38461538461538464], [0.8461538461538461], [0.391304347826087], [0.375], [0.39473684210526316], [0.391304347826087], [0.5652173913043478], [0.5555555555555556], [0.6842105263157895], [0.6842105263157895], [0.5652173913043478], [0.391304347826087], [0.6923076923076923], [0.3157894736842105], [0.6842105263157895], [0.391304347826087], [0.8125], [0.5652173913043478], [0.6842105263157895], [0.6842105263157895], [0.8461538461538461], [0.3157894736842105], [0.5652173913043478], [0.38461538461538464], [0.6842105263157895], [0.5652173913043478], [0.6956521739130435], [0.5454545454545454], [0.3157894736842105], [0.3157894736842105], [0.2608695652173913], [0.3125]], 'mean': 0.5222928059504925, 'std': 0.18007404766051507, 'mse': 0.0703369836703017, 'mlae': 4.420867928069032, 'times': [19665.395498275757, 19185.79912185669, 18923.675060272217, 19244.559288024902, 19367.1293258667, 18524.927854537964, 19023.624658584595, 18623.22974205017, 19327.996015548706, 18836.29870414734, 18471.391201019287, 19579.84972000122, 19235.1975440979, 18309.186697006226, 18568.24254989624, 19023.08201789856, 19203.5129070282, 18841.77255630493, 18774.18804168701, 18682.419776916504, 19586.674690246582, 18750.21004676819, 19185.39834022522, 19292.05298423767, 19258.71992111206, 19033.25366973877, 18997.336387634277, 18978.731632232666, 19383.222818374634, 19532.625436782837, 19238.91544342041, 19173.563480377197, 19711.124897003174, 19222.171545028687, 18965.640783309937, 19001.182079315186, 19530.003309249878, 19019.1490650177, 19148.31304550171, 19147.061347961426, 19574.482917785645, 19203.099250793457, 19250.473260879517, 19729.45213317871, 19443.950414657593, 19401.180267333984, 18865.612745285034, 19254.95433807373, 19314.966201782227, 18867.77353286743, 19051.66983604431, 19267.415761947632, 19453.490257263184, 19325.7999420166, 19076.93648338318], 'forced_repetitions': 0}}\n"
     ]
    }
   ],
   "source": [
    "import sys\n",
    "sys.path.append('../')\n",
    "import LLMP as L\n",
    "import torch\n",
    "torch.torch.cuda.empty_cache()\n",
    "\n",
    "query = \"What do you see? The chart with a white background consists of multiple bars with a black border. There are two sections with a tiny \\\n",
    "         black mark (looks like a dot) inside. Can you identify where the two sections are located? If so, proceed as follows: Say the longer \\\n",
    "         section has the size of 1.0. Please estimate the ratio of length of the smaller section to the longer section. It does not have to be \\\n",
    "         prefectly precise; give me a rough estimation. The value should be between 0 and 1.0. Please respond with just the range (Sample answer: 0.3-0.4)\"\n",
    "images = [L.GPImage.figure4('type2') for i in range(55)]\n",
    "models = [\"ChatGPT\", \"LLaVA\", \"CustomLLaVA\"]\n",
    "\n",
    "results = L.Evaluator.run(images, query, models)\n",
    "print(results)"
   ]
  },
  {
   "cell_type": "code",
   "execution_count": 2,
   "id": "be6c1cad-3511-4080-9f89-1896d0ed26d1",
   "metadata": {},
   "outputs": [],
   "source": [
    "chatGPT_mse = results[\"ChatGPT\"][\"mse\"]\n",
    "chatGPT_mlae = results[\"ChatGPT\"][\"mlae\"]\n",
    "chatGPT_mean = results[\"ChatGPT\"][\"mean\"]\n",
    "chatGPT_std = results[\"ChatGPT\"][\"std\"]\n",
    "llava_mse = results[\"LLaVA\"][\"mse\"]\n",
    "llava_mlae = results[\"LLaVA\"][\"mlae\"]\n",
    "llava_mean = results[\"LLaVA\"][\"mean\"]\n",
    "llava_std = results[\"LLaVA\"][\"std\"]\n",
    "custom_llava_mse = results[\"CustomLLaVA\"][\"mse\"]\n",
    "custom_llava_mlae = results[\"CustomLLaVA\"][\"mlae\"]\n",
    "custom_llava_mean = results[\"CustomLLaVA\"][\"mean\"]\n",
    "custom_llava_std = results[\"CustomLLaVA\"][\"std\"]"
   ]
  },
  {
   "cell_type": "code",
   "execution_count": 3,
   "id": "a52e0c7a-7133-4906-b733-9758395a95bc",
   "metadata": {},
   "outputs": [
    {
     "name": "stdout",
     "output_type": "stream",
     "text": [
      "ChatGPT mse:  0.29929516463176264\n",
      "ChatGPT mlae: 5.668913051625072\n",
      "ChatGPT mean: 0.0\n",
      "ChatGPT std: 0.0\n",
      "LLaVA mse:    0.22879756095951784\n",
      "LLaVA mlae:   5.389393031297396\n",
      "LLaVA mean:   0.09272727272727273\n",
      "LLaVA std:   0.1386356184778782\n",
      "CLLaVA mse:   0.0703369836703017\n",
      "CLLaVA mlae:  4.420867928069032\n",
      "CLLaVA mean:  0.5222928059504925\n",
      "CLLaVA std:  0.18007404766051507\n"
     ]
    }
   ],
   "source": [
    "print(\"ChatGPT mse: \", chatGPT_mse)\n",
    "print(\"ChatGPT mlae:\", chatGPT_mlae)\n",
    "print(\"ChatGPT mean:\", chatGPT_mean)\n",
    "print(\"ChatGPT std:\", chatGPT_std)\n",
    "print(\"LLaVA mse:   \", llava_mse)\n",
    "print(\"LLaVA mlae:  \", llava_mlae)\n",
    "print(\"LLaVA mean:  \", llava_mean)\n",
    "print(\"LLaVA std:  \", llava_std)\n",
    "print(\"CLLaVA mse:  \", custom_llava_mse)\n",
    "print(\"CLLaVA mlae: \", custom_llava_mlae)\n",
    "print(\"CLLaVA mean: \", custom_llava_mean)\n",
    "print(\"CLLaVA std: \", custom_llava_std)"
   ]
  },
  {
   "cell_type": "code",
   "execution_count": null,
   "id": "45b01ea0-4611-4fa6-bbc7-6e608b720955",
   "metadata": {},
   "outputs": [],
   "source": []
  }
 ],
 "metadata": {
  "kernelspec": {
   "display_name": "Python 3 (ipykernel)",
   "language": "python",
   "name": "python3"
  },
  "language_info": {
   "codemirror_mode": {
    "name": "ipython",
    "version": 3
   },
   "file_extension": ".py",
   "mimetype": "text/x-python",
   "name": "python",
   "nbconvert_exporter": "python",
   "pygments_lexer": "ipython3",
   "version": "3.11.7"
  }
 },
 "nbformat": 4,
 "nbformat_minor": 5
}
