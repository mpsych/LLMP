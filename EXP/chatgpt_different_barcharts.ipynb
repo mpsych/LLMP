{
 "cells": [
  {
   "cell_type": "code",
   "execution_count": 1,
   "metadata": {},
   "outputs": [
    {
     "ename": "ModuleNotFoundError",
     "evalue": "No module named 'gp'",
     "output_type": "error",
     "traceback": [
      "\u001b[0;31m---------------------------------------------------------------------------\u001b[0m",
      "\u001b[0;31mModuleNotFoundError\u001b[0m                       Traceback (most recent call last)",
      "Cell \u001b[0;32mIn[1], line 3\u001b[0m\n\u001b[1;32m      1\u001b[0m \u001b[38;5;28;01mimport\u001b[39;00m \u001b[38;5;21;01msys\u001b[39;00m\n\u001b[1;32m      2\u001b[0m sys\u001b[38;5;241m.\u001b[39mpath\u001b[38;5;241m.\u001b[39mappend(\u001b[38;5;124m'\u001b[39m\u001b[38;5;124m../LLMP/\u001b[39m\u001b[38;5;124m'\u001b[39m)\n\u001b[0;32m----> 3\u001b[0m \u001b[38;5;28;01mfrom\u001b[39;00m \u001b[38;5;21;01mgp\u001b[39;00m \u001b[38;5;28;01mimport\u001b[39;00m Image\n\u001b[1;32m      4\u001b[0m \u001b[38;5;28;01mfrom\u001b[39;00m \u001b[38;5;21;01mchatgpt\u001b[39;00m \u001b[38;5;28;01mimport\u001b[39;00m ChatGPT\n\u001b[1;32m      5\u001b[0m get_ipython()\u001b[38;5;241m.\u001b[39mrun_line_magic(\u001b[38;5;124m'\u001b[39m\u001b[38;5;124mpylab\u001b[39m\u001b[38;5;124m'\u001b[39m, \u001b[38;5;124m'\u001b[39m\u001b[38;5;124minline\u001b[39m\u001b[38;5;124m'\u001b[39m)\n",
      "\u001b[0;31mModuleNotFoundError\u001b[0m: No module named 'gp'"
     ]
    }
   ],
   "source": [
    "import sys\n",
    "sys.path.append('../LLMP/')\n",
    "from gp import Image\n",
    "from chatgpt import ChatGPT\n",
    "%pylab inline"
   ]
  },
  {
   "cell_type": "markdown",
   "metadata": {},
   "source": [
    "Different Bar Charts"
   ]
  },
  {
   "cell_type": "code",
   "execution_count": 2,
   "metadata": {},
   "outputs": [
    {
     "name": "stdout",
     "output_type": "stream",
     "text": [
      "I'm sorry, I cannot assist with that request as the image you've provided does not display any marked bars. The image shows a series of unmarked vertical bars, like a bar chart, but without any clear indications or annotations to specify which bars should be compared. If you can specify which bars you would like to compare, I might be able to estimate a ratio based on their apparent heights.\n"
     ]
    },
    {
     "data": {
      "image/png": "[encoded data removed]",
      "text/plain": [
       "<Figure size 640x480 with 1 Axes>"
      ]
     },
     "metadata": {},
     "output_type": "display_data"
    }
   ],
   "source": [
    "### run 1\n",
    "image = Image().figure4('type1')\n",
    "axis('off')\n",
    "imshow(image, cmap='gray')\n",
    "\n",
    "question = \"Please estimate the ratio of the two marked bars\"\n",
    "answer = ChatGPT().query(question, image)\n",
    "print(answer)"
   ]
  },
  {
   "cell_type": "code",
   "execution_count": 3,
   "metadata": {},
   "outputs": [
    {
     "name": "stdout",
     "output_type": "stream",
     "text": [
      "I'm sorry, but it seems there's a misunderstanding. The image you provided does not have any marked bars, so I can't estimate the ratio between them. Please provide an image with the specified bars marked or give further instructions on how to identify the bars you are referring to.\n"
     ]
    },
    {
     "data": {
      "image/png": "[encoded data removed]",
      "text/plain": [
       "<Figure size 640x480 with 1 Axes>"
      ]
     },
     "metadata": {},
     "output_type": "display_data"
    }
   ],
   "source": [
    "### run 2\n",
    "image = Image().figure4('type1')\n",
    "axis('off')\n",
    "imshow(image, cmap='gray')\n",
    "\n",
    "question = \"Please estimate the ratio of the two marked bars\"\n",
    "answer = ChatGPT().query(question, image)\n",
    "print(answer)"
   ]
  },
  {
   "cell_type": "code",
   "execution_count": 4,
   "metadata": {},
   "outputs": [
    {
     "name": "stdout",
     "output_type": "stream",
     "text": [
      "I'm sorry, but I can't assist with that. However, if you provide the values of the marked bars or any additional context, I may be able to help you calculate the ratio.\n"
     ]
    },
    {
     "data": {
      "image/png": "[encoded data removed]",
      "text/plain": [
       "<Figure size 640x480 with 1 Axes>"
      ]
     },
     "metadata": {},
     "output_type": "display_data"
    }
   ],
   "source": [
    "### run 3\n",
    "image = Image().figure4('type1')\n",
    "axis('off')\n",
    "imshow(image, cmap='gray')\n",
    "\n",
    "question = \"Please estimate the ratio of the two marked bars\"\n",
    "answer = ChatGPT().query(question, image)\n",
    "print(answer)"
   ]
  },
  {
   "cell_type": "code",
   "execution_count": 5,
   "metadata": {},
   "outputs": [
    {
     "name": "stdout",
     "output_type": "stream",
     "text": [
      "The image you provided does not contain any marked bars for me to compare, so I'm unable to estimate the ratio. If you clarify which bars you are referring to, I could assist you in estimating the ratio based on their relative heights.\n"
     ]
    },
    {
     "data": {
      "image/png": "[encoded data removed]",
      "text/plain": [
       "<Figure size 640x480 with 1 Axes>"
      ]
     },
     "metadata": {},
     "output_type": "display_data"
    }
   ],
   "source": [
    "### run 4\n",
    "image = Image().figure4('type1')\n",
    "axis('off')\n",
    "imshow(image, cmap='gray')\n",
    "\n",
    "question = \"Please estimate the ratio of the two marked bars\"\n",
    "answer = ChatGPT().query(question, image)\n",
    "print(answer)"
   ]
  },
  {
   "cell_type": "code",
   "execution_count": 6,
   "metadata": {},
   "outputs": [
    {
     "name": "stdout",
     "output_type": "stream",
     "text": [
      "Sorry, there seems to be a misunderstanding. The image you've provided does not contain any markings that differentiate two specific bars for comparison. Please provide an image with clear indications of which bars are to be compared or give additional instructions so I can assist you properly.\n"
     ]
    },
    {
     "data": {
      "image/png": "[encoded data removed]",
      "text/plain": [
       "<Figure size 640x480 with 1 Axes>"
      ]
     },
     "metadata": {},
     "output_type": "display_data"
    }
   ],
   "source": [
    "### run 5\n",
    "image = Image().figure4('type1')\n",
    "axis('off')\n",
    "imshow(image, cmap='gray')\n",
    "\n",
    "question = \"Please estimate the ratio of the two marked bars\"\n",
    "answer = ChatGPT().query(question, image)\n",
    "print(answer)"
   ]
  },
  {
   "cell_type": "code",
   "execution_count": null,
   "metadata": {},
   "outputs": [],
   "source": []
  }
 ],
 "metadata": {
  "kernelspec": {
   "display_name": "Python 3 (ipykernel)",
   "language": "python",
   "name": "python3"
  },
  "language_info": {
   "codemirror_mode": {
    "name": "ipython",
    "version": 3
   },
   "file_extension": ".py",
   "mimetype": "text/x-python",
   "name": "python",
   "nbconvert_exporter": "python",
   "pygments_lexer": "ipython3",
   "version": "3.10.13"
  }
 },
 "nbformat": 4,
 "nbformat_minor": 2
}
