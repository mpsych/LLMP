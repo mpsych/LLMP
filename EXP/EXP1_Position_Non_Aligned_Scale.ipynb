{
 "cells": [
  {
   "cell_type": "code",
   "execution_count": 1,
   "id": "62e59428-c930-403c-9cc4-9549ef7b9612",
   "metadata": {},
   "outputs": [
    {
     "name": "stdout",
     "output_type": "stream",
     "text": [
      "[2024-04-21 21:39:41,577] [INFO] [real_accelerator.py:191:get_accelerator] Setting ds_accelerator to cuda (auto detect)\n"
     ]
    },
    {
     "name": "stderr",
     "output_type": "stream",
     "text": [
      "You are using a model of type llava to instantiate a model of type llava_llama. This is not supported for all configurations of models and can yield errors.\n"
     ]
    },
    {
     "data": {
      "application/vnd.jupyter.widget-view+json": {
       "model_id": "46f6985f2ef14d4fa24d24e465523a0f",
       "version_major": 2,
       "version_minor": 0
      },
      "text/plain": [
       "Loading checkpoint shards:   0%|          | 0/2 [00:00<?, ?it/s]"
      ]
     },
     "metadata": {},
     "output_type": "display_data"
    },
    {
     "name": "stderr",
     "output_type": "stream",
     "text": [
      "/home/kenichi.maeda001/anaconda3/envs/LLMP/lib/python3.11/site-packages/transformers/generation/configuration_utils.py:389: UserWarning: `do_sample` is set to `False`. However, `temperature` is set to `0` -- this flag is only used in sample-based generation modes. You should set `do_sample=True` or unset `temperature`.\n",
      "  warnings.warn(\n",
      "/home/kenichi.maeda001/anaconda3/envs/LLMP/lib/python3.11/site-packages/transformers/generation/configuration_utils.py:394: UserWarning: `do_sample` is set to `False`. However, `top_p` is set to `None` -- this flag is only used in sample-based generation modes. You should set `do_sample=True` or unset `top_p`.\n",
      "  warnings.warn(\n",
      "You are using a model of type llava to instantiate a model of type llava_llama. This is not supported for all configurations of models and can yield errors.\n"
     ]
    },
    {
     "data": {
      "application/vnd.jupyter.widget-view+json": {
       "model_id": "1d9dcdf6c1a54030a2ab96ae9ac22138",
       "version_major": 2,
       "version_minor": 0
      },
      "text/plain": [
       "Loading checkpoint shards:   0%|          | 0/2 [00:00<?, ?it/s]"
      ]
     },
     "metadata": {},
     "output_type": "display_data"
    },
    {
     "name": "stderr",
     "output_type": "stream",
     "text": [
      "You are using a model of type llava to instantiate a model of type llava_llama. This is not supported for all configurations of models and can yield errors.\n"
     ]
    },
    {
     "data": {
      "application/vnd.jupyter.widget-view+json": {
       "model_id": "a224583d62ea4057bd5fcd44a863af9f",
       "version_major": 2,
       "version_minor": 0
      },
      "text/plain": [
       "Loading checkpoint shards:   0%|          | 0/2 [00:00<?, ?it/s]"
      ]
     },
     "metadata": {},
     "output_type": "display_data"
    },
    {
     "name": "stderr",
     "output_type": "stream",
     "text": [
      "You are using a model of type llava to instantiate a model of type llava_llama. This is not supported for all configurations of models and can yield errors.\n"
     ]
    },
    {
     "data": {
      "application/vnd.jupyter.widget-view+json": {
       "model_id": "82476e9aabd34aef8dfa631b0c6446ab",
       "version_major": 2,
       "version_minor": 0
      },
      "text/plain": [
       "Loading checkpoint shards:   0%|          | 0/2 [00:00<?, ?it/s]"
      ]
     },
     "metadata": {},
     "output_type": "display_data"
    },
    {
     "name": "stderr",
     "output_type": "stream",
     "text": [
      "You are using a model of type llava to instantiate a model of type llava_llama. This is not supported for all configurations of models and can yield errors.\n"
     ]
    },
    {
     "data": {
      "application/vnd.jupyter.widget-view+json": {
       "model_id": "47cfa6befe934dd5b4e93f71dae0ac09",
       "version_major": 2,
       "version_minor": 0
      },
      "text/plain": [
       "Loading checkpoint shards:   0%|          | 0/2 [00:00<?, ?it/s]"
      ]
     },
     "metadata": {},
     "output_type": "display_data"
    },
    {
     "name": "stderr",
     "output_type": "stream",
     "text": [
      "You are using a model of type llava to instantiate a model of type llava_llama. This is not supported for all configurations of models and can yield errors.\n"
     ]
    },
    {
     "data": {
      "application/vnd.jupyter.widget-view+json": {
       "model_id": "e265c70157814af0b5be634f0c507669",
       "version_major": 2,
       "version_minor": 0
      },
      "text/plain": [
       "Loading checkpoint shards:   0%|          | 0/2 [00:00<?, ?it/s]"
      ]
     },
     "metadata": {},
     "output_type": "display_data"
    },
    {
     "name": "stderr",
     "output_type": "stream",
     "text": [
      "You are using a model of type llava to instantiate a model of type llava_llama. This is not supported for all configurations of models and can yield errors.\n"
     ]
    },
    {
     "data": {
      "application/vnd.jupyter.widget-view+json": {
       "model_id": "ad2de028d14041c9a059bb388f8d058e",
       "version_major": 2,
       "version_minor": 0
      },
      "text/plain": [
       "Loading checkpoint shards:   0%|          | 0/2 [00:00<?, ?it/s]"
      ]
     },
     "metadata": {},
     "output_type": "display_data"
    },
    {
     "name": "stderr",
     "output_type": "stream",
     "text": [
      "You are using a model of type llava to instantiate a model of type llava_llama. This is not supported for all configurations of models and can yield errors.\n"
     ]
    },
    {
     "data": {
      "application/vnd.jupyter.widget-view+json": {
       "model_id": "a615dd31d9c74b3caf3bfd7c0d36f730",
       "version_major": 2,
       "version_minor": 0
      },
      "text/plain": [
       "Loading checkpoint shards:   0%|          | 0/2 [00:00<?, ?it/s]"
      ]
     },
     "metadata": {},
     "output_type": "display_data"
    },
    {
     "name": "stderr",
     "output_type": "stream",
     "text": [
      "You are using a model of type llava to instantiate a model of type llava_llama. This is not supported for all configurations of models and can yield errors.\n"
     ]
    },
    {
     "data": {
      "application/vnd.jupyter.widget-view+json": {
       "model_id": "877e5665564343fa9826822579510fda",
       "version_major": 2,
       "version_minor": 0
      },
      "text/plain": [
       "Loading checkpoint shards:   0%|          | 0/2 [00:00<?, ?it/s]"
      ]
     },
     "metadata": {},
     "output_type": "display_data"
    },
    {
     "name": "stderr",
     "output_type": "stream",
     "text": [
      "You are using a model of type llava to instantiate a model of type llava_llama. This is not supported for all configurations of models and can yield errors.\n"
     ]
    },
    {
     "data": {
      "application/vnd.jupyter.widget-view+json": {
       "model_id": "705daec97cd94cb09757922c73325921",
       "version_major": 2,
       "version_minor": 0
      },
      "text/plain": [
       "Loading checkpoint shards:   0%|          | 0/2 [00:00<?, ?it/s]"
      ]
     },
     "metadata": {},
     "output_type": "display_data"
    },
    {
     "name": "stderr",
     "output_type": "stream",
     "text": [
      "You are using a model of type llava to instantiate a model of type llava_llama. This is not supported for all configurations of models and can yield errors.\n"
     ]
    },
    {
     "data": {
      "application/vnd.jupyter.widget-view+json": {
       "model_id": "4115fb35de9b4adda4c15d451d055fb9",
       "version_major": 2,
       "version_minor": 0
      },
      "text/plain": [
       "Loading checkpoint shards:   0%|          | 0/2 [00:00<?, ?it/s]"
      ]
     },
     "metadata": {},
     "output_type": "display_data"
    },
    {
     "name": "stderr",
     "output_type": "stream",
     "text": [
      "You are using a model of type llava to instantiate a model of type llava_llama. This is not supported for all configurations of models and can yield errors.\n"
     ]
    },
    {
     "data": {
      "application/vnd.jupyter.widget-view+json": {
       "model_id": "3f3bb45d008a40189c5ac4dcca79c185",
       "version_major": 2,
       "version_minor": 0
      },
      "text/plain": [
       "Loading checkpoint shards:   0%|          | 0/2 [00:00<?, ?it/s]"
      ]
     },
     "metadata": {},
     "output_type": "display_data"
    },
    {
     "name": "stderr",
     "output_type": "stream",
     "text": [
      "You are using a model of type llava to instantiate a model of type llava_llama. This is not supported for all configurations of models and can yield errors.\n"
     ]
    },
    {
     "data": {
      "application/vnd.jupyter.widget-view+json": {
       "model_id": "f7141aa4529a4e6fbb8185e7ca801ad2",
       "version_major": 2,
       "version_minor": 0
      },
      "text/plain": [
       "Loading checkpoint shards:   0%|          | 0/2 [00:00<?, ?it/s]"
      ]
     },
     "metadata": {},
     "output_type": "display_data"
    },
    {
     "name": "stderr",
     "output_type": "stream",
     "text": [
      "You are using a model of type llava to instantiate a model of type llava_llama. This is not supported for all configurations of models and can yield errors.\n"
     ]
    },
    {
     "data": {
      "application/vnd.jupyter.widget-view+json": {
       "model_id": "49941d25df334f0b8622b4cde5d44c1b",
       "version_major": 2,
       "version_minor": 0
      },
      "text/plain": [
       "Loading checkpoint shards:   0%|          | 0/2 [00:00<?, ?it/s]"
      ]
     },
     "metadata": {},
     "output_type": "display_data"
    },
    {
     "name": "stderr",
     "output_type": "stream",
     "text": [
      "You are using a model of type llava to instantiate a model of type llava_llama. This is not supported for all configurations of models and can yield errors.\n"
     ]
    },
    {
     "data": {
      "application/vnd.jupyter.widget-view+json": {
       "model_id": "f7b1a67c82094cdeab2087defa9dca1f",
       "version_major": 2,
       "version_minor": 0
      },
      "text/plain": [
       "Loading checkpoint shards:   0%|          | 0/2 [00:00<?, ?it/s]"
      ]
     },
     "metadata": {},
     "output_type": "display_data"
    },
    {
     "name": "stderr",
     "output_type": "stream",
     "text": [
      "You are using a model of type llava to instantiate a model of type llava_llama. This is not supported for all configurations of models and can yield errors.\n"
     ]
    },
    {
     "data": {
      "application/vnd.jupyter.widget-view+json": {
       "model_id": "9a4571e75bf1443bb1203ac01d520c98",
       "version_major": 2,
       "version_minor": 0
      },
      "text/plain": [
       "Loading checkpoint shards:   0%|          | 0/2 [00:00<?, ?it/s]"
      ]
     },
     "metadata": {},
     "output_type": "display_data"
    },
    {
     "name": "stderr",
     "output_type": "stream",
     "text": [
      "You are using a model of type llava to instantiate a model of type llava_llama. This is not supported for all configurations of models and can yield errors.\n"
     ]
    },
    {
     "data": {
      "application/vnd.jupyter.widget-view+json": {
       "model_id": "e17d82016387475a96d0fba681477869",
       "version_major": 2,
       "version_minor": 0
      },
      "text/plain": [
       "Loading checkpoint shards:   0%|          | 0/2 [00:00<?, ?it/s]"
      ]
     },
     "metadata": {},
     "output_type": "display_data"
    },
    {
     "name": "stderr",
     "output_type": "stream",
     "text": [
      "You are using a model of type llava to instantiate a model of type llava_llama. This is not supported for all configurations of models and can yield errors.\n"
     ]
    },
    {
     "data": {
      "application/vnd.jupyter.widget-view+json": {
       "model_id": "5200c4ff49d94f42bcacfc2b148485ce",
       "version_major": 2,
       "version_minor": 0
      },
      "text/plain": [
       "Loading checkpoint shards:   0%|          | 0/2 [00:00<?, ?it/s]"
      ]
     },
     "metadata": {},
     "output_type": "display_data"
    },
    {
     "name": "stderr",
     "output_type": "stream",
     "text": [
      "You are using a model of type llava to instantiate a model of type llava_llama. This is not supported for all configurations of models and can yield errors.\n"
     ]
    },
    {
     "data": {
      "application/vnd.jupyter.widget-view+json": {
       "model_id": "afde119f3c994ed6aedbfcc4b7a5c227",
       "version_major": 2,
       "version_minor": 0
      },
      "text/plain": [
       "Loading checkpoint shards:   0%|          | 0/2 [00:00<?, ?it/s]"
      ]
     },
     "metadata": {},
     "output_type": "display_data"
    },
    {
     "name": "stderr",
     "output_type": "stream",
     "text": [
      "You are using a model of type llava to instantiate a model of type llava_llama. This is not supported for all configurations of models and can yield errors.\n"
     ]
    },
    {
     "data": {
      "application/vnd.jupyter.widget-view+json": {
       "model_id": "3390ca4730fc441aaaaf5054c2cf8345",
       "version_major": 2,
       "version_minor": 0
      },
      "text/plain": [
       "Loading checkpoint shards:   0%|          | 0/2 [00:00<?, ?it/s]"
      ]
     },
     "metadata": {},
     "output_type": "display_data"
    },
    {
     "name": "stderr",
     "output_type": "stream",
     "text": [
      "You are using a model of type llava to instantiate a model of type llava_llama. This is not supported for all configurations of models and can yield errors.\n"
     ]
    },
    {
     "data": {
      "application/vnd.jupyter.widget-view+json": {
       "model_id": "621a0f5851cf44eabfe155165fbddec1",
       "version_major": 2,
       "version_minor": 0
      },
      "text/plain": [
       "Loading checkpoint shards:   0%|          | 0/2 [00:00<?, ?it/s]"
      ]
     },
     "metadata": {},
     "output_type": "display_data"
    },
    {
     "name": "stderr",
     "output_type": "stream",
     "text": [
      "You are using a model of type llava to instantiate a model of type llava_llama. This is not supported for all configurations of models and can yield errors.\n"
     ]
    },
    {
     "data": {
      "application/vnd.jupyter.widget-view+json": {
       "model_id": "3a831ca06da94dbdaf7fd70afd9b3026",
       "version_major": 2,
       "version_minor": 0
      },
      "text/plain": [
       "Loading checkpoint shards:   0%|          | 0/2 [00:00<?, ?it/s]"
      ]
     },
     "metadata": {},
     "output_type": "display_data"
    },
    {
     "name": "stderr",
     "output_type": "stream",
     "text": [
      "You are using a model of type llava to instantiate a model of type llava_llama. This is not supported for all configurations of models and can yield errors.\n"
     ]
    },
    {
     "data": {
      "application/vnd.jupyter.widget-view+json": {
       "model_id": "9b3117895c574a93bf972c16777179ac",
       "version_major": 2,
       "version_minor": 0
      },
      "text/plain": [
       "Loading checkpoint shards:   0%|          | 0/2 [00:00<?, ?it/s]"
      ]
     },
     "metadata": {},
     "output_type": "display_data"
    },
    {
     "name": "stderr",
     "output_type": "stream",
     "text": [
      "You are using a model of type llava to instantiate a model of type llava_llama. This is not supported for all configurations of models and can yield errors.\n"
     ]
    },
    {
     "data": {
      "application/vnd.jupyter.widget-view+json": {
       "model_id": "ad7308727bc143d6b7062ca8c9c48341",
       "version_major": 2,
       "version_minor": 0
      },
      "text/plain": [
       "Loading checkpoint shards:   0%|          | 0/2 [00:00<?, ?it/s]"
      ]
     },
     "metadata": {},
     "output_type": "display_data"
    },
    {
     "name": "stderr",
     "output_type": "stream",
     "text": [
      "You are using a model of type llava to instantiate a model of type llava_llama. This is not supported for all configurations of models and can yield errors.\n"
     ]
    },
    {
     "data": {
      "application/vnd.jupyter.widget-view+json": {
       "model_id": "de4dc8e4a794416f878ac7973b70381e",
       "version_major": 2,
       "version_minor": 0
      },
      "text/plain": [
       "Loading checkpoint shards:   0%|          | 0/2 [00:00<?, ?it/s]"
      ]
     },
     "metadata": {},
     "output_type": "display_data"
    },
    {
     "name": "stderr",
     "output_type": "stream",
     "text": [
      "You are using a model of type llava to instantiate a model of type llava_llama. This is not supported for all configurations of models and can yield errors.\n"
     ]
    },
    {
     "data": {
      "application/vnd.jupyter.widget-view+json": {
       "model_id": "de9f9658eb5e4f29a485d014766eafe8",
       "version_major": 2,
       "version_minor": 0
      },
      "text/plain": [
       "Loading checkpoint shards:   0%|          | 0/2 [00:00<?, ?it/s]"
      ]
     },
     "metadata": {},
     "output_type": "display_data"
    },
    {
     "name": "stderr",
     "output_type": "stream",
     "text": [
      "You are using a model of type llava to instantiate a model of type llava_llama. This is not supported for all configurations of models and can yield errors.\n"
     ]
    },
    {
     "data": {
      "application/vnd.jupyter.widget-view+json": {
       "model_id": "d31ddd7c02fb451898be4e908f266279",
       "version_major": 2,
       "version_minor": 0
      },
      "text/plain": [
       "Loading checkpoint shards:   0%|          | 0/2 [00:00<?, ?it/s]"
      ]
     },
     "metadata": {},
     "output_type": "display_data"
    },
    {
     "name": "stderr",
     "output_type": "stream",
     "text": [
      "You are using a model of type llava to instantiate a model of type llava_llama. This is not supported for all configurations of models and can yield errors.\n"
     ]
    },
    {
     "data": {
      "application/vnd.jupyter.widget-view+json": {
       "model_id": "458a106dfa21453a89e87794a461d014",
       "version_major": 2,
       "version_minor": 0
      },
      "text/plain": [
       "Loading checkpoint shards:   0%|          | 0/2 [00:00<?, ?it/s]"
      ]
     },
     "metadata": {},
     "output_type": "display_data"
    },
    {
     "name": "stderr",
     "output_type": "stream",
     "text": [
      "You are using a model of type llava to instantiate a model of type llava_llama. This is not supported for all configurations of models and can yield errors.\n"
     ]
    },
    {
     "data": {
      "application/vnd.jupyter.widget-view+json": {
       "model_id": "4c40b08378834c43abf7be93cef371e3",
       "version_major": 2,
       "version_minor": 0
      },
      "text/plain": [
       "Loading checkpoint shards:   0%|          | 0/2 [00:00<?, ?it/s]"
      ]
     },
     "metadata": {},
     "output_type": "display_data"
    },
    {
     "name": "stderr",
     "output_type": "stream",
     "text": [
      "You are using a model of type llava to instantiate a model of type llava_llama. This is not supported for all configurations of models and can yield errors.\n"
     ]
    },
    {
     "data": {
      "application/vnd.jupyter.widget-view+json": {
       "model_id": "35d7c90c52da44d7b5e6158a86832a1c",
       "version_major": 2,
       "version_minor": 0
      },
      "text/plain": [
       "Loading checkpoint shards:   0%|          | 0/2 [00:00<?, ?it/s]"
      ]
     },
     "metadata": {},
     "output_type": "display_data"
    },
    {
     "name": "stderr",
     "output_type": "stream",
     "text": [
      "You are using a model of type llava to instantiate a model of type llava_llama. This is not supported for all configurations of models and can yield errors.\n"
     ]
    },
    {
     "data": {
      "application/vnd.jupyter.widget-view+json": {
       "model_id": "fd8fca0283414786bf95d6775c535c2b",
       "version_major": 2,
       "version_minor": 0
      },
      "text/plain": [
       "Loading checkpoint shards:   0%|          | 0/2 [00:00<?, ?it/s]"
      ]
     },
     "metadata": {},
     "output_type": "display_data"
    },
    {
     "name": "stderr",
     "output_type": "stream",
     "text": [
      "You are using a model of type llava to instantiate a model of type llava_llama. This is not supported for all configurations of models and can yield errors.\n"
     ]
    },
    {
     "data": {
      "application/vnd.jupyter.widget-view+json": {
       "model_id": "04add4847e2843ca9a72cf4c12784d2d",
       "version_major": 2,
       "version_minor": 0
      },
      "text/plain": [
       "Loading checkpoint shards:   0%|          | 0/2 [00:00<?, ?it/s]"
      ]
     },
     "metadata": {},
     "output_type": "display_data"
    },
    {
     "name": "stderr",
     "output_type": "stream",
     "text": [
      "You are using a model of type llava to instantiate a model of type llava_llama. This is not supported for all configurations of models and can yield errors.\n"
     ]
    },
    {
     "data": {
      "application/vnd.jupyter.widget-view+json": {
       "model_id": "ba7283c3247e42bea09a81f4e6402ccd",
       "version_major": 2,
       "version_minor": 0
      },
      "text/plain": [
       "Loading checkpoint shards:   0%|          | 0/2 [00:00<?, ?it/s]"
      ]
     },
     "metadata": {},
     "output_type": "display_data"
    },
    {
     "name": "stderr",
     "output_type": "stream",
     "text": [
      "You are using a model of type llava to instantiate a model of type llava_llama. This is not supported for all configurations of models and can yield errors.\n"
     ]
    },
    {
     "data": {
      "application/vnd.jupyter.widget-view+json": {
       "model_id": "fd4cc4b65f4b459ca1a6774cd43e89d2",
       "version_major": 2,
       "version_minor": 0
      },
      "text/plain": [
       "Loading checkpoint shards:   0%|          | 0/2 [00:00<?, ?it/s]"
      ]
     },
     "metadata": {},
     "output_type": "display_data"
    },
    {
     "name": "stderr",
     "output_type": "stream",
     "text": [
      "You are using a model of type llava to instantiate a model of type llava_llama. This is not supported for all configurations of models and can yield errors.\n"
     ]
    },
    {
     "data": {
      "application/vnd.jupyter.widget-view+json": {
       "model_id": "553e4a955cb742eb80e6d5bd828c0fed",
       "version_major": 2,
       "version_minor": 0
      },
      "text/plain": [
       "Loading checkpoint shards:   0%|          | 0/2 [00:00<?, ?it/s]"
      ]
     },
     "metadata": {},
     "output_type": "display_data"
    },
    {
     "name": "stderr",
     "output_type": "stream",
     "text": [
      "You are using a model of type llava to instantiate a model of type llava_llama. This is not supported for all configurations of models and can yield errors.\n"
     ]
    },
    {
     "data": {
      "application/vnd.jupyter.widget-view+json": {
       "model_id": "e894e54c8a934b06b5813c7af9d900ed",
       "version_major": 2,
       "version_minor": 0
      },
      "text/plain": [
       "Loading checkpoint shards:   0%|          | 0/2 [00:00<?, ?it/s]"
      ]
     },
     "metadata": {},
     "output_type": "display_data"
    },
    {
     "name": "stderr",
     "output_type": "stream",
     "text": [
      "You are using a model of type llava to instantiate a model of type llava_llama. This is not supported for all configurations of models and can yield errors.\n"
     ]
    },
    {
     "data": {
      "application/vnd.jupyter.widget-view+json": {
       "model_id": "2e3673735e7a4d68966a61eefd6b1757",
       "version_major": 2,
       "version_minor": 0
      },
      "text/plain": [
       "Loading checkpoint shards:   0%|          | 0/2 [00:00<?, ?it/s]"
      ]
     },
     "metadata": {},
     "output_type": "display_data"
    },
    {
     "name": "stderr",
     "output_type": "stream",
     "text": [
      "You are using a model of type llava to instantiate a model of type llava_llama. This is not supported for all configurations of models and can yield errors.\n"
     ]
    },
    {
     "data": {
      "application/vnd.jupyter.widget-view+json": {
       "model_id": "c88c52478c0348c9a7b20dae42d534b5",
       "version_major": 2,
       "version_minor": 0
      },
      "text/plain": [
       "Loading checkpoint shards:   0%|          | 0/2 [00:00<?, ?it/s]"
      ]
     },
     "metadata": {},
     "output_type": "display_data"
    },
    {
     "name": "stderr",
     "output_type": "stream",
     "text": [
      "You are using a model of type llava to instantiate a model of type llava_llama. This is not supported for all configurations of models and can yield errors.\n"
     ]
    },
    {
     "data": {
      "application/vnd.jupyter.widget-view+json": {
       "model_id": "ffe644b297df4ef49fd2409370709e15",
       "version_major": 2,
       "version_minor": 0
      },
      "text/plain": [
       "Loading checkpoint shards:   0%|          | 0/2 [00:00<?, ?it/s]"
      ]
     },
     "metadata": {},
     "output_type": "display_data"
    },
    {
     "name": "stderr",
     "output_type": "stream",
     "text": [
      "You are using a model of type llava to instantiate a model of type llava_llama. This is not supported for all configurations of models and can yield errors.\n"
     ]
    },
    {
     "data": {
      "application/vnd.jupyter.widget-view+json": {
       "model_id": "92fc6e427a094046bb4662457ee2442e",
       "version_major": 2,
       "version_minor": 0
      },
      "text/plain": [
       "Loading checkpoint shards:   0%|          | 0/2 [00:00<?, ?it/s]"
      ]
     },
     "metadata": {},
     "output_type": "display_data"
    },
    {
     "name": "stderr",
     "output_type": "stream",
     "text": [
      "You are using a model of type llava to instantiate a model of type llava_llama. This is not supported for all configurations of models and can yield errors.\n"
     ]
    },
    {
     "data": {
      "application/vnd.jupyter.widget-view+json": {
       "model_id": "a66351c1c23e4deebabad08609fd0696",
       "version_major": 2,
       "version_minor": 0
      },
      "text/plain": [
       "Loading checkpoint shards:   0%|          | 0/2 [00:00<?, ?it/s]"
      ]
     },
     "metadata": {},
     "output_type": "display_data"
    },
    {
     "name": "stderr",
     "output_type": "stream",
     "text": [
      "You are using a model of type llava to instantiate a model of type llava_llama. This is not supported for all configurations of models and can yield errors.\n"
     ]
    },
    {
     "data": {
      "application/vnd.jupyter.widget-view+json": {
       "model_id": "a28c21ea046c470d903e4566c8788579",
       "version_major": 2,
       "version_minor": 0
      },
      "text/plain": [
       "Loading checkpoint shards:   0%|          | 0/2 [00:00<?, ?it/s]"
      ]
     },
     "metadata": {},
     "output_type": "display_data"
    },
    {
     "name": "stderr",
     "output_type": "stream",
     "text": [
      "You are using a model of type llava to instantiate a model of type llava_llama. This is not supported for all configurations of models and can yield errors.\n"
     ]
    },
    {
     "data": {
      "application/vnd.jupyter.widget-view+json": {
       "model_id": "cab5dbc35ac8443087952ca2a38058c7",
       "version_major": 2,
       "version_minor": 0
      },
      "text/plain": [
       "Loading checkpoint shards:   0%|          | 0/2 [00:00<?, ?it/s]"
      ]
     },
     "metadata": {},
     "output_type": "display_data"
    },
    {
     "name": "stderr",
     "output_type": "stream",
     "text": [
      "You are using a model of type llava to instantiate a model of type llava_llama. This is not supported for all configurations of models and can yield errors.\n"
     ]
    },
    {
     "data": {
      "application/vnd.jupyter.widget-view+json": {
       "model_id": "0611704d4f8b414e86cd8c5f363fd5c2",
       "version_major": 2,
       "version_minor": 0
      },
      "text/plain": [
       "Loading checkpoint shards:   0%|          | 0/2 [00:00<?, ?it/s]"
      ]
     },
     "metadata": {},
     "output_type": "display_data"
    },
    {
     "name": "stderr",
     "output_type": "stream",
     "text": [
      "You are using a model of type llava to instantiate a model of type llava_llama. This is not supported for all configurations of models and can yield errors.\n"
     ]
    },
    {
     "data": {
      "application/vnd.jupyter.widget-view+json": {
       "model_id": "0684b02725324397bd3089608c9acfbd",
       "version_major": 2,
       "version_minor": 0
      },
      "text/plain": [
       "Loading checkpoint shards:   0%|          | 0/2 [00:00<?, ?it/s]"
      ]
     },
     "metadata": {},
     "output_type": "display_data"
    },
    {
     "name": "stderr",
     "output_type": "stream",
     "text": [
      "You are using a model of type llava to instantiate a model of type llava_llama. This is not supported for all configurations of models and can yield errors.\n"
     ]
    },
    {
     "data": {
      "application/vnd.jupyter.widget-view+json": {
       "model_id": "fe0a828a28ab4d40af790a75d2c80c03",
       "version_major": 2,
       "version_minor": 0
      },
      "text/plain": [
       "Loading checkpoint shards:   0%|          | 0/2 [00:00<?, ?it/s]"
      ]
     },
     "metadata": {},
     "output_type": "display_data"
    },
    {
     "name": "stderr",
     "output_type": "stream",
     "text": [
      "You are using a model of type llava to instantiate a model of type llava_llama. This is not supported for all configurations of models and can yield errors.\n"
     ]
    },
    {
     "data": {
      "application/vnd.jupyter.widget-view+json": {
       "model_id": "19dd2bc9164a4991ac6f623631f6798d",
       "version_major": 2,
       "version_minor": 0
      },
      "text/plain": [
       "Loading checkpoint shards:   0%|          | 0/2 [00:00<?, ?it/s]"
      ]
     },
     "metadata": {},
     "output_type": "display_data"
    },
    {
     "name": "stderr",
     "output_type": "stream",
     "text": [
      "You are using a model of type llava to instantiate a model of type llava_llama. This is not supported for all configurations of models and can yield errors.\n"
     ]
    },
    {
     "data": {
      "application/vnd.jupyter.widget-view+json": {
       "model_id": "336e089753444275b4b86f966e277814",
       "version_major": 2,
       "version_minor": 0
      },
      "text/plain": [
       "Loading checkpoint shards:   0%|          | 0/2 [00:00<?, ?it/s]"
      ]
     },
     "metadata": {},
     "output_type": "display_data"
    },
    {
     "name": "stderr",
     "output_type": "stream",
     "text": [
      "You are using a model of type llava to instantiate a model of type llava_llama. This is not supported for all configurations of models and can yield errors.\n"
     ]
    },
    {
     "data": {
      "application/vnd.jupyter.widget-view+json": {
       "model_id": "f2308eff539b4da89ce2e18c6dcdaaa6",
       "version_major": 2,
       "version_minor": 0
      },
      "text/plain": [
       "Loading checkpoint shards:   0%|          | 0/2 [00:00<?, ?it/s]"
      ]
     },
     "metadata": {},
     "output_type": "display_data"
    },
    {
     "name": "stderr",
     "output_type": "stream",
     "text": [
      "You are using a model of type llava to instantiate a model of type llava_llama. This is not supported for all configurations of models and can yield errors.\n"
     ]
    },
    {
     "data": {
      "application/vnd.jupyter.widget-view+json": {
       "model_id": "87d01bb9d8cc4d5fa8fb0c44c4b012be",
       "version_major": 2,
       "version_minor": 0
      },
      "text/plain": [
       "Loading checkpoint shards:   0%|          | 0/2 [00:00<?, ?it/s]"
      ]
     },
     "metadata": {},
     "output_type": "display_data"
    },
    {
     "name": "stderr",
     "output_type": "stream",
     "text": [
      "You are using a model of type llava to instantiate a model of type llava_llama. This is not supported for all configurations of models and can yield errors.\n"
     ]
    },
    {
     "data": {
      "application/vnd.jupyter.widget-view+json": {
       "model_id": "8f5b3679150a49b4ba2a463ba524af65",
       "version_major": 2,
       "version_minor": 0
      },
      "text/plain": [
       "Loading checkpoint shards:   0%|          | 0/2 [00:00<?, ?it/s]"
      ]
     },
     "metadata": {},
     "output_type": "display_data"
    },
    {
     "name": "stderr",
     "output_type": "stream",
     "text": [
      "You are using a model of type llava to instantiate a model of type llava_llama. This is not supported for all configurations of models and can yield errors.\n"
     ]
    },
    {
     "data": {
      "application/vnd.jupyter.widget-view+json": {
       "model_id": "61b756c9fd314ce496ed928b7514a1d3",
       "version_major": 2,
       "version_minor": 0
      },
      "text/plain": [
       "Loading checkpoint shards:   0%|          | 0/2 [00:00<?, ?it/s]"
      ]
     },
     "metadata": {},
     "output_type": "display_data"
    },
    {
     "name": "stderr",
     "output_type": "stream",
     "text": [
      "You are using a model of type llava to instantiate a model of type llava_llama. This is not supported for all configurations of models and can yield errors.\n"
     ]
    },
    {
     "data": {
      "application/vnd.jupyter.widget-view+json": {
       "model_id": "1f29647a9997424a88b318b32c6990ad",
       "version_major": 2,
       "version_minor": 0
      },
      "text/plain": [
       "Loading checkpoint shards:   0%|          | 0/2 [00:00<?, ?it/s]"
      ]
     },
     "metadata": {},
     "output_type": "display_data"
    },
    {
     "name": "stderr",
     "output_type": "stream",
     "text": [
      "You are using a model of type llava to instantiate a model of type llava_llama. This is not supported for all configurations of models and can yield errors.\n"
     ]
    },
    {
     "data": {
      "application/vnd.jupyter.widget-view+json": {
       "model_id": "ffad61e20dab47f68b0dabb620f4016a",
       "version_major": 2,
       "version_minor": 0
      },
      "text/plain": [
       "Loading checkpoint shards:   0%|          | 0/2 [00:00<?, ?it/s]"
      ]
     },
     "metadata": {},
     "output_type": "display_data"
    },
    {
     "name": "stderr",
     "output_type": "stream",
     "text": [
      "You are using a model of type llava to instantiate a model of type llava_llama. This is not supported for all configurations of models and can yield errors.\n"
     ]
    },
    {
     "data": {
      "application/vnd.jupyter.widget-view+json": {
       "model_id": "48d890a6a1824a338fdd48c670981d00",
       "version_major": 2,
       "version_minor": 0
      },
      "text/plain": [
       "Loading checkpoint shards:   0%|          | 0/2 [00:00<?, ?it/s]"
      ]
     },
     "metadata": {},
     "output_type": "display_data"
    },
    {
     "name": "stdout",
     "output_type": "stream",
     "text": [
      "{'gt': [32.0, 36.0, 31.0, 34.0, 32.0, 27.0, 24.0, 40.0, 30.0, 30.0, 27.0, 32.0, 25.0, 25.0, 36.0, 34.0, 23.0, 39.0, 37.0, 33.0, 34.0, 34.0, 34.0, 36.0, 31.0, 27.0, 30.0, 37.0, 32.0, 25.0, 27.0, 34.0, 34.0, 29.0, 21.0, 29.0, 24.0, 27.0, 31.0, 27.0, 40.0, 31.0, 34.0, 35.0, 24.0, 23.0, 29.0, 27.0, 21.0, 39.0, 35.0, 33.0, 23.0, 36.0, 34.0], 'ChatGPT': {'parameters': None, 'raw_answers': ['I see a black vertical line on the left side of a 100x100 pixel image and a small square dot toward the right side of the image. However, without precise measurement tools, I can only give you an estimate of the numerical distance between the y-coordinates of the top of the line and the dot.\\n\\nBased on the image provided, the difference between the y-coordinates of the dot and the top of the line appears to be approximately 10-20 pixels.', 'The dot appears to be approximately 20-30 pixels below the top of the line when considering the y-coordinate difference.', 'Based on the provided image, the difference between the y-coordinates of the dot and the top of the line appears to be in the range of 20-30 pixels.', 'The difference between the y-coordinates of the dot and the top of the line appears to be approximately 60-70 pixels.', 'Based on the image you provided, the black vertical line appears to reach very near the top of the image, while the square dot is located lower on the y-axis. By visually estimating the pixel distance between the top of the line and the center of the dot, I would approximate the difference in y-coordinates to be around 20-30 pixels.', \"The image you've provided appears to have a black vertical line and a small black square dot. To estimate the difference between the y-coordinates of the dot and the top of the line, I will gauge the distance visually as I am unable to make precise measurements. \\n\\nBased on a visual estimation and considering that the image is 100 pixels in height, the difference in y-coordinates between the top of the line and the center of the dot seems to be roughly 20-30 pixels.\", 'I see a black vertical line on the left side of the image and a small black square dot toward the right. Based on the size of the image and the relative positions, the difference between the y-coordinates of the dot and the top of the line appears to be approximately 20-30 pixels.', 'I see a black vertical line on the left side of the image and a small black square dot towards the right. Since this is a 100x100 pixel image, by visually estimating the difference between the y-coordinates of the top of the line and the dot, it appears to be in the range of approximately 65-75 pixels.', 'I see a black vertical line and a small black square dot in the 100x100 pixel image provided. The black line is on the left, and the dot is nearer to the right side of the image. The difference between the y-coordinates of the dot and the top of the line appears to be approximately 20-30 pixels.', 'In the image provided, the black vertical line is approximately at the full height of the image which is 100 pixels. Considering that your origin is at the bottom-left corner, the top of the line should be around the 100-pixel mark on the y-axis. The small square dot is located farther to the right and appears to be below the top of the line by a small distance.\\n\\nGiven the scale of the image and the placement of the square dot, I estimate the difference between the y-coordinates of the dot and the top of the line to be around 10-20 pixels.', 'I see the black vertical line and a small square dot in the 100x100 pixel image. The vertical line is positioned to the left side of the image and the dot to the right. To estimate the difference between the y-coordinates of the dot and the top of the line, I can visually gauge that the dot is around the midpoint in the vertical direction and the top of the line appears to be quite close to the top edge of the image.\\n\\nEstimating visually and considering the small image scale, the difference between the y-coordinates of the dot and the top of the line looks to be roughly between 40-50 pixels.', 'In the image provided, I see a vertical black line on the left and a small black square dot positioned to the right. Based on my visual estimation and treating the image size as a 100x100 pixel grid, the difference between the y-coordinates of the dot and the top of the line appears to be approximately 20-30 pixels.', \"In the image provided, the black vertical line appears quite tall, nearly reaching the top of the image frame, and there's a small square dot located to the right of it. Based on the image and considering the top of the line as nearly reaching the top of the 100x100 image, the difference in y-coordinates between the dot and the top of the line seems to be small. It looks to be approximately 5-10 pixels.\", 'In the image provided, there is indeed a black vertical line on the left side and a small square dot towards the right side. Estimating the difference in pixels between the y-coordinate of the dot and the top of the line, and taking into account the image resolution, I would estimate the difference to be in the range of 70-80 pixels.', 'Based on the image provided, the difference between the y-coordinates of the dot and the top of the line appears to be approximately 60-70 pixels.', 'Given the constraints of this image and the scope of the task, I can provide an estimated range for the difference in y-coordinates. From observing the image, it seems that the difference between the y-coordinates of the dot and the top of the line might be approximately in the range of 20-30 pixels. Please note that this is a rough estimation and may not be precise.', \"In the image you provided, the black vertical line seems to reach nearly the top of the image, while the small square dot is situated a bit lower. Estimating the difference in y-coordinates between the top of the line and the dot's position, it appears to be around 20-30 pixels.\", 'In the image, I see a black vertical line on the left side and a small black square dot towards the right. Estimating the difference between the y-coordinates of the dot and the top of the line, the difference appears to be approximately 20-30 pixels.', 'I see a black vertical line on the left side of the image and a small black square dot towards the right. Based on the image provided and estimating the positions with the given scale, the difference between the y-coordinates of the dot and the top of the line is approximately 20-30 pixels.', 'In the image you provided, it appears to be quite small. The difference between the y-coordinates of the dot and the top of the line seems minimal. Based on the given scale where the image is 100 pixels in height, I estimate the difference to be approximately 10-20 pixels.', 'In the provided 100x100 pixel image, the difference between the y-coordinates of the dot and the top of the line appears to be approximately 20-30 pixels.', 'The difference between the y-coordinates of the dot and the top of the line appears to be approximately 60-70 pixels.', 'The difference between the y-coordinates of the dot and the top of the line appears to be approximately 10-20 pixels.', 'In the image, the black vertical line appears to extend close to the top edge, and the small square dot is positioned lower. The distance between the y-coordinate of the dot and the top of the line seems to be about 20-25 pixels based on the scale of the image and the relative sizes of the shapes. This is an estimation as the actual values can only be determined using an image editing tool that can measure pixel distances accurately.', 'Based on the image provided, I estimate the difference between the y-coordinates of the dot and the top of the line to be approximately 20-30 pixels.', 'In the image, there appears to be a vertical black line on the left and a black square dot towards the right. Based on the given scale and the 100x100 pixel grid, visually estimating the difference between the y-coordinate of the dot and the top of the line, it seems to be approximately 20-30 pixels.', 'In the image, I see a black vertical line on the left side and a small square dot positioned towards the right side. Given that the image is on a 100x100 pixel grid, I can estimate the difference in the y-coordinates.\\n\\nThe distance from the top of the line to the dot seems approximately 10-20 pixels. Please note that without precise measuring tools, this is a rough estimate.', \"I see the image you're describing; however, without an exact scale, I can provide only an estimate based on the pixel grid. The difference between the y-coordinates of the dot and the top of the line appears to be approximately 10-20 pixels.\", 'I see a black vertical line and a small square dot in the image. Estimating the difference between the y-coordinates of the dot and the top of the line, it appears to be approximately 20-30 pixels.', 'The dot appears to be roughly in line with the top of the vertical line, so the difference between the y-coordinates of the dot and the top of the line would be approximately 0 pixels. There seems to be no visible gap between the top of the line and the center of the dot when looking at the image vertically.', 'I see the black vertical line and the small square dot as described. Based on the image, the difference between the y-coordinates of the dot and the top of the line appears to be in the range of 20-30 pixels.', 'Given the scale and resolution of the image, and based on visual estimation, the difference between the y-coordinates of the dot and the top of the line appears to be approximately 70-80 pixels.', 'I see the black vertical line and the small square dot in the 100x100 pixel image. Estimating the difference between the y-coordinates of the dot and the top of the line by examining their relative positions and considering that the entire image has a height of 100 pixels, the difference in y-coordinates appears to be roughly 10-20 pixels.', 'I see a black vertical line and a small square dot in the image. Considering the scale of the 100x100 pixel image and estimating the difference in the y-coordinates between the top of the line and the center of the dot, I would say the difference is approximately 20-30 pixels.', 'In the image, there is a black vertical line on the left side and a small black square towards the right. Given the small size of the image and the request for an estimation, it appears that the difference in y-coordinates of the dot and the top of the line is approximately 20-30 pixels. Please note that this is an estimate and the actual value might vary slightly.', 'The dot appears to be located roughly 60-70 pixels below the top of the line.', 'In the image, I see a vertical black line on the left side and a small black square dot towards the right. Estimating the difference between the y-coordinates of the top of the line and the center of the dot, I would say it is approximately 20-30 pixels.', 'I see the image you described. Estimating the difference between the y-coordinates of the dot and the top of the line, I would gauge it to be in the range of 20-30 pixels.', 'I see a black vertical line and a small square dot to its right in a 100x100 pixel image. The difference between the y-coordinates of the dot and the top of the line appears to be approximately 20-30 pixels.', 'The difference between the y-coordinates of the dot and the top of the line appears to be in the range of 70-80 pixels.', 'The image shows a black vertical line on the left and a small square dot towards the right. Based on the scale of the 100x100 pixel image, the difference between the y-coordinates of the dot and the top of the line appears to be roughly 15-25 pixels.', 'The difference between the y-coordinates of the dot and the top of the line appears to be approximately 20-30 pixels.', 'The difference between the y-coordinates of the dot and the top of the line appears to be in the range of approximately 60-70 pixels.', 'I see a black vertical line on the left side of the image and a small black square dot positioned to the right of it. Unfortunately, without precise tools, I cannot measure the exact pixels, but I can make an estimation. It appears that the y-coordinate difference between the square dot and the top of the line is roughly 10-20 pixels.', 'I see the image as described, with a black vertical line and a small square dot. Estimating the difference in y-coordinates between the dot and the top of the line visually, I would say the difference is approximately 20-30 pixels.', 'Given the constraints of the image and the estimation task, the difference between the y-coordinates of the dot and the top of the line appears to be approximately 20-30 pixels. Please note that this is a rough estimation based on the provided image.', 'The black vertical line extends close to the top of the image, while the square dot is situated lower in the image. Estimating the difference between the y-coordinates of the dot and the top of the line, I would say it is approximately 20-30 pixels.', 'In this 100x100 pixel image, the black vertical line appears to reach the top edge of the image, so its y-coordinate at the top would be around 100. The small square dot is positioned lower on the y-axis. Estimating the difference between the y-coordinate of the dot and the top of the line, it appears that the dot is roughly 20-30 pixels below the top edge of the image.', 'I can estimate the difference between the y-coordinates of the dot and the top of the line by comparing their relative positions within the image. Given the size of the image, it appears that the dot is located roughly 20-30 pixels below the top of the line.', 'In the image provided, the black vertical line and the small square dot are visible. Given the resolution and image constraints, I estimate the difference between the y-coordinates of the dot and the top of the line to be approximately 70-80 pixels.', \"To provide an estimation, I'll compare the relative positions of the dot and the top end of the line to the size of the image.\\n\\nConsidering the image height is 100 pixels, the dot appears to be roughly around 20-30 pixels below the top of the line.\", 'The image appears to show a black vertical line on the left side and a small black square dot towards the right. Based on the scaling of the image provided and reckoning pixel distances, the difference between the y-coordinates of the dot and the top of the line appears to be approximately 20-30 pixels. Keep in mind that this is a rough estimation.', \"The image appears to be relatively small, so it's difficult to estimate with high precision, but the difference between the y-coordinates of the dot and the top of the line seems to be approximately 15-25 pixels.\", 'The difference between the y-coordinates of the dot and the top of the line appears to be in the range of approximately 70-80 pixels.', 'In the image, the black vertical line seems to reach almost the top edge, and the small square dot is located to the right of the line, lower on the y-axis. Estimating the difference between the y-coordinates of the dot and the top of the line by eye, given that the image is quite small, my estimation would be in the range of approximately 10-20 pixels.'], 'parsed_answers': [[10.0, 20.0], [20.0, 30.0], [20.0, 30.0], [60.0, 70.0], [20.0, 30.0], [100.0, 20.0, 30.0], [20.0, 30.0], [65.0, 75.0], [20.0, 30.0], [100.0, 10.0, 20.0], [40.0, 50.0], [20.0, 30.0], [5.0, 10.0], [70.0, 80.0], [60.0, 70.0], [20.0, 30.0], [20.0, 30.0], [20.0, 30.0], [20.0, 30.0], [100.0, 10.0, 20.0], [20.0, 30.0], [60.0, 70.0], [10.0, 20.0], [20.0, 25.0], [20.0, 30.0], [20.0, 30.0], [10.0, 20.0], [10.0, 20.0], [20.0, 30.0], [0.0], [20.0, 30.0], [70.0, 80.0], [100.0, 10.0, 20.0], [20.0, 30.0], [20.0, 30.0], [60.0, 70.0], [20.0, 30.0], [20.0, 30.0], [20.0, 30.0], [70.0, 80.0], [15.0, 25.0], [20.0, 30.0], [60.0, 70.0], [10.0, 20.0], [20.0, 30.0], [20.0, 30.0], [20.0, 30.0], [20.0, 30.0], [20.0, 30.0], [70.0, 80.0], [100.0, 20.0, 30.0], [20.0, 30.0], [15.0, 25.0], [70.0, 80.0], [10.0, 20.0]], 'mean': 36.25454545454546, 'std': 22.306312340858447, 'mse': 498.6909090909091, 'mlae': 10.742185014254373, 'times': [47636.09337806702, 44127.580642700195, 1997.0569610595703, 223344.7573184967, 151136.2841129303, 9949.289798736572, 63536.20910644531, 47038.71202468872, 16427.276134490967, 3114.551544189453, 17022.573471069336, 2250.6494522094727, 16049.76487159729, 42689.02397155762, 42402.53281593323, 100040.26770591736, 2147.327184677124, 56750.31566619873, 112368.94249916077, 2168.1201457977295, 272347.412109375, 1059.7517490386963, 27647.454500198364, 70914.80851173401, 16513.407945632935, 16056.153297424316, 16158.148765563965, 30917.651653289795, 14958.374738693237, 2307.565450668335, 28655.017375946045, 30077.92615890503, 217548.12169075012, 15413.12313079834, 17916.658401489258, 14914.994478225708, 2471.6482162475586, 2441.964626312256, 15494.889259338379, 28217.918157577515, 2850.0943183898926, 1750.7972717285156, 29257.20739364624, 3118.6838150024414, 1683.729887008667, 1755.1815509796143, 2448.796272277832, 17927.45852470398, 32174.650192260742, 2118.5641288757324, 2984.1208457946777, 57771.35705947876, 15183.887958526611, 1309.0317249298096, 43573.42290878296], 'forced_repetitions': 140}, 'LLaVA': {'parameters': None, 'raw_answers': ['The difference between the y-coordinate of the dot and the top of the line is approximately 100 pixels.', 'The difference between the y-coordinate of the dot and the top of the line is approximately 100 pixels.', 'The difference between the y-coordinate of the dot and the top of the line is approximately 100 pixels.', 'The difference between the y-coordinate of the dot and the top of the line is approximately 100 pixels.', 'The difference between the y-coordinate of the dot and the top of the line is approximately 100 pixels.', 'The difference between the y-coordinate of the dot and the top of the line is approximately 100 pixels.', 'The difference between the y-coordinate of the dot and the top of the line is approximately 100 pixels.', 'The difference between the y-coordinate of the dot and the top of the line is approximately 100 pixels.', 'The difference between the y-coordinate of the dot and the top of the line is approximately 100 pixels.', 'The difference between the y-coordinate of the dot and the top of the line is approximately 100 pixels.', 'The difference between the y-coordinate of the dot and the top of the line is approximately 100 pixels.', 'The difference between the y-coordinate of the dot and the top of the line is approximately 100 pixels.', 'The difference between the y-coordinate of the dot and the top of the line is approximately 100 pixels.', 'The difference between the y-coordinate of the dot and the top of the line is approximately 100 pixels.', 'The difference between the y-coordinate of the dot and the top of the line is approximately 100 pixels.', 'The difference between the y-coordinate of the dot and the top of the line is approximately 100 pixels.', 'The difference between the y-coordinate of the dot and the top of the line is approximately 100 pixels.', 'The difference between the y-coordinate of the dot and the top of the line is approximately 100 pixels.', 'The difference between the y-coordinate of the dot and the top of the line is approximately 100 pixels.', 'The difference between the y-coordinate of the dot and the top of the line is approximately 100 pixels.', 'The difference between the y-coordinate of the dot and the top of the line is approximately 100 pixels.', 'The difference between the y-coordinate of the dot and the top of the line is approximately 100 pixels.', 'The difference between the y-coordinate of the dot and the top of the line is approximately 100 pixels.', 'The difference between the y-coordinate of the dot and the top of the line is approximately 100 pixels.', 'The difference between the y-coordinate of the dot and the top of the line is approximately 100 pixels.', 'The difference between the y-coordinate of the dot and the top of the line is approximately 100 pixels.', 'The difference between the y-coordinate of the dot and the top of the line is approximately 100 pixels.', 'The difference between the y-coordinate of the dot and the top of the line is approximately 100 pixels.', 'The difference between the y-coordinate of the dot and the top of the line is approximately 100 pixels.', 'The difference between the y-coordinate of the dot and the top of the line is approximately 100 pixels.', 'The difference between the y-coordinate of the dot and the top of the line is approximately 100 pixels.', 'The difference between the y-coordinate of the dot and the top of the line is approximately 100 pixels.', 'The difference between the y-coordinate of the dot and the top of the line is approximately 100 pixels.', 'The difference between the y-coordinate of the dot and the top of the line is approximately 100 pixels.', 'The difference between the y-coordinate of the dot and the top of the line is approximately 100 pixels.', 'The difference between the y-coordinate of the dot and the top of the line is approximately 100 pixels.', 'The difference between the y-coordinate of the dot and the top of the line is approximately 100 pixels.', 'The difference between the y-coordinate of the dot and the top of the line is approximately 100 pixels.', 'The difference between the y-coordinate of the dot and the top of the line is approximately 100 pixels.', 'The difference between the y-coordinate of the dot and the top of the line is approximately 100 pixels.', 'The difference between the y-coordinate of the dot and the top of the line is approximately 100 pixels.', 'The difference between the y-coordinate of the dot and the top of the line is approximately 100 pixels.', 'The difference between the y-coordinate of the dot and the top of the line is approximately 100 pixels.', 'The difference between the y-coordinate of the dot and the top of the line is approximately 100 pixels.', 'The difference between the y-coordinate of the dot and the top of the line is approximately 100 pixels.', 'The difference between the y-coordinate of the dot and the top of the line is approximately 100 pixels.', 'The difference between the y-coordinate of the dot and the top of the line is approximately 100 pixels.', 'The difference between the y-coordinate of the dot and the top of the line is approximately 100 pixels.', 'The difference between the y-coordinate of the dot and the top of the line is approximately 100 pixels.', 'The difference between the y-coordinate of the dot and the top of the line is approximately 100 pixels.', 'The difference between the y-coordinate of the dot and the top of the line is approximately 100 pixels.', 'The difference between the y-coordinate of the dot and the top of the line is approximately 100 pixels.', 'The difference between the y-coordinate of the dot and the top of the line is approximately 100 pixels.', 'The difference between the y-coordinate of the dot and the top of the line is approximately 100 pixels.', 'The difference between the y-coordinate of the dot and the top of the line is approximately 100 pixels.'], 'parsed_answers': [[100.0], [100.0], [100.0], [100.0], [100.0], [100.0], [100.0], [100.0], [100.0], [100.0], [100.0], [100.0], [100.0], [100.0], [100.0], [100.0], [100.0], [100.0], [100.0], [100.0], [100.0], [100.0], [100.0], [100.0], [100.0], [100.0], [100.0], [100.0], [100.0], [100.0], [100.0], [100.0], [100.0], [100.0], [100.0], [100.0], [100.0], [100.0], [100.0], [100.0], [100.0], [100.0], [100.0], [100.0], [100.0], [100.0], [100.0], [100.0], [100.0], [100.0], [100.0], [100.0], [100.0], [100.0], [100.0]], 'mean': 100.0, 'std': 0.0, 'mse': 4813.345454545454, 'mlae': 12.75658238253151, 'times': [21311.367511749268, 7501.114130020142, 7787.937641143799, 7384.73916053772, 7429.377555847168, 7212.944984436035, 7012.25733757019, 7375.183343887329, 7976.506948471069, 7422.496318817139, 7429.428577423096, 7365.155935287476, 7167.176961898804, 7084.221601486206, 7198.896169662476, 7165.364742279053, 7021.541595458984, 7374.568700790405, 7284.66796875, 7136.790037155151, 7070.884227752686, 7535.611152648926, 7132.061958312988, 7417.333602905273, 7139.277219772339, 7164.121389389038, 7261.141300201416, 8784.923315048218, 7209.342002868652, 7453.064680099487, 7251.514673233032, 7272.084474563599, 7168.802261352539, 7152.5468826293945, 7934.452533721924, 7755.615472793579, 8545.189619064331, 7349.374055862427, 7277.784109115601, 7136.638402938843, 7293.737888336182, 7344.599962234497, 7398.744344711304, 7132.542848587036, 7289.778232574463, 7161.300897598267, 7312.685012817383, 7304.872989654541, 8287.905931472778, 7326.556921005249, 7341.669321060181, 7653.8965702056885, 7086.565732955933, 7446.747064590454, 7787.208318710327], 'forced_repetitions': 0}, 'CustomLLaVA': {'parameters': None, 'raw_answers': ['39', '27', '49', '52', '21', '45', '33', '51', '49', '49', '47', '37', '47', '39', '47', '41', '39', '47', '53', '39', '39', '21', '39', '45', '49', '12', '11', '46', '47', '49', '51', '56', '46', '36', '39', '39', '49', '37', '11', '39', '21', '41', '47', '47', '46', '41', '31', '33', '55', '36', '47', '41', '39', '49', '49'], 'parsed_answers': [[39.0], [27.0], [49.0], [52.0], [21.0], [45.0], [33.0], [51.0], [49.0], [49.0], [47.0], [37.0], [47.0], [39.0], [47.0], [41.0], [39.0], [47.0], [53.0], [39.0], [39.0], [21.0], [39.0], [45.0], [49.0], [12.0], [11.0], [46.0], [47.0], [49.0], [51.0], [56.0], [46.0], [36.0], [39.0], [39.0], [49.0], [37.0], [11.0], [39.0], [21.0], [41.0], [47.0], [47.0], [46.0], [41.0], [31.0], [33.0], [55.0], [36.0], [47.0], [41.0], [39.0], [49.0], [49.0]], 'mean': 40.63636363636363, 'std': 10.593932459605247, 'mse': 231.21818181818182, 'mlae': 10.430583224646092, 'times': [2276086.877822876, 20088.838815689087, 18584.344148635864, 18347.07546234131, 18685.73498725891, 18894.465446472168, 19082.923412322998, 18700.627326965332, 18858.16478729248, 18910.019159317017, 19404.424905776978, 19874.093770980835, 19216.127157211304, 19893.478870391846, 19985.729694366455, 18888.197660446167, 18776.068687438965, 19632.129907608032, 19276.406049728394, 18610.065937042236, 19057.97004699707, 19295.93563079834, 18810.651540756226, 19170.17912864685, 18419.912576675415, 18863.038063049316, 18960.280656814575, 18830.724000930786, 18582.10563659668, 19243.67880821228, 20059.603214263916, 19091.022968292236, 18965.371131896973, 18822.725534439087, 18964.89429473877, 18937.039375305176, 18838.404178619385, 18841.48669242859, 18613.173484802246, 18927.480459213257, 18860.363245010376, 18849.712371826172, 18450.965881347656, 18957.194566726685, 18690.800189971924, 18777.847051620483, 18671.303510665894, 19241.966485977173, 18961.00950241089, 18375.062227249146, 18509.302854537964, 19089.959144592285, 19311.508417129517, 19631.75940513611, 19266.425848007202], 'forced_repetitions': 0}}\n"
     ]
    }
   ],
   "source": [
    "import sys\n",
    "sys.path.append('../')\n",
    "import LLMP as L\n",
    "import torch\n",
    "torch.torch.cuda.empty_cache()\n",
    "\n",
    "query = \"What do you see? You should see a black vertical line and a small square dot in the 100x100 pixel image. \\\n",
    "         Suppose the x-coordinate is the horizontal position and the y-coordinate is the vertical position where \\\n",
    "         the origin is at the bottom-left corner. Estimate the difference between the y-coordinates of the dot and the \\\n",
    "         top of the line in pixels. It does not have to be perfectly precise; just give me your numerical estimation \\\n",
    "         (Sample answer form: 40-50)\"\n",
    "images = [L.GPImage.figure1('position_non_aligned_scale') for i in range(55)]\n",
    "models = [\"ChatGPT\", \"LLaVA\", \"CustomLLaVA\"]\n",
    "\n",
    "results = L.Evaluator.run(images, query, models)\n",
    "print(results)"
   ]
  },
  {
   "cell_type": "code",
   "execution_count": 2,
   "id": "1e464e22-6b47-416f-8285-171e7ea02406",
   "metadata": {},
   "outputs": [],
   "source": [
    "chatGPT_mse = results[\"ChatGPT\"][\"mse\"]\n",
    "chatGPT_mlae = results[\"ChatGPT\"][\"mlae\"]\n",
    "chatGPT_mean = results[\"ChatGPT\"][\"mean\"]\n",
    "chatGPT_std = results[\"ChatGPT\"][\"std\"]\n",
    "llava_mse = results[\"LLaVA\"][\"mse\"]\n",
    "llava_mlae = results[\"LLaVA\"][\"mlae\"]\n",
    "llava_mean = results[\"LLaVA\"][\"mean\"]\n",
    "llava_std = results[\"LLaVA\"][\"std\"]\n",
    "custom_llava_mse = results[\"CustomLLaVA\"][\"mse\"]\n",
    "custom_llava_mlae = results[\"CustomLLaVA\"][\"mlae\"]\n",
    "custom_llava_mean = results[\"CustomLLaVA\"][\"mean\"]\n",
    "custom_llava_std = results[\"CustomLLaVA\"][\"std\"]"
   ]
  },
  {
   "cell_type": "code",
   "execution_count": 3,
   "id": "39d05265-4860-4f1d-ba08-d88a9eeceb79",
   "metadata": {},
   "outputs": [
    {
     "name": "stdout",
     "output_type": "stream",
     "text": [
      "ChatGPT mse:  498.6909090909091\n",
      "ChatGPT mlae: 10.742185014254373\n",
      "ChatGPT mean: 36.25454545454546\n",
      "ChatGPT std: 22.306312340858447\n",
      "LLaVA mse:    4813.345454545454\n",
      "LLaVA mlae:   12.75658238253151\n",
      "LLaVA mean:   100.0\n",
      "LLaVA std:   0.0\n",
      "CLLaVA mse:   231.21818181818182\n",
      "CLLaVA mlae:  10.430583224646092\n",
      "CLLaVA mean:  40.63636363636363\n",
      "CLLaVA std:  10.593932459605247\n"
     ]
    }
   ],
   "source": [
    "print(\"ChatGPT mse: \", chatGPT_mse)\n",
    "print(\"ChatGPT mlae:\", chatGPT_mlae)\n",
    "print(\"ChatGPT mean:\", chatGPT_mean)\n",
    "print(\"ChatGPT std:\", chatGPT_std)\n",
    "print(\"LLaVA mse:   \", llava_mse)\n",
    "print(\"LLaVA mlae:  \", llava_mlae)\n",
    "print(\"LLaVA mean:  \", llava_mean)\n",
    "print(\"LLaVA std:  \", llava_std)\n",
    "print(\"CLLaVA mse:  \", custom_llava_mse)\n",
    "print(\"CLLaVA mlae: \", custom_llava_mlae)\n",
    "print(\"CLLaVA mean: \", custom_llava_mean)\n",
    "print(\"CLLaVA std: \", custom_llava_std)"
   ]
  },
  {
   "cell_type": "code",
   "execution_count": null,
   "id": "c440c3e2-2793-46fb-8002-89c7a228f9c3",
   "metadata": {},
   "outputs": [],
   "source": []
  }
 ],
 "metadata": {
  "kernelspec": {
   "display_name": "Python 3 (ipykernel)",
   "language": "python",
   "name": "python3"
  },
  "language_info": {
   "codemirror_mode": {
    "name": "ipython",
    "version": 3
   },
   "file_extension": ".py",
   "mimetype": "text/x-python",
   "name": "python",
   "nbconvert_exporter": "python",
   "pygments_lexer": "ipython3",
   "version": "3.11.7"
  }
 },
 "nbformat": 4,
 "nbformat_minor": 5
}
