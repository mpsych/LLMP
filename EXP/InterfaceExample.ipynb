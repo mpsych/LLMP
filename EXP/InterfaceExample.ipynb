{
 "cells": [
  {
   "cell_type": "code",
   "execution_count": 5,
   "id": "d50a78c6-920f-4a56-aa0c-1db22c149a36",
   "metadata": {},
   "outputs": [
    {
     "name": "stdout",
     "output_type": "stream",
     "text": [
      "{'gt': [66, 87, 43], 'ChatGPT': {'parameters': None, 'raw_answers': ['45-55', '75-85', '70-80'], 'parsed_answers': [[45, 55], [75, 85], [70, 80]], 'mse': 443.0, 'mlae': None, 'times': [7954.5738697052, 1269.2561149597168, 1076.0140419006348], 'forced_repetitions': 0}}\n"
     ]
    }
   ],
   "source": [
    "import sys\n",
    "sys.path.append('../')\n",
    "import LLMP as L\n",
    "\n",
    "\n",
    "query = \"This image contains a simple line drawing that forms an acute angle. Please estimate the angle.Please respond with a possible range not larger than 10 degrees and report just the numbers.\"\n",
    "images = [L.GPImage.figure1('angle') for i in range(3)]\n",
    "models = [\"ChatGPT\"]\n",
    "\n",
    "results = L.Evaluator.run(images, query, models)\n",
    "print(results)"
   ]
  },
  {
   "cell_type": "code",
   "execution_count": null,
   "id": "e58a40f2",
   "metadata": {},
   "outputs": [],
   "source": []
  }
 ],
 "metadata": {
  "kernelspec": {
   "display_name": "Python 3 (ipykernel)",
   "language": "python",
   "name": "python3"
  },
  "language_info": {
   "codemirror_mode": {
    "name": "ipython",
    "version": 3
   },
   "file_extension": ".py",
   "mimetype": "text/x-python",
   "name": "python",
   "nbconvert_exporter": "python",
   "pygments_lexer": "ipython3",
   "version": "3.11.3"
  }
 },
 "nbformat": 4,
 "nbformat_minor": 5
}
