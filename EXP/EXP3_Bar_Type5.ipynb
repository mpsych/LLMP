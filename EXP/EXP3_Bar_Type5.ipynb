{
 "cells": [
  {
   "cell_type": "code",
   "execution_count": 1,
   "id": "4a4646d7-3f54-4f7d-9d5f-8f362eb28a56",
   "metadata": {},
   "outputs": [
    {
     "name": "stdout",
     "output_type": "stream",
     "text": [
      "[2024-04-22 15:09:20,675] [INFO] [real_accelerator.py:191:get_accelerator] Setting ds_accelerator to cuda (auto detect)\n"
     ]
    },
    {
     "name": "stderr",
     "output_type": "stream",
     "text": [
      "You are using a model of type llava to instantiate a model of type llava_llama. This is not supported for all configurations of models and can yield errors.\n"
     ]
    },
    {
     "data": {
      "application/vnd.jupyter.widget-view+json": {
       "model_id": "1acb8771fa27483f81842788099767ee",
       "version_major": 2,
       "version_minor": 0
      },
      "text/plain": [
       "Loading checkpoint shards:   0%|          | 0/2 [00:00<?, ?it/s]"
      ]
     },
     "metadata": {},
     "output_type": "display_data"
    },
    {
     "name": "stderr",
     "output_type": "stream",
     "text": [
      "/home/kenichi.maeda001/anaconda3/envs/LLMP/lib/python3.11/site-packages/transformers/generation/configuration_utils.py:389: UserWarning: `do_sample` is set to `False`. However, `temperature` is set to `0` -- this flag is only used in sample-based generation modes. You should set `do_sample=True` or unset `temperature`.\n",
      "  warnings.warn(\n",
      "/home/kenichi.maeda001/anaconda3/envs/LLMP/lib/python3.11/site-packages/transformers/generation/configuration_utils.py:394: UserWarning: `do_sample` is set to `False`. However, `top_p` is set to `None` -- this flag is only used in sample-based generation modes. You should set `do_sample=True` or unset `top_p`.\n",
      "  warnings.warn(\n",
      "You are using a model of type llava to instantiate a model of type llava_llama. This is not supported for all configurations of models and can yield errors.\n"
     ]
    },
    {
     "data": {
      "application/vnd.jupyter.widget-view+json": {
       "model_id": "171fa619c59a46e6a76c0ea8f1157c3f",
       "version_major": 2,
       "version_minor": 0
      },
      "text/plain": [
       "Loading checkpoint shards:   0%|          | 0/2 [00:00<?, ?it/s]"
      ]
     },
     "metadata": {},
     "output_type": "display_data"
    },
    {
     "name": "stderr",
     "output_type": "stream",
     "text": [
      "You are using a model of type llava to instantiate a model of type llava_llama. This is not supported for all configurations of models and can yield errors.\n"
     ]
    },
    {
     "data": {
      "application/vnd.jupyter.widget-view+json": {
       "model_id": "74e8f27c44d74166b64010987ea04fd1",
       "version_major": 2,
       "version_minor": 0
      },
      "text/plain": [
       "Loading checkpoint shards:   0%|          | 0/2 [00:00<?, ?it/s]"
      ]
     },
     "metadata": {},
     "output_type": "display_data"
    },
    {
     "name": "stderr",
     "output_type": "stream",
     "text": [
      "You are using a model of type llava to instantiate a model of type llava_llama. This is not supported for all configurations of models and can yield errors.\n"
     ]
    },
    {
     "data": {
      "application/vnd.jupyter.widget-view+json": {
       "model_id": "5ecf1d6a43434a9497b156fd1d750114",
       "version_major": 2,
       "version_minor": 0
      },
      "text/plain": [
       "Loading checkpoint shards:   0%|          | 0/2 [00:00<?, ?it/s]"
      ]
     },
     "metadata": {},
     "output_type": "display_data"
    },
    {
     "name": "stderr",
     "output_type": "stream",
     "text": [
      "You are using a model of type llava to instantiate a model of type llava_llama. This is not supported for all configurations of models and can yield errors.\n"
     ]
    },
    {
     "data": {
      "application/vnd.jupyter.widget-view+json": {
       "model_id": "568ac4295b7b4c52b2b45f875dc6e559",
       "version_major": 2,
       "version_minor": 0
      },
      "text/plain": [
       "Loading checkpoint shards:   0%|          | 0/2 [00:00<?, ?it/s]"
      ]
     },
     "metadata": {},
     "output_type": "display_data"
    },
    {
     "name": "stderr",
     "output_type": "stream",
     "text": [
      "You are using a model of type llava to instantiate a model of type llava_llama. This is not supported for all configurations of models and can yield errors.\n"
     ]
    },
    {
     "data": {
      "application/vnd.jupyter.widget-view+json": {
       "model_id": "8904d1b264f5431ea180807f5d16ced0",
       "version_major": 2,
       "version_minor": 0
      },
      "text/plain": [
       "Loading checkpoint shards:   0%|          | 0/2 [00:00<?, ?it/s]"
      ]
     },
     "metadata": {},
     "output_type": "display_data"
    },
    {
     "name": "stderr",
     "output_type": "stream",
     "text": [
      "You are using a model of type llava to instantiate a model of type llava_llama. This is not supported for all configurations of models and can yield errors.\n"
     ]
    },
    {
     "data": {
      "application/vnd.jupyter.widget-view+json": {
       "model_id": "7bc241b0eadb4609bf44e2fcf929beee",
       "version_major": 2,
       "version_minor": 0
      },
      "text/plain": [
       "Loading checkpoint shards:   0%|          | 0/2 [00:00<?, ?it/s]"
      ]
     },
     "metadata": {},
     "output_type": "display_data"
    },
    {
     "name": "stderr",
     "output_type": "stream",
     "text": [
      "You are using a model of type llava to instantiate a model of type llava_llama. This is not supported for all configurations of models and can yield errors.\n"
     ]
    },
    {
     "data": {
      "application/vnd.jupyter.widget-view+json": {
       "model_id": "42e70879ea7d4ee386cd63e298464858",
       "version_major": 2,
       "version_minor": 0
      },
      "text/plain": [
       "Loading checkpoint shards:   0%|          | 0/2 [00:00<?, ?it/s]"
      ]
     },
     "metadata": {},
     "output_type": "display_data"
    },
    {
     "name": "stderr",
     "output_type": "stream",
     "text": [
      "You are using a model of type llava to instantiate a model of type llava_llama. This is not supported for all configurations of models and can yield errors.\n"
     ]
    },
    {
     "data": {
      "application/vnd.jupyter.widget-view+json": {
       "model_id": "3a5acf4739ce4cc4a0dcc9e431c8f80c",
       "version_major": 2,
       "version_minor": 0
      },
      "text/plain": [
       "Loading checkpoint shards:   0%|          | 0/2 [00:00<?, ?it/s]"
      ]
     },
     "metadata": {},
     "output_type": "display_data"
    },
    {
     "name": "stderr",
     "output_type": "stream",
     "text": [
      "You are using a model of type llava to instantiate a model of type llava_llama. This is not supported for all configurations of models and can yield errors.\n"
     ]
    },
    {
     "data": {
      "application/vnd.jupyter.widget-view+json": {
       "model_id": "c470858c038e4110a90ed7714704c8e4",
       "version_major": 2,
       "version_minor": 0
      },
      "text/plain": [
       "Loading checkpoint shards:   0%|          | 0/2 [00:00<?, ?it/s]"
      ]
     },
     "metadata": {},
     "output_type": "display_data"
    },
    {
     "name": "stderr",
     "output_type": "stream",
     "text": [
      "You are using a model of type llava to instantiate a model of type llava_llama. This is not supported for all configurations of models and can yield errors.\n"
     ]
    },
    {
     "data": {
      "application/vnd.jupyter.widget-view+json": {
       "model_id": "7a6655c56fd14b9b905699efd7eb7d76",
       "version_major": 2,
       "version_minor": 0
      },
      "text/plain": [
       "Loading checkpoint shards:   0%|          | 0/2 [00:00<?, ?it/s]"
      ]
     },
     "metadata": {},
     "output_type": "display_data"
    },
    {
     "name": "stderr",
     "output_type": "stream",
     "text": [
      "You are using a model of type llava to instantiate a model of type llava_llama. This is not supported for all configurations of models and can yield errors.\n"
     ]
    },
    {
     "data": {
      "application/vnd.jupyter.widget-view+json": {
       "model_id": "e47d9844c1a14006a45736fa38f019eb",
       "version_major": 2,
       "version_minor": 0
      },
      "text/plain": [
       "Loading checkpoint shards:   0%|          | 0/2 [00:00<?, ?it/s]"
      ]
     },
     "metadata": {},
     "output_type": "display_data"
    },
    {
     "name": "stderr",
     "output_type": "stream",
     "text": [
      "You are using a model of type llava to instantiate a model of type llava_llama. This is not supported for all configurations of models and can yield errors.\n"
     ]
    },
    {
     "data": {
      "application/vnd.jupyter.widget-view+json": {
       "model_id": "e0ab97bcdb8149a1b73360b9c075f2e8",
       "version_major": 2,
       "version_minor": 0
      },
      "text/plain": [
       "Loading checkpoint shards:   0%|          | 0/2 [00:00<?, ?it/s]"
      ]
     },
     "metadata": {},
     "output_type": "display_data"
    },
    {
     "name": "stderr",
     "output_type": "stream",
     "text": [
      "You are using a model of type llava to instantiate a model of type llava_llama. This is not supported for all configurations of models and can yield errors.\n"
     ]
    },
    {
     "data": {
      "application/vnd.jupyter.widget-view+json": {
       "model_id": "423e5790d4334ce0b662b14f8c38fedb",
       "version_major": 2,
       "version_minor": 0
      },
      "text/plain": [
       "Loading checkpoint shards:   0%|          | 0/2 [00:00<?, ?it/s]"
      ]
     },
     "metadata": {},
     "output_type": "display_data"
    },
    {
     "name": "stderr",
     "output_type": "stream",
     "text": [
      "You are using a model of type llava to instantiate a model of type llava_llama. This is not supported for all configurations of models and can yield errors.\n"
     ]
    },
    {
     "data": {
      "application/vnd.jupyter.widget-view+json": {
       "model_id": "1d0faa5d497f48128afc3a1abb40cd81",
       "version_major": 2,
       "version_minor": 0
      },
      "text/plain": [
       "Loading checkpoint shards:   0%|          | 0/2 [00:00<?, ?it/s]"
      ]
     },
     "metadata": {},
     "output_type": "display_data"
    },
    {
     "name": "stderr",
     "output_type": "stream",
     "text": [
      "You are using a model of type llava to instantiate a model of type llava_llama. This is not supported for all configurations of models and can yield errors.\n"
     ]
    },
    {
     "data": {
      "application/vnd.jupyter.widget-view+json": {
       "model_id": "a8604f523b2447f4948d900a9b4a5cf7",
       "version_major": 2,
       "version_minor": 0
      },
      "text/plain": [
       "Loading checkpoint shards:   0%|          | 0/2 [00:00<?, ?it/s]"
      ]
     },
     "metadata": {},
     "output_type": "display_data"
    },
    {
     "name": "stderr",
     "output_type": "stream",
     "text": [
      "You are using a model of type llava to instantiate a model of type llava_llama. This is not supported for all configurations of models and can yield errors.\n"
     ]
    },
    {
     "data": {
      "application/vnd.jupyter.widget-view+json": {
       "model_id": "26d4ac31694a4fa087ad578855136fa4",
       "version_major": 2,
       "version_minor": 0
      },
      "text/plain": [
       "Loading checkpoint shards:   0%|          | 0/2 [00:00<?, ?it/s]"
      ]
     },
     "metadata": {},
     "output_type": "display_data"
    },
    {
     "name": "stderr",
     "output_type": "stream",
     "text": [
      "You are using a model of type llava to instantiate a model of type llava_llama. This is not supported for all configurations of models and can yield errors.\n"
     ]
    },
    {
     "data": {
      "application/vnd.jupyter.widget-view+json": {
       "model_id": "f5c84cab8274468c814c252aed8b5093",
       "version_major": 2,
       "version_minor": 0
      },
      "text/plain": [
       "Loading checkpoint shards:   0%|          | 0/2 [00:00<?, ?it/s]"
      ]
     },
     "metadata": {},
     "output_type": "display_data"
    },
    {
     "name": "stderr",
     "output_type": "stream",
     "text": [
      "You are using a model of type llava to instantiate a model of type llava_llama. This is not supported for all configurations of models and can yield errors.\n"
     ]
    },
    {
     "data": {
      "application/vnd.jupyter.widget-view+json": {
       "model_id": "a1c1043c3dd1431297a0d7d461405271",
       "version_major": 2,
       "version_minor": 0
      },
      "text/plain": [
       "Loading checkpoint shards:   0%|          | 0/2 [00:00<?, ?it/s]"
      ]
     },
     "metadata": {},
     "output_type": "display_data"
    },
    {
     "name": "stderr",
     "output_type": "stream",
     "text": [
      "You are using a model of type llava to instantiate a model of type llava_llama. This is not supported for all configurations of models and can yield errors.\n"
     ]
    },
    {
     "data": {
      "application/vnd.jupyter.widget-view+json": {
       "model_id": "cacef9e50cad404095dabcc5ecf05b5e",
       "version_major": 2,
       "version_minor": 0
      },
      "text/plain": [
       "Loading checkpoint shards:   0%|          | 0/2 [00:00<?, ?it/s]"
      ]
     },
     "metadata": {},
     "output_type": "display_data"
    },
    {
     "name": "stderr",
     "output_type": "stream",
     "text": [
      "You are using a model of type llava to instantiate a model of type llava_llama. This is not supported for all configurations of models and can yield errors.\n"
     ]
    },
    {
     "data": {
      "application/vnd.jupyter.widget-view+json": {
       "model_id": "80db5bbb9d9946338e445a19240006ac",
       "version_major": 2,
       "version_minor": 0
      },
      "text/plain": [
       "Loading checkpoint shards:   0%|          | 0/2 [00:00<?, ?it/s]"
      ]
     },
     "metadata": {},
     "output_type": "display_data"
    },
    {
     "name": "stderr",
     "output_type": "stream",
     "text": [
      "You are using a model of type llava to instantiate a model of type llava_llama. This is not supported for all configurations of models and can yield errors.\n"
     ]
    },
    {
     "data": {
      "application/vnd.jupyter.widget-view+json": {
       "model_id": "ee496b4f43e246e68ff05392a8752f83",
       "version_major": 2,
       "version_minor": 0
      },
      "text/plain": [
       "Loading checkpoint shards:   0%|          | 0/2 [00:00<?, ?it/s]"
      ]
     },
     "metadata": {},
     "output_type": "display_data"
    },
    {
     "name": "stderr",
     "output_type": "stream",
     "text": [
      "You are using a model of type llava to instantiate a model of type llava_llama. This is not supported for all configurations of models and can yield errors.\n"
     ]
    },
    {
     "data": {
      "application/vnd.jupyter.widget-view+json": {
       "model_id": "047c39da81fb47e4a645c3c5ceb0b325",
       "version_major": 2,
       "version_minor": 0
      },
      "text/plain": [
       "Loading checkpoint shards:   0%|          | 0/2 [00:00<?, ?it/s]"
      ]
     },
     "metadata": {},
     "output_type": "display_data"
    },
    {
     "name": "stderr",
     "output_type": "stream",
     "text": [
      "You are using a model of type llava to instantiate a model of type llava_llama. This is not supported for all configurations of models and can yield errors.\n"
     ]
    },
    {
     "data": {
      "application/vnd.jupyter.widget-view+json": {
       "model_id": "e6a0fbf2c1c3447e89f6411f6ec90bd6",
       "version_major": 2,
       "version_minor": 0
      },
      "text/plain": [
       "Loading checkpoint shards:   0%|          | 0/2 [00:00<?, ?it/s]"
      ]
     },
     "metadata": {},
     "output_type": "display_data"
    },
    {
     "name": "stderr",
     "output_type": "stream",
     "text": [
      "You are using a model of type llava to instantiate a model of type llava_llama. This is not supported for all configurations of models and can yield errors.\n"
     ]
    },
    {
     "data": {
      "application/vnd.jupyter.widget-view+json": {
       "model_id": "6e76b23644f345e9b1a576df3013dea8",
       "version_major": 2,
       "version_minor": 0
      },
      "text/plain": [
       "Loading checkpoint shards:   0%|          | 0/2 [00:00<?, ?it/s]"
      ]
     },
     "metadata": {},
     "output_type": "display_data"
    },
    {
     "name": "stderr",
     "output_type": "stream",
     "text": [
      "You are using a model of type llava to instantiate a model of type llava_llama. This is not supported for all configurations of models and can yield errors.\n"
     ]
    },
    {
     "data": {
      "application/vnd.jupyter.widget-view+json": {
       "model_id": "5c019d310028452d9363b2711db4b054",
       "version_major": 2,
       "version_minor": 0
      },
      "text/plain": [
       "Loading checkpoint shards:   0%|          | 0/2 [00:00<?, ?it/s]"
      ]
     },
     "metadata": {},
     "output_type": "display_data"
    },
    {
     "name": "stderr",
     "output_type": "stream",
     "text": [
      "You are using a model of type llava to instantiate a model of type llava_llama. This is not supported for all configurations of models and can yield errors.\n"
     ]
    },
    {
     "data": {
      "application/vnd.jupyter.widget-view+json": {
       "model_id": "bcde50394d6e4940b884fe6bebfe6138",
       "version_major": 2,
       "version_minor": 0
      },
      "text/plain": [
       "Loading checkpoint shards:   0%|          | 0/2 [00:00<?, ?it/s]"
      ]
     },
     "metadata": {},
     "output_type": "display_data"
    },
    {
     "name": "stderr",
     "output_type": "stream",
     "text": [
      "You are using a model of type llava to instantiate a model of type llava_llama. This is not supported for all configurations of models and can yield errors.\n"
     ]
    },
    {
     "data": {
      "application/vnd.jupyter.widget-view+json": {
       "model_id": "d720125ef2a34dc298145ef035890a16",
       "version_major": 2,
       "version_minor": 0
      },
      "text/plain": [
       "Loading checkpoint shards:   0%|          | 0/2 [00:00<?, ?it/s]"
      ]
     },
     "metadata": {},
     "output_type": "display_data"
    },
    {
     "name": "stderr",
     "output_type": "stream",
     "text": [
      "You are using a model of type llava to instantiate a model of type llava_llama. This is not supported for all configurations of models and can yield errors.\n"
     ]
    },
    {
     "data": {
      "application/vnd.jupyter.widget-view+json": {
       "model_id": "15df46e423a342d3985634e1a4f2b095",
       "version_major": 2,
       "version_minor": 0
      },
      "text/plain": [
       "Loading checkpoint shards:   0%|          | 0/2 [00:00<?, ?it/s]"
      ]
     },
     "metadata": {},
     "output_type": "display_data"
    },
    {
     "name": "stderr",
     "output_type": "stream",
     "text": [
      "You are using a model of type llava to instantiate a model of type llava_llama. This is not supported for all configurations of models and can yield errors.\n"
     ]
    },
    {
     "data": {
      "application/vnd.jupyter.widget-view+json": {
       "model_id": "f07842c1b4d14f9b8fd3926914a943b8",
       "version_major": 2,
       "version_minor": 0
      },
      "text/plain": [
       "Loading checkpoint shards:   0%|          | 0/2 [00:00<?, ?it/s]"
      ]
     },
     "metadata": {},
     "output_type": "display_data"
    },
    {
     "name": "stderr",
     "output_type": "stream",
     "text": [
      "You are using a model of type llava to instantiate a model of type llava_llama. This is not supported for all configurations of models and can yield errors.\n"
     ]
    },
    {
     "data": {
      "application/vnd.jupyter.widget-view+json": {
       "model_id": "62045b4907e848c59618f093ccc3892c",
       "version_major": 2,
       "version_minor": 0
      },
      "text/plain": [
       "Loading checkpoint shards:   0%|          | 0/2 [00:00<?, ?it/s]"
      ]
     },
     "metadata": {},
     "output_type": "display_data"
    },
    {
     "name": "stderr",
     "output_type": "stream",
     "text": [
      "You are using a model of type llava to instantiate a model of type llava_llama. This is not supported for all configurations of models and can yield errors.\n"
     ]
    },
    {
     "data": {
      "application/vnd.jupyter.widget-view+json": {
       "model_id": "bc3267e3efec4f129154000fd2cbff99",
       "version_major": 2,
       "version_minor": 0
      },
      "text/plain": [
       "Loading checkpoint shards:   0%|          | 0/2 [00:00<?, ?it/s]"
      ]
     },
     "metadata": {},
     "output_type": "display_data"
    },
    {
     "name": "stderr",
     "output_type": "stream",
     "text": [
      "You are using a model of type llava to instantiate a model of type llava_llama. This is not supported for all configurations of models and can yield errors.\n"
     ]
    },
    {
     "data": {
      "application/vnd.jupyter.widget-view+json": {
       "model_id": "283092617aa641f69e4f6372a3ff86a0",
       "version_major": 2,
       "version_minor": 0
      },
      "text/plain": [
       "Loading checkpoint shards:   0%|          | 0/2 [00:00<?, ?it/s]"
      ]
     },
     "metadata": {},
     "output_type": "display_data"
    },
    {
     "name": "stderr",
     "output_type": "stream",
     "text": [
      "You are using a model of type llava to instantiate a model of type llava_llama. This is not supported for all configurations of models and can yield errors.\n"
     ]
    },
    {
     "data": {
      "application/vnd.jupyter.widget-view+json": {
       "model_id": "4ae654182cf742a68bbfb507699a1b60",
       "version_major": 2,
       "version_minor": 0
      },
      "text/plain": [
       "Loading checkpoint shards:   0%|          | 0/2 [00:00<?, ?it/s]"
      ]
     },
     "metadata": {},
     "output_type": "display_data"
    },
    {
     "name": "stderr",
     "output_type": "stream",
     "text": [
      "You are using a model of type llava to instantiate a model of type llava_llama. This is not supported for all configurations of models and can yield errors.\n"
     ]
    },
    {
     "data": {
      "application/vnd.jupyter.widget-view+json": {
       "model_id": "7c2938f2cd1e43cea162e190638c84f3",
       "version_major": 2,
       "version_minor": 0
      },
      "text/plain": [
       "Loading checkpoint shards:   0%|          | 0/2 [00:00<?, ?it/s]"
      ]
     },
     "metadata": {},
     "output_type": "display_data"
    },
    {
     "name": "stderr",
     "output_type": "stream",
     "text": [
      "You are using a model of type llava to instantiate a model of type llava_llama. This is not supported for all configurations of models and can yield errors.\n"
     ]
    },
    {
     "data": {
      "application/vnd.jupyter.widget-view+json": {
       "model_id": "91217aea94d140eb9d9f084088d9bed5",
       "version_major": 2,
       "version_minor": 0
      },
      "text/plain": [
       "Loading checkpoint shards:   0%|          | 0/2 [00:00<?, ?it/s]"
      ]
     },
     "metadata": {},
     "output_type": "display_data"
    },
    {
     "name": "stderr",
     "output_type": "stream",
     "text": [
      "You are using a model of type llava to instantiate a model of type llava_llama. This is not supported for all configurations of models and can yield errors.\n"
     ]
    },
    {
     "data": {
      "application/vnd.jupyter.widget-view+json": {
       "model_id": "a00d6b0c2c674447a90ab2290bb89525",
       "version_major": 2,
       "version_minor": 0
      },
      "text/plain": [
       "Loading checkpoint shards:   0%|          | 0/2 [00:00<?, ?it/s]"
      ]
     },
     "metadata": {},
     "output_type": "display_data"
    },
    {
     "name": "stderr",
     "output_type": "stream",
     "text": [
      "You are using a model of type llava to instantiate a model of type llava_llama. This is not supported for all configurations of models and can yield errors.\n"
     ]
    },
    {
     "data": {
      "application/vnd.jupyter.widget-view+json": {
       "model_id": "eb943581eba345ea8b912d952ae238f7",
       "version_major": 2,
       "version_minor": 0
      },
      "text/plain": [
       "Loading checkpoint shards:   0%|          | 0/2 [00:00<?, ?it/s]"
      ]
     },
     "metadata": {},
     "output_type": "display_data"
    },
    {
     "name": "stderr",
     "output_type": "stream",
     "text": [
      "You are using a model of type llava to instantiate a model of type llava_llama. This is not supported for all configurations of models and can yield errors.\n"
     ]
    },
    {
     "data": {
      "application/vnd.jupyter.widget-view+json": {
       "model_id": "f07bf610546c47f3b061e80fcdb21946",
       "version_major": 2,
       "version_minor": 0
      },
      "text/plain": [
       "Loading checkpoint shards:   0%|          | 0/2 [00:00<?, ?it/s]"
      ]
     },
     "metadata": {},
     "output_type": "display_data"
    },
    {
     "name": "stderr",
     "output_type": "stream",
     "text": [
      "You are using a model of type llava to instantiate a model of type llava_llama. This is not supported for all configurations of models and can yield errors.\n"
     ]
    },
    {
     "data": {
      "application/vnd.jupyter.widget-view+json": {
       "model_id": "c492c1d5bdf241c0b73bc852672c914c",
       "version_major": 2,
       "version_minor": 0
      },
      "text/plain": [
       "Loading checkpoint shards:   0%|          | 0/2 [00:00<?, ?it/s]"
      ]
     },
     "metadata": {},
     "output_type": "display_data"
    },
    {
     "name": "stderr",
     "output_type": "stream",
     "text": [
      "You are using a model of type llava to instantiate a model of type llava_llama. This is not supported for all configurations of models and can yield errors.\n"
     ]
    },
    {
     "data": {
      "application/vnd.jupyter.widget-view+json": {
       "model_id": "c305848c3ed549dd8af7e3009bca3056",
       "version_major": 2,
       "version_minor": 0
      },
      "text/plain": [
       "Loading checkpoint shards:   0%|          | 0/2 [00:00<?, ?it/s]"
      ]
     },
     "metadata": {},
     "output_type": "display_data"
    },
    {
     "name": "stderr",
     "output_type": "stream",
     "text": [
      "You are using a model of type llava to instantiate a model of type llava_llama. This is not supported for all configurations of models and can yield errors.\n"
     ]
    },
    {
     "data": {
      "application/vnd.jupyter.widget-view+json": {
       "model_id": "a144088ed7e3460d91f11afe74c3a2d9",
       "version_major": 2,
       "version_minor": 0
      },
      "text/plain": [
       "Loading checkpoint shards:   0%|          | 0/2 [00:00<?, ?it/s]"
      ]
     },
     "metadata": {},
     "output_type": "display_data"
    },
    {
     "name": "stderr",
     "output_type": "stream",
     "text": [
      "You are using a model of type llava to instantiate a model of type llava_llama. This is not supported for all configurations of models and can yield errors.\n"
     ]
    },
    {
     "data": {
      "application/vnd.jupyter.widget-view+json": {
       "model_id": "6f129008ffac43cd939c138b50952218",
       "version_major": 2,
       "version_minor": 0
      },
      "text/plain": [
       "Loading checkpoint shards:   0%|          | 0/2 [00:00<?, ?it/s]"
      ]
     },
     "metadata": {},
     "output_type": "display_data"
    },
    {
     "name": "stderr",
     "output_type": "stream",
     "text": [
      "You are using a model of type llava to instantiate a model of type llava_llama. This is not supported for all configurations of models and can yield errors.\n"
     ]
    },
    {
     "data": {
      "application/vnd.jupyter.widget-view+json": {
       "model_id": "94b739a3bb17465b9104e3d1628a06d1",
       "version_major": 2,
       "version_minor": 0
      },
      "text/plain": [
       "Loading checkpoint shards:   0%|          | 0/2 [00:00<?, ?it/s]"
      ]
     },
     "metadata": {},
     "output_type": "display_data"
    },
    {
     "name": "stderr",
     "output_type": "stream",
     "text": [
      "You are using a model of type llava to instantiate a model of type llava_llama. This is not supported for all configurations of models and can yield errors.\n"
     ]
    },
    {
     "data": {
      "application/vnd.jupyter.widget-view+json": {
       "model_id": "737080e4fb00472b8ee01e592e398576",
       "version_major": 2,
       "version_minor": 0
      },
      "text/plain": [
       "Loading checkpoint shards:   0%|          | 0/2 [00:00<?, ?it/s]"
      ]
     },
     "metadata": {},
     "output_type": "display_data"
    },
    {
     "name": "stderr",
     "output_type": "stream",
     "text": [
      "You are using a model of type llava to instantiate a model of type llava_llama. This is not supported for all configurations of models and can yield errors.\n"
     ]
    },
    {
     "data": {
      "application/vnd.jupyter.widget-view+json": {
       "model_id": "c1bf7c7acac84e28ba5d28da15a76e5c",
       "version_major": 2,
       "version_minor": 0
      },
      "text/plain": [
       "Loading checkpoint shards:   0%|          | 0/2 [00:00<?, ?it/s]"
      ]
     },
     "metadata": {},
     "output_type": "display_data"
    },
    {
     "name": "stderr",
     "output_type": "stream",
     "text": [
      "You are using a model of type llava to instantiate a model of type llava_llama. This is not supported for all configurations of models and can yield errors.\n"
     ]
    },
    {
     "data": {
      "application/vnd.jupyter.widget-view+json": {
       "model_id": "cfa87ac10b8e485794c43d4f47495c6d",
       "version_major": 2,
       "version_minor": 0
      },
      "text/plain": [
       "Loading checkpoint shards:   0%|          | 0/2 [00:00<?, ?it/s]"
      ]
     },
     "metadata": {},
     "output_type": "display_data"
    },
    {
     "name": "stderr",
     "output_type": "stream",
     "text": [
      "You are using a model of type llava to instantiate a model of type llava_llama. This is not supported for all configurations of models and can yield errors.\n"
     ]
    },
    {
     "data": {
      "application/vnd.jupyter.widget-view+json": {
       "model_id": "6d954ba1cd904903a13f8e30f8ba423e",
       "version_major": 2,
       "version_minor": 0
      },
      "text/plain": [
       "Loading checkpoint shards:   0%|          | 0/2 [00:00<?, ?it/s]"
      ]
     },
     "metadata": {},
     "output_type": "display_data"
    },
    {
     "name": "stderr",
     "output_type": "stream",
     "text": [
      "You are using a model of type llava to instantiate a model of type llava_llama. This is not supported for all configurations of models and can yield errors.\n"
     ]
    },
    {
     "data": {
      "application/vnd.jupyter.widget-view+json": {
       "model_id": "e10ce77fe86b4decaf8ce516013be0e9",
       "version_major": 2,
       "version_minor": 0
      },
      "text/plain": [
       "Loading checkpoint shards:   0%|          | 0/2 [00:00<?, ?it/s]"
      ]
     },
     "metadata": {},
     "output_type": "display_data"
    },
    {
     "name": "stderr",
     "output_type": "stream",
     "text": [
      "You are using a model of type llava to instantiate a model of type llava_llama. This is not supported for all configurations of models and can yield errors.\n"
     ]
    },
    {
     "data": {
      "application/vnd.jupyter.widget-view+json": {
       "model_id": "6b9798448e53405ea9fa906ebb934be2",
       "version_major": 2,
       "version_minor": 0
      },
      "text/plain": [
       "Loading checkpoint shards:   0%|          | 0/2 [00:00<?, ?it/s]"
      ]
     },
     "metadata": {},
     "output_type": "display_data"
    },
    {
     "name": "stderr",
     "output_type": "stream",
     "text": [
      "You are using a model of type llava to instantiate a model of type llava_llama. This is not supported for all configurations of models and can yield errors.\n"
     ]
    },
    {
     "data": {
      "application/vnd.jupyter.widget-view+json": {
       "model_id": "0d4f6dc68ef74e3380b7023146f77fee",
       "version_major": 2,
       "version_minor": 0
      },
      "text/plain": [
       "Loading checkpoint shards:   0%|          | 0/2 [00:00<?, ?it/s]"
      ]
     },
     "metadata": {},
     "output_type": "display_data"
    },
    {
     "name": "stderr",
     "output_type": "stream",
     "text": [
      "You are using a model of type llava to instantiate a model of type llava_llama. This is not supported for all configurations of models and can yield errors.\n"
     ]
    },
    {
     "data": {
      "application/vnd.jupyter.widget-view+json": {
       "model_id": "27547d953a014c78a6bcbe4c44063e2b",
       "version_major": 2,
       "version_minor": 0
      },
      "text/plain": [
       "Loading checkpoint shards:   0%|          | 0/2 [00:00<?, ?it/s]"
      ]
     },
     "metadata": {},
     "output_type": "display_data"
    },
    {
     "name": "stderr",
     "output_type": "stream",
     "text": [
      "You are using a model of type llava to instantiate a model of type llava_llama. This is not supported for all configurations of models and can yield errors.\n"
     ]
    },
    {
     "data": {
      "application/vnd.jupyter.widget-view+json": {
       "model_id": "9b3907b5634144478ce3536e66439765",
       "version_major": 2,
       "version_minor": 0
      },
      "text/plain": [
       "Loading checkpoint shards:   0%|          | 0/2 [00:00<?, ?it/s]"
      ]
     },
     "metadata": {},
     "output_type": "display_data"
    },
    {
     "name": "stderr",
     "output_type": "stream",
     "text": [
      "You are using a model of type llava to instantiate a model of type llava_llama. This is not supported for all configurations of models and can yield errors.\n"
     ]
    },
    {
     "data": {
      "application/vnd.jupyter.widget-view+json": {
       "model_id": "d20d720850f94e40be35798c5335a4d2",
       "version_major": 2,
       "version_minor": 0
      },
      "text/plain": [
       "Loading checkpoint shards:   0%|          | 0/2 [00:00<?, ?it/s]"
      ]
     },
     "metadata": {},
     "output_type": "display_data"
    },
    {
     "name": "stderr",
     "output_type": "stream",
     "text": [
      "You are using a model of type llava to instantiate a model of type llava_llama. This is not supported for all configurations of models and can yield errors.\n"
     ]
    },
    {
     "data": {
      "application/vnd.jupyter.widget-view+json": {
       "model_id": "4262dd9cd4d2408db0a86bfe239d0d41",
       "version_major": 2,
       "version_minor": 0
      },
      "text/plain": [
       "Loading checkpoint shards:   0%|          | 0/2 [00:00<?, ?it/s]"
      ]
     },
     "metadata": {},
     "output_type": "display_data"
    },
    {
     "name": "stdout",
     "output_type": "stream",
     "text": [
      "{'gt': [0.38461538461538464, 0.5454545454545454, 0.5652173913043478, 0.17857142857142858, 0.8461538461538461, 0.32142857142857145, 0.8, 0.17857142857142858, 0.391304347826087, 0.5652173913043478, 0.5769230769230769, 0.47368421052631576, 0.3125, 0.6842105263157895, 0.2631578947368421, 0.46153846153846156, 0.8421052631578947, 0.26785714285714285, 0.5769230769230769, 0.5769230769230769, 0.39473684210526316, 0.2608695652173913, 0.4782608695652174, 0.5789473684210527, 0.46153846153846156, 0.3157894736842105, 0.391304347826087, 0.6923076923076923, 0.5789473684210527, 0.5555555555555556, 0.6956521739130435, 0.47368421052631576, 0.17857142857142858, 0.3157894736842105, 0.46153846153846156, 0.4782608695652174, 0.8125, 0.8333333333333334, 0.3125, 0.32608695652173914, 0.2631578947368421, 0.391304347826087, 0.6842105263157895, 0.21428571428571427, 0.5652173913043478, 0.8461538461538461, 0.46875, 0.8333333333333334, 0.45454545454545453, 0.5625, 0.6956521739130435, 0.47368421052631576, 0.8333333333333334, 0.6818181818181818, 0.2608695652173913], 'ChatGPT': {'parameters': None, 'raw_answers': ['0.6-0.7', '0.6-0.7', '0.6-0.7', '0.2-0.3', '0.6-0.7', '0.6-0.7', '0.6-0.7', '0.6-0.7', '0.6-0.7', '0.2-0.3', '0.2-0.3', '0.6-0.7', '0.1-0.2', '0.6-0.7', '0.6-0.7', '0.6-0.7', '0.6-0.7', '0.2-0.3', '0.6-0.7', '0.6-0.7', '0.6-0.7', '0.2-0.3', '0.5-0.6', '0.6-0.7', '0.6-0.7', '0.2-0.3', '0.5-0.6', '0.6-0.7', '0.6-0.7', '0.6-0.7', '0.6-0.7', '0.6-0.7', '0.2-0.3', '0.6-0.7', '0.6-0.7', '0.2-0.3', '0.6-0.7', '0.5-0.6', '0.6-0.7', '0.6-0.7', '0.5-0.6', '0.6-0.7', '0.6-0.7', '0.5-0.6', '0.2-0.3', '0.6-0.7', '0.6-0.7', '0.6-0.7', '0.6-0.7', '0.6-0.7', '0.6-0.7', '0.6-0.7', '0.6-0.7', '0.6-0.7', '0.6-0.7'], 'parsed_answers': [[0.6, 0.7], [0.6, 0.7], [0.6, 0.7], [0.2, 0.3], [0.6, 0.7], [0.6, 0.7], [0.6, 0.7], [0.6, 0.7], [0.6, 0.7], [0.2, 0.3], [0.2, 0.3], [0.6, 0.7], [0.1, 0.2], [0.6, 0.7], [0.6, 0.7], [0.6, 0.7], [0.6, 0.7], [0.2, 0.3], [0.6, 0.7], [0.6, 0.7], [0.6, 0.7], [0.2, 0.3], [0.5, 0.6], [0.6, 0.7], [0.6, 0.7], [0.2, 0.3], [0.5, 0.6], [0.6, 0.7], [0.6, 0.7], [0.6, 0.7], [0.6, 0.7], [0.6, 0.7], [0.2, 0.3], [0.6, 0.7], [0.6, 0.7], [0.2, 0.3], [0.6, 0.7], [0.5, 0.6], [0.6, 0.7], [0.6, 0.7], [0.5, 0.6], [0.6, 0.7], [0.6, 0.7], [0.5, 0.6], [0.2, 0.3], [0.6, 0.7], [0.6, 0.7], [0.6, 0.7], [0.6, 0.7], [0.6, 0.7], [0.6, 0.7], [0.6, 0.7], [0.6, 0.7], [0.6, 0.7], [0.6, 0.7]], 'mean': 0.0, 'std': 0.0, 'mse': 0.2904400334340108, 'mlae': 5.654628087180334, 'times': [1509.847640991211, 1304.5494556427002, 1393.035888671875, 1463.8710021972656, 1121.0179328918457, 14251.775979995728, 1524.8849391937256, 1701.5385627746582, 1025.0911712646484, 3936.4004135131836, 7963.229656219482, 30969.043254852295, 1204.8776149749756, 1099.7133255004883, 2878.526210784912, 4289.521932601929, 1708.777666091919, 16415.90142250061, 1332.8075408935547, 996.5498447418213, 1047.431230545044, 3760.6964111328125, 4136.778354644775, 1245.74875831604, 2198.759078979492, 1454.4241428375244, 47695.91283798218, 13854.507684707642, 1902.937650680542, 1813.6868476867676, 1813.4827613830566, 1138.8225555419922, 1596.1518287658691, 5355.953693389893, 1795.3076362609863, 1853.844165802002, 1009.0165138244629, 1837.4543190002441, 1874.5651245117188, 8456.092596054077, 1079.474687576294, 5209.270000457764, 5140.58256149292, 28752.211093902588, 3630.244493484497, 1001.4619827270508, 1586.540937423706, 1681.4634799957275, 1461.5674018859863, 5520.631790161133, 982.5522899627686, 5411.586761474609, 1041.139841079712, 5931.80251121521, 15929.970264434814], 'forced_repetitions': 9}, 'LLaVA': {'parameters': None, 'raw_answers': ['Yes, I can identify the two sections. The longer section has the size of 1.0, and the smaller section is approximately 0.3-0.4 in length.', 'Yes, I can identify the two sections. The longer section has the size of 1.0, and the smaller section is approximately 0.3-0.4 in length.', 'Yes, I can identify the two sections. The longer section has the size of 1.0, and the smaller section is approximately 0.3-0.4 in length.', 'Yes, I can identify the two sections. The longer section has the size of 1.0, and the smaller section is approximately 0.3-0.4 in length.', 'Yes, I can identify the two sections. The longer section has the size of 1.0, and the smaller section is approximately 0.3-0.4 in length.', 'Yes, I can identify the two sections. The longer section has the size of 1.0, and the smaller section is approximately 0.3-0.4 in length.', 'Yes, I can identify the two sections. The longer section has the size of 1.0, and the smaller section is approximately 0.3-0.4 in length.', 'Yes, I can identify the two sections. The longer section has the size of 1.0, and the smaller section is approximately 0.3-0.4 in length.', 'Yes, I can identify the two sections. The longer section has the size of 1.0, and the smaller section is approximately 0.3-0.4 in length.', 'Yes, I can identify the two sections. The longer section has the size of 1.0, and the smaller section is approximately 0.3-0.4 in length.', 'Yes, I can identify the two sections. The longer section has the size of 1.0, and the smaller section is approximately 0.3-0.4 in length.', 'Yes, I can identify the two sections. The longer section has the size of 1.0, and the smaller section is approximately 0.3-0.4 in length.', 'Yes, I can identify the two sections. The longer section has the size of 1.0, and the smaller section is approximately 0.3-0.4 in length.', 'Yes, I can identify the two sections. The longer section has the size of 1.0, and the smaller section is approximately 0.3-0.4 in length.', 'Yes, I can identify the two sections. The longer section has the size of 1.0, and the smaller section is approximately 0.3-0.4 in length.', 'Yes, I can identify the two sections. The longer section has the size of 1.0, and the smaller section is approximately 0.3-0.4 in length.', 'Yes, I can identify the two sections. The longer section has the size of 1.0, and the smaller section is approximately 0.3-0.4 in length.', 'Yes, I can identify the two sections. The longer section has the size of 1.0, and the smaller section is approximately 0.3-0.4 in length.', 'Yes, I can identify the two sections. The longer section has the size of 1.0, and the smaller section is approximately 0.3-0.4 in length.', 'Yes, I can identify the two sections. The longer section has the size of 1.0, and the smaller section is approximately 0.3-0.4 in length.', 'Yes, I can identify the two sections. The longer section has the size of 1.0, and the smaller section is approximately 0.3-0.4 in length.', 'Yes, I can identify the two sections. The longer section has the size of 1.0, and the smaller section is approximately 0.3-0.4 in length.', 'Yes, I can identify the two sections. The longer section has the size of 1.0, and the smaller section is approximately 0.3-0.4 in length.', 'Yes, I can identify the two sections. The longer section has the size of 1.0, and the smaller section is approximately 0.3-0.4 in length.', 'Yes, I can identify the two sections. The longer section has the size of 1.0, and the smaller section is approximately 0.3-0.4 in length.', 'Yes, I can identify the two sections. The longer section has the size of 1.0, and the smaller section is approximately 0.3-0.4 in length.', 'Yes, I can identify the two sections. The longer section has the size of 1.0, and the smaller section is approximately 0.3-0.4 in length.', 'Yes, I can identify the two sections. The longer section has the size of 1.0, and the smaller section is approximately 0.3-0.4 in length.', 'Yes, I can identify the two sections. The longer section has the size of 1.0, and the smaller section is approximately 0.3-0.4 in length.', 'Yes, I can identify the two sections. The longer section has the size of 1.0, and the smaller section is approximately 0.3-0.4 in length.', 'Yes, I can identify the two sections. The longer section has the size of 1.0, and the smaller section is approximately 0.3-0.4 in length.', 'Yes, I can identify the two sections. The longer section has the size of 1.0, and the smaller section is approximately 0.3-0.4 in length.', 'Yes, I can identify the two sections. The longer section has the size of 1.0, and the smaller section is approximately 0.3-0.4 in length.', 'Yes, I can identify the two sections. The longer section has the size of 1.0, and the smaller section is approximately 0.3-0.4 in length.', 'Yes, I can identify the two sections. The longer section has the size of 1.0, and the smaller section is approximately 0.3-0.4 in length.', 'Yes, I can identify the two sections. The longer section has the size of 1.0, and the smaller section is approximately 0.3-0.4 in length.', 'Yes, I can identify the two sections. The longer section has the size of 1.0, and the smaller section is approximately 0.3-0.4 in length.', 'Yes, I can identify the two sections. The longer section has the size of 1.0, and the smaller section is approximately 0.3-0.4 in length.', 'Yes, I can identify the two sections. The longer section has the size of 1.0, and the smaller section is approximately 0.3-0.4 in length.', 'Yes, I can identify the two sections. The longer section has the size of 1.0, and the smaller section is approximately 0.3-0.4 in length.', 'Yes, I can identify the two sections. The longer section has the size of 1.0, and the smaller section is approximately 0.3-0.4 in length.', 'Yes, I can identify the two sections. The longer section has the size of 1.0, and the smaller section is approximately 0.3-0.4 in length.', 'Yes, I can identify the two sections. The longer section has the size of 1.0, and the smaller section is approximately 0.3-0.4 in length.', 'Yes, I can identify the two sections. The longer section has the size of 1.0, and the smaller section is approximately 0.3-0.4 in length.', 'Yes, I can identify the two sections. The longer section has the size of 1.0, and the smaller section is approximately 0.3-0.4 in length.', 'Yes, I can identify the two sections. The longer section has the size of 1.0, and the smaller section is approximately 0.3-0.4 in length.', 'Yes, I can identify the two sections. The longer section has the size of 1.0, and the smaller section is approximately 0.3-0.4 in length.', 'Yes, I can identify the two sections. The longer section has the size of 1.0, and the smaller section is approximately 0.3-0.4 in length.', 'Yes, I can identify the two sections. The longer section has the size of 1.0, and the smaller section is approximately 0.3-0.4 in length.', 'Yes, I can identify the two sections. The longer section has the size of 1.0, and the smaller section is approximately 0.3-0.4 in length.', 'Yes, I can identify the two sections. The longer section has the size of 1.0, and the smaller section is approximately 0.3-0.4 in length.', 'Yes, I can identify the two sections. The longer section has the size of 1.0, and the smaller section is approximately 0.3-0.4 in length.', 'Yes, I can identify the two sections. The longer section has the size of 1.0, and the smaller section is approximately 0.3-0.4 in length.', 'Yes, I can identify the two sections. The longer section has the size of 1.0, and the smaller section is approximately 0.3-0.4 in length.', 'Yes, I can identify the two sections. The longer section has the size of 1.0, and the smaller section is approximately 0.3-0.4 in length.'], 'parsed_answers': [[1.0, 0.3, 0.4], [1.0, 0.3, 0.4], [1.0, 0.3, 0.4], [1.0, 0.3, 0.4], [1.0, 0.3, 0.4], [1.0, 0.3, 0.4], [1.0, 0.3, 0.4], [1.0, 0.3, 0.4], [1.0, 0.3, 0.4], [1.0, 0.3, 0.4], [1.0, 0.3, 0.4], [1.0, 0.3, 0.4], [1.0, 0.3, 0.4], [1.0, 0.3, 0.4], [1.0, 0.3, 0.4], [1.0, 0.3, 0.4], [1.0, 0.3, 0.4], [1.0, 0.3, 0.4], [1.0, 0.3, 0.4], [1.0, 0.3, 0.4], [1.0, 0.3, 0.4], [1.0, 0.3, 0.4], [1.0, 0.3, 0.4], [1.0, 0.3, 0.4], [1.0, 0.3, 0.4], [1.0, 0.3, 0.4], [1.0, 0.3, 0.4], [1.0, 0.3, 0.4], [1.0, 0.3, 0.4], [1.0, 0.3, 0.4], [1.0, 0.3, 0.4], [1.0, 0.3, 0.4], [1.0, 0.3, 0.4], [1.0, 0.3, 0.4], [1.0, 0.3, 0.4], [1.0, 0.3, 0.4], [1.0, 0.3, 0.4], [1.0, 0.3, 0.4], [1.0, 0.3, 0.4], [1.0, 0.3, 0.4], [1.0, 0.3, 0.4], [1.0, 0.3, 0.4], [1.0, 0.3, 0.4], [1.0, 0.3, 0.4], [1.0, 0.3, 0.4], [1.0, 0.3, 0.4], [1.0, 0.3, 0.4], [1.0, 0.3, 0.4], [1.0, 0.3, 0.4], [1.0, 0.3, 0.4], [1.0, 0.3, 0.4], [1.0, 0.3, 0.4], [1.0, 0.3, 0.4], [1.0, 0.3, 0.4], [1.0, 0.3, 0.4]], 'mean': 0.0, 'std': 0.0, 'mse': 0.2904400334340108, 'mlae': 5.654628087180334, 'times': [22074.493408203125, 8352.82588005066, 7794.852495193481, 7506.3745975494385, 7565.035581588745, 7755.8228969573975, 7737.679958343506, 7608.804702758789, 7932.421445846558, 7810.607671737671, 7637.648820877075, 7755.5224895477295, 7631.587028503418, 8052.571773529053, 7787.3547077178955, 7697.306156158447, 7602.45943069458, 7418.704032897949, 7517.88330078125, 7745.703458786011, 7499.877452850342, 7507.465124130249, 7505.913496017456, 7700.948476791382, 7792.547941207886, 7627.20251083374, 7741.066694259644, 7613.891839981079, 7721.052646636963, 7717.418432235718, 7787.508964538574, 8005.291700363159, 7677.88028717041, 7584.923505783081, 8297.101736068726, 7573.757171630859, 7614.358425140381, 7840.708017349243, 7643.254995346069, 8165.315866470337, 7715.722322463989, 7640.149831771851, 7947.070121765137, 7884.442329406738, 7528.2886028289795, 7722.867488861084, 7691.826820373535, 7612.7028465271, 8137.707471847534, 7775.768756866455, 7821.455478668213, 7754.465818405151, 7839.3824100494385, 7468.43409538269, 7595.286846160889], 'forced_repetitions': 0}, 'CustomLLaVA': {'parameters': None, 'raw_answers': ['0.5454545454545454', '0.375', '0.39473684210526316', '0.6842105263157895', '0.391304347826087', '0.8125', '0.32608695652173914', '0.39285714285714285', '0.39473684210526316', '0.8125', '0.391304347826087', '0.375', '0.375', '0.391304347826087', '0.3157894736842105', '0.6842105263157895', '0.3157894736842105', '0.5555555555555556', '0.5625', '0.375', '0.8125', '0.3125', '0.2608695652173913', '0.39285714285714285', '0.2608695652173913', '0.32608695652173913', '0.5789473684210527', '0.3125', '0.8125', '0.5454545454545454', '0.5789473684210527', '0.39473684210526316', '0.391304347826087', '0.5769230769230769', '0.39473684210526316', '0.3125', '0.8333333333333334', '0.6842105263157895', '0.8125', '0.5454545454545454', '0.8461538461538461', '0.3157894736842105', '0.375', '0.375', '0.5652173913043478', '0.3157894736842105', '0.8125', '0.39473684210526316', '0.375', '0.46153846153846156', '0.5769230769230769', '0.5454545454545454', '0.46153846153846156', '0.8125', '0.375'], 'parsed_answers': [[0.5454545454545454], [0.375], [0.39473684210526316], [0.6842105263157895], [0.391304347826087], [0.8125], [0.32608695652173914], [0.39285714285714285], [0.39473684210526316], [0.8125], [0.391304347826087], [0.375], [0.375], [0.391304347826087], [0.3157894736842105], [0.6842105263157895], [0.3157894736842105], [0.5555555555555556], [0.5625], [0.375], [0.8125], [0.3125], [0.2608695652173913], [0.39285714285714285], [0.2608695652173913], [0.32608695652173914], [0.5789473684210527], [0.3125], [0.8125], [0.5454545454545454], [0.5789473684210527], [0.39473684210526316], [0.391304347826087], [0.5769230769230769], [0.39473684210526316], [0.3125], [0.8333333333333334], [0.6842105263157895], [0.8125], [0.5454545454545454], [0.8461538461538461], [0.3157894736842105], [0.375], [0.375], [0.5652173913043478], [0.3157894736842105], [0.8125], [0.39473684210526316], [0.375], [0.46153846153846156], [0.5769230769230769], [0.5454545454545454], [0.46153846153846156], [0.8125], [0.375]], 'mean': 0.494885718666143, 'std': 0.17726912828515876, 'mse': 0.07252585546262408, 'mlae': 4.45003934228609, 'times': [1898638.6861801147, 19205.07550239563, 19077.159881591797, 19127.272844314575, 19219.0682888031, 18812.825918197632, 19671.38123512268, 19008.24475288391, 19410.58397293091, 19729.955434799194, 18914.339065551758, 19088.249683380127, 18689.366102218628, 19389.865398406982, 19372.88212776184, 19609.769344329834, 19562.716245651245, 18934.864282608032, 18660.95781326294, 19002.326250076294, 18985.843420028687, 18691.03217124939, 19275.2583026886, 19657.44709968567, 19620.914936065674, 19091.532468795776, 19164.857149124146, 18951.83229446411, 18650.071144104004, 19482.677221298218, 18749.67861175537, 19416.62073135376, 19250.687837600708, 18936.79404258728, 19395.26915550232, 18823.56023788452, 19422.277688980103, 18917.722463607788, 18672.9998588562, 19138.603925704956, 19273.821115493774, 19247.634649276733, 18880.292177200317, 19316.341400146484, 19259.489059448242, 19508.963584899902, 19351.58371925354, 20065.46115875244, 19066.455364227295, 20633.30340385437, 19736.674547195435, 19371.161699295044, 19376.587867736816, 19382.011890411377, 19003.528118133545], 'forced_repetitions': 0}}\n"
     ]
    }
   ],
   "source": [
    "import sys\n",
    "sys.path.append('../')\n",
    "import LLMP as L\n",
    "import torch\n",
    "torch.torch.cuda.empty_cache()\n",
    "\n",
    "query = \"What do you see? The chart with a white background consists of multiple bars with a black border. There are two sections with a tiny \\\n",
    "         black mark (looks like a dot) inside. Can you identify where the two sections are located? If so, proceed as follows: Say the longer \\\n",
    "         section has the size of 1.0. Please estimate the ratio of length of the smaller section to the longer section. It does not have to be \\\n",
    "         prefectly precise; give me a rough estimation. The value should be between 0 and 1.0. Please respond with just the range (Sample answer: 0.3-0.4)\"\n",
    "images = [L.GPImage.figure4('type5') for i in range(55)]\n",
    "models = [\"ChatGPT\", \"LLaVA\", \"CustomLLaVA\"]\n",
    "\n",
    "results = L.Evaluator.run(images, query, models)\n",
    "print(results)"
   ]
  },
  {
   "cell_type": "code",
   "execution_count": 2,
   "id": "efcb0456-4fb0-4e96-b471-738dde7b4b11",
   "metadata": {},
   "outputs": [],
   "source": [
    "chatGPT_mse = results[\"ChatGPT\"][\"mse\"]\n",
    "chatGPT_mlae = results[\"ChatGPT\"][\"mlae\"]\n",
    "chatGPT_mean = results[\"ChatGPT\"][\"mean\"]\n",
    "chatGPT_std = results[\"ChatGPT\"][\"std\"]\n",
    "llava_mse = results[\"LLaVA\"][\"mse\"]\n",
    "llava_mlae = results[\"LLaVA\"][\"mlae\"]\n",
    "llava_mean = results[\"LLaVA\"][\"mean\"]\n",
    "llava_std = results[\"LLaVA\"][\"std\"]\n",
    "custom_llava_mse = results[\"CustomLLaVA\"][\"mse\"]\n",
    "custom_llava_mlae = results[\"CustomLLaVA\"][\"mlae\"]\n",
    "custom_llava_mean = results[\"CustomLLaVA\"][\"mean\"]\n",
    "custom_llava_std = results[\"CustomLLaVA\"][\"std\"]"
   ]
  },
  {
   "cell_type": "code",
   "execution_count": 3,
   "id": "ab0941a6-8d0c-4fcd-b53e-3dfb922fc30b",
   "metadata": {},
   "outputs": [
    {
     "name": "stdout",
     "output_type": "stream",
     "text": [
      "ChatGPT mse:  0.2904400334340108\n",
      "ChatGPT mlae: 5.654628087180334\n",
      "ChatGPT mean: 0.0\n",
      "ChatGPT std: 0.0\n",
      "LLaVA mse:    0.2904400334340108\n",
      "LLaVA mlae:   5.654628087180334\n",
      "LLaVA mean:   0.0\n",
      "LLaVA std:   0.0\n",
      "CLLaVA mse:   0.07252585546262408\n",
      "CLLaVA mlae:  4.45003934228609\n",
      "CLLaVA mean:  0.494885718666143\n",
      "CLLaVA std:  0.17726912828515876\n"
     ]
    }
   ],
   "source": [
    "print(\"ChatGPT mse: \", chatGPT_mse)\n",
    "print(\"ChatGPT mlae:\", chatGPT_mlae)\n",
    "print(\"ChatGPT mean:\", chatGPT_mean)\n",
    "print(\"ChatGPT std:\", chatGPT_std)\n",
    "print(\"LLaVA mse:   \", llava_mse)\n",
    "print(\"LLaVA mlae:  \", llava_mlae)\n",
    "print(\"LLaVA mean:  \", llava_mean)\n",
    "print(\"LLaVA std:  \", llava_std)\n",
    "print(\"CLLaVA mse:  \", custom_llava_mse)\n",
    "print(\"CLLaVA mlae: \", custom_llava_mlae)\n",
    "print(\"CLLaVA mean: \", custom_llava_mean)\n",
    "print(\"CLLaVA std: \", custom_llava_std)"
   ]
  },
  {
   "cell_type": "code",
   "execution_count": 4,
   "id": "f60ec344-4854-42ca-80fe-d46734102ecf",
   "metadata": {},
   "outputs": [],
   "source": [
    "LLaVA_parsed_answer = [[1.0, 0.3, 0.4], [1.0, 0.3, 0.4], [1.0, 0.3, 0.4], [1.0, 0.3, 0.4], [1.0, 0.3, 0.4], [1.0, 0.3, 0.4], [1.0, 0.3, 0.4], [1.0, 0.3, 0.4], [1.0, 0.3, 0.4], [1.0, 0.3, 0.4], [1.0, 0.3, 0.4], [1.0, 0.3, 0.4], [1.0, 0.3, 0.4], [1.0, 0.3, 0.4], [1.0, 0.3, 0.4], [1.0, 0.3, 0.4], [1.0, 0.3, 0.4], [1.0, 0.3, 0.4], [1.0, 0.3, 0.4], [1.0, 0.3, 0.4], [1.0, 0.3, 0.4], [1.0, 0.3, 0.4], [1.0, 0.3, 0.4], [1.0, 0.3, 0.4], [1.0, 0.3, 0.4], [1.0, 0.3, 0.4], [1.0, 0.3, 0.4], [1.0, 0.3, 0.4], [1.0, 0.3, 0.4], [1.0, 0.3, 0.4], [1.0, 0.3, 0.4], [1.0, 0.3, 0.4], [1.0, 0.3, 0.4], [1.0, 0.3, 0.4], [1.0, 0.3, 0.4], [1.0, 0.3, 0.4], [1.0, 0.3, 0.4], [1.0, 0.3, 0.4], [1.0, 0.3, 0.4], [1.0, 0.3, 0.4], [1.0, 0.3, 0.4], [1.0, 0.3, 0.4], [1.0, 0.3, 0.4], [1.0, 0.3, 0.4], [1.0, 0.3, 0.4], [1.0, 0.3, 0.4], [1.0, 0.3, 0.4], [1.0, 0.3, 0.4], [1.0, 0.3, 0.4], [1.0, 0.3, 0.4], [1.0, 0.3, 0.4], [1.0, 0.3, 0.4], [1.0, 0.3, 0.4], [1.0, 0.3, 0.4], [1.0, 0.3, 0.4]]"
   ]
  },
  {
   "cell_type": "code",
   "execution_count": 7,
   "id": "f75440c3-2378-4329-a885-653b41df6bb2",
   "metadata": {},
   "outputs": [
    {
     "data": {
      "text/plain": [
       "55"
      ]
     },
     "execution_count": 7,
     "metadata": {},
     "output_type": "execute_result"
    }
   ],
   "source": [
    "len(LLaVA_parsed_answer)"
   ]
  },
  {
   "cell_type": "code",
   "execution_count": 11,
   "id": "a008009b-ab70-4db0-a09e-4fd151864013",
   "metadata": {},
   "outputs": [
    {
     "name": "stdout",
     "output_type": "stream",
     "text": [
      "[[0.3, 0.4], [0.3, 0.4], [0.3, 0.4], [0.3, 0.4], [0.3, 0.4], [0.3, 0.4], [0.3, 0.4], [0.3, 0.4], [0.3, 0.4], [0.3, 0.4], [0.3, 0.4], [0.3, 0.4], [0.3, 0.4], [0.3, 0.4], [0.3, 0.4], [0.3, 0.4], [0.3, 0.4], [0.3, 0.4], [0.3, 0.4], [0.3, 0.4], [0.3, 0.4], [0.3, 0.4], [0.3, 0.4], [0.3, 0.4], [0.3, 0.4], [0.3, 0.4], [0.3, 0.4], [0.3, 0.4], [0.3, 0.4], [0.3, 0.4], [0.3, 0.4], [0.3, 0.4], [0.3, 0.4], [0.3, 0.4], [0.3, 0.4], [0.3, 0.4], [0.3, 0.4], [0.3, 0.4], [0.3, 0.4], [0.3, 0.4], [0.3, 0.4], [0.3, 0.4], [0.3, 0.4], [0.3, 0.4], [0.3, 0.4], [0.3, 0.4], [0.3, 0.4], [0.3, 0.4], [0.3, 0.4], [0.3, 0.4], [0.3, 0.4], [0.3, 0.4], [0.3, 0.4], [0.3, 0.4], [0.3, 0.4]]\n"
     ]
    }
   ],
   "source": [
    "correct_answer = []\n",
    "for answer in LLaVA_parsed_answer:\n",
    "    correct_answer.append([answer[1], answer[2]])\n",
    "print(correct_answer)"
   ]
  },
  {
   "cell_type": "code",
   "execution_count": 12,
   "id": "46c39e03-ad25-4859-b99d-94fe721ce30e",
   "metadata": {},
   "outputs": [],
   "source": [
    "gt = results['gt']"
   ]
  },
  {
   "cell_type": "code",
   "execution_count": 14,
   "id": "b7c06e6a-ac8d-4442-91df-97cf4c3dfe4f",
   "metadata": {},
   "outputs": [],
   "source": [
    "import numpy as np\n",
    "from sklearn.metrics import mean_squared_error\n",
    "from sklearn.metrics import mean_absolute_error\n",
    "\n",
    "# Calculate mean squared error (MSE)\n",
    "def calculate_mse(gt, answers):\n",
    "    gt_array = np.array(gt)\n",
    "    answers_array = np.array(answers)\n",
    "\n",
    "    return mean_squared_error(gt_array,answers_array)\n",
    "\n",
    "\n",
    "# Calculate midmean logistic absoulte error (MALE)\n",
    "def calculate_mlae(gt, answers):\n",
    "    gt_array = np.array(gt)\n",
    "    answers_array = np.array(answers)\n",
    "\n",
    "    mlae = np.log2(mean_absolute_error(gt_array*100, answers_array*100) + .125)\n",
    "    return mlae\n",
    "\n",
    "# Calculate mean\n",
    "def calculate_mean(answers):\n",
    "    return np.mean(answers)\n",
    "\n",
    "# Calculate std\n",
    "def calculate_std(answers):\n",
    "    return np.std(answers)"
   ]
  },
  {
   "cell_type": "code",
   "execution_count": 16,
   "id": "9bd09b4d-298c-4b4a-a5b7-66db3e6ef47d",
   "metadata": {},
   "outputs": [],
   "source": [
    "midpoints = [(sum(sublist) // 2) if len(sublist) > 1 else sublist[0] for sublist in correct_answer]"
   ]
  },
  {
   "cell_type": "code",
   "execution_count": 19,
   "id": "5f26be4f-e5d0-4255-9ce0-04769f7e03be",
   "metadata": {},
   "outputs": [],
   "source": [
    "LLaVA_mse = calculate_mse(gt, midpoints)\n",
    "LLaVA_mlae = calculate_mlae(gt, midpoints)\n",
    "LLaVA_mean = calculate_mean(midpoints)\n",
    "LLaVA_std = calculate_std(midpoints)"
   ]
  },
  {
   "cell_type": "code",
   "execution_count": 20,
   "id": "fdd37f8e-09e0-4965-8b95-0b0e8f81c398",
   "metadata": {},
   "outputs": [
    {
     "name": "stdout",
     "output_type": "stream",
     "text": [
      "LLaVA mse:    0.2904400334340108\n",
      "LLaVA mlae:   5.654628087180334\n",
      "LLaVA mean:   0.0\n",
      "LLaVA std:   0.0\n"
     ]
    }
   ],
   "source": [
    "print(\"LLaVA mse:   \", LLaVA_mse)\n",
    "print(\"LLaVA mlae:  \", LLaVA_mlae)\n",
    "print(\"LLaVA mean:  \", LLaVA_mean)\n",
    "print(\"LLaVA std:  \", LLaVA_std)"
   ]
  },
  {
   "cell_type": "code",
   "execution_count": null,
   "id": "04907a6c-a7b4-457a-8d5d-af614fdc8c3d",
   "metadata": {},
   "outputs": [],
   "source": []
  }
 ],
 "metadata": {
  "kernelspec": {
   "display_name": "Python 3 (ipykernel)",
   "language": "python",
   "name": "python3"
  },
  "language_info": {
   "codemirror_mode": {
    "name": "ipython",
    "version": 3
   },
   "file_extension": ".py",
   "mimetype": "text/x-python",
   "name": "python",
   "nbconvert_exporter": "python",
   "pygments_lexer": "ipython3",
   "version": "3.11.7"
  }
 },
 "nbformat": 4,
 "nbformat_minor": 5
}
