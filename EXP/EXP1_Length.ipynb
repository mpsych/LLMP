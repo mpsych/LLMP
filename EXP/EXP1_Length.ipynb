{
 "cells": [
  {
   "cell_type": "code",
   "execution_count": 5,
   "id": "adcf87f1-74db-4b82-8357-24fd274759ac",
   "metadata": {},
   "outputs": [
    {
     "name": "stderr",
     "output_type": "stream",
     "text": [
      "You are using a model of type llava to instantiate a model of type llava_llama. This is not supported for all configurations of models and can yield errors.\n"
     ]
    },
    {
     "data": {
      "application/vnd.jupyter.widget-view+json": {
       "model_id": "763e9bb43a514e08af44e2d5766b04cf",
       "version_major": 2,
       "version_minor": 0
      },
      "text/plain": [
       "Loading checkpoint shards:   0%|          | 0/2 [00:00<?, ?it/s]"
      ]
     },
     "metadata": {},
     "output_type": "display_data"
    },
    {
     "name": "stderr",
     "output_type": "stream",
     "text": [
      "/home/kenichi.maeda001/anaconda3/envs/LLMP/lib/python3.11/site-packages/transformers/generation/configuration_utils.py:389: UserWarning: `do_sample` is set to `False`. However, `temperature` is set to `0` -- this flag is only used in sample-based generation modes. You should set `do_sample=True` or unset `temperature`.\n",
      "  warnings.warn(\n",
      "/home/kenichi.maeda001/anaconda3/envs/LLMP/lib/python3.11/site-packages/transformers/generation/configuration_utils.py:394: UserWarning: `do_sample` is set to `False`. However, `top_p` is set to `None` -- this flag is only used in sample-based generation modes. You should set `do_sample=True` or unset `top_p`.\n",
      "  warnings.warn(\n",
      "You are using a model of type llava to instantiate a model of type llava_llama. This is not supported for all configurations of models and can yield errors.\n"
     ]
    },
    {
     "data": {
      "application/vnd.jupyter.widget-view+json": {
       "model_id": "433986a4dced42ecadd8b4bfc4b7b13d",
       "version_major": 2,
       "version_minor": 0
      },
      "text/plain": [
       "Loading checkpoint shards:   0%|          | 0/2 [00:00<?, ?it/s]"
      ]
     },
     "metadata": {},
     "output_type": "display_data"
    },
    {
     "name": "stderr",
     "output_type": "stream",
     "text": [
      "You are using a model of type llava to instantiate a model of type llava_llama. This is not supported for all configurations of models and can yield errors.\n"
     ]
    },
    {
     "data": {
      "application/vnd.jupyter.widget-view+json": {
       "model_id": "90dfc7b4335145e48537842a6a642583",
       "version_major": 2,
       "version_minor": 0
      },
      "text/plain": [
       "Loading checkpoint shards:   0%|          | 0/2 [00:00<?, ?it/s]"
      ]
     },
     "metadata": {},
     "output_type": "display_data"
    },
    {
     "name": "stderr",
     "output_type": "stream",
     "text": [
      "You are using a model of type llava to instantiate a model of type llava_llama. This is not supported for all configurations of models and can yield errors.\n"
     ]
    },
    {
     "data": {
      "application/vnd.jupyter.widget-view+json": {
       "model_id": "2b7c094b20f342899a58f22f12cca3cc",
       "version_major": 2,
       "version_minor": 0
      },
      "text/plain": [
       "Loading checkpoint shards:   0%|          | 0/2 [00:00<?, ?it/s]"
      ]
     },
     "metadata": {},
     "output_type": "display_data"
    },
    {
     "name": "stderr",
     "output_type": "stream",
     "text": [
      "You are using a model of type llava to instantiate a model of type llava_llama. This is not supported for all configurations of models and can yield errors.\n"
     ]
    },
    {
     "data": {
      "application/vnd.jupyter.widget-view+json": {
       "model_id": "155554f1276945218c3b76e9a4d19570",
       "version_major": 2,
       "version_minor": 0
      },
      "text/plain": [
       "Loading checkpoint shards:   0%|          | 0/2 [00:00<?, ?it/s]"
      ]
     },
     "metadata": {},
     "output_type": "display_data"
    },
    {
     "name": "stderr",
     "output_type": "stream",
     "text": [
      "You are using a model of type llava to instantiate a model of type llava_llama. This is not supported for all configurations of models and can yield errors.\n"
     ]
    },
    {
     "data": {
      "application/vnd.jupyter.widget-view+json": {
       "model_id": "b52e13db67ca47da86c04337552c7c4c",
       "version_major": 2,
       "version_minor": 0
      },
      "text/plain": [
       "Loading checkpoint shards:   0%|          | 0/2 [00:00<?, ?it/s]"
      ]
     },
     "metadata": {},
     "output_type": "display_data"
    },
    {
     "name": "stderr",
     "output_type": "stream",
     "text": [
      "You are using a model of type llava to instantiate a model of type llava_llama. This is not supported for all configurations of models and can yield errors.\n"
     ]
    },
    {
     "data": {
      "application/vnd.jupyter.widget-view+json": {
       "model_id": "fa20683132d7480688ffa4a517c34ba4",
       "version_major": 2,
       "version_minor": 0
      },
      "text/plain": [
       "Loading checkpoint shards:   0%|          | 0/2 [00:00<?, ?it/s]"
      ]
     },
     "metadata": {},
     "output_type": "display_data"
    },
    {
     "name": "stderr",
     "output_type": "stream",
     "text": [
      "You are using a model of type llava to instantiate a model of type llava_llama. This is not supported for all configurations of models and can yield errors.\n"
     ]
    },
    {
     "data": {
      "application/vnd.jupyter.widget-view+json": {
       "model_id": "c377f5c8692b4ad1971d3f2bc3e63e19",
       "version_major": 2,
       "version_minor": 0
      },
      "text/plain": [
       "Loading checkpoint shards:   0%|          | 0/2 [00:00<?, ?it/s]"
      ]
     },
     "metadata": {},
     "output_type": "display_data"
    },
    {
     "name": "stderr",
     "output_type": "stream",
     "text": [
      "You are using a model of type llava to instantiate a model of type llava_llama. This is not supported for all configurations of models and can yield errors.\n"
     ]
    },
    {
     "data": {
      "application/vnd.jupyter.widget-view+json": {
       "model_id": "1e345592a86b4aa4b0cd59bbdeb75f89",
       "version_major": 2,
       "version_minor": 0
      },
      "text/plain": [
       "Loading checkpoint shards:   0%|          | 0/2 [00:00<?, ?it/s]"
      ]
     },
     "metadata": {},
     "output_type": "display_data"
    },
    {
     "name": "stderr",
     "output_type": "stream",
     "text": [
      "You are using a model of type llava to instantiate a model of type llava_llama. This is not supported for all configurations of models and can yield errors.\n"
     ]
    },
    {
     "data": {
      "application/vnd.jupyter.widget-view+json": {
       "model_id": "0f1e59123e8d47518d036b26500d13c0",
       "version_major": 2,
       "version_minor": 0
      },
      "text/plain": [
       "Loading checkpoint shards:   0%|          | 0/2 [00:00<?, ?it/s]"
      ]
     },
     "metadata": {},
     "output_type": "display_data"
    },
    {
     "name": "stderr",
     "output_type": "stream",
     "text": [
      "You are using a model of type llava to instantiate a model of type llava_llama. This is not supported for all configurations of models and can yield errors.\n"
     ]
    },
    {
     "data": {
      "application/vnd.jupyter.widget-view+json": {
       "model_id": "36fd062d0daf458ebcf366163fc989b6",
       "version_major": 2,
       "version_minor": 0
      },
      "text/plain": [
       "Loading checkpoint shards:   0%|          | 0/2 [00:00<?, ?it/s]"
      ]
     },
     "metadata": {},
     "output_type": "display_data"
    },
    {
     "name": "stderr",
     "output_type": "stream",
     "text": [
      "You are using a model of type llava to instantiate a model of type llava_llama. This is not supported for all configurations of models and can yield errors.\n"
     ]
    },
    {
     "data": {
      "application/vnd.jupyter.widget-view+json": {
       "model_id": "4c6679fa76114cf0a07fd2faffffc55e",
       "version_major": 2,
       "version_minor": 0
      },
      "text/plain": [
       "Loading checkpoint shards:   0%|          | 0/2 [00:00<?, ?it/s]"
      ]
     },
     "metadata": {},
     "output_type": "display_data"
    },
    {
     "name": "stderr",
     "output_type": "stream",
     "text": [
      "You are using a model of type llava to instantiate a model of type llava_llama. This is not supported for all configurations of models and can yield errors.\n"
     ]
    },
    {
     "data": {
      "application/vnd.jupyter.widget-view+json": {
       "model_id": "f3ef21d50991427ebd669d7505c675da",
       "version_major": 2,
       "version_minor": 0
      },
      "text/plain": [
       "Loading checkpoint shards:   0%|          | 0/2 [00:00<?, ?it/s]"
      ]
     },
     "metadata": {},
     "output_type": "display_data"
    },
    {
     "name": "stderr",
     "output_type": "stream",
     "text": [
      "You are using a model of type llava to instantiate a model of type llava_llama. This is not supported for all configurations of models and can yield errors.\n"
     ]
    },
    {
     "data": {
      "application/vnd.jupyter.widget-view+json": {
       "model_id": "7932725cf17e40a09aeab3d85fd1b816",
       "version_major": 2,
       "version_minor": 0
      },
      "text/plain": [
       "Loading checkpoint shards:   0%|          | 0/2 [00:00<?, ?it/s]"
      ]
     },
     "metadata": {},
     "output_type": "display_data"
    },
    {
     "name": "stderr",
     "output_type": "stream",
     "text": [
      "You are using a model of type llava to instantiate a model of type llava_llama. This is not supported for all configurations of models and can yield errors.\n"
     ]
    },
    {
     "data": {
      "application/vnd.jupyter.widget-view+json": {
       "model_id": "df2f105f4f4144cc9020698428fcb9c2",
       "version_major": 2,
       "version_minor": 0
      },
      "text/plain": [
       "Loading checkpoint shards:   0%|          | 0/2 [00:00<?, ?it/s]"
      ]
     },
     "metadata": {},
     "output_type": "display_data"
    },
    {
     "name": "stderr",
     "output_type": "stream",
     "text": [
      "You are using a model of type llava to instantiate a model of type llava_llama. This is not supported for all configurations of models and can yield errors.\n"
     ]
    },
    {
     "data": {
      "application/vnd.jupyter.widget-view+json": {
       "model_id": "cd8377fb367944a28f26420ef56e06f5",
       "version_major": 2,
       "version_minor": 0
      },
      "text/plain": [
       "Loading checkpoint shards:   0%|          | 0/2 [00:00<?, ?it/s]"
      ]
     },
     "metadata": {},
     "output_type": "display_data"
    },
    {
     "name": "stderr",
     "output_type": "stream",
     "text": [
      "You are using a model of type llava to instantiate a model of type llava_llama. This is not supported for all configurations of models and can yield errors.\n"
     ]
    },
    {
     "data": {
      "application/vnd.jupyter.widget-view+json": {
       "model_id": "79f51fad1bc244f4bc86b6a699d34e4a",
       "version_major": 2,
       "version_minor": 0
      },
      "text/plain": [
       "Loading checkpoint shards:   0%|          | 0/2 [00:00<?, ?it/s]"
      ]
     },
     "metadata": {},
     "output_type": "display_data"
    },
    {
     "name": "stderr",
     "output_type": "stream",
     "text": [
      "You are using a model of type llava to instantiate a model of type llava_llama. This is not supported for all configurations of models and can yield errors.\n"
     ]
    },
    {
     "data": {
      "application/vnd.jupyter.widget-view+json": {
       "model_id": "a6fb4931497d4f88967511d3f8e582ad",
       "version_major": 2,
       "version_minor": 0
      },
      "text/plain": [
       "Loading checkpoint shards:   0%|          | 0/2 [00:00<?, ?it/s]"
      ]
     },
     "metadata": {},
     "output_type": "display_data"
    },
    {
     "name": "stderr",
     "output_type": "stream",
     "text": [
      "You are using a model of type llava to instantiate a model of type llava_llama. This is not supported for all configurations of models and can yield errors.\n"
     ]
    },
    {
     "data": {
      "application/vnd.jupyter.widget-view+json": {
       "model_id": "db88cbf29d0c4abdad4eb176c4465ec1",
       "version_major": 2,
       "version_minor": 0
      },
      "text/plain": [
       "Loading checkpoint shards:   0%|          | 0/2 [00:00<?, ?it/s]"
      ]
     },
     "metadata": {},
     "output_type": "display_data"
    },
    {
     "name": "stderr",
     "output_type": "stream",
     "text": [
      "You are using a model of type llava to instantiate a model of type llava_llama. This is not supported for all configurations of models and can yield errors.\n"
     ]
    },
    {
     "data": {
      "application/vnd.jupyter.widget-view+json": {
       "model_id": "f2acfd248c0940bf922c9d0fa5103689",
       "version_major": 2,
       "version_minor": 0
      },
      "text/plain": [
       "Loading checkpoint shards:   0%|          | 0/2 [00:00<?, ?it/s]"
      ]
     },
     "metadata": {},
     "output_type": "display_data"
    },
    {
     "name": "stderr",
     "output_type": "stream",
     "text": [
      "You are using a model of type llava to instantiate a model of type llava_llama. This is not supported for all configurations of models and can yield errors.\n"
     ]
    },
    {
     "data": {
      "application/vnd.jupyter.widget-view+json": {
       "model_id": "0353c3faccae4b5787d10f710793e475",
       "version_major": 2,
       "version_minor": 0
      },
      "text/plain": [
       "Loading checkpoint shards:   0%|          | 0/2 [00:00<?, ?it/s]"
      ]
     },
     "metadata": {},
     "output_type": "display_data"
    },
    {
     "name": "stderr",
     "output_type": "stream",
     "text": [
      "You are using a model of type llava to instantiate a model of type llava_llama. This is not supported for all configurations of models and can yield errors.\n"
     ]
    },
    {
     "data": {
      "application/vnd.jupyter.widget-view+json": {
       "model_id": "9f8080b4200d441d99185eef04fd245e",
       "version_major": 2,
       "version_minor": 0
      },
      "text/plain": [
       "Loading checkpoint shards:   0%|          | 0/2 [00:00<?, ?it/s]"
      ]
     },
     "metadata": {},
     "output_type": "display_data"
    },
    {
     "name": "stderr",
     "output_type": "stream",
     "text": [
      "You are using a model of type llava to instantiate a model of type llava_llama. This is not supported for all configurations of models and can yield errors.\n"
     ]
    },
    {
     "data": {
      "application/vnd.jupyter.widget-view+json": {
       "model_id": "d9681341bfb44da09551b79cc1eb893a",
       "version_major": 2,
       "version_minor": 0
      },
      "text/plain": [
       "Loading checkpoint shards:   0%|          | 0/2 [00:00<?, ?it/s]"
      ]
     },
     "metadata": {},
     "output_type": "display_data"
    },
    {
     "name": "stderr",
     "output_type": "stream",
     "text": [
      "You are using a model of type llava to instantiate a model of type llava_llama. This is not supported for all configurations of models and can yield errors.\n"
     ]
    },
    {
     "data": {
      "application/vnd.jupyter.widget-view+json": {
       "model_id": "d14e2e605679492da96076cb2d1791b1",
       "version_major": 2,
       "version_minor": 0
      },
      "text/plain": [
       "Loading checkpoint shards:   0%|          | 0/2 [00:00<?, ?it/s]"
      ]
     },
     "metadata": {},
     "output_type": "display_data"
    },
    {
     "name": "stderr",
     "output_type": "stream",
     "text": [
      "You are using a model of type llava to instantiate a model of type llava_llama. This is not supported for all configurations of models and can yield errors.\n"
     ]
    },
    {
     "data": {
      "application/vnd.jupyter.widget-view+json": {
       "model_id": "cdd152b8a6d648f083c161a89f10bc31",
       "version_major": 2,
       "version_minor": 0
      },
      "text/plain": [
       "Loading checkpoint shards:   0%|          | 0/2 [00:00<?, ?it/s]"
      ]
     },
     "metadata": {},
     "output_type": "display_data"
    },
    {
     "name": "stderr",
     "output_type": "stream",
     "text": [
      "You are using a model of type llava to instantiate a model of type llava_llama. This is not supported for all configurations of models and can yield errors.\n"
     ]
    },
    {
     "data": {
      "application/vnd.jupyter.widget-view+json": {
       "model_id": "71c2648ed43f4aaf8af20589c2f4dab5",
       "version_major": 2,
       "version_minor": 0
      },
      "text/plain": [
       "Loading checkpoint shards:   0%|          | 0/2 [00:00<?, ?it/s]"
      ]
     },
     "metadata": {},
     "output_type": "display_data"
    },
    {
     "name": "stderr",
     "output_type": "stream",
     "text": [
      "You are using a model of type llava to instantiate a model of type llava_llama. This is not supported for all configurations of models and can yield errors.\n"
     ]
    },
    {
     "data": {
      "application/vnd.jupyter.widget-view+json": {
       "model_id": "f4db546d8c104c8e9a16bf27f0217681",
       "version_major": 2,
       "version_minor": 0
      },
      "text/plain": [
       "Loading checkpoint shards:   0%|          | 0/2 [00:00<?, ?it/s]"
      ]
     },
     "metadata": {},
     "output_type": "display_data"
    },
    {
     "name": "stderr",
     "output_type": "stream",
     "text": [
      "You are using a model of type llava to instantiate a model of type llava_llama. This is not supported for all configurations of models and can yield errors.\n"
     ]
    },
    {
     "data": {
      "application/vnd.jupyter.widget-view+json": {
       "model_id": "b95d8923e9c74cfdbceb526dc8f3ec7a",
       "version_major": 2,
       "version_minor": 0
      },
      "text/plain": [
       "Loading checkpoint shards:   0%|          | 0/2 [00:00<?, ?it/s]"
      ]
     },
     "metadata": {},
     "output_type": "display_data"
    },
    {
     "name": "stderr",
     "output_type": "stream",
     "text": [
      "You are using a model of type llava to instantiate a model of type llava_llama. This is not supported for all configurations of models and can yield errors.\n"
     ]
    },
    {
     "data": {
      "application/vnd.jupyter.widget-view+json": {
       "model_id": "6f6f95672268435c9136cc69af654961",
       "version_major": 2,
       "version_minor": 0
      },
      "text/plain": [
       "Loading checkpoint shards:   0%|          | 0/2 [00:00<?, ?it/s]"
      ]
     },
     "metadata": {},
     "output_type": "display_data"
    },
    {
     "name": "stderr",
     "output_type": "stream",
     "text": [
      "You are using a model of type llava to instantiate a model of type llava_llama. This is not supported for all configurations of models and can yield errors.\n"
     ]
    },
    {
     "data": {
      "application/vnd.jupyter.widget-view+json": {
       "model_id": "4fad6ba594cd4ec58390bd6d4b77d5e8",
       "version_major": 2,
       "version_minor": 0
      },
      "text/plain": [
       "Loading checkpoint shards:   0%|          | 0/2 [00:00<?, ?it/s]"
      ]
     },
     "metadata": {},
     "output_type": "display_data"
    },
    {
     "name": "stderr",
     "output_type": "stream",
     "text": [
      "You are using a model of type llava to instantiate a model of type llava_llama. This is not supported for all configurations of models and can yield errors.\n"
     ]
    },
    {
     "data": {
      "application/vnd.jupyter.widget-view+json": {
       "model_id": "b71ef438cc4949a984df2beeab9e0e4a",
       "version_major": 2,
       "version_minor": 0
      },
      "text/plain": [
       "Loading checkpoint shards:   0%|          | 0/2 [00:00<?, ?it/s]"
      ]
     },
     "metadata": {},
     "output_type": "display_data"
    },
    {
     "name": "stderr",
     "output_type": "stream",
     "text": [
      "You are using a model of type llava to instantiate a model of type llava_llama. This is not supported for all configurations of models and can yield errors.\n"
     ]
    },
    {
     "data": {
      "application/vnd.jupyter.widget-view+json": {
       "model_id": "ac84d17709bb4391bde390b3f321aa42",
       "version_major": 2,
       "version_minor": 0
      },
      "text/plain": [
       "Loading checkpoint shards:   0%|          | 0/2 [00:00<?, ?it/s]"
      ]
     },
     "metadata": {},
     "output_type": "display_data"
    },
    {
     "name": "stderr",
     "output_type": "stream",
     "text": [
      "You are using a model of type llava to instantiate a model of type llava_llama. This is not supported for all configurations of models and can yield errors.\n"
     ]
    },
    {
     "data": {
      "application/vnd.jupyter.widget-view+json": {
       "model_id": "e125b6fc4a7d491bbf4d5f981595342f",
       "version_major": 2,
       "version_minor": 0
      },
      "text/plain": [
       "Loading checkpoint shards:   0%|          | 0/2 [00:00<?, ?it/s]"
      ]
     },
     "metadata": {},
     "output_type": "display_data"
    },
    {
     "name": "stderr",
     "output_type": "stream",
     "text": [
      "You are using a model of type llava to instantiate a model of type llava_llama. This is not supported for all configurations of models and can yield errors.\n"
     ]
    },
    {
     "data": {
      "application/vnd.jupyter.widget-view+json": {
       "model_id": "166a6ca62f2a4ccea949c1f97add30f0",
       "version_major": 2,
       "version_minor": 0
      },
      "text/plain": [
       "Loading checkpoint shards:   0%|          | 0/2 [00:00<?, ?it/s]"
      ]
     },
     "metadata": {},
     "output_type": "display_data"
    },
    {
     "name": "stderr",
     "output_type": "stream",
     "text": [
      "You are using a model of type llava to instantiate a model of type llava_llama. This is not supported for all configurations of models and can yield errors.\n"
     ]
    },
    {
     "data": {
      "application/vnd.jupyter.widget-view+json": {
       "model_id": "1b74e33d87354919add69667567584d1",
       "version_major": 2,
       "version_minor": 0
      },
      "text/plain": [
       "Loading checkpoint shards:   0%|          | 0/2 [00:00<?, ?it/s]"
      ]
     },
     "metadata": {},
     "output_type": "display_data"
    },
    {
     "name": "stderr",
     "output_type": "stream",
     "text": [
      "You are using a model of type llava to instantiate a model of type llava_llama. This is not supported for all configurations of models and can yield errors.\n"
     ]
    },
    {
     "data": {
      "application/vnd.jupyter.widget-view+json": {
       "model_id": "e5ea8fa55cd94626ba5279fb1b9b9f60",
       "version_major": 2,
       "version_minor": 0
      },
      "text/plain": [
       "Loading checkpoint shards:   0%|          | 0/2 [00:00<?, ?it/s]"
      ]
     },
     "metadata": {},
     "output_type": "display_data"
    },
    {
     "name": "stderr",
     "output_type": "stream",
     "text": [
      "You are using a model of type llava to instantiate a model of type llava_llama. This is not supported for all configurations of models and can yield errors.\n"
     ]
    },
    {
     "data": {
      "application/vnd.jupyter.widget-view+json": {
       "model_id": "08c02aceb75f47d88a449e64f57b3d34",
       "version_major": 2,
       "version_minor": 0
      },
      "text/plain": [
       "Loading checkpoint shards:   0%|          | 0/2 [00:00<?, ?it/s]"
      ]
     },
     "metadata": {},
     "output_type": "display_data"
    },
    {
     "name": "stderr",
     "output_type": "stream",
     "text": [
      "You are using a model of type llava to instantiate a model of type llava_llama. This is not supported for all configurations of models and can yield errors.\n"
     ]
    },
    {
     "data": {
      "application/vnd.jupyter.widget-view+json": {
       "model_id": "7f53aa514ae64a50acc4c30428704aaa",
       "version_major": 2,
       "version_minor": 0
      },
      "text/plain": [
       "Loading checkpoint shards:   0%|          | 0/2 [00:00<?, ?it/s]"
      ]
     },
     "metadata": {},
     "output_type": "display_data"
    },
    {
     "name": "stderr",
     "output_type": "stream",
     "text": [
      "You are using a model of type llava to instantiate a model of type llava_llama. This is not supported for all configurations of models and can yield errors.\n"
     ]
    },
    {
     "data": {
      "application/vnd.jupyter.widget-view+json": {
       "model_id": "02abbf160b9b4faf8c3da1f8d8e451ae",
       "version_major": 2,
       "version_minor": 0
      },
      "text/plain": [
       "Loading checkpoint shards:   0%|          | 0/2 [00:00<?, ?it/s]"
      ]
     },
     "metadata": {},
     "output_type": "display_data"
    },
    {
     "name": "stderr",
     "output_type": "stream",
     "text": [
      "You are using a model of type llava to instantiate a model of type llava_llama. This is not supported for all configurations of models and can yield errors.\n"
     ]
    },
    {
     "data": {
      "application/vnd.jupyter.widget-view+json": {
       "model_id": "6ad16f61ad374957aaf5e02af2c5af16",
       "version_major": 2,
       "version_minor": 0
      },
      "text/plain": [
       "Loading checkpoint shards:   0%|          | 0/2 [00:00<?, ?it/s]"
      ]
     },
     "metadata": {},
     "output_type": "display_data"
    },
    {
     "name": "stderr",
     "output_type": "stream",
     "text": [
      "You are using a model of type llava to instantiate a model of type llava_llama. This is not supported for all configurations of models and can yield errors.\n"
     ]
    },
    {
     "data": {
      "application/vnd.jupyter.widget-view+json": {
       "model_id": "65c10c983eb642aca4846832fd6fbcc2",
       "version_major": 2,
       "version_minor": 0
      },
      "text/plain": [
       "Loading checkpoint shards:   0%|          | 0/2 [00:00<?, ?it/s]"
      ]
     },
     "metadata": {},
     "output_type": "display_data"
    },
    {
     "name": "stderr",
     "output_type": "stream",
     "text": [
      "You are using a model of type llava to instantiate a model of type llava_llama. This is not supported for all configurations of models and can yield errors.\n"
     ]
    },
    {
     "data": {
      "application/vnd.jupyter.widget-view+json": {
       "model_id": "4f730382f88b49a884c736a729951835",
       "version_major": 2,
       "version_minor": 0
      },
      "text/plain": [
       "Loading checkpoint shards:   0%|          | 0/2 [00:00<?, ?it/s]"
      ]
     },
     "metadata": {},
     "output_type": "display_data"
    },
    {
     "name": "stderr",
     "output_type": "stream",
     "text": [
      "You are using a model of type llava to instantiate a model of type llava_llama. This is not supported for all configurations of models and can yield errors.\n"
     ]
    },
    {
     "data": {
      "application/vnd.jupyter.widget-view+json": {
       "model_id": "1bfe5e6854ce4476a12e9fc5918a1129",
       "version_major": 2,
       "version_minor": 0
      },
      "text/plain": [
       "Loading checkpoint shards:   0%|          | 0/2 [00:00<?, ?it/s]"
      ]
     },
     "metadata": {},
     "output_type": "display_data"
    },
    {
     "name": "stderr",
     "output_type": "stream",
     "text": [
      "You are using a model of type llava to instantiate a model of type llava_llama. This is not supported for all configurations of models and can yield errors.\n"
     ]
    },
    {
     "data": {
      "application/vnd.jupyter.widget-view+json": {
       "model_id": "15257edb81d34ed9b1d96695c231b09c",
       "version_major": 2,
       "version_minor": 0
      },
      "text/plain": [
       "Loading checkpoint shards:   0%|          | 0/2 [00:00<?, ?it/s]"
      ]
     },
     "metadata": {},
     "output_type": "display_data"
    },
    {
     "name": "stderr",
     "output_type": "stream",
     "text": [
      "You are using a model of type llava to instantiate a model of type llava_llama. This is not supported for all configurations of models and can yield errors.\n"
     ]
    },
    {
     "data": {
      "application/vnd.jupyter.widget-view+json": {
       "model_id": "586c1091b0a34cf28bab9adf16137efe",
       "version_major": 2,
       "version_minor": 0
      },
      "text/plain": [
       "Loading checkpoint shards:   0%|          | 0/2 [00:00<?, ?it/s]"
      ]
     },
     "metadata": {},
     "output_type": "display_data"
    },
    {
     "name": "stderr",
     "output_type": "stream",
     "text": [
      "You are using a model of type llava to instantiate a model of type llava_llama. This is not supported for all configurations of models and can yield errors.\n"
     ]
    },
    {
     "data": {
      "application/vnd.jupyter.widget-view+json": {
       "model_id": "bdf6bb2f81c24628a48304882a75e0c9",
       "version_major": 2,
       "version_minor": 0
      },
      "text/plain": [
       "Loading checkpoint shards:   0%|          | 0/2 [00:00<?, ?it/s]"
      ]
     },
     "metadata": {},
     "output_type": "display_data"
    },
    {
     "name": "stderr",
     "output_type": "stream",
     "text": [
      "You are using a model of type llava to instantiate a model of type llava_llama. This is not supported for all configurations of models and can yield errors.\n"
     ]
    },
    {
     "data": {
      "application/vnd.jupyter.widget-view+json": {
       "model_id": "ac8f71f5c516489bb0180de6047220b4",
       "version_major": 2,
       "version_minor": 0
      },
      "text/plain": [
       "Loading checkpoint shards:   0%|          | 0/2 [00:00<?, ?it/s]"
      ]
     },
     "metadata": {},
     "output_type": "display_data"
    },
    {
     "name": "stderr",
     "output_type": "stream",
     "text": [
      "You are using a model of type llava to instantiate a model of type llava_llama. This is not supported for all configurations of models and can yield errors.\n"
     ]
    },
    {
     "data": {
      "application/vnd.jupyter.widget-view+json": {
       "model_id": "daf41d9f572f45b7b0978329f39f04e4",
       "version_major": 2,
       "version_minor": 0
      },
      "text/plain": [
       "Loading checkpoint shards:   0%|          | 0/2 [00:00<?, ?it/s]"
      ]
     },
     "metadata": {},
     "output_type": "display_data"
    },
    {
     "name": "stderr",
     "output_type": "stream",
     "text": [
      "You are using a model of type llava to instantiate a model of type llava_llama. This is not supported for all configurations of models and can yield errors.\n"
     ]
    },
    {
     "data": {
      "application/vnd.jupyter.widget-view+json": {
       "model_id": "6b3d04192ca84aa4baede89a1d79462c",
       "version_major": 2,
       "version_minor": 0
      },
      "text/plain": [
       "Loading checkpoint shards:   0%|          | 0/2 [00:00<?, ?it/s]"
      ]
     },
     "metadata": {},
     "output_type": "display_data"
    },
    {
     "name": "stderr",
     "output_type": "stream",
     "text": [
      "You are using a model of type llava to instantiate a model of type llava_llama. This is not supported for all configurations of models and can yield errors.\n"
     ]
    },
    {
     "data": {
      "application/vnd.jupyter.widget-view+json": {
       "model_id": "cfc8484ebdd845149765a846888df3bd",
       "version_major": 2,
       "version_minor": 0
      },
      "text/plain": [
       "Loading checkpoint shards:   0%|          | 0/2 [00:00<?, ?it/s]"
      ]
     },
     "metadata": {},
     "output_type": "display_data"
    },
    {
     "name": "stderr",
     "output_type": "stream",
     "text": [
      "You are using a model of type llava to instantiate a model of type llava_llama. This is not supported for all configurations of models and can yield errors.\n"
     ]
    },
    {
     "data": {
      "application/vnd.jupyter.widget-view+json": {
       "model_id": "158572df4c2d498f8e436a82c74b1f94",
       "version_major": 2,
       "version_minor": 0
      },
      "text/plain": [
       "Loading checkpoint shards:   0%|          | 0/2 [00:00<?, ?it/s]"
      ]
     },
     "metadata": {},
     "output_type": "display_data"
    },
    {
     "name": "stderr",
     "output_type": "stream",
     "text": [
      "You are using a model of type llava to instantiate a model of type llava_llama. This is not supported for all configurations of models and can yield errors.\n"
     ]
    },
    {
     "data": {
      "application/vnd.jupyter.widget-view+json": {
       "model_id": "4ad86ac34f4f49879ff6e50e7b6aeab4",
       "version_major": 2,
       "version_minor": 0
      },
      "text/plain": [
       "Loading checkpoint shards:   0%|          | 0/2 [00:00<?, ?it/s]"
      ]
     },
     "metadata": {},
     "output_type": "display_data"
    },
    {
     "name": "stderr",
     "output_type": "stream",
     "text": [
      "You are using a model of type llava to instantiate a model of type llava_llama. This is not supported for all configurations of models and can yield errors.\n"
     ]
    },
    {
     "data": {
      "application/vnd.jupyter.widget-view+json": {
       "model_id": "02c4d2f929f94d7d9746b84fc4288a65",
       "version_major": 2,
       "version_minor": 0
      },
      "text/plain": [
       "Loading checkpoint shards:   0%|          | 0/2 [00:00<?, ?it/s]"
      ]
     },
     "metadata": {},
     "output_type": "display_data"
    },
    {
     "name": "stderr",
     "output_type": "stream",
     "text": [
      "You are using a model of type llava to instantiate a model of type llava_llama. This is not supported for all configurations of models and can yield errors.\n"
     ]
    },
    {
     "data": {
      "application/vnd.jupyter.widget-view+json": {
       "model_id": "6e500939e1c042089519eb69e248e947",
       "version_major": 2,
       "version_minor": 0
      },
      "text/plain": [
       "Loading checkpoint shards:   0%|          | 0/2 [00:00<?, ?it/s]"
      ]
     },
     "metadata": {},
     "output_type": "display_data"
    },
    {
     "name": "stderr",
     "output_type": "stream",
     "text": [
      "You are using a model of type llava to instantiate a model of type llava_llama. This is not supported for all configurations of models and can yield errors.\n"
     ]
    },
    {
     "data": {
      "application/vnd.jupyter.widget-view+json": {
       "model_id": "249150515c764d2aa849b68db2b8fe12",
       "version_major": 2,
       "version_minor": 0
      },
      "text/plain": [
       "Loading checkpoint shards:   0%|          | 0/2 [00:00<?, ?it/s]"
      ]
     },
     "metadata": {},
     "output_type": "display_data"
    },
    {
     "data": {
      "application/vnd.jupyter.widget-view+json": {
       "model_id": "9a2b036c2ee541f59a330866a114930b",
       "version_major": 2,
       "version_minor": 0
      },
      "text/plain": [
       "Loading checkpoint shards:   0%|          | 0/2 [00:00<?, ?it/s]"
      ]
     },
     "metadata": {},
     "output_type": "display_data"
    },
    {
     "data": {
      "application/vnd.jupyter.widget-view+json": {
       "model_id": "e8f0d11c8d24423c92fc16c0c80bbe7e",
       "version_major": 2,
       "version_minor": 0
      },
      "text/plain": [
       "Loading checkpoint shards:   0%|          | 0/2 [00:00<?, ?it/s]"
      ]
     },
     "metadata": {},
     "output_type": "display_data"
    },
    {
     "data": {
      "application/vnd.jupyter.widget-view+json": {
       "model_id": "676f86e5dfa446cfaf62033ee9e8a8ab",
       "version_major": 2,
       "version_minor": 0
      },
      "text/plain": [
       "Loading checkpoint shards:   0%|          | 0/2 [00:00<?, ?it/s]"
      ]
     },
     "metadata": {},
     "output_type": "display_data"
    },
    {
     "data": {
      "application/vnd.jupyter.widget-view+json": {
       "model_id": "578b81e48fe9424995fad6906bf69440",
       "version_major": 2,
       "version_minor": 0
      },
      "text/plain": [
       "Loading checkpoint shards:   0%|          | 0/2 [00:00<?, ?it/s]"
      ]
     },
     "metadata": {},
     "output_type": "display_data"
    },
    {
     "data": {
      "application/vnd.jupyter.widget-view+json": {
       "model_id": "0d78777c42be447e9372cf020547ad17",
       "version_major": 2,
       "version_minor": 0
      },
      "text/plain": [
       "Loading checkpoint shards:   0%|          | 0/2 [00:00<?, ?it/s]"
      ]
     },
     "metadata": {},
     "output_type": "display_data"
    },
    {
     "data": {
      "application/vnd.jupyter.widget-view+json": {
       "model_id": "1ac87f009d454c67ac4647cde120193e",
       "version_major": 2,
       "version_minor": 0
      },
      "text/plain": [
       "Loading checkpoint shards:   0%|          | 0/2 [00:00<?, ?it/s]"
      ]
     },
     "metadata": {},
     "output_type": "display_data"
    },
    {
     "data": {
      "application/vnd.jupyter.widget-view+json": {
       "model_id": "5d94d5bae63344baa6e7988bb6f1164b",
       "version_major": 2,
       "version_minor": 0
      },
      "text/plain": [
       "Loading checkpoint shards:   0%|          | 0/2 [00:00<?, ?it/s]"
      ]
     },
     "metadata": {},
     "output_type": "display_data"
    },
    {
     "data": {
      "application/vnd.jupyter.widget-view+json": {
       "model_id": "34d14597866c470db7bf43ad19cba481",
       "version_major": 2,
       "version_minor": 0
      },
      "text/plain": [
       "Loading checkpoint shards:   0%|          | 0/2 [00:00<?, ?it/s]"
      ]
     },
     "metadata": {},
     "output_type": "display_data"
    },
    {
     "data": {
      "application/vnd.jupyter.widget-view+json": {
       "model_id": "d64e902860fe4636a27205f7349c1f31",
       "version_major": 2,
       "version_minor": 0
      },
      "text/plain": [
       "Loading checkpoint shards:   0%|          | 0/2 [00:00<?, ?it/s]"
      ]
     },
     "metadata": {},
     "output_type": "display_data"
    },
    {
     "data": {
      "application/vnd.jupyter.widget-view+json": {
       "model_id": "97a936418f334391b8d9cb9536778343",
       "version_major": 2,
       "version_minor": 0
      },
      "text/plain": [
       "Loading checkpoint shards:   0%|          | 0/2 [00:00<?, ?it/s]"
      ]
     },
     "metadata": {},
     "output_type": "display_data"
    },
    {
     "data": {
      "application/vnd.jupyter.widget-view+json": {
       "model_id": "fb31393de3e44ef2b2fe1f48f9e2f455",
       "version_major": 2,
       "version_minor": 0
      },
      "text/plain": [
       "Loading checkpoint shards:   0%|          | 0/2 [00:00<?, ?it/s]"
      ]
     },
     "metadata": {},
     "output_type": "display_data"
    },
    {
     "data": {
      "application/vnd.jupyter.widget-view+json": {
       "model_id": "46c20fc469dc4cadb92c9eedcf38b4d6",
       "version_major": 2,
       "version_minor": 0
      },
      "text/plain": [
       "Loading checkpoint shards:   0%|          | 0/2 [00:00<?, ?it/s]"
      ]
     },
     "metadata": {},
     "output_type": "display_data"
    },
    {
     "data": {
      "application/vnd.jupyter.widget-view+json": {
       "model_id": "25011f4f58ed49cebd51a7a96f8a7561",
       "version_major": 2,
       "version_minor": 0
      },
      "text/plain": [
       "Loading checkpoint shards:   0%|          | 0/2 [00:00<?, ?it/s]"
      ]
     },
     "metadata": {},
     "output_type": "display_data"
    },
    {
     "data": {
      "application/vnd.jupyter.widget-view+json": {
       "model_id": "da089a63efb64477af85e2af980425df",
       "version_major": 2,
       "version_minor": 0
      },
      "text/plain": [
       "Loading checkpoint shards:   0%|          | 0/2 [00:00<?, ?it/s]"
      ]
     },
     "metadata": {},
     "output_type": "display_data"
    },
    {
     "data": {
      "application/vnd.jupyter.widget-view+json": {
       "model_id": "88bfa246b6334652a11394ebfc9f222e",
       "version_major": 2,
       "version_minor": 0
      },
      "text/plain": [
       "Loading checkpoint shards:   0%|          | 0/2 [00:00<?, ?it/s]"
      ]
     },
     "metadata": {},
     "output_type": "display_data"
    },
    {
     "data": {
      "application/vnd.jupyter.widget-view+json": {
       "model_id": "49f203a58c974faaa693931485bbaadd",
       "version_major": 2,
       "version_minor": 0
      },
      "text/plain": [
       "Loading checkpoint shards:   0%|          | 0/2 [00:00<?, ?it/s]"
      ]
     },
     "metadata": {},
     "output_type": "display_data"
    },
    {
     "data": {
      "application/vnd.jupyter.widget-view+json": {
       "model_id": "6742c1fd2e474148a8209b008bbbf08a",
       "version_major": 2,
       "version_minor": 0
      },
      "text/plain": [
       "Loading checkpoint shards:   0%|          | 0/2 [00:00<?, ?it/s]"
      ]
     },
     "metadata": {},
     "output_type": "display_data"
    },
    {
     "data": {
      "application/vnd.jupyter.widget-view+json": {
       "model_id": "f126be6a43894e078d386b778f0cd42a",
       "version_major": 2,
       "version_minor": 0
      },
      "text/plain": [
       "Loading checkpoint shards:   0%|          | 0/2 [00:00<?, ?it/s]"
      ]
     },
     "metadata": {},
     "output_type": "display_data"
    },
    {
     "data": {
      "application/vnd.jupyter.widget-view+json": {
       "model_id": "428b973b485348b68f40d5d046ff6cf6",
       "version_major": 2,
       "version_minor": 0
      },
      "text/plain": [
       "Loading checkpoint shards:   0%|          | 0/2 [00:00<?, ?it/s]"
      ]
     },
     "metadata": {},
     "output_type": "display_data"
    },
    {
     "data": {
      "application/vnd.jupyter.widget-view+json": {
       "model_id": "c16c43a6dff74b4ca207860691521a4c",
       "version_major": 2,
       "version_minor": 0
      },
      "text/plain": [
       "Loading checkpoint shards:   0%|          | 0/2 [00:00<?, ?it/s]"
      ]
     },
     "metadata": {},
     "output_type": "display_data"
    },
    {
     "data": {
      "application/vnd.jupyter.widget-view+json": {
       "model_id": "6762ecb358e84baaab5eb7961999ded1",
       "version_major": 2,
       "version_minor": 0
      },
      "text/plain": [
       "Loading checkpoint shards:   0%|          | 0/2 [00:00<?, ?it/s]"
      ]
     },
     "metadata": {},
     "output_type": "display_data"
    },
    {
     "data": {
      "application/vnd.jupyter.widget-view+json": {
       "model_id": "520fe8ba3ba34ac9bbb045201b5894a8",
       "version_major": 2,
       "version_minor": 0
      },
      "text/plain": [
       "Loading checkpoint shards:   0%|          | 0/2 [00:00<?, ?it/s]"
      ]
     },
     "metadata": {},
     "output_type": "display_data"
    },
    {
     "data": {
      "application/vnd.jupyter.widget-view+json": {
       "model_id": "dfb52935939144ccad895cdc53e16bc0",
       "version_major": 2,
       "version_minor": 0
      },
      "text/plain": [
       "Loading checkpoint shards:   0%|          | 0/2 [00:00<?, ?it/s]"
      ]
     },
     "metadata": {},
     "output_type": "display_data"
    },
    {
     "data": {
      "application/vnd.jupyter.widget-view+json": {
       "model_id": "33f412cb2df844d5acae70ccc32a36f6",
       "version_major": 2,
       "version_minor": 0
      },
      "text/plain": [
       "Loading checkpoint shards:   0%|          | 0/2 [00:00<?, ?it/s]"
      ]
     },
     "metadata": {},
     "output_type": "display_data"
    },
    {
     "data": {
      "application/vnd.jupyter.widget-view+json": {
       "model_id": "5f3621d394724985b0b54b05cce6e6b2",
       "version_major": 2,
       "version_minor": 0
      },
      "text/plain": [
       "Loading checkpoint shards:   0%|          | 0/2 [00:00<?, ?it/s]"
      ]
     },
     "metadata": {},
     "output_type": "display_data"
    },
    {
     "data": {
      "application/vnd.jupyter.widget-view+json": {
       "model_id": "42d5b6c3d8d04ee1873ed7334fba9aaa",
       "version_major": 2,
       "version_minor": 0
      },
      "text/plain": [
       "Loading checkpoint shards:   0%|          | 0/2 [00:00<?, ?it/s]"
      ]
     },
     "metadata": {},
     "output_type": "display_data"
    },
    {
     "data": {
      "application/vnd.jupyter.widget-view+json": {
       "model_id": "607c54f7cd0b49fbbd05ab21497d6702",
       "version_major": 2,
       "version_minor": 0
      },
      "text/plain": [
       "Loading checkpoint shards:   0%|          | 0/2 [00:00<?, ?it/s]"
      ]
     },
     "metadata": {},
     "output_type": "display_data"
    },
    {
     "data": {
      "application/vnd.jupyter.widget-view+json": {
       "model_id": "6d7d5ab3e91746c9aee12e266b940b8f",
       "version_major": 2,
       "version_minor": 0
      },
      "text/plain": [
       "Loading checkpoint shards:   0%|          | 0/2 [00:00<?, ?it/s]"
      ]
     },
     "metadata": {},
     "output_type": "display_data"
    },
    {
     "data": {
      "application/vnd.jupyter.widget-view+json": {
       "model_id": "3a0f935c614f45e2935e1fbdabcafb4e",
       "version_major": 2,
       "version_minor": 0
      },
      "text/plain": [
       "Loading checkpoint shards:   0%|          | 0/2 [00:00<?, ?it/s]"
      ]
     },
     "metadata": {},
     "output_type": "display_data"
    },
    {
     "data": {
      "application/vnd.jupyter.widget-view+json": {
       "model_id": "e7b608fad5c64e7a8feb8ebe48b7a0db",
       "version_major": 2,
       "version_minor": 0
      },
      "text/plain": [
       "Loading checkpoint shards:   0%|          | 0/2 [00:00<?, ?it/s]"
      ]
     },
     "metadata": {},
     "output_type": "display_data"
    },
    {
     "data": {
      "application/vnd.jupyter.widget-view+json": {
       "model_id": "010ea1bc507c474b885766df096d98fe",
       "version_major": 2,
       "version_minor": 0
      },
      "text/plain": [
       "Loading checkpoint shards:   0%|          | 0/2 [00:00<?, ?it/s]"
      ]
     },
     "metadata": {},
     "output_type": "display_data"
    },
    {
     "data": {
      "application/vnd.jupyter.widget-view+json": {
       "model_id": "3f45cc296afc4eef86f9ee54be070d36",
       "version_major": 2,
       "version_minor": 0
      },
      "text/plain": [
       "Loading checkpoint shards:   0%|          | 0/2 [00:00<?, ?it/s]"
      ]
     },
     "metadata": {},
     "output_type": "display_data"
    },
    {
     "data": {
      "application/vnd.jupyter.widget-view+json": {
       "model_id": "3dba1ee82e8f4549891c159782441396",
       "version_major": 2,
       "version_minor": 0
      },
      "text/plain": [
       "Loading checkpoint shards:   0%|          | 0/2 [00:00<?, ?it/s]"
      ]
     },
     "metadata": {},
     "output_type": "display_data"
    },
    {
     "data": {
      "application/vnd.jupyter.widget-view+json": {
       "model_id": "d8ae4a5cafe44265a83459749db0517e",
       "version_major": 2,
       "version_minor": 0
      },
      "text/plain": [
       "Loading checkpoint shards:   0%|          | 0/2 [00:00<?, ?it/s]"
      ]
     },
     "metadata": {},
     "output_type": "display_data"
    },
    {
     "data": {
      "application/vnd.jupyter.widget-view+json": {
       "model_id": "4723d13296124fc5a921a3656583267e",
       "version_major": 2,
       "version_minor": 0
      },
      "text/plain": [
       "Loading checkpoint shards:   0%|          | 0/2 [00:00<?, ?it/s]"
      ]
     },
     "metadata": {},
     "output_type": "display_data"
    },
    {
     "data": {
      "application/vnd.jupyter.widget-view+json": {
       "model_id": "80fd785d103e44e0af504d2f0ff28d8b",
       "version_major": 2,
       "version_minor": 0
      },
      "text/plain": [
       "Loading checkpoint shards:   0%|          | 0/2 [00:00<?, ?it/s]"
      ]
     },
     "metadata": {},
     "output_type": "display_data"
    },
    {
     "data": {
      "application/vnd.jupyter.widget-view+json": {
       "model_id": "f251832ede614be39a109e77f9db81a0",
       "version_major": 2,
       "version_minor": 0
      },
      "text/plain": [
       "Loading checkpoint shards:   0%|          | 0/2 [00:00<?, ?it/s]"
      ]
     },
     "metadata": {},
     "output_type": "display_data"
    },
    {
     "data": {
      "application/vnd.jupyter.widget-view+json": {
       "model_id": "1083f5f9c9154f798ba05c946bf2c535",
       "version_major": 2,
       "version_minor": 0
      },
      "text/plain": [
       "Loading checkpoint shards:   0%|          | 0/2 [00:00<?, ?it/s]"
      ]
     },
     "metadata": {},
     "output_type": "display_data"
    },
    {
     "data": {
      "application/vnd.jupyter.widget-view+json": {
       "model_id": "9a61371cfd61478199c70ec5ce394f51",
       "version_major": 2,
       "version_minor": 0
      },
      "text/plain": [
       "Loading checkpoint shards:   0%|          | 0/2 [00:00<?, ?it/s]"
      ]
     },
     "metadata": {},
     "output_type": "display_data"
    },
    {
     "data": {
      "application/vnd.jupyter.widget-view+json": {
       "model_id": "d3abc90d9d604a94b7a2f3d76c710151",
       "version_major": 2,
       "version_minor": 0
      },
      "text/plain": [
       "Loading checkpoint shards:   0%|          | 0/2 [00:00<?, ?it/s]"
      ]
     },
     "metadata": {},
     "output_type": "display_data"
    },
    {
     "data": {
      "application/vnd.jupyter.widget-view+json": {
       "model_id": "bdc22b84bf104ea48f5919789f6e6a35",
       "version_major": 2,
       "version_minor": 0
      },
      "text/plain": [
       "Loading checkpoint shards:   0%|          | 0/2 [00:00<?, ?it/s]"
      ]
     },
     "metadata": {},
     "output_type": "display_data"
    },
    {
     "data": {
      "application/vnd.jupyter.widget-view+json": {
       "model_id": "a6c9c1e8f0b745b59c6f2e6a9ac60f9f",
       "version_major": 2,
       "version_minor": 0
      },
      "text/plain": [
       "Loading checkpoint shards:   0%|          | 0/2 [00:00<?, ?it/s]"
      ]
     },
     "metadata": {},
     "output_type": "display_data"
    },
    {
     "data": {
      "application/vnd.jupyter.widget-view+json": {
       "model_id": "acd3a486437a46da831c883c895d025b",
       "version_major": 2,
       "version_minor": 0
      },
      "text/plain": [
       "Loading checkpoint shards:   0%|          | 0/2 [00:00<?, ?it/s]"
      ]
     },
     "metadata": {},
     "output_type": "display_data"
    },
    {
     "data": {
      "application/vnd.jupyter.widget-view+json": {
       "model_id": "3c3984be5d354c75bdb946cb92cd0fb0",
       "version_major": 2,
       "version_minor": 0
      },
      "text/plain": [
       "Loading checkpoint shards:   0%|          | 0/2 [00:00<?, ?it/s]"
      ]
     },
     "metadata": {},
     "output_type": "display_data"
    },
    {
     "data": {
      "application/vnd.jupyter.widget-view+json": {
       "model_id": "886d0a3f2e8f4ada906d7c2f55d261f8",
       "version_major": 2,
       "version_minor": 0
      },
      "text/plain": [
       "Loading checkpoint shards:   0%|          | 0/2 [00:00<?, ?it/s]"
      ]
     },
     "metadata": {},
     "output_type": "display_data"
    },
    {
     "data": {
      "application/vnd.jupyter.widget-view+json": {
       "model_id": "77882a0646be4e6c9967fe82a0be8300",
       "version_major": 2,
       "version_minor": 0
      },
      "text/plain": [
       "Loading checkpoint shards:   0%|          | 0/2 [00:00<?, ?it/s]"
      ]
     },
     "metadata": {},
     "output_type": "display_data"
    },
    {
     "data": {
      "application/vnd.jupyter.widget-view+json": {
       "model_id": "9ff7c3b8f0d445d1b2976f4d3d2e1d4d",
       "version_major": 2,
       "version_minor": 0
      },
      "text/plain": [
       "Loading checkpoint shards:   0%|          | 0/2 [00:00<?, ?it/s]"
      ]
     },
     "metadata": {},
     "output_type": "display_data"
    },
    {
     "data": {
      "application/vnd.jupyter.widget-view+json": {
       "model_id": "44c46aa4a62f4d9faa026a40d5e3bc1e",
       "version_major": 2,
       "version_minor": 0
      },
      "text/plain": [
       "Loading checkpoint shards:   0%|          | 0/2 [00:00<?, ?it/s]"
      ]
     },
     "metadata": {},
     "output_type": "display_data"
    },
    {
     "data": {
      "application/vnd.jupyter.widget-view+json": {
       "model_id": "f0c13a22413e42daa194dc7ce2efc8bb",
       "version_major": 2,
       "version_minor": 0
      },
      "text/plain": [
       "Loading checkpoint shards:   0%|          | 0/2 [00:00<?, ?it/s]"
      ]
     },
     "metadata": {},
     "output_type": "display_data"
    },
    {
     "data": {
      "application/vnd.jupyter.widget-view+json": {
       "model_id": "41b747b695a64d47b44cb52c46e7ed89",
       "version_major": 2,
       "version_minor": 0
      },
      "text/plain": [
       "Loading checkpoint shards:   0%|          | 0/2 [00:00<?, ?it/s]"
      ]
     },
     "metadata": {},
     "output_type": "display_data"
    },
    {
     "data": {
      "application/vnd.jupyter.widget-view+json": {
       "model_id": "b922818bfa9840b398d413fbcc746410",
       "version_major": 2,
       "version_minor": 0
      },
      "text/plain": [
       "Loading checkpoint shards:   0%|          | 0/2 [00:00<?, ?it/s]"
      ]
     },
     "metadata": {},
     "output_type": "display_data"
    },
    {
     "data": {
      "application/vnd.jupyter.widget-view+json": {
       "model_id": "8e1cd9ead54047bea5d3ee2509dfede6",
       "version_major": 2,
       "version_minor": 0
      },
      "text/plain": [
       "Loading checkpoint shards:   0%|          | 0/2 [00:00<?, ?it/s]"
      ]
     },
     "metadata": {},
     "output_type": "display_data"
    },
    {
     "data": {
      "application/vnd.jupyter.widget-view+json": {
       "model_id": "d273acecd00e415a8b82c20c9d5bbc27",
       "version_major": 2,
       "version_minor": 0
      },
      "text/plain": [
       "Loading checkpoint shards:   0%|          | 0/2 [00:00<?, ?it/s]"
      ]
     },
     "metadata": {},
     "output_type": "display_data"
    },
    {
     "data": {
      "application/vnd.jupyter.widget-view+json": {
       "model_id": "3e94050616f44261921bcf49d3d5690a",
       "version_major": 2,
       "version_minor": 0
      },
      "text/plain": [
       "Loading checkpoint shards:   0%|          | 0/2 [00:00<?, ?it/s]"
      ]
     },
     "metadata": {},
     "output_type": "display_data"
    },
    {
     "data": {
      "application/vnd.jupyter.widget-view+json": {
       "model_id": "ed76ba2fc96040a28c19a8c57deb8db6",
       "version_major": 2,
       "version_minor": 0
      },
      "text/plain": [
       "Loading checkpoint shards:   0%|          | 0/2 [00:00<?, ?it/s]"
      ]
     },
     "metadata": {},
     "output_type": "display_data"
    }
   ],
   "source": [
    "import sys\n",
    "sys.path.append('../')\n",
    "import LLMP as L\n",
    "\n",
    "query = \"What do you see? If you see a line, can you estimate the length of it in pixels? (The image itself is 100 by 100 pixels) Please respond with a possible range not larger than 10 pixels and report just the numbers.\"\n",
    "images = [L.GPImage.figure1('length') for i in range(55)]\n",
    "models = [\"ChatGPT\", \"LLaVA\", \"CustomLLaVA\"]\n",
    "\n",
    "results = L.Evaluator.run(images, query, models)\n",
    "print(results)"
   ]
  },
  {
   "cell_type": "code",
   "execution_count": 11,
   "id": "6ce9d133-3ef2-42a5-a3ec-82a85584e0b5",
   "metadata": {},
   "outputs": [
    {
     "data": {
      "text/plain": [
       "{'gt': [57,\n",
       "  41,\n",
       "  19,\n",
       "  21,\n",
       "  45,\n",
       "  41,\n",
       "  14,\n",
       "  3,\n",
       "  2,\n",
       "  11,\n",
       "  27,\n",
       "  12,\n",
       "  15,\n",
       "  45,\n",
       "  54,\n",
       "  52,\n",
       "  4,\n",
       "  18,\n",
       "  9,\n",
       "  17,\n",
       "  45,\n",
       "  25,\n",
       "  2,\n",
       "  11,\n",
       "  10,\n",
       "  8,\n",
       "  20,\n",
       "  44,\n",
       "  5,\n",
       "  57,\n",
       "  29,\n",
       "  13,\n",
       "  24,\n",
       "  43,\n",
       "  20,\n",
       "  24,\n",
       "  58,\n",
       "  1,\n",
       "  54,\n",
       "  33,\n",
       "  55,\n",
       "  59,\n",
       "  39,\n",
       "  54,\n",
       "  24,\n",
       "  14,\n",
       "  26,\n",
       "  47,\n",
       "  44,\n",
       "  4,\n",
       "  36,\n",
       "  37,\n",
       "  24,\n",
       "  30,\n",
       "  55],\n",
       " 'ChatGPT': {'parameters': None,\n",
       "  'raw_answers': ['70-80',\n",
       "   '70-80',\n",
       "   '10-20',\n",
       "   '25-35',\n",
       "   '70-80',\n",
       "   '70-80',\n",
       "   '15-25',\n",
       "   '5-10',\n",
       "   '3-5',\n",
       "   '10-20',\n",
       "   '60-70',\n",
       "   '15-25',\n",
       "   '15-25',\n",
       "   '70-80',\n",
       "   '70-80',\n",
       "   '70-80',\n",
       "   '5-15',\n",
       "   '25-35',\n",
       "   '10, 20',\n",
       "   '20-30',\n",
       "   '70-80',\n",
       "   '30-40',\n",
       "   '3-5',\n",
       "   '15-25',\n",
       "   '10-20',\n",
       "   '15-25',\n",
       "   '30-40',\n",
       "   '70-80',\n",
       "   '15-25',\n",
       "   '70-80',\n",
       "   '30-40',\n",
       "   '30-40',\n",
       "   '25-35',\n",
       "   '70-80',\n",
       "   '30-40',\n",
       "   '20-30',\n",
       "   '70-80',\n",
       "   '0-1',\n",
       "   '70-80',\n",
       "   '70-80',\n",
       "   '70-80',\n",
       "   '70-80',\n",
       "   '70-80',\n",
       "   '70-80',\n",
       "   '30-40',\n",
       "   '20-30',\n",
       "   '30-40',\n",
       "   '70-80',\n",
       "   '70-80',\n",
       "   '7-10',\n",
       "   '70-80',\n",
       "   '70-80',\n",
       "   '30-40',\n",
       "   '70-80',\n",
       "   '70-80'],\n",
       "  'parsed_answers': [[70.0, 80.0],\n",
       "   [70.0, 80.0],\n",
       "   [10.0, 20.0],\n",
       "   [25.0, 35.0],\n",
       "   [70.0, 80.0],\n",
       "   [70.0, 80.0],\n",
       "   [15.0, 25.0],\n",
       "   [5.0, 10.0],\n",
       "   [3.0, 5.0],\n",
       "   [10.0, 20.0],\n",
       "   [60.0, 70.0],\n",
       "   [15.0, 25.0],\n",
       "   [15.0, 25.0],\n",
       "   [70.0, 80.0],\n",
       "   [70.0, 80.0],\n",
       "   [70.0, 80.0],\n",
       "   [5.0, 15.0],\n",
       "   [25.0, 35.0],\n",
       "   [20.0],\n",
       "   [20.0, 30.0],\n",
       "   [70.0, 80.0],\n",
       "   [30.0, 40.0],\n",
       "   [3.0, 5.0],\n",
       "   [15.0, 25.0],\n",
       "   [10.0, 20.0],\n",
       "   [15.0, 25.0],\n",
       "   [30.0, 40.0],\n",
       "   [70.0, 80.0],\n",
       "   [15.0, 25.0],\n",
       "   [70.0, 80.0],\n",
       "   [30.0, 40.0],\n",
       "   [30.0, 40.0],\n",
       "   [25.0, 35.0],\n",
       "   [70.0, 80.0],\n",
       "   [30.0, 40.0],\n",
       "   [20.0, 30.0],\n",
       "   [70.0, 80.0],\n",
       "   [0.0, 1.0],\n",
       "   [70.0, 80.0],\n",
       "   [70.0, 80.0],\n",
       "   [70.0, 80.0],\n",
       "   [70.0, 80.0],\n",
       "   [70.0, 80.0],\n",
       "   [70.0, 80.0],\n",
       "   [30.0, 40.0],\n",
       "   [20.0, 30.0],\n",
       "   [30.0, 40.0],\n",
       "   [70.0, 80.0],\n",
       "   [70.0, 80.0],\n",
       "   [7.0, 10.0],\n",
       "   [70.0, 80.0],\n",
       "   [70.0, 80.0],\n",
       "   [30.0, 40.0],\n",
       "   [70.0, 80.0],\n",
       "   [70.0, 80.0]],\n",
       "  'mean': 45.96363636363636,\n",
       "  'std': 27.34424562124619,\n",
       "  'mse': 450.0181818181818,\n",
       "  'mlae': 10.76497522889862,\n",
       "  'times': [1150.266408920288,\n",
       "   1076.00998878479,\n",
       "   1088.7815952301025,\n",
       "   1007.5557231903076,\n",
       "   1135.8973979949951,\n",
       "   1125.488519668579,\n",
       "   1380.7880878448486,\n",
       "   810.9891414642334,\n",
       "   28629.462003707886,\n",
       "   1049.9475002288818,\n",
       "   1366.262674331665,\n",
       "   1179.0225505828857,\n",
       "   875.9596347808838,\n",
       "   849.1001129150391,\n",
       "   805.6590557098389,\n",
       "   1071.1817741394043,\n",
       "   1237.217903137207,\n",
       "   975.2283096313477,\n",
       "   919.8181629180908,\n",
       "   813.5554790496826,\n",
       "   749.4149208068848,\n",
       "   934.9358081817627,\n",
       "   16487.220287322998,\n",
       "   845.4399108886719,\n",
       "   936.471700668335,\n",
       "   905.3106307983398,\n",
       "   4480.915307998657,\n",
       "   1524.1212844848633,\n",
       "   1193.9055919647217,\n",
       "   766.2167549133301,\n",
       "   951.9083499908447,\n",
       "   1020.3931331634521,\n",
       "   918.4298515319824,\n",
       "   901.1447429656982,\n",
       "   848.7548828125,\n",
       "   863.091230392456,\n",
       "   837.9976749420166,\n",
       "   14877.04849243164,\n",
       "   853.3191680908203,\n",
       "   2212.2416496276855,\n",
       "   926.2115955352783,\n",
       "   1622.5612163543701,\n",
       "   1891.3962841033936,\n",
       "   884.5639228820801,\n",
       "   819.7972774505615,\n",
       "   868.1161403656006,\n",
       "   2993.981122970581,\n",
       "   845.8175659179688,\n",
       "   748.0800151824951,\n",
       "   14971.407890319824,\n",
       "   957.9572677612305,\n",
       "   941.6043758392334,\n",
       "   876.4512538909912,\n",
       "   1002.2144317626953,\n",
       "   795.3424453735352],\n",
       "  'forced_repetitions': 5},\n",
       " 'LLaVA': {'parameters': None,\n",
       "  'raw_answers': ['Yes, I can estimate the length of the line. It is approximately 100 pixels long.',\n",
       "   'Yes, I can estimate the length of the line. It is approximately 10 pixels long.',\n",
       "   'Yes, I can estimate the length of the line. It is approximately 10 pixels long.',\n",
       "   'Yes, I can estimate the length of the line. It is approximately 10 pixels long.',\n",
       "   'Yes, I can estimate the length of the line. It is approximately 10 pixels long.',\n",
       "   'Yes, I can estimate the length of the line. It is approximately 10 pixels long.',\n",
       "   'Yes, I can estimate the length of the line. It is approximately 10 pixels long.',\n",
       "   'Yes, I can estimate the length of the line. It is approximately 100 pixels.',\n",
       "   'Yes, I can estimate the length of the line. It is approximately 100 pixels.',\n",
       "   'Yes, I can estimate the length of the line. It is approximately 10 pixels long.',\n",
       "   'Yes, I can estimate the length of the line. It is approximately 10 pixels long.',\n",
       "   'Yes, I can estimate the length of the line. It is approximately 10 pixels long.',\n",
       "   'Yes, I can estimate the length of the line. It is approximately 10 pixels long.',\n",
       "   'Yes, I can estimate the length of the line. It is approximately 10 pixels long.',\n",
       "   'Yes, I can estimate the length of the line. It is approximately 100 pixels long.',\n",
       "   'Yes, I can estimate the length of the line. It is approximately 100 pixels long.',\n",
       "   'Yes, I can estimate the length of the line. It is approximately 100 pixels.',\n",
       "   'Yes, I can estimate the length of the line. It is approximately 10 pixels long.',\n",
       "   'Yes, I can estimate the length of the line. It is approximately 10 pixels.',\n",
       "   'Yes, I can estimate the length of the line. It is approximately 10 pixels long.',\n",
       "   'Yes, I can estimate the length of the line. It is approximately 10 pixels long.',\n",
       "   'Yes, I can estimate the length of the line. It is approximately 10 pixels long.',\n",
       "   'Yes, I can estimate the length of the line. It is approximately 100 pixels.',\n",
       "   'Yes, I can estimate the length of the line. It is approximately 10 pixels long.',\n",
       "   'Yes, I can estimate the length of the line. It is approximately 10 pixels long.',\n",
       "   'Yes, I can estimate the length of the line. It is approximately 100 pixels long.',\n",
       "   'Yes, I can estimate the length of the line. It is approximately 10 pixels long.',\n",
       "   'Yes, I can estimate the length of the line. It is approximately 10 pixels long.',\n",
       "   'Yes, I can estimate the length of the line. It is approximately 100 pixels long.',\n",
       "   'Yes, I can estimate the length of the line. It is approximately 100 pixels long.',\n",
       "   'Yes, I can estimate the length of the line. It is approximately 10 pixels long.',\n",
       "   'Yes, I can estimate the length of the line. It is approximately 10 pixels long.',\n",
       "   'Yes, I can estimate the length of the line. It is approximately 10 pixels long.',\n",
       "   'Yes, I can estimate the length of the line. It is approximately 10 pixels long.',\n",
       "   'Yes, I can estimate the length of the line. It is approximately 10 pixels long.',\n",
       "   'Yes, I can estimate the length of the line. It is approximately 10 pixels long.',\n",
       "   'Yes, I can estimate the length of the line. It is approximately 100 pixels long.',\n",
       "   'Yes, I can estimate the length of the line. It is approximately 100 pixels.',\n",
       "   'Yes, I can estimate the length of the line. It is approximately 100 pixels long.',\n",
       "   'Yes, I can estimate the length of the line. It is approximately 10 pixels long.',\n",
       "   'Yes, I can estimate the length of the line. It is approximately 100 pixels long.',\n",
       "   'Yes, I can estimate the length of the line. It is approximately 100 pixels long.',\n",
       "   'Yes, I can estimate the length of the line. It is approximately 10 pixels long.',\n",
       "   'Yes, I can estimate the length of the line. It is approximately 100 pixels long.',\n",
       "   'Yes, I can estimate the length of the line. It is approximately 10 pixels long.',\n",
       "   'Yes, I can estimate the length of the line. It is approximately 10 pixels long.',\n",
       "   'Yes, I can estimate the length of the line. It is approximately 10 pixels long.',\n",
       "   'Yes, I can estimate the length of the line. It is approximately 10 pixels long.',\n",
       "   'Yes, I can estimate the length of the line. It is approximately 10 pixels long.',\n",
       "   'Yes, I can estimate the length of the line. It is approximately 100 pixels.',\n",
       "   'Yes, I can estimate the length of the line. It is approximately 10 pixels long.',\n",
       "   'Yes, I can estimate the length of the line. It is approximately 10 pixels long.',\n",
       "   'Yes, I can estimate the length of the line. It is approximately 10 pixels long.',\n",
       "   'Yes, I can estimate the length of the line. It is approximately 10 pixels long.',\n",
       "   'Yes, I can estimate the length of the line. It is approximately 100 pixels long.'],\n",
       "  'parsed_answers': [[100.0],\n",
       "   [10.0],\n",
       "   [10.0],\n",
       "   [10.0],\n",
       "   [10.0],\n",
       "   [10.0],\n",
       "   [10.0],\n",
       "   [100.0],\n",
       "   [100.0],\n",
       "   [10.0],\n",
       "   [10.0],\n",
       "   [10.0],\n",
       "   [10.0],\n",
       "   [10.0],\n",
       "   [100.0],\n",
       "   [100.0],\n",
       "   [100.0],\n",
       "   [10.0],\n",
       "   [10.0],\n",
       "   [10.0],\n",
       "   [10.0],\n",
       "   [10.0],\n",
       "   [100.0],\n",
       "   [10.0],\n",
       "   [10.0],\n",
       "   [100.0],\n",
       "   [10.0],\n",
       "   [10.0],\n",
       "   [100.0],\n",
       "   [100.0],\n",
       "   [10.0],\n",
       "   [10.0],\n",
       "   [10.0],\n",
       "   [10.0],\n",
       "   [10.0],\n",
       "   [10.0],\n",
       "   [100.0],\n",
       "   [100.0],\n",
       "   [100.0],\n",
       "   [10.0],\n",
       "   [100.0],\n",
       "   [100.0],\n",
       "   [10.0],\n",
       "   [100.0],\n",
       "   [10.0],\n",
       "   [10.0],\n",
       "   [10.0],\n",
       "   [10.0],\n",
       "   [10.0],\n",
       "   [100.0],\n",
       "   [10.0],\n",
       "   [10.0],\n",
       "   [10.0],\n",
       "   [10.0],\n",
       "   [100.0]],\n",
       "  'mean': 39.45454545454545,\n",
       "  'std': 42.22959676548198,\n",
       "  'mse': 2004.1636363636364,\n",
       "  'mlae': 11.711955335157793,\n",
       "  'times': [7576.566934585571,\n",
       "   7181.466341018677,\n",
       "   7167.542457580566,\n",
       "   7197.085380554199,\n",
       "   7313.223123550415,\n",
       "   7248.422622680664,\n",
       "   7430.505275726318,\n",
       "   7351.382493972778,\n",
       "   7877.000570297241,\n",
       "   7278.76877784729,\n",
       "   7233.79111289978,\n",
       "   7230.331897735596,\n",
       "   7374.000549316406,\n",
       "   7244.214773178101,\n",
       "   7226.263761520386,\n",
       "   7219.799995422363,\n",
       "   7199.5909214019775,\n",
       "   7190.28377532959,\n",
       "   7350.824594497681,\n",
       "   7179.624795913696,\n",
       "   7155.543565750122,\n",
       "   7131.5789222717285,\n",
       "   7001.128435134888,\n",
       "   7244.757175445557,\n",
       "   7422.91259765625,\n",
       "   7327.110052108765,\n",
       "   7244.784355163574,\n",
       "   7277.421474456787,\n",
       "   7426.324367523193,\n",
       "   7205.506801605225,\n",
       "   7539.399147033691,\n",
       "   7408.46586227417,\n",
       "   7903.984785079956,\n",
       "   7426.042795181274,\n",
       "   7349.86424446106,\n",
       "   7297.228574752808,\n",
       "   7468.947887420654,\n",
       "   7123.20351600647,\n",
       "   7484.344005584717,\n",
       "   7245.827198028564,\n",
       "   7334.679841995239,\n",
       "   7438.964366912842,\n",
       "   7386.868715286255,\n",
       "   7189.0575885772705,\n",
       "   7212.0208740234375,\n",
       "   7256.905555725098,\n",
       "   7415.075063705444,\n",
       "   7176.611661911011,\n",
       "   7432.369947433472,\n",
       "   7265.4407024383545,\n",
       "   7145.029544830322,\n",
       "   7619.790554046631,\n",
       "   7176.705121994019,\n",
       "   7153.980255126953,\n",
       "   7604.377269744873],\n",
       "  'forced_repetitions': 0},\n",
       " 'CustomLLaVA': {'parameters': None,\n",
       "  'raw_answers': ['59',\n",
       "   '21',\n",
       "   '31',\n",
       "   '19',\n",
       "   '55',\n",
       "   '49',\n",
       "   '36',\n",
       "   '46',\n",
       "   '11',\n",
       "   '54',\n",
       "   '57',\n",
       "   '49',\n",
       "   '13',\n",
       "   '29',\n",
       "   '17',\n",
       "   '17',\n",
       "   '49',\n",
       "   '36',\n",
       "   '21',\n",
       "   '13',\n",
       "   '19',\n",
       "   '37',\n",
       "   '26',\n",
       "   '47',\n",
       "   '16',\n",
       "   '1',\n",
       "   '13',\n",
       "   '41',\n",
       "   '13',\n",
       "   '5',\n",
       "   '31',\n",
       "   '37',\n",
       "   '58',\n",
       "   '53',\n",
       "   '49',\n",
       "   '51',\n",
       "   '57',\n",
       "   '49',\n",
       "   '51',\n",
       "   '29',\n",
       "   '51',\n",
       "   '49',\n",
       "   '17',\n",
       "   '18',\n",
       "   '25',\n",
       "   '1',\n",
       "   '31',\n",
       "   '55',\n",
       "   '51',\n",
       "   '51',\n",
       "   '18',\n",
       "   '56',\n",
       "   '59',\n",
       "   '13',\n",
       "   '43'],\n",
       "  'parsed_answers': [[59.0],\n",
       "   [21.0],\n",
       "   [31.0],\n",
       "   [19.0],\n",
       "   [55.0],\n",
       "   [49.0],\n",
       "   [36.0],\n",
       "   [46.0],\n",
       "   [11.0],\n",
       "   [54.0],\n",
       "   [57.0],\n",
       "   [49.0],\n",
       "   [13.0],\n",
       "   [29.0],\n",
       "   [17.0],\n",
       "   [17.0],\n",
       "   [49.0],\n",
       "   [36.0],\n",
       "   [21.0],\n",
       "   [13.0],\n",
       "   [19.0],\n",
       "   [37.0],\n",
       "   [26.0],\n",
       "   [47.0],\n",
       "   [16.0],\n",
       "   [1.0],\n",
       "   [13.0],\n",
       "   [41.0],\n",
       "   [13.0],\n",
       "   [5.0],\n",
       "   [31.0],\n",
       "   [37.0],\n",
       "   [58.0],\n",
       "   [53.0],\n",
       "   [49.0],\n",
       "   [51.0],\n",
       "   [57.0],\n",
       "   [49.0],\n",
       "   [51.0],\n",
       "   [29.0],\n",
       "   [51.0],\n",
       "   [49.0],\n",
       "   [17.0],\n",
       "   [18.0],\n",
       "   [25.0],\n",
       "   [1.0],\n",
       "   [31.0],\n",
       "   [55.0],\n",
       "   [51.0],\n",
       "   [51.0],\n",
       "   [18.0],\n",
       "   [56.0],\n",
       "   [59.0],\n",
       "   [13.0],\n",
       "   [43.0]],\n",
       "  'mean': 34.6,\n",
       "  'std': 17.436221442210986,\n",
       "  'mse': 558.290909090909,\n",
       "  'mlae': 10.862593333627629,\n",
       "  'times': [9007.818937301636,\n",
       "   9127.05111503601,\n",
       "   9180.165529251099,\n",
       "   9105.270862579346,\n",
       "   9688.697099685669,\n",
       "   8922.840595245361,\n",
       "   8805.722713470459,\n",
       "   8999.738931655884,\n",
       "   8883.129119873047,\n",
       "   9003.835916519165,\n",
       "   8783.053874969482,\n",
       "   8780.594110488892,\n",
       "   8901.155948638916,\n",
       "   8874.447345733643,\n",
       "   9073.012351989746,\n",
       "   8807.982206344604,\n",
       "   8932.287216186523,\n",
       "   8969.393968582153,\n",
       "   8794.398784637451,\n",
       "   9078.938722610474,\n",
       "   8905.468940734863,\n",
       "   8812.840700149536,\n",
       "   8967.071533203125,\n",
       "   8888.698816299438,\n",
       "   9129.598140716553,\n",
       "   9780.833959579468,\n",
       "   8848.254442214966,\n",
       "   9299.47829246521,\n",
       "   8844.7425365448,\n",
       "   9503.397703170776,\n",
       "   10268.91565322876,\n",
       "   9473.526000976562,\n",
       "   8989.778280258179,\n",
       "   8956.329822540283,\n",
       "   9181.894779205322,\n",
       "   8832.102060317993,\n",
       "   8905.541896820068,\n",
       "   8987.877607345581,\n",
       "   8733.35576057434,\n",
       "   9011.404514312744,\n",
       "   9208.548545837402,\n",
       "   8952.675104141235,\n",
       "   8790.097951889038,\n",
       "   9043.954849243164,\n",
       "   8903.619766235352,\n",
       "   8821.229934692383,\n",
       "   9179.048299789429,\n",
       "   8942.44933128357,\n",
       "   8982.825517654419,\n",
       "   8807.271957397461,\n",
       "   8795.315980911255,\n",
       "   8826.036214828491,\n",
       "   8784.702062606812,\n",
       "   9138.253688812256,\n",
       "   8855.524063110352],\n",
       "  'forced_repetitions': 0}}"
      ]
     },
     "metadata": {},
     "output_type": "display_data"
    }
   ],
   "source": [
    "from IPython.display import display\n",
    "display(results)"
   ]
  },
  {
   "cell_type": "code",
   "execution_count": 12,
   "id": "6afe1ef1-debc-4f4c-941f-38e0d090a4a3",
   "metadata": {},
   "outputs": [],
   "source": [
    "chatGPT_mse = results[\"ChatGPT\"][\"mse\"]\n",
    "chatGPT_mlae = results[\"ChatGPT\"][\"mlae\"]\n",
    "chatGPT_mean = results[\"ChatGPT\"][\"mean\"]\n",
    "chatGPT_std = results[\"ChatGPT\"][\"std\"]\n",
    "llava_mse = results[\"LLaVA\"][\"mse\"]\n",
    "llava_mlae = results[\"LLaVA\"][\"mlae\"]\n",
    "llava_mean = results[\"LLaVA\"][\"mean\"]\n",
    "llava_std = results[\"LLaVA\"][\"std\"]\n",
    "custom_llava_mse = results[\"CustomLLaVA\"][\"mse\"]\n",
    "custom_llava_mlae = results[\"CustomLLaVA\"][\"mlae\"]\n",
    "custom_llava_mean = results[\"CustomLLaVA\"][\"mean\"]\n",
    "custom_llava_std = results[\"CustomLLaVA\"][\"std\"]"
   ]
  },
  {
   "cell_type": "code",
   "execution_count": 15,
   "id": "853d7079-3c0f-4703-8324-82620c683aa8",
   "metadata": {},
   "outputs": [
    {
     "data": {
      "text/plain": [
       "'ChatGPT mse:  450.018182'"
      ]
     },
     "metadata": {},
     "output_type": "display_data"
    },
    {
     "data": {
      "text/plain": [
       "'ChatGPT mlae: 10.764975'"
      ]
     },
     "metadata": {},
     "output_type": "display_data"
    },
    {
     "data": {
      "text/plain": [
       "'ChatGPT mean: 45.963636'"
      ]
     },
     "metadata": {},
     "output_type": "display_data"
    },
    {
     "data": {
      "text/plain": [
       "'ChatGPT std:  27.344246'"
      ]
     },
     "metadata": {},
     "output_type": "display_data"
    },
    {
     "data": {
      "text/plain": [
       "'LLaVA mse:    2004.163636'"
      ]
     },
     "metadata": {},
     "output_type": "display_data"
    },
    {
     "data": {
      "text/plain": [
       "'LLaVA mlae:   11.711955'"
      ]
     },
     "metadata": {},
     "output_type": "display_data"
    },
    {
     "data": {
      "text/plain": [
       "'LLaVA mean:   39.454545'"
      ]
     },
     "metadata": {},
     "output_type": "display_data"
    },
    {
     "data": {
      "text/plain": [
       "'LLaVA std:    42.229597'"
      ]
     },
     "metadata": {},
     "output_type": "display_data"
    },
    {
     "data": {
      "text/plain": [
       "'CLLaVA  mse:  558.290909'"
      ]
     },
     "metadata": {},
     "output_type": "display_data"
    },
    {
     "data": {
      "text/plain": [
       "'CLLaVA  mlae: 10.862593'"
      ]
     },
     "metadata": {},
     "output_type": "display_data"
    },
    {
     "data": {
      "text/plain": [
       "'CLLaVA  mean: 34.600000'"
      ]
     },
     "metadata": {},
     "output_type": "display_data"
    },
    {
     "data": {
      "text/plain": [
       "'CLLaVA  std:  17.436221'"
      ]
     },
     "metadata": {},
     "output_type": "display_data"
    }
   ],
   "source": [
    "display(f\"ChatGPT mse:  {chatGPT_mse:f}\")\n",
    "display(f\"ChatGPT mlae: {chatGPT_mlae:f}\")\n",
    "display(f\"ChatGPT mean: {chatGPT_mean:f}\")\n",
    "display(f\"ChatGPT std:  {chatGPT_std:f}\")\n",
    "display(f\"LLaVA mse:    {llava_mse:f}\")\n",
    "display(f\"LLaVA mlae:   {llava_mlae:f}\")\n",
    "display(f\"LLaVA mean:   {llava_mean:f}\")\n",
    "display(f\"LLaVA std:    {llava_std:f}\")\n",
    "display(f\"CLLaVA  mse:  {custom_llava_mse:f}\")\n",
    "display(f\"CLLaVA  mlae: {custom_llava_mlae:f}\")\n",
    "display(f\"CLLaVA  mean: {custom_llava_mean:f}\")\n",
    "display(f\"CLLaVA  std:  {custom_llava_std:f}\")"
   ]
  },
  {
   "cell_type": "code",
   "execution_count": null,
   "id": "85e3adf3-03fd-4802-9c57-1c7325fc265b",
   "metadata": {},
   "outputs": [],
   "source": []
  }
 ],
 "metadata": {
  "kernelspec": {
   "display_name": "Python 3 (ipykernel)",
   "language": "python",
   "name": "python3"
  },
  "language_info": {
   "codemirror_mode": {
    "name": "ipython",
    "version": 3
   },
   "file_extension": ".py",
   "mimetype": "text/x-python",
   "name": "python",
   "nbconvert_exporter": "python",
   "pygments_lexer": "ipython3",
   "version": "3.11.7"
  }
 },
 "nbformat": 4,
 "nbformat_minor": 5
}
