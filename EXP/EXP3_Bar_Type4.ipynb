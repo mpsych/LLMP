{
 "cells": [
  {
   "cell_type": "code",
   "execution_count": 1,
   "id": "ce777b94-94db-4aab-a2a2-29efb4daf9c6",
   "metadata": {},
   "outputs": [
    {
     "name": "stdout",
     "output_type": "stream",
     "text": [
      "[2024-04-22 19:32:59,674] [INFO] [real_accelerator.py:191:get_accelerator] Setting ds_accelerator to cuda (auto detect)\n"
     ]
    },
    {
     "name": "stderr",
     "output_type": "stream",
     "text": [
      "You are using a model of type llava to instantiate a model of type llava_llama. This is not supported for all configurations of models and can yield errors.\n"
     ]
    },
    {
     "data": {
      "application/vnd.jupyter.widget-view+json": {
       "model_id": "3f62ca1936cf48b9b997bb06f28b5a0b",
       "version_major": 2,
       "version_minor": 0
      },
      "text/plain": [
       "Loading checkpoint shards:   0%|          | 0/2 [00:00<?, ?it/s]"
      ]
     },
     "metadata": {},
     "output_type": "display_data"
    },
    {
     "name": "stderr",
     "output_type": "stream",
     "text": [
      "/home/kenichi.maeda001/anaconda3/envs/LLMP/lib/python3.11/site-packages/transformers/generation/configuration_utils.py:389: UserWarning: `do_sample` is set to `False`. However, `temperature` is set to `0` -- this flag is only used in sample-based generation modes. You should set `do_sample=True` or unset `temperature`.\n",
      "  warnings.warn(\n",
      "/home/kenichi.maeda001/anaconda3/envs/LLMP/lib/python3.11/site-packages/transformers/generation/configuration_utils.py:394: UserWarning: `do_sample` is set to `False`. However, `top_p` is set to `None` -- this flag is only used in sample-based generation modes. You should set `do_sample=True` or unset `top_p`.\n",
      "  warnings.warn(\n",
      "You are using a model of type llava to instantiate a model of type llava_llama. This is not supported for all configurations of models and can yield errors.\n"
     ]
    },
    {
     "data": {
      "application/vnd.jupyter.widget-view+json": {
       "model_id": "3a54ba025e5246229556a4c9a6ccfa8d",
       "version_major": 2,
       "version_minor": 0
      },
      "text/plain": [
       "Loading checkpoint shards:   0%|          | 0/2 [00:00<?, ?it/s]"
      ]
     },
     "metadata": {},
     "output_type": "display_data"
    },
    {
     "name": "stderr",
     "output_type": "stream",
     "text": [
      "You are using a model of type llava to instantiate a model of type llava_llama. This is not supported for all configurations of models and can yield errors.\n"
     ]
    },
    {
     "data": {
      "application/vnd.jupyter.widget-view+json": {
       "model_id": "d690f86e92f64ae1ad3aa90d17ead433",
       "version_major": 2,
       "version_minor": 0
      },
      "text/plain": [
       "Loading checkpoint shards:   0%|          | 0/2 [00:00<?, ?it/s]"
      ]
     },
     "metadata": {},
     "output_type": "display_data"
    },
    {
     "name": "stderr",
     "output_type": "stream",
     "text": [
      "You are using a model of type llava to instantiate a model of type llava_llama. This is not supported for all configurations of models and can yield errors.\n"
     ]
    },
    {
     "data": {
      "application/vnd.jupyter.widget-view+json": {
       "model_id": "e66d888f1d5d48cfb6f7e23d0006f9c7",
       "version_major": 2,
       "version_minor": 0
      },
      "text/plain": [
       "Loading checkpoint shards:   0%|          | 0/2 [00:00<?, ?it/s]"
      ]
     },
     "metadata": {},
     "output_type": "display_data"
    },
    {
     "name": "stderr",
     "output_type": "stream",
     "text": [
      "You are using a model of type llava to instantiate a model of type llava_llama. This is not supported for all configurations of models and can yield errors.\n"
     ]
    },
    {
     "data": {
      "application/vnd.jupyter.widget-view+json": {
       "model_id": "a6511f7b3d244c5189fabb6b7cd31b6c",
       "version_major": 2,
       "version_minor": 0
      },
      "text/plain": [
       "Loading checkpoint shards:   0%|          | 0/2 [00:00<?, ?it/s]"
      ]
     },
     "metadata": {},
     "output_type": "display_data"
    },
    {
     "name": "stderr",
     "output_type": "stream",
     "text": [
      "You are using a model of type llava to instantiate a model of type llava_llama. This is not supported for all configurations of models and can yield errors.\n"
     ]
    },
    {
     "data": {
      "application/vnd.jupyter.widget-view+json": {
       "model_id": "a0da3fd57ab34c79ae80d940861e7cb4",
       "version_major": 2,
       "version_minor": 0
      },
      "text/plain": [
       "Loading checkpoint shards:   0%|          | 0/2 [00:00<?, ?it/s]"
      ]
     },
     "metadata": {},
     "output_type": "display_data"
    },
    {
     "name": "stderr",
     "output_type": "stream",
     "text": [
      "You are using a model of type llava to instantiate a model of type llava_llama. This is not supported for all configurations of models and can yield errors.\n"
     ]
    },
    {
     "data": {
      "application/vnd.jupyter.widget-view+json": {
       "model_id": "5a1a804e72e74eaaaf1069286e69ca23",
       "version_major": 2,
       "version_minor": 0
      },
      "text/plain": [
       "Loading checkpoint shards:   0%|          | 0/2 [00:00<?, ?it/s]"
      ]
     },
     "metadata": {},
     "output_type": "display_data"
    },
    {
     "name": "stderr",
     "output_type": "stream",
     "text": [
      "You are using a model of type llava to instantiate a model of type llava_llama. This is not supported for all configurations of models and can yield errors.\n"
     ]
    },
    {
     "data": {
      "application/vnd.jupyter.widget-view+json": {
       "model_id": "88873544f83146199fbca2147dddfc22",
       "version_major": 2,
       "version_minor": 0
      },
      "text/plain": [
       "Loading checkpoint shards:   0%|          | 0/2 [00:00<?, ?it/s]"
      ]
     },
     "metadata": {},
     "output_type": "display_data"
    },
    {
     "name": "stderr",
     "output_type": "stream",
     "text": [
      "You are using a model of type llava to instantiate a model of type llava_llama. This is not supported for all configurations of models and can yield errors.\n"
     ]
    },
    {
     "data": {
      "application/vnd.jupyter.widget-view+json": {
       "model_id": "45ff803494d74c6ca452e1ff81b4318d",
       "version_major": 2,
       "version_minor": 0
      },
      "text/plain": [
       "Loading checkpoint shards:   0%|          | 0/2 [00:00<?, ?it/s]"
      ]
     },
     "metadata": {},
     "output_type": "display_data"
    },
    {
     "name": "stderr",
     "output_type": "stream",
     "text": [
      "You are using a model of type llava to instantiate a model of type llava_llama. This is not supported for all configurations of models and can yield errors.\n"
     ]
    },
    {
     "data": {
      "application/vnd.jupyter.widget-view+json": {
       "model_id": "e4efba586ffc41d3b12d4730a1e35add",
       "version_major": 2,
       "version_minor": 0
      },
      "text/plain": [
       "Loading checkpoint shards:   0%|          | 0/2 [00:00<?, ?it/s]"
      ]
     },
     "metadata": {},
     "output_type": "display_data"
    },
    {
     "name": "stderr",
     "output_type": "stream",
     "text": [
      "You are using a model of type llava to instantiate a model of type llava_llama. This is not supported for all configurations of models and can yield errors.\n"
     ]
    },
    {
     "data": {
      "application/vnd.jupyter.widget-view+json": {
       "model_id": "959e74eeafcb4f90899cfc703cf04675",
       "version_major": 2,
       "version_minor": 0
      },
      "text/plain": [
       "Loading checkpoint shards:   0%|          | 0/2 [00:00<?, ?it/s]"
      ]
     },
     "metadata": {},
     "output_type": "display_data"
    },
    {
     "name": "stderr",
     "output_type": "stream",
     "text": [
      "You are using a model of type llava to instantiate a model of type llava_llama. This is not supported for all configurations of models and can yield errors.\n"
     ]
    },
    {
     "data": {
      "application/vnd.jupyter.widget-view+json": {
       "model_id": "1e3ddd8aac1f4f1e99bcceb13939c72c",
       "version_major": 2,
       "version_minor": 0
      },
      "text/plain": [
       "Loading checkpoint shards:   0%|          | 0/2 [00:00<?, ?it/s]"
      ]
     },
     "metadata": {},
     "output_type": "display_data"
    },
    {
     "name": "stderr",
     "output_type": "stream",
     "text": [
      "You are using a model of type llava to instantiate a model of type llava_llama. This is not supported for all configurations of models and can yield errors.\n"
     ]
    },
    {
     "data": {
      "application/vnd.jupyter.widget-view+json": {
       "model_id": "22a7bdbf41a24795a2bd872c84ef63b0",
       "version_major": 2,
       "version_minor": 0
      },
      "text/plain": [
       "Loading checkpoint shards:   0%|          | 0/2 [00:00<?, ?it/s]"
      ]
     },
     "metadata": {},
     "output_type": "display_data"
    },
    {
     "name": "stderr",
     "output_type": "stream",
     "text": [
      "You are using a model of type llava to instantiate a model of type llava_llama. This is not supported for all configurations of models and can yield errors.\n"
     ]
    },
    {
     "data": {
      "application/vnd.jupyter.widget-view+json": {
       "model_id": "17750aecf7bd4b63ad90c213bb596209",
       "version_major": 2,
       "version_minor": 0
      },
      "text/plain": [
       "Loading checkpoint shards:   0%|          | 0/2 [00:00<?, ?it/s]"
      ]
     },
     "metadata": {},
     "output_type": "display_data"
    },
    {
     "name": "stderr",
     "output_type": "stream",
     "text": [
      "You are using a model of type llava to instantiate a model of type llava_llama. This is not supported for all configurations of models and can yield errors.\n"
     ]
    },
    {
     "data": {
      "application/vnd.jupyter.widget-view+json": {
       "model_id": "2224de2c01584ef3bbd0321aa52889f1",
       "version_major": 2,
       "version_minor": 0
      },
      "text/plain": [
       "Loading checkpoint shards:   0%|          | 0/2 [00:00<?, ?it/s]"
      ]
     },
     "metadata": {},
     "output_type": "display_data"
    },
    {
     "name": "stderr",
     "output_type": "stream",
     "text": [
      "You are using a model of type llava to instantiate a model of type llava_llama. This is not supported for all configurations of models and can yield errors.\n"
     ]
    },
    {
     "data": {
      "application/vnd.jupyter.widget-view+json": {
       "model_id": "e359ab9e4da0451995ca21a684462406",
       "version_major": 2,
       "version_minor": 0
      },
      "text/plain": [
       "Loading checkpoint shards:   0%|          | 0/2 [00:00<?, ?it/s]"
      ]
     },
     "metadata": {},
     "output_type": "display_data"
    },
    {
     "name": "stderr",
     "output_type": "stream",
     "text": [
      "You are using a model of type llava to instantiate a model of type llava_llama. This is not supported for all configurations of models and can yield errors.\n"
     ]
    },
    {
     "data": {
      "application/vnd.jupyter.widget-view+json": {
       "model_id": "6e6ecdd350f147feb9bffded76e8af87",
       "version_major": 2,
       "version_minor": 0
      },
      "text/plain": [
       "Loading checkpoint shards:   0%|          | 0/2 [00:00<?, ?it/s]"
      ]
     },
     "metadata": {},
     "output_type": "display_data"
    },
    {
     "name": "stderr",
     "output_type": "stream",
     "text": [
      "You are using a model of type llava to instantiate a model of type llava_llama. This is not supported for all configurations of models and can yield errors.\n"
     ]
    },
    {
     "data": {
      "application/vnd.jupyter.widget-view+json": {
       "model_id": "3511547b3ba246cb94b6dfb4f8bd7c10",
       "version_major": 2,
       "version_minor": 0
      },
      "text/plain": [
       "Loading checkpoint shards:   0%|          | 0/2 [00:00<?, ?it/s]"
      ]
     },
     "metadata": {},
     "output_type": "display_data"
    },
    {
     "name": "stderr",
     "output_type": "stream",
     "text": [
      "You are using a model of type llava to instantiate a model of type llava_llama. This is not supported for all configurations of models and can yield errors.\n"
     ]
    },
    {
     "data": {
      "application/vnd.jupyter.widget-view+json": {
       "model_id": "582c708b145f4bd68260c1b6410bf0b3",
       "version_major": 2,
       "version_minor": 0
      },
      "text/plain": [
       "Loading checkpoint shards:   0%|          | 0/2 [00:00<?, ?it/s]"
      ]
     },
     "metadata": {},
     "output_type": "display_data"
    },
    {
     "name": "stderr",
     "output_type": "stream",
     "text": [
      "You are using a model of type llava to instantiate a model of type llava_llama. This is not supported for all configurations of models and can yield errors.\n"
     ]
    },
    {
     "data": {
      "application/vnd.jupyter.widget-view+json": {
       "model_id": "238ae52465df4462be481773d4820d6f",
       "version_major": 2,
       "version_minor": 0
      },
      "text/plain": [
       "Loading checkpoint shards:   0%|          | 0/2 [00:00<?, ?it/s]"
      ]
     },
     "metadata": {},
     "output_type": "display_data"
    },
    {
     "name": "stderr",
     "output_type": "stream",
     "text": [
      "You are using a model of type llava to instantiate a model of type llava_llama. This is not supported for all configurations of models and can yield errors.\n"
     ]
    },
    {
     "data": {
      "application/vnd.jupyter.widget-view+json": {
       "model_id": "a93fee223b1746e6a184186ba1cc03ad",
       "version_major": 2,
       "version_minor": 0
      },
      "text/plain": [
       "Loading checkpoint shards:   0%|          | 0/2 [00:00<?, ?it/s]"
      ]
     },
     "metadata": {},
     "output_type": "display_data"
    },
    {
     "name": "stderr",
     "output_type": "stream",
     "text": [
      "You are using a model of type llava to instantiate a model of type llava_llama. This is not supported for all configurations of models and can yield errors.\n"
     ]
    },
    {
     "data": {
      "application/vnd.jupyter.widget-view+json": {
       "model_id": "9e0662d6234e4a0495ee1fdf86792e03",
       "version_major": 2,
       "version_minor": 0
      },
      "text/plain": [
       "Loading checkpoint shards:   0%|          | 0/2 [00:00<?, ?it/s]"
      ]
     },
     "metadata": {},
     "output_type": "display_data"
    },
    {
     "name": "stderr",
     "output_type": "stream",
     "text": [
      "You are using a model of type llava to instantiate a model of type llava_llama. This is not supported for all configurations of models and can yield errors.\n"
     ]
    },
    {
     "data": {
      "application/vnd.jupyter.widget-view+json": {
       "model_id": "d092a0907ccd4746a62f02827c6088de",
       "version_major": 2,
       "version_minor": 0
      },
      "text/plain": [
       "Loading checkpoint shards:   0%|          | 0/2 [00:00<?, ?it/s]"
      ]
     },
     "metadata": {},
     "output_type": "display_data"
    },
    {
     "name": "stderr",
     "output_type": "stream",
     "text": [
      "You are using a model of type llava to instantiate a model of type llava_llama. This is not supported for all configurations of models and can yield errors.\n"
     ]
    },
    {
     "data": {
      "application/vnd.jupyter.widget-view+json": {
       "model_id": "080f50e47a3e43cfb8285c10f48f5966",
       "version_major": 2,
       "version_minor": 0
      },
      "text/plain": [
       "Loading checkpoint shards:   0%|          | 0/2 [00:00<?, ?it/s]"
      ]
     },
     "metadata": {},
     "output_type": "display_data"
    },
    {
     "name": "stderr",
     "output_type": "stream",
     "text": [
      "You are using a model of type llava to instantiate a model of type llava_llama. This is not supported for all configurations of models and can yield errors.\n"
     ]
    },
    {
     "data": {
      "application/vnd.jupyter.widget-view+json": {
       "model_id": "cf076cf315df42b1a7b7a4331743814c",
       "version_major": 2,
       "version_minor": 0
      },
      "text/plain": [
       "Loading checkpoint shards:   0%|          | 0/2 [00:00<?, ?it/s]"
      ]
     },
     "metadata": {},
     "output_type": "display_data"
    },
    {
     "name": "stderr",
     "output_type": "stream",
     "text": [
      "You are using a model of type llava to instantiate a model of type llava_llama. This is not supported for all configurations of models and can yield errors.\n"
     ]
    },
    {
     "data": {
      "application/vnd.jupyter.widget-view+json": {
       "model_id": "a54c005b6eb04157b9e848eda133112c",
       "version_major": 2,
       "version_minor": 0
      },
      "text/plain": [
       "Loading checkpoint shards:   0%|          | 0/2 [00:00<?, ?it/s]"
      ]
     },
     "metadata": {},
     "output_type": "display_data"
    },
    {
     "name": "stderr",
     "output_type": "stream",
     "text": [
      "You are using a model of type llava to instantiate a model of type llava_llama. This is not supported for all configurations of models and can yield errors.\n"
     ]
    },
    {
     "data": {
      "application/vnd.jupyter.widget-view+json": {
       "model_id": "65d6c459b4664c339ef8f9cfe293cf09",
       "version_major": 2,
       "version_minor": 0
      },
      "text/plain": [
       "Loading checkpoint shards:   0%|          | 0/2 [00:00<?, ?it/s]"
      ]
     },
     "metadata": {},
     "output_type": "display_data"
    },
    {
     "name": "stderr",
     "output_type": "stream",
     "text": [
      "You are using a model of type llava to instantiate a model of type llava_llama. This is not supported for all configurations of models and can yield errors.\n"
     ]
    },
    {
     "data": {
      "application/vnd.jupyter.widget-view+json": {
       "model_id": "7e53da6842d54e4e99ed7f871e397e01",
       "version_major": 2,
       "version_minor": 0
      },
      "text/plain": [
       "Loading checkpoint shards:   0%|          | 0/2 [00:00<?, ?it/s]"
      ]
     },
     "metadata": {},
     "output_type": "display_data"
    },
    {
     "name": "stderr",
     "output_type": "stream",
     "text": [
      "You are using a model of type llava to instantiate a model of type llava_llama. This is not supported for all configurations of models and can yield errors.\n"
     ]
    },
    {
     "data": {
      "application/vnd.jupyter.widget-view+json": {
       "model_id": "2b9794e75e6c4815b5f1f76acdb40bd0",
       "version_major": 2,
       "version_minor": 0
      },
      "text/plain": [
       "Loading checkpoint shards:   0%|          | 0/2 [00:00<?, ?it/s]"
      ]
     },
     "metadata": {},
     "output_type": "display_data"
    },
    {
     "name": "stderr",
     "output_type": "stream",
     "text": [
      "You are using a model of type llava to instantiate a model of type llava_llama. This is not supported for all configurations of models and can yield errors.\n"
     ]
    },
    {
     "data": {
      "application/vnd.jupyter.widget-view+json": {
       "model_id": "cfebf32df2f24d299c1a85a3015c8106",
       "version_major": 2,
       "version_minor": 0
      },
      "text/plain": [
       "Loading checkpoint shards:   0%|          | 0/2 [00:00<?, ?it/s]"
      ]
     },
     "metadata": {},
     "output_type": "display_data"
    },
    {
     "name": "stderr",
     "output_type": "stream",
     "text": [
      "You are using a model of type llava to instantiate a model of type llava_llama. This is not supported for all configurations of models and can yield errors.\n"
     ]
    },
    {
     "data": {
      "application/vnd.jupyter.widget-view+json": {
       "model_id": "5ce084f8b0c8420d83c02217ba1801ba",
       "version_major": 2,
       "version_minor": 0
      },
      "text/plain": [
       "Loading checkpoint shards:   0%|          | 0/2 [00:00<?, ?it/s]"
      ]
     },
     "metadata": {},
     "output_type": "display_data"
    },
    {
     "name": "stderr",
     "output_type": "stream",
     "text": [
      "You are using a model of type llava to instantiate a model of type llava_llama. This is not supported for all configurations of models and can yield errors.\n"
     ]
    },
    {
     "data": {
      "application/vnd.jupyter.widget-view+json": {
       "model_id": "34afb3a9e3544d93b13f49211095ede7",
       "version_major": 2,
       "version_minor": 0
      },
      "text/plain": [
       "Loading checkpoint shards:   0%|          | 0/2 [00:00<?, ?it/s]"
      ]
     },
     "metadata": {},
     "output_type": "display_data"
    },
    {
     "name": "stderr",
     "output_type": "stream",
     "text": [
      "You are using a model of type llava to instantiate a model of type llava_llama. This is not supported for all configurations of models and can yield errors.\n"
     ]
    },
    {
     "data": {
      "application/vnd.jupyter.widget-view+json": {
       "model_id": "31a83d8b441341a893de2f84f6852b76",
       "version_major": 2,
       "version_minor": 0
      },
      "text/plain": [
       "Loading checkpoint shards:   0%|          | 0/2 [00:00<?, ?it/s]"
      ]
     },
     "metadata": {},
     "output_type": "display_data"
    },
    {
     "name": "stderr",
     "output_type": "stream",
     "text": [
      "You are using a model of type llava to instantiate a model of type llava_llama. This is not supported for all configurations of models and can yield errors.\n"
     ]
    },
    {
     "data": {
      "application/vnd.jupyter.widget-view+json": {
       "model_id": "814aaa5de26b4fb99f7bbbb746a4d2a0",
       "version_major": 2,
       "version_minor": 0
      },
      "text/plain": [
       "Loading checkpoint shards:   0%|          | 0/2 [00:00<?, ?it/s]"
      ]
     },
     "metadata": {},
     "output_type": "display_data"
    },
    {
     "name": "stderr",
     "output_type": "stream",
     "text": [
      "You are using a model of type llava to instantiate a model of type llava_llama. This is not supported for all configurations of models and can yield errors.\n"
     ]
    },
    {
     "data": {
      "application/vnd.jupyter.widget-view+json": {
       "model_id": "d63a5ec665f245a19f7175d490b20808",
       "version_major": 2,
       "version_minor": 0
      },
      "text/plain": [
       "Loading checkpoint shards:   0%|          | 0/2 [00:00<?, ?it/s]"
      ]
     },
     "metadata": {},
     "output_type": "display_data"
    },
    {
     "name": "stderr",
     "output_type": "stream",
     "text": [
      "You are using a model of type llava to instantiate a model of type llava_llama. This is not supported for all configurations of models and can yield errors.\n"
     ]
    },
    {
     "data": {
      "application/vnd.jupyter.widget-view+json": {
       "model_id": "9b123335248c4394859ece4dd0ceed5c",
       "version_major": 2,
       "version_minor": 0
      },
      "text/plain": [
       "Loading checkpoint shards:   0%|          | 0/2 [00:00<?, ?it/s]"
      ]
     },
     "metadata": {},
     "output_type": "display_data"
    },
    {
     "name": "stderr",
     "output_type": "stream",
     "text": [
      "You are using a model of type llava to instantiate a model of type llava_llama. This is not supported for all configurations of models and can yield errors.\n"
     ]
    },
    {
     "data": {
      "application/vnd.jupyter.widget-view+json": {
       "model_id": "0ef6b9d16af94bbd883d6cd7654e1b4f",
       "version_major": 2,
       "version_minor": 0
      },
      "text/plain": [
       "Loading checkpoint shards:   0%|          | 0/2 [00:00<?, ?it/s]"
      ]
     },
     "metadata": {},
     "output_type": "display_data"
    },
    {
     "name": "stderr",
     "output_type": "stream",
     "text": [
      "You are using a model of type llava to instantiate a model of type llava_llama. This is not supported for all configurations of models and can yield errors.\n"
     ]
    },
    {
     "data": {
      "application/vnd.jupyter.widget-view+json": {
       "model_id": "7ba07b907e994242822b1c7ead572de5",
       "version_major": 2,
       "version_minor": 0
      },
      "text/plain": [
       "Loading checkpoint shards:   0%|          | 0/2 [00:00<?, ?it/s]"
      ]
     },
     "metadata": {},
     "output_type": "display_data"
    },
    {
     "name": "stderr",
     "output_type": "stream",
     "text": [
      "You are using a model of type llava to instantiate a model of type llava_llama. This is not supported for all configurations of models and can yield errors.\n"
     ]
    },
    {
     "data": {
      "application/vnd.jupyter.widget-view+json": {
       "model_id": "4e4d659065c34a949668278eafbdacd1",
       "version_major": 2,
       "version_minor": 0
      },
      "text/plain": [
       "Loading checkpoint shards:   0%|          | 0/2 [00:00<?, ?it/s]"
      ]
     },
     "metadata": {},
     "output_type": "display_data"
    },
    {
     "name": "stderr",
     "output_type": "stream",
     "text": [
      "You are using a model of type llava to instantiate a model of type llava_llama. This is not supported for all configurations of models and can yield errors.\n"
     ]
    },
    {
     "data": {
      "application/vnd.jupyter.widget-view+json": {
       "model_id": "a9380ac420524d589effeaa6a4b57b17",
       "version_major": 2,
       "version_minor": 0
      },
      "text/plain": [
       "Loading checkpoint shards:   0%|          | 0/2 [00:00<?, ?it/s]"
      ]
     },
     "metadata": {},
     "output_type": "display_data"
    },
    {
     "name": "stderr",
     "output_type": "stream",
     "text": [
      "You are using a model of type llava to instantiate a model of type llava_llama. This is not supported for all configurations of models and can yield errors.\n"
     ]
    },
    {
     "data": {
      "application/vnd.jupyter.widget-view+json": {
       "model_id": "3dc5446f83ac49b485b2d844db90bca9",
       "version_major": 2,
       "version_minor": 0
      },
      "text/plain": [
       "Loading checkpoint shards:   0%|          | 0/2 [00:00<?, ?it/s]"
      ]
     },
     "metadata": {},
     "output_type": "display_data"
    },
    {
     "name": "stderr",
     "output_type": "stream",
     "text": [
      "You are using a model of type llava to instantiate a model of type llava_llama. This is not supported for all configurations of models and can yield errors.\n"
     ]
    },
    {
     "data": {
      "application/vnd.jupyter.widget-view+json": {
       "model_id": "a0a03359ad1f41a8915a722186a81025",
       "version_major": 2,
       "version_minor": 0
      },
      "text/plain": [
       "Loading checkpoint shards:   0%|          | 0/2 [00:00<?, ?it/s]"
      ]
     },
     "metadata": {},
     "output_type": "display_data"
    },
    {
     "name": "stderr",
     "output_type": "stream",
     "text": [
      "You are using a model of type llava to instantiate a model of type llava_llama. This is not supported for all configurations of models and can yield errors.\n"
     ]
    },
    {
     "data": {
      "application/vnd.jupyter.widget-view+json": {
       "model_id": "3e4223985f314fe49c298a303ab71fdc",
       "version_major": 2,
       "version_minor": 0
      },
      "text/plain": [
       "Loading checkpoint shards:   0%|          | 0/2 [00:00<?, ?it/s]"
      ]
     },
     "metadata": {},
     "output_type": "display_data"
    },
    {
     "name": "stderr",
     "output_type": "stream",
     "text": [
      "You are using a model of type llava to instantiate a model of type llava_llama. This is not supported for all configurations of models and can yield errors.\n"
     ]
    },
    {
     "data": {
      "application/vnd.jupyter.widget-view+json": {
       "model_id": "24c21de26dd248869f4f3c715d990683",
       "version_major": 2,
       "version_minor": 0
      },
      "text/plain": [
       "Loading checkpoint shards:   0%|          | 0/2 [00:00<?, ?it/s]"
      ]
     },
     "metadata": {},
     "output_type": "display_data"
    },
    {
     "name": "stderr",
     "output_type": "stream",
     "text": [
      "You are using a model of type llava to instantiate a model of type llava_llama. This is not supported for all configurations of models and can yield errors.\n"
     ]
    },
    {
     "data": {
      "application/vnd.jupyter.widget-view+json": {
       "model_id": "f34f3084090441e2af3ac7b310b41cbc",
       "version_major": 2,
       "version_minor": 0
      },
      "text/plain": [
       "Loading checkpoint shards:   0%|          | 0/2 [00:00<?, ?it/s]"
      ]
     },
     "metadata": {},
     "output_type": "display_data"
    },
    {
     "name": "stderr",
     "output_type": "stream",
     "text": [
      "You are using a model of type llava to instantiate a model of type llava_llama. This is not supported for all configurations of models and can yield errors.\n"
     ]
    },
    {
     "data": {
      "application/vnd.jupyter.widget-view+json": {
       "model_id": "aacc2e665a1249439821bdd057945c91",
       "version_major": 2,
       "version_minor": 0
      },
      "text/plain": [
       "Loading checkpoint shards:   0%|          | 0/2 [00:00<?, ?it/s]"
      ]
     },
     "metadata": {},
     "output_type": "display_data"
    },
    {
     "name": "stderr",
     "output_type": "stream",
     "text": [
      "You are using a model of type llava to instantiate a model of type llava_llama. This is not supported for all configurations of models and can yield errors.\n"
     ]
    },
    {
     "data": {
      "application/vnd.jupyter.widget-view+json": {
       "model_id": "4c3c99ebacd445f9a548e85014cb3007",
       "version_major": 2,
       "version_minor": 0
      },
      "text/plain": [
       "Loading checkpoint shards:   0%|          | 0/2 [00:00<?, ?it/s]"
      ]
     },
     "metadata": {},
     "output_type": "display_data"
    },
    {
     "name": "stderr",
     "output_type": "stream",
     "text": [
      "You are using a model of type llava to instantiate a model of type llava_llama. This is not supported for all configurations of models and can yield errors.\n"
     ]
    },
    {
     "data": {
      "application/vnd.jupyter.widget-view+json": {
       "model_id": "153f53441ad645f9832417b19fd33883",
       "version_major": 2,
       "version_minor": 0
      },
      "text/plain": [
       "Loading checkpoint shards:   0%|          | 0/2 [00:00<?, ?it/s]"
      ]
     },
     "metadata": {},
     "output_type": "display_data"
    },
    {
     "name": "stderr",
     "output_type": "stream",
     "text": [
      "You are using a model of type llava to instantiate a model of type llava_llama. This is not supported for all configurations of models and can yield errors.\n"
     ]
    },
    {
     "data": {
      "application/vnd.jupyter.widget-view+json": {
       "model_id": "b6ee9f0b9c10407b8f4fd1a3c1c7b216",
       "version_major": 2,
       "version_minor": 0
      },
      "text/plain": [
       "Loading checkpoint shards:   0%|          | 0/2 [00:00<?, ?it/s]"
      ]
     },
     "metadata": {},
     "output_type": "display_data"
    },
    {
     "name": "stderr",
     "output_type": "stream",
     "text": [
      "You are using a model of type llava to instantiate a model of type llava_llama. This is not supported for all configurations of models and can yield errors.\n"
     ]
    },
    {
     "data": {
      "application/vnd.jupyter.widget-view+json": {
       "model_id": "48e412eb44d54bb4b8479f8047d43cc0",
       "version_major": 2,
       "version_minor": 0
      },
      "text/plain": [
       "Loading checkpoint shards:   0%|          | 0/2 [00:00<?, ?it/s]"
      ]
     },
     "metadata": {},
     "output_type": "display_data"
    },
    {
     "name": "stderr",
     "output_type": "stream",
     "text": [
      "You are using a model of type llava to instantiate a model of type llava_llama. This is not supported for all configurations of models and can yield errors.\n"
     ]
    },
    {
     "data": {
      "application/vnd.jupyter.widget-view+json": {
       "model_id": "e5d8c03d7a5744e19be8eb6c0847554a",
       "version_major": 2,
       "version_minor": 0
      },
      "text/plain": [
       "Loading checkpoint shards:   0%|          | 0/2 [00:00<?, ?it/s]"
      ]
     },
     "metadata": {},
     "output_type": "display_data"
    },
    {
     "name": "stderr",
     "output_type": "stream",
     "text": [
      "You are using a model of type llava to instantiate a model of type llava_llama. This is not supported for all configurations of models and can yield errors.\n"
     ]
    },
    {
     "data": {
      "application/vnd.jupyter.widget-view+json": {
       "model_id": "2913db17101345b4bbeaafa1a32f36b9",
       "version_major": 2,
       "version_minor": 0
      },
      "text/plain": [
       "Loading checkpoint shards:   0%|          | 0/2 [00:00<?, ?it/s]"
      ]
     },
     "metadata": {},
     "output_type": "display_data"
    },
    {
     "name": "stderr",
     "output_type": "stream",
     "text": [
      "You are using a model of type llava to instantiate a model of type llava_llama. This is not supported for all configurations of models and can yield errors.\n"
     ]
    },
    {
     "data": {
      "application/vnd.jupyter.widget-view+json": {
       "model_id": "56c8364d73004ca0bcb97cdc96c88332",
       "version_major": 2,
       "version_minor": 0
      },
      "text/plain": [
       "Loading checkpoint shards:   0%|          | 0/2 [00:00<?, ?it/s]"
      ]
     },
     "metadata": {},
     "output_type": "display_data"
    },
    {
     "name": "stderr",
     "output_type": "stream",
     "text": [
      "You are using a model of type llava to instantiate a model of type llava_llama. This is not supported for all configurations of models and can yield errors.\n"
     ]
    },
    {
     "data": {
      "application/vnd.jupyter.widget-view+json": {
       "model_id": "67779795ebab4105ab392040e1f728d6",
       "version_major": 2,
       "version_minor": 0
      },
      "text/plain": [
       "Loading checkpoint shards:   0%|          | 0/2 [00:00<?, ?it/s]"
      ]
     },
     "metadata": {},
     "output_type": "display_data"
    },
    {
     "name": "stderr",
     "output_type": "stream",
     "text": [
      "You are using a model of type llava to instantiate a model of type llava_llama. This is not supported for all configurations of models and can yield errors.\n"
     ]
    },
    {
     "data": {
      "application/vnd.jupyter.widget-view+json": {
       "model_id": "ba984c10034741bda5309cb1c6f98a77",
       "version_major": 2,
       "version_minor": 0
      },
      "text/plain": [
       "Loading checkpoint shards:   0%|          | 0/2 [00:00<?, ?it/s]"
      ]
     },
     "metadata": {},
     "output_type": "display_data"
    },
    {
     "name": "stdout",
     "output_type": "stream",
     "text": [
      "{'gt': [0.21739130434782608, 0.391304347826087, 0.6875, 0.8333333333333334, 0.6666666666666666, 0.8461538461538461, 0.4782608695652174, 0.21739130434782608, 0.46153846153846156, 0.6842105263157895, 0.2608695652173913, 0.2631578947368421, 0.46875, 0.38461538461538464, 0.17857142857142858, 0.8461538461538461, 0.21739130434782608, 0.8125, 0.8, 0.6666666666666666, 0.17857142857142858, 0.8181818181818182, 0.39285714285714285, 0.8461538461538461, 0.6923076923076923, 0.5555555555555556, 0.2631578947368421, 0.26785714285714285, 0.8461538461538461, 0.39285714285714285, 0.5652173913043478, 0.4782608695652174, 0.5625, 0.3157894736842105, 0.45454545454545453, 0.17857142857142858, 0.6666666666666666, 0.8333333333333334, 0.45454545454545453, 0.6666666666666666, 0.5454545454545454, 0.6666666666666666, 0.6923076923076923, 0.6956521739130435, 0.2608695652173913, 0.8421052631578947, 0.375, 0.6842105263157895, 0.6875, 0.17857142857142858, 0.39285714285714285, 0.6666666666666666, 0.4782608695652174, 0.3157894736842105, 0.32608695652173914], 'ChatGPT': {'parameters': None, 'raw_answers': ['0.6-0.7', '0.2-0.3', '0.6-0.7', '0.6-0.7', '0.6-0.7', '0.6-0.7', '0.6-0.7', '0.6-0.7', '0.6-0.7', '0.6-0.7', '0.2-0.3', '0.5-0.6', '0.6-0.7', '0.6-0.7', '0.6-0.7', '0.5-0.6', '0.6-0.7', '0.6-0.7', '0.6-0.7', '0.6-0.7', '0.2-0.3', '0.6-0.7', '0.5-0.6', '0.6-0.7', '0.5-0.6', '0.6-0.7', '0.6-0.7', '0.6-0.7', '0.6-0.7', '0.2-0.3', '0.6-0.7', '0.6-0.7', '0.6-0.7', '0.6-0.7', '0.6-0.7', '0.5-0.6', '0.6-0.7', '0.6-0.7', '0.6-0.7', '0.6-0.7', '0.6-0.7', '0.6-0.7', '0.6-0.7', '0.6-0.7', '0.2-0.3', '0.5-0.6', '0.6-0.7', '0.6-0.7', '0.6-0.7', '0.2-0.3', '0.6-0.7', '0.6-0.7', '0.6-0.7', '0.6-0.7', '0.2-0.3'], 'parsed_answers': [[0.6, 0.7], [0.2, 0.3], [0.6, 0.7], [0.6, 0.7], [0.6, 0.7], [0.6, 0.7], [0.6, 0.7], [0.6, 0.7], [0.6, 0.7], [0.6, 0.7], [0.2, 0.3], [0.5, 0.6], [0.6, 0.7], [0.6, 0.7], [0.6, 0.7], [0.5, 0.6], [0.6, 0.7], [0.6, 0.7], [0.6, 0.7], [0.6, 0.7], [0.2, 0.3], [0.6, 0.7], [0.5, 0.6], [0.6, 0.7], [0.5, 0.6], [0.6, 0.7], [0.6, 0.7], [0.6, 0.7], [0.6, 0.7], [0.2, 0.3], [0.6, 0.7], [0.6, 0.7], [0.6, 0.7], [0.6, 0.7], [0.6, 0.7], [0.5, 0.6], [0.6, 0.7], [0.6, 0.7], [0.6, 0.7], [0.6, 0.7], [0.6, 0.7], [0.6, 0.7], [0.6, 0.7], [0.6, 0.7], [0.2, 0.3], [0.5, 0.6], [0.6, 0.7], [0.6, 0.7], [0.6, 0.7], [0.2, 0.3], [0.6, 0.7], [0.6, 0.7], [0.6, 0.7], [0.6, 0.7], [0.2, 0.3]], 'mean': 0.0, 'std': 0.0, 'mse': 0.31859358415063627, 'mlae': 5.70491852996711, 'times': [1264.5328044891357, 1442.7144527435303, 1379.0779113769531, 1014.9295330047607, 1623.727560043335, 1105.7920455932617, 1518.301248550415, 1138.9143466949463, 3462.001085281372, 1721.3900089263916, 1127.0971298217773, 1857.276439666748, 9360.976934432983, 1112.504243850708, 14967.16833114624, 1008.9201927185059, 954.3251991271973, 1137.0201110839844, 1155.6081771850586, 966.1269187927246, 1283.1149101257324, 1577.6457786560059, 1448.0359554290771, 1187.849521636963, 1597.6982116699219, 983.5407733917236, 978.5916805267334, 1258.760929107666, 1642.984390258789, 1173.837661743164, 1030.799150466919, 985.360860824585, 1294.0988540649414, 1068.091869354248, 1056.645154953003, 1026.5204906463623, 1159.9018573760986, 1186.051368713379, 1237.1881008148193, 1041.9797897338867, 4267.943382263184, 1467.1862125396729, 1191.371202468872, 2642.072916030884, 1314.9259090423584, 1261.993169784546, 1837.374210357666, 1091.1073684692383, 1636.0735893249512, 1410.8591079711914, 15263.57102394104, 1156.9623947143555, 951.4048099517822, 14365.572929382324, 1140.4449939727783], 'forced_repetitions': 3}, 'LLaVA': {'parameters': None, 'raw_answers': ['Yes, I can identify the two sections. The longer section has the size of 1.0, and the smaller section is approximately 0.3-0.4 in length.', 'Yes, I can identify the two sections. The longer section has the size of 1.0, and the smaller section is approximately 0.3-0.4 in length.', 'Yes, I can identify the two sections. The longer section has the size of 1.0, and the smaller section is approximately 0.3-0.4 in length.', 'Yes, I can identify the two sections. The longer section has the size of 1.0, and the smaller section is approximately 0.3-0.4 in length.', 'Yes, I can identify the two sections. The longer section has the size of 1.0, and the smaller section is approximately 0.3-0.4 in length.', 'Yes, I can identify the two sections. The longer section has the size of 1.0, and the smaller section is approximately 0.3-0.4 in length.', 'Yes, I can identify the two sections. The longer section has the size of 1.0, and the smaller section is approximately 0.3-0.4 in length.', 'Yes, I can identify the two sections. The longer section has the size of 1.0, and the smaller section is approximately 0.3-0.4 in length.', 'Yes, I can identify the two sections. The longer section has the size of 1.0, and the smaller section is approximately 0.3-0.4 in length.', 'Yes, I can identify the two sections. The longer section has the size of 1.0, and the smaller section is approximately 0.3-0.4 in length.', 'Yes, I can identify the two sections. The longer section has the size of 1.0, and the smaller section is approximately 0.3-0.4 in length.', 'Yes, I can identify the two sections. The longer section has the size of 1.0, and the smaller section is approximately 0.3-0.4 in length.', 'Yes, I can identify the two sections. The longer section has the size of 1.0, and the smaller section is approximately 0.3-0.4 in length.', 'Yes, I can identify the two sections. The longer section has the size of 1.0, and the smaller section is approximately 0.3-0.4 in length.', 'Yes, I can identify the two sections. The longer section has the size of 1.0, and the smaller section is approximately 0.3-0.4 in length.', 'Yes, I can identify the two sections. The longer section has the size of 1.0, and the smaller section is approximately 0.3-0.4 in length.', 'Yes, I can identify the two sections. The longer section has the size of 1.0, and the smaller section is approximately 0.3-0.4 in length.', 'Yes, I can identify the two sections. The longer section has the size of 1.0, and the smaller section is approximately 0.3-0.4 in length.', 'Yes, I can identify the two sections. The longer section has the size of 1.0, and the smaller section is approximately 0.3-0.4 in length.', 'Yes, I can identify the two sections. The longer section has the size of 1.0, and the smaller section is approximately 0.3-0.4 in length.', 'Yes, I can identify the two sections. The longer section has the size of 1.0, and the smaller section is approximately 0.3-0.4 in length.', 'Yes, I can identify the two sections. The longer section has the size of 1.0, and the smaller section is approximately 0.3-0.4 in length.', 'Yes, I can identify the two sections. The longer section has the size of 1.0, and the smaller section is approximately 0.3-0.4 in length.', 'Yes, I can identify the two sections. The longer section has the size of 1.0, and the smaller section is approximately 0.3-0.4 in length.', 'Yes, I can identify the two sections. The longer section has the size of 1.0, and the smaller section is approximately 0.3-0.4 in length.', 'Yes, I can identify the two sections. The longer section has the size of 1.0, and the smaller section is approximately 0.3-0.4 in length.', 'Yes, I can identify the two sections. The longer section has the size of 1.0, and the smaller section is approximately 0.3-0.4 in length.', 'Yes, I can identify the two sections. The longer section has the size of 1.0, and the smaller section is approximately 0.3-0.4 in length.', 'Yes, I can identify the two sections. The longer section has the size of 1.0, and the smaller section is approximately 0.3-0.4 in length.', 'Yes, I can identify the two sections. The longer section has the size of 1.0, and the smaller section is approximately 0.3-0.4 in length.', 'Yes, I can identify the two sections. The longer section has the size of 1.0, and the smaller section is approximately 0.3-0.4 in length.', 'Yes, I can identify the two sections. The longer section has the size of 1.0, and the smaller section is approximately 0.3-0.4 in length.', 'Yes, I can identify the two sections. The longer section has the size of 1.0, and the smaller section is approximately 0.3-0.4 in length.', 'Yes, I can identify the two sections. The longer section has the size of 1.0, and the smaller section is approximately 0.3-0.4 in length.', 'Yes, I can identify the two sections. The longer section has the size of 1.0, and the smaller section is approximately 0.3-0.4 in length.', 'Yes, I can identify the two sections. The longer section has the size of 1.0, and the smaller section is approximately 0.3-0.4 in length.', 'Yes, I can identify the two sections. The longer section has the size of 1.0, and the smaller section is approximately 0.3-0.4 in length.', 'Yes, I can identify the two sections. The longer section has the size of 1.0, and the smaller section is approximately 0.3-0.4 in length.', 'Yes, I can identify the two sections. The longer section has the size of 1.0, and the smaller section is approximately 0.3-0.4 in length.', 'Yes, I can identify the two sections. The longer section has the size of 1.0, and the smaller section is approximately 0.3-0.4 in length.', 'Yes, I can identify the two sections. The longer section has the size of 1.0, and the smaller section is approximately 0.3-0.4 in length.', 'Yes, I can identify the two sections. The longer section has the size of 1.0, and the smaller section is approximately 0.3-0.4 in length.', 'Yes, I can identify the two sections. The longer section has the size of 1.0, and the smaller section is approximately 0.3-0.4 in length.', 'Yes, I can identify the two sections. The longer section has the size of 1.0, and the smaller section is approximately 0.3-0.4 in length.', 'Yes, I can identify the two sections. The longer section has the size of 1.0, and the smaller section is approximately 0.3-0.4 in length.', 'Yes, I can identify the two sections. The longer section has the size of 1.0, and the smaller section is approximately 0.3-0.4 in length.', 'Yes, I can identify the two sections. The longer section has the size of 1.0, and the smaller section is approximately 0.3-0.4 in length.', 'Yes, I can identify the two sections. The longer section has the size of 1.0, and the smaller section is approximately 0.3-0.4 in length.', 'Yes, I can identify the two sections. The longer section has the size of 1.0, and the smaller section is approximately 0.3-0.4 in length.', 'Yes, I can identify the two sections. The longer section has the size of 1.0, and the smaller section is approximately 0.3-0.4 in length.', 'Yes, I can identify the two sections. The longer section has the size of 1.0, and the smaller section is approximately 0.3-0.4 in length.', 'Yes, I can identify the two sections. The longer section has the size of 1.0, and the smaller section is approximately 0.3-0.4 in length.', 'Yes, I can identify the two sections. The longer section has the size of 1.0, and the smaller section is approximately 0.3-0.4 in length.', 'Yes, I can identify the two sections. The longer section has the size of 1.0, and the smaller section is approximately 0.3-0.4 in length.', 'Yes, I can identify the two sections. The longer section has the size of 1.0, and the smaller section is approximately 0.3-0.4 in length.'], 'parsed_answers': [[0.3, 0.4], [0.3, 0.4], [0.3, 0.4], [0.3, 0.4], [0.3, 0.4], [0.3, 0.4], [0.3, 0.4], [0.3, 0.4], [0.3, 0.4], [0.3, 0.4], [0.3, 0.4], [0.3, 0.4], [0.3, 0.4], [0.3, 0.4], [0.3, 0.4], [0.3, 0.4], [0.3, 0.4], [0.3, 0.4], [0.3, 0.4], [0.3, 0.4], [0.3, 0.4], [0.3, 0.4], [0.3, 0.4], [0.3, 0.4], [0.3, 0.4], [0.3, 0.4], [0.3, 0.4], [0.3, 0.4], [0.3, 0.4], [0.3, 0.4], [0.3, 0.4], [0.3, 0.4], [0.3, 0.4], [0.3, 0.4], [0.3, 0.4], [0.3, 0.4], [0.3, 0.4], [0.3, 0.4], [0.3, 0.4], [0.3, 0.4], [0.3, 0.4], [0.3, 0.4], [0.3, 0.4], [0.3, 0.4], [0.3, 0.4], [0.3, 0.4], [0.3, 0.4], [0.3, 0.4], [0.3, 0.4], [0.3, 0.4], [0.3, 0.4], [0.3, 0.4], [0.3, 0.4], [0.3, 0.4], [0.3, 0.4]], 'mean': 0.0, 'std': 0.0, 'mse': 0.31859358415063627, 'mlae': 5.70491852996711, 'times': [23587.530374526978, 8031.0797691345215, 7928.619861602783, 8807.724952697754, 7449.821472167969, 7860.454559326172, 7741.340160369873, 7465.278387069702, 7936.401128768921, 7697.632312774658, 7685.921430587769, 7887.106895446777, 7643.867254257202, 7725.991487503052, 7956.600189208984, 7620.414733886719, 7685.516357421875, 7670.832395553589, 7734.88712310791, 7869.017839431763, 8031.129598617554, 7784.2090129852295, 7761.64436340332, 8130.684852600098, 7906.662702560425, 7857.515096664429, 8203.121185302734, 7668.795585632324, 8003.254652023315, 7900.156497955322, 7766.731977462769, 8139.773368835449, 7868.76916885376, 7639.792919158936, 7925.29559135437, 7669.858455657959, 7628.995418548584, 8271.657705307007, 8023.8237380981445, 7801.836252212524, 7671.1976528167725, 8275.421619415283, 7897.227048873901, 7643.298149108887, 7702.944040298462, 7657.373428344727, 7753.765821456909, 7707.967042922974, 7776.605844497681, 8006.920099258423, 7632.524490356445, 7716.953277587891, 7699.539422988892, 7939.707279205322, 7992.552280426025], 'forced_repetitions': 0}, 'CustomLLaVA': {'parameters': None, 'raw_answers': ['0.39285714285714285', '0.5769230769230769', '0.8333333333333334', '0.39473684210526316', '0.391304347826087', '0.39473684210526316', '0.3157894736842105', '0.3125', '0.8125', '0.391304347826087', '0.8125', '0.2608695652173913', '0.391304347826087', '0.375', '0.39473684210526316', '0.46153846153846156', '0.6842105263157895', '0.3125', '0.391304347826087', '0.375', '0.5652173913043478', '0.5454545454545454', '0.3157894736842105', '0.3125', '0.39285714285714285', '0.6842105263157895', '0.391304347826087', '0.46153846153846156', '0.6842105263157895', '0.3157894736842105', '0.5769230769230769', '0.8125', '0.5652173913043478', '0.3157894736842105', '0.5769230769230769', '0.6842105263157895', '0.3157894736842105', '0.391304347826087', '0.8125', '0.46153846153846156', '0.391304347826087', '0.6842105263157895', '0.2631578947368421', '0.5652173913043478', '0.3125', '0.391304347826087', '0.39473684210526316', '0.5652173913043478', '0.39473684210526316', '0.8125', '0.6842105263157895', '0.8125', '0.6923076923076923', '0.391304347826087', '0.8333333333333334'], 'parsed_answers': [[0.39285714285714285], [0.5769230769230769], [0.8333333333333334], [0.39473684210526316], [0.391304347826087], [0.39473684210526316], [0.3157894736842105], [0.3125], [0.8125], [0.391304347826087], [0.8125], [0.2608695652173913], [0.391304347826087], [0.375], [0.39473684210526316], [0.46153846153846156], [0.6842105263157895], [0.3125], [0.391304347826087], [0.375], [0.5652173913043478], [0.5454545454545454], [0.3157894736842105], [0.3125], [0.39285714285714285], [0.6842105263157895], [0.391304347826087], [0.46153846153846156], [0.6842105263157895], [0.3157894736842105], [0.5769230769230769], [0.8125], [0.5652173913043478], [0.3157894736842105], [0.5769230769230769], [0.6842105263157895], [0.3157894736842105], [0.391304347826087], [0.8125], [0.46153846153846156], [0.391304347826087], [0.6842105263157895], [0.2631578947368421], [0.5652173913043478], [0.3125], [0.391304347826087], [0.39473684210526316], [0.5652173913043478], [0.39473684210526316], [0.8125], [0.6842105263157895], [0.8125], [0.6923076923076923], [0.391304347826087], [0.8333333333333334]], 'mean': 0.5026374308722967, 'std': 0.17731035351231236, 'mse': 0.0900788914349501, 'mlae': 4.636099068687933, 'times': [20638.175010681152, 19826.984643936157, 19509.62257385254, 20043.13063621521, 19131.74271583557, 19721.086740493774, 19781.484365463257, 19411.524534225464, 19046.640157699585, 21304.694175720215, 19407.760858535767, 19920.077085494995, 20029.648065567017, 19260.752201080322, 19396.97527885437, 19662.440538406372, 19905.223608016968, 19321.033477783203, 19488.490343093872, 19600.53563117981, 19822.05629348755, 20248.81339073181, 19669.064044952393, 19219.17462348938, 19694.562196731567, 19212.78476715088, 20552.02627182007, 19434.141159057617, 19796.420574188232, 19867.217540740967, 19799.713134765625, 19310.832500457764, 19285.916090011597, 19964.162349700928, 19326.34925842285, 20113.428354263306, 19811.116695404053, 19410.969018936157, 19118.077516555786, 19802.021265029907, 19814.507007598877, 18959.33771133423, 19683.297395706177, 19591.58682823181, 19773.144245147705, 19444.70977783203, 19471.42791748047, 19848.307847976685, 19887.983798980713, 18923.27094078064, 19443.614721298218, 19279.68120574951, 19813.876390457153, 19574.424266815186, 19722.925662994385], 'forced_repetitions': 0}}\n"
     ]
    }
   ],
   "source": [
    "import sys\n",
    "sys.path.append('../')\n",
    "import LLMP as L\n",
    "import torch\n",
    "torch.torch.cuda.empty_cache()\n",
    "\n",
    "query = \"What do you see? The chart with a white background consists of multiple bars with a black border. There are two sections with a tiny \\\n",
    "         black mark (looks like a dot) inside. Can you identify where the two sections are located? If so, proceed as follows: Say the longer \\\n",
    "         section has the size of 1.0. Please estimate the ratio of length of the smaller section to the longer section. It does not have to be \\\n",
    "         prefectly precise; give me a rough estimation. The value should be between 0 and 1.0. Please respond with just the range (Sample answer: 0.3-0.4)\"\n",
    "images = [L.GPImage.figure4('type4') for i in range(55)]\n",
    "models = [\"ChatGPT\", \"LLaVA\", \"CustomLLaVA\"]\n",
    "\n",
    "results = L.Evaluator.run(images, query, models)\n",
    "print(results)"
   ]
  },
  {
   "cell_type": "code",
   "execution_count": 2,
   "id": "1449dea8-c736-402d-a407-efea144bef6e",
   "metadata": {},
   "outputs": [],
   "source": [
    "chatGPT_mse = results[\"ChatGPT\"][\"mse\"]\n",
    "chatGPT_mlae = results[\"ChatGPT\"][\"mlae\"]\n",
    "chatGPT_mean = results[\"ChatGPT\"][\"mean\"]\n",
    "chatGPT_std = results[\"ChatGPT\"][\"std\"]\n",
    "llava_mse = results[\"LLaVA\"][\"mse\"]\n",
    "llava_mlae = results[\"LLaVA\"][\"mlae\"]\n",
    "llava_mean = results[\"LLaVA\"][\"mean\"]\n",
    "llava_std = results[\"LLaVA\"][\"std\"]\n",
    "custom_llava_mse = results[\"CustomLLaVA\"][\"mse\"]\n",
    "custom_llava_mlae = results[\"CustomLLaVA\"][\"mlae\"]\n",
    "custom_llava_mean = results[\"CustomLLaVA\"][\"mean\"]\n",
    "custom_llava_std = results[\"CustomLLaVA\"][\"std\"]"
   ]
  },
  {
   "cell_type": "code",
   "execution_count": 3,
   "id": "82781dfd-78fe-4b48-a117-d8b00cf5f9e3",
   "metadata": {},
   "outputs": [
    {
     "name": "stdout",
     "output_type": "stream",
     "text": [
      "ChatGPT mse:  0.31859358415063627\n",
      "ChatGPT mlae: 5.70491852996711\n",
      "ChatGPT mean: 0.0\n",
      "ChatGPT std: 0.0\n",
      "LLaVA mse:    0.31859358415063627\n",
      "LLaVA mlae:   5.70491852996711\n",
      "LLaVA mean:   0.0\n",
      "LLaVA std:   0.0\n",
      "CLLaVA mse:   0.0900788914349501\n",
      "CLLaVA mlae:  4.636099068687933\n",
      "CLLaVA mean:  0.5026374308722967\n",
      "CLLaVA std:  0.17731035351231236\n"
     ]
    }
   ],
   "source": [
    "print(\"ChatGPT mse: \", chatGPT_mse)\n",
    "print(\"ChatGPT mlae:\", chatGPT_mlae)\n",
    "print(\"ChatGPT mean:\", chatGPT_mean)\n",
    "print(\"ChatGPT std:\", chatGPT_std)\n",
    "print(\"LLaVA mse:   \", llava_mse)\n",
    "print(\"LLaVA mlae:  \", llava_mlae)\n",
    "print(\"LLaVA mean:  \", llava_mean)\n",
    "print(\"LLaVA std:  \", llava_std)\n",
    "print(\"CLLaVA mse:  \", custom_llava_mse)\n",
    "print(\"CLLaVA mlae: \", custom_llava_mlae)\n",
    "print(\"CLLaVA mean: \", custom_llava_mean)\n",
    "print(\"CLLaVA std: \", custom_llava_std)"
   ]
  },
  {
   "cell_type": "code",
   "execution_count": null,
   "id": "9682ceab-e22b-4c35-9a28-783be8f1cf27",
   "metadata": {},
   "outputs": [],
   "source": []
  }
 ],
 "metadata": {
  "kernelspec": {
   "display_name": "Python 3 (ipykernel)",
   "language": "python",
   "name": "python3"
  },
  "language_info": {
   "codemirror_mode": {
    "name": "ipython",
    "version": 3
   },
   "file_extension": ".py",
   "mimetype": "text/x-python",
   "name": "python",
   "nbconvert_exporter": "python",
   "pygments_lexer": "ipython3",
   "version": "3.11.7"
  }
 },
 "nbformat": 4,
 "nbformat_minor": 5
}
