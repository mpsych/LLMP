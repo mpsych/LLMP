{
 "cells": [
  {
   "cell_type": "code",
   "execution_count": 1,
   "id": "56f4a4bb-b1fd-451e-9ee5-30051147cde9",
   "metadata": {},
   "outputs": [
    {
     "name": "stdout",
     "output_type": "stream",
     "text": [
      "[2024-04-26 00:18:02,787] [INFO] [real_accelerator.py:191:get_accelerator] Setting ds_accelerator to cuda (auto detect)\n"
     ]
    },
    {
     "name": "stderr",
     "output_type": "stream",
     "text": [
      "You are using a model of type llava to instantiate a model of type llava_llama. This is not supported for all configurations of models and can yield errors.\n"
     ]
    },
    {
     "data": {
      "application/vnd.jupyter.widget-view+json": {
       "model_id": "bea5d007d7de49f0844ee3518bd8df40",
       "version_major": 2,
       "version_minor": 0
      },
      "text/plain": [
       "Loading checkpoint shards:   0%|          | 0/2 [00:00<?, ?it/s]"
      ]
     },
     "metadata": {},
     "output_type": "display_data"
    },
    {
     "name": "stderr",
     "output_type": "stream",
     "text": [
      "/home/kenichi.maeda001/anaconda3/envs/LLMP/lib/python3.11/site-packages/transformers/generation/configuration_utils.py:389: UserWarning: `do_sample` is set to `False`. However, `temperature` is set to `0` -- this flag is only used in sample-based generation modes. You should set `do_sample=True` or unset `temperature`.\n",
      "  warnings.warn(\n",
      "/home/kenichi.maeda001/anaconda3/envs/LLMP/lib/python3.11/site-packages/transformers/generation/configuration_utils.py:394: UserWarning: `do_sample` is set to `False`. However, `top_p` is set to `None` -- this flag is only used in sample-based generation modes. You should set `do_sample=True` or unset `top_p`.\n",
      "  warnings.warn(\n",
      "You are using a model of type llava to instantiate a model of type llava_llama. This is not supported for all configurations of models and can yield errors.\n"
     ]
    },
    {
     "data": {
      "application/vnd.jupyter.widget-view+json": {
       "model_id": "2e66c08ae1144677b64625ccb74bc0c9",
       "version_major": 2,
       "version_minor": 0
      },
      "text/plain": [
       "Loading checkpoint shards:   0%|          | 0/2 [00:00<?, ?it/s]"
      ]
     },
     "metadata": {},
     "output_type": "display_data"
    },
    {
     "name": "stderr",
     "output_type": "stream",
     "text": [
      "You are using a model of type llava to instantiate a model of type llava_llama. This is not supported for all configurations of models and can yield errors.\n"
     ]
    },
    {
     "data": {
      "application/vnd.jupyter.widget-view+json": {
       "model_id": "361705f6bfb8468da5a74a4fd2676905",
       "version_major": 2,
       "version_minor": 0
      },
      "text/plain": [
       "Loading checkpoint shards:   0%|          | 0/2 [00:00<?, ?it/s]"
      ]
     },
     "metadata": {},
     "output_type": "display_data"
    },
    {
     "name": "stderr",
     "output_type": "stream",
     "text": [
      "You are using a model of type llava to instantiate a model of type llava_llama. This is not supported for all configurations of models and can yield errors.\n"
     ]
    },
    {
     "data": {
      "application/vnd.jupyter.widget-view+json": {
       "model_id": "1f428ec12c4d42bdbb4315e8b9df85c2",
       "version_major": 2,
       "version_minor": 0
      },
      "text/plain": [
       "Loading checkpoint shards:   0%|          | 0/2 [00:00<?, ?it/s]"
      ]
     },
     "metadata": {},
     "output_type": "display_data"
    },
    {
     "name": "stderr",
     "output_type": "stream",
     "text": [
      "You are using a model of type llava to instantiate a model of type llava_llama. This is not supported for all configurations of models and can yield errors.\n"
     ]
    },
    {
     "data": {
      "application/vnd.jupyter.widget-view+json": {
       "model_id": "63eef2bf5f0147a1a7bacd2254d8ad08",
       "version_major": 2,
       "version_minor": 0
      },
      "text/plain": [
       "Loading checkpoint shards:   0%|          | 0/2 [00:00<?, ?it/s]"
      ]
     },
     "metadata": {},
     "output_type": "display_data"
    },
    {
     "name": "stderr",
     "output_type": "stream",
     "text": [
      "You are using a model of type llava to instantiate a model of type llava_llama. This is not supported for all configurations of models and can yield errors.\n"
     ]
    },
    {
     "data": {
      "application/vnd.jupyter.widget-view+json": {
       "model_id": "30c61851f82845f9a94e60e38f96d8be",
       "version_major": 2,
       "version_minor": 0
      },
      "text/plain": [
       "Loading checkpoint shards:   0%|          | 0/2 [00:00<?, ?it/s]"
      ]
     },
     "metadata": {},
     "output_type": "display_data"
    },
    {
     "name": "stderr",
     "output_type": "stream",
     "text": [
      "You are using a model of type llava to instantiate a model of type llava_llama. This is not supported for all configurations of models and can yield errors.\n"
     ]
    },
    {
     "data": {
      "application/vnd.jupyter.widget-view+json": {
       "model_id": "2e400ca2c4804f85906f33b968e28902",
       "version_major": 2,
       "version_minor": 0
      },
      "text/plain": [
       "Loading checkpoint shards:   0%|          | 0/2 [00:00<?, ?it/s]"
      ]
     },
     "metadata": {},
     "output_type": "display_data"
    },
    {
     "name": "stderr",
     "output_type": "stream",
     "text": [
      "You are using a model of type llava to instantiate a model of type llava_llama. This is not supported for all configurations of models and can yield errors.\n"
     ]
    },
    {
     "data": {
      "application/vnd.jupyter.widget-view+json": {
       "model_id": "4cd0ce06017647e29a7b35ac412ae674",
       "version_major": 2,
       "version_minor": 0
      },
      "text/plain": [
       "Loading checkpoint shards:   0%|          | 0/2 [00:00<?, ?it/s]"
      ]
     },
     "metadata": {},
     "output_type": "display_data"
    },
    {
     "name": "stderr",
     "output_type": "stream",
     "text": [
      "You are using a model of type llava to instantiate a model of type llava_llama. This is not supported for all configurations of models and can yield errors.\n"
     ]
    },
    {
     "data": {
      "application/vnd.jupyter.widget-view+json": {
       "model_id": "b039247adfec40a9a64cf81c45516a3b",
       "version_major": 2,
       "version_minor": 0
      },
      "text/plain": [
       "Loading checkpoint shards:   0%|          | 0/2 [00:00<?, ?it/s]"
      ]
     },
     "metadata": {},
     "output_type": "display_data"
    },
    {
     "name": "stderr",
     "output_type": "stream",
     "text": [
      "You are using a model of type llava to instantiate a model of type llava_llama. This is not supported for all configurations of models and can yield errors.\n"
     ]
    },
    {
     "data": {
      "application/vnd.jupyter.widget-view+json": {
       "model_id": "ba702ca2a1b1499bb49f8310fee91f01",
       "version_major": 2,
       "version_minor": 0
      },
      "text/plain": [
       "Loading checkpoint shards:   0%|          | 0/2 [00:00<?, ?it/s]"
      ]
     },
     "metadata": {},
     "output_type": "display_data"
    },
    {
     "name": "stderr",
     "output_type": "stream",
     "text": [
      "You are using a model of type llava to instantiate a model of type llava_llama. This is not supported for all configurations of models and can yield errors.\n"
     ]
    },
    {
     "data": {
      "application/vnd.jupyter.widget-view+json": {
       "model_id": "5798222358824087a7cee58996d269ad",
       "version_major": 2,
       "version_minor": 0
      },
      "text/plain": [
       "Loading checkpoint shards:   0%|          | 0/2 [00:00<?, ?it/s]"
      ]
     },
     "metadata": {},
     "output_type": "display_data"
    },
    {
     "name": "stderr",
     "output_type": "stream",
     "text": [
      "You are using a model of type llava to instantiate a model of type llava_llama. This is not supported for all configurations of models and can yield errors.\n"
     ]
    },
    {
     "data": {
      "application/vnd.jupyter.widget-view+json": {
       "model_id": "1501e7abc08e40df82501814bb91d767",
       "version_major": 2,
       "version_minor": 0
      },
      "text/plain": [
       "Loading checkpoint shards:   0%|          | 0/2 [00:00<?, ?it/s]"
      ]
     },
     "metadata": {},
     "output_type": "display_data"
    },
    {
     "name": "stderr",
     "output_type": "stream",
     "text": [
      "You are using a model of type llava to instantiate a model of type llava_llama. This is not supported for all configurations of models and can yield errors.\n"
     ]
    },
    {
     "data": {
      "application/vnd.jupyter.widget-view+json": {
       "model_id": "cd6dc7d10bc54462b585f22a76d7d913",
       "version_major": 2,
       "version_minor": 0
      },
      "text/plain": [
       "Loading checkpoint shards:   0%|          | 0/2 [00:00<?, ?it/s]"
      ]
     },
     "metadata": {},
     "output_type": "display_data"
    },
    {
     "name": "stderr",
     "output_type": "stream",
     "text": [
      "You are using a model of type llava to instantiate a model of type llava_llama. This is not supported for all configurations of models and can yield errors.\n"
     ]
    },
    {
     "data": {
      "application/vnd.jupyter.widget-view+json": {
       "model_id": "396a54294e414352b1595d9b61bbcc4e",
       "version_major": 2,
       "version_minor": 0
      },
      "text/plain": [
       "Loading checkpoint shards:   0%|          | 0/2 [00:00<?, ?it/s]"
      ]
     },
     "metadata": {},
     "output_type": "display_data"
    },
    {
     "name": "stderr",
     "output_type": "stream",
     "text": [
      "You are using a model of type llava to instantiate a model of type llava_llama. This is not supported for all configurations of models and can yield errors.\n"
     ]
    },
    {
     "data": {
      "application/vnd.jupyter.widget-view+json": {
       "model_id": "455b75f797f1411e95fbba2ea862a539",
       "version_major": 2,
       "version_minor": 0
      },
      "text/plain": [
       "Loading checkpoint shards:   0%|          | 0/2 [00:00<?, ?it/s]"
      ]
     },
     "metadata": {},
     "output_type": "display_data"
    },
    {
     "name": "stderr",
     "output_type": "stream",
     "text": [
      "You are using a model of type llava to instantiate a model of type llava_llama. This is not supported for all configurations of models and can yield errors.\n"
     ]
    },
    {
     "data": {
      "application/vnd.jupyter.widget-view+json": {
       "model_id": "a76e3595625749a3a62148d5fee9b1f1",
       "version_major": 2,
       "version_minor": 0
      },
      "text/plain": [
       "Loading checkpoint shards:   0%|          | 0/2 [00:00<?, ?it/s]"
      ]
     },
     "metadata": {},
     "output_type": "display_data"
    },
    {
     "name": "stderr",
     "output_type": "stream",
     "text": [
      "You are using a model of type llava to instantiate a model of type llava_llama. This is not supported for all configurations of models and can yield errors.\n"
     ]
    },
    {
     "data": {
      "application/vnd.jupyter.widget-view+json": {
       "model_id": "071fa6500549421693b2e418fb7966f0",
       "version_major": 2,
       "version_minor": 0
      },
      "text/plain": [
       "Loading checkpoint shards:   0%|          | 0/2 [00:00<?, ?it/s]"
      ]
     },
     "metadata": {},
     "output_type": "display_data"
    },
    {
     "name": "stderr",
     "output_type": "stream",
     "text": [
      "You are using a model of type llava to instantiate a model of type llava_llama. This is not supported for all configurations of models and can yield errors.\n"
     ]
    },
    {
     "data": {
      "application/vnd.jupyter.widget-view+json": {
       "model_id": "0c2878afcb4c497abdfb41c818fefca4",
       "version_major": 2,
       "version_minor": 0
      },
      "text/plain": [
       "Loading checkpoint shards:   0%|          | 0/2 [00:00<?, ?it/s]"
      ]
     },
     "metadata": {},
     "output_type": "display_data"
    },
    {
     "name": "stderr",
     "output_type": "stream",
     "text": [
      "You are using a model of type llava to instantiate a model of type llava_llama. This is not supported for all configurations of models and can yield errors.\n"
     ]
    },
    {
     "data": {
      "application/vnd.jupyter.widget-view+json": {
       "model_id": "183d40d71f00445b8b5ce4896e3702a8",
       "version_major": 2,
       "version_minor": 0
      },
      "text/plain": [
       "Loading checkpoint shards:   0%|          | 0/2 [00:00<?, ?it/s]"
      ]
     },
     "metadata": {},
     "output_type": "display_data"
    },
    {
     "name": "stderr",
     "output_type": "stream",
     "text": [
      "You are using a model of type llava to instantiate a model of type llava_llama. This is not supported for all configurations of models and can yield errors.\n"
     ]
    },
    {
     "data": {
      "application/vnd.jupyter.widget-view+json": {
       "model_id": "1c8477581f4f4f4dbbd4b1e1120bf8b7",
       "version_major": 2,
       "version_minor": 0
      },
      "text/plain": [
       "Loading checkpoint shards:   0%|          | 0/2 [00:00<?, ?it/s]"
      ]
     },
     "metadata": {},
     "output_type": "display_data"
    },
    {
     "name": "stderr",
     "output_type": "stream",
     "text": [
      "You are using a model of type llava to instantiate a model of type llava_llama. This is not supported for all configurations of models and can yield errors.\n"
     ]
    },
    {
     "data": {
      "application/vnd.jupyter.widget-view+json": {
       "model_id": "400168d803af429d93fe92139cedc19a",
       "version_major": 2,
       "version_minor": 0
      },
      "text/plain": [
       "Loading checkpoint shards:   0%|          | 0/2 [00:00<?, ?it/s]"
      ]
     },
     "metadata": {},
     "output_type": "display_data"
    },
    {
     "name": "stderr",
     "output_type": "stream",
     "text": [
      "You are using a model of type llava to instantiate a model of type llava_llama. This is not supported for all configurations of models and can yield errors.\n"
     ]
    },
    {
     "data": {
      "application/vnd.jupyter.widget-view+json": {
       "model_id": "fe8b58039dd4477d94604817adea8dea",
       "version_major": 2,
       "version_minor": 0
      },
      "text/plain": [
       "Loading checkpoint shards:   0%|          | 0/2 [00:00<?, ?it/s]"
      ]
     },
     "metadata": {},
     "output_type": "display_data"
    },
    {
     "name": "stderr",
     "output_type": "stream",
     "text": [
      "You are using a model of type llava to instantiate a model of type llava_llama. This is not supported for all configurations of models and can yield errors.\n"
     ]
    },
    {
     "data": {
      "application/vnd.jupyter.widget-view+json": {
       "model_id": "67613740159744aba409ede9ca0fe924",
       "version_major": 2,
       "version_minor": 0
      },
      "text/plain": [
       "Loading checkpoint shards:   0%|          | 0/2 [00:00<?, ?it/s]"
      ]
     },
     "metadata": {},
     "output_type": "display_data"
    },
    {
     "name": "stderr",
     "output_type": "stream",
     "text": [
      "You are using a model of type llava to instantiate a model of type llava_llama. This is not supported for all configurations of models and can yield errors.\n"
     ]
    },
    {
     "data": {
      "application/vnd.jupyter.widget-view+json": {
       "model_id": "e532ab7916e84338a866057c62c1214b",
       "version_major": 2,
       "version_minor": 0
      },
      "text/plain": [
       "Loading checkpoint shards:   0%|          | 0/2 [00:00<?, ?it/s]"
      ]
     },
     "metadata": {},
     "output_type": "display_data"
    },
    {
     "name": "stderr",
     "output_type": "stream",
     "text": [
      "You are using a model of type llava to instantiate a model of type llava_llama. This is not supported for all configurations of models and can yield errors.\n"
     ]
    },
    {
     "data": {
      "application/vnd.jupyter.widget-view+json": {
       "model_id": "df4f954214a8413d95259cabffc4b588",
       "version_major": 2,
       "version_minor": 0
      },
      "text/plain": [
       "Loading checkpoint shards:   0%|          | 0/2 [00:00<?, ?it/s]"
      ]
     },
     "metadata": {},
     "output_type": "display_data"
    },
    {
     "name": "stderr",
     "output_type": "stream",
     "text": [
      "You are using a model of type llava to instantiate a model of type llava_llama. This is not supported for all configurations of models and can yield errors.\n"
     ]
    },
    {
     "data": {
      "application/vnd.jupyter.widget-view+json": {
       "model_id": "c8f97a957ddf4603a037cda6bc6ae858",
       "version_major": 2,
       "version_minor": 0
      },
      "text/plain": [
       "Loading checkpoint shards:   0%|          | 0/2 [00:00<?, ?it/s]"
      ]
     },
     "metadata": {},
     "output_type": "display_data"
    },
    {
     "name": "stderr",
     "output_type": "stream",
     "text": [
      "You are using a model of type llava to instantiate a model of type llava_llama. This is not supported for all configurations of models and can yield errors.\n"
     ]
    },
    {
     "data": {
      "application/vnd.jupyter.widget-view+json": {
       "model_id": "c955e98bdd664d0097437bf4d17c4262",
       "version_major": 2,
       "version_minor": 0
      },
      "text/plain": [
       "Loading checkpoint shards:   0%|          | 0/2 [00:00<?, ?it/s]"
      ]
     },
     "metadata": {},
     "output_type": "display_data"
    },
    {
     "name": "stderr",
     "output_type": "stream",
     "text": [
      "You are using a model of type llava to instantiate a model of type llava_llama. This is not supported for all configurations of models and can yield errors.\n"
     ]
    },
    {
     "data": {
      "application/vnd.jupyter.widget-view+json": {
       "model_id": "37e9d5fc411b43fca226587b1d6a9313",
       "version_major": 2,
       "version_minor": 0
      },
      "text/plain": [
       "Loading checkpoint shards:   0%|          | 0/2 [00:00<?, ?it/s]"
      ]
     },
     "metadata": {},
     "output_type": "display_data"
    },
    {
     "name": "stderr",
     "output_type": "stream",
     "text": [
      "You are using a model of type llava to instantiate a model of type llava_llama. This is not supported for all configurations of models and can yield errors.\n"
     ]
    },
    {
     "data": {
      "application/vnd.jupyter.widget-view+json": {
       "model_id": "182a88cf4516456fa2528380a5c69b4f",
       "version_major": 2,
       "version_minor": 0
      },
      "text/plain": [
       "Loading checkpoint shards:   0%|          | 0/2 [00:00<?, ?it/s]"
      ]
     },
     "metadata": {},
     "output_type": "display_data"
    },
    {
     "name": "stderr",
     "output_type": "stream",
     "text": [
      "You are using a model of type llava to instantiate a model of type llava_llama. This is not supported for all configurations of models and can yield errors.\n"
     ]
    },
    {
     "data": {
      "application/vnd.jupyter.widget-view+json": {
       "model_id": "d318a0fd7d8545f7b3cc5f07e3f1be11",
       "version_major": 2,
       "version_minor": 0
      },
      "text/plain": [
       "Loading checkpoint shards:   0%|          | 0/2 [00:00<?, ?it/s]"
      ]
     },
     "metadata": {},
     "output_type": "display_data"
    },
    {
     "name": "stderr",
     "output_type": "stream",
     "text": [
      "You are using a model of type llava to instantiate a model of type llava_llama. This is not supported for all configurations of models and can yield errors.\n"
     ]
    },
    {
     "data": {
      "application/vnd.jupyter.widget-view+json": {
       "model_id": "cd53164cca4f4cee9a78135c23a651eb",
       "version_major": 2,
       "version_minor": 0
      },
      "text/plain": [
       "Loading checkpoint shards:   0%|          | 0/2 [00:00<?, ?it/s]"
      ]
     },
     "metadata": {},
     "output_type": "display_data"
    },
    {
     "name": "stderr",
     "output_type": "stream",
     "text": [
      "You are using a model of type llava to instantiate a model of type llava_llama. This is not supported for all configurations of models and can yield errors.\n"
     ]
    },
    {
     "data": {
      "application/vnd.jupyter.widget-view+json": {
       "model_id": "2cb2a19c0c79449d9917bbc145b085ee",
       "version_major": 2,
       "version_minor": 0
      },
      "text/plain": [
       "Loading checkpoint shards:   0%|          | 0/2 [00:00<?, ?it/s]"
      ]
     },
     "metadata": {},
     "output_type": "display_data"
    },
    {
     "name": "stderr",
     "output_type": "stream",
     "text": [
      "You are using a model of type llava to instantiate a model of type llava_llama. This is not supported for all configurations of models and can yield errors.\n"
     ]
    },
    {
     "data": {
      "application/vnd.jupyter.widget-view+json": {
       "model_id": "2863f3b3222f4a2aa338289beca1b5ce",
       "version_major": 2,
       "version_minor": 0
      },
      "text/plain": [
       "Loading checkpoint shards:   0%|          | 0/2 [00:00<?, ?it/s]"
      ]
     },
     "metadata": {},
     "output_type": "display_data"
    },
    {
     "name": "stderr",
     "output_type": "stream",
     "text": [
      "You are using a model of type llava to instantiate a model of type llava_llama. This is not supported for all configurations of models and can yield errors.\n"
     ]
    },
    {
     "data": {
      "application/vnd.jupyter.widget-view+json": {
       "model_id": "2809211dc11147e984e1e669e2f71b1e",
       "version_major": 2,
       "version_minor": 0
      },
      "text/plain": [
       "Loading checkpoint shards:   0%|          | 0/2 [00:00<?, ?it/s]"
      ]
     },
     "metadata": {},
     "output_type": "display_data"
    },
    {
     "name": "stderr",
     "output_type": "stream",
     "text": [
      "You are using a model of type llava to instantiate a model of type llava_llama. This is not supported for all configurations of models and can yield errors.\n"
     ]
    },
    {
     "data": {
      "application/vnd.jupyter.widget-view+json": {
       "model_id": "5b0c0cc649ad4e729139239b512ff8bf",
       "version_major": 2,
       "version_minor": 0
      },
      "text/plain": [
       "Loading checkpoint shards:   0%|          | 0/2 [00:00<?, ?it/s]"
      ]
     },
     "metadata": {},
     "output_type": "display_data"
    },
    {
     "name": "stderr",
     "output_type": "stream",
     "text": [
      "You are using a model of type llava to instantiate a model of type llava_llama. This is not supported for all configurations of models and can yield errors.\n"
     ]
    },
    {
     "data": {
      "application/vnd.jupyter.widget-view+json": {
       "model_id": "d4eb5a21ab4f4bbeb9336b7b2a48644a",
       "version_major": 2,
       "version_minor": 0
      },
      "text/plain": [
       "Loading checkpoint shards:   0%|          | 0/2 [00:00<?, ?it/s]"
      ]
     },
     "metadata": {},
     "output_type": "display_data"
    },
    {
     "name": "stderr",
     "output_type": "stream",
     "text": [
      "You are using a model of type llava to instantiate a model of type llava_llama. This is not supported for all configurations of models and can yield errors.\n"
     ]
    },
    {
     "data": {
      "application/vnd.jupyter.widget-view+json": {
       "model_id": "cfdf5a7f862d401e80321817e08bc44a",
       "version_major": 2,
       "version_minor": 0
      },
      "text/plain": [
       "Loading checkpoint shards:   0%|          | 0/2 [00:00<?, ?it/s]"
      ]
     },
     "metadata": {},
     "output_type": "display_data"
    },
    {
     "name": "stderr",
     "output_type": "stream",
     "text": [
      "You are using a model of type llava to instantiate a model of type llava_llama. This is not supported for all configurations of models and can yield errors.\n"
     ]
    },
    {
     "data": {
      "application/vnd.jupyter.widget-view+json": {
       "model_id": "c5a58e7a01dd408493ad80de01975d2a",
       "version_major": 2,
       "version_minor": 0
      },
      "text/plain": [
       "Loading checkpoint shards:   0%|          | 0/2 [00:00<?, ?it/s]"
      ]
     },
     "metadata": {},
     "output_type": "display_data"
    },
    {
     "name": "stderr",
     "output_type": "stream",
     "text": [
      "You are using a model of type llava to instantiate a model of type llava_llama. This is not supported for all configurations of models and can yield errors.\n"
     ]
    },
    {
     "data": {
      "application/vnd.jupyter.widget-view+json": {
       "model_id": "3e4b15927c0c4ddda4181d4a3167cb84",
       "version_major": 2,
       "version_minor": 0
      },
      "text/plain": [
       "Loading checkpoint shards:   0%|          | 0/2 [00:00<?, ?it/s]"
      ]
     },
     "metadata": {},
     "output_type": "display_data"
    },
    {
     "name": "stderr",
     "output_type": "stream",
     "text": [
      "You are using a model of type llava to instantiate a model of type llava_llama. This is not supported for all configurations of models and can yield errors.\n"
     ]
    },
    {
     "data": {
      "application/vnd.jupyter.widget-view+json": {
       "model_id": "28a7d6ba09914c18a4b376ba3cfc2b08",
       "version_major": 2,
       "version_minor": 0
      },
      "text/plain": [
       "Loading checkpoint shards:   0%|          | 0/2 [00:00<?, ?it/s]"
      ]
     },
     "metadata": {},
     "output_type": "display_data"
    },
    {
     "name": "stderr",
     "output_type": "stream",
     "text": [
      "You are using a model of type llava to instantiate a model of type llava_llama. This is not supported for all configurations of models and can yield errors.\n"
     ]
    },
    {
     "data": {
      "application/vnd.jupyter.widget-view+json": {
       "model_id": "424dcd0c4aca4850980e3bbed80f10ec",
       "version_major": 2,
       "version_minor": 0
      },
      "text/plain": [
       "Loading checkpoint shards:   0%|          | 0/2 [00:00<?, ?it/s]"
      ]
     },
     "metadata": {},
     "output_type": "display_data"
    },
    {
     "name": "stderr",
     "output_type": "stream",
     "text": [
      "You are using a model of type llava to instantiate a model of type llava_llama. This is not supported for all configurations of models and can yield errors.\n"
     ]
    },
    {
     "data": {
      "application/vnd.jupyter.widget-view+json": {
       "model_id": "d5c4523406fe4278809acf545c29d46b",
       "version_major": 2,
       "version_minor": 0
      },
      "text/plain": [
       "Loading checkpoint shards:   0%|          | 0/2 [00:00<?, ?it/s]"
      ]
     },
     "metadata": {},
     "output_type": "display_data"
    },
    {
     "name": "stderr",
     "output_type": "stream",
     "text": [
      "You are using a model of type llava to instantiate a model of type llava_llama. This is not supported for all configurations of models and can yield errors.\n"
     ]
    },
    {
     "data": {
      "application/vnd.jupyter.widget-view+json": {
       "model_id": "fc7865f5265d436d856eb64d9e11645c",
       "version_major": 2,
       "version_minor": 0
      },
      "text/plain": [
       "Loading checkpoint shards:   0%|          | 0/2 [00:00<?, ?it/s]"
      ]
     },
     "metadata": {},
     "output_type": "display_data"
    },
    {
     "name": "stderr",
     "output_type": "stream",
     "text": [
      "You are using a model of type llava to instantiate a model of type llava_llama. This is not supported for all configurations of models and can yield errors.\n"
     ]
    },
    {
     "data": {
      "application/vnd.jupyter.widget-view+json": {
       "model_id": "3451fadd868a4030bd856f99dabcbd6a",
       "version_major": 2,
       "version_minor": 0
      },
      "text/plain": [
       "Loading checkpoint shards:   0%|          | 0/2 [00:00<?, ?it/s]"
      ]
     },
     "metadata": {},
     "output_type": "display_data"
    },
    {
     "name": "stderr",
     "output_type": "stream",
     "text": [
      "You are using a model of type llava to instantiate a model of type llava_llama. This is not supported for all configurations of models and can yield errors.\n"
     ]
    },
    {
     "data": {
      "application/vnd.jupyter.widget-view+json": {
       "model_id": "4a921b1608774b0e88a018870b7ed5a1",
       "version_major": 2,
       "version_minor": 0
      },
      "text/plain": [
       "Loading checkpoint shards:   0%|          | 0/2 [00:00<?, ?it/s]"
      ]
     },
     "metadata": {},
     "output_type": "display_data"
    },
    {
     "name": "stderr",
     "output_type": "stream",
     "text": [
      "You are using a model of type llava to instantiate a model of type llava_llama. This is not supported for all configurations of models and can yield errors.\n"
     ]
    },
    {
     "data": {
      "application/vnd.jupyter.widget-view+json": {
       "model_id": "efd41fb60193410090001364f9cabce4",
       "version_major": 2,
       "version_minor": 0
      },
      "text/plain": [
       "Loading checkpoint shards:   0%|          | 0/2 [00:00<?, ?it/s]"
      ]
     },
     "metadata": {},
     "output_type": "display_data"
    },
    {
     "name": "stderr",
     "output_type": "stream",
     "text": [
      "You are using a model of type llava to instantiate a model of type llava_llama. This is not supported for all configurations of models and can yield errors.\n"
     ]
    },
    {
     "data": {
      "application/vnd.jupyter.widget-view+json": {
       "model_id": "3c89aaf74cf94cce813f6943bf9e03d3",
       "version_major": 2,
       "version_minor": 0
      },
      "text/plain": [
       "Loading checkpoint shards:   0%|          | 0/2 [00:00<?, ?it/s]"
      ]
     },
     "metadata": {},
     "output_type": "display_data"
    },
    {
     "name": "stderr",
     "output_type": "stream",
     "text": [
      "You are using a model of type llava to instantiate a model of type llava_llama. This is not supported for all configurations of models and can yield errors.\n"
     ]
    },
    {
     "data": {
      "application/vnd.jupyter.widget-view+json": {
       "model_id": "b467f63db9d942a6a1e07e49916d4e53",
       "version_major": 2,
       "version_minor": 0
      },
      "text/plain": [
       "Loading checkpoint shards:   0%|          | 0/2 [00:00<?, ?it/s]"
      ]
     },
     "metadata": {},
     "output_type": "display_data"
    },
    {
     "name": "stderr",
     "output_type": "stream",
     "text": [
      "You are using a model of type llava to instantiate a model of type llava_llama. This is not supported for all configurations of models and can yield errors.\n"
     ]
    },
    {
     "data": {
      "application/vnd.jupyter.widget-view+json": {
       "model_id": "c54862e8a10b4c2caf8b6e52ac440a07",
       "version_major": 2,
       "version_minor": 0
      },
      "text/plain": [
       "Loading checkpoint shards:   0%|          | 0/2 [00:00<?, ?it/s]"
      ]
     },
     "metadata": {},
     "output_type": "display_data"
    },
    {
     "name": "stderr",
     "output_type": "stream",
     "text": [
      "You are using a model of type llava to instantiate a model of type llava_llama. This is not supported for all configurations of models and can yield errors.\n"
     ]
    },
    {
     "data": {
      "application/vnd.jupyter.widget-view+json": {
       "model_id": "c5371073cb9b4013a191683bc0419ee3",
       "version_major": 2,
       "version_minor": 0
      },
      "text/plain": [
       "Loading checkpoint shards:   0%|          | 0/2 [00:00<?, ?it/s]"
      ]
     },
     "metadata": {},
     "output_type": "display_data"
    },
    {
     "name": "stderr",
     "output_type": "stream",
     "text": [
      "You are using a model of type llava to instantiate a model of type llava_llama. This is not supported for all configurations of models and can yield errors.\n"
     ]
    },
    {
     "data": {
      "application/vnd.jupyter.widget-view+json": {
       "model_id": "334a33302f154a518b76750ea97e7dc5",
       "version_major": 2,
       "version_minor": 0
      },
      "text/plain": [
       "Loading checkpoint shards:   0%|          | 0/2 [00:00<?, ?it/s]"
      ]
     },
     "metadata": {},
     "output_type": "display_data"
    },
    {
     "name": "stderr",
     "output_type": "stream",
     "text": [
      "You are using a model of type llava to instantiate a model of type llava_llama. This is not supported for all configurations of models and can yield errors.\n"
     ]
    },
    {
     "data": {
      "application/vnd.jupyter.widget-view+json": {
       "model_id": "abc42e38fb7644b3bb58323b6749118b",
       "version_major": 2,
       "version_minor": 0
      },
      "text/plain": [
       "Loading checkpoint shards:   0%|          | 0/2 [00:00<?, ?it/s]"
      ]
     },
     "metadata": {},
     "output_type": "display_data"
    },
    {
     "name": "stderr",
     "output_type": "stream",
     "text": [
      "You are using a model of type llava to instantiate a model of type llava_llama. This is not supported for all configurations of models and can yield errors.\n"
     ]
    },
    {
     "data": {
      "application/vnd.jupyter.widget-view+json": {
       "model_id": "b4defa9e63a3496f8ed134c053958c69",
       "version_major": 2,
       "version_minor": 0
      },
      "text/plain": [
       "Loading checkpoint shards:   0%|          | 0/2 [00:00<?, ?it/s]"
      ]
     },
     "metadata": {},
     "output_type": "display_data"
    },
    {
     "name": "stderr",
     "output_type": "stream",
     "text": [
      "You are using a model of type llava to instantiate a model of type llava_llama. This is not supported for all configurations of models and can yield errors.\n"
     ]
    },
    {
     "data": {
      "application/vnd.jupyter.widget-view+json": {
       "model_id": "6c68bfbb32974998909a741b117f37e8",
       "version_major": 2,
       "version_minor": 0
      },
      "text/plain": [
       "Loading checkpoint shards:   0%|          | 0/2 [00:00<?, ?it/s]"
      ]
     },
     "metadata": {},
     "output_type": "display_data"
    },
    {
     "name": "stderr",
     "output_type": "stream",
     "text": [
      "You are using a model of type llava to instantiate a model of type llava_llama. This is not supported for all configurations of models and can yield errors.\n"
     ]
    },
    {
     "data": {
      "application/vnd.jupyter.widget-view+json": {
       "model_id": "edb01720365d4fa6953cb39dd21415df",
       "version_major": 2,
       "version_minor": 0
      },
      "text/plain": [
       "Loading checkpoint shards:   0%|          | 0/2 [00:00<?, ?it/s]"
      ]
     },
     "metadata": {},
     "output_type": "display_data"
    },
    {
     "data": {
      "application/vnd.jupyter.widget-view+json": {
       "model_id": "47abf6cf9edd438791b52dfd08dda593",
       "version_major": 2,
       "version_minor": 0
      },
      "text/plain": [
       "Loading checkpoint shards:   0%|          | 0/2 [00:00<?, ?it/s]"
      ]
     },
     "metadata": {},
     "output_type": "display_data"
    },
    {
     "data": {
      "application/vnd.jupyter.widget-view+json": {
       "model_id": "3d981d1f9edd4764b141a90ab4d0c109",
       "version_major": 2,
       "version_minor": 0
      },
      "text/plain": [
       "Loading checkpoint shards:   0%|          | 0/2 [00:00<?, ?it/s]"
      ]
     },
     "metadata": {},
     "output_type": "display_data"
    },
    {
     "data": {
      "application/vnd.jupyter.widget-view+json": {
       "model_id": "4ecaaf3927d24e06bf14d32b776332b8",
       "version_major": 2,
       "version_minor": 0
      },
      "text/plain": [
       "Loading checkpoint shards:   0%|          | 0/2 [00:00<?, ?it/s]"
      ]
     },
     "metadata": {},
     "output_type": "display_data"
    },
    {
     "data": {
      "application/vnd.jupyter.widget-view+json": {
       "model_id": "165a3cd5b3814bea94f06ed92a0b55f2",
       "version_major": 2,
       "version_minor": 0
      },
      "text/plain": [
       "Loading checkpoint shards:   0%|          | 0/2 [00:00<?, ?it/s]"
      ]
     },
     "metadata": {},
     "output_type": "display_data"
    },
    {
     "data": {
      "application/vnd.jupyter.widget-view+json": {
       "model_id": "b0c369ce4ecf4b15b30739aa5d31f2d9",
       "version_major": 2,
       "version_minor": 0
      },
      "text/plain": [
       "Loading checkpoint shards:   0%|          | 0/2 [00:00<?, ?it/s]"
      ]
     },
     "metadata": {},
     "output_type": "display_data"
    },
    {
     "data": {
      "application/vnd.jupyter.widget-view+json": {
       "model_id": "ec7a911a8fc94634b5be216266aaf556",
       "version_major": 2,
       "version_minor": 0
      },
      "text/plain": [
       "Loading checkpoint shards:   0%|          | 0/2 [00:00<?, ?it/s]"
      ]
     },
     "metadata": {},
     "output_type": "display_data"
    },
    {
     "data": {
      "application/vnd.jupyter.widget-view+json": {
       "model_id": "755417190f3b4b838daeee1f859fea95",
       "version_major": 2,
       "version_minor": 0
      },
      "text/plain": [
       "Loading checkpoint shards:   0%|          | 0/2 [00:00<?, ?it/s]"
      ]
     },
     "metadata": {},
     "output_type": "display_data"
    },
    {
     "data": {
      "application/vnd.jupyter.widget-view+json": {
       "model_id": "6d413d41bc904f4996b33e45052f3350",
       "version_major": 2,
       "version_minor": 0
      },
      "text/plain": [
       "Loading checkpoint shards:   0%|          | 0/2 [00:00<?, ?it/s]"
      ]
     },
     "metadata": {},
     "output_type": "display_data"
    },
    {
     "data": {
      "application/vnd.jupyter.widget-view+json": {
       "model_id": "545d786c2d15499d9af4ca34c2ee506c",
       "version_major": 2,
       "version_minor": 0
      },
      "text/plain": [
       "Loading checkpoint shards:   0%|          | 0/2 [00:00<?, ?it/s]"
      ]
     },
     "metadata": {},
     "output_type": "display_data"
    },
    {
     "data": {
      "application/vnd.jupyter.widget-view+json": {
       "model_id": "15c74539866448fd93d5499dd204d9b0",
       "version_major": 2,
       "version_minor": 0
      },
      "text/plain": [
       "Loading checkpoint shards:   0%|          | 0/2 [00:00<?, ?it/s]"
      ]
     },
     "metadata": {},
     "output_type": "display_data"
    },
    {
     "data": {
      "application/vnd.jupyter.widget-view+json": {
       "model_id": "5f7a52f970a7405a96bcd425c7019e86",
       "version_major": 2,
       "version_minor": 0
      },
      "text/plain": [
       "Loading checkpoint shards:   0%|          | 0/2 [00:00<?, ?it/s]"
      ]
     },
     "metadata": {},
     "output_type": "display_data"
    },
    {
     "data": {
      "application/vnd.jupyter.widget-view+json": {
       "model_id": "ef3dbd597f89484e8c62b756949d6dc1",
       "version_major": 2,
       "version_minor": 0
      },
      "text/plain": [
       "Loading checkpoint shards:   0%|          | 0/2 [00:00<?, ?it/s]"
      ]
     },
     "metadata": {},
     "output_type": "display_data"
    },
    {
     "data": {
      "application/vnd.jupyter.widget-view+json": {
       "model_id": "ee0e6a1bf0714813b6dedaa013268f69",
       "version_major": 2,
       "version_minor": 0
      },
      "text/plain": [
       "Loading checkpoint shards:   0%|          | 0/2 [00:00<?, ?it/s]"
      ]
     },
     "metadata": {},
     "output_type": "display_data"
    },
    {
     "data": {
      "application/vnd.jupyter.widget-view+json": {
       "model_id": "e6b0388a387342038a9573a3871546aa",
       "version_major": 2,
       "version_minor": 0
      },
      "text/plain": [
       "Loading checkpoint shards:   0%|          | 0/2 [00:00<?, ?it/s]"
      ]
     },
     "metadata": {},
     "output_type": "display_data"
    },
    {
     "data": {
      "application/vnd.jupyter.widget-view+json": {
       "model_id": "3452b86a41a940ca90cacc2144ab65f9",
       "version_major": 2,
       "version_minor": 0
      },
      "text/plain": [
       "Loading checkpoint shards:   0%|          | 0/2 [00:00<?, ?it/s]"
      ]
     },
     "metadata": {},
     "output_type": "display_data"
    },
    {
     "data": {
      "application/vnd.jupyter.widget-view+json": {
       "model_id": "b7f08ecde37d438ea81f2db5c49909b9",
       "version_major": 2,
       "version_minor": 0
      },
      "text/plain": [
       "Loading checkpoint shards:   0%|          | 0/2 [00:00<?, ?it/s]"
      ]
     },
     "metadata": {},
     "output_type": "display_data"
    },
    {
     "data": {
      "application/vnd.jupyter.widget-view+json": {
       "model_id": "0f8bf294cc8a4fe5a7fbae2e6abf5bd5",
       "version_major": 2,
       "version_minor": 0
      },
      "text/plain": [
       "Loading checkpoint shards:   0%|          | 0/2 [00:00<?, ?it/s]"
      ]
     },
     "metadata": {},
     "output_type": "display_data"
    },
    {
     "data": {
      "application/vnd.jupyter.widget-view+json": {
       "model_id": "605283ea51c94cf68c9bb3bffee32b29",
       "version_major": 2,
       "version_minor": 0
      },
      "text/plain": [
       "Loading checkpoint shards:   0%|          | 0/2 [00:00<?, ?it/s]"
      ]
     },
     "metadata": {},
     "output_type": "display_data"
    },
    {
     "data": {
      "application/vnd.jupyter.widget-view+json": {
       "model_id": "99f820df975a44739ef68b02f0fceeb2",
       "version_major": 2,
       "version_minor": 0
      },
      "text/plain": [
       "Loading checkpoint shards:   0%|          | 0/2 [00:00<?, ?it/s]"
      ]
     },
     "metadata": {},
     "output_type": "display_data"
    },
    {
     "data": {
      "application/vnd.jupyter.widget-view+json": {
       "model_id": "108e57efd82e48648fbdff277f50f212",
       "version_major": 2,
       "version_minor": 0
      },
      "text/plain": [
       "Loading checkpoint shards:   0%|          | 0/2 [00:00<?, ?it/s]"
      ]
     },
     "metadata": {},
     "output_type": "display_data"
    },
    {
     "data": {
      "application/vnd.jupyter.widget-view+json": {
       "model_id": "8a1459a152de475c9f1ef028e3148b83",
       "version_major": 2,
       "version_minor": 0
      },
      "text/plain": [
       "Loading checkpoint shards:   0%|          | 0/2 [00:00<?, ?it/s]"
      ]
     },
     "metadata": {},
     "output_type": "display_data"
    },
    {
     "data": {
      "application/vnd.jupyter.widget-view+json": {
       "model_id": "bfb07f72c1204e0787e5132182248171",
       "version_major": 2,
       "version_minor": 0
      },
      "text/plain": [
       "Loading checkpoint shards:   0%|          | 0/2 [00:00<?, ?it/s]"
      ]
     },
     "metadata": {},
     "output_type": "display_data"
    },
    {
     "data": {
      "application/vnd.jupyter.widget-view+json": {
       "model_id": "a690420d9c1b431a925ed7afaf793caf",
       "version_major": 2,
       "version_minor": 0
      },
      "text/plain": [
       "Loading checkpoint shards:   0%|          | 0/2 [00:00<?, ?it/s]"
      ]
     },
     "metadata": {},
     "output_type": "display_data"
    },
    {
     "data": {
      "application/vnd.jupyter.widget-view+json": {
       "model_id": "d8e25799c94a486e913b31629ea210b9",
       "version_major": 2,
       "version_minor": 0
      },
      "text/plain": [
       "Loading checkpoint shards:   0%|          | 0/2 [00:00<?, ?it/s]"
      ]
     },
     "metadata": {},
     "output_type": "display_data"
    },
    {
     "data": {
      "application/vnd.jupyter.widget-view+json": {
       "model_id": "15a2bc22c56d472a96fb0bec2b5a881f",
       "version_major": 2,
       "version_minor": 0
      },
      "text/plain": [
       "Loading checkpoint shards:   0%|          | 0/2 [00:00<?, ?it/s]"
      ]
     },
     "metadata": {},
     "output_type": "display_data"
    },
    {
     "data": {
      "application/vnd.jupyter.widget-view+json": {
       "model_id": "b080df4a23124bcebcff8c5b9c81926c",
       "version_major": 2,
       "version_minor": 0
      },
      "text/plain": [
       "Loading checkpoint shards:   0%|          | 0/2 [00:00<?, ?it/s]"
      ]
     },
     "metadata": {},
     "output_type": "display_data"
    },
    {
     "data": {
      "application/vnd.jupyter.widget-view+json": {
       "model_id": "70ca82ff2f8149868fac876756ee2932",
       "version_major": 2,
       "version_minor": 0
      },
      "text/plain": [
       "Loading checkpoint shards:   0%|          | 0/2 [00:00<?, ?it/s]"
      ]
     },
     "metadata": {},
     "output_type": "display_data"
    },
    {
     "data": {
      "application/vnd.jupyter.widget-view+json": {
       "model_id": "e220bf9f8d2e40a6977ed6e7a671fea2",
       "version_major": 2,
       "version_minor": 0
      },
      "text/plain": [
       "Loading checkpoint shards:   0%|          | 0/2 [00:00<?, ?it/s]"
      ]
     },
     "metadata": {},
     "output_type": "display_data"
    },
    {
     "data": {
      "application/vnd.jupyter.widget-view+json": {
       "model_id": "dd262d5f9ebd4401847d1f699fdd7285",
       "version_major": 2,
       "version_minor": 0
      },
      "text/plain": [
       "Loading checkpoint shards:   0%|          | 0/2 [00:00<?, ?it/s]"
      ]
     },
     "metadata": {},
     "output_type": "display_data"
    },
    {
     "data": {
      "application/vnd.jupyter.widget-view+json": {
       "model_id": "d471afcb7cf946deb91e5ca3f64e6364",
       "version_major": 2,
       "version_minor": 0
      },
      "text/plain": [
       "Loading checkpoint shards:   0%|          | 0/2 [00:00<?, ?it/s]"
      ]
     },
     "metadata": {},
     "output_type": "display_data"
    },
    {
     "data": {
      "application/vnd.jupyter.widget-view+json": {
       "model_id": "dd195eac5a7545ec9a62ef033192cdf1",
       "version_major": 2,
       "version_minor": 0
      },
      "text/plain": [
       "Loading checkpoint shards:   0%|          | 0/2 [00:00<?, ?it/s]"
      ]
     },
     "metadata": {},
     "output_type": "display_data"
    },
    {
     "data": {
      "application/vnd.jupyter.widget-view+json": {
       "model_id": "bace6c035616423881803733ed4208c1",
       "version_major": 2,
       "version_minor": 0
      },
      "text/plain": [
       "Loading checkpoint shards:   0%|          | 0/2 [00:00<?, ?it/s]"
      ]
     },
     "metadata": {},
     "output_type": "display_data"
    },
    {
     "data": {
      "application/vnd.jupyter.widget-view+json": {
       "model_id": "974404c1311241b5b45a9082f5c9575d",
       "version_major": 2,
       "version_minor": 0
      },
      "text/plain": [
       "Loading checkpoint shards:   0%|          | 0/2 [00:00<?, ?it/s]"
      ]
     },
     "metadata": {},
     "output_type": "display_data"
    },
    {
     "data": {
      "application/vnd.jupyter.widget-view+json": {
       "model_id": "1e3f02ec7b4c4c53b14819df81df3f6c",
       "version_major": 2,
       "version_minor": 0
      },
      "text/plain": [
       "Loading checkpoint shards:   0%|          | 0/2 [00:00<?, ?it/s]"
      ]
     },
     "metadata": {},
     "output_type": "display_data"
    },
    {
     "data": {
      "application/vnd.jupyter.widget-view+json": {
       "model_id": "cbc4bfec24b245478399d4bf8badee0a",
       "version_major": 2,
       "version_minor": 0
      },
      "text/plain": [
       "Loading checkpoint shards:   0%|          | 0/2 [00:00<?, ?it/s]"
      ]
     },
     "metadata": {},
     "output_type": "display_data"
    },
    {
     "data": {
      "application/vnd.jupyter.widget-view+json": {
       "model_id": "ee2a6598783f4b71a9b80d468f9e1608",
       "version_major": 2,
       "version_minor": 0
      },
      "text/plain": [
       "Loading checkpoint shards:   0%|          | 0/2 [00:00<?, ?it/s]"
      ]
     },
     "metadata": {},
     "output_type": "display_data"
    },
    {
     "data": {
      "application/vnd.jupyter.widget-view+json": {
       "model_id": "69fb46772f7b4044b6526c0c26b99e3a",
       "version_major": 2,
       "version_minor": 0
      },
      "text/plain": [
       "Loading checkpoint shards:   0%|          | 0/2 [00:00<?, ?it/s]"
      ]
     },
     "metadata": {},
     "output_type": "display_data"
    },
    {
     "data": {
      "application/vnd.jupyter.widget-view+json": {
       "model_id": "addb588ae7de45a2a672082348180eea",
       "version_major": 2,
       "version_minor": 0
      },
      "text/plain": [
       "Loading checkpoint shards:   0%|          | 0/2 [00:00<?, ?it/s]"
      ]
     },
     "metadata": {},
     "output_type": "display_data"
    },
    {
     "data": {
      "application/vnd.jupyter.widget-view+json": {
       "model_id": "89e99f56d26d47fa8088136bcf0ea0db",
       "version_major": 2,
       "version_minor": 0
      },
      "text/plain": [
       "Loading checkpoint shards:   0%|          | 0/2 [00:00<?, ?it/s]"
      ]
     },
     "metadata": {},
     "output_type": "display_data"
    },
    {
     "data": {
      "application/vnd.jupyter.widget-view+json": {
       "model_id": "d358c9148f09412d915996de1da164e3",
       "version_major": 2,
       "version_minor": 0
      },
      "text/plain": [
       "Loading checkpoint shards:   0%|          | 0/2 [00:00<?, ?it/s]"
      ]
     },
     "metadata": {},
     "output_type": "display_data"
    },
    {
     "data": {
      "application/vnd.jupyter.widget-view+json": {
       "model_id": "f91baf5a447f4e8ca541a6f5957444cb",
       "version_major": 2,
       "version_minor": 0
      },
      "text/plain": [
       "Loading checkpoint shards:   0%|          | 0/2 [00:00<?, ?it/s]"
      ]
     },
     "metadata": {},
     "output_type": "display_data"
    },
    {
     "data": {
      "application/vnd.jupyter.widget-view+json": {
       "model_id": "e66fa1ad499349dba8dc3723cbfad315",
       "version_major": 2,
       "version_minor": 0
      },
      "text/plain": [
       "Loading checkpoint shards:   0%|          | 0/2 [00:00<?, ?it/s]"
      ]
     },
     "metadata": {},
     "output_type": "display_data"
    },
    {
     "data": {
      "application/vnd.jupyter.widget-view+json": {
       "model_id": "53552c7c0be54088bd7b49c412e93c35",
       "version_major": 2,
       "version_minor": 0
      },
      "text/plain": [
       "Loading checkpoint shards:   0%|          | 0/2 [00:00<?, ?it/s]"
      ]
     },
     "metadata": {},
     "output_type": "display_data"
    },
    {
     "data": {
      "application/vnd.jupyter.widget-view+json": {
       "model_id": "9f27a24480fb4ecbb152154a989a4984",
       "version_major": 2,
       "version_minor": 0
      },
      "text/plain": [
       "Loading checkpoint shards:   0%|          | 0/2 [00:00<?, ?it/s]"
      ]
     },
     "metadata": {},
     "output_type": "display_data"
    },
    {
     "data": {
      "application/vnd.jupyter.widget-view+json": {
       "model_id": "3ce7bad8f8ff4989bcf755ee830fa3a9",
       "version_major": 2,
       "version_minor": 0
      },
      "text/plain": [
       "Loading checkpoint shards:   0%|          | 0/2 [00:00<?, ?it/s]"
      ]
     },
     "metadata": {},
     "output_type": "display_data"
    },
    {
     "data": {
      "application/vnd.jupyter.widget-view+json": {
       "model_id": "8c551494827c419b980aab8c010132a7",
       "version_major": 2,
       "version_minor": 0
      },
      "text/plain": [
       "Loading checkpoint shards:   0%|          | 0/2 [00:00<?, ?it/s]"
      ]
     },
     "metadata": {},
     "output_type": "display_data"
    },
    {
     "data": {
      "application/vnd.jupyter.widget-view+json": {
       "model_id": "4de3c767599c4c97a0a5dc8627e3a753",
       "version_major": 2,
       "version_minor": 0
      },
      "text/plain": [
       "Loading checkpoint shards:   0%|          | 0/2 [00:00<?, ?it/s]"
      ]
     },
     "metadata": {},
     "output_type": "display_data"
    },
    {
     "data": {
      "application/vnd.jupyter.widget-view+json": {
       "model_id": "4809685d331443c6973a95b988a35f4e",
       "version_major": 2,
       "version_minor": 0
      },
      "text/plain": [
       "Loading checkpoint shards:   0%|          | 0/2 [00:00<?, ?it/s]"
      ]
     },
     "metadata": {},
     "output_type": "display_data"
    },
    {
     "data": {
      "application/vnd.jupyter.widget-view+json": {
       "model_id": "766d553de7a646beaf8cf4af7c71a1dd",
       "version_major": 2,
       "version_minor": 0
      },
      "text/plain": [
       "Loading checkpoint shards:   0%|          | 0/2 [00:00<?, ?it/s]"
      ]
     },
     "metadata": {},
     "output_type": "display_data"
    },
    {
     "data": {
      "application/vnd.jupyter.widget-view+json": {
       "model_id": "fd107d441f79451783639cdf74359712",
       "version_major": 2,
       "version_minor": 0
      },
      "text/plain": [
       "Loading checkpoint shards:   0%|          | 0/2 [00:00<?, ?it/s]"
      ]
     },
     "metadata": {},
     "output_type": "display_data"
    },
    {
     "data": {
      "application/vnd.jupyter.widget-view+json": {
       "model_id": "2ae85d6155f34ff187b6baec963edc55",
       "version_major": 2,
       "version_minor": 0
      },
      "text/plain": [
       "Loading checkpoint shards:   0%|          | 0/2 [00:00<?, ?it/s]"
      ]
     },
     "metadata": {},
     "output_type": "display_data"
    },
    {
     "data": {
      "application/vnd.jupyter.widget-view+json": {
       "model_id": "f4caef8e6ffb4ed7854f354211febc5c",
       "version_major": 2,
       "version_minor": 0
      },
      "text/plain": [
       "Loading checkpoint shards:   0%|          | 0/2 [00:00<?, ?it/s]"
      ]
     },
     "metadata": {},
     "output_type": "display_data"
    },
    {
     "data": {
      "application/vnd.jupyter.widget-view+json": {
       "model_id": "b46a8a76fafe4bf6a554b1436fb50d7b",
       "version_major": 2,
       "version_minor": 0
      },
      "text/plain": [
       "Loading checkpoint shards:   0%|          | 0/2 [00:00<?, ?it/s]"
      ]
     },
     "metadata": {},
     "output_type": "display_data"
    },
    {
     "data": {
      "application/vnd.jupyter.widget-view+json": {
       "model_id": "c9f4389d7aca430291092c7bc5190fde",
       "version_major": 2,
       "version_minor": 0
      },
      "text/plain": [
       "Loading checkpoint shards:   0%|          | 0/2 [00:00<?, ?it/s]"
      ]
     },
     "metadata": {},
     "output_type": "display_data"
    },
    {
     "data": {
      "application/vnd.jupyter.widget-view+json": {
       "model_id": "2b7f05674152429e9895f61099541dfe",
       "version_major": 2,
       "version_minor": 0
      },
      "text/plain": [
       "Loading checkpoint shards:   0%|          | 0/2 [00:00<?, ?it/s]"
      ]
     },
     "metadata": {},
     "output_type": "display_data"
    },
    {
     "name": "stdout",
     "output_type": "stream",
     "text": [
      "{'gt': [0.21428571428571427, 0.39285714285714285, 0.46875, 0.6875, 0.6818181818181818, 0.32142857142857145, 0.8421052631578947, 0.8333333333333334, 0.375, 0.3157894736842105, 0.3125, 0.5789473684210527, 0.21739130434782608, 0.2608695652173913, 0.2608695652173913, 0.2608695652173913, 0.3125, 0.375, 0.6842105263157895, 0.391304347826087, 0.17857142857142858, 0.6923076923076923, 0.5769230769230769, 0.26785714285714285, 0.391304347826087, 0.8333333333333334, 0.6842105263157895, 0.6875, 0.6818181818181818, 0.2608695652173913, 0.5769230769230769, 0.6666666666666666, 0.38461538461538464, 0.46153846153846156, 0.6923076923076923, 0.6842105263157895, 0.6818181818181818, 0.32608695652173914, 0.6923076923076923, 0.5555555555555556, 0.8125, 0.17857142857142858, 0.8181818181818182, 0.5769230769230769, 0.5555555555555556, 0.8333333333333334, 0.5454545454545454, 0.6956521739130435, 0.2608695652173913, 0.6956521739130435, 0.2631578947368421, 0.5625, 0.6666666666666666, 0.8181818181818182, 0.8421052631578947], 'LLaVA': {'parameters': None, 'raw_answers': ['Yes, I can identify the two sections. The longer section has the size of 1.0, and the smaller section is approximately 0.3 times as long as the longer section.', 'Yes, I can identify the two sections. The longer section has the size of 1.0, and the smaller section is approximately 0.3 times as long as the longer section.', 'Yes, I can identify the two sections. The longer section has the size of 1.0, and the smaller section is approximately 0.3 times as long as the longer section.', 'Yes, I can identify the two sections. The longer section has the size of 1.0, and the smaller section is approximately 0.3 times as long as the longer section.', 'Yes, I can identify the two sections. The longer section has the size of 1.0, and the smaller section is approximately 0.3-0.4 in length.', 'Yes, I can identify the two sections. The longer section has the size of 1.0, and the smaller section is approximately 0.3-0.4 in length.', 'Yes, I can identify the two sections. The longer section has the size of 1.0, and the smaller section is approximately 0.2-0.3 in length.', 'Yes, I can identify the two sections. The longer section has the size of 1.0, and the smaller section is approximately 0.2-0.3 in length.', 'Yes, I can identify the two sections. The longer section has the size of 1.0, and the smaller section is approximately 0.3-0.4 in length.', 'Yes, I can identify the two sections. The longer section has the size of 1.0, and the smaller section is approximately 0.3-0.4 in length.', 'Yes, I can identify the two sections. The longer section has the size of 1.0, and the smaller section is approximately 0.1-0.2.', 'Yes, I can identify the two sections. The longer section has the size of 1.0, and the smaller section is approximately 0.2-0.3 in length.', 'Yes, I can identify the two sections. The longer section has the size of 1.0, and the smaller section is approximately 0.1-0.2.', 'Yes, I can identify the two sections. The longer section has the size of 1.0, and the smaller section is approximately 0.1-0.2 in length.', 'Yes, I can identify the two sections. The longer section has the size of 1.0, and the smaller section is approximately 0.1-0.2 in length.', 'Yes, I can identify the two sections. The longer section has the size of 1.0, and the smaller section is approximately 0.3 times as long as the longer section.', 'Yes, I can identify the two sections. The longer section has the size of 1.0, and the smaller section is approximately 0.3 times as long as the longer section.', 'Yes, I can identify the two sections. The longer section has the size of 1.0, and the smaller section is approximately 0.1-0.2 in length.', 'Yes, I can identify the two sections. The longer section has the size of 1.0, and the smaller section is approximately 0.3-0.4 in length.', 'Yes, I can identify the two sections. The longer section has the size of 1.0, and the smaller section is approximately 0.3-0.4 in length.', 'Yes, I can identify the two sections. The longer section has the size of 1.0, and the smaller section is approximately 0.3 times as long as the longer section.', 'Yes, I can identify the two sections. The longer section has the size of 1.0, and the smaller section is approximately 0.3-0.4 in length.', 'Yes, I can identify the two sections. The longer section has the size of 1.0, and the smaller section is approximately 0.3 times as long as the longer section.', 'Yes, I can identify the two sections. The longer section has the size of 1.0, and the smaller section is approximately 0.2-0.3 in length.', 'Yes, I can identify the two sections. The longer section has the size of 1.0, and the smaller section is approximately 0.3-0.4 in length.', 'Yes, I can identify the two sections. The longer section has the size of 1.0, and the smaller section is approximately 0.3-0.4 in length.', 'Yes, I can identify the two sections. The longer section has the size of 1.0, and the smaller section is approximately 0.3-0.4 in length.', 'Yes, I can identify the two sections. The longer section has the size of 1.0, and the smaller section is approximately 0.3 times as long as the longer section.', 'Yes, I can identify the two sections. The longer section has the size of 1.0, and the smaller section is approximately 0.3 times as long as the longer section.', 'Yes, I can identify the two sections. The longer section has the size of 1.0, and the smaller section is approximately 0.3 times as long as the longer section.', 'Yes, I can identify the two sections. The longer section has the size of 1.0, and the smaller section is approximately 0.3-0.4 in length.', 'Yes, I can identify the two sections. The longer section has the size of 1.0, and the smaller section is approximately 0.3-0.4 in length.', 'Yes, I can identify the two sections. The longer section has the size of 1.0, and the smaller section is approximately 0.3-0.4 in length.', 'Yes, I can identify the two sections. The longer section has the size of 1.0, and the smaller section is approximately 0.3-0.4 in length.', 'Yes, I can identify the two sections. The longer section has the size of 1.0, and the smaller section is approximately 0.3 times as long as the longer section.', 'Yes, I can identify the two sections. The longer section has the size of 1.0, and the smaller section is approximately 0.3 times as long as the longer section.', 'Yes, I can identify the two sections. The longer section has the size of 1.0, and the smaller section is approximately 0.3-0.4 in length.', 'Yes, I can identify the two sections. The longer section has the size of 1.0, and the smaller section is approximately 0.2-0.3 in length.', 'Yes, I can identify the two sections. The longer section has the size of 1.0, and the smaller section is approximately 0.3-0.4 in length.', 'Yes, I can identify the two sections. The longer section has the size of 1.0, and the smaller section is approximately 0.3-0.4 in length.', 'Yes, I can identify the two sections. The longer section has the size of 1.0, and the smaller section is approximately 0.3 times as long as the longer section.', 'Yes, I can identify the two sections. The longer section has the size of 1.0, and the smaller section is approximately 0.2-0.3 in length.', 'Yes, I can identify the two sections. The longer section has the size of 1.0, and the smaller section is approximately 0.3-0.4 in length.', 'Yes, I can identify the two sections. The longer section has the size of 1.0, and the smaller section is approximately 0.3 times as long as the longer section.', 'Yes, I can identify the two sections. The longer section has the size of 1.0, and the smaller section is approximately 0.3-0.4 in length.', 'Yes, I can identify the two sections. The longer section has the size of 1.0, and the smaller section is approximately 0.3-0.4 in length.', 'Yes, I can identify the two sections. The longer section has the size of 1.0, and the smaller section is approximately 0.3-0.4 in length.', 'Yes, I can identify the two sections. The longer section has the size of 1.0, and the smaller section is approximately 0.3-0.4 in length.', 'Yes, I can identify the two sections. The longer section has the size of 1.0, and the smaller section is approximately 0.3 times as long as the longer section.', 'Yes, I can identify the two sections. The longer section has the size of 1.0, and the smaller section is approximately 0.3 times as long as the longer section.', 'Yes, I can identify the two sections. The longer section has the size of 1.0, and the smaller section is approximately 0.3 times as long as the longer section.', 'Yes, I can identify the two sections. The longer section has the size of 1.0, and the smaller section is approximately 0.3 times as long as the longer section.', 'Yes, I can identify the two sections. The longer section has the size of 1.0, and the smaller section is approximately 0.3-0.4 in length.', 'Yes, I can identify the two sections. The longer section has the size of 1.0, and the smaller section is approximately 0.3-0.4 in length.', 'Yes, I can identify the two sections. The longer section has the size of 1.0, and the smaller section is approximately 0.3-0.4 in length.'], 'parsed_answers': [[0.3], [0.3], [0.3], [0.3], [0.3, 0.4], [0.3, 0.4], [0.2, 0.3], [0.2, 0.3], [0.3, 0.4], [0.3, 0.4], [1.0], [0.2, 0.3], [1.0], [0.1, 0.2], [0.1, 0.2], [0.3], [0.3], [0.1, 0.2], [0.3, 0.4], [0.3, 0.4], [0.3], [0.3, 0.4], [0.3], [0.2, 0.3], [0.3, 0.4], [0.3, 0.4], [0.3, 0.4], [0.3], [0.3], [0.3], [0.3, 0.4], [0.3, 0.4], [0.3, 0.4], [0.3, 0.4], [0.3], [0.3], [0.3, 0.4], [0.2, 0.3], [0.3, 0.4], [0.3, 0.4], [0.3], [0.2, 0.3], [0.3, 0.4], [0.3], [0.3, 0.4], [0.3, 0.4], [0.3, 0.4], [0.3, 0.4], [0.3], [0.3], [0.3], [0.3], [0.3, 0.4], [0.3, 0.4], [0.3, 0.4]], 'mean': 0.13999999999999999, 'std': 0.21875681807556405, 'mse': 0.266505452430048, 'mlae': 5.501791200363627, 'times': [21256.205320358276, 8013.581275939941, 7666.689872741699, 7706.592082977295, 8339.391231536865, 7489.271402359009, 7991.964340209961, 7712.368726730347, 7749.075651168823, 8059.587240219116, 7721.274375915527, 7843.86420249939, 7684.883832931519, 7743.398427963257, 7666.715145111084, 7601.234912872314, 7689.917087554932, 7569.190263748169, 7493.115186691284, 7645.117998123169, 7635.769367218018, 7799.705028533936, 7584.779739379883, 7735.793590545654, 7590.466260910034, 7561.4635944366455, 7910.91251373291, 7567.850112915039, 7793.210744857788, 7651.841878890991, 7756.4051151275635, 7602.400779724121, 7693.603038787842, 7501.18088722229, 7651.031732559204, 7732.84125328064, 7541.650295257568, 7764.716386795044, 7574.845790863037, 7495.405912399292, 7701.431512832642, 7636.3842487335205, 7575.635671615601, 7931.010484695435, 7616.269588470459, 7488.641738891602, 7543.499708175659, 7728.074550628662, 7744.354486465454, 7723.0072021484375, 7623.472452163696, 7836.086988449097, 7557.816028594971, 7869.755268096924, 7621.293067932129], 'forced_repetitions': 0}, 'CustomLLaVA': {'parameters': None, 'raw_answers': ['0.6842105263157895', '0.391304347826087', '0.39473684210526316', '0.5652173913043478', '0.391304347826087', '0.391304347826087', '0.375', '0.391304347826087', '0.3157894736842105', '0.6842105263157895', '0.8125', '0.2608695652173913', '0.5652173913043478', '0.2608695652173913', '0.39473684210526316', '0.375', '0.391304347826087', '0.3157894736842105', '0.39473684210526316', '0.5454545454545454', '0.46875', '0.5769230769230769', '0.375', '0.391304347826087', '0.5769230769230769', '0.8125', '0.375', '0.3157894736842105', '0.6842105263157895', '0.375', '0.6842105263157895', '0.391304347826087', '0.391304347826087', '0.8125', '0.5454545454545454', '0.5769230769230769', '0.6842105263157895', '0.375', '0.5789473684210527', '0.6842105263157895', '0.3157894736842105', '0.6842105263157895', '0.8125', '0.39473684210526316', '0.391304347826087', '0.2608695652173913', '0.8125', '0.5769230769230769', '0.3157894736842105', '0.3125', '0.8125', '0.3157894736842105', '0.5769230769230769', '0.375', '0.391304347826087'], 'parsed_answers': [[0.6842105263157895], [0.391304347826087], [0.39473684210526316], [0.5652173913043478], [0.391304347826087], [0.391304347826087], [0.375], [0.391304347826087], [0.3157894736842105], [0.6842105263157895], [0.8125], [0.2608695652173913], [0.5652173913043478], [0.2608695652173913], [0.39473684210526316], [0.375], [0.391304347826087], [0.3157894736842105], [0.39473684210526316], [0.5454545454545454], [0.46875], [0.5769230769230769], [0.375], [0.391304347826087], [0.5769230769230769], [0.8125], [0.375], [0.3157894736842105], [0.6842105263157895], [0.375], [0.6842105263157895], [0.391304347826087], [0.391304347826087], [0.8125], [0.5454545454545454], [0.5769230769230769], [0.6842105263157895], [0.375], [0.5789473684210527], [0.6842105263157895], [0.3157894736842105], [0.6842105263157895], [0.8125], [0.39473684210526316], [0.391304347826087], [0.2608695652173913], [0.8125], [0.5769230769230769], [0.3157894736842105], [0.3125], [0.8125], [0.3157894736842105], [0.5769230769230769], [0.375], [0.391304347826087]], 'mean': 0.4895448490037109, 'std': 0.1678226982250603, 'mse': 0.07473211281960083, 'mlae': 4.4453376570671335, 'times': [9953.040361404419, 9179.553270339966, 9201.216459274292, 9244.595527648926, 9471.787452697754, 9206.044673919678, 8841.981410980225, 9403.172016143799, 9273.382425308228, 9622.821569442749, 8990.512609481812, 9210.763454437256, 9394.10662651062, 9558.722734451294, 9228.564500808716, 8944.671630859375, 9204.645156860352, 9284.920930862427, 9529.486417770386, 9407.805442810059, 8960.346937179565, 9331.803321838379, 9170.149087905884, 9901.52907371521, 9281.790256500244, 8982.26261138916, 9007.088661193848, 9996.024370193481, 9834.646463394165, 9122.389793395996, 9359.488248825073, 9481.565952301025, 9442.85798072815, 8937.85572052002, 9288.780689239502, 9266.068935394287, 9918.415069580078, 8906.36396408081, 9222.712993621826, 9338.247537612915, 10037.095308303833, 9823.970794677734, 8911.71669960022, 9331.551790237427, 9388.753175735474, 9577.281951904297, 9003.35717201233, 9207.358837127686, 9462.15009689331, 9120.561599731445, 8931.206941604614, 9989.414930343628, 9663.814544677734, 8950.282096862793, 9482.186794281006], 'forced_repetitions': 0}}\n"
     ]
    }
   ],
   "source": [
    "import sys\n",
    "sys.path.append('../')\n",
    "import LLMP as L\n",
    "import torch\n",
    "torch.torch.cuda.empty_cache()\n",
    "\n",
    "query = \"What do you see? The chart with a white background consists of multiple bars with a black border. There are two sections with a tiny \\\n",
    "         black mark (looks like a dot) inside. Can you identify where the two sections are located? If so, proceed as follows: Say the longer \\\n",
    "         section has the size of 1.0. Please estimate the ratio of length of the smaller section to the longer section. It does not have to be \\\n",
    "         prefectly precise; give me a rough estimation. The value should be between 0 and 1.0. Please respond with just the range (Sample answer: 0.3-0.4)\"\n",
    "images = [L.GPImage.figure4('type1') for i in range(55)]\n",
    "models = [\"LLaVA\", \"CustomLLaVA\"]\n",
    "\n",
    "results = L.Evaluator.run(images, query, models)\n",
    "print(results)"
   ]
  },
  {
   "cell_type": "code",
   "execution_count": 2,
   "id": "a014d143-056e-486a-89ea-b8cc3f42c4b0",
   "metadata": {},
   "outputs": [
    {
     "data": {
      "text/plain": [
       "{'gt': [0.21428571428571427,\n",
       "  0.39285714285714285,\n",
       "  0.46875,\n",
       "  0.6875,\n",
       "  0.6818181818181818,\n",
       "  0.32142857142857145,\n",
       "  0.8421052631578947,\n",
       "  0.8333333333333334,\n",
       "  0.375,\n",
       "  0.3157894736842105,\n",
       "  0.3125,\n",
       "  0.5789473684210527,\n",
       "  0.21739130434782608,\n",
       "  0.2608695652173913,\n",
       "  0.2608695652173913,\n",
       "  0.2608695652173913,\n",
       "  0.3125,\n",
       "  0.375,\n",
       "  0.6842105263157895,\n",
       "  0.391304347826087,\n",
       "  0.17857142857142858,\n",
       "  0.6923076923076923,\n",
       "  0.5769230769230769,\n",
       "  0.26785714285714285,\n",
       "  0.391304347826087,\n",
       "  0.8333333333333334,\n",
       "  0.6842105263157895,\n",
       "  0.6875,\n",
       "  0.6818181818181818,\n",
       "  0.2608695652173913,\n",
       "  0.5769230769230769,\n",
       "  0.6666666666666666,\n",
       "  0.38461538461538464,\n",
       "  0.46153846153846156,\n",
       "  0.6923076923076923,\n",
       "  0.6842105263157895,\n",
       "  0.6818181818181818,\n",
       "  0.32608695652173914,\n",
       "  0.6923076923076923,\n",
       "  0.5555555555555556,\n",
       "  0.8125,\n",
       "  0.17857142857142858,\n",
       "  0.8181818181818182,\n",
       "  0.5769230769230769,\n",
       "  0.5555555555555556,\n",
       "  0.8333333333333334,\n",
       "  0.5454545454545454,\n",
       "  0.6956521739130435,\n",
       "  0.2608695652173913,\n",
       "  0.6956521739130435,\n",
       "  0.2631578947368421,\n",
       "  0.5625,\n",
       "  0.6666666666666666,\n",
       "  0.8181818181818182,\n",
       "  0.8421052631578947],\n",
       " 'LLaVA': {'parameters': None,\n",
       "  'raw_answers': ['Yes, I can identify the two sections. The longer section has the size of 1.0, and the smaller section is approximately 0.3 times as long as the longer section.',\n",
       "   'Yes, I can identify the two sections. The longer section has the size of 1.0, and the smaller section is approximately 0.3 times as long as the longer section.',\n",
       "   'Yes, I can identify the two sections. The longer section has the size of 1.0, and the smaller section is approximately 0.3 times as long as the longer section.',\n",
       "   'Yes, I can identify the two sections. The longer section has the size of 1.0, and the smaller section is approximately 0.3 times as long as the longer section.',\n",
       "   'Yes, I can identify the two sections. The longer section has the size of 1.0, and the smaller section is approximately 0.3-0.4 in length.',\n",
       "   'Yes, I can identify the two sections. The longer section has the size of 1.0, and the smaller section is approximately 0.3-0.4 in length.',\n",
       "   'Yes, I can identify the two sections. The longer section has the size of 1.0, and the smaller section is approximately 0.2-0.3 in length.',\n",
       "   'Yes, I can identify the two sections. The longer section has the size of 1.0, and the smaller section is approximately 0.2-0.3 in length.',\n",
       "   'Yes, I can identify the two sections. The longer section has the size of 1.0, and the smaller section is approximately 0.3-0.4 in length.',\n",
       "   'Yes, I can identify the two sections. The longer section has the size of 1.0, and the smaller section is approximately 0.3-0.4 in length.',\n",
       "   'Yes, I can identify the two sections. The longer section has the size of 1.0, and the smaller section is approximately 0.1-0.2.',\n",
       "   'Yes, I can identify the two sections. The longer section has the size of 1.0, and the smaller section is approximately 0.2-0.3 in length.',\n",
       "   'Yes, I can identify the two sections. The longer section has the size of 1.0, and the smaller section is approximately 0.1-0.2.',\n",
       "   'Yes, I can identify the two sections. The longer section has the size of 1.0, and the smaller section is approximately 0.1-0.2 in length.',\n",
       "   'Yes, I can identify the two sections. The longer section has the size of 1.0, and the smaller section is approximately 0.1-0.2 in length.',\n",
       "   'Yes, I can identify the two sections. The longer section has the size of 1.0, and the smaller section is approximately 0.3 times as long as the longer section.',\n",
       "   'Yes, I can identify the two sections. The longer section has the size of 1.0, and the smaller section is approximately 0.3 times as long as the longer section.',\n",
       "   'Yes, I can identify the two sections. The longer section has the size of 1.0, and the smaller section is approximately 0.1-0.2 in length.',\n",
       "   'Yes, I can identify the two sections. The longer section has the size of 1.0, and the smaller section is approximately 0.3-0.4 in length.',\n",
       "   'Yes, I can identify the two sections. The longer section has the size of 1.0, and the smaller section is approximately 0.3-0.4 in length.',\n",
       "   'Yes, I can identify the two sections. The longer section has the size of 1.0, and the smaller section is approximately 0.3 times as long as the longer section.',\n",
       "   'Yes, I can identify the two sections. The longer section has the size of 1.0, and the smaller section is approximately 0.3-0.4 in length.',\n",
       "   'Yes, I can identify the two sections. The longer section has the size of 1.0, and the smaller section is approximately 0.3 times as long as the longer section.',\n",
       "   'Yes, I can identify the two sections. The longer section has the size of 1.0, and the smaller section is approximately 0.2-0.3 in length.',\n",
       "   'Yes, I can identify the two sections. The longer section has the size of 1.0, and the smaller section is approximately 0.3-0.4 in length.',\n",
       "   'Yes, I can identify the two sections. The longer section has the size of 1.0, and the smaller section is approximately 0.3-0.4 in length.',\n",
       "   'Yes, I can identify the two sections. The longer section has the size of 1.0, and the smaller section is approximately 0.3-0.4 in length.',\n",
       "   'Yes, I can identify the two sections. The longer section has the size of 1.0, and the smaller section is approximately 0.3 times as long as the longer section.',\n",
       "   'Yes, I can identify the two sections. The longer section has the size of 1.0, and the smaller section is approximately 0.3 times as long as the longer section.',\n",
       "   'Yes, I can identify the two sections. The longer section has the size of 1.0, and the smaller section is approximately 0.3 times as long as the longer section.',\n",
       "   'Yes, I can identify the two sections. The longer section has the size of 1.0, and the smaller section is approximately 0.3-0.4 in length.',\n",
       "   'Yes, I can identify the two sections. The longer section has the size of 1.0, and the smaller section is approximately 0.3-0.4 in length.',\n",
       "   'Yes, I can identify the two sections. The longer section has the size of 1.0, and the smaller section is approximately 0.3-0.4 in length.',\n",
       "   'Yes, I can identify the two sections. The longer section has the size of 1.0, and the smaller section is approximately 0.3-0.4 in length.',\n",
       "   'Yes, I can identify the two sections. The longer section has the size of 1.0, and the smaller section is approximately 0.3 times as long as the longer section.',\n",
       "   'Yes, I can identify the two sections. The longer section has the size of 1.0, and the smaller section is approximately 0.3 times as long as the longer section.',\n",
       "   'Yes, I can identify the two sections. The longer section has the size of 1.0, and the smaller section is approximately 0.3-0.4 in length.',\n",
       "   'Yes, I can identify the two sections. The longer section has the size of 1.0, and the smaller section is approximately 0.2-0.3 in length.',\n",
       "   'Yes, I can identify the two sections. The longer section has the size of 1.0, and the smaller section is approximately 0.3-0.4 in length.',\n",
       "   'Yes, I can identify the two sections. The longer section has the size of 1.0, and the smaller section is approximately 0.3-0.4 in length.',\n",
       "   'Yes, I can identify the two sections. The longer section has the size of 1.0, and the smaller section is approximately 0.3 times as long as the longer section.',\n",
       "   'Yes, I can identify the two sections. The longer section has the size of 1.0, and the smaller section is approximately 0.2-0.3 in length.',\n",
       "   'Yes, I can identify the two sections. The longer section has the size of 1.0, and the smaller section is approximately 0.3-0.4 in length.',\n",
       "   'Yes, I can identify the two sections. The longer section has the size of 1.0, and the smaller section is approximately 0.3 times as long as the longer section.',\n",
       "   'Yes, I can identify the two sections. The longer section has the size of 1.0, and the smaller section is approximately 0.3-0.4 in length.',\n",
       "   'Yes, I can identify the two sections. The longer section has the size of 1.0, and the smaller section is approximately 0.3-0.4 in length.',\n",
       "   'Yes, I can identify the two sections. The longer section has the size of 1.0, and the smaller section is approximately 0.3-0.4 in length.',\n",
       "   'Yes, I can identify the two sections. The longer section has the size of 1.0, and the smaller section is approximately 0.3-0.4 in length.',\n",
       "   'Yes, I can identify the two sections. The longer section has the size of 1.0, and the smaller section is approximately 0.3 times as long as the longer section.',\n",
       "   'Yes, I can identify the two sections. The longer section has the size of 1.0, and the smaller section is approximately 0.3 times as long as the longer section.',\n",
       "   'Yes, I can identify the two sections. The longer section has the size of 1.0, and the smaller section is approximately 0.3 times as long as the longer section.',\n",
       "   'Yes, I can identify the two sections. The longer section has the size of 1.0, and the smaller section is approximately 0.3 times as long as the longer section.',\n",
       "   'Yes, I can identify the two sections. The longer section has the size of 1.0, and the smaller section is approximately 0.3-0.4 in length.',\n",
       "   'Yes, I can identify the two sections. The longer section has the size of 1.0, and the smaller section is approximately 0.3-0.4 in length.',\n",
       "   'Yes, I can identify the two sections. The longer section has the size of 1.0, and the smaller section is approximately 0.3-0.4 in length.'],\n",
       "  'parsed_answers': [[0.3],\n",
       "   [0.3],\n",
       "   [0.3],\n",
       "   [0.3],\n",
       "   [0.3, 0.4],\n",
       "   [0.3, 0.4],\n",
       "   [0.2, 0.3],\n",
       "   [0.2, 0.3],\n",
       "   [0.3, 0.4],\n",
       "   [0.3, 0.4],\n",
       "   [1.0],\n",
       "   [0.2, 0.3],\n",
       "   [1.0],\n",
       "   [0.1, 0.2],\n",
       "   [0.1, 0.2],\n",
       "   [0.3],\n",
       "   [0.3],\n",
       "   [0.1, 0.2],\n",
       "   [0.3, 0.4],\n",
       "   [0.3, 0.4],\n",
       "   [0.3],\n",
       "   [0.3, 0.4],\n",
       "   [0.3],\n",
       "   [0.2, 0.3],\n",
       "   [0.3, 0.4],\n",
       "   [0.3, 0.4],\n",
       "   [0.3, 0.4],\n",
       "   [0.3],\n",
       "   [0.3],\n",
       "   [0.3],\n",
       "   [0.3, 0.4],\n",
       "   [0.3, 0.4],\n",
       "   [0.3, 0.4],\n",
       "   [0.3, 0.4],\n",
       "   [0.3],\n",
       "   [0.3],\n",
       "   [0.3, 0.4],\n",
       "   [0.2, 0.3],\n",
       "   [0.3, 0.4],\n",
       "   [0.3, 0.4],\n",
       "   [0.3],\n",
       "   [0.2, 0.3],\n",
       "   [0.3, 0.4],\n",
       "   [0.3],\n",
       "   [0.3, 0.4],\n",
       "   [0.3, 0.4],\n",
       "   [0.3, 0.4],\n",
       "   [0.3, 0.4],\n",
       "   [0.3],\n",
       "   [0.3],\n",
       "   [0.3],\n",
       "   [0.3],\n",
       "   [0.3, 0.4],\n",
       "   [0.3, 0.4],\n",
       "   [0.3, 0.4]],\n",
       "  'mean': 0.13999999999999999,\n",
       "  'std': 0.21875681807556405,\n",
       "  'mse': 0.266505452430048,\n",
       "  'mlae': 5.501791200363627,\n",
       "  'times': [21256.205320358276,\n",
       "   8013.581275939941,\n",
       "   7666.689872741699,\n",
       "   7706.592082977295,\n",
       "   8339.391231536865,\n",
       "   7489.271402359009,\n",
       "   7991.964340209961,\n",
       "   7712.368726730347,\n",
       "   7749.075651168823,\n",
       "   8059.587240219116,\n",
       "   7721.274375915527,\n",
       "   7843.86420249939,\n",
       "   7684.883832931519,\n",
       "   7743.398427963257,\n",
       "   7666.715145111084,\n",
       "   7601.234912872314,\n",
       "   7689.917087554932,\n",
       "   7569.190263748169,\n",
       "   7493.115186691284,\n",
       "   7645.117998123169,\n",
       "   7635.769367218018,\n",
       "   7799.705028533936,\n",
       "   7584.779739379883,\n",
       "   7735.793590545654,\n",
       "   7590.466260910034,\n",
       "   7561.4635944366455,\n",
       "   7910.91251373291,\n",
       "   7567.850112915039,\n",
       "   7793.210744857788,\n",
       "   7651.841878890991,\n",
       "   7756.4051151275635,\n",
       "   7602.400779724121,\n",
       "   7693.603038787842,\n",
       "   7501.18088722229,\n",
       "   7651.031732559204,\n",
       "   7732.84125328064,\n",
       "   7541.650295257568,\n",
       "   7764.716386795044,\n",
       "   7574.845790863037,\n",
       "   7495.405912399292,\n",
       "   7701.431512832642,\n",
       "   7636.3842487335205,\n",
       "   7575.635671615601,\n",
       "   7931.010484695435,\n",
       "   7616.269588470459,\n",
       "   7488.641738891602,\n",
       "   7543.499708175659,\n",
       "   7728.074550628662,\n",
       "   7744.354486465454,\n",
       "   7723.0072021484375,\n",
       "   7623.472452163696,\n",
       "   7836.086988449097,\n",
       "   7557.816028594971,\n",
       "   7869.755268096924,\n",
       "   7621.293067932129],\n",
       "  'forced_repetitions': 0},\n",
       " 'CustomLLaVA': {'parameters': None,\n",
       "  'raw_answers': ['0.6842105263157895',\n",
       "   '0.391304347826087',\n",
       "   '0.39473684210526316',\n",
       "   '0.5652173913043478',\n",
       "   '0.391304347826087',\n",
       "   '0.391304347826087',\n",
       "   '0.375',\n",
       "   '0.391304347826087',\n",
       "   '0.3157894736842105',\n",
       "   '0.6842105263157895',\n",
       "   '0.8125',\n",
       "   '0.2608695652173913',\n",
       "   '0.5652173913043478',\n",
       "   '0.2608695652173913',\n",
       "   '0.39473684210526316',\n",
       "   '0.375',\n",
       "   '0.391304347826087',\n",
       "   '0.3157894736842105',\n",
       "   '0.39473684210526316',\n",
       "   '0.5454545454545454',\n",
       "   '0.46875',\n",
       "   '0.5769230769230769',\n",
       "   '0.375',\n",
       "   '0.391304347826087',\n",
       "   '0.5769230769230769',\n",
       "   '0.8125',\n",
       "   '0.375',\n",
       "   '0.3157894736842105',\n",
       "   '0.6842105263157895',\n",
       "   '0.375',\n",
       "   '0.6842105263157895',\n",
       "   '0.391304347826087',\n",
       "   '0.391304347826087',\n",
       "   '0.8125',\n",
       "   '0.5454545454545454',\n",
       "   '0.5769230769230769',\n",
       "   '0.6842105263157895',\n",
       "   '0.375',\n",
       "   '0.5789473684210527',\n",
       "   '0.6842105263157895',\n",
       "   '0.3157894736842105',\n",
       "   '0.6842105263157895',\n",
       "   '0.8125',\n",
       "   '0.39473684210526316',\n",
       "   '0.391304347826087',\n",
       "   '0.2608695652173913',\n",
       "   '0.8125',\n",
       "   '0.5769230769230769',\n",
       "   '0.3157894736842105',\n",
       "   '0.3125',\n",
       "   '0.8125',\n",
       "   '0.3157894736842105',\n",
       "   '0.5769230769230769',\n",
       "   '0.375',\n",
       "   '0.391304347826087'],\n",
       "  'parsed_answers': [[0.6842105263157895],\n",
       "   [0.391304347826087],\n",
       "   [0.39473684210526316],\n",
       "   [0.5652173913043478],\n",
       "   [0.391304347826087],\n",
       "   [0.391304347826087],\n",
       "   [0.375],\n",
       "   [0.391304347826087],\n",
       "   [0.3157894736842105],\n",
       "   [0.6842105263157895],\n",
       "   [0.8125],\n",
       "   [0.2608695652173913],\n",
       "   [0.5652173913043478],\n",
       "   [0.2608695652173913],\n",
       "   [0.39473684210526316],\n",
       "   [0.375],\n",
       "   [0.391304347826087],\n",
       "   [0.3157894736842105],\n",
       "   [0.39473684210526316],\n",
       "   [0.5454545454545454],\n",
       "   [0.46875],\n",
       "   [0.5769230769230769],\n",
       "   [0.375],\n",
       "   [0.391304347826087],\n",
       "   [0.5769230769230769],\n",
       "   [0.8125],\n",
       "   [0.375],\n",
       "   [0.3157894736842105],\n",
       "   [0.6842105263157895],\n",
       "   [0.375],\n",
       "   [0.6842105263157895],\n",
       "   [0.391304347826087],\n",
       "   [0.391304347826087],\n",
       "   [0.8125],\n",
       "   [0.5454545454545454],\n",
       "   [0.5769230769230769],\n",
       "   [0.6842105263157895],\n",
       "   [0.375],\n",
       "   [0.5789473684210527],\n",
       "   [0.6842105263157895],\n",
       "   [0.3157894736842105],\n",
       "   [0.6842105263157895],\n",
       "   [0.8125],\n",
       "   [0.39473684210526316],\n",
       "   [0.391304347826087],\n",
       "   [0.2608695652173913],\n",
       "   [0.8125],\n",
       "   [0.5769230769230769],\n",
       "   [0.3157894736842105],\n",
       "   [0.3125],\n",
       "   [0.8125],\n",
       "   [0.3157894736842105],\n",
       "   [0.5769230769230769],\n",
       "   [0.375],\n",
       "   [0.391304347826087]],\n",
       "  'mean': 0.4895448490037109,\n",
       "  'std': 0.1678226982250603,\n",
       "  'mse': 0.07473211281960083,\n",
       "  'mlae': 4.4453376570671335,\n",
       "  'times': [9953.040361404419,\n",
       "   9179.553270339966,\n",
       "   9201.216459274292,\n",
       "   9244.595527648926,\n",
       "   9471.787452697754,\n",
       "   9206.044673919678,\n",
       "   8841.981410980225,\n",
       "   9403.172016143799,\n",
       "   9273.382425308228,\n",
       "   9622.821569442749,\n",
       "   8990.512609481812,\n",
       "   9210.763454437256,\n",
       "   9394.10662651062,\n",
       "   9558.722734451294,\n",
       "   9228.564500808716,\n",
       "   8944.671630859375,\n",
       "   9204.645156860352,\n",
       "   9284.920930862427,\n",
       "   9529.486417770386,\n",
       "   9407.805442810059,\n",
       "   8960.346937179565,\n",
       "   9331.803321838379,\n",
       "   9170.149087905884,\n",
       "   9901.52907371521,\n",
       "   9281.790256500244,\n",
       "   8982.26261138916,\n",
       "   9007.088661193848,\n",
       "   9996.024370193481,\n",
       "   9834.646463394165,\n",
       "   9122.389793395996,\n",
       "   9359.488248825073,\n",
       "   9481.565952301025,\n",
       "   9442.85798072815,\n",
       "   8937.85572052002,\n",
       "   9288.780689239502,\n",
       "   9266.068935394287,\n",
       "   9918.415069580078,\n",
       "   8906.36396408081,\n",
       "   9222.712993621826,\n",
       "   9338.247537612915,\n",
       "   10037.095308303833,\n",
       "   9823.970794677734,\n",
       "   8911.71669960022,\n",
       "   9331.551790237427,\n",
       "   9388.753175735474,\n",
       "   9577.281951904297,\n",
       "   9003.35717201233,\n",
       "   9207.358837127686,\n",
       "   9462.15009689331,\n",
       "   9120.561599731445,\n",
       "   8931.206941604614,\n",
       "   9989.414930343628,\n",
       "   9663.814544677734,\n",
       "   8950.282096862793,\n",
       "   9482.186794281006],\n",
       "  'forced_repetitions': 0}}"
      ]
     },
     "metadata": {},
     "output_type": "display_data"
    }
   ],
   "source": [
    "from IPython.display import display\n",
    "display(results)"
   ]
  },
  {
   "cell_type": "code",
   "execution_count": 3,
   "id": "eb3b0d79-f85f-4b8c-be64-87f7d4dfe254",
   "metadata": {},
   "outputs": [
    {
     "data": {
      "text/plain": [
       "'LLaVA mse:    0.266505'"
      ]
     },
     "metadata": {},
     "output_type": "display_data"
    },
    {
     "data": {
      "text/plain": [
       "'LLaVA mlae:   5.501791'"
      ]
     },
     "metadata": {},
     "output_type": "display_data"
    },
    {
     "data": {
      "text/plain": [
       "'LLaVA mean:   0.140000'"
      ]
     },
     "metadata": {},
     "output_type": "display_data"
    },
    {
     "data": {
      "text/plain": [
       "'LLaVA std:    0.218757'"
      ]
     },
     "metadata": {},
     "output_type": "display_data"
    },
    {
     "data": {
      "text/plain": [
       "'CLLaVA  mse:  0.074732'"
      ]
     },
     "metadata": {},
     "output_type": "display_data"
    },
    {
     "data": {
      "text/plain": [
       "'CLLaVA  mlae: 4.445338'"
      ]
     },
     "metadata": {},
     "output_type": "display_data"
    },
    {
     "data": {
      "text/plain": [
       "'CLLaVA  mean: 0.489545'"
      ]
     },
     "metadata": {},
     "output_type": "display_data"
    },
    {
     "data": {
      "text/plain": [
       "'CLLaVA  std:  0.167823'"
      ]
     },
     "metadata": {},
     "output_type": "display_data"
    }
   ],
   "source": [
    "llava_mse = results[\"LLaVA\"][\"mse\"]\n",
    "llava_mlae = results[\"LLaVA\"][\"mlae\"]\n",
    "llava_mean = results[\"LLaVA\"][\"mean\"]\n",
    "llava_std = results[\"LLaVA\"][\"std\"]\n",
    "custom_llava_mse = results[\"CustomLLaVA\"][\"mse\"]\n",
    "custom_llava_mlae = results[\"CustomLLaVA\"][\"mlae\"]\n",
    "custom_llava_mean = results[\"CustomLLaVA\"][\"mean\"]\n",
    "custom_llava_std = results[\"CustomLLaVA\"][\"std\"]\n",
    "\n",
    "display(f\"LLaVA mse:    {llava_mse:f}\")\n",
    "display(f\"LLaVA mlae:   {llava_mlae:f}\")\n",
    "display(f\"LLaVA mean:   {llava_mean:f}\")\n",
    "display(f\"LLaVA std:    {llava_std:f}\")\n",
    "display(f\"CLLaVA  mse:  {custom_llava_mse:f}\")\n",
    "display(f\"CLLaVA  mlae: {custom_llava_mlae:f}\")\n",
    "display(f\"CLLaVA  mean: {custom_llava_mean:f}\")\n",
    "display(f\"CLLaVA  std:  {custom_llava_std:f}\")"
   ]
  },
  {
   "cell_type": "code",
   "execution_count": null,
   "id": "bf48cf34-32ba-4a0d-a7ff-1f42de3e449d",
   "metadata": {},
   "outputs": [],
   "source": []
  }
 ],
 "metadata": {
  "kernelspec": {
   "display_name": "Python 3 (ipykernel)",
   "language": "python",
   "name": "python3"
  },
  "language_info": {
   "codemirror_mode": {
    "name": "ipython",
    "version": 3
   },
   "file_extension": ".py",
   "mimetype": "text/x-python",
   "name": "python",
   "nbconvert_exporter": "python",
   "pygments_lexer": "ipython3",
   "version": "3.11.7"
  }
 },
 "nbformat": 4,
 "nbformat_minor": 5
}
