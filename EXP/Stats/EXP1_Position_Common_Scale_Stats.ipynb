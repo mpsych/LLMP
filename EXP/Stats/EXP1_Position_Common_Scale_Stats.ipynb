{
 "cells": [
  {
   "cell_type": "code",
   "execution_count": 5,
   "id": "a29ec6f5-bd21-4c90-a150-582b5e760363",
   "metadata": {},
   "outputs": [],
   "source": [
    "GT = [10, 52, 56, 47, 5, 1, 48, 45, 30, 37, 41, 52, 24, 21, 15, 20, 46, 18, 45, 37, 41, 5, 12, 18, 26, 25, 3, 53, 16, 17, 52, 37, 20, 48, 56, 0, 10, 19, 51, 22, 26, 3, 40, 59, 13, 8, 13, 54, 55, 34, 9, 49, 6, 3, 28]\n",
    "ChatGPT_answer = [[20.0, 30.0], [60.0, 70.0], [20.0, 30.0], [60.0, 70.0], [20.0, 30.0], [60.0, 70.0], [60.0, 70.0], [10.0, 20.0], [70.0, 75.0], [60.0, 70.0], [20.0, 30.0], [60.0, 70.0], [20.0, 30.0], [20.0, 30.0], [10.0, 20.0], [10.0, 20.0], [20.0, 30.0], [20.0, 30.0], [60.0, 70.0], [20.0, 30.0], [60.0, 70.0], [5.0, 10.0], [15.0, 25.0], [20.0, 30.0], [70.0, 80.0], [20.0, 30.0], [5.0, 10.0], [70.0, 80.0], [20.0, 30.0], [5.0, 15.0], [60.0, 70.0], [10.0, 20.0], [60.0, 70.0], [25.0, 35.0], [20.0, 30.0], [65.0, 75.0], [10.0, 20.0], [20.0, 30.0], [60.0, 70.0], [50.0], [10.0, 20.0], [30.0, 40.0], [20.0, 30.0], [70.0, 80.0], [15.0, 25.0], [60.0, 70.0], [20.0, 30.0], [60.0, 70.0], [70.0], [10.0, 20.0], [20.0, 30.0], [10.0, 20.0], [20.0, 30.0], [10.0, 20.0], [20.0, 30.0]]\n",
    "LLaVA_answer = [[100.0], [100.0], [100.0], [100.0], [100.0], [100.0], [100.0], [100.0], [100.0], [100.0], [100.0], [100.0], [100.0], [100.0], [100.0], [100.0], [100.0], [100.0], [100.0], [100.0], [100.0], [100.0], [100.0], [100.0], [100.0], [100.0], [100.0], [100.0], [100.0], [100.0], [100.0], [100.0], [100.0], [100.0], [100.0], [100.0], [100.0], [100.0], [100.0], [100.0], [100.0], [100.0], [100.0], [100.0], [100.0], [100.0], [100.0], [100.0], [100.0], [100.0], [100.0], [100.0], [100.0], [100.0], [100.0]]\n",
    "customLLaVA_answer =  [[45.0], [27.0], [46.0], [50.0], [47.0], [37.0], [49.0], [49.0], [31.0], [46.0], [37.0], [47.0], [21.0], [56.0], [51.0], [36.0], [53.0], [17.0], [31.0], [47.0], [13.0], [41.0], [38.0], [11.0], [49.0], [39.0], [15.0], [44.0], [31.0], [46.0], [43.0], [46.0], [46.0], [47.0], [41.0], [11.0], [13.0], [46.0], [57.0], [46.0], [37.0], [41.0], [51.0], [53.0], [13.0], [46.0], [34.0], [13.0], [51.0], [53.0], [49.0], [59.0], [49.0], [37.0], [46.0]]"
   ]
  },
  {
   "cell_type": "code",
   "execution_count": 6,
   "id": "4984f332-51b7-4892-a84b-4a23d0342366",
   "metadata": {},
   "outputs": [],
   "source": [
    "ChatGPT_midpoints = [(sum(sublist) / 2) if len(sublist) > 1 else sublist[0] for sublist in ChatGPT_answer]\n",
    "LLaVA_midpoints = [(sum(sublist) / 2) if len(sublist) > 1 else sublist[0] for sublist in LLaVA_answer]\n",
    "CustomLLaVA_midpoints = [(sum(sublist) / 2) if len(sublist) > 1 else sublist[0] for sublist in customLLaVA_answer]"
   ]
  },
  {
   "cell_type": "code",
   "execution_count": 7,
   "id": "f5888200-6040-4e24-8aa8-4d40a1d44f73",
   "metadata": {},
   "outputs": [],
   "source": [
    "import numpy as np\n",
    "from sklearn.metrics import mean_squared_error\n",
    "from sklearn.metrics import mean_absolute_error\n",
    "\n",
    "# Calculate mean squared error (MSE)\n",
    "def calculate_mse(gt, answers):\n",
    "    gt_array = np.array(gt)\n",
    "    answers_array = np.array(answers)\n",
    "\n",
    "    return mean_squared_error(gt_array,answers_array)\n",
    "\n",
    "\n",
    "# Calculate midmean logistic absoulte error (MALE)\n",
    "def calculate_mlae(gt, answers):\n",
    "    gt_array = np.array(gt)\n",
    "    answers_array = np.array(answers)\n",
    "\n",
    "    mlae = np.log2(mean_absolute_error(gt_array*100, answers_array*100) + .125)\n",
    "    return mlae\n",
    "\n",
    "# Calculate mean\n",
    "def calculate_mean(answers):\n",
    "    return np.mean(answers)\n",
    "\n",
    "# Calculate std\n",
    "def calculate_std(answers):\n",
    "    return np.std(answers)"
   ]
  },
  {
   "cell_type": "code",
   "execution_count": 8,
   "id": "52296ba2-0725-4be6-a941-01ac02a1ee53",
   "metadata": {},
   "outputs": [
    {
     "name": "stdout",
     "output_type": "stream",
     "text": [
      "ChatGPT mse:  596.1954545454546\n",
      "ChatGPT mlae:    10.887038830257652\n",
      "ChatGPT mean: 37.68181818181818\n",
      "ChatGPT_std: 22.68286570727373\n",
      "LLaVA mse:    5405.581818181819\n",
      "LLaVA mlae:   12.798791642455\n",
      "LLaVA mean:   100.0\n",
      "LLaVA std:   0.0\n",
      "CLLaVA mse:   478.92727272727274\n",
      "CLLaVA mlae:  10.770992303825448\n",
      "CLLaVA mean:  39.6\n",
      "CLLaVA std:  13.117095022076413\n"
     ]
    }
   ],
   "source": [
    "ChatGPT_mse = calculate_mse(GT, ChatGPT_midpoints)\n",
    "ChatGPT_mlae = calculate_mlae(GT, ChatGPT_midpoints)\n",
    "ChatGPT_mean = calculate_mean(ChatGPT_midpoints)\n",
    "ChatGPT_std = calculate_std(ChatGPT_midpoints)\n",
    "llava_mse = calculate_mse(GT, LLaVA_midpoints)\n",
    "llava_mlae = calculate_mlae(GT, LLaVA_midpoints)\n",
    "llava_mean = calculate_mean(LLaVA_midpoints)\n",
    "llava_std = calculate_std(LLaVA_midpoints)\n",
    "custom_llava_mse = calculate_mse(GT, CustomLLaVA_midpoints)\n",
    "custom_llava_mlae = calculate_mlae(GT, CustomLLaVA_midpoints)\n",
    "custom_llava_mean = calculate_mean(CustomLLaVA_midpoints)\n",
    "custom_llava_std = calculate_std(CustomLLaVA_midpoints)\n",
    "\n",
    "print(\"ChatGPT mse: \", ChatGPT_mse)\n",
    "print(\"ChatGPT mlae:   \", ChatGPT_mlae)\n",
    "print(\"ChatGPT mean:\", ChatGPT_mean)\n",
    "print(\"ChatGPT_std:\", ChatGPT_std)\n",
    "print(\"LLaVA mse:   \", llava_mse)\n",
    "print(\"LLaVA mlae:  \", llava_mlae)\n",
    "print(\"LLaVA mean:  \", llava_mean)\n",
    "print(\"LLaVA std:  \", llava_std)\n",
    "print(\"CLLaVA mse:  \", custom_llava_mse)\n",
    "print(\"CLLaVA mlae: \", custom_llava_mlae)\n",
    "print(\"CLLaVA mean: \", custom_llava_mean)\n",
    "print(\"CLLaVA std: \", custom_llava_std)\n",
    "\n",
    "\n"
   ]
  },
  {
   "cell_type": "code",
   "execution_count": null,
   "id": "64987679-7bac-4493-9269-1c7edd79e852",
   "metadata": {},
   "outputs": [],
   "source": []
  }
 ],
 "metadata": {
  "kernelspec": {
   "display_name": "Python 3 (ipykernel)",
   "language": "python",
   "name": "python3"
  },
  "language_info": {
   "codemirror_mode": {
    "name": "ipython",
    "version": 3
   },
   "file_extension": ".py",
   "mimetype": "text/x-python",
   "name": "python",
   "nbconvert_exporter": "python",
   "pygments_lexer": "ipython3",
   "version": "3.11.7"
  }
 },
 "nbformat": 4,
 "nbformat_minor": 5
}
