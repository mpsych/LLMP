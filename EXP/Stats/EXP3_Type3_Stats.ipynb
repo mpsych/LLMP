{
 "cells": [
  {
   "cell_type": "code",
   "execution_count": 1,
   "id": "d9554e40-ad8b-416c-8ac9-02695faf36e8",
   "metadata": {},
   "outputs": [],
   "source": [
    "GT = [0.4782608695652174, 0.32608695652173914, 0.4782608695652174, 0.21428571428571427, 0.8181818181818182, 0.4782608695652174, 0.21739130434782608, 0.6818181818181818, 0.6842105263157895, 0.4782608695652174, 0.45454545454545453, 0.5625, 0.38461538461538464, 0.5789473684210527, 0.5454545454545454, 0.6666666666666666, 0.45454545454545453, 0.4782608695652174, 0.6923076923076923, 0.5454545454545454, 0.6875, 0.47368421052631576, 0.5454545454545454, 0.6956521739130435, 0.8, 0.8333333333333334, 0.8, 0.5789473684210527, 0.5652173913043478, 0.6875, 0.47368421052631576, 0.5625, 0.45454545454545453, 0.26785714285714285, 0.8, 0.8461538461538461, 0.3157894736842105, 0.21739130434782608, 0.32608695652173914, 0.4782608695652174, 0.5555555555555556, 0.32142857142857145, 0.45454545454545453, 0.32142857142857145, 0.3157894736842105, 0.2631578947368421, 0.5625, 0.21739130434782608, 0.391304347826087, 0.32608695652173914, 0.8421052631578947, 0.46153846153846156, 0.32608695652173914, 0.46875, 0.45454545454545453]\n",
    "#ChatGPT_answer = \n",
    "LLaVA_answer = [[0.3, 0.4], [0.3], [0.3, 0.4], [0.1, 0.2], [0.3], [0.3], [0.3], [0.3], [0.3], [0.3], [0.3], [0.3, 0.4], [0.3, 0.4], [0.3, 0.4], [0.3], [0.2, 0.3], [0.3], [0.3, 0.4], [0.3], [0.3], [0.3], [0.3], [0.3, 0.4], [0.3, 0.4], [0.3], [0.3, 0.4], [0.3], [0.3, 0.4], [0.3, 0.4], [0.3], [0.3], [0.3], [0.3], [0.3], [0.3], [0.3], [0.3, 0.4], [0.3], [0.3], [0.3], [0.3], [0.3, 0.4], [0.3], [0.3], [0.3], [0.3], [0.3], [0.3], [0.3], [0.3], [0.3], [0.3], [0.3], [0.3], [0.3, 0.4]]\n",
    "CustomLLaVA_answer = [[0.391304347826087], [0.39285714285714285], [0.375], [0.5769230769230769], [0.8421052631578947], [0.5652173913043478], [0.3157894736842105], [0.6842105263157895], [0.5769230769230769], [0.375], [0.3157894736842105], [0.5555555555555556], [0.5652173913043478], [0.6842105263157895], [0.39473684210526316], [0.391304347826087], [0.6923076923076923], [0.8125], [0.391304347826087], [0.3157894736842105], [0.2631578947368421], [0.5454545454545454], [0.8125], [0.8125], [0.375], [0.8125], [0.6842105263157895], [0.6842105263157895], [0.6842105263157895], [0.39473684210526316], [0.3157894736842105], [0.39473684210526316], [0.3157894736842105], [0.39285714285714285], [0.8125], [0.5652173913043478], [0.8125], [0.39473684210526316], [0.8125], [0.375], [0.5769230769230769], [0.3157894736842105], [0.3125], [0.8125], [0.6842105263157895], [0.8125], [0.391304347826087], [0.391304347826087], [0.46153846153846156], [0.6842105263157895], [0.8333333333333334], [0.6842105263157895], [0.391304347826087], [0.3157894736842105], [0.5454545454545454]]"
   ]
  },
  {
   "cell_type": "code",
   "execution_count": 2,
   "id": "f3d18b1b-01af-432d-9066-ad39a8a9c950",
   "metadata": {},
   "outputs": [],
   "source": [
    "#ChatGPT_midpoints = [(sum(sublist) / 2) if len(sublist) > 1 else sublist[0] for sublist in ChatGPT_answer]\n",
    "LLaVA_midpoints = [(sum(sublist) / 2) if len(sublist) > 1 else sublist[0] for sublist in LLaVA_answer]\n",
    "CustomLLaVA_midpoints = [(sum(sublist) / 2) if len(sublist) > 1 else sublist[0] for sublist in CustomLLaVA_answer]"
   ]
  },
  {
   "cell_type": "code",
   "execution_count": 3,
   "id": "d8586552-2a8e-4ac7-a935-af76f1dcd5b3",
   "metadata": {},
   "outputs": [],
   "source": [
    "import numpy as np\n",
    "from sklearn.metrics import mean_squared_error\n",
    "from sklearn.metrics import mean_absolute_error\n",
    "\n",
    "# Calculate mean squared error (MSE)\n",
    "def calculate_mse(gt, answers):\n",
    "    gt_array = np.array(gt)\n",
    "    answers_array = np.array(answers)\n",
    "\n",
    "    return mean_squared_error(gt_array,answers_array)\n",
    "\n",
    "\n",
    "# Calculate midmean logistic absoulte error (MALE)\n",
    "def calculate_mlae(gt, answers):\n",
    "    gt_array = np.array(gt)\n",
    "    answers_array = np.array(answers)\n",
    "\n",
    "    mlae = np.log2(mean_absolute_error(gt_array*100, answers_array*100) + .125)\n",
    "    return mlae\n",
    "\n",
    "# Calculate mean\n",
    "def calculate_mean(answers):\n",
    "    return np.mean(answers)\n",
    "\n",
    "# Calculate std\n",
    "def calculate_std(answers):\n",
    "    return np.std(answers)"
   ]
  },
  {
   "cell_type": "code",
   "execution_count": 4,
   "id": "45da8c62-801a-442f-aa2e-b92e76e2c287",
   "metadata": {},
   "outputs": [
    {
     "name": "stdout",
     "output_type": "stream",
     "text": [
      "LLaVA mse:    0.07002041139007656\n",
      "LLaVA mlae:   4.415614197674989\n",
      "LLaVA mean:   0.3090909090909092\n",
      "LLaVA std:   0.03175318035740542\n",
      "CLLaVA mse:   0.05296413392290597\n",
      "CLLaVA mlae:  4.194204768565232\n",
      "CLLaVA mean:  0.5397641266114326\n",
      "CLLaVA std:  0.18572716712392295\n"
     ]
    }
   ],
   "source": [
    "llava_mse = calculate_mse(GT, LLaVA_midpoints)\n",
    "llava_mlae = calculate_mlae(GT, LLaVA_midpoints)\n",
    "llava_mean = calculate_mean(LLaVA_midpoints)\n",
    "llava_std = calculate_std(LLaVA_midpoints)\n",
    "custom_llava_mse = calculate_mse(GT, CustomLLaVA_midpoints)\n",
    "custom_llava_mlae = calculate_mlae(GT, CustomLLaVA_midpoints)\n",
    "custom_llava_mean = calculate_mean(CustomLLaVA_midpoints)\n",
    "custom_llava_std = calculate_std(CustomLLaVA_midpoints)\n",
    "\n",
    "print(\"LLaVA mse:   \", llava_mse)\n",
    "print(\"LLaVA mlae:  \", llava_mlae)\n",
    "print(\"LLaVA mean:  \", llava_mean)\n",
    "print(\"LLaVA std:  \", llava_std)\n",
    "print(\"CLLaVA mse:  \", custom_llava_mse)\n",
    "print(\"CLLaVA mlae: \", custom_llava_mlae)\n",
    "print(\"CLLaVA mean: \", custom_llava_mean)\n",
    "print(\"CLLaVA std: \", custom_llava_std)\n",
    "\n",
    "\n"
   ]
  },
  {
   "cell_type": "code",
   "execution_count": null,
   "id": "98d95434-cd05-4430-97d8-4d39996cbcd9",
   "metadata": {},
   "outputs": [],
   "source": []
  }
 ],
 "metadata": {
  "kernelspec": {
   "display_name": "Python 3 (ipykernel)",
   "language": "python",
   "name": "python3"
  },
  "language_info": {
   "codemirror_mode": {
    "name": "ipython",
    "version": 3
   },
   "file_extension": ".py",
   "mimetype": "text/x-python",
   "name": "python",
   "nbconvert_exporter": "python",
   "pygments_lexer": "ipython3",
   "version": "3.11.7"
  }
 },
 "nbformat": 4,
 "nbformat_minor": 5
}
