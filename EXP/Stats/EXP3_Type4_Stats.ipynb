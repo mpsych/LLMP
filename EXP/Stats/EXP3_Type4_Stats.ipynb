{
 "cells": [
  {
   "cell_type": "code",
   "execution_count": 1,
   "id": "c026e772-8e98-4a29-8519-17e6c9a8c3ec",
   "metadata": {},
   "outputs": [],
   "source": [
    "GT = [0.21739130434782608, 0.391304347826087, 0.6875, 0.8333333333333334, 0.6666666666666666, 0.8461538461538461, 0.4782608695652174, 0.21739130434782608, 0.46153846153846156, 0.6842105263157895, 0.2608695652173913, 0.2631578947368421, 0.46875, 0.38461538461538464, 0.17857142857142858, 0.8461538461538461, 0.21739130434782608, 0.8125, 0.8, 0.6666666666666666, 0.17857142857142858, 0.8181818181818182, 0.39285714285714285, 0.8461538461538461, 0.6923076923076923, 0.5555555555555556, 0.2631578947368421, 0.26785714285714285, 0.8461538461538461, 0.39285714285714285, 0.5652173913043478, 0.4782608695652174, 0.5625, 0.3157894736842105, 0.45454545454545453, 0.17857142857142858, 0.6666666666666666, 0.8333333333333334, 0.45454545454545453, 0.6666666666666666, 0.5454545454545454, 0.6666666666666666, 0.6923076923076923, 0.6956521739130435, 0.2608695652173913, 0.8421052631578947, 0.375, 0.6842105263157895, 0.6875, 0.17857142857142858, 0.39285714285714285, 0.6666666666666666, 0.4782608695652174, 0.3157894736842105, 0.32608695652173914]\n",
    "ChatGPT_answer = [[0.6, 0.7], [0.2, 0.3], [0.6, 0.7], [0.6, 0.7], [0.6, 0.7], [0.6, 0.7], [0.6, 0.7], [0.6, 0.7], [0.6, 0.7], [0.6, 0.7], [0.2, 0.3], [0.5, 0.6], [0.6, 0.7], [0.6, 0.7], [0.6, 0.7], [0.5, 0.6], [0.6, 0.7], [0.6, 0.7], [0.6, 0.7], [0.6, 0.7], [0.2, 0.3], [0.6, 0.7], [0.5, 0.6], [0.6, 0.7], [0.5, 0.6], [0.6, 0.7], [0.6, 0.7], [0.6, 0.7], [0.6, 0.7], [0.2, 0.3], [0.6, 0.7], [0.6, 0.7], [0.6, 0.7], [0.6, 0.7], [0.6, 0.7], [0.5, 0.6], [0.6, 0.7], [0.6, 0.7], [0.6, 0.7], [0.6, 0.7], [0.6, 0.7], [0.6, 0.7], [0.6, 0.7], [0.6, 0.7], [0.2, 0.3], [0.5, 0.6], [0.6, 0.7], [0.6, 0.7], [0.6, 0.7], [0.2, 0.3], [0.6, 0.7], [0.6, 0.7], [0.6, 0.7], [0.6, 0.7], [0.2, 0.3]]\n",
    "LLaVA_answer =  [[0.3, 0.4], [0.3, 0.4], [0.3, 0.4], [0.3, 0.4], [0.3, 0.4], [0.3, 0.4], [0.3, 0.4], [0.3, 0.4], [0.3, 0.4], [0.3, 0.4], [0.3, 0.4], [0.3, 0.4], [0.3, 0.4], [0.3, 0.4], [0.3, 0.4], [0.3, 0.4], [0.3, 0.4], [0.3, 0.4], [0.3, 0.4], [0.3, 0.4], [0.3, 0.4], [0.3, 0.4], [0.3, 0.4], [0.3, 0.4], [0.3, 0.4], [0.3, 0.4], [0.3, 0.4], [0.3, 0.4], [0.3, 0.4], [0.3, 0.4], [0.3, 0.4], [0.3, 0.4], [0.3, 0.4], [0.3, 0.4], [0.3, 0.4], [0.3, 0.4], [0.3, 0.4], [0.3, 0.4], [0.3, 0.4], [0.3, 0.4], [0.3, 0.4], [0.3, 0.4], [0.3, 0.4], [0.3, 0.4], [0.3, 0.4], [0.3, 0.4], [0.3, 0.4], [0.3, 0.4], [0.3, 0.4], [0.3, 0.4], [0.3, 0.4], [0.3, 0.4], [0.3, 0.4], [0.3, 0.4], [0.3, 0.4]]\n",
    "CustomLLaVA_answer = [[0.39285714285714285], [0.5769230769230769], [0.8333333333333334], [0.39473684210526316], [0.391304347826087], [0.39473684210526316], [0.3157894736842105], [0.3125], [0.8125], [0.391304347826087], [0.8125], [0.2608695652173913], [0.391304347826087], [0.375], [0.39473684210526316], [0.46153846153846156], [0.6842105263157895], [0.3125], [0.391304347826087], [0.375], [0.5652173913043478], [0.5454545454545454], [0.3157894736842105], [0.3125], [0.39285714285714285], [0.6842105263157895], [0.391304347826087], [0.46153846153846156], [0.6842105263157895], [0.3157894736842105], [0.5769230769230769], [0.8125], [0.5652173913043478], [0.3157894736842105], [0.5769230769230769], [0.6842105263157895], [0.3157894736842105], [0.391304347826087], [0.8125], [0.46153846153846156], [0.391304347826087], [0.6842105263157895], [0.2631578947368421], [0.5652173913043478], [0.3125], [0.391304347826087], [0.39473684210526316], [0.5652173913043478], [0.39473684210526316], [0.8125], [0.6842105263157895], [0.8125], [0.6923076923076923], [0.391304347826087], [0.8333333333333334]]"
   ]
  },
  {
   "cell_type": "code",
   "execution_count": 2,
   "id": "30d0c97d-9f73-4f6a-975d-8e47bc2d9368",
   "metadata": {},
   "outputs": [],
   "source": [
    "ChatGPT_midpoints = [(sum(sublist) / 2) if len(sublist) > 1 else sublist[0] for sublist in ChatGPT_answer]\n",
    "LLaVA_midpoints = [(sum(sublist) / 2) if len(sublist) > 1 else sublist[0] for sublist in LLaVA_answer]\n",
    "CustomLLaVA_midpoints = [(sum(sublist) / 2) if len(sublist) > 1 else sublist[0] for sublist in CustomLLaVA_answer]"
   ]
  },
  {
   "cell_type": "code",
   "execution_count": 3,
   "id": "3a94f315-ca97-4029-8e60-7818e40615d1",
   "metadata": {},
   "outputs": [],
   "source": [
    "import numpy as np\n",
    "from sklearn.metrics import mean_squared_error\n",
    "from sklearn.metrics import mean_absolute_error\n",
    "\n",
    "# Calculate mean squared error (MSE)\n",
    "def calculate_mse(gt, answers):\n",
    "    gt_array = np.array(gt)\n",
    "    answers_array = np.array(answers)\n",
    "\n",
    "    return mean_squared_error(gt_array,answers_array)\n",
    "\n",
    "\n",
    "# Calculate midmean logistic absoulte error (MALE)\n",
    "def calculate_mlae(gt, answers):\n",
    "    gt_array = np.array(gt)\n",
    "    answers_array = np.array(answers)\n",
    "\n",
    "    mlae = np.log2(mean_absolute_error(gt_array*100, answers_array*100) + .125)\n",
    "    return mlae\n",
    "\n",
    "# Calculate mean\n",
    "def calculate_mean(answers):\n",
    "    return np.mean(answers)\n",
    "\n",
    "# Calculate std\n",
    "def calculate_std(answers):\n",
    "    return np.std(answers)"
   ]
  },
  {
   "cell_type": "code",
   "execution_count": 4,
   "id": "1f463eb0-6165-484d-b97e-fc58f857e519",
   "metadata": {},
   "outputs": [
    {
     "name": "stdout",
     "output_type": "stream",
     "text": [
      "ChatGPT mse:  0.046331879420422065\n",
      "ChatGPT mlae:    4.119215005528275\n",
      "ChatGPT mean: 0.5881818181818179\n",
      "ChatGPT_std: 0.13278952462916518\n",
      "LLaVA mse:    0.07683679907257493\n",
      "LLaVA mlae:   4.524571008627413\n",
      "LLaVA mean:   0.3500000000000002\n",
      "LLaVA std:   2.220446049250313e-16\n",
      "CLLaVA mse:   0.0900788914349501\n",
      "CLLaVA mlae:  4.636099068687933\n",
      "CLLaVA mean:  0.5026374308722967\n",
      "CLLaVA std:  0.17731035351231236\n"
     ]
    }
   ],
   "source": [
    "ChatGPT_mse = calculate_mse(GT, ChatGPT_midpoints)\n",
    "ChatGPT_mlae = calculate_mlae(GT, ChatGPT_midpoints)\n",
    "ChatGPT_mean = calculate_mean(ChatGPT_midpoints)\n",
    "ChatGPT_std = calculate_std(ChatGPT_midpoints)\n",
    "llava_mse = calculate_mse(GT, LLaVA_midpoints)\n",
    "llava_mlae = calculate_mlae(GT, LLaVA_midpoints)\n",
    "llava_mean = calculate_mean(LLaVA_midpoints)\n",
    "llava_std = calculate_std(LLaVA_midpoints)\n",
    "custom_llava_mse = calculate_mse(GT, CustomLLaVA_midpoints)\n",
    "custom_llava_mlae = calculate_mlae(GT, CustomLLaVA_midpoints)\n",
    "custom_llava_mean = calculate_mean(CustomLLaVA_midpoints)\n",
    "custom_llava_std = calculate_std(CustomLLaVA_midpoints)\n",
    "\n",
    "print(\"ChatGPT mse: \", ChatGPT_mse)\n",
    "print(\"ChatGPT mlae:   \", ChatGPT_mlae)\n",
    "print(\"ChatGPT mean:\", ChatGPT_mean)\n",
    "print(\"ChatGPT_std:\", ChatGPT_std)\n",
    "print(\"LLaVA mse:   \", llava_mse)\n",
    "print(\"LLaVA mlae:  \", llava_mlae)\n",
    "print(\"LLaVA mean:  \", llava_mean)\n",
    "print(\"LLaVA std:  \", llava_std)\n",
    "print(\"CLLaVA mse:  \", custom_llava_mse)\n",
    "print(\"CLLaVA mlae: \", custom_llava_mlae)\n",
    "print(\"CLLaVA mean: \", custom_llava_mean)\n",
    "print(\"CLLaVA std: \", custom_llava_std)\n",
    "\n",
    "\n"
   ]
  },
  {
   "cell_type": "code",
   "execution_count": null,
   "id": "69a9d869-caee-4d84-a8b2-d29c1908fd19",
   "metadata": {},
   "outputs": [],
   "source": []
  }
 ],
 "metadata": {
  "kernelspec": {
   "display_name": "Python 3 (ipykernel)",
   "language": "python",
   "name": "python3"
  },
  "language_info": {
   "codemirror_mode": {
    "name": "ipython",
    "version": 3
   },
   "file_extension": ".py",
   "mimetype": "text/x-python",
   "name": "python",
   "nbconvert_exporter": "python",
   "pygments_lexer": "ipython3",
   "version": "3.11.7"
  }
 },
 "nbformat": 4,
 "nbformat_minor": 5
}
