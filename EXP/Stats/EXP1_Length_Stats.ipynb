{
 "cells": [
  {
   "cell_type": "code",
   "execution_count": 1,
   "id": "faeaa222-18e0-4c07-bf7b-9e4f16e76382",
   "metadata": {},
   "outputs": [],
   "source": [
    "GT = [57,41,19,21,45,41,14,3,2,11,27,12,15,45,54,52,4,18,9,17,45,25,2,11,10,8,20,44,5,57,29,13,24,43,20,24,58,1,54,33,55,59,39,54,24,14,26,47,44,4,36,37,24,30,55]\n",
    "\n",
    "ChatGPT_answer = [[70.0, 80.0],[70.0, 80.0], [10.0, 20.0], [25.0, 35.0], [70.0, 80.0], [70.0, 80.0], [15.0, 25.0], [5.0, 10.0], [3.0, 5.0], [10.0, 20.0], [60.0, 70.0], [15.0, 25.0], [15.0, 25.0], [70.0, 80.0],[70.0, 80.0], [70.0, 80.0], [5.0, 15.0], [25.0, 35.0],  [20.0], [20.0, 30.0], [70.0, 80.0],[30.0, 40.0], [3.0, 5.0],[15.0, 25.0],[10.0, 20.0],[15.0, 25.0], [30.0, 40.0],[70.0, 80.0], [15.0, 25.0],[70.0, 80.0], [30.0, 40.0],[30.0, 40.0], [25.0, 35.0],[70.0, 80.0], [30.0, 40.0], [20.0, 30.0], [70.0, 80.0],[0.0, 1.0], [70.0, 80.0], [70.0, 80.0],[70.0, 80.0], [70.0, 80.0], [70.0, 80.0],[70.0, 80.0],[30.0, 40.0],[20.0, 30.0], [30.0, 40.0], [70.0, 80.0], [70.0, 80.0],[7.0, 10.0],[70.0, 80.0], [70.0, 80.0],[30.0, 40.0],[70.0, 80.0], [70.0, 80.0]]\n",
    "\n",
    "LLaVA_answer =  [[100.0],[10.0],[10.0],[10.0],[10.0],[10.0], [10.0], [100.0],[100.0],[10.0],[10.0],[10.0],[10.0],[10.0],[100.0],[100.0], [100.0],[10.0], [10.0],[10.0],[10.0],[10.0],[100.0],[10.0],[10.0],[100.0],[10.0],[10.0],[100.0],[100.0],[10.0], [10.0],[10.0],[10.0], [10.0], [10.0], [100.0], [100.0],[100.0], [10.0], [100.0], [100.0], [10.0],[100.0],[10.0],[10.0],[10.0],[10.0],[10.0],[100.0],[10.0],[10.0],[10.0],[10.0],[100.0]]\n",
    "\n",
    "customLLaVA_answer =   [[59.0],[21.0],[31.0],[19.0], [55.0], [49.0],[36.0],[46.0],[11.0],[54.0],[57.0],[49.0],[13.0],[29.0], [17.0],[17.0], [49.0], [36.0],[21.0], [13.0],[19.0], [37.0],[26.0], [47.0],[16.0],[1.0],[13.0],[41.0],[13.0],[5.0],[31.0],[37.0], [58.0],[53.0], [49.0], [51.0], [57.0], [49.0], [51.0], [29.0],[51.0],[49.0],  [17.0],[18.0], [25.0], [1.0],[31.0], [55.0],[51.0],[51.0],[18.0], [56.0], [59.0], [13.0],[43.0]]"
   ]
  },
  {
   "cell_type": "code",
   "execution_count": 2,
   "id": "a93a68cb-b04e-4fdd-8b29-bc4046f50d9c",
   "metadata": {},
   "outputs": [],
   "source": [
    "ChatGPT_midpoints = [(sum(sublist) / 2) if len(sublist) > 1 else sublist[0] for sublist in ChatGPT_answer]\n",
    "LLaVA_midpoints = [(sum(sublist) / 2) if len(sublist) > 1 else sublist[0] for sublist in LLaVA_answer]\n",
    "CustomLLaVA_midpoints = [(sum(sublist) / 2) if len(sublist) > 1 else sublist[0] for sublist in customLLaVA_answer]"
   ]
  },
  {
   "cell_type": "code",
   "execution_count": 3,
   "id": "90804a4a-96f6-46bb-b63b-85abd1caf10d",
   "metadata": {},
   "outputs": [],
   "source": [
    "import numpy as np\n",
    "from sklearn.metrics import mean_squared_error\n",
    "from sklearn.metrics import mean_absolute_error\n",
    "\n",
    "# Calculate mean squared error (MSE)\n",
    "def calculate_mse(gt, answers):\n",
    "    gt_array = np.array(gt)\n",
    "    answers_array = np.array(answers)\n",
    "\n",
    "    return mean_squared_error(gt_array,answers_array)\n",
    "\n",
    "\n",
    "# Calculate midmean logistic absoulte error (MALE)\n",
    "def calculate_mlae(gt, answers):\n",
    "    gt_array = np.array(gt)\n",
    "    answers_array = np.array(answers)\n",
    "\n",
    "    mlae = np.log2(mean_absolute_error(gt_array*100, answers_array*100) + .125)\n",
    "    return mlae\n",
    "\n",
    "# Calculate mean\n",
    "def calculate_mean(answers):\n",
    "    return np.mean(answers)\n",
    "\n",
    "# Calculate std\n",
    "def calculate_std(answers):\n",
    "    return np.std(answers)"
   ]
  },
  {
   "cell_type": "code",
   "execution_count": 4,
   "id": "e2bd4ed5-8692-4d65-9b5b-b667c136f5ea",
   "metadata": {},
   "outputs": [
    {
     "name": "stdout",
     "output_type": "stream",
     "text": [
      "ChatGPT mse:  450.15909090909093\n",
      "ChatGPT mlae:    10.765728737107713\n",
      "ChatGPT mean: 45.99090909090909\n",
      "ChatGPT_std: 27.303594653300426\n",
      "LLaVA mse:    2004.1636363636364\n",
      "LLaVA mlae:   11.711955335157793\n",
      "LLaVA mean:   39.45454545454545\n",
      "LLaVA std:   42.22959676548198\n",
      "CLLaVA mse:   558.290909090909\n",
      "CLLaVA mlae:  10.862593333627629\n",
      "CLLaVA mean:  34.6\n",
      "CLLaVA std:  17.436221442210986\n"
     ]
    }
   ],
   "source": [
    "ChatGPT_mse = calculate_mse(GT, ChatGPT_midpoints)\n",
    "ChatGPT_mlae = calculate_mlae(GT, ChatGPT_midpoints)\n",
    "ChatGPT_mean = calculate_mean(ChatGPT_midpoints)\n",
    "ChatGPT_std = calculate_std(ChatGPT_midpoints)\n",
    "llava_mse = calculate_mse(GT, LLaVA_midpoints)\n",
    "llava_mlae = calculate_mlae(GT, LLaVA_midpoints)\n",
    "llava_mean = calculate_mean(LLaVA_midpoints)\n",
    "llava_std = calculate_std(LLaVA_midpoints)\n",
    "custom_llava_mse = calculate_mse(GT, CustomLLaVA_midpoints)\n",
    "custom_llava_mlae = calculate_mlae(GT, CustomLLaVA_midpoints)\n",
    "custom_llava_mean = calculate_mean(CustomLLaVA_midpoints)\n",
    "custom_llava_std = calculate_std(CustomLLaVA_midpoints)\n",
    "\n",
    "print(\"ChatGPT mse: \", ChatGPT_mse)\n",
    "print(\"ChatGPT mlae:   \", ChatGPT_mlae)\n",
    "print(\"ChatGPT mean:\", ChatGPT_mean)\n",
    "print(\"ChatGPT_std:\", ChatGPT_std)\n",
    "print(\"LLaVA mse:   \", llava_mse)\n",
    "print(\"LLaVA mlae:  \", llava_mlae)\n",
    "print(\"LLaVA mean:  \", llava_mean)\n",
    "print(\"LLaVA std:  \", llava_std)\n",
    "print(\"CLLaVA mse:  \", custom_llava_mse)\n",
    "print(\"CLLaVA mlae: \", custom_llava_mlae)\n",
    "print(\"CLLaVA mean: \", custom_llava_mean)\n",
    "print(\"CLLaVA std: \", custom_llava_std)\n",
    "\n",
    "\n"
   ]
  },
  {
   "cell_type": "code",
   "execution_count": null,
   "id": "e31b9d15-952b-44f8-9e3d-9003b06d8a7d",
   "metadata": {},
   "outputs": [],
   "source": []
  }
 ],
 "metadata": {
  "kernelspec": {
   "display_name": "Python 3 (ipykernel)",
   "language": "python",
   "name": "python3"
  },
  "language_info": {
   "codemirror_mode": {
    "name": "ipython",
    "version": 3
   },
   "file_extension": ".py",
   "mimetype": "text/x-python",
   "name": "python",
   "nbconvert_exporter": "python",
   "pygments_lexer": "ipython3",
   "version": "3.11.7"
  }
 },
 "nbformat": 4,
 "nbformat_minor": 5
}
