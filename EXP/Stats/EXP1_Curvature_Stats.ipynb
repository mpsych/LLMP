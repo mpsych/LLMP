{
 "cells": [
  {
   "cell_type": "code",
   "execution_count": 1,
   "id": "9c70d0e7-a12b-47ad-8539-20a951609526",
   "metadata": {},
   "outputs": [],
   "source": [
    "GT = [0.016, 0.081, 0.062, 0.053, 0.062, 0.032, 0.024, 0.011, 0.039, 0.078, 0.039, 0.026, 0.014, 0.003, 0.029, 0.026, 0.028, 0.049, 0.021, 0.02, 0.081, 0.069, 0.082, 0.034, 0.078, 0.007, 0.076, 0.04, 0.043, 0.077, 0.014, 0.073, 0.007, 0.061, 0.007, 0.021, 0.077, 0.07, 0.016, 0.052, 0.088, 0.039, 0.026, 0.073, 0.011, 0.009, 0.043, 0.037, 0.013, 0.059, 0.032, 0.018, 0.031, 0.053, 0.006]\n",
    "\n",
    "ChatGPT_answer = [[0.2, 0.3], [0.2, 0.3], [0.2, 0.3], [0.1, 0.3], [0.2, 0.3], [0.1, 0.3], [0.2, 0.3], [0.01, 0.03], [0.1, 0.3], [0.2, 0.3], [0.1, 0.3], [0.05, 0.15], [0.01, 0.05], [0.0, 0.1], [0.1, 0.2], [0.2, 0.3], [0.1, 0.2], [0.2, 0.3], [0.2, 0.3], [0.01, 0.1], [0.2, 0.3], [0.2, 0.3], [0.2, 0.3], [0.2, 0.3], [0.6, 0.8], [0.01, 0.05], [0.2, 0.3], [0.2, 0.3], [0.2, 0.3], [0.2, 0.3], [0.01, 0.05], [0.2, 0.3], [0.01, 0.05], [0.2, 0.3], [0.01, 0.05], [0.1, 0.2], [0.1, 0.2], [0.2, 0.3], [0.1, 0.3], [0.1, 0.3], [0.2, 0.3], [0.2, 0.3], [0.1, 0.2], [0.2, 0.3], [0.01, 0.05], [0.01, 0.1], [0.2, 0.3], [0.05, 0.2], [0.01, 0.05], [0.2, 0.3], [0.2, 0.3], [0.2, 0.3], [0.1, 0.2], [0.2, 0.3], [0.0, 0.1]]\n",
    "LLaVA_answer =  [[0.3], [0.35], [0.35], [0.3], [0.35], [0.35], [0.35], [0.3], [0.35], [0.35], [0.35], [0.35], [0.3], [0.3], [0.35], [0.35], [0.35], [0.3], [0.35], [0.35], [0.35], [0.35], [0.35], [0.3], [0.35], [0.3], [0.4], [0.3], [0.3], [0.4], [0.3], [0.35], [0.3], [0.35], [0.3], [0.35], [0.4], [0.35], [0.3], [0.3], [0.35], [0.35], [0.35], [0.35], [0.3], [0.3], [0.3], [0.35], [0.3], [0.35], [0.35], [0.35], [0.35], [0.3], [0.35]]\n",
    "customLLaVA_answer =  [[0.057], [0.057], [0.047], [0.067], [0.016], [0.057], [0.048], [0.048], [0.058], [0.057], [0.08], [0.057], [0.04], [0.047], [0.05], [0.059], [0.067], [0.057], [0.057], [0.04], [0.06], [0.058], [0.047], [0.038], [0.056], [0.076], [0.057], [0.058], [0.057], [0.05], [0.046], [0.057], [0.067], [0.05], [0.059], [0.057], [0.057], [0.058], [0.05], [0.067], [0.057], [0.063], [0.05], [0.067], [0.018], [0.057], [0.069], [0.057], [0.048], [0.067], [0.047], [0.056], [0.056], [0.057], [0.067]]"
   ]
  },
  {
   "cell_type": "code",
   "execution_count": 2,
   "id": "2e1feb75-ff2d-4966-8d8c-c14441e41974",
   "metadata": {},
   "outputs": [],
   "source": [
    "ChatGPT_midpoints = [(sum(sublist) / 2) if len(sublist) > 1 else sublist[0] for sublist in ChatGPT_answer]\n",
    "LLaVA_midpoints = [(sum(sublist) / 2) if len(sublist) > 1 else sublist[0] for sublist in LLaVA_answer]\n",
    "CustomLLaVA_midpoints = [(sum(sublist) / 2) if len(sublist) > 1 else sublist[0] for sublist in customLLaVA_answer]"
   ]
  },
  {
   "cell_type": "code",
   "execution_count": 3,
   "id": "d5eea948-5047-4e6e-a1e8-a207daf4e6ac",
   "metadata": {},
   "outputs": [],
   "source": [
    "import numpy as np\n",
    "from sklearn.metrics import mean_squared_error\n",
    "from sklearn.metrics import mean_absolute_error\n",
    "\n",
    "# Calculate mean squared error (MSE)\n",
    "def calculate_mse(gt, answers):\n",
    "    gt_array = np.array(gt)\n",
    "    answers_array = np.array(answers)\n",
    "\n",
    "    return mean_squared_error(gt_array,answers_array)\n",
    "\n",
    "\n",
    "# Calculate midmean logistic absoulte error (MALE)\n",
    "def calculate_mlae(gt, answers):\n",
    "    gt_array = np.array(gt)\n",
    "    answers_array = np.array(answers)\n",
    "\n",
    "    mlae = np.log2(mean_absolute_error(gt_array*100, answers_array*100) + .125)\n",
    "    return mlae\n",
    "\n",
    "# Calculate mean\n",
    "def calculate_mean(answers):\n",
    "    return np.mean(answers)\n",
    "\n",
    "# Calculate std\n",
    "def calculate_std(answers):\n",
    "    return np.std(answers)"
   ]
  },
  {
   "cell_type": "code",
   "execution_count": 4,
   "id": "252afa4a-60d6-4419-aa6e-6f12c81d9238",
   "metadata": {},
   "outputs": [
    {
     "name": "stdout",
     "output_type": "stream",
     "text": [
      "ChatGPT mse:  0.03147194545454546\n",
      "ChatGPT mlae:    3.915216667661427\n",
      "ChatGPT mean: 0.19027272727272726\n",
      "ChatGPT_std: 0.11013800509038311\n",
      "LLaVA mse:    0.08704439999999998\n",
      "LLaVA mlae:   4.8833319995681475\n",
      "LLaVA mean:   0.33454545454545465\n",
      "LLaVA std:   0.028400907912387828\n",
      "CLLaVA mse:   0.0009220545454545456\n",
      "CLLaVA mlae:  1.4795598201382454\n",
      "CLLaVA mean:  0.05503636363636364\n",
      "CLLaVA std:  0.011063393588133364\n"
     ]
    }
   ],
   "source": [
    "ChatGPT_mse = calculate_mse(GT, ChatGPT_midpoints)\n",
    "ChatGPT_mlae = calculate_mlae(GT, ChatGPT_midpoints)\n",
    "ChatGPT_mean = calculate_mean(ChatGPT_midpoints)\n",
    "ChatGPT_std = calculate_std(ChatGPT_midpoints)\n",
    "llava_mse = calculate_mse(GT, LLaVA_midpoints)\n",
    "llava_mlae = calculate_mlae(GT, LLaVA_midpoints)\n",
    "llava_mean = calculate_mean(LLaVA_midpoints)\n",
    "llava_std = calculate_std(LLaVA_midpoints)\n",
    "custom_llava_mse = calculate_mse(GT, CustomLLaVA_midpoints)\n",
    "custom_llava_mlae = calculate_mlae(GT, CustomLLaVA_midpoints)\n",
    "custom_llava_mean = calculate_mean(CustomLLaVA_midpoints)\n",
    "custom_llava_std = calculate_std(CustomLLaVA_midpoints)\n",
    "\n",
    "print(\"ChatGPT mse: \", ChatGPT_mse)\n",
    "print(\"ChatGPT mlae:   \", ChatGPT_mlae)\n",
    "print(\"ChatGPT mean:\", ChatGPT_mean)\n",
    "print(\"ChatGPT_std:\", ChatGPT_std)\n",
    "print(\"LLaVA mse:   \", llava_mse)\n",
    "print(\"LLaVA mlae:  \", llava_mlae)\n",
    "print(\"LLaVA mean:  \", llava_mean)\n",
    "print(\"LLaVA std:  \", llava_std)\n",
    "print(\"CLLaVA mse:  \", custom_llava_mse)\n",
    "print(\"CLLaVA mlae: \", custom_llava_mlae)\n",
    "print(\"CLLaVA mean: \", custom_llava_mean)\n",
    "print(\"CLLaVA std: \", custom_llava_std)\n",
    "\n",
    "\n"
   ]
  },
  {
   "cell_type": "code",
   "execution_count": null,
   "id": "d5f51866-723c-4880-8c56-394f2332e612",
   "metadata": {},
   "outputs": [],
   "source": []
  }
 ],
 "metadata": {
  "kernelspec": {
   "display_name": "Python 3 (ipykernel)",
   "language": "python",
   "name": "python3"
  },
  "language_info": {
   "codemirror_mode": {
    "name": "ipython",
    "version": 3
   },
   "file_extension": ".py",
   "mimetype": "text/x-python",
   "name": "python",
   "nbconvert_exporter": "python",
   "pygments_lexer": "ipython3",
   "version": "3.11.7"
  }
 },
 "nbformat": 4,
 "nbformat_minor": 5
}
