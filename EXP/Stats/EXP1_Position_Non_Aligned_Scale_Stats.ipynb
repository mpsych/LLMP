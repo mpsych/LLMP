{
 "cells": [
  {
   "cell_type": "code",
   "execution_count": 1,
   "id": "46a5049d-353d-442e-8d9c-4acbee7e6bec",
   "metadata": {},
   "outputs": [],
   "source": [
    "GT =[32.0, 36.0, 31.0, 34.0, 32.0, 27.0, 24.0, 40.0, 30.0, 30.0, 27.0, 32.0, 25.0, 25.0, 36.0, 34.0, 23.0, 39.0, 37.0, 33.0, 34.0, 34.0, 34.0, 36.0, 31.0, 27.0, 30.0, 37.0, 32.0, 25.0, 27.0, 34.0, 34.0, 29.0, 21.0, 29.0, 24.0, 27.0, 31.0, 27.0, 40.0, 31.0, 34.0, 35.0, 24.0, 23.0, 29.0, 27.0, 21.0, 39.0, 35.0, 33.0, 23.0, 36.0, 34.0]\n",
    "ChatGPT_answer = [[10.0, 20.0], [20.0, 30.0], [20.0, 30.0], [60.0, 70.0], [20.0, 30.0], [20.0, 30.0], [20.0, 30.0], [65.0, 75.0], [20.0, 30.0], [10.0, 20.0], [40.0, 50.0], [20.0, 30.0], [5.0, 10.0], [70.0, 80.0], [60.0, 70.0], [20.0, 30.0], [20.0, 30.0], [20.0, 30.0], [20.0, 30.0], [10.0, 20.0], [20.0, 30.0], [60.0, 70.0], [10.0, 20.0], [20.0, 25.0], [20.0, 30.0], [20.0, 30.0], [10.0, 20.0], [10.0, 20.0], [20.0, 30.0], [0.0], [20.0, 30.0], [70.0, 80.0], [ 10.0, 20.0], [20.0, 30.0], [20.0, 30.0], [60.0, 70.0], [20.0, 30.0], [20.0, 30.0], [20.0, 30.0], [70.0, 80.0], [15.0, 25.0], [20.0, 30.0], [60.0, 70.0], [10.0, 20.0], [20.0, 30.0], [20.0, 30.0], [20.0, 30.0], [20.0, 30.0], [20.0, 30.0], [70.0, 80.0], [20.0, 30.0], [20.0, 30.0], [15.0, 25.0], [70.0, 80.0], [10.0, 20.0]]\n",
    "LLaVA_answer = [[100.0], [100.0], [100.0], [100.0], [100.0], [100.0], [100.0], [100.0], [100.0], [100.0], [100.0], [100.0], [100.0], [100.0], [100.0], [100.0], [100.0], [100.0], [100.0], [100.0], [100.0], [100.0], [100.0], [100.0], [100.0], [100.0], [100.0], [100.0], [100.0], [100.0], [100.0], [100.0], [100.0], [100.0], [100.0], [100.0], [100.0], [100.0], [100.0], [100.0], [100.0], [100.0], [100.0], [100.0], [100.0], [100.0], [100.0], [100.0], [100.0], [100.0], [100.0], [100.0], [100.0], [100.0], [100.0]]\n",
    "customLLaVA_answer = [[39.0], [27.0], [49.0], [52.0], [21.0], [45.0], [33.0], [51.0], [49.0], [49.0], [47.0], [37.0], [47.0], [39.0], [47.0], [41.0], [39.0], [47.0], [53.0], [39.0], [39.0], [21.0], [39.0], [45.0], [49.0], [12.0], [11.0], [46.0], [47.0], [49.0], [51.0], [56.0], [46.0], [36.0], [39.0], [39.0], [49.0], [37.0], [11.0], [39.0], [21.0], [41.0], [47.0], [47.0], [46.0], [41.0], [31.0], [33.0], [55.0], [36.0], [47.0], [41.0], [39.0], [49.0], [49.0]]"
   ]
  },
  {
   "cell_type": "code",
   "execution_count": 2,
   "id": "1a2207b9-db3c-408a-a3ba-639c1a5fd2c8",
   "metadata": {},
   "outputs": [],
   "source": [
    "ChatGPT_midpoints = [(sum(sublist) / 2) if len(sublist) > 1 else sublist[0] for sublist in ChatGPT_answer]\n",
    "LLaVA_midpoints = [(sum(sublist) / 2) if len(sublist) > 1 else sublist[0] for sublist in LLaVA_answer]\n",
    "CustomLLaVA_midpoints = [(sum(sublist) / 2) if len(sublist) > 1 else sublist[0] for sublist in customLLaVA_answer]"
   ]
  },
  {
   "cell_type": "code",
   "execution_count": 3,
   "id": "679b1605-be84-424e-aebd-abf7a190a41d",
   "metadata": {},
   "outputs": [],
   "source": [
    "import numpy as np\n",
    "from sklearn.metrics import mean_squared_error\n",
    "from sklearn.metrics import mean_absolute_error\n",
    "\n",
    "# Calculate mean squared error (MSE)\n",
    "def calculate_mse(gt, answers):\n",
    "    gt_array = np.array(gt)\n",
    "    answers_array = np.array(answers)\n",
    "\n",
    "    return mean_squared_error(gt_array,answers_array)\n",
    "\n",
    "\n",
    "# Calculate midmean logistic absoulte error (MALE)\n",
    "def calculate_mlae(gt, answers):\n",
    "    gt_array = np.array(gt)\n",
    "    answers_array = np.array(answers)\n",
    "\n",
    "    mlae = np.log2(mean_absolute_error(gt_array*100, answers_array*100) + .125)\n",
    "    return mlae\n",
    "\n",
    "# Calculate mean\n",
    "def calculate_mean(answers):\n",
    "    return np.mean(answers)\n",
    "\n",
    "# Calculate std\n",
    "def calculate_std(answers):\n",
    "    return np.std(answers)"
   ]
  },
  {
   "cell_type": "code",
   "execution_count": 4,
   "id": "b42c710c-0cb0-40d4-a653-0d268baf85ab",
   "metadata": {},
   "outputs": [
    {
     "name": "stdout",
     "output_type": "stream",
     "text": [
      "ChatGPT mse:  387.2090909090909\n",
      "ChatGPT mlae:    10.540337218161278\n",
      "ChatGPT mean: 31.727272727272727\n",
      "ChatGPT_std: 20.146467811734546\n",
      "LLaVA mse:    4813.345454545454\n",
      "LLaVA mlae:   12.75658238253151\n",
      "LLaVA mean:   100.0\n",
      "LLaVA std:   0.0\n",
      "CLLaVA mse:   231.21818181818182\n",
      "CLLaVA mlae:  10.430583224646092\n",
      "CLLaVA mean:  40.63636363636363\n",
      "CLLaVA std:  10.593932459605247\n"
     ]
    }
   ],
   "source": [
    "ChatGPT_mse = calculate_mse(GT, ChatGPT_midpoints)\n",
    "ChatGPT_mlae = calculate_mlae(GT, ChatGPT_midpoints)\n",
    "ChatGPT_mean = calculate_mean(ChatGPT_midpoints)\n",
    "ChatGPT_std = calculate_std(ChatGPT_midpoints)\n",
    "llava_mse = calculate_mse(GT, LLaVA_midpoints)\n",
    "llava_mlae = calculate_mlae(GT, LLaVA_midpoints)\n",
    "llava_mean = calculate_mean(LLaVA_midpoints)\n",
    "llava_std = calculate_std(LLaVA_midpoints)\n",
    "custom_llava_mse = calculate_mse(GT, CustomLLaVA_midpoints)\n",
    "custom_llava_mlae = calculate_mlae(GT, CustomLLaVA_midpoints)\n",
    "custom_llava_mean = calculate_mean(CustomLLaVA_midpoints)\n",
    "custom_llava_std = calculate_std(CustomLLaVA_midpoints)\n",
    "\n",
    "print(\"ChatGPT mse: \", ChatGPT_mse)\n",
    "print(\"ChatGPT mlae:   \", ChatGPT_mlae)\n",
    "print(\"ChatGPT mean:\", ChatGPT_mean)\n",
    "print(\"ChatGPT_std:\", ChatGPT_std)\n",
    "print(\"LLaVA mse:   \", llava_mse)\n",
    "print(\"LLaVA mlae:  \", llava_mlae)\n",
    "print(\"LLaVA mean:  \", llava_mean)\n",
    "print(\"LLaVA std:  \", llava_std)\n",
    "print(\"CLLaVA mse:  \", custom_llava_mse)\n",
    "print(\"CLLaVA mlae: \", custom_llava_mlae)\n",
    "print(\"CLLaVA mean: \", custom_llava_mean)\n",
    "print(\"CLLaVA std: \", custom_llava_std)\n",
    "\n",
    "\n"
   ]
  },
  {
   "cell_type": "code",
   "execution_count": null,
   "id": "8823e58c-3130-4e95-9b48-a978ca0733fb",
   "metadata": {},
   "outputs": [],
   "source": []
  }
 ],
 "metadata": {
  "kernelspec": {
   "display_name": "Python 3 (ipykernel)",
   "language": "python",
   "name": "python3"
  },
  "language_info": {
   "codemirror_mode": {
    "name": "ipython",
    "version": 3
   },
   "file_extension": ".py",
   "mimetype": "text/x-python",
   "name": "python",
   "nbconvert_exporter": "python",
   "pygments_lexer": "ipython3",
   "version": "3.11.7"
  }
 },
 "nbformat": 4,
 "nbformat_minor": 5
}
