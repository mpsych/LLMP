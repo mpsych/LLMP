{
 "cells": [
  {
   "cell_type": "code",
   "execution_count": 1,
   "id": "114c92b4-8472-4d72-9781-67ff60d8204f",
   "metadata": {},
   "outputs": [],
   "source": [
    "GT =[290, 106, 351, 12, 96, 188, 107, 10, 263, 159, 245, 0, 128, 151, 309, 161, 87, 76, 145, 132, 332, 252, 330, 353, 251, 321, 313, 296, 339, 95, 39, 221, 49, 146, 225, 53, 214, 166, 170, 161, 104, 322, 337, 146, 207, 161, 340, 52, 104, 38, 275, 292, 203, 204, 327]\n",
    "\n",
    "ChatGPT_answer = [[45.0, 55.0], [45.0, 55.0], [330.0, 340.0], [45.0, 55.0], [0.0, 10.0], [225.0, 235.0], [45.0, 55.0], [45.0, 55.0], [0.0, 10.0], [45.0, 55.0], [45.0, 55.0], [90.0, 100.0], [310.0, 320.0], [315.0, 325.0], [135.0, 145.0], [45.0, 55.0], [0.0, 10.0], [0.0, 10.0], [300.0, 310.0], [225.0, 235.0], [45.0, 55.0], [45.0, 55.0], [45.0, 55.0], [90.0, 100.0], [45.0, 55.0], [310.0, 320.0], [215.0, 225.0], [315.0, 325.0], [135.0, 145.0], [0.0, 10.0], [45.0, 55.0], [45.0, 55.0], [45.0, 55.0], [315.0, 325.0], [225.0, 235.0], [45.0, 55.0], [45.0, 55.0], [45.0, 55.0], [90.0, 100.0], [45.0, 55.0], [45.0, 55.0], [45.0, 55.0], [225.0, 235.0], [310.0, 320.0], [30.0, 40.0], [45.0, 55.0], [45.0, 55.0], [40.0, 50.0], [310.0, 320.0], [45.0, 55.0], [270.0, 280.0], [315.0, 325.0], [310.0, 320.0], [135.0, 145.0], [45.0, 55.0]]\n",
    "LLaVA_answer = [[45.0], [45.0, 55.0], [45.0, 55.0], [45.0], [45.0], [45.0], [45.0, 55.0], [45.0], [45.0], [45.0], [45.0], [45.0], [45.0, 55.0], [45.0, 55.0], [45.0], [45.0], [45.0], [45.0], [45.0, 55.0], [45.0, 55.0], [45.0, 55.0], [45.0], [45.0, 55.0], [45.0, 55.0], [45.0], [45.0, 55.0], [45.0], [45.0], [45.0, 55.0], [45.0], [45.0, 55.0], [45.0, 55.0], [45.0, 55.0], [45.0, 55.0], [45.0, 55.0], [45.0], [45.0, 55.0], [45.0], [45.0], [45.0], [45.0], [45.0, 55.0], [45.0, 55.0], [45.0, 55.0], [45.0], [45.0], [45.0, 55.0], [45.0], [45.0], [45.0, 55.0], [45.0], [45.0], [45.0], [45.0], [45.0, 55.0]]\n",
    "customLLaVA_answer =  [[179.0], [139.0], [171.0], [179.0], [241.0], [169.0], [179.0], [11.0], [177.0], [29.0], [139.0], [179.0], [169.0], [137.0], [179.0], [17.0], [179.0], [17.0], [179.0], [171.0], [217.0], [172.0], [189.0], [175.0], [271.0], [239.0], [139.0], [172.0], [217.0], [231.0], [119.0], [176.0], [171.0], [179.0], [171.0], [171.0], [176.0], [177.0], [179.0], [176.0], [129.0], [169.0], [179.0], [17.0], [171.0], [173.0], [171.0], [139.0], [169.0], [179.0], [176.0], [180.0], [186.0], [176.0], [179.0]]"
   ]
  },
  {
   "cell_type": "code",
   "execution_count": 2,
   "id": "607741cb-80d2-4c13-b4a6-7b536b51551a",
   "metadata": {},
   "outputs": [],
   "source": [
    "ChatGPT_midpoints = [(sum(sublist) / 2) if len(sublist) > 1 else sublist[0] for sublist in ChatGPT_answer]\n",
    "LLaVA_midpoints = [(sum(sublist) / 2) if len(sublist) > 1 else sublist[0] for sublist in LLaVA_answer]\n",
    "CustomLLaVA_midpoints = [(sum(sublist) / 2) if len(sublist) > 1 else sublist[0] for sublist in customLLaVA_answer]"
   ]
  },
  {
   "cell_type": "code",
   "execution_count": 3,
   "id": "ab4e5e73-9220-4de0-9200-59356cf77da8",
   "metadata": {},
   "outputs": [],
   "source": [
    "import numpy as np\n",
    "from sklearn.metrics import mean_squared_error\n",
    "from sklearn.metrics import mean_absolute_error\n",
    "\n",
    "# Calculate mean squared error (MSE)\n",
    "def calculate_mse(gt, answers):\n",
    "    gt_array = np.array(gt)\n",
    "    answers_array = np.array(answers)\n",
    "\n",
    "    return mean_squared_error(gt_array,answers_array)\n",
    "\n",
    "\n",
    "# Calculate midmean logistic absoulte error (MALE)\n",
    "def calculate_mlae(gt, answers):\n",
    "    gt_array = np.array(gt)\n",
    "    answers_array = np.array(answers)\n",
    "\n",
    "    mlae = np.log2(mean_absolute_error(gt_array*100, answers_array*100) + .125)\n",
    "    return mlae\n",
    "\n",
    "# Calculate mean\n",
    "def calculate_mean(answers):\n",
    "    return np.mean(answers)\n",
    "\n",
    "# Calculate std\n",
    "def calculate_std(answers):\n",
    "    return np.std(answers)"
   ]
  },
  {
   "cell_type": "code",
   "execution_count": 4,
   "id": "1d167f64-98e7-47c5-94fb-e88b1344ab0e",
   "metadata": {},
   "outputs": [
    {
     "name": "stdout",
     "output_type": "stream",
     "text": [
      "ChatGPT mse:  22120.254545454547\n",
      "ChatGPT mlae:    13.558609593675229\n",
      "ChatGPT mean: 126.72727272727273\n",
      "ChatGPT_std: 114.02239884345764\n",
      "LLaVA mse:    31080.52727272727\n",
      "LLaVA mlae:   13.852080570169175\n",
      "LLaVA mean:   47.18181818181818\n",
      "LLaVA std:   2.4796693994519736\n",
      "CLLaVA mse:   10819.454545454546\n",
      "CLLaVA mlae:  13.10866366763814\n",
      "CLLaVA mean:  162.72727272727272\n",
      "CLLaVA std:  52.54554891466832\n"
     ]
    }
   ],
   "source": [
    "ChatGPT_mse = calculate_mse(GT, ChatGPT_midpoints)\n",
    "ChatGPT_mlae = calculate_mlae(GT, ChatGPT_midpoints)\n",
    "ChatGPT_mean = calculate_mean(ChatGPT_midpoints)\n",
    "ChatGPT_std = calculate_std(ChatGPT_midpoints)\n",
    "llava_mse = calculate_mse(GT, LLaVA_midpoints)\n",
    "llava_mlae = calculate_mlae(GT, LLaVA_midpoints)\n",
    "llava_mean = calculate_mean(LLaVA_midpoints)\n",
    "llava_std = calculate_std(LLaVA_midpoints)\n",
    "custom_llava_mse = calculate_mse(GT, CustomLLaVA_midpoints)\n",
    "custom_llava_mlae = calculate_mlae(GT, CustomLLaVA_midpoints)\n",
    "custom_llava_mean = calculate_mean(CustomLLaVA_midpoints)\n",
    "custom_llava_std = calculate_std(CustomLLaVA_midpoints)\n",
    "\n",
    "print(\"ChatGPT mse: \", ChatGPT_mse)\n",
    "print(\"ChatGPT mlae:   \", ChatGPT_mlae)\n",
    "print(\"ChatGPT mean:\", ChatGPT_mean)\n",
    "print(\"ChatGPT_std:\", ChatGPT_std)\n",
    "print(\"LLaVA mse:   \", llava_mse)\n",
    "print(\"LLaVA mlae:  \", llava_mlae)\n",
    "print(\"LLaVA mean:  \", llava_mean)\n",
    "print(\"LLaVA std:  \", llava_std)\n",
    "print(\"CLLaVA mse:  \", custom_llava_mse)\n",
    "print(\"CLLaVA mlae: \", custom_llava_mlae)\n",
    "print(\"CLLaVA mean: \", custom_llava_mean)\n",
    "print(\"CLLaVA std: \", custom_llava_std)\n",
    "\n",
    "\n"
   ]
  },
  {
   "cell_type": "code",
   "execution_count": null,
   "id": "d0fae01d-0a30-4d0b-837a-a4c26577b27d",
   "metadata": {},
   "outputs": [],
   "source": []
  }
 ],
 "metadata": {
  "kernelspec": {
   "display_name": "Python 3 (ipykernel)",
   "language": "python",
   "name": "python3"
  },
  "language_info": {
   "codemirror_mode": {
    "name": "ipython",
    "version": 3
   },
   "file_extension": ".py",
   "mimetype": "text/x-python",
   "name": "python",
   "nbconvert_exporter": "python",
   "pygments_lexer": "ipython3",
   "version": "3.11.7"
  }
 },
 "nbformat": 4,
 "nbformat_minor": 5
}
