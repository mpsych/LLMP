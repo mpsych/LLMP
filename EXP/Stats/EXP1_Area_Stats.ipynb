{
 "cells": [
  {
   "cell_type": "code",
   "execution_count": 1,
   "id": "70b77b79-c7bb-44c4-8d61-e3df40999bf5",
   "metadata": {},
   "outputs": [],
   "source": [
    "GT = [12.566370614359172, 3421.194399759285, 4300.840342764427, 1017.8760197630929, 380.1327110843649, 452.3893421169302, 314.1592653589793, 615.7521601035994, 28.274333882308138, 113.09733552923255, 1661.9025137490005, 1520.5308443374597, 1256.6370614359173, 4071.5040790523717, 2463.0086404143976, 907.9202768874503, 2463.0086404143976, 3421.194399759285, 201.06192982974676, 804.247719318987, 1385.442360233099, 1963.4954084936207, 12.566370614359172, 3848.4510006474966, 452.3893421169302, 804.247719318987, 3421.194399759285, 3019.0705400997913, 452.3893421169302, 2123.7166338267, 907.9202768874503, 4536.459791783661, 28.274333882308138, 1661.9025137490005, 3631.6811075498013, 706.8583470577034, 3848.4510006474966, 4778.362426110075, 5026.548245743669, 2827.4333882308138, 5026.548245743669, 1809.5573684677208, 4778.362426110075, 254.46900494077323, 1661.9025137490005, 254.46900494077323, 4536.459791783661, 2290.221044466959, 452.3893421169302, 1134.1149479459152, 907.9202768874503, 530.929158456675, 1385.442360233099, 3019.0705400997913, 2123.7166338267]\n",
    "\n",
    "ChatGPT_answer = [[20.0, 30.0], [7000.0, 7200.0], [7000.0, 8000.0], [700.0, 800.0], [100.0, 200.0], [700.0, 800.0], [300.0, 400.0], [2000.0, 3000.0], [300.0, 400.0], [0.0, 50.0], [2000.0, 3000.0], [2800.0, 3200.0], [3000.0, 4000.0], [7000.0, 7500.0], [7000.0, 7500.0], [600.0, 700.0], [2800.0, 3200.0], [2600.0, 3200.0], [200.0, 300.0], [0.0], [2800.0, 3200.0], [3000.0, 3200.0], [20.0, 30.0], [3000.0], [3150.0, 3200.0], [2000.0, 3000.0], [2000.0, 3000.0], [3000.0, 3500.0], [1200.0, 1400.0], [2800.0, 3200.0], [600.0, 800.0], [2.0], [300.0, 400.0], [2000.0, 2500.0], [7900.0], [3150.0], [3000.0, 3500.0], [7000.0, 8000.0], [7000.0, 7500.0], [2800.0, 3200.0], [3000.0, 3200.0], [2000.0, 3000.0], [500.0, 3.0, 100.0], [200.0, 300.0], [2000.0, 3000.0], [200.0, 300.0], [7000.0, 8000.0], [2000.0, 3000.0], [3000.0, 3500.0], [300.0, 400.0], [2500.0, 3100.0], [900.0], [2000.0, 3000.0], [3000.0, 4000.0], [2000.0, 3000.0]]\n",
    "LLaVA_answer = [[100.0], [50.0], [50.0], [100.0], [100.0], [100.0], [100.0], [100.0], [100.0], [100.0], [100.0], [100.0], [100.0], [50.0], [50.0], [100.0], [50.0], [50.0], [10.0], [100.0], [100.0], [100.0], [100.0], [50.0], [100.0], [100.0], [50.0], [50.0], [100.0], [50.0], [100.0], [50.0], [100.0], [100.0], [50.0], [100.0], [50.0], [50.0], [50.0], [50.0], [50.0], [100.0], [50.0], [100.0], [100.0], [100.0], [50.0], [50.0], [100.0], [100.0], [100.0], [100.0], [100.0], [50.0], [50.0]]\n",
    "customLLaVA_answer =   [[1331.0], [1256.89657948], [1331.0], [1000.5573684677208], [1000.5573684677208], [1331.0], [1256.5902], [2642.079421669016], [143.0], [16.0], [1331.0], [1331.0], [1000.5573684677208], [12.566370614359172], [1256.52631578947], [1256.5980400258984], [1331.0], [1331.0], [1331.0], [1331.0], [1256.896579005], [1809.5573684677208], [1000.5573684677208], [1000.5573684677208], [1256.52631578947], [1331.0], [1809.5573684677208], [1331.0], [1728.1384210526317], [1256.52631578947], [1000.5573684677208], [1331.0], [1331.0], [1331.0], [1000.5573684677208], [1728.1304347826087], [1000.5573684677208], [1000.5573684677208], [1331.0], [1331.0], [1331.0], [1331.0], [1331.0], [1000.5573684677208], [1000.5573684677208], [1000.5573684677208], [1331.0], [1000.5573684677208], [1331.0], [1000.5573684677208], [1000.5573684677208], [1331.0], [1331.0], [1000.5573684677208], [1331.0]]"
   ]
  },
  {
   "cell_type": "code",
   "execution_count": 2,
   "id": "a32c3bae-568c-4d40-9f7c-4e2aeb2ccb8f",
   "metadata": {},
   "outputs": [],
   "source": [
    "ChatGPT_midpoints = [(sum(sublist) / 2) if len(sublist) > 1 else sublist[0] for sublist in ChatGPT_answer]\n",
    "LLaVA_midpoints = [(sum(sublist) / 2) if len(sublist) > 1 else sublist[0] for sublist in LLaVA_answer]\n",
    "CustomLLaVA_midpoints = [(sum(sublist) / 2) if len(sublist) > 1 else sublist[0] for sublist in customLLaVA_answer]"
   ]
  },
  {
   "cell_type": "code",
   "execution_count": 3,
   "id": "fa7a9fbd-95bc-42c7-85e1-d1fba3698215",
   "metadata": {},
   "outputs": [],
   "source": [
    "import numpy as np\n",
    "from sklearn.metrics import mean_squared_error\n",
    "from sklearn.metrics import mean_absolute_error\n",
    "\n",
    "# Calculate mean squared error (MSE)\n",
    "def calculate_mse(gt, answers):\n",
    "    gt_array = np.array(gt)\n",
    "    answers_array = np.array(answers)\n",
    "\n",
    "    return mean_squared_error(gt_array,answers_array)\n",
    "\n",
    "\n",
    "# Calculate midmean logistic absoulte error (MALE)\n",
    "def calculate_mlae(gt, answers):\n",
    "    gt_array = np.array(gt)\n",
    "    answers_array = np.array(answers)\n",
    "\n",
    "    mlae = np.log2(mean_absolute_error(gt_array*100, answers_array*100) + .125)\n",
    "    return mlae\n",
    "\n",
    "# Calculate mean\n",
    "def calculate_mean(answers):\n",
    "    return np.mean(answers)\n",
    "\n",
    "# Calculate std\n",
    "def calculate_std(answers):\n",
    "    return np.std(answers)"
   ]
  },
  {
   "cell_type": "code",
   "execution_count": 4,
   "id": "03ce3131-a0f9-4384-a93b-7dd18d8f1fc4",
   "metadata": {},
   "outputs": [
    {
     "name": "stdout",
     "output_type": "stream",
     "text": [
      "ChatGPT mse:  3503091.8015218545\n",
      "ChatGPT mlae:    17.010708095362396\n",
      "ChatGPT mean: 2630.9727272727273\n",
      "ChatGPT_std: 2299.6044885592073\n",
      "LLaVA mse:    5853127.707934216\n",
      "LLaVA mlae:   17.49157458796198\n",
      "LLaVA mean:   78.36363636363636\n",
      "LLaVA std:   26.060324170427517\n",
      "CLLaVA mse:   3063631.3963002493\n",
      "CLLaVA mlae:  17.013224470072487\n",
      "CLLaVA mean:  1211.6092295712165\n",
      "CLLaVA std:  390.1753483579053\n"
     ]
    }
   ],
   "source": [
    "ChatGPT_mse = calculate_mse(GT, ChatGPT_midpoints)\n",
    "ChatGPT_mlae = calculate_mlae(GT, ChatGPT_midpoints)\n",
    "ChatGPT_mean = calculate_mean(ChatGPT_midpoints)\n",
    "ChatGPT_std = calculate_std(ChatGPT_midpoints)\n",
    "llava_mse = calculate_mse(GT, LLaVA_midpoints)\n",
    "llava_mlae = calculate_mlae(GT, LLaVA_midpoints)\n",
    "llava_mean = calculate_mean(LLaVA_midpoints)\n",
    "llava_std = calculate_std(LLaVA_midpoints)\n",
    "custom_llava_mse = calculate_mse(GT, CustomLLaVA_midpoints)\n",
    "custom_llava_mlae = calculate_mlae(GT, CustomLLaVA_midpoints)\n",
    "custom_llava_mean = calculate_mean(CustomLLaVA_midpoints)\n",
    "custom_llava_std = calculate_std(CustomLLaVA_midpoints)\n",
    "\n",
    "print(\"ChatGPT mse: \", ChatGPT_mse)\n",
    "print(\"ChatGPT mlae:   \", ChatGPT_mlae)\n",
    "print(\"ChatGPT mean:\", ChatGPT_mean)\n",
    "print(\"ChatGPT_std:\", ChatGPT_std)\n",
    "print(\"LLaVA mse:   \", llava_mse)\n",
    "print(\"LLaVA mlae:  \", llava_mlae)\n",
    "print(\"LLaVA mean:  \", llava_mean)\n",
    "print(\"LLaVA std:  \", llava_std)\n",
    "print(\"CLLaVA mse:  \", custom_llava_mse)\n",
    "print(\"CLLaVA mlae: \", custom_llava_mlae)\n",
    "print(\"CLLaVA mean: \", custom_llava_mean)\n",
    "print(\"CLLaVA std: \", custom_llava_std)\n",
    "\n",
    "\n"
   ]
  },
  {
   "cell_type": "code",
   "execution_count": null,
   "id": "b140eb05-acce-496e-9e11-a6260aa0a9a9",
   "metadata": {},
   "outputs": [],
   "source": []
  }
 ],
 "metadata": {
  "kernelspec": {
   "display_name": "Python 3 (ipykernel)",
   "language": "python",
   "name": "python3"
  },
  "language_info": {
   "codemirror_mode": {
    "name": "ipython",
    "version": 3
   },
   "file_extension": ".py",
   "mimetype": "text/x-python",
   "name": "python",
   "nbconvert_exporter": "python",
   "pygments_lexer": "ipython3",
   "version": "3.11.7"
  }
 },
 "nbformat": 4,
 "nbformat_minor": 5
}
