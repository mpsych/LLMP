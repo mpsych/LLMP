{
 "cells": [
  {
   "cell_type": "code",
   "execution_count": 1,
   "id": "a39d1a92-45ee-486b-8ebf-95901891331e",
   "metadata": {},
   "outputs": [],
   "source": [
    "GT = [343, 3375, 5832, 27, 8, 4096, 4913, 8, 125, 4096, 1728, 2197, 6859, 1, 1000, 2197, 8000, 8000, 4913, 27, 5832, 3375, 1728, 6859, 125, 1728, 1000, 8, 8, 125, 4913, 125, 8000, 2744, 1728, 1331, 6859, 4096, 8, 1331, 216, 27, 125, 729, 6859, 216, 3375, 3375, 3375, 6859, 216, 125, 2197, 2197, 1331]\n",
    "ChatGPT_answer = [[300.0, 400.0], [1000.0, 1500.0], [500.0, 600.0], [1000.0], [27.0, 64.0], [500.0, 600.0], [1000.0, 1100.0], [100.0, 200.0], [20.0, 50.0], [2500.0, 3500.0], [3000.0, 3500.0], [1000.0, 2000.0], [3000.0, 4000.0], [1.0], [27000], [1500.0, 2000.0], [3000.0, 4000.0], [3000.0, 4000.0], [1000.0], [27.0, 30.0], [1000.0, 2000.0], [1000.0], [3000.0, 3500.0], [1000.0], [27.0, 30.0], [1000.0, 1100.0], [27.0, 30.0], [27.0, 64.0], [500.0, 600.0], [125.0, 175.0], [1500.0, 2000.0], [125.0, 175.0], [3000.0, 3500.0], [1000.0, 1500.0], [3000.0, 3500.0], [3000.0, 4000.0], [3000.0, 4000.0], [3000.0, 3500.0], [1000.0], [125.0, 200.0], [300.0, 400.0], [27.0, 33.0], [100.0, 200.0], [3000.0, 3500.0], [3000.0, 3500.0], [1000.0], [3000.0, 4000.0], [3000.0, 4000.0], [10.0, 1000.0], [3000.0, 3500.0], [10.0, 1000.0], [125.0, 175.0], [1000.0, 1500.0], [125.0, 200.0], [3000.0, 4000.0]]\n",
    "LLaVA_answer = [[1000.0, 1100.0], [1000.0, 1100.0], [1000.0, 1100.0], [1000.0, 1100.0], [1000.0, 1100.0], [1000.0, 1100.0], [1000.0, 1100.0], [1000.0, 1100.0], [1000.0, 1100.0], [1000.0, 1100.0], [1000.0, 1100.0], [1000.0, 1100.0], [1000.0, 1100.0], [1000.0, 1100.0], [1000.0, 1100.0], [1000.0, 1100.0], [1000.0, 1100.0], [1000.0, 1100.0], [1000.0, 1100.0], [1000.0, 1100.0], [1000.0, 1100.0], [1000.0, 1100.0], [1000.0, 1100.0], [1000.0, 1100.0], [1000.0, 1100.0], [1000.0, 1100.0], [1000.0, 1100.0], [1000.0, 1100.0], [1000.0, 1100.0], [1000.0, 1100.0], [1000.0, 1100.0], [1000.0, 1100.0], [1000.0, 1100.0], [1000.0, 1100.0], [1000.0, 1100.0], [1000.0, 1100.0], [1000.0, 1100.0], [1000.0, 1100.0], [1000.0, 1100.0], [1000.0, 1100.0], [1000.0, 1100.0], [1000.0, 1100.0], [1000.0, 1100.0], [1000.0, 1100.0], [1000.0, 1100.0], [1000.0, 1100.0], [1000.0, 1100.0], [1000.0, 1100.0], [1000.0, 1100.0], [1000.0, 1100.0], [1000.0, 1100.0], [1000.0, 1100.0], [1000.0, 1100.0], [1000.0, 1100.0], [1000.0, 1100.0]]\n",
    "customLLaVA_answer = [[1000.0], [1000.0], [1000.0], [1000.0], [1000.0], [1000.0], [1000.0], [1000.0], [1000.0], [1000.0], [1000.0], [1000.0], [1000.0], [1000.0], [1000.0], [1000.0], [1000.0], [1000.0], [1000.0], [1000.0], [1000.0], [1000.0], [1000.0], [1000.0], [1000.0], [1000.0], [1000.0], [1000.0], [1000.0], [1000.0], [1000.0], [1000.0], [1000.0], [1000.0], [1000.0], [1000.0], [1000.0], [1000.0], [1000.0], [1000.0], [1000.0], [1000.0], [1000.0], [1000.0], [1000.0], [1000.0], [1000.0], [1000.0], [1000.0], [1000.0], [1000.0], [1000.0], [27.0], [1000.0], [1000.0]]"
   ]
  },
  {
   "cell_type": "code",
   "execution_count": 2,
   "id": "152356c6-106c-4cc2-adf1-938351c57c30",
   "metadata": {},
   "outputs": [],
   "source": [
    "ChatGPT_midpoints = [(sum(sublist) / 2) if len(sublist) > 1 else sublist[0] for sublist in ChatGPT_answer]\n",
    "LLaVA_midpoints = [(sum(sublist) / 2) if len(sublist) > 1 else sublist[0] for sublist in LLaVA_answer]\n",
    "CustomLLaVA_midpoints = [(sum(sublist) / 2) if len(sublist) > 1 else sublist[0] for sublist in customLLaVA_answer]"
   ]
  },
  {
   "cell_type": "code",
   "execution_count": 3,
   "id": "248db735-5178-47b4-bb50-305e766e4dee",
   "metadata": {},
   "outputs": [],
   "source": [
    "import numpy as np\n",
    "from sklearn.metrics import mean_squared_error\n",
    "from sklearn.metrics import mean_absolute_error\n",
    "\n",
    "# Calculate mean squared error (MSE)\n",
    "def calculate_mse(gt, answers):\n",
    "    gt_array = np.array(gt)\n",
    "    answers_array = np.array(answers)\n",
    "\n",
    "    return mean_squared_error(gt_array,answers_array)\n",
    "\n",
    "\n",
    "# Calculate midmean logistic absoulte error (MALE)\n",
    "def calculate_mlae(gt, answers):\n",
    "    gt_array = np.array(gt)\n",
    "    answers_array = np.array(answers)\n",
    "\n",
    "    mlae = np.log2(mean_absolute_error(gt_array*100, answers_array*100) + .125)\n",
    "    return mlae\n",
    "\n",
    "# Calculate mean\n",
    "def calculate_mean(answers):\n",
    "    return np.mean(answers)\n",
    "\n",
    "# Calculate std\n",
    "def calculate_std(answers):\n",
    "    return np.std(answers)"
   ]
  },
  {
   "cell_type": "code",
   "execution_count": 4,
   "id": "078876cc-77c9-4300-b75d-2179e4867137",
   "metadata": {},
   "outputs": [
    {
     "name": "stdout",
     "output_type": "stream",
     "text": [
      "ChatGPT mse:  17786294.613636363\n",
      "ChatGPT mlae:    17.7023100613366\n",
      "ChatGPT mean: 1945.9545454545455\n",
      "ChatGPT_std: 3662.0496387985777\n",
      "LLaVA mse:    8849100.727272727\n",
      "LLaVA mlae:   17.737046467522706\n",
      "LLaVA mean:   1050.0\n",
      "LLaVA std:   0.0\n",
      "CLLaVA mse:   9062329.654545454\n",
      "CLLaVA mlae:  17.755217967483734\n",
      "CLLaVA mean:  982.3090909090909\n",
      "CLLaVA std:  130.0011010760745\n"
     ]
    }
   ],
   "source": [
    "ChatGPT_mse = calculate_mse(GT, ChatGPT_midpoints)\n",
    "ChatGPT_mlae = calculate_mlae(GT, ChatGPT_midpoints)\n",
    "ChatGPT_mean = calculate_mean(ChatGPT_midpoints)\n",
    "ChatGPT_std = calculate_std(ChatGPT_midpoints)\n",
    "llava_mse = calculate_mse(GT, LLaVA_midpoints)\n",
    "llava_mlae = calculate_mlae(GT, LLaVA_midpoints)\n",
    "llava_mean = calculate_mean(LLaVA_midpoints)\n",
    "llava_std = calculate_std(LLaVA_midpoints)\n",
    "custom_llava_mse = calculate_mse(GT, CustomLLaVA_midpoints)\n",
    "custom_llava_mlae = calculate_mlae(GT, CustomLLaVA_midpoints)\n",
    "custom_llava_mean = calculate_mean(CustomLLaVA_midpoints)\n",
    "custom_llava_std = calculate_std(CustomLLaVA_midpoints)\n",
    "\n",
    "print(\"ChatGPT mse: \", ChatGPT_mse)\n",
    "print(\"ChatGPT mlae:   \", ChatGPT_mlae)\n",
    "print(\"ChatGPT mean:\", ChatGPT_mean)\n",
    "print(\"ChatGPT_std:\", ChatGPT_std)\n",
    "print(\"LLaVA mse:   \", llava_mse)\n",
    "print(\"LLaVA mlae:  \", llava_mlae)\n",
    "print(\"LLaVA mean:  \", llava_mean)\n",
    "print(\"LLaVA std:  \", llava_std)\n",
    "print(\"CLLaVA mse:  \", custom_llava_mse)\n",
    "print(\"CLLaVA mlae: \", custom_llava_mlae)\n",
    "print(\"CLLaVA mean: \", custom_llava_mean)\n",
    "print(\"CLLaVA std: \", custom_llava_std)\n",
    "\n",
    "\n"
   ]
  },
  {
   "cell_type": "code",
   "execution_count": null,
   "id": "358072bb-36e2-4a5e-938f-a5b8b757fe72",
   "metadata": {},
   "outputs": [],
   "source": []
  }
 ],
 "metadata": {
  "kernelspec": {
   "display_name": "Python 3 (ipykernel)",
   "language": "python",
   "name": "python3"
  },
  "language_info": {
   "codemirror_mode": {
    "name": "ipython",
    "version": 3
   },
   "file_extension": ".py",
   "mimetype": "text/x-python",
   "name": "python",
   "nbconvert_exporter": "python",
   "pygments_lexer": "ipython3",
   "version": "3.11.7"
  }
 },
 "nbformat": 4,
 "nbformat_minor": 5
}
