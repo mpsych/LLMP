{
 "cells": [
  {
   "cell_type": "code",
   "execution_count": 1,
   "id": "67b0c19b-9dc2-4d58-b0bc-fcb2b4c7e523",
   "metadata": {},
   "outputs": [],
   "source": [
    "GT =[58, 14, 88, 23, 8, 68, 60, 32, 85, 73, 84, 10, 48, 6, 46, 7, 74, 40, 38, 39, 18, 42, 49, 11, 83, 6, 63, 60, 70, 70, 21, 24, 2, 41, 50, 83, 40, 61, 57, 25, 73, 60, 63, 13, 59, 58, 32, 86, 25, 68, 5, 2, 80, 39, 79]\n",
    "\n",
    "ChatGPT_answer = [[70.0, 80.0], [30.0, 40.0], [70.0, 80.0], [30.0, 40.0], [40.0, 50.0], [40.0, 50.0], [45.0, 55.0], [40.0, 50.0], [85.0, 95.0], [70.0, 80.0], [85.0, 95.0], [40.0, 50.0], [40.0, 50.0], [75.0, 85.0], [25.0, 35.0], [25.0, 35.0], [45.0, 55.0], [40.0, 50.0], [70.0, 80.0], [45.0, 55.0], [30.0, 40.0], [40.0, 50.0], [40.0, 50.0], [40.0, 50.0], [25.0, 35.0], [35.0, 45.0], [40.0, 50.0], [40.0, 50.0], [70.0, 80.0], [40.0, 50.0], [45.0, 55.0], [30.0, 40.0], [45.0, 55.0], [45.0, 55.0], [70.0, 80.0], [45.0, 55.0], [70.0, 80.0], [45.0, 55.0], [70.0, 80.0], [40.0, 50.0], [35.0, 45.0], [25.0, 35.0], [45.0, 55.0], [30.0, 40.0], [45.0, 55.0], [45.0, 55.0], [40.0, 50.0], [70.0, 80.0], [25.0, 35.0], [40.0, 50.0], [25.0, 35.0], [40.0, 50.0], [40.0, 50.0], [25.0, 35.0], [70.0, 80.0]]\n",
    "LLaVA_answer = [[45.0], [45.0], [45.0], [45.0], [45.0], [45.0], [45.0], [45.0], [45.0], [45.0], [45.0], [45.0], [45.0], [45.0], [45.0], [45.0], [45.0], [45.0], [45.0], [45.0], [45.0], [45.0], [45.0], [45.0], [45.0], [45.0], [45.0], [45.0], [45.0], [45.0], [45.0], [45.0], [45.0], [45.0], [45.0], [45.0], [45.0], [7.0], [45.0], [45.0], [45.0], [45.0], [45.0], [45.0], [45.0], [45.0], [45.0], [45.0], [45.0], [45.0], [45.0], [45.0], [45.0], [45.0], [45.0]]\n",
    "customLLaVA_answer =    [[60.0], [60.0], [56.0], [18.0], [49.0], [39.0], [69.0], [17.0], [55.0], [49.0], [79.0], [51.0], [56.0], [37.0], [69.0], [48.0], [59.0], [69.0], [55.0], [59.0], [49.0], [59.0], [56.0], [60.0], [55.0], [69.0], [49.0], [79.0], [59.0], [56.0], [69.0], [59.0], [59.0], [60.0], [56.0], [51.0], [57.0], [87.0], [59.0], [69.0], [60.0], [59.0], [57.0], [66.0], [69.0], [49.0], [56.0], [59.0], [53.0], [66.0], [59.0], [67.0], [60.0], [59.0], [66.0]]"
   ]
  },
  {
   "cell_type": "code",
   "execution_count": 2,
   "id": "82d01ab5-15ff-48b8-b945-3e6a7d36ed6e",
   "metadata": {},
   "outputs": [],
   "source": [
    "ChatGPT_midpoints = [(sum(sublist) / 2) if len(sublist) > 1 else sublist[0] for sublist in ChatGPT_answer]\n",
    "LLaVA_midpoints = [(sum(sublist) / 2) if len(sublist) > 1 else sublist[0] for sublist in LLaVA_answer]\n",
    "CustomLLaVA_midpoints = [(sum(sublist) / 2) if len(sublist) > 1 else sublist[0] for sublist in customLLaVA_answer]"
   ]
  },
  {
   "cell_type": "code",
   "execution_count": 3,
   "id": "755fde02-2ece-49d4-a0b2-f7fe43f234e5",
   "metadata": {},
   "outputs": [],
   "source": [
    "import numpy as np\n",
    "from sklearn.metrics import mean_squared_error\n",
    "from sklearn.metrics import mean_absolute_error\n",
    "\n",
    "# Calculate mean squared error (MSE)\n",
    "def calculate_mse(gt, answers):\n",
    "    gt_array = np.array(gt)\n",
    "    answers_array = np.array(answers)\n",
    "\n",
    "    return mean_squared_error(gt_array,answers_array)\n",
    "\n",
    "\n",
    "# Calculate midmean logistic absoulte error (MALE)\n",
    "def calculate_mlae(gt, answers):\n",
    "    gt_array = np.array(gt)\n",
    "    answers_array = np.array(answers)\n",
    "\n",
    "    mlae = np.log2(mean_absolute_error(gt_array*100, answers_array*100) + .125)\n",
    "    return mlae\n",
    "\n",
    "# Calculate mean\n",
    "def calculate_mean(answers):\n",
    "    return np.mean(answers)\n",
    "\n",
    "# Calculate std\n",
    "def calculate_std(answers):\n",
    "    return np.std(answers)"
   ]
  },
  {
   "cell_type": "code",
   "execution_count": 4,
   "id": "2d21bcbd-e9fc-4be0-8d99-fc29913f749a",
   "metadata": {},
   "outputs": [
    {
     "name": "stdout",
     "output_type": "stream",
     "text": [
      "ChatGPT mse:  619.1454545454545\n",
      "ChatGPT mlae:    10.987998740136979\n",
      "ChatGPT mean: 50.72727272727273\n",
      "ChatGPT_std: 16.443240717366397\n",
      "LLaVA mse:    739.7818181818182\n",
      "LLaVA mlae:   11.202423008959823\n",
      "LLaVA mean:   44.30909090909091\n",
      "LLaVA std:   5.077124194132405\n",
      "CLLaVA mse:   872.709090909091\n",
      "CLLaVA mlae:  11.25810424404568\n",
      "CLLaVA mean:  57.74545454545454\n",
      "CLLaVA std:  11.784763941506204\n"
     ]
    }
   ],
   "source": [
    "ChatGPT_mse = calculate_mse(GT, ChatGPT_midpoints)\n",
    "ChatGPT_mlae = calculate_mlae(GT, ChatGPT_midpoints)\n",
    "ChatGPT_mean = calculate_mean(ChatGPT_midpoints)\n",
    "ChatGPT_std = calculate_std(ChatGPT_midpoints)\n",
    "llava_mse = calculate_mse(GT, LLaVA_midpoints)\n",
    "llava_mlae = calculate_mlae(GT, LLaVA_midpoints)\n",
    "llava_mean = calculate_mean(LLaVA_midpoints)\n",
    "llava_std = calculate_std(LLaVA_midpoints)\n",
    "custom_llava_mse = calculate_mse(GT, CustomLLaVA_midpoints)\n",
    "custom_llava_mlae = calculate_mlae(GT, CustomLLaVA_midpoints)\n",
    "custom_llava_mean = calculate_mean(CustomLLaVA_midpoints)\n",
    "custom_llava_std = calculate_std(CustomLLaVA_midpoints)\n",
    "\n",
    "print(\"ChatGPT mse: \", ChatGPT_mse)\n",
    "print(\"ChatGPT mlae:   \", ChatGPT_mlae)\n",
    "print(\"ChatGPT mean:\", ChatGPT_mean)\n",
    "print(\"ChatGPT_std:\", ChatGPT_std)\n",
    "print(\"LLaVA mse:   \", llava_mse)\n",
    "print(\"LLaVA mlae:  \", llava_mlae)\n",
    "print(\"LLaVA mean:  \", llava_mean)\n",
    "print(\"LLaVA std:  \", llava_std)\n",
    "print(\"CLLaVA mse:  \", custom_llava_mse)\n",
    "print(\"CLLaVA mlae: \", custom_llava_mlae)\n",
    "print(\"CLLaVA mean: \", custom_llava_mean)\n",
    "print(\"CLLaVA std: \", custom_llava_std)\n",
    "\n",
    "\n"
   ]
  },
  {
   "cell_type": "code",
   "execution_count": null,
   "id": "d8d8aeb7-85a8-4bc0-8975-dff7a27cb1e3",
   "metadata": {},
   "outputs": [],
   "source": []
  }
 ],
 "metadata": {
  "kernelspec": {
   "display_name": "Python 3 (ipykernel)",
   "language": "python",
   "name": "python3"
  },
  "language_info": {
   "codemirror_mode": {
    "name": "ipython",
    "version": 3
   },
   "file_extension": ".py",
   "mimetype": "text/x-python",
   "name": "python",
   "nbconvert_exporter": "python",
   "pygments_lexer": "ipython3",
   "version": "3.11.7"
  }
 },
 "nbformat": 4,
 "nbformat_minor": 5
}
