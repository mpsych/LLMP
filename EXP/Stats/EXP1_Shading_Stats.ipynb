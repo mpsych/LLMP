{
 "cells": [
  {
   "cell_type": "code",
   "execution_count": 1,
   "id": "ef833f32-ccb3-471f-8db1-b3e2cc41acc9",
   "metadata": {},
   "outputs": [],
   "source": [
    "GT = [40,12,83,20,56, 58,14,7,11,90,18,28,54,15,15,38,75,84, 89,77, 57, 96, 38, 68,52,83, 3, 24, 59,32,47,95,90,33,19,69,95,84, 24, 92, 67,22, 69, 56, 89,2, 86, 6, 64,80,25,44,24,88,5]\n",
    "\n",
    "#ChatGPT_answer = ...#\n",
    "LLaVA_answer = [[25.0],[25.0], [25.0], [25.0], [25.0], [25.0],[25.0], [25.0], [25.0],[50.0],[25.0],[25.0],[25.0], [25.0], [25.0], [25.0],[25.0],[25.0],[25.0], [25.0],[50.0], [50.0], [25.0], [25.0], [50.0], [25.0],[50.0],[25.0],[25.0],[25.0],[25.0],[100.0],[50.0],[25.0],[25.0], [25.0], [100.0],[25.0],[25.0], [25.0],[50.0], [25.0],[25.0], [25.0], [25.0],[50.0],[25.0],[50.0],[25.0],[25.0], [25.0],[25.0],[25.0],[25.0],[50.0]]\n",
    "customLLaVA_answer =  [[89.0], [13.0], [90.0],  [76.0],[39.0], [63.0], [57.0], [13.0], [87.0],[91.0],[79.0],[17.0],[89.0],[86.0],[90.0],[17.0],[88.0], [59.0], [90.0],[89.0], [94.0],[59.0], [53.0], [85.0], [81.0], [77.0],[69.0], [49.0], [89.0], [73.0], [90.0], [91.0], [89.0], [69.0], [87.0],[69.0], [59.0], [90.0], [63.0], [89.0], [56.0], [54.0], [17.0],[81.0], [79.0], [56.0], [23.0], [59.0], [90.0], [90.0], [76.0], [90.0], [90.0], [58.0], [90.0]]"
   ]
  },
  {
   "cell_type": "code",
   "execution_count": 2,
   "id": "c2822e73-89cd-4be7-a3bc-7e82478d0942",
   "metadata": {},
   "outputs": [],
   "source": [
    "#ChatGPT_midpoints = [(sum(sublist) / 2) if len(sublist) > 1 else sublist[0] for sublist in ChatGPT_answer]\n",
    "LLaVA_midpoints = [(sum(sublist) / 2) if len(sublist) > 1 else sublist[0] for sublist in LLaVA_answer]\n",
    "CustomLLaVA_midpoints = [(sum(sublist) / 2) if len(sublist) > 1 else sublist[0] for sublist in customLLaVA_answer]"
   ]
  },
  {
   "cell_type": "code",
   "execution_count": 3,
   "id": "488bddb0-71d5-444e-adb5-3e2d48fb0714",
   "metadata": {},
   "outputs": [],
   "source": [
    "import numpy as np\n",
    "from sklearn.metrics import mean_squared_error\n",
    "from sklearn.metrics import mean_absolute_error\n",
    "\n",
    "# Calculate mean squared error (MSE)\n",
    "def calculate_mse(gt, answers):\n",
    "    gt_array = np.array(gt)\n",
    "    answers_array = np.array(answers)\n",
    "\n",
    "    return mean_squared_error(gt_array,answers_array)\n",
    "\n",
    "\n",
    "# Calculate midmean logistic absoulte error (MALE)\n",
    "def calculate_mlae(gt, answers):\n",
    "    gt_array = np.array(gt)\n",
    "    answers_array = np.array(answers)\n",
    "\n",
    "    mlae = np.log2(mean_absolute_error(gt_array*100, answers_array*100) + .125)\n",
    "    return mlae\n",
    "\n",
    "# Calculate mean\n",
    "def calculate_mean(answers):\n",
    "    return np.mean(answers)\n",
    "\n",
    "# Calculate std\n",
    "def calculate_std(answers):\n",
    "    return np.std(answers)"
   ]
  },
  {
   "cell_type": "code",
   "execution_count": 4,
   "id": "cb51599b-754d-4237-82db-468e94214698",
   "metadata": {},
   "outputs": [
    {
     "name": "stdout",
     "output_type": "stream",
     "text": [
      "LLaVA mse:    1297.8909090909092\n",
      "LLaVA mlae:   11.491915711943099\n",
      "LLaVA mean:   32.27272727272727\n",
      "LLaVA std:   16.2877026065172\n",
      "CLLaVA mse:   1550.1272727272728\n",
      "CLLaVA mlae:  11.62659572824527\n",
      "CLLaVA mean:  70.10909090909091\n",
      "CLLaVA std:  23.32043405745483\n"
     ]
    }
   ],
   "source": [
    "llava_mse = calculate_mse(GT, LLaVA_midpoints)\n",
    "llava_mlae = calculate_mlae(GT, LLaVA_midpoints)\n",
    "llava_mean = calculate_mean(LLaVA_midpoints)\n",
    "llava_std = calculate_std(LLaVA_midpoints)\n",
    "custom_llava_mse = calculate_mse(GT, CustomLLaVA_midpoints)\n",
    "custom_llava_mlae = calculate_mlae(GT, CustomLLaVA_midpoints)\n",
    "custom_llava_mean = calculate_mean(CustomLLaVA_midpoints)\n",
    "custom_llava_std = calculate_std(CustomLLaVA_midpoints)\n",
    "\n",
    "print(\"LLaVA mse:   \", llava_mse)\n",
    "print(\"LLaVA mlae:  \", llava_mlae)\n",
    "print(\"LLaVA mean:  \", llava_mean)\n",
    "print(\"LLaVA std:  \", llava_std)\n",
    "print(\"CLLaVA mse:  \", custom_llava_mse)\n",
    "print(\"CLLaVA mlae: \", custom_llava_mlae)\n",
    "print(\"CLLaVA mean: \", custom_llava_mean)\n",
    "print(\"CLLaVA std: \", custom_llava_std)"
   ]
  },
  {
   "cell_type": "code",
   "execution_count": null,
   "id": "97b903ed-7010-4054-b516-d27f74f752f2",
   "metadata": {},
   "outputs": [],
   "source": []
  }
 ],
 "metadata": {
  "kernelspec": {
   "display_name": "Python 3 (ipykernel)",
   "language": "python",
   "name": "python3"
  },
  "language_info": {
   "codemirror_mode": {
    "name": "ipython",
    "version": 3
   },
   "file_extension": ".py",
   "mimetype": "text/x-python",
   "name": "python",
   "nbconvert_exporter": "python",
   "pygments_lexer": "ipython3",
   "version": "3.11.7"
  }
 },
 "nbformat": 4,
 "nbformat_minor": 5
}
