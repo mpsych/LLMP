{
 "cells": [
  {
   "cell_type": "code",
   "execution_count": 1,
   "id": "0991e11f-67d6-46ef-9baf-08b412110db4",
   "metadata": {},
   "outputs": [],
   "source": [
    "GT = [0.38461538461538464, 0.5454545454545454, 0.5652173913043478, 0.17857142857142858, 0.8461538461538461, 0.32142857142857145, 0.8, 0.17857142857142858, 0.391304347826087, 0.5652173913043478, 0.5769230769230769, 0.47368421052631576, 0.3125, 0.6842105263157895, 0.2631578947368421, 0.46153846153846156, 0.8421052631578947, 0.26785714285714285, 0.5769230769230769, 0.5769230769230769, 0.39473684210526316, 0.2608695652173913, 0.4782608695652174, 0.5789473684210527, 0.46153846153846156, 0.3157894736842105, 0.391304347826087, 0.6923076923076923, 0.5789473684210527, 0.5555555555555556, 0.6956521739130435, 0.47368421052631576, 0.17857142857142858, 0.3157894736842105, 0.46153846153846156, 0.4782608695652174, 0.8125, 0.8333333333333334, 0.3125, 0.32608695652173914, 0.2631578947368421, 0.391304347826087, 0.6842105263157895, 0.21428571428571427, 0.5652173913043478, 0.8461538461538461, 0.46875, 0.8333333333333334, 0.45454545454545453, 0.5625, 0.6956521739130435, 0.47368421052631576, 0.8333333333333334, 0.6818181818181818, 0.2608695652173913]\n",
    "ChatGPT_answer =  [[0.6, 0.7], [0.6, 0.7], [0.6, 0.7], [0.2, 0.3], [0.6, 0.7], [0.6, 0.7], [0.6, 0.7], [0.6, 0.7], [0.6, 0.7], [0.2, 0.3], [0.2, 0.3], [0.6, 0.7], [0.1, 0.2], [0.6, 0.7], [0.6, 0.7], [0.6, 0.7], [0.6, 0.7], [0.2, 0.3], [0.6, 0.7], [0.6, 0.7], [0.6, 0.7], [0.2, 0.3], [0.5, 0.6], [0.6, 0.7], [0.6, 0.7], [0.2, 0.3], [0.5, 0.6], [0.6, 0.7], [0.6, 0.7], [0.6, 0.7], [0.6, 0.7], [0.6, 0.7], [0.2, 0.3], [0.6, 0.7], [0.6, 0.7], [0.2, 0.3], [0.6, 0.7], [0.5, 0.6], [0.6, 0.7], [0.6, 0.7], [0.5, 0.6], [0.6, 0.7], [0.6, 0.7], [0.5, 0.6], [0.2, 0.3], [0.6, 0.7], [0.6, 0.7], [0.6, 0.7], [0.6, 0.7], [0.6, 0.7], [0.6, 0.7], [0.6, 0.7], [0.6, 0.7], [0.6, 0.7], [0.6, 0.7]]\n",
    "LLaVA_answer = [[0.3, 0.4], [0.3, 0.4], [0.3, 0.4], [0.3, 0.4], [0.3, 0.4], [0.3, 0.4], [0.3, 0.4], [0.3, 0.4], [0.3, 0.4], [0.3, 0.4], [0.3, 0.4], [0.3, 0.4], [0.3, 0.4], [0.3, 0.4], [0.3, 0.4], [0.3, 0.4], [0.3, 0.4], [0.3, 0.4], [0.3, 0.4], [0.3, 0.4], [0.3, 0.4], [0.3, 0.4], [0.3, 0.4], [0.3, 0.4], [0.3, 0.4], [0.3, 0.4], [0.3, 0.4], [0.3, 0.4], [0.3, 0.4], [0.3, 0.4], [0.3, 0.4], [0.3, 0.4], [0.3, 0.4], [0.3, 0.4], [0.3, 0.4], [0.3, 0.4], [0.3, 0.4], [0.3, 0.4], [0.3, 0.4], [0.3, 0.4], [0.3, 0.4], [0.3, 0.4], [0.3, 0.4], [0.3, 0.4], [0.3, 0.4], [0.3, 0.4], [0.3, 0.4], [0.3, 0.4], [0.3, 0.4], [0.3, 0.4], [0.3, 0.4], [0.3, 0.4], [0.3, 0.4], [0.3, 0.4], [0.3, 0.4]]\n",
    "CustomLLaVA_answer = [[0.5454545454545454], [0.375], [0.39473684210526316], [0.6842105263157895], [0.391304347826087], [0.8125], [0.32608695652173914], [0.39285714285714285], [0.39473684210526316], [0.8125], [0.391304347826087], [0.375], [0.375], [0.391304347826087], [0.3157894736842105], [0.6842105263157895], [0.3157894736842105], [0.5555555555555556], [0.5625], [0.375], [0.8125], [0.3125], [0.2608695652173913], [0.39285714285714285], [0.2608695652173913], [0.32608695652173914], [0.5789473684210527], [0.3125], [0.8125], [0.5454545454545454], [0.5789473684210527], [0.39473684210526316], [0.391304347826087], [0.5769230769230769], [0.39473684210526316], [0.3125], [0.8333333333333334], [0.6842105263157895], [0.8125], [0.5454545454545454], [0.8461538461538461], [0.3157894736842105], [0.375], [0.375], [0.5652173913043478], [0.3157894736842105], [0.8125], [0.39473684210526316], [0.375], [0.46153846153846156], [0.5769230769230769], [0.5454545454545454], [0.46153846153846156], [0.8125], [0.375]]"
   ]
  },
  {
   "cell_type": "code",
   "execution_count": 2,
   "id": "ed914936-7d51-4786-8b5c-64bd853da761",
   "metadata": {},
   "outputs": [],
   "source": [
    "ChatGPT_midpoints = [(sum(sublist) / 2) if len(sublist) > 1 else sublist[0] for sublist in ChatGPT_answer]\n",
    "LLaVA_midpoints = [(sum(sublist) / 2) if len(sublist) > 1 else sublist[0] for sublist in LLaVA_answer]\n",
    "CustomLLaVA_midpoints = [(sum(sublist) / 2) if len(sublist) > 1 else sublist[0] for sublist in CustomLLaVA_answer]"
   ]
  },
  {
   "cell_type": "code",
   "execution_count": 3,
   "id": "eee2d2d4-563d-4046-91ba-c415eafba8a5",
   "metadata": {},
   "outputs": [],
   "source": [
    "import numpy as np\n",
    "from sklearn.metrics import mean_squared_error\n",
    "from sklearn.metrics import mean_absolute_error\n",
    "\n",
    "# Calculate mean squared error (MSE)\n",
    "def calculate_mse(gt, answers):\n",
    "    gt_array = np.array(gt)\n",
    "    answers_array = np.array(answers)\n",
    "\n",
    "    return mean_squared_error(gt_array,answers_array)\n",
    "\n",
    "\n",
    "# Calculate midmean logistic absoulte error (MALE)\n",
    "def calculate_mlae(gt, answers):\n",
    "    gt_array = np.array(gt)\n",
    "    answers_array = np.array(answers)\n",
    "\n",
    "    mlae = np.log2(mean_absolute_error(gt_array*100, answers_array*100) + .125)\n",
    "    return mlae\n",
    "\n",
    "# Calculate mean\n",
    "def calculate_mean(answers):\n",
    "    return np.mean(answers)\n",
    "\n",
    "# Calculate std\n",
    "def calculate_std(answers):\n",
    "    return np.std(answers)"
   ]
  },
  {
   "cell_type": "code",
   "execution_count": 4,
   "id": "0ab2a211-21c7-4fc4-9e4b-a88bbc7ac3ab",
   "metadata": {},
   "outputs": [
    {
     "name": "stdout",
     "output_type": "stream",
     "text": [
      "ChatGPT mse:  0.04548255904110371\n",
      "ChatGPT mlae:    4.188487359277188\n",
      "ChatGPT mean: 0.5663636363636362\n",
      "ChatGPT_std: 0.15697554686654092\n",
      "LLaVA mse:    0.06119197446099347\n",
      "LLaVA mlae:   4.3240360909165325\n",
      "LLaVA mean:   0.3500000000000002\n",
      "LLaVA std:   2.220446049250313e-16\n",
      "CLLaVA mse:   0.07252585546262408\n",
      "CLLaVA mlae:  4.45003934228609\n",
      "CLLaVA mean:  0.494885718666143\n",
      "CLLaVA std:  0.17726912828515876\n"
     ]
    }
   ],
   "source": [
    "ChatGPT_mse = calculate_mse(GT, ChatGPT_midpoints)\n",
    "ChatGPT_mlae = calculate_mlae(GT, ChatGPT_midpoints)\n",
    "ChatGPT_mean = calculate_mean(ChatGPT_midpoints)\n",
    "ChatGPT_std = calculate_std(ChatGPT_midpoints)\n",
    "llava_mse = calculate_mse(GT, LLaVA_midpoints)\n",
    "llava_mlae = calculate_mlae(GT, LLaVA_midpoints)\n",
    "llava_mean = calculate_mean(LLaVA_midpoints)\n",
    "llava_std = calculate_std(LLaVA_midpoints)\n",
    "custom_llava_mse = calculate_mse(GT, CustomLLaVA_midpoints)\n",
    "custom_llava_mlae = calculate_mlae(GT, CustomLLaVA_midpoints)\n",
    "custom_llava_mean = calculate_mean(CustomLLaVA_midpoints)\n",
    "custom_llava_std = calculate_std(CustomLLaVA_midpoints)\n",
    "\n",
    "print(\"ChatGPT mse: \", ChatGPT_mse)\n",
    "print(\"ChatGPT mlae:   \", ChatGPT_mlae)\n",
    "print(\"ChatGPT mean:\", ChatGPT_mean)\n",
    "print(\"ChatGPT_std:\", ChatGPT_std)\n",
    "print(\"LLaVA mse:   \", llava_mse)\n",
    "print(\"LLaVA mlae:  \", llava_mlae)\n",
    "print(\"LLaVA mean:  \", llava_mean)\n",
    "print(\"LLaVA std:  \", llava_std)\n",
    "print(\"CLLaVA mse:  \", custom_llava_mse)\n",
    "print(\"CLLaVA mlae: \", custom_llava_mlae)\n",
    "print(\"CLLaVA mean: \", custom_llava_mean)\n",
    "print(\"CLLaVA std: \", custom_llava_std)\n",
    "\n",
    "\n"
   ]
  },
  {
   "cell_type": "code",
   "execution_count": null,
   "id": "59e1f8a6-2a5e-4a78-b96f-6aaa75a81375",
   "metadata": {},
   "outputs": [],
   "source": []
  }
 ],
 "metadata": {
  "kernelspec": {
   "display_name": "Python 3 (ipykernel)",
   "language": "python",
   "name": "python3"
  },
  "language_info": {
   "codemirror_mode": {
    "name": "ipython",
    "version": 3
   },
   "file_extension": ".py",
   "mimetype": "text/x-python",
   "name": "python",
   "nbconvert_exporter": "python",
   "pygments_lexer": "ipython3",
   "version": "3.11.7"
  }
 },
 "nbformat": 4,
 "nbformat_minor": 5
}
