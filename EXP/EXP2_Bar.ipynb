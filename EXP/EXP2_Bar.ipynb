{
 "cells": [
  {
   "cell_type": "code",
   "execution_count": 1,
   "id": "a8e52717-31c2-4ed2-ac1e-897a56a840a5",
   "metadata": {},
   "outputs": [
    {
     "name": "stdout",
     "output_type": "stream",
     "text": [
      "[2024-04-26 06:58:26,270] [INFO] [real_accelerator.py:191:get_accelerator] Setting ds_accelerator to cuda (auto detect)\n"
     ]
    },
    {
     "name": "stderr",
     "output_type": "stream",
     "text": [
      "You are using a model of type llava to instantiate a model of type llava_llama. This is not supported for all configurations of models and can yield errors.\n"
     ]
    },
    {
     "data": {
      "application/vnd.jupyter.widget-view+json": {
       "model_id": "045afb30c754419981114f03ce419759",
       "version_major": 2,
       "version_minor": 0
      },
      "text/plain": [
       "Loading checkpoint shards:   0%|          | 0/2 [00:00<?, ?it/s]"
      ]
     },
     "metadata": {},
     "output_type": "display_data"
    },
    {
     "name": "stderr",
     "output_type": "stream",
     "text": [
      "/home/kenichi.maeda001/anaconda3/envs/LLMP/lib/python3.11/site-packages/transformers/generation/configuration_utils.py:389: UserWarning: `do_sample` is set to `False`. However, `temperature` is set to `0` -- this flag is only used in sample-based generation modes. You should set `do_sample=True` or unset `temperature`.\n",
      "  warnings.warn(\n",
      "/home/kenichi.maeda001/anaconda3/envs/LLMP/lib/python3.11/site-packages/transformers/generation/configuration_utils.py:394: UserWarning: `do_sample` is set to `False`. However, `top_p` is set to `None` -- this flag is only used in sample-based generation modes. You should set `do_sample=True` or unset `top_p`.\n",
      "  warnings.warn(\n",
      "You are using a model of type llava to instantiate a model of type llava_llama. This is not supported for all configurations of models and can yield errors.\n"
     ]
    },
    {
     "data": {
      "application/vnd.jupyter.widget-view+json": {
       "model_id": "e36862012f2c43aa94f7a63519c4bc1d",
       "version_major": 2,
       "version_minor": 0
      },
      "text/plain": [
       "Loading checkpoint shards:   0%|          | 0/2 [00:00<?, ?it/s]"
      ]
     },
     "metadata": {},
     "output_type": "display_data"
    },
    {
     "name": "stderr",
     "output_type": "stream",
     "text": [
      "You are using a model of type llava to instantiate a model of type llava_llama. This is not supported for all configurations of models and can yield errors.\n"
     ]
    },
    {
     "data": {
      "application/vnd.jupyter.widget-view+json": {
       "model_id": "83123302ac574e28bbdeb16cc94eacf3",
       "version_major": 2,
       "version_minor": 0
      },
      "text/plain": [
       "Loading checkpoint shards:   0%|          | 0/2 [00:00<?, ?it/s]"
      ]
     },
     "metadata": {},
     "output_type": "display_data"
    },
    {
     "name": "stderr",
     "output_type": "stream",
     "text": [
      "You are using a model of type llava to instantiate a model of type llava_llama. This is not supported for all configurations of models and can yield errors.\n"
     ]
    },
    {
     "data": {
      "application/vnd.jupyter.widget-view+json": {
       "model_id": "951bafc3d93f4218909a4ac2717727c2",
       "version_major": 2,
       "version_minor": 0
      },
      "text/plain": [
       "Loading checkpoint shards:   0%|          | 0/2 [00:00<?, ?it/s]"
      ]
     },
     "metadata": {},
     "output_type": "display_data"
    },
    {
     "name": "stderr",
     "output_type": "stream",
     "text": [
      "You are using a model of type llava to instantiate a model of type llava_llama. This is not supported for all configurations of models and can yield errors.\n"
     ]
    },
    {
     "data": {
      "application/vnd.jupyter.widget-view+json": {
       "model_id": "40dfe041cfa64771af70f4190d5b5e8c",
       "version_major": 2,
       "version_minor": 0
      },
      "text/plain": [
       "Loading checkpoint shards:   0%|          | 0/2 [00:00<?, ?it/s]"
      ]
     },
     "metadata": {},
     "output_type": "display_data"
    },
    {
     "name": "stderr",
     "output_type": "stream",
     "text": [
      "You are using a model of type llava to instantiate a model of type llava_llama. This is not supported for all configurations of models and can yield errors.\n"
     ]
    },
    {
     "data": {
      "application/vnd.jupyter.widget-view+json": {
       "model_id": "af8add05bf1b4676a86e55429877ce1e",
       "version_major": 2,
       "version_minor": 0
      },
      "text/plain": [
       "Loading checkpoint shards:   0%|          | 0/2 [00:00<?, ?it/s]"
      ]
     },
     "metadata": {},
     "output_type": "display_data"
    },
    {
     "name": "stderr",
     "output_type": "stream",
     "text": [
      "You are using a model of type llava to instantiate a model of type llava_llama. This is not supported for all configurations of models and can yield errors.\n"
     ]
    },
    {
     "data": {
      "application/vnd.jupyter.widget-view+json": {
       "model_id": "833e30e90a1647cfbcbba0e0284896fc",
       "version_major": 2,
       "version_minor": 0
      },
      "text/plain": [
       "Loading checkpoint shards:   0%|          | 0/2 [00:00<?, ?it/s]"
      ]
     },
     "metadata": {},
     "output_type": "display_data"
    },
    {
     "name": "stderr",
     "output_type": "stream",
     "text": [
      "You are using a model of type llava to instantiate a model of type llava_llama. This is not supported for all configurations of models and can yield errors.\n"
     ]
    },
    {
     "data": {
      "application/vnd.jupyter.widget-view+json": {
       "model_id": "acb0a4cc1f244d59a242a4658136aa46",
       "version_major": 2,
       "version_minor": 0
      },
      "text/plain": [
       "Loading checkpoint shards:   0%|          | 0/2 [00:00<?, ?it/s]"
      ]
     },
     "metadata": {},
     "output_type": "display_data"
    },
    {
     "name": "stderr",
     "output_type": "stream",
     "text": [
      "You are using a model of type llava to instantiate a model of type llava_llama. This is not supported for all configurations of models and can yield errors.\n"
     ]
    },
    {
     "data": {
      "application/vnd.jupyter.widget-view+json": {
       "model_id": "7a025d8c29664944a13a5f8a1eeff11b",
       "version_major": 2,
       "version_minor": 0
      },
      "text/plain": [
       "Loading checkpoint shards:   0%|          | 0/2 [00:00<?, ?it/s]"
      ]
     },
     "metadata": {},
     "output_type": "display_data"
    },
    {
     "name": "stderr",
     "output_type": "stream",
     "text": [
      "You are using a model of type llava to instantiate a model of type llava_llama. This is not supported for all configurations of models and can yield errors.\n"
     ]
    },
    {
     "data": {
      "application/vnd.jupyter.widget-view+json": {
       "model_id": "93ca1b2a6b75480cba7c48b10db423a6",
       "version_major": 2,
       "version_minor": 0
      },
      "text/plain": [
       "Loading checkpoint shards:   0%|          | 0/2 [00:00<?, ?it/s]"
      ]
     },
     "metadata": {},
     "output_type": "display_data"
    },
    {
     "name": "stderr",
     "output_type": "stream",
     "text": [
      "You are using a model of type llava to instantiate a model of type llava_llama. This is not supported for all configurations of models and can yield errors.\n"
     ]
    },
    {
     "data": {
      "application/vnd.jupyter.widget-view+json": {
       "model_id": "5ee5a9fc5bbf4fe4892c3104f065e6c7",
       "version_major": 2,
       "version_minor": 0
      },
      "text/plain": [
       "Loading checkpoint shards:   0%|          | 0/2 [00:00<?, ?it/s]"
      ]
     },
     "metadata": {},
     "output_type": "display_data"
    },
    {
     "name": "stderr",
     "output_type": "stream",
     "text": [
      "You are using a model of type llava to instantiate a model of type llava_llama. This is not supported for all configurations of models and can yield errors.\n"
     ]
    },
    {
     "data": {
      "application/vnd.jupyter.widget-view+json": {
       "model_id": "4b22f7acf0364b52a9e8630fe1ec1562",
       "version_major": 2,
       "version_minor": 0
      },
      "text/plain": [
       "Loading checkpoint shards:   0%|          | 0/2 [00:00<?, ?it/s]"
      ]
     },
     "metadata": {},
     "output_type": "display_data"
    },
    {
     "name": "stderr",
     "output_type": "stream",
     "text": [
      "You are using a model of type llava to instantiate a model of type llava_llama. This is not supported for all configurations of models and can yield errors.\n"
     ]
    },
    {
     "data": {
      "application/vnd.jupyter.widget-view+json": {
       "model_id": "735348713edc4cd28df42d5d76e791cf",
       "version_major": 2,
       "version_minor": 0
      },
      "text/plain": [
       "Loading checkpoint shards:   0%|          | 0/2 [00:00<?, ?it/s]"
      ]
     },
     "metadata": {},
     "output_type": "display_data"
    },
    {
     "name": "stderr",
     "output_type": "stream",
     "text": [
      "You are using a model of type llava to instantiate a model of type llava_llama. This is not supported for all configurations of models and can yield errors.\n"
     ]
    },
    {
     "data": {
      "application/vnd.jupyter.widget-view+json": {
       "model_id": "73e3fdc54c8a416180c6582736fed228",
       "version_major": 2,
       "version_minor": 0
      },
      "text/plain": [
       "Loading checkpoint shards:   0%|          | 0/2 [00:00<?, ?it/s]"
      ]
     },
     "metadata": {},
     "output_type": "display_data"
    },
    {
     "name": "stderr",
     "output_type": "stream",
     "text": [
      "You are using a model of type llava to instantiate a model of type llava_llama. This is not supported for all configurations of models and can yield errors.\n"
     ]
    },
    {
     "data": {
      "application/vnd.jupyter.widget-view+json": {
       "model_id": "88c83703a48d40b49c4d330cd3fddbb5",
       "version_major": 2,
       "version_minor": 0
      },
      "text/plain": [
       "Loading checkpoint shards:   0%|          | 0/2 [00:00<?, ?it/s]"
      ]
     },
     "metadata": {},
     "output_type": "display_data"
    },
    {
     "name": "stderr",
     "output_type": "stream",
     "text": [
      "You are using a model of type llava to instantiate a model of type llava_llama. This is not supported for all configurations of models and can yield errors.\n"
     ]
    },
    {
     "data": {
      "application/vnd.jupyter.widget-view+json": {
       "model_id": "4bbe2f67d4ab44debee38754f5f487ea",
       "version_major": 2,
       "version_minor": 0
      },
      "text/plain": [
       "Loading checkpoint shards:   0%|          | 0/2 [00:00<?, ?it/s]"
      ]
     },
     "metadata": {},
     "output_type": "display_data"
    },
    {
     "name": "stderr",
     "output_type": "stream",
     "text": [
      "You are using a model of type llava to instantiate a model of type llava_llama. This is not supported for all configurations of models and can yield errors.\n"
     ]
    },
    {
     "data": {
      "application/vnd.jupyter.widget-view+json": {
       "model_id": "c79b25e5e9ed46c7b98548e2491209c0",
       "version_major": 2,
       "version_minor": 0
      },
      "text/plain": [
       "Loading checkpoint shards:   0%|          | 0/2 [00:00<?, ?it/s]"
      ]
     },
     "metadata": {},
     "output_type": "display_data"
    },
    {
     "name": "stderr",
     "output_type": "stream",
     "text": [
      "You are using a model of type llava to instantiate a model of type llava_llama. This is not supported for all configurations of models and can yield errors.\n"
     ]
    },
    {
     "data": {
      "application/vnd.jupyter.widget-view+json": {
       "model_id": "867f605ce2414973850b4d1fc499a552",
       "version_major": 2,
       "version_minor": 0
      },
      "text/plain": [
       "Loading checkpoint shards:   0%|          | 0/2 [00:00<?, ?it/s]"
      ]
     },
     "metadata": {},
     "output_type": "display_data"
    },
    {
     "name": "stderr",
     "output_type": "stream",
     "text": [
      "You are using a model of type llava to instantiate a model of type llava_llama. This is not supported for all configurations of models and can yield errors.\n"
     ]
    },
    {
     "data": {
      "application/vnd.jupyter.widget-view+json": {
       "model_id": "ebef97f9de7a42b88a2bc5b89d046598",
       "version_major": 2,
       "version_minor": 0
      },
      "text/plain": [
       "Loading checkpoint shards:   0%|          | 0/2 [00:00<?, ?it/s]"
      ]
     },
     "metadata": {},
     "output_type": "display_data"
    },
    {
     "name": "stderr",
     "output_type": "stream",
     "text": [
      "You are using a model of type llava to instantiate a model of type llava_llama. This is not supported for all configurations of models and can yield errors.\n"
     ]
    },
    {
     "data": {
      "application/vnd.jupyter.widget-view+json": {
       "model_id": "c23289ef2d444f5aaa776d6a7483f3a3",
       "version_major": 2,
       "version_minor": 0
      },
      "text/plain": [
       "Loading checkpoint shards:   0%|          | 0/2 [00:00<?, ?it/s]"
      ]
     },
     "metadata": {},
     "output_type": "display_data"
    },
    {
     "name": "stderr",
     "output_type": "stream",
     "text": [
      "You are using a model of type llava to instantiate a model of type llava_llama. This is not supported for all configurations of models and can yield errors.\n"
     ]
    },
    {
     "data": {
      "application/vnd.jupyter.widget-view+json": {
       "model_id": "7c238e6c1d4740c68041fbed86816f85",
       "version_major": 2,
       "version_minor": 0
      },
      "text/plain": [
       "Loading checkpoint shards:   0%|          | 0/2 [00:00<?, ?it/s]"
      ]
     },
     "metadata": {},
     "output_type": "display_data"
    },
    {
     "name": "stderr",
     "output_type": "stream",
     "text": [
      "You are using a model of type llava to instantiate a model of type llava_llama. This is not supported for all configurations of models and can yield errors.\n"
     ]
    },
    {
     "data": {
      "application/vnd.jupyter.widget-view+json": {
       "model_id": "e61727bd5d56412188cf50601f57a5f7",
       "version_major": 2,
       "version_minor": 0
      },
      "text/plain": [
       "Loading checkpoint shards:   0%|          | 0/2 [00:00<?, ?it/s]"
      ]
     },
     "metadata": {},
     "output_type": "display_data"
    },
    {
     "name": "stderr",
     "output_type": "stream",
     "text": [
      "You are using a model of type llava to instantiate a model of type llava_llama. This is not supported for all configurations of models and can yield errors.\n"
     ]
    },
    {
     "data": {
      "application/vnd.jupyter.widget-view+json": {
       "model_id": "d93d736d77024493a69ba3d43e0d82bf",
       "version_major": 2,
       "version_minor": 0
      },
      "text/plain": [
       "Loading checkpoint shards:   0%|          | 0/2 [00:00<?, ?it/s]"
      ]
     },
     "metadata": {},
     "output_type": "display_data"
    },
    {
     "name": "stderr",
     "output_type": "stream",
     "text": [
      "You are using a model of type llava to instantiate a model of type llava_llama. This is not supported for all configurations of models and can yield errors.\n"
     ]
    },
    {
     "data": {
      "application/vnd.jupyter.widget-view+json": {
       "model_id": "b97d53f28abc422fa4d5cb5a4d949c6e",
       "version_major": 2,
       "version_minor": 0
      },
      "text/plain": [
       "Loading checkpoint shards:   0%|          | 0/2 [00:00<?, ?it/s]"
      ]
     },
     "metadata": {},
     "output_type": "display_data"
    },
    {
     "name": "stderr",
     "output_type": "stream",
     "text": [
      "You are using a model of type llava to instantiate a model of type llava_llama. This is not supported for all configurations of models and can yield errors.\n"
     ]
    },
    {
     "data": {
      "application/vnd.jupyter.widget-view+json": {
       "model_id": "a51b8e6e1c96441ea2a30ca18970377b",
       "version_major": 2,
       "version_minor": 0
      },
      "text/plain": [
       "Loading checkpoint shards:   0%|          | 0/2 [00:00<?, ?it/s]"
      ]
     },
     "metadata": {},
     "output_type": "display_data"
    },
    {
     "name": "stderr",
     "output_type": "stream",
     "text": [
      "You are using a model of type llava to instantiate a model of type llava_llama. This is not supported for all configurations of models and can yield errors.\n"
     ]
    },
    {
     "data": {
      "application/vnd.jupyter.widget-view+json": {
       "model_id": "7fb1f36318b14fb48f6cde191cfa456b",
       "version_major": 2,
       "version_minor": 0
      },
      "text/plain": [
       "Loading checkpoint shards:   0%|          | 0/2 [00:00<?, ?it/s]"
      ]
     },
     "metadata": {},
     "output_type": "display_data"
    },
    {
     "name": "stderr",
     "output_type": "stream",
     "text": [
      "You are using a model of type llava to instantiate a model of type llava_llama. This is not supported for all configurations of models and can yield errors.\n"
     ]
    },
    {
     "data": {
      "application/vnd.jupyter.widget-view+json": {
       "model_id": "592794dd753d458fa2b473cdd3c69df8",
       "version_major": 2,
       "version_minor": 0
      },
      "text/plain": [
       "Loading checkpoint shards:   0%|          | 0/2 [00:00<?, ?it/s]"
      ]
     },
     "metadata": {},
     "output_type": "display_data"
    },
    {
     "name": "stderr",
     "output_type": "stream",
     "text": [
      "You are using a model of type llava to instantiate a model of type llava_llama. This is not supported for all configurations of models and can yield errors.\n"
     ]
    },
    {
     "data": {
      "application/vnd.jupyter.widget-view+json": {
       "model_id": "63782578cae64a738943ed62eee4a3d2",
       "version_major": 2,
       "version_minor": 0
      },
      "text/plain": [
       "Loading checkpoint shards:   0%|          | 0/2 [00:00<?, ?it/s]"
      ]
     },
     "metadata": {},
     "output_type": "display_data"
    },
    {
     "name": "stderr",
     "output_type": "stream",
     "text": [
      "You are using a model of type llava to instantiate a model of type llava_llama. This is not supported for all configurations of models and can yield errors.\n"
     ]
    },
    {
     "data": {
      "application/vnd.jupyter.widget-view+json": {
       "model_id": "e8188d73eabc4d3f98ec778f3fd6774e",
       "version_major": 2,
       "version_minor": 0
      },
      "text/plain": [
       "Loading checkpoint shards:   0%|          | 0/2 [00:00<?, ?it/s]"
      ]
     },
     "metadata": {},
     "output_type": "display_data"
    },
    {
     "name": "stderr",
     "output_type": "stream",
     "text": [
      "You are using a model of type llava to instantiate a model of type llava_llama. This is not supported for all configurations of models and can yield errors.\n"
     ]
    },
    {
     "data": {
      "application/vnd.jupyter.widget-view+json": {
       "model_id": "ba9de8f99670473caf38e6a47f057710",
       "version_major": 2,
       "version_minor": 0
      },
      "text/plain": [
       "Loading checkpoint shards:   0%|          | 0/2 [00:00<?, ?it/s]"
      ]
     },
     "metadata": {},
     "output_type": "display_data"
    },
    {
     "name": "stderr",
     "output_type": "stream",
     "text": [
      "You are using a model of type llava to instantiate a model of type llava_llama. This is not supported for all configurations of models and can yield errors.\n"
     ]
    },
    {
     "data": {
      "application/vnd.jupyter.widget-view+json": {
       "model_id": "e869824fa87b456dafbf9885ad4bfe56",
       "version_major": 2,
       "version_minor": 0
      },
      "text/plain": [
       "Loading checkpoint shards:   0%|          | 0/2 [00:00<?, ?it/s]"
      ]
     },
     "metadata": {},
     "output_type": "display_data"
    },
    {
     "name": "stderr",
     "output_type": "stream",
     "text": [
      "You are using a model of type llava to instantiate a model of type llava_llama. This is not supported for all configurations of models and can yield errors.\n"
     ]
    },
    {
     "data": {
      "application/vnd.jupyter.widget-view+json": {
       "model_id": "c884255c411f4a6b98e116c191bfeaff",
       "version_major": 2,
       "version_minor": 0
      },
      "text/plain": [
       "Loading checkpoint shards:   0%|          | 0/2 [00:00<?, ?it/s]"
      ]
     },
     "metadata": {},
     "output_type": "display_data"
    },
    {
     "name": "stderr",
     "output_type": "stream",
     "text": [
      "You are using a model of type llava to instantiate a model of type llava_llama. This is not supported for all configurations of models and can yield errors.\n"
     ]
    },
    {
     "data": {
      "application/vnd.jupyter.widget-view+json": {
       "model_id": "7308ca38c32c48aa9386009769ba52e1",
       "version_major": 2,
       "version_minor": 0
      },
      "text/plain": [
       "Loading checkpoint shards:   0%|          | 0/2 [00:00<?, ?it/s]"
      ]
     },
     "metadata": {},
     "output_type": "display_data"
    },
    {
     "name": "stderr",
     "output_type": "stream",
     "text": [
      "You are using a model of type llava to instantiate a model of type llava_llama. This is not supported for all configurations of models and can yield errors.\n"
     ]
    },
    {
     "data": {
      "application/vnd.jupyter.widget-view+json": {
       "model_id": "165b2b9ffc54404e9112729b6874379b",
       "version_major": 2,
       "version_minor": 0
      },
      "text/plain": [
       "Loading checkpoint shards:   0%|          | 0/2 [00:00<?, ?it/s]"
      ]
     },
     "metadata": {},
     "output_type": "display_data"
    },
    {
     "name": "stderr",
     "output_type": "stream",
     "text": [
      "You are using a model of type llava to instantiate a model of type llava_llama. This is not supported for all configurations of models and can yield errors.\n"
     ]
    },
    {
     "data": {
      "application/vnd.jupyter.widget-view+json": {
       "model_id": "dfbf5a6f00c14e589b615b1ee5413b6e",
       "version_major": 2,
       "version_minor": 0
      },
      "text/plain": [
       "Loading checkpoint shards:   0%|          | 0/2 [00:00<?, ?it/s]"
      ]
     },
     "metadata": {},
     "output_type": "display_data"
    },
    {
     "name": "stderr",
     "output_type": "stream",
     "text": [
      "You are using a model of type llava to instantiate a model of type llava_llama. This is not supported for all configurations of models and can yield errors.\n"
     ]
    },
    {
     "data": {
      "application/vnd.jupyter.widget-view+json": {
       "model_id": "a7ed55bc0fe946acad11dc77f7bfc632",
       "version_major": 2,
       "version_minor": 0
      },
      "text/plain": [
       "Loading checkpoint shards:   0%|          | 0/2 [00:00<?, ?it/s]"
      ]
     },
     "metadata": {},
     "output_type": "display_data"
    },
    {
     "name": "stderr",
     "output_type": "stream",
     "text": [
      "You are using a model of type llava to instantiate a model of type llava_llama. This is not supported for all configurations of models and can yield errors.\n"
     ]
    },
    {
     "data": {
      "application/vnd.jupyter.widget-view+json": {
       "model_id": "b639aa9d1aa74bb8bf638e990ca22978",
       "version_major": 2,
       "version_minor": 0
      },
      "text/plain": [
       "Loading checkpoint shards:   0%|          | 0/2 [00:00<?, ?it/s]"
      ]
     },
     "metadata": {},
     "output_type": "display_data"
    },
    {
     "name": "stderr",
     "output_type": "stream",
     "text": [
      "You are using a model of type llava to instantiate a model of type llava_llama. This is not supported for all configurations of models and can yield errors.\n"
     ]
    },
    {
     "data": {
      "application/vnd.jupyter.widget-view+json": {
       "model_id": "c81241f89795434fbcb06efa316d4d87",
       "version_major": 2,
       "version_minor": 0
      },
      "text/plain": [
       "Loading checkpoint shards:   0%|          | 0/2 [00:00<?, ?it/s]"
      ]
     },
     "metadata": {},
     "output_type": "display_data"
    },
    {
     "name": "stderr",
     "output_type": "stream",
     "text": [
      "You are using a model of type llava to instantiate a model of type llava_llama. This is not supported for all configurations of models and can yield errors.\n"
     ]
    },
    {
     "data": {
      "application/vnd.jupyter.widget-view+json": {
       "model_id": "58e8d733b198427793a4239dcae23790",
       "version_major": 2,
       "version_minor": 0
      },
      "text/plain": [
       "Loading checkpoint shards:   0%|          | 0/2 [00:00<?, ?it/s]"
      ]
     },
     "metadata": {},
     "output_type": "display_data"
    },
    {
     "name": "stderr",
     "output_type": "stream",
     "text": [
      "You are using a model of type llava to instantiate a model of type llava_llama. This is not supported for all configurations of models and can yield errors.\n"
     ]
    },
    {
     "data": {
      "application/vnd.jupyter.widget-view+json": {
       "model_id": "97ff0120d6e24a4383a43cac7e9205e0",
       "version_major": 2,
       "version_minor": 0
      },
      "text/plain": [
       "Loading checkpoint shards:   0%|          | 0/2 [00:00<?, ?it/s]"
      ]
     },
     "metadata": {},
     "output_type": "display_data"
    },
    {
     "name": "stderr",
     "output_type": "stream",
     "text": [
      "You are using a model of type llava to instantiate a model of type llava_llama. This is not supported for all configurations of models and can yield errors.\n"
     ]
    },
    {
     "data": {
      "application/vnd.jupyter.widget-view+json": {
       "model_id": "26e422de60be4c30947d98cd9cfa9b61",
       "version_major": 2,
       "version_minor": 0
      },
      "text/plain": [
       "Loading checkpoint shards:   0%|          | 0/2 [00:00<?, ?it/s]"
      ]
     },
     "metadata": {},
     "output_type": "display_data"
    },
    {
     "name": "stderr",
     "output_type": "stream",
     "text": [
      "You are using a model of type llava to instantiate a model of type llava_llama. This is not supported for all configurations of models and can yield errors.\n"
     ]
    },
    {
     "data": {
      "application/vnd.jupyter.widget-view+json": {
       "model_id": "5bca9c07ecdc4caba61c7820a782be0f",
       "version_major": 2,
       "version_minor": 0
      },
      "text/plain": [
       "Loading checkpoint shards:   0%|          | 0/2 [00:00<?, ?it/s]"
      ]
     },
     "metadata": {},
     "output_type": "display_data"
    },
    {
     "name": "stderr",
     "output_type": "stream",
     "text": [
      "You are using a model of type llava to instantiate a model of type llava_llama. This is not supported for all configurations of models and can yield errors.\n"
     ]
    },
    {
     "data": {
      "application/vnd.jupyter.widget-view+json": {
       "model_id": "d14f017482b2455cbad7dac3378eecdc",
       "version_major": 2,
       "version_minor": 0
      },
      "text/plain": [
       "Loading checkpoint shards:   0%|          | 0/2 [00:00<?, ?it/s]"
      ]
     },
     "metadata": {},
     "output_type": "display_data"
    },
    {
     "name": "stderr",
     "output_type": "stream",
     "text": [
      "You are using a model of type llava to instantiate a model of type llava_llama. This is not supported for all configurations of models and can yield errors.\n"
     ]
    },
    {
     "data": {
      "application/vnd.jupyter.widget-view+json": {
       "model_id": "604b1de3ef7f441f867d585ce1f0d3ec",
       "version_major": 2,
       "version_minor": 0
      },
      "text/plain": [
       "Loading checkpoint shards:   0%|          | 0/2 [00:00<?, ?it/s]"
      ]
     },
     "metadata": {},
     "output_type": "display_data"
    },
    {
     "name": "stderr",
     "output_type": "stream",
     "text": [
      "You are using a model of type llava to instantiate a model of type llava_llama. This is not supported for all configurations of models and can yield errors.\n"
     ]
    },
    {
     "data": {
      "application/vnd.jupyter.widget-view+json": {
       "model_id": "1cbc39bd477c4c1d945efa2ecc325ae6",
       "version_major": 2,
       "version_minor": 0
      },
      "text/plain": [
       "Loading checkpoint shards:   0%|          | 0/2 [00:00<?, ?it/s]"
      ]
     },
     "metadata": {},
     "output_type": "display_data"
    },
    {
     "name": "stderr",
     "output_type": "stream",
     "text": [
      "You are using a model of type llava to instantiate a model of type llava_llama. This is not supported for all configurations of models and can yield errors.\n"
     ]
    },
    {
     "data": {
      "application/vnd.jupyter.widget-view+json": {
       "model_id": "14fdee1e82b94c3c9f23c9a4c2e802b5",
       "version_major": 2,
       "version_minor": 0
      },
      "text/plain": [
       "Loading checkpoint shards:   0%|          | 0/2 [00:00<?, ?it/s]"
      ]
     },
     "metadata": {},
     "output_type": "display_data"
    },
    {
     "name": "stderr",
     "output_type": "stream",
     "text": [
      "You are using a model of type llava to instantiate a model of type llava_llama. This is not supported for all configurations of models and can yield errors.\n"
     ]
    },
    {
     "data": {
      "application/vnd.jupyter.widget-view+json": {
       "model_id": "a6ae5799091b47b2ad7abfac58eb2bbe",
       "version_major": 2,
       "version_minor": 0
      },
      "text/plain": [
       "Loading checkpoint shards:   0%|          | 0/2 [00:00<?, ?it/s]"
      ]
     },
     "metadata": {},
     "output_type": "display_data"
    },
    {
     "name": "stderr",
     "output_type": "stream",
     "text": [
      "You are using a model of type llava to instantiate a model of type llava_llama. This is not supported for all configurations of models and can yield errors.\n"
     ]
    },
    {
     "data": {
      "application/vnd.jupyter.widget-view+json": {
       "model_id": "47523f5a64d3452fb29ebf4d2d94620f",
       "version_major": 2,
       "version_minor": 0
      },
      "text/plain": [
       "Loading checkpoint shards:   0%|          | 0/2 [00:00<?, ?it/s]"
      ]
     },
     "metadata": {},
     "output_type": "display_data"
    },
    {
     "name": "stderr",
     "output_type": "stream",
     "text": [
      "You are using a model of type llava to instantiate a model of type llava_llama. This is not supported for all configurations of models and can yield errors.\n"
     ]
    },
    {
     "data": {
      "application/vnd.jupyter.widget-view+json": {
       "model_id": "4e6c9f8de23b461dad7e36cb303be581",
       "version_major": 2,
       "version_minor": 0
      },
      "text/plain": [
       "Loading checkpoint shards:   0%|          | 0/2 [00:00<?, ?it/s]"
      ]
     },
     "metadata": {},
     "output_type": "display_data"
    },
    {
     "name": "stderr",
     "output_type": "stream",
     "text": [
      "You are using a model of type llava to instantiate a model of type llava_llama. This is not supported for all configurations of models and can yield errors.\n"
     ]
    },
    {
     "data": {
      "application/vnd.jupyter.widget-view+json": {
       "model_id": "429b2b75e98245e5a9a0ee463e6147e1",
       "version_major": 2,
       "version_minor": 0
      },
      "text/plain": [
       "Loading checkpoint shards:   0%|          | 0/2 [00:00<?, ?it/s]"
      ]
     },
     "metadata": {},
     "output_type": "display_data"
    },
    {
     "name": "stderr",
     "output_type": "stream",
     "text": [
      "You are using a model of type llava to instantiate a model of type llava_llama. This is not supported for all configurations of models and can yield errors.\n"
     ]
    },
    {
     "data": {
      "application/vnd.jupyter.widget-view+json": {
       "model_id": "15a3dd859ad146f9a88fd61dbb9cd4ad",
       "version_major": 2,
       "version_minor": 0
      },
      "text/plain": [
       "Loading checkpoint shards:   0%|          | 0/2 [00:00<?, ?it/s]"
      ]
     },
     "metadata": {},
     "output_type": "display_data"
    },
    {
     "name": "stderr",
     "output_type": "stream",
     "text": [
      "You are using a model of type llava to instantiate a model of type llava_llama. This is not supported for all configurations of models and can yield errors.\n"
     ]
    },
    {
     "data": {
      "application/vnd.jupyter.widget-view+json": {
       "model_id": "ab6f94f9b26d4e83a0da1240ba1d3e16",
       "version_major": 2,
       "version_minor": 0
      },
      "text/plain": [
       "Loading checkpoint shards:   0%|          | 0/2 [00:00<?, ?it/s]"
      ]
     },
     "metadata": {},
     "output_type": "display_data"
    },
    {
     "name": "stderr",
     "output_type": "stream",
     "text": [
      "You are using a model of type llava to instantiate a model of type llava_llama. This is not supported for all configurations of models and can yield errors.\n"
     ]
    },
    {
     "data": {
      "application/vnd.jupyter.widget-view+json": {
       "model_id": "20e8f1dd9c7b48a9a6624adc71fb30df",
       "version_major": 2,
       "version_minor": 0
      },
      "text/plain": [
       "Loading checkpoint shards:   0%|          | 0/2 [00:00<?, ?it/s]"
      ]
     },
     "metadata": {},
     "output_type": "display_data"
    },
    {
     "name": "stderr",
     "output_type": "stream",
     "text": [
      "You are using a model of type llava to instantiate a model of type llava_llama. This is not supported for all configurations of models and can yield errors.\n"
     ]
    },
    {
     "data": {
      "application/vnd.jupyter.widget-view+json": {
       "model_id": "f27a12cc02d54138a3d8dc4f2fed865c",
       "version_major": 2,
       "version_minor": 0
      },
      "text/plain": [
       "Loading checkpoint shards:   0%|          | 0/2 [00:00<?, ?it/s]"
      ]
     },
     "metadata": {},
     "output_type": "display_data"
    },
    {
     "name": "stderr",
     "output_type": "stream",
     "text": [
      "You are using a model of type llava to instantiate a model of type llava_llama. This is not supported for all configurations of models and can yield errors.\n"
     ]
    },
    {
     "data": {
      "application/vnd.jupyter.widget-view+json": {
       "model_id": "6534a48d66bb4e0194eefa1cf6354395",
       "version_major": 2,
       "version_minor": 0
      },
      "text/plain": [
       "Loading checkpoint shards:   0%|          | 0/2 [00:00<?, ?it/s]"
      ]
     },
     "metadata": {},
     "output_type": "display_data"
    },
    {
     "data": {
      "application/vnd.jupyter.widget-view+json": {
       "model_id": "b5bd364b45cc4cdb80419b91b43b0ad4",
       "version_major": 2,
       "version_minor": 0
      },
      "text/plain": [
       "Loading checkpoint shards:   0%|          | 0/2 [00:00<?, ?it/s]"
      ]
     },
     "metadata": {},
     "output_type": "display_data"
    },
    {
     "data": {
      "application/vnd.jupyter.widget-view+json": {
       "model_id": "835d690777324587ae057aa5210390e0",
       "version_major": 2,
       "version_minor": 0
      },
      "text/plain": [
       "Loading checkpoint shards:   0%|          | 0/2 [00:00<?, ?it/s]"
      ]
     },
     "metadata": {},
     "output_type": "display_data"
    },
    {
     "data": {
      "application/vnd.jupyter.widget-view+json": {
       "model_id": "9f6518f5516540debb481c57fcd5233a",
       "version_major": 2,
       "version_minor": 0
      },
      "text/plain": [
       "Loading checkpoint shards:   0%|          | 0/2 [00:00<?, ?it/s]"
      ]
     },
     "metadata": {},
     "output_type": "display_data"
    },
    {
     "data": {
      "application/vnd.jupyter.widget-view+json": {
       "model_id": "dd851a796cdf4bcbb894d07e2de3a098",
       "version_major": 2,
       "version_minor": 0
      },
      "text/plain": [
       "Loading checkpoint shards:   0%|          | 0/2 [00:00<?, ?it/s]"
      ]
     },
     "metadata": {},
     "output_type": "display_data"
    },
    {
     "data": {
      "application/vnd.jupyter.widget-view+json": {
       "model_id": "c57756383c8745a6977411b73c4efedf",
       "version_major": 2,
       "version_minor": 0
      },
      "text/plain": [
       "Loading checkpoint shards:   0%|          | 0/2 [00:00<?, ?it/s]"
      ]
     },
     "metadata": {},
     "output_type": "display_data"
    },
    {
     "data": {
      "application/vnd.jupyter.widget-view+json": {
       "model_id": "f8460de24b7f4fe88930204a1929f0fd",
       "version_major": 2,
       "version_minor": 0
      },
      "text/plain": [
       "Loading checkpoint shards:   0%|          | 0/2 [00:00<?, ?it/s]"
      ]
     },
     "metadata": {},
     "output_type": "display_data"
    },
    {
     "data": {
      "application/vnd.jupyter.widget-view+json": {
       "model_id": "b0bf891c4dfe40a9b63e48b273c2983e",
       "version_major": 2,
       "version_minor": 0
      },
      "text/plain": [
       "Loading checkpoint shards:   0%|          | 0/2 [00:00<?, ?it/s]"
      ]
     },
     "metadata": {},
     "output_type": "display_data"
    },
    {
     "data": {
      "application/vnd.jupyter.widget-view+json": {
       "model_id": "52583787b7264675948bc1c24b3cfd5f",
       "version_major": 2,
       "version_minor": 0
      },
      "text/plain": [
       "Loading checkpoint shards:   0%|          | 0/2 [00:00<?, ?it/s]"
      ]
     },
     "metadata": {},
     "output_type": "display_data"
    },
    {
     "data": {
      "application/vnd.jupyter.widget-view+json": {
       "model_id": "e4e7071261f646639ba170cc5178533c",
       "version_major": 2,
       "version_minor": 0
      },
      "text/plain": [
       "Loading checkpoint shards:   0%|          | 0/2 [00:00<?, ?it/s]"
      ]
     },
     "metadata": {},
     "output_type": "display_data"
    },
    {
     "data": {
      "application/vnd.jupyter.widget-view+json": {
       "model_id": "429033def2554245856d24e270826eff",
       "version_major": 2,
       "version_minor": 0
      },
      "text/plain": [
       "Loading checkpoint shards:   0%|          | 0/2 [00:00<?, ?it/s]"
      ]
     },
     "metadata": {},
     "output_type": "display_data"
    },
    {
     "data": {
      "application/vnd.jupyter.widget-view+json": {
       "model_id": "7dc296fb077a45fc883062ff22aef1ab",
       "version_major": 2,
       "version_minor": 0
      },
      "text/plain": [
       "Loading checkpoint shards:   0%|          | 0/2 [00:00<?, ?it/s]"
      ]
     },
     "metadata": {},
     "output_type": "display_data"
    },
    {
     "data": {
      "application/vnd.jupyter.widget-view+json": {
       "model_id": "cb2f7c34ad534cac8ec130010442aa24",
       "version_major": 2,
       "version_minor": 0
      },
      "text/plain": [
       "Loading checkpoint shards:   0%|          | 0/2 [00:00<?, ?it/s]"
      ]
     },
     "metadata": {},
     "output_type": "display_data"
    },
    {
     "data": {
      "application/vnd.jupyter.widget-view+json": {
       "model_id": "bd10df5bccb4483493c610c2f174e608",
       "version_major": 2,
       "version_minor": 0
      },
      "text/plain": [
       "Loading checkpoint shards:   0%|          | 0/2 [00:00<?, ?it/s]"
      ]
     },
     "metadata": {},
     "output_type": "display_data"
    },
    {
     "data": {
      "application/vnd.jupyter.widget-view+json": {
       "model_id": "220aa3c2f484438580c668f6f5794544",
       "version_major": 2,
       "version_minor": 0
      },
      "text/plain": [
       "Loading checkpoint shards:   0%|          | 0/2 [00:00<?, ?it/s]"
      ]
     },
     "metadata": {},
     "output_type": "display_data"
    },
    {
     "data": {
      "application/vnd.jupyter.widget-view+json": {
       "model_id": "d0f1d9ae223144e7b642ce645fab9900",
       "version_major": 2,
       "version_minor": 0
      },
      "text/plain": [
       "Loading checkpoint shards:   0%|          | 0/2 [00:00<?, ?it/s]"
      ]
     },
     "metadata": {},
     "output_type": "display_data"
    },
    {
     "data": {
      "application/vnd.jupyter.widget-view+json": {
       "model_id": "91019a353f804b03908fb1221d6f4759",
       "version_major": 2,
       "version_minor": 0
      },
      "text/plain": [
       "Loading checkpoint shards:   0%|          | 0/2 [00:00<?, ?it/s]"
      ]
     },
     "metadata": {},
     "output_type": "display_data"
    },
    {
     "data": {
      "application/vnd.jupyter.widget-view+json": {
       "model_id": "829cceea675b4114ab70c2b0127485b7",
       "version_major": 2,
       "version_minor": 0
      },
      "text/plain": [
       "Loading checkpoint shards:   0%|          | 0/2 [00:00<?, ?it/s]"
      ]
     },
     "metadata": {},
     "output_type": "display_data"
    },
    {
     "data": {
      "application/vnd.jupyter.widget-view+json": {
       "model_id": "8f1126d7375a4e2c8fd8c6e4353842e2",
       "version_major": 2,
       "version_minor": 0
      },
      "text/plain": [
       "Loading checkpoint shards:   0%|          | 0/2 [00:00<?, ?it/s]"
      ]
     },
     "metadata": {},
     "output_type": "display_data"
    },
    {
     "data": {
      "application/vnd.jupyter.widget-view+json": {
       "model_id": "00819b97b10d47a8bf41d7dbb250d17e",
       "version_major": 2,
       "version_minor": 0
      },
      "text/plain": [
       "Loading checkpoint shards:   0%|          | 0/2 [00:00<?, ?it/s]"
      ]
     },
     "metadata": {},
     "output_type": "display_data"
    },
    {
     "data": {
      "application/vnd.jupyter.widget-view+json": {
       "model_id": "be559db470394c11b4ff1b8084a981f6",
       "version_major": 2,
       "version_minor": 0
      },
      "text/plain": [
       "Loading checkpoint shards:   0%|          | 0/2 [00:00<?, ?it/s]"
      ]
     },
     "metadata": {},
     "output_type": "display_data"
    },
    {
     "data": {
      "application/vnd.jupyter.widget-view+json": {
       "model_id": "bfe3182994de4f2daadf060e0e0511a2",
       "version_major": 2,
       "version_minor": 0
      },
      "text/plain": [
       "Loading checkpoint shards:   0%|          | 0/2 [00:00<?, ?it/s]"
      ]
     },
     "metadata": {},
     "output_type": "display_data"
    },
    {
     "data": {
      "application/vnd.jupyter.widget-view+json": {
       "model_id": "3b42dd0f61ac4a0aa615f7551bb00dc9",
       "version_major": 2,
       "version_minor": 0
      },
      "text/plain": [
       "Loading checkpoint shards:   0%|          | 0/2 [00:00<?, ?it/s]"
      ]
     },
     "metadata": {},
     "output_type": "display_data"
    },
    {
     "data": {
      "application/vnd.jupyter.widget-view+json": {
       "model_id": "a58c85d55159415eabae97b9c57d594d",
       "version_major": 2,
       "version_minor": 0
      },
      "text/plain": [
       "Loading checkpoint shards:   0%|          | 0/2 [00:00<?, ?it/s]"
      ]
     },
     "metadata": {},
     "output_type": "display_data"
    },
    {
     "data": {
      "application/vnd.jupyter.widget-view+json": {
       "model_id": "0cc7cd2966f04cb2ae16aa0cf9b1d9fb",
       "version_major": 2,
       "version_minor": 0
      },
      "text/plain": [
       "Loading checkpoint shards:   0%|          | 0/2 [00:00<?, ?it/s]"
      ]
     },
     "metadata": {},
     "output_type": "display_data"
    },
    {
     "data": {
      "application/vnd.jupyter.widget-view+json": {
       "model_id": "4b319e49d33f4d7f9466169007cbe2dd",
       "version_major": 2,
       "version_minor": 0
      },
      "text/plain": [
       "Loading checkpoint shards:   0%|          | 0/2 [00:00<?, ?it/s]"
      ]
     },
     "metadata": {},
     "output_type": "display_data"
    },
    {
     "data": {
      "application/vnd.jupyter.widget-view+json": {
       "model_id": "4e5647b5fdc84180b9cee7b852a6b6f1",
       "version_major": 2,
       "version_minor": 0
      },
      "text/plain": [
       "Loading checkpoint shards:   0%|          | 0/2 [00:00<?, ?it/s]"
      ]
     },
     "metadata": {},
     "output_type": "display_data"
    },
    {
     "data": {
      "application/vnd.jupyter.widget-view+json": {
       "model_id": "79fd108fdeb44d5183398ba707911874",
       "version_major": 2,
       "version_minor": 0
      },
      "text/plain": [
       "Loading checkpoint shards:   0%|          | 0/2 [00:00<?, ?it/s]"
      ]
     },
     "metadata": {},
     "output_type": "display_data"
    },
    {
     "data": {
      "application/vnd.jupyter.widget-view+json": {
       "model_id": "ca31c4ab54a349728eaf204aa17afc10",
       "version_major": 2,
       "version_minor": 0
      },
      "text/plain": [
       "Loading checkpoint shards:   0%|          | 0/2 [00:00<?, ?it/s]"
      ]
     },
     "metadata": {},
     "output_type": "display_data"
    },
    {
     "data": {
      "application/vnd.jupyter.widget-view+json": {
       "model_id": "528d1957df65419aad102b00c6f84d55",
       "version_major": 2,
       "version_minor": 0
      },
      "text/plain": [
       "Loading checkpoint shards:   0%|          | 0/2 [00:00<?, ?it/s]"
      ]
     },
     "metadata": {},
     "output_type": "display_data"
    },
    {
     "data": {
      "application/vnd.jupyter.widget-view+json": {
       "model_id": "df572443a12d49ecb466a96c23cb473c",
       "version_major": 2,
       "version_minor": 0
      },
      "text/plain": [
       "Loading checkpoint shards:   0%|          | 0/2 [00:00<?, ?it/s]"
      ]
     },
     "metadata": {},
     "output_type": "display_data"
    },
    {
     "data": {
      "application/vnd.jupyter.widget-view+json": {
       "model_id": "4628e9d8476348fcbade7121538dbdac",
       "version_major": 2,
       "version_minor": 0
      },
      "text/plain": [
       "Loading checkpoint shards:   0%|          | 0/2 [00:00<?, ?it/s]"
      ]
     },
     "metadata": {},
     "output_type": "display_data"
    },
    {
     "data": {
      "application/vnd.jupyter.widget-view+json": {
       "model_id": "cfe66bb5370441ac93b7c6d66eba544b",
       "version_major": 2,
       "version_minor": 0
      },
      "text/plain": [
       "Loading checkpoint shards:   0%|          | 0/2 [00:00<?, ?it/s]"
      ]
     },
     "metadata": {},
     "output_type": "display_data"
    },
    {
     "data": {
      "application/vnd.jupyter.widget-view+json": {
       "model_id": "eadb2fd72e524c2299be49c4a7b4d3d8",
       "version_major": 2,
       "version_minor": 0
      },
      "text/plain": [
       "Loading checkpoint shards:   0%|          | 0/2 [00:00<?, ?it/s]"
      ]
     },
     "metadata": {},
     "output_type": "display_data"
    },
    {
     "data": {
      "application/vnd.jupyter.widget-view+json": {
       "model_id": "9119106561294271bfb9da07f0013c0c",
       "version_major": 2,
       "version_minor": 0
      },
      "text/plain": [
       "Loading checkpoint shards:   0%|          | 0/2 [00:00<?, ?it/s]"
      ]
     },
     "metadata": {},
     "output_type": "display_data"
    },
    {
     "data": {
      "application/vnd.jupyter.widget-view+json": {
       "model_id": "79263e009b79435cb4446a362907891c",
       "version_major": 2,
       "version_minor": 0
      },
      "text/plain": [
       "Loading checkpoint shards:   0%|          | 0/2 [00:00<?, ?it/s]"
      ]
     },
     "metadata": {},
     "output_type": "display_data"
    },
    {
     "data": {
      "application/vnd.jupyter.widget-view+json": {
       "model_id": "820c64bedb244d068c58908b4a606da9",
       "version_major": 2,
       "version_minor": 0
      },
      "text/plain": [
       "Loading checkpoint shards:   0%|          | 0/2 [00:00<?, ?it/s]"
      ]
     },
     "metadata": {},
     "output_type": "display_data"
    },
    {
     "data": {
      "application/vnd.jupyter.widget-view+json": {
       "model_id": "24f20410d62b46c3ac14dd9564bc351c",
       "version_major": 2,
       "version_minor": 0
      },
      "text/plain": [
       "Loading checkpoint shards:   0%|          | 0/2 [00:00<?, ?it/s]"
      ]
     },
     "metadata": {},
     "output_type": "display_data"
    },
    {
     "data": {
      "application/vnd.jupyter.widget-view+json": {
       "model_id": "5262bf093acc455caca3d9701576ce08",
       "version_major": 2,
       "version_minor": 0
      },
      "text/plain": [
       "Loading checkpoint shards:   0%|          | 0/2 [00:00<?, ?it/s]"
      ]
     },
     "metadata": {},
     "output_type": "display_data"
    },
    {
     "data": {
      "application/vnd.jupyter.widget-view+json": {
       "model_id": "9db8756c391b4812b4256ebef22b18a2",
       "version_major": 2,
       "version_minor": 0
      },
      "text/plain": [
       "Loading checkpoint shards:   0%|          | 0/2 [00:00<?, ?it/s]"
      ]
     },
     "metadata": {},
     "output_type": "display_data"
    },
    {
     "data": {
      "application/vnd.jupyter.widget-view+json": {
       "model_id": "9c65e8a49b8c4e4da1848988ab6dd3a6",
       "version_major": 2,
       "version_minor": 0
      },
      "text/plain": [
       "Loading checkpoint shards:   0%|          | 0/2 [00:00<?, ?it/s]"
      ]
     },
     "metadata": {},
     "output_type": "display_data"
    },
    {
     "data": {
      "application/vnd.jupyter.widget-view+json": {
       "model_id": "7c2b7ee6e27141dab84ac7a4c9a9be7d",
       "version_major": 2,
       "version_minor": 0
      },
      "text/plain": [
       "Loading checkpoint shards:   0%|          | 0/2 [00:00<?, ?it/s]"
      ]
     },
     "metadata": {},
     "output_type": "display_data"
    },
    {
     "data": {
      "application/vnd.jupyter.widget-view+json": {
       "model_id": "02ccc5cbebdb48fbbefd2ccd7b2c492b",
       "version_major": 2,
       "version_minor": 0
      },
      "text/plain": [
       "Loading checkpoint shards:   0%|          | 0/2 [00:00<?, ?it/s]"
      ]
     },
     "metadata": {},
     "output_type": "display_data"
    },
    {
     "data": {
      "application/vnd.jupyter.widget-view+json": {
       "model_id": "ac0c9bc153c841b2a006af24eb89c6c8",
       "version_major": 2,
       "version_minor": 0
      },
      "text/plain": [
       "Loading checkpoint shards:   0%|          | 0/2 [00:00<?, ?it/s]"
      ]
     },
     "metadata": {},
     "output_type": "display_data"
    },
    {
     "data": {
      "application/vnd.jupyter.widget-view+json": {
       "model_id": "3a7560e592f147cfab13ebe794bff3b8",
       "version_major": 2,
       "version_minor": 0
      },
      "text/plain": [
       "Loading checkpoint shards:   0%|          | 0/2 [00:00<?, ?it/s]"
      ]
     },
     "metadata": {},
     "output_type": "display_data"
    },
    {
     "data": {
      "application/vnd.jupyter.widget-view+json": {
       "model_id": "de5f2b5e87384b139bc01f20a4dc22a1",
       "version_major": 2,
       "version_minor": 0
      },
      "text/plain": [
       "Loading checkpoint shards:   0%|          | 0/2 [00:00<?, ?it/s]"
      ]
     },
     "metadata": {},
     "output_type": "display_data"
    },
    {
     "data": {
      "application/vnd.jupyter.widget-view+json": {
       "model_id": "b9032bf53f824b3cb45f37e7eab5c5d8",
       "version_major": 2,
       "version_minor": 0
      },
      "text/plain": [
       "Loading checkpoint shards:   0%|          | 0/2 [00:00<?, ?it/s]"
      ]
     },
     "metadata": {},
     "output_type": "display_data"
    },
    {
     "data": {
      "application/vnd.jupyter.widget-view+json": {
       "model_id": "569013b57b6b4f32a8e188cc8527f8f1",
       "version_major": 2,
       "version_minor": 0
      },
      "text/plain": [
       "Loading checkpoint shards:   0%|          | 0/2 [00:00<?, ?it/s]"
      ]
     },
     "metadata": {},
     "output_type": "display_data"
    },
    {
     "data": {
      "application/vnd.jupyter.widget-view+json": {
       "model_id": "a3855cc87fcd4b6280d8b0e21913f6e7",
       "version_major": 2,
       "version_minor": 0
      },
      "text/plain": [
       "Loading checkpoint shards:   0%|          | 0/2 [00:00<?, ?it/s]"
      ]
     },
     "metadata": {},
     "output_type": "display_data"
    },
    {
     "data": {
      "application/vnd.jupyter.widget-view+json": {
       "model_id": "a9bf7499c17242f0852c958236c8b392",
       "version_major": 2,
       "version_minor": 0
      },
      "text/plain": [
       "Loading checkpoint shards:   0%|          | 0/2 [00:00<?, ?it/s]"
      ]
     },
     "metadata": {},
     "output_type": "display_data"
    },
    {
     "data": {
      "application/vnd.jupyter.widget-view+json": {
       "model_id": "e27922722fb1472495d3157f9bf9f6e2",
       "version_major": 2,
       "version_minor": 0
      },
      "text/plain": [
       "Loading checkpoint shards:   0%|          | 0/2 [00:00<?, ?it/s]"
      ]
     },
     "metadata": {},
     "output_type": "display_data"
    },
    {
     "data": {
      "application/vnd.jupyter.widget-view+json": {
       "model_id": "37839b8ee13b4b9fba066acbf90eecdc",
       "version_major": 2,
       "version_minor": 0
      },
      "text/plain": [
       "Loading checkpoint shards:   0%|          | 0/2 [00:00<?, ?it/s]"
      ]
     },
     "metadata": {},
     "output_type": "display_data"
    },
    {
     "data": {
      "application/vnd.jupyter.widget-view+json": {
       "model_id": "4220676894984171a22e7ef5d270db83",
       "version_major": 2,
       "version_minor": 0
      },
      "text/plain": [
       "Loading checkpoint shards:   0%|          | 0/2 [00:00<?, ?it/s]"
      ]
     },
     "metadata": {},
     "output_type": "display_data"
    },
    {
     "data": {
      "application/vnd.jupyter.widget-view+json": {
       "model_id": "8da8b7d0c0b04bfcb0873ca4f19ca963",
       "version_major": 2,
       "version_minor": 0
      },
      "text/plain": [
       "Loading checkpoint shards:   0%|          | 0/2 [00:00<?, ?it/s]"
      ]
     },
     "metadata": {},
     "output_type": "display_data"
    },
    {
     "data": {
      "application/vnd.jupyter.widget-view+json": {
       "model_id": "fac2a34baa4e47d6bb33b45aa1ddbee7",
       "version_major": 2,
       "version_minor": 0
      },
      "text/plain": [
       "Loading checkpoint shards:   0%|          | 0/2 [00:00<?, ?it/s]"
      ]
     },
     "metadata": {},
     "output_type": "display_data"
    },
    {
     "data": {
      "application/vnd.jupyter.widget-view+json": {
       "model_id": "2f9166e714364961b276ea52078b4f51",
       "version_major": 2,
       "version_minor": 0
      },
      "text/plain": [
       "Loading checkpoint shards:   0%|          | 0/2 [00:00<?, ?it/s]"
      ]
     },
     "metadata": {},
     "output_type": "display_data"
    },
    {
     "name": "stdout",
     "output_type": "stream",
     "text": [
      "{'gt': [[1.0, 0.5, 0.18421052, 0.31578946, 0.6315789], [1.0, 0.13513513, 0.4864865, 0.7567568, 0.3243243], [1.0, 0.36363637, 0.54545456, 0.24242425, 0.8787879], [1.0, 0.3939394, 0.8787879, 0.4848485, 0.27272728], [1.0, 0.7714286, 0.25714287, 0.6857143, 0.14285715], [1.0, 0.25714287, 0.8, 0.17142858, 0.62857145], [1.0, 0.4, 0.2857143, 0.6571429, 0.51428574], [1.0, 0.7631579, 0.15789473, 0.39473686, 0.31578946], [1.0, 0.59375, 0.40625, 0.3125, 0.8125], [1.0, 0.89285713, 0.6785714, 0.21428572, 0.78571427], [1.0, 0.8235294, 0.14705883, 0.23529412, 0.7352941], [1.0, 0.13513513, 0.5135135, 0.7567568, 0.2972973], [1.0, 0.53125, 0.71875, 0.625, 0.25], [1.0, 0.6666667, 0.33333334, 0.121212125, 0.90909094], [1.0, 0.31578946, 0.13157895, 0.7631579, 0.42105263], [1.0, 0.5588235, 0.2647059, 0.3529412, 0.7647059], [1.0, 0.8484849, 0.21212122, 0.3030303, 0.6666667], [1.0, 0.3888889, 0.30555555, 0.16666667, 0.9166667], [1.0, 0.6060606, 0.21212122, 0.7878788, 0.42424244], [1.0, 0.2, 0.34285715, 0.85714287, 0.45714286], [1.0, 0.5, 0.7647059, 0.4117647, 0.2647059], [1.0, 0.10526316, 0.5, 0.81578946, 0.21052632], [1.0, 0.8, 0.62857145, 0.31428573, 0.114285715], [1.0, 0.81578946, 0.15789473, 0.23684211, 0.42105263], [1.0, 0.2, 0.51428574, 0.7714286, 0.37142858], [1.0, 0.6388889, 0.5277778, 0.41666666, 0.19444445], [1.0, 0.31428573, 0.22857143, 0.45714286, 0.85714287], [1.0, 0.40625, 0.65625, 0.21875, 0.84375], [1.0, 0.3611111, 0.5555556, 0.6666667, 0.19444445], [1.0, 0.16216215, 0.24324325, 0.43243244, 0.8648649], [1.0, 0.25, 0.8055556, 0.5833333, 0.1388889], [1.0, 0.23684211, 0.92105263, 0.13157895, 0.34210527], [1.0, 0.1388889, 0.2777778, 0.75, 0.6111111], [1.0, 0.5588235, 0.23529412, 0.7058824, 0.44117647], [1.0, 0.5277778, 0.33333334, 0.1388889, 0.7777778], [1.0, 0.8787879, 0.3939394, 0.57575756, 0.18181819], [1.0, 0.13333334, 0.53333336, 0.76666665, 0.9], [1.0, 0.8888889, 0.19444445, 0.3888889, 0.30555555], [1.0, 0.8666667, 0.3, 0.73333335, 0.43333334], [1.0, 0.25, 0.78571427, 0.89285713, 0.64285713], [1.0, 0.10810811, 0.21621622, 0.7297297, 0.6486486], [1.0, 0.62857145, 0.71428573, 0.14285715, 0.37142858], [1.0, 0.7941176, 0.20588236, 0.5882353, 0.3529412], [1.0, 0.102564104, 0.51282054, 0.25641027, 0.6923077], [1.0, 0.42105263, 0.31578946, 0.7368421, 0.15789473], [1.0, 0.37142858, 0.6571429, 0.54285717, 0.2857143], [1.0, 0.1891892, 0.3243243, 0.6486486, 0.5405405], [1.0, 0.20588236, 0.64705884, 0.7647059, 0.32352942], [1.0, 0.72727275, 0.33333334, 0.8484849, 0.121212125], [1.0, 0.6875, 0.875, 0.125, 0.4375], [1.0, 0.42857143, 0.71428573, 0.8214286, 0.60714287], [1.0, 0.7027027, 0.3243243, 0.5405405, 0.13513513], [1.0, 0.71428573, 0.17142858, 0.34285715, 0.62857145], [1.0, 0.5, 0.30555555, 0.7777778, 0.19444445], [1.0, 0.2777778, 0.8888889, 0.4722222, 0.1388889]], 'ChatGPT': {'parameters': None, 'raw_answers': ['1.0, 0.6, 0.2, 0.4, 0.8', '1.0, 0.6, 0.2, 0.4, 0.8', '1.0, 0.6, 0.35, 0.65, 0.8', '1.0, 0.6, 0.35, 0.65, 0.9', 'Given that the longest bar represents the value of 1.0, the ratios from the longest bar going to the right and then continuing from the leftmost bar to the right are as follows:\\n\\n1.0, 0.6, 0.2, 0.4, 0.8', '1.0, 0.6, 0.2, 0.4, 0.8', '1.0, 0.4, 0.6, 0.2, 0.8', '1.0, 0.6, 0.2, 0.4, 0.8', '1.0, 0.2, 0.4, 0.6, 0.8', '1.0, 0.6, 0.4, 0.8, 0.2', '1.0, 0.5, 0.2, 0.3, 0.6', '1.0, 0.6, 0.35, 0.65, 0.5', '1.0, 0.6, 0.4, 0.2, 0.8', '1.0, 0.6, 0.4, 0.8, 0.2', \"Based on the image provided, starting from the longest bar (which is set to 1.0 as per your instructions) and moving right, then continuing from the leftmost bar until reaching the longest bar again, the ratios of the lengths of the bars to the longest bar are approximately:\\n\\n1.0 (longest bar with a dot inside), 0.6, 0.25, 0.4, 0.8.\\n\\nPlease note that these ratios are approximations as precise measurements aren't possible from the image.\", '1.0, 0.2, 0.4, 0.1, 0.3', 'The ratios of the lengths of each bar to the longest bar from the longest bar to the rightmost bar and then continuing from the leftmost bar to the longest bar again are as follows:\\n\\n1.0, 0.7, 0.35, 0.65, 0.5', '1.0, 0.8, 0.6, 0.4, 0.2', 'The ratios of the lengths of each bar to the longest bar, starting with the longest bar and moving right, then continuing from the leftmost bar until reaching the longest bar again, are approximately:\\n\\n1.0, 0.35, 0.6, 0.8, 0.5', 'Based on the image provided, starting with the longest bar, which has a value of 1.0, and moving to the right:\\n\\n1.0, 0.2, 0.6, 0.4, 0.8', \"I'm sorry, but I cannot provide precise measurements or ratios without clear reference points or measurement units. If you're able to provide specific dimensions or a way to measure the bars, I could then attempt to estimate the ratios based on your instructions. Otherwise, it would just be a rough estimate rather than an accurate calculation. However, if we consider the longest bar as having a length of 1.0 (the one with the dot inside), and estimate the ratio of the lengths of remaining bars visually, the ratios from the longest bar to the right and then continuing from the leftmost bar to the longest bar would likely be approximately as follows:\\n\\n1.0 (longest bar), 0.6, 0.35, 0.5, 0.8.\\n\\nPlease note that these numbers are rough visual estimates and not precise measurements.\", \"Based on the description provided, the ratio of each bar's length to the longest bar, starting from the longest bar and moving right, and then starting leftmost and moving right to the longest bar again while giving just 5 numbers with the first value being 1.0, would be:\\n\\n1.0, 0.5, 0.3, 0.6, 0.8\", '1.0, 0.6, 0.4, 0.8, 0.2', '1.0, 0.6, 0.4, 0.8, 0.2', '1.0, 0.6, 0.4, 0.8, 0.2', '1.0, 0.6, 0.4, 0.2, 0.8', '1.0, 0.6, 0.2, 0.4, 0.8', '1.0, 0.6, 0.2, 0.4, 0.8', '1.0, 0.6, 0.4, 0.2, 0.8', 'The ratios of the lengths of each bar to the longest bar (starting with the longest bar and moving to the right, and then starting from the leftmost bar if there are no more bars on the right) are as follows:\\n\\n1.0, 0.6, 0.35, 0.2, 0.1', '1.0, 0.6, 0.35, 0.3, 0.65', 'Based on the image provided and starting with the longest bar which has a dot:\\n\\n1.0 (longest bar with a dot), 0.6, 0.35, 0.3, 0.25\\n\\nThese are the ratios of each bar’s length to the length of the longest bar.', '1.0, 0.8, 0.6, 0.4, 0.2', '1.0, 0.4, 0.6, 0.8, 0.2', '1.0, 0.6, 0.4, 0.5, 0.8', '1.0, 0.5, 0.3, 0.7, 0.8', '1.0, 0.6, 0.35, 0.25, 0.15', '1.0, 0.6, 0.3, 0.5, 0.2', '1.0, 0.6, 0.4, 0.8, 0.2', '1.0, 0.6, 0.2, 0.4, 0.8', '1.0, 0.6, 0.2, 0.4, 0.8', '1.0, 0.7, 0.4, 0.3, 0.5.', '1.0, 0.6, 0.2, 0.4, 0.8', 'The ratios of the lengths of each bar to the longest bar, starting from the longest bar and moving to the right, then continuing from left to right until we reach the longest bar again, are as follows: 1.0, 0.6, 0.35, 0.8, 0.5.', '1.0, 0.4, 0.6, 0.8, 0.2', '1.0, 0.6, 0.2, 0.4, 0.8', '1.0, 0.6, 0.4, 0.8, 0.2', '1.0, 0.5, 0.6, 0.8, 0.4', '1.0, 0.4, 0.6, 0.8, 0.2', '1.0, 0.67, 0.33, 0.4, 0.8', '1.0, 0.6, 0.4, 0.8, 0.2', '1.0, 0.4, 0.6, 0.2, 0.8', '1.0, 0.8, 0.4, 0.6, 0.2', '1.0, 0.6, 0.4, 0.8, 0.2', '1.0, 0.2, 0.4, 0.8, 0.6'], 'parsed_answers': [[1.0, 0.6, 0.2, 0.4, 0.8], [1.0, 0.6, 0.2, 0.4, 0.8], [1.0, 0.6, 0.35, 0.65, 0.8], [1.0, 0.6, 0.35, 0.65, 0.9], [1.0, 0.6, 0.2, 0.4, 0.8], [1.0, 0.6, 0.2, 0.4, 0.8], [1.0, 0.4, 0.6, 0.2, 0.8], [1.0, 0.6, 0.2, 0.4, 0.8], [1.0, 0.2, 0.4, 0.6, 0.8], [1.0, 0.6, 0.4, 0.8, 0.2], [1.0, 0.5, 0.2, 0.3, 0.6], [1.0, 0.6, 0.35, 0.65, 0.5], [1.0, 0.6, 0.4, 0.2, 0.8], [1.0, 0.6, 0.4, 0.8, 0.2], [1.0, 0.6, 0.25, 0.4, 0.8], [1.0, 0.2, 0.4, 0.1, 0.3], [1.0, 0.7, 0.35, 0.65, 0.5], [1.0, 0.8, 0.6, 0.4, 0.2], [1.0, 0.35, 0.6, 0.8, 0.5], [1.0, 0.2, 0.6, 0.4, 0.8], [1.0, 0.6, 0.35, 0.5, 0.8], [1.0, 0.5, 0.3, 0.6, 0.8], [1.0, 0.6, 0.4, 0.8, 0.2], [1.0, 0.6, 0.4, 0.8, 0.2], [1.0, 0.6, 0.4, 0.8, 0.2], [1.0, 0.6, 0.4, 0.2, 0.8], [1.0, 0.6, 0.2, 0.4, 0.8], [1.0, 0.6, 0.2, 0.4, 0.8], [1.0, 0.6, 0.4, 0.2, 0.8], [1.0, 0.6, 0.35, 0.2, 0.1], [1.0, 0.6, 0.35, 0.3, 0.65], [1.0, 0.6, 0.35, 0.3, 0.25], [1.0, 0.8, 0.6, 0.4, 0.2], [1.0, 0.4, 0.6, 0.8, 0.2], [1.0, 0.6, 0.4, 0.5, 0.8], [1.0, 0.5, 0.3, 0.7, 0.8], [1.0, 0.6, 0.35, 0.25, 0.15], [1.0, 0.6, 0.3, 0.5, 0.2], [1.0, 0.6, 0.4, 0.8, 0.2], [1.0, 0.6, 0.2, 0.4, 0.8], [1.0, 0.6, 0.2, 0.4, 0.8], [1.0, 0.7, 0.4, 0.3, 0.5], [1.0, 0.6, 0.2, 0.4, 0.8], [1.0, 0.6, 0.35, 0.8, 0.5], [1.0, 0.4, 0.6, 0.8, 0.2], [1.0, 0.6, 0.2, 0.4, 0.8], [1.0, 0.6, 0.4, 0.8, 0.2], [1.0, 0.5, 0.6, 0.8, 0.4], [1.0, 0.4, 0.6, 0.8, 0.2], [1.0, 0.67, 0.33, 0.4, 0.8], [1.0, 0.6, 0.4, 0.8, 0.2], [1.0, 0.4, 0.6, 0.2, 0.8], [1.0, 0.8, 0.4, 0.6, 0.2], [1.0, 0.6, 0.4, 0.8, 0.2], [1.0, 0.2, 0.4, 0.8, 0.6]], 'mean': None, 'std': None, 'mse': 0.08502152908184855, 'mlae': 4.428933717032885, 'times': [1768.1560516357422, 1584.3122005462646, 82546.82397842407, 1770.5390453338623, 2571.573495864868, 3748.7566471099854, 1917.2847270965576, 1645.745038986206, 1394.465446472168, 2143.9685821533203, 1475.1579761505127, 1454.308271408081, 19206.953287124634, 1610.8355522155762, 4547.767162322998, 1569.7989463806152, 7501.431703567505, 6931.543350219727, 3133.0666542053223, 2465.9669399261475, 13735.735893249512, 24567.05617904663, 8810.942649841309, 1488.614559173584, 51422.97267913818, 1617.5158023834229, 173758.24880599976, 10068.735599517822, 14493.960857391357, 13312.695980072021, 1688.2526874542236, 7569.94891166687, 2228.7230491638184, 9543.128728866577, 1567.8961277008057, 1554.30269241333, 1461.336374282837, 11391.82448387146, 2088.1175994873047, 1547.0449924468994, 67967.57578849792, 27808.60662460327, 1819.9162483215332, 35643.65220069885, 15984.31134223938, 1618.4172630310059, 1712.782621383667, 1611.9909286499023, 1589.9550914764404, 1614.7756576538086, 4887.549877166748, 6200.620412826538, 1712.0707035064697, 5361.371040344238, 2397.9153633117676], 'forced_repetitions': 147}, 'LLaVA': {'parameters': None, 'raw_answers': ['The longest bar is 1.0, and the ratios of the other bars to the longest bar are:\\n\\n1.0\\n0.5\\n0.33\\n0.25\\n0.17', 'The longest bar is 1.0, and the ratios of the other bars to the longest bar are:\\n\\n1.0\\n0.5\\n0.33\\n0.25\\n0.17', 'The longest bar is 1.0, and the ratios of the other bars to the longest bar are:\\n\\n1.0\\n0.5\\n0.33\\n0.25\\n0.17', 'The longest bar is 1.0, and the ratios of the other bars to the longest bar are:\\n\\n1.0\\n0.5\\n0.33\\n0.25\\n0.17', 'The longest bar is 1.0, and the ratios of the other bars to the longest bar are:\\n\\n1.0\\n0.5\\n0.33\\n0.25\\n0.17', 'The longest bar is 1.0, and the ratios of the other bars to the longest bar are:\\n\\n1.0\\n0.5\\n0.33\\n0.25\\n0.17', 'The longest bar is 1.0, and the ratios of the other bars to the longest bar are:\\n\\n1.0\\n0.5\\n0.33\\n0.25\\n0.17', 'The longest bar is 1.0, and the ratios of the other bars to the longest bar are:\\n\\n1.0\\n0.5\\n0.33\\n0.25\\n0.17', 'The longest bar is 1.0, and the ratios of the other bars to the longest bar are:\\n\\n1.0\\n0.5\\n0.33\\n0.25\\n0.17', 'The longest bar is 1.0, and the ratios of the other bars to the longest bar are:\\n\\n1.0\\n0.5\\n0.33\\n0.25\\n0.17', 'The longest bar is 1.0, and the ratios of the other bars to the longest bar are:\\n\\n1.0\\n0.5\\n0.33\\n0.25\\n0.17', 'The longest bar is 1.0, and the ratios of the other bars to the longest bar are:\\n\\n1.0\\n0.5\\n0.33\\n0.25\\n0.17', 'The longest bar is 1.0, and the ratios of the other bars to the longest bar are:\\n\\n1.0\\n0.5\\n0.33\\n0.25\\n0.17', 'The longest bar is 1.0, and the ratios of the other bars to the longest bar are:\\n\\n1.0\\n0.5\\n0.33\\n0.25\\n0.17', 'The longest bar is 1.0, and the ratios of the other bars to the longest bar are:\\n\\n1.0\\n0.5\\n0.33\\n0.25\\n0.17', 'The longest bar is 1.0, and the ratios of the other bars to the longest bar are:\\n\\n1.0\\n0.5\\n0.33\\n0.25\\n0.17', 'The longest bar is 1.0, and the ratios of the other bars to the longest bar are:\\n\\n1.0\\n0.5\\n0.33\\n0.25\\n0.17', 'The longest bar is 1.0, and the ratios of the other bars to the longest bar are:\\n\\n1.0\\n0.5\\n0.33\\n0.25\\n0.17', 'The longest bar is 1.0, and the ratios of the other bars to the longest bar are:\\n\\n1.0\\n0.5\\n0.33\\n0.25\\n0.17', 'The longest bar is 1.0, and the ratios of the other bars to the longest bar are:\\n\\n1.0\\n0.5\\n0.33\\n0.25\\n0.17', 'The longest bar is 1.0, and the ratios of the other bars to the longest bar are:\\n\\n1.0\\n0.5\\n0.33\\n0.25\\n0.17', 'The longest bar is 1.0, and the ratios of the other bars to the longest bar are:\\n\\n1.0\\n0.5\\n0.33\\n0.25\\n0.17', 'The longest bar is 1.0, and the ratios of the other bars to the longest bar are:\\n\\n1.0\\n0.5\\n0.33\\n0.25\\n0.17', 'The longest bar is 1.0, and the ratios of the other bars to the longest bar are:\\n\\n1.0\\n0.5\\n0.33\\n0.25\\n0.17', 'The longest bar is 1.0, and the ratios of the other bars to the longest bar are:\\n\\n1.0\\n0.5\\n0.33\\n0.25\\n0.17', 'The longest bar is 1.0, and the ratios of the other bars to the longest bar are:\\n\\n1.0\\n0.5\\n0.33\\n0.25\\n0.17', 'The longest bar is 1.0, and the ratios of the other bars to the longest bar are:\\n\\n1.0\\n0.5\\n0.33\\n0.25\\n0.17', 'The longest bar is 1.0, and the ratios of the other bars to the longest bar are:\\n\\n1.0\\n0.5\\n0.33\\n0.25\\n0.17', 'The longest bar is 1.0, and the ratios of the other bars to the longest bar are:\\n\\n1.0\\n0.5\\n0.33\\n0.25\\n0.17', 'The longest bar is 1.0, and the ratios of the other bars to the longest bar are:\\n\\n1.0\\n0.5\\n0.33\\n0.25\\n0.17', 'The longest bar is 1.0, and the ratios of the other bars to the longest bar are:\\n\\n1.0\\n0.5\\n0.33\\n0.25\\n0.17', 'The longest bar is 1.0, and the ratios of the other bars to the longest bar are:\\n\\n1.0\\n0.5\\n0.33\\n0.25\\n0.17', 'The longest bar is 1.0, and the ratios of the other bars to the longest bar are:\\n\\n1.0\\n0.5\\n0.33\\n0.25\\n0.17', 'The longest bar is 1.0, and the ratios of the other bars to the longest bar are:\\n\\n1.0\\n0.5\\n0.33\\n0.25\\n0.17', 'The longest bar is 1.0, and the ratios of the other bars to the longest bar are:\\n\\n1.0\\n0.5\\n0.33\\n0.25\\n0.17', 'The longest bar is 1.0, and the ratios of the other bars to the longest bar are:\\n\\n1.0\\n0.5\\n0.33\\n0.25\\n0.17', 'The longest bar is 1.0, and the ratios of the other bars to the longest bar are:\\n\\n1.0\\n0.5\\n0.33\\n0.25\\n0.17', 'The longest bar is 1.0, and the ratios of the other bars to the longest bar are:\\n\\n1.0\\n0.5\\n0.33\\n0.25\\n0.17', 'The longest bar is 1.0, and the ratios of the other bars to the longest bar are:\\n\\n1.0\\n0.5\\n0.33\\n0.25\\n0.17', 'The longest bar is 1.0, and the ratios of the other bars to the longest bar are:\\n\\n1.0\\n0.5\\n0.33\\n0.25\\n0.17', 'The longest bar is 1.0, and the ratios of the other bars to the longest bar are:\\n\\n1.0\\n0.5\\n0.33\\n0.25\\n0.17', 'The longest bar is 1.0, and the ratios of the other bars to the longest bar are:\\n\\n1.0\\n0.5\\n0.33\\n0.25\\n0.17', 'The longest bar is 1.0, and the ratios of the other bars to the longest bar are:\\n\\n1.0\\n0.5\\n0.33\\n0.25\\n0.17', 'The longest bar is 1.0, and the ratios of the other bars to the longest bar are:\\n\\n1.0\\n0.5\\n0.33\\n0.25\\n0.17', 'The longest bar is 1.0, and the ratios of the other bars to the longest bar are:\\n\\n1.0\\n0.5\\n0.33\\n0.25\\n0.17', 'The longest bar is 1.0, and the ratios of the other bars to the longest bar are:\\n\\n1.0\\n0.5\\n0.33\\n0.25\\n0.17', 'The longest bar is 1.0, and the ratios of the other bars to the longest bar are:\\n\\n1.0\\n0.5\\n0.33\\n0.25\\n0.17', 'The longest bar is 1.0, and the ratios of the other bars to the longest bar are:\\n\\n1.0\\n0.5\\n0.33\\n0.25\\n0.17', 'The longest bar is 1.0, and the ratios of the other bars to the longest bar are:\\n\\n1.0\\n0.5\\n0.33\\n0.25\\n0.17', 'The longest bar is 1.0, and the ratios of the other bars to the longest bar are:\\n\\n1.0\\n0.5\\n0.33\\n0.25\\n0.17', 'The longest bar is 1.0, and the ratios of the other bars to the longest bar are:\\n\\n1.0\\n0.5\\n0.33\\n0.25\\n0.17', 'The longest bar is 1.0, and the ratios of the other bars to the longest bar are:\\n\\n1.0\\n0.5\\n0.33\\n0.25\\n0.17', 'The longest bar is 1.0, and the ratios of the other bars to the longest bar are:\\n\\n1.0\\n0.5\\n0.33\\n0.25\\n0.17', 'The longest bar is 1.0, and the ratios of the other bars to the longest bar are:\\n\\n1.0\\n0.5\\n0.33\\n0.25\\n0.17', 'The longest bar is 1.0, and the ratios of the other bars to the longest bar are:\\n\\n1.0\\n0.5\\n0.33\\n0.25\\n0.17'], 'parsed_answers': [[1.0, 0.5, 0.33, 0.25, 0.17], [1.0, 0.5, 0.33, 0.25, 0.17], [1.0, 0.5, 0.33, 0.25, 0.17], [1.0, 0.5, 0.33, 0.25, 0.17], [1.0, 0.5, 0.33, 0.25, 0.17], [1.0, 0.5, 0.33, 0.25, 0.17], [1.0, 0.5, 0.33, 0.25, 0.17], [1.0, 0.5, 0.33, 0.25, 0.17], [1.0, 0.5, 0.33, 0.25, 0.17], [1.0, 0.5, 0.33, 0.25, 0.17], [1.0, 0.5, 0.33, 0.25, 0.17], [1.0, 0.5, 0.33, 0.25, 0.17], [1.0, 0.5, 0.33, 0.25, 0.17], [1.0, 0.5, 0.33, 0.25, 0.17], [1.0, 0.5, 0.33, 0.25, 0.17], [1.0, 0.5, 0.33, 0.25, 0.17], [1.0, 0.5, 0.33, 0.25, 0.17], [1.0, 0.5, 0.33, 0.25, 0.17], [1.0, 0.5, 0.33, 0.25, 0.17], [1.0, 0.5, 0.33, 0.25, 0.17], [1.0, 0.5, 0.33, 0.25, 0.17], [1.0, 0.5, 0.33, 0.25, 0.17], [1.0, 0.5, 0.33, 0.25, 0.17], [1.0, 0.5, 0.33, 0.25, 0.17], [1.0, 0.5, 0.33, 0.25, 0.17], [1.0, 0.5, 0.33, 0.25, 0.17], [1.0, 0.5, 0.33, 0.25, 0.17], [1.0, 0.5, 0.33, 0.25, 0.17], [1.0, 0.5, 0.33, 0.25, 0.17], [1.0, 0.5, 0.33, 0.25, 0.17], [1.0, 0.5, 0.33, 0.25, 0.17], [1.0, 0.5, 0.33, 0.25, 0.17], [1.0, 0.5, 0.33, 0.25, 0.17], [1.0, 0.5, 0.33, 0.25, 0.17], [1.0, 0.5, 0.33, 0.25, 0.17], [1.0, 0.5, 0.33, 0.25, 0.17], [1.0, 0.5, 0.33, 0.25, 0.17], [1.0, 0.5, 0.33, 0.25, 0.17], [1.0, 0.5, 0.33, 0.25, 0.17], [1.0, 0.5, 0.33, 0.25, 0.17], [1.0, 0.5, 0.33, 0.25, 0.17], [1.0, 0.5, 0.33, 0.25, 0.17], [1.0, 0.5, 0.33, 0.25, 0.17], [1.0, 0.5, 0.33, 0.25, 0.17], [1.0, 0.5, 0.33, 0.25, 0.17], [1.0, 0.5, 0.33, 0.25, 0.17], [1.0, 0.5, 0.33, 0.25, 0.17], [1.0, 0.5, 0.33, 0.25, 0.17], [1.0, 0.5, 0.33, 0.25, 0.17], [1.0, 0.5, 0.33, 0.25, 0.17], [1.0, 0.5, 0.33, 0.25, 0.17], [1.0, 0.5, 0.33, 0.25, 0.17], [1.0, 0.5, 0.33, 0.25, 0.17], [1.0, 0.5, 0.33, 0.25, 0.17], [1.0, 0.5, 0.33, 0.25, 0.17]], 'mean': None, 'std': None, 'mse': 0.08145500024822085, 'mlae': 4.356027093289057, 'times': [22405.823469161987, 8419.752597808838, 7814.396142959595, 7948.906898498535, 7895.4832553863525, 8150.809526443481, 7995.5644607543945, 7920.6383228302, 7989.283561706543, 7969.390630722046, 7798.3558177948, 8163.825988769531, 7940.505027770996, 7963.889360427856, 7960.446357727051, 8035.379886627197, 8090.2581214904785, 7961.745023727417, 7902.970552444458, 7974.6222496032715, 7945.919990539551, 7964.433431625366, 8086.805105209351, 7943.183898925781, 7762.817859649658, 7965.28172492981, 8034.569025039673, 8264.835357666016, 8172.761917114258, 7950.124263763428, 7903.703212738037, 7934.490442276001, 7984.267950057983, 8103.792428970337, 7917.632818222046, 7947.684764862061, 7900.784254074097, 7929.3951988220215, 10051.149606704712, 7725.50368309021, 7732.262134552002, 7969.845294952393, 7914.189338684082, 8222.378015518188, 8075.878858566284, 7967.0209884643555, 7862.151384353638, 7985.849618911743, 7950.788497924805, 8665.416240692139, 7975.1136302948, 7968.993902206421, 8024.298906326294, 8522.319078445435, 8196.528434753418], 'forced_repetitions': 0}, 'CustomLLaVA': {'parameters': None, 'raw_answers': ['[1.0, 0.21212122, 0.6161616, 0.5151515, 0.15151516]', '[1.0, 0.27027026, 0.73529412, 0.4117647, 0.84615386]', '[1.0, 0.47368422, 0.84210527, 0.13157895, 0.36842105]', '[1.0, 0.47368422, 0.15384616, 0.36842105, 0.68421054]', '[1.0, 0.21428573, 0.71428574, 0.35714286, 0.85714287]', '[1.0, 0.47368422, 0.30769232, 0.102564104, 0.68421052]', '[1.0, 0.27027026, 0.84615386, 0.129030435, 0.7837838]', '[1.0, 0.3030303, 0.5135135, 0.13513513, 0.46153846]', '[1.0, 0.47368422, 0.36842105, 0.84210527, 0.10526316]', '[1.0, 0.1388889, 0.44444445, 0.8888889, 0.33333334]', '[1.0, 0.47368422, 0.10526316, 0.61538464, 0.36842105]', '[1.0, 0.5897436, 0.39743686, 0.89743686, 0.14358975]', '[1.0, 0.47368422, 0.18421052, 0.36842105, 0.68421054]', '[1.0, 0.67142858, 0.14285715, 0.54285717, 0.71428573]', '[1.0, 0.3846154, 0.5882353, 0.23529412, 0.8235294]', '[1.0, 0.6315789, 0.102564104, 0.27027026, 0.5641027]', '[1.0, 0.27027026, 0.7027027, 0.10810811, 0.5405405]', '[1.0, 0.8125, 0.1875, 0.375, 0.625]', '[1.0, 0.8888889, 0.1388889, 0.33333334, 0.6666667]', '[1.0, 0.1764706, 0.3647059, 0.8764706, 0.5923077]', '[1.0, 0.54545456, 0.27272728, 0.10101010, 0.8181818]', '[1.0, 0.5483871, 0.83870965, 0.15384616, 0.30769232]', '[1.0, 0.3529412, 0.6941176, 0.1764706, 0.7352941]', '[1.0, 0.46875, 0.375, 0.6875, 0.5625]', '[1.0, 0.1764706, 0.33333334, 0.8717949, 0.5]', '[1.0, 0.2857143, 0.5714286, 0.85714287, 0.71428574]', '[1.0, 0.375, 0.15625, 0.875, 0.6875]', '[1.0, 0.375, 0.625, 0.15625, 0.78125]', '[1.0, 0.84210527, 0.5263158, 0.18421052, 0.31578947]', '[1.0, 0.586207, 0.37142858, 0.14285715, 0.2857143]', '[1.0, 0.47368422, 0.10810811, 0.84210527, 0.2631579]', '[1.0, 0.47368422, 0.17948718, 0.36842105, 0.84210527]', '[1.0, 0.84615386, 0.61538464, 0.102564104, 0.3846154]', '[1.0, 0.3611111, 0.6363611, 0.1388889, 0.8888889]', '[1.0, 0.32258064, 0.64102566, 0.15384616, 0.8064516]', '[1.0, 0.36842105, 0.105263157, 0.7636842, 0.5263158]', '[1.0, 0.3125, 0.4375, 0.1875, 0.6875]', '[1.0, 0.47368422, 0.102564104, 0.36842105, 0.84210527]', '[1.0, 0.21212122, 0.8484849, 0.3737374, 0.6868687]', '[1.0, 0.27027026, 0.57894737, 0.7027027, 0.10810811]', '[1.0, 0.3783784, 0.53846157, 0.102564104, 0.61538464]', '[1.0, 0.45454547, 0.18181819, 0.54545454, 0.8181818]', '[1.0, 0.47368422, 0.5769232, 0.36842105, 0.84210527]', '[1.0, 0.61538464, 0.30769232, 0.23076923, 0.53846157]', '[1.0, 0.3125, 0.1875, 0.625, 0.75]', '[1.0, 0.2631579, 0.57894737, 0.31578946, 0.8473684]', '[1.0, 0.44444445, 0.16666667, 0.6666667, 0.8666667]', '[1.0, 0.46875, 0.1875, 0.6875, 0.875]', '[1.0, 0.83333334, 0.16666667, 0.33333334, 0.46153846]', '[1.0, 0.1764706, 0.61538464, 0.47058824, 0.7647059]', '[1.0, 0.8378378, 0.15384616, 0.3783784, 0.6666667]', '[1.0, 0.27027026, 0.8708709, 0.13131313, 0.7070707]', '[1.0, 0.17948718, 0.8717949, 0.37948718, 0.6717949]', '[1.0, 0.54545455, 0.10810811, 0.75757575, 0.45454547]', '[1.0, 0.8611111, 0.16666667, 0.33333334, 0.26666667]'], 'parsed_answers': [[1.0, 0.21212122, 0.6161616, 0.5151515, 0.15151516], [1.0, 0.27027026, 0.73529412, 0.4117647, 0.84615386], [1.0, 0.47368422, 0.84210527, 0.13157895, 0.36842105], [1.0, 0.47368422, 0.15384616, 0.36842105, 0.68421054], [1.0, 0.21428573, 0.71428574, 0.35714286, 0.85714287], [1.0, 0.47368422, 0.30769232, 0.102564104, 0.68421052], [1.0, 0.27027026, 0.84615386, 0.129030435, 0.7837838], [1.0, 0.3030303, 0.5135135, 0.13513513, 0.46153846], [1.0, 0.47368422, 0.36842105, 0.84210527, 0.10526316], [1.0, 0.1388889, 0.44444445, 0.8888889, 0.33333334], [1.0, 0.47368422, 0.10526316, 0.61538464, 0.36842105], [1.0, 0.5897436, 0.39743686, 0.89743686, 0.14358975], [1.0, 0.47368422, 0.18421052, 0.36842105, 0.68421054], [1.0, 0.67142858, 0.14285715, 0.54285717, 0.71428573], [1.0, 0.3846154, 0.5882353, 0.23529412, 0.8235294], [1.0, 0.6315789, 0.102564104, 0.27027026, 0.5641027], [1.0, 0.27027026, 0.7027027, 0.10810811, 0.5405405], [1.0, 0.8125, 0.1875, 0.375, 0.625], [1.0, 0.8888889, 0.1388889, 0.33333334, 0.6666667], [1.0, 0.1764706, 0.3647059, 0.8764706, 0.5923077], [1.0, 0.54545456, 0.27272728, 0.1010101, 0.8181818], [1.0, 0.5483871, 0.83870965, 0.15384616, 0.30769232], [1.0, 0.3529412, 0.6941176, 0.1764706, 0.7352941], [1.0, 0.46875, 0.375, 0.6875, 0.5625], [1.0, 0.1764706, 0.33333334, 0.8717949, 0.5], [1.0, 0.2857143, 0.5714286, 0.85714287, 0.71428574], [1.0, 0.375, 0.15625, 0.875, 0.6875], [1.0, 0.375, 0.625, 0.15625, 0.78125], [1.0, 0.84210527, 0.5263158, 0.18421052, 0.31578947], [1.0, 0.586207, 0.37142858, 0.14285715, 0.2857143], [1.0, 0.47368422, 0.10810811, 0.84210527, 0.2631579], [1.0, 0.47368422, 0.17948718, 0.36842105, 0.84210527], [1.0, 0.84615386, 0.61538464, 0.102564104, 0.3846154], [1.0, 0.3611111, 0.6363611, 0.1388889, 0.8888889], [1.0, 0.32258064, 0.64102566, 0.15384616, 0.8064516], [1.0, 0.36842105, 0.105263157, 0.7636842, 0.5263158], [1.0, 0.3125, 0.4375, 0.1875, 0.6875], [1.0, 0.47368422, 0.102564104, 0.36842105, 0.84210527], [1.0, 0.21212122, 0.8484849, 0.3737374, 0.6868687], [1.0, 0.27027026, 0.57894737, 0.7027027, 0.10810811], [1.0, 0.3783784, 0.53846157, 0.102564104, 0.61538464], [1.0, 0.45454547, 0.18181819, 0.54545454, 0.8181818], [1.0, 0.47368422, 0.5769232, 0.36842105, 0.84210527], [1.0, 0.61538464, 0.30769232, 0.23076923, 0.53846157], [1.0, 0.3125, 0.1875, 0.625, 0.75], [1.0, 0.2631579, 0.57894737, 0.31578946, 0.8473684], [1.0, 0.44444445, 0.16666667, 0.6666667, 0.8666667], [1.0, 0.46875, 0.1875, 0.6875, 0.875], [1.0, 0.83333334, 0.16666667, 0.33333334, 0.46153846], [1.0, 0.1764706, 0.61538464, 0.47058824, 0.7647059], [1.0, 0.8378378, 0.15384616, 0.3783784, 0.6666667], [1.0, 0.27027026, 0.8708709, 0.13131313, 0.7070707], [1.0, 0.17948718, 0.8717949, 0.37948718, 0.6717949], [1.0, 0.54545455, 0.10810811, 0.75757575, 0.45454547], [1.0, 0.8611111, 0.16666667, 0.33333334, 0.26666667]], 'mean': None, 'std': None, 'mse': 0.10492548317282188, 'mlae': 4.600354211788926, 'times': [10766.236066818237, 10205.899477005005, 11487.35785484314, 10507.067680358887, 10450.07872581482, 10725.810289382935, 10515.18177986145, 10824.758052825928, 10546.041011810303, 10559.529542922974, 11778.334379196167, 10499.65214729309, 10412.801265716553, 10489.825010299683, 10317.497491836548, 10273.160457611084, 10507.187843322754, 10012.670516967773, 10278.702020645142, 10357.397556304932, 10516.677856445312, 10289.684534072876, 10142.25149154663, 10136.824131011963, 10090.690612792969, 10427.398681640625, 9788.38062286377, 9832.182884216309, 10553.163051605225, 10182.119369506836, 10302.98399925232, 10414.994955062866, 10562.937259674072, 10235.474348068237, 10268.068790435791, 10222.764492034912, 10124.253988265991, 10411.787033081055, 10225.56734085083, 10232.439041137695, 10480.807065963745, 10242.592334747314, 10212.40234375, 10301.167488098145, 10072.972297668457, 10993.685960769653, 10204.583883285522, 9814.30196762085, 10515.251636505127, 10247.979164123535, 10260.854005813599, 10277.413606643677, 10544.488668441772, 10423.277854919434, 10404.163837432861], 'forced_repetitions': 0}}\n"
     ]
    }
   ],
   "source": [
    "import sys\n",
    "sys.path.append('../')\n",
    "import LLMP as L\n",
    "import torch\n",
    "torch.torch.cuda.empty_cache()\n",
    "\n",
    "query = 'What do you see? There are 5 bars in total, and the longest bar has a dot inside. Say the size of the longest bar is 1.0. \\\n",
    "            Give me the ratio of length of each bar to the longest bar. The value should be from 0 to 1. First tell me the ratio of the\\\n",
    "            LONGEST BAR (which is 1.0) and keep going right and tell me the ratio of each bar. If you do not see any bar on the right, \\\n",
    "            then go to the leftmost bar and again keep going right until you see the longest bar again. You should see 5 bars in total. \\\n",
    "            Give me the just 5 numbers--the first value should be 1.0.'\n",
    "images = [L.GPImage.figure3('bar') for i in range(55)]\n",
    "models = [\"ChatGPT\", \"LLaVA\", \"CustomLLaVA\"]\n",
    "\n",
    "results = L.Evaluator2.run(images, query, models)\n",
    "print(results)"
   ]
  },
  {
   "cell_type": "code",
   "execution_count": 2,
   "id": "ea01eab4-d66e-46a7-b116-7b479492e3e1",
   "metadata": {},
   "outputs": [],
   "source": [
    "chatGPT_mse = results[\"ChatGPT\"][\"mse\"]\n",
    "chatGPT_mlae = results[\"ChatGPT\"][\"mlae\"]\n",
    "chatGPT_mean = results[\"ChatGPT\"][\"mean\"]\n",
    "chatGPT_std = results[\"ChatGPT\"][\"std\"]\n",
    "llava_mse = results[\"LLaVA\"][\"mse\"]\n",
    "llava_mlae = results[\"LLaVA\"][\"mlae\"]\n",
    "llava_mean = results[\"LLaVA\"][\"mean\"]\n",
    "llava_std = results[\"LLaVA\"][\"std\"]\n",
    "custom_llava_mse = results[\"CustomLLaVA\"][\"mse\"]\n",
    "custom_llava_mlae = results[\"CustomLLaVA\"][\"mlae\"]\n",
    "custom_llava_mean = results[\"CustomLLaVA\"][\"mean\"]\n",
    "custom_llava_std = results[\"CustomLLaVA\"][\"std\"]"
   ]
  },
  {
   "cell_type": "code",
   "execution_count": 3,
   "id": "f8061f73-b651-4488-a74b-a586a5060847",
   "metadata": {},
   "outputs": [
    {
     "name": "stdout",
     "output_type": "stream",
     "text": [
      "ChatGPT mse:  0.08502152908184855\n",
      "ChatGPT mlae: 4.428933717032885\n",
      "ChatGPT mean: None\n",
      "ChatGPT std: None\n",
      "LLaVA mse:    0.08145500024822085\n",
      "LLaVA mlae:   4.356027093289057\n",
      "LLaVA mean:   None\n",
      "LLaVA std:   None\n",
      "CLLaVA mse:   0.10492548317282188\n",
      "CLLaVA mlae:  4.600354211788926\n",
      "CLLaVA mean:  None\n",
      "CLLaVA std:  None\n"
     ]
    }
   ],
   "source": [
    "print(\"ChatGPT mse: \", chatGPT_mse)\n",
    "print(\"ChatGPT mlae:\", chatGPT_mlae)\n",
    "print(\"ChatGPT mean:\", chatGPT_mean)\n",
    "print(\"ChatGPT std:\", chatGPT_std)\n",
    "print(\"LLaVA mse:   \", llava_mse)\n",
    "print(\"LLaVA mlae:  \", llava_mlae)\n",
    "print(\"LLaVA mean:  \", llava_mean)\n",
    "print(\"LLaVA std:  \", llava_std)\n",
    "print(\"CLLaVA mse:  \", custom_llava_mse)\n",
    "print(\"CLLaVA mlae: \", custom_llava_mlae)\n",
    "print(\"CLLaVA mean: \", custom_llava_mean)\n",
    "print(\"CLLaVA std: \", custom_llava_std)"
   ]
  },
  {
   "cell_type": "code",
   "execution_count": null,
   "id": "04d5629c-7cfe-4f13-a057-ec476e776104",
   "metadata": {},
   "outputs": [],
   "source": []
  },
  {
   "cell_type": "code",
   "execution_count": null,
   "id": "5f580216-a0bd-455e-99c2-03c59322ffea",
   "metadata": {},
   "outputs": [],
   "source": []
  },
  {
   "cell_type": "code",
   "execution_count": null,
   "id": "d6581740-e78d-408a-bc9d-cac80d49b6ff",
   "metadata": {},
   "outputs": [],
   "source": []
  },
  {
   "cell_type": "code",
   "execution_count": null,
   "id": "3cc0df13-a0ae-4d7c-8356-937447e9bd2f",
   "metadata": {},
   "outputs": [],
   "source": []
  },
  {
   "cell_type": "code",
   "execution_count": null,
   "id": "ffc3766e-7d70-4f8a-9f4e-b44dc834666b",
   "metadata": {},
   "outputs": [],
   "source": []
  },
  {
   "cell_type": "code",
   "execution_count": null,
   "id": "eb1bb136-d93b-4b52-ba43-193528a17a0c",
   "metadata": {},
   "outputs": [],
   "source": []
  },
  {
   "cell_type": "code",
   "execution_count": null,
   "id": "3a01f922-ec8c-4850-8016-4a9b119210ee",
   "metadata": {},
   "outputs": [],
   "source": []
  },
  {
   "cell_type": "code",
   "execution_count": null,
   "id": "2233b177-b20c-4e91-bde7-0aeb284d07fa",
   "metadata": {},
   "outputs": [],
   "source": []
  },
  {
   "cell_type": "code",
   "execution_count": null,
   "id": "c6514b74-ea69-4979-a740-0ec0f6929a82",
   "metadata": {},
   "outputs": [],
   "source": []
  },
  {
   "cell_type": "code",
   "execution_count": null,
   "id": "5c72d4a4-14d1-45d4-9f9d-a62115cc8545",
   "metadata": {},
   "outputs": [],
   "source": []
  },
  {
   "cell_type": "code",
   "execution_count": null,
   "id": "01895112-0ae0-483d-ac16-c1d5482cad59",
   "metadata": {},
   "outputs": [],
   "source": []
  },
  {
   "cell_type": "code",
   "execution_count": null,
   "id": "14df1862-9634-4f5b-a8ba-1c4623004b83",
   "metadata": {},
   "outputs": [],
   "source": []
  },
  {
   "cell_type": "code",
   "execution_count": null,
   "id": "c0c19e5c-07a2-463b-9e17-d757db81d182",
   "metadata": {},
   "outputs": [],
   "source": []
  },
  {
   "cell_type": "code",
   "execution_count": 2,
   "id": "6ddbe468-f10c-4760-9235-52fe89b6b8dd",
   "metadata": {},
   "outputs": [],
   "source": [
    "from sklearn.metrics import mean_squared_error\n",
    "from sklearn.metrics import mean_absolute_error\n",
    "import numpy as np\n",
    "\n",
    "# Calculate mean squared error (MSE)\n",
    "def calculate_mse(gt, answers):\n",
    "    gt_array = np.array(gt)\n",
    "    answers_array = np.array(answers)\n",
    "\n",
    "    return mean_squared_error(gt_array,answers_array)\n"
   ]
  },
  {
   "cell_type": "code",
   "execution_count": 17,
   "id": "8e975501-3c32-4126-88d4-a81f51051f06",
   "metadata": {},
   "outputs": [
    {
     "name": "stdout",
     "output_type": "stream",
     "text": [
      "[1.0, 0.27272728, 0.5151515, 0.42424244, 0.8181818]\n",
      "[1.0, 0.6, 0.5, 0.4, 0.2]\n",
      "0.09801469000946841\n"
     ]
    }
   ],
   "source": [
    "import sys\n",
    "sys.path.append('../')\n",
    "import LLMP as L\n",
    "import torch\n",
    "torch.torch.cuda.empty_cache()\n",
    "\n",
    "query = 'What do you see? There are 5 bars in total, and the longest bar has a dot inside. Say the size of the longest bar is 1.0. \\\n",
    "            Give me the ratio of length of each bar to the longest bar. The value should be from 0 to 1. First tell me the ratio of the\\\n",
    "            LONGEST BAR (which is 1.0) and keep going right and tell me the ratio of each bar. If you do not see any bar on the right, \\\n",
    "            then go to the leftmost bar and again keep going right until you see the longest bar again. You should see 5 bars in total. \\\n",
    "            Give me the just 5 numbers--the first value should be 1.0.'\n",
    "images = [L.GPImage.figure3('bar') for i in range(1)]\n",
    "#models = [\"ChatGPT\", \"LLaVA\", \"CustomLLaVA\"]\n",
    "answer = f(L.ChatGPT.query(query, images[0][0]))\n",
    "print(images[0][1])\n",
    "print(answer)\n",
    "print(calculate_mse(images[0][1], answer))\n",
    "\n",
    "#results = L.Evaluator.run(images, query, models)\n",
    "#print(results)"
   ]
  },
  {
   "cell_type": "code",
   "execution_count": 1,
   "id": "ea5430c7-21cd-4137-ad9b-e87d54e7059e",
   "metadata": {},
   "outputs": [],
   "source": [
    "import re\n",
    "def f(answer):\n",
    "    values = re.findall(r'(\\d+\\.\\d+)', answer)\n",
    "    values = [float(val) for val in values]\n",
    "\n",
    "    if (len(values) != 5):\n",
    "        values = values[-5:]\n",
    "    return values"
   ]
  },
  {
   "cell_type": "code",
   "execution_count": 7,
   "id": "0c7a5f3f-9a76-45de-ae87-5fd707d8ef5b",
   "metadata": {},
   "outputs": [
    {
     "name": "stdout",
     "output_type": "stream",
     "text": [
      "[1.0, 0.6, 0.4, 0.8, 0.2]\n"
     ]
    }
   ],
   "source": [
    "x = 'Based on the image provided, starting with the longest bar which is assigned the value of 1.0, the ratios of the lengths of the bars to the longest bar from left to right are:\\n\\n1.0, 0.6, 0.4, 0.8, 0.2'\n",
    "values = re.findall(r'(\\d+\\.\\d+)', x)\n",
    "if (len(values) != 5):\n",
    "    values = values[-5:]\n",
    "ranges_numbers = [float(val) for val in values]\n",
    "print(ranges_numbers)"
   ]
  },
  {
   "cell_type": "code",
   "execution_count": null,
   "id": "c393be3c-8ab1-4039-94e5-0b82adef4878",
   "metadata": {},
   "outputs": [],
   "source": []
  }
 ],
 "metadata": {
  "kernelspec": {
   "display_name": "Python 3 (ipykernel)",
   "language": "python",
   "name": "python3"
  },
  "language_info": {
   "codemirror_mode": {
    "name": "ipython",
    "version": 3
   },
   "file_extension": ".py",
   "mimetype": "text/x-python",
   "name": "python",
   "nbconvert_exporter": "python",
   "pygments_lexer": "ipython3",
   "version": "3.11.7"
  }
 },
 "nbformat": 4,
 "nbformat_minor": 5
}
