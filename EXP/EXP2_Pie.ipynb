{
 "cells": [
  {
   "cell_type": "code",
   "execution_count": 1,
   "id": "86641587-3314-425e-81fa-277f3555d15c",
   "metadata": {},
   "outputs": [
    {
     "name": "stdout",
     "output_type": "stream",
     "text": [
      "[2024-04-26 08:07:15,673] [INFO] [real_accelerator.py:191:get_accelerator] Setting ds_accelerator to cuda (auto detect)\n"
     ]
    },
    {
     "name": "stderr",
     "output_type": "stream",
     "text": [
      "You are using a model of type llava to instantiate a model of type llava_llama. This is not supported for all configurations of models and can yield errors.\n"
     ]
    },
    {
     "data": {
      "application/vnd.jupyter.widget-view+json": {
       "model_id": "5159779ee0d64a3b80fe7e4d7df66888",
       "version_major": 2,
       "version_minor": 0
      },
      "text/plain": [
       "Loading checkpoint shards:   0%|          | 0/2 [00:00<?, ?it/s]"
      ]
     },
     "metadata": {},
     "output_type": "display_data"
    },
    {
     "name": "stderr",
     "output_type": "stream",
     "text": [
      "/home/kenichi.maeda001/anaconda3/envs/LLMP/lib/python3.11/site-packages/transformers/generation/configuration_utils.py:389: UserWarning: `do_sample` is set to `False`. However, `temperature` is set to `0` -- this flag is only used in sample-based generation modes. You should set `do_sample=True` or unset `temperature`.\n",
      "  warnings.warn(\n",
      "/home/kenichi.maeda001/anaconda3/envs/LLMP/lib/python3.11/site-packages/transformers/generation/configuration_utils.py:394: UserWarning: `do_sample` is set to `False`. However, `top_p` is set to `None` -- this flag is only used in sample-based generation modes. You should set `do_sample=True` or unset `top_p`.\n",
      "  warnings.warn(\n",
      "You are using a model of type llava to instantiate a model of type llava_llama. This is not supported for all configurations of models and can yield errors.\n"
     ]
    },
    {
     "data": {
      "application/vnd.jupyter.widget-view+json": {
       "model_id": "40a241c04b5c410f9c790da403ebcfa1",
       "version_major": 2,
       "version_minor": 0
      },
      "text/plain": [
       "Loading checkpoint shards:   0%|          | 0/2 [00:00<?, ?it/s]"
      ]
     },
     "metadata": {},
     "output_type": "display_data"
    },
    {
     "name": "stderr",
     "output_type": "stream",
     "text": [
      "You are using a model of type llava to instantiate a model of type llava_llama. This is not supported for all configurations of models and can yield errors.\n"
     ]
    },
    {
     "data": {
      "application/vnd.jupyter.widget-view+json": {
       "model_id": "44747e7268164acaa1f6fc269ee6e4f2",
       "version_major": 2,
       "version_minor": 0
      },
      "text/plain": [
       "Loading checkpoint shards:   0%|          | 0/2 [00:00<?, ?it/s]"
      ]
     },
     "metadata": {},
     "output_type": "display_data"
    },
    {
     "name": "stderr",
     "output_type": "stream",
     "text": [
      "You are using a model of type llava to instantiate a model of type llava_llama. This is not supported for all configurations of models and can yield errors.\n"
     ]
    },
    {
     "data": {
      "application/vnd.jupyter.widget-view+json": {
       "model_id": "6a92cf48435b4b449f1f79e0c003cd6f",
       "version_major": 2,
       "version_minor": 0
      },
      "text/plain": [
       "Loading checkpoint shards:   0%|          | 0/2 [00:00<?, ?it/s]"
      ]
     },
     "metadata": {},
     "output_type": "display_data"
    },
    {
     "name": "stderr",
     "output_type": "stream",
     "text": [
      "You are using a model of type llava to instantiate a model of type llava_llama. This is not supported for all configurations of models and can yield errors.\n"
     ]
    },
    {
     "data": {
      "application/vnd.jupyter.widget-view+json": {
       "model_id": "bb2a65fb80ff4ab6a5ab308b9ab5ec25",
       "version_major": 2,
       "version_minor": 0
      },
      "text/plain": [
       "Loading checkpoint shards:   0%|          | 0/2 [00:00<?, ?it/s]"
      ]
     },
     "metadata": {},
     "output_type": "display_data"
    },
    {
     "name": "stderr",
     "output_type": "stream",
     "text": [
      "You are using a model of type llava to instantiate a model of type llava_llama. This is not supported for all configurations of models and can yield errors.\n"
     ]
    },
    {
     "data": {
      "application/vnd.jupyter.widget-view+json": {
       "model_id": "c3bb2d45bba348e788d6ef52a0321e33",
       "version_major": 2,
       "version_minor": 0
      },
      "text/plain": [
       "Loading checkpoint shards:   0%|          | 0/2 [00:00<?, ?it/s]"
      ]
     },
     "metadata": {},
     "output_type": "display_data"
    },
    {
     "name": "stderr",
     "output_type": "stream",
     "text": [
      "You are using a model of type llava to instantiate a model of type llava_llama. This is not supported for all configurations of models and can yield errors.\n"
     ]
    },
    {
     "data": {
      "application/vnd.jupyter.widget-view+json": {
       "model_id": "62b03f04dab74de39760920478950bed",
       "version_major": 2,
       "version_minor": 0
      },
      "text/plain": [
       "Loading checkpoint shards:   0%|          | 0/2 [00:00<?, ?it/s]"
      ]
     },
     "metadata": {},
     "output_type": "display_data"
    },
    {
     "name": "stderr",
     "output_type": "stream",
     "text": [
      "You are using a model of type llava to instantiate a model of type llava_llama. This is not supported for all configurations of models and can yield errors.\n"
     ]
    },
    {
     "data": {
      "application/vnd.jupyter.widget-view+json": {
       "model_id": "d7a8c2820b2f47f19f8cbd2ddc314f03",
       "version_major": 2,
       "version_minor": 0
      },
      "text/plain": [
       "Loading checkpoint shards:   0%|          | 0/2 [00:00<?, ?it/s]"
      ]
     },
     "metadata": {},
     "output_type": "display_data"
    },
    {
     "name": "stderr",
     "output_type": "stream",
     "text": [
      "You are using a model of type llava to instantiate a model of type llava_llama. This is not supported for all configurations of models and can yield errors.\n"
     ]
    },
    {
     "data": {
      "application/vnd.jupyter.widget-view+json": {
       "model_id": "8c86e85c908946528ea9e38f336755d2",
       "version_major": 2,
       "version_minor": 0
      },
      "text/plain": [
       "Loading checkpoint shards:   0%|          | 0/2 [00:00<?, ?it/s]"
      ]
     },
     "metadata": {},
     "output_type": "display_data"
    },
    {
     "name": "stderr",
     "output_type": "stream",
     "text": [
      "You are using a model of type llava to instantiate a model of type llava_llama. This is not supported for all configurations of models and can yield errors.\n"
     ]
    },
    {
     "data": {
      "application/vnd.jupyter.widget-view+json": {
       "model_id": "bff1735ec6344e07987800846ba09c73",
       "version_major": 2,
       "version_minor": 0
      },
      "text/plain": [
       "Loading checkpoint shards:   0%|          | 0/2 [00:00<?, ?it/s]"
      ]
     },
     "metadata": {},
     "output_type": "display_data"
    },
    {
     "name": "stderr",
     "output_type": "stream",
     "text": [
      "You are using a model of type llava to instantiate a model of type llava_llama. This is not supported for all configurations of models and can yield errors.\n"
     ]
    },
    {
     "data": {
      "application/vnd.jupyter.widget-view+json": {
       "model_id": "4286e338bb88425d998d41c65776ca41",
       "version_major": 2,
       "version_minor": 0
      },
      "text/plain": [
       "Loading checkpoint shards:   0%|          | 0/2 [00:00<?, ?it/s]"
      ]
     },
     "metadata": {},
     "output_type": "display_data"
    },
    {
     "name": "stderr",
     "output_type": "stream",
     "text": [
      "You are using a model of type llava to instantiate a model of type llava_llama. This is not supported for all configurations of models and can yield errors.\n"
     ]
    },
    {
     "data": {
      "application/vnd.jupyter.widget-view+json": {
       "model_id": "ed1265a6000b433ba261702a505114ab",
       "version_major": 2,
       "version_minor": 0
      },
      "text/plain": [
       "Loading checkpoint shards:   0%|          | 0/2 [00:00<?, ?it/s]"
      ]
     },
     "metadata": {},
     "output_type": "display_data"
    },
    {
     "name": "stderr",
     "output_type": "stream",
     "text": [
      "You are using a model of type llava to instantiate a model of type llava_llama. This is not supported for all configurations of models and can yield errors.\n"
     ]
    },
    {
     "data": {
      "application/vnd.jupyter.widget-view+json": {
       "model_id": "711cac1253ac406f9d250db2a34e5320",
       "version_major": 2,
       "version_minor": 0
      },
      "text/plain": [
       "Loading checkpoint shards:   0%|          | 0/2 [00:00<?, ?it/s]"
      ]
     },
     "metadata": {},
     "output_type": "display_data"
    },
    {
     "name": "stderr",
     "output_type": "stream",
     "text": [
      "You are using a model of type llava to instantiate a model of type llava_llama. This is not supported for all configurations of models and can yield errors.\n"
     ]
    },
    {
     "data": {
      "application/vnd.jupyter.widget-view+json": {
       "model_id": "840b000c9a9042cbb0f059b11a26cac8",
       "version_major": 2,
       "version_minor": 0
      },
      "text/plain": [
       "Loading checkpoint shards:   0%|          | 0/2 [00:00<?, ?it/s]"
      ]
     },
     "metadata": {},
     "output_type": "display_data"
    },
    {
     "name": "stderr",
     "output_type": "stream",
     "text": [
      "You are using a model of type llava to instantiate a model of type llava_llama. This is not supported for all configurations of models and can yield errors.\n"
     ]
    },
    {
     "data": {
      "application/vnd.jupyter.widget-view+json": {
       "model_id": "5866335835e44a83941822b7a4868b6b",
       "version_major": 2,
       "version_minor": 0
      },
      "text/plain": [
       "Loading checkpoint shards:   0%|          | 0/2 [00:00<?, ?it/s]"
      ]
     },
     "metadata": {},
     "output_type": "display_data"
    },
    {
     "name": "stderr",
     "output_type": "stream",
     "text": [
      "You are using a model of type llava to instantiate a model of type llava_llama. This is not supported for all configurations of models and can yield errors.\n"
     ]
    },
    {
     "data": {
      "application/vnd.jupyter.widget-view+json": {
       "model_id": "30854739c060424792e6f11bf815cb32",
       "version_major": 2,
       "version_minor": 0
      },
      "text/plain": [
       "Loading checkpoint shards:   0%|          | 0/2 [00:00<?, ?it/s]"
      ]
     },
     "metadata": {},
     "output_type": "display_data"
    },
    {
     "name": "stderr",
     "output_type": "stream",
     "text": [
      "You are using a model of type llava to instantiate a model of type llava_llama. This is not supported for all configurations of models and can yield errors.\n"
     ]
    },
    {
     "data": {
      "application/vnd.jupyter.widget-view+json": {
       "model_id": "39a2741603874f25922aef6e2344f209",
       "version_major": 2,
       "version_minor": 0
      },
      "text/plain": [
       "Loading checkpoint shards:   0%|          | 0/2 [00:00<?, ?it/s]"
      ]
     },
     "metadata": {},
     "output_type": "display_data"
    },
    {
     "name": "stderr",
     "output_type": "stream",
     "text": [
      "You are using a model of type llava to instantiate a model of type llava_llama. This is not supported for all configurations of models and can yield errors.\n"
     ]
    },
    {
     "data": {
      "application/vnd.jupyter.widget-view+json": {
       "model_id": "99789919ae914a2b92122aafaae2e9bd",
       "version_major": 2,
       "version_minor": 0
      },
      "text/plain": [
       "Loading checkpoint shards:   0%|          | 0/2 [00:00<?, ?it/s]"
      ]
     },
     "metadata": {},
     "output_type": "display_data"
    },
    {
     "name": "stderr",
     "output_type": "stream",
     "text": [
      "You are using a model of type llava to instantiate a model of type llava_llama. This is not supported for all configurations of models and can yield errors.\n"
     ]
    },
    {
     "data": {
      "application/vnd.jupyter.widget-view+json": {
       "model_id": "45388a1008704fb29baf0a1b889403c5",
       "version_major": 2,
       "version_minor": 0
      },
      "text/plain": [
       "Loading checkpoint shards:   0%|          | 0/2 [00:00<?, ?it/s]"
      ]
     },
     "metadata": {},
     "output_type": "display_data"
    },
    {
     "name": "stderr",
     "output_type": "stream",
     "text": [
      "You are using a model of type llava to instantiate a model of type llava_llama. This is not supported for all configurations of models and can yield errors.\n"
     ]
    },
    {
     "data": {
      "application/vnd.jupyter.widget-view+json": {
       "model_id": "176f9ac168514215b79782a8963e5d07",
       "version_major": 2,
       "version_minor": 0
      },
      "text/plain": [
       "Loading checkpoint shards:   0%|          | 0/2 [00:00<?, ?it/s]"
      ]
     },
     "metadata": {},
     "output_type": "display_data"
    },
    {
     "name": "stderr",
     "output_type": "stream",
     "text": [
      "You are using a model of type llava to instantiate a model of type llava_llama. This is not supported for all configurations of models and can yield errors.\n"
     ]
    },
    {
     "data": {
      "application/vnd.jupyter.widget-view+json": {
       "model_id": "f3c260322f534007b444c4503929e0d7",
       "version_major": 2,
       "version_minor": 0
      },
      "text/plain": [
       "Loading checkpoint shards:   0%|          | 0/2 [00:00<?, ?it/s]"
      ]
     },
     "metadata": {},
     "output_type": "display_data"
    },
    {
     "name": "stderr",
     "output_type": "stream",
     "text": [
      "You are using a model of type llava to instantiate a model of type llava_llama. This is not supported for all configurations of models and can yield errors.\n"
     ]
    },
    {
     "data": {
      "application/vnd.jupyter.widget-view+json": {
       "model_id": "b5065021d14f41e3b7958b91094490cc",
       "version_major": 2,
       "version_minor": 0
      },
      "text/plain": [
       "Loading checkpoint shards:   0%|          | 0/2 [00:00<?, ?it/s]"
      ]
     },
     "metadata": {},
     "output_type": "display_data"
    },
    {
     "name": "stderr",
     "output_type": "stream",
     "text": [
      "You are using a model of type llava to instantiate a model of type llava_llama. This is not supported for all configurations of models and can yield errors.\n"
     ]
    },
    {
     "data": {
      "application/vnd.jupyter.widget-view+json": {
       "model_id": "20adc99aa1284aaeb206206f4d875f97",
       "version_major": 2,
       "version_minor": 0
      },
      "text/plain": [
       "Loading checkpoint shards:   0%|          | 0/2 [00:00<?, ?it/s]"
      ]
     },
     "metadata": {},
     "output_type": "display_data"
    },
    {
     "name": "stderr",
     "output_type": "stream",
     "text": [
      "You are using a model of type llava to instantiate a model of type llava_llama. This is not supported for all configurations of models and can yield errors.\n"
     ]
    },
    {
     "data": {
      "application/vnd.jupyter.widget-view+json": {
       "model_id": "0ce5479d5cc64c83bbebe23c0d41cf32",
       "version_major": 2,
       "version_minor": 0
      },
      "text/plain": [
       "Loading checkpoint shards:   0%|          | 0/2 [00:00<?, ?it/s]"
      ]
     },
     "metadata": {},
     "output_type": "display_data"
    },
    {
     "name": "stderr",
     "output_type": "stream",
     "text": [
      "You are using a model of type llava to instantiate a model of type llava_llama. This is not supported for all configurations of models and can yield errors.\n"
     ]
    },
    {
     "data": {
      "application/vnd.jupyter.widget-view+json": {
       "model_id": "97ea91f634d34ca7a8090162c87bb068",
       "version_major": 2,
       "version_minor": 0
      },
      "text/plain": [
       "Loading checkpoint shards:   0%|          | 0/2 [00:00<?, ?it/s]"
      ]
     },
     "metadata": {},
     "output_type": "display_data"
    },
    {
     "name": "stderr",
     "output_type": "stream",
     "text": [
      "You are using a model of type llava to instantiate a model of type llava_llama. This is not supported for all configurations of models and can yield errors.\n"
     ]
    },
    {
     "data": {
      "application/vnd.jupyter.widget-view+json": {
       "model_id": "cf7c778dd172480bbcdb0e70404237e3",
       "version_major": 2,
       "version_minor": 0
      },
      "text/plain": [
       "Loading checkpoint shards:   0%|          | 0/2 [00:00<?, ?it/s]"
      ]
     },
     "metadata": {},
     "output_type": "display_data"
    },
    {
     "name": "stderr",
     "output_type": "stream",
     "text": [
      "You are using a model of type llava to instantiate a model of type llava_llama. This is not supported for all configurations of models and can yield errors.\n"
     ]
    },
    {
     "data": {
      "application/vnd.jupyter.widget-view+json": {
       "model_id": "2de3c143c0ab45e5bac39a3ee4ec8db4",
       "version_major": 2,
       "version_minor": 0
      },
      "text/plain": [
       "Loading checkpoint shards:   0%|          | 0/2 [00:00<?, ?it/s]"
      ]
     },
     "metadata": {},
     "output_type": "display_data"
    },
    {
     "name": "stderr",
     "output_type": "stream",
     "text": [
      "You are using a model of type llava to instantiate a model of type llava_llama. This is not supported for all configurations of models and can yield errors.\n"
     ]
    },
    {
     "data": {
      "application/vnd.jupyter.widget-view+json": {
       "model_id": "ec44505478cd4eb889fbde9fc43ae28e",
       "version_major": 2,
       "version_minor": 0
      },
      "text/plain": [
       "Loading checkpoint shards:   0%|          | 0/2 [00:00<?, ?it/s]"
      ]
     },
     "metadata": {},
     "output_type": "display_data"
    },
    {
     "name": "stderr",
     "output_type": "stream",
     "text": [
      "You are using a model of type llava to instantiate a model of type llava_llama. This is not supported for all configurations of models and can yield errors.\n"
     ]
    },
    {
     "data": {
      "application/vnd.jupyter.widget-view+json": {
       "model_id": "5c16ba7cc6f2446086b9353a3c801533",
       "version_major": 2,
       "version_minor": 0
      },
      "text/plain": [
       "Loading checkpoint shards:   0%|          | 0/2 [00:00<?, ?it/s]"
      ]
     },
     "metadata": {},
     "output_type": "display_data"
    },
    {
     "name": "stderr",
     "output_type": "stream",
     "text": [
      "You are using a model of type llava to instantiate a model of type llava_llama. This is not supported for all configurations of models and can yield errors.\n"
     ]
    },
    {
     "data": {
      "application/vnd.jupyter.widget-view+json": {
       "model_id": "7d9dfd14054b4491808cb5ffbe3ff329",
       "version_major": 2,
       "version_minor": 0
      },
      "text/plain": [
       "Loading checkpoint shards:   0%|          | 0/2 [00:00<?, ?it/s]"
      ]
     },
     "metadata": {},
     "output_type": "display_data"
    },
    {
     "name": "stderr",
     "output_type": "stream",
     "text": [
      "You are using a model of type llava to instantiate a model of type llava_llama. This is not supported for all configurations of models and can yield errors.\n"
     ]
    },
    {
     "data": {
      "application/vnd.jupyter.widget-view+json": {
       "model_id": "b57f8bd986f74acfaf8fd4f0c43b5fd3",
       "version_major": 2,
       "version_minor": 0
      },
      "text/plain": [
       "Loading checkpoint shards:   0%|          | 0/2 [00:00<?, ?it/s]"
      ]
     },
     "metadata": {},
     "output_type": "display_data"
    },
    {
     "name": "stderr",
     "output_type": "stream",
     "text": [
      "You are using a model of type llava to instantiate a model of type llava_llama. This is not supported for all configurations of models and can yield errors.\n"
     ]
    },
    {
     "data": {
      "application/vnd.jupyter.widget-view+json": {
       "model_id": "2acb80736bb34859b2779464bd13e7ec",
       "version_major": 2,
       "version_minor": 0
      },
      "text/plain": [
       "Loading checkpoint shards:   0%|          | 0/2 [00:00<?, ?it/s]"
      ]
     },
     "metadata": {},
     "output_type": "display_data"
    },
    {
     "name": "stderr",
     "output_type": "stream",
     "text": [
      "You are using a model of type llava to instantiate a model of type llava_llama. This is not supported for all configurations of models and can yield errors.\n"
     ]
    },
    {
     "data": {
      "application/vnd.jupyter.widget-view+json": {
       "model_id": "832e79e827b84a898b0b89c764f3ac62",
       "version_major": 2,
       "version_minor": 0
      },
      "text/plain": [
       "Loading checkpoint shards:   0%|          | 0/2 [00:00<?, ?it/s]"
      ]
     },
     "metadata": {},
     "output_type": "display_data"
    },
    {
     "name": "stderr",
     "output_type": "stream",
     "text": [
      "You are using a model of type llava to instantiate a model of type llava_llama. This is not supported for all configurations of models and can yield errors.\n"
     ]
    },
    {
     "data": {
      "application/vnd.jupyter.widget-view+json": {
       "model_id": "87ef17a27c20456e8ab9c221829c8d20",
       "version_major": 2,
       "version_minor": 0
      },
      "text/plain": [
       "Loading checkpoint shards:   0%|          | 0/2 [00:00<?, ?it/s]"
      ]
     },
     "metadata": {},
     "output_type": "display_data"
    },
    {
     "name": "stderr",
     "output_type": "stream",
     "text": [
      "You are using a model of type llava to instantiate a model of type llava_llama. This is not supported for all configurations of models and can yield errors.\n"
     ]
    },
    {
     "data": {
      "application/vnd.jupyter.widget-view+json": {
       "model_id": "d806a04140114534a68525dac1529d6b",
       "version_major": 2,
       "version_minor": 0
      },
      "text/plain": [
       "Loading checkpoint shards:   0%|          | 0/2 [00:00<?, ?it/s]"
      ]
     },
     "metadata": {},
     "output_type": "display_data"
    },
    {
     "name": "stderr",
     "output_type": "stream",
     "text": [
      "You are using a model of type llava to instantiate a model of type llava_llama. This is not supported for all configurations of models and can yield errors.\n"
     ]
    },
    {
     "data": {
      "application/vnd.jupyter.widget-view+json": {
       "model_id": "3c2155b8ef7142fa9f5fc6fa7d90cc61",
       "version_major": 2,
       "version_minor": 0
      },
      "text/plain": [
       "Loading checkpoint shards:   0%|          | 0/2 [00:00<?, ?it/s]"
      ]
     },
     "metadata": {},
     "output_type": "display_data"
    },
    {
     "name": "stderr",
     "output_type": "stream",
     "text": [
      "You are using a model of type llava to instantiate a model of type llava_llama. This is not supported for all configurations of models and can yield errors.\n"
     ]
    },
    {
     "data": {
      "application/vnd.jupyter.widget-view+json": {
       "model_id": "15258ac054314e46a84409fe8f8cb3d9",
       "version_major": 2,
       "version_minor": 0
      },
      "text/plain": [
       "Loading checkpoint shards:   0%|          | 0/2 [00:00<?, ?it/s]"
      ]
     },
     "metadata": {},
     "output_type": "display_data"
    },
    {
     "name": "stderr",
     "output_type": "stream",
     "text": [
      "You are using a model of type llava to instantiate a model of type llava_llama. This is not supported for all configurations of models and can yield errors.\n"
     ]
    },
    {
     "data": {
      "application/vnd.jupyter.widget-view+json": {
       "model_id": "abd525751e5545688ce3c9b0829b78d6",
       "version_major": 2,
       "version_minor": 0
      },
      "text/plain": [
       "Loading checkpoint shards:   0%|          | 0/2 [00:00<?, ?it/s]"
      ]
     },
     "metadata": {},
     "output_type": "display_data"
    },
    {
     "name": "stderr",
     "output_type": "stream",
     "text": [
      "You are using a model of type llava to instantiate a model of type llava_llama. This is not supported for all configurations of models and can yield errors.\n"
     ]
    },
    {
     "data": {
      "application/vnd.jupyter.widget-view+json": {
       "model_id": "27c5b09347d3406bb5ca8f6e5918c7cc",
       "version_major": 2,
       "version_minor": 0
      },
      "text/plain": [
       "Loading checkpoint shards:   0%|          | 0/2 [00:00<?, ?it/s]"
      ]
     },
     "metadata": {},
     "output_type": "display_data"
    },
    {
     "name": "stderr",
     "output_type": "stream",
     "text": [
      "You are using a model of type llava to instantiate a model of type llava_llama. This is not supported for all configurations of models and can yield errors.\n"
     ]
    },
    {
     "data": {
      "application/vnd.jupyter.widget-view+json": {
       "model_id": "c99ab8773404461d908294ff8ebb2753",
       "version_major": 2,
       "version_minor": 0
      },
      "text/plain": [
       "Loading checkpoint shards:   0%|          | 0/2 [00:00<?, ?it/s]"
      ]
     },
     "metadata": {},
     "output_type": "display_data"
    },
    {
     "name": "stderr",
     "output_type": "stream",
     "text": [
      "You are using a model of type llava to instantiate a model of type llava_llama. This is not supported for all configurations of models and can yield errors.\n"
     ]
    },
    {
     "data": {
      "application/vnd.jupyter.widget-view+json": {
       "model_id": "dfb12603929240d9bd6626025f652f59",
       "version_major": 2,
       "version_minor": 0
      },
      "text/plain": [
       "Loading checkpoint shards:   0%|          | 0/2 [00:00<?, ?it/s]"
      ]
     },
     "metadata": {},
     "output_type": "display_data"
    },
    {
     "name": "stderr",
     "output_type": "stream",
     "text": [
      "You are using a model of type llava to instantiate a model of type llava_llama. This is not supported for all configurations of models and can yield errors.\n"
     ]
    },
    {
     "data": {
      "application/vnd.jupyter.widget-view+json": {
       "model_id": "ccf042a349d6465e8bd4e50ee63079cd",
       "version_major": 2,
       "version_minor": 0
      },
      "text/plain": [
       "Loading checkpoint shards:   0%|          | 0/2 [00:00<?, ?it/s]"
      ]
     },
     "metadata": {},
     "output_type": "display_data"
    },
    {
     "name": "stderr",
     "output_type": "stream",
     "text": [
      "You are using a model of type llava to instantiate a model of type llava_llama. This is not supported for all configurations of models and can yield errors.\n"
     ]
    },
    {
     "data": {
      "application/vnd.jupyter.widget-view+json": {
       "model_id": "f1b9939f4e6747049376fbdb899d00b8",
       "version_major": 2,
       "version_minor": 0
      },
      "text/plain": [
       "Loading checkpoint shards:   0%|          | 0/2 [00:00<?, ?it/s]"
      ]
     },
     "metadata": {},
     "output_type": "display_data"
    },
    {
     "name": "stderr",
     "output_type": "stream",
     "text": [
      "You are using a model of type llava to instantiate a model of type llava_llama. This is not supported for all configurations of models and can yield errors.\n"
     ]
    },
    {
     "data": {
      "application/vnd.jupyter.widget-view+json": {
       "model_id": "7885ffbc850c404b907f8ac4bfd59295",
       "version_major": 2,
       "version_minor": 0
      },
      "text/plain": [
       "Loading checkpoint shards:   0%|          | 0/2 [00:00<?, ?it/s]"
      ]
     },
     "metadata": {},
     "output_type": "display_data"
    },
    {
     "name": "stderr",
     "output_type": "stream",
     "text": [
      "You are using a model of type llava to instantiate a model of type llava_llama. This is not supported for all configurations of models and can yield errors.\n"
     ]
    },
    {
     "data": {
      "application/vnd.jupyter.widget-view+json": {
       "model_id": "85f478797679415aa12d69050b6664a3",
       "version_major": 2,
       "version_minor": 0
      },
      "text/plain": [
       "Loading checkpoint shards:   0%|          | 0/2 [00:00<?, ?it/s]"
      ]
     },
     "metadata": {},
     "output_type": "display_data"
    },
    {
     "name": "stderr",
     "output_type": "stream",
     "text": [
      "You are using a model of type llava to instantiate a model of type llava_llama. This is not supported for all configurations of models and can yield errors.\n"
     ]
    },
    {
     "data": {
      "application/vnd.jupyter.widget-view+json": {
       "model_id": "e79b266240a548338f4d8fea27adee79",
       "version_major": 2,
       "version_minor": 0
      },
      "text/plain": [
       "Loading checkpoint shards:   0%|          | 0/2 [00:00<?, ?it/s]"
      ]
     },
     "metadata": {},
     "output_type": "display_data"
    },
    {
     "name": "stderr",
     "output_type": "stream",
     "text": [
      "You are using a model of type llava to instantiate a model of type llava_llama. This is not supported for all configurations of models and can yield errors.\n"
     ]
    },
    {
     "data": {
      "application/vnd.jupyter.widget-view+json": {
       "model_id": "e6168a9b1eed4ab9ba937b8311fd6062",
       "version_major": 2,
       "version_minor": 0
      },
      "text/plain": [
       "Loading checkpoint shards:   0%|          | 0/2 [00:00<?, ?it/s]"
      ]
     },
     "metadata": {},
     "output_type": "display_data"
    },
    {
     "name": "stderr",
     "output_type": "stream",
     "text": [
      "You are using a model of type llava to instantiate a model of type llava_llama. This is not supported for all configurations of models and can yield errors.\n"
     ]
    },
    {
     "data": {
      "application/vnd.jupyter.widget-view+json": {
       "model_id": "b604e8df3eeb4719b67cbb034c952644",
       "version_major": 2,
       "version_minor": 0
      },
      "text/plain": [
       "Loading checkpoint shards:   0%|          | 0/2 [00:00<?, ?it/s]"
      ]
     },
     "metadata": {},
     "output_type": "display_data"
    },
    {
     "name": "stderr",
     "output_type": "stream",
     "text": [
      "You are using a model of type llava to instantiate a model of type llava_llama. This is not supported for all configurations of models and can yield errors.\n"
     ]
    },
    {
     "data": {
      "application/vnd.jupyter.widget-view+json": {
       "model_id": "6a5cfee6912b4a0a8758713e7efeeaed",
       "version_major": 2,
       "version_minor": 0
      },
      "text/plain": [
       "Loading checkpoint shards:   0%|          | 0/2 [00:00<?, ?it/s]"
      ]
     },
     "metadata": {},
     "output_type": "display_data"
    },
    {
     "name": "stderr",
     "output_type": "stream",
     "text": [
      "You are using a model of type llava to instantiate a model of type llava_llama. This is not supported for all configurations of models and can yield errors.\n"
     ]
    },
    {
     "data": {
      "application/vnd.jupyter.widget-view+json": {
       "model_id": "ddb77b122419437bab0fc76c310bc80a",
       "version_major": 2,
       "version_minor": 0
      },
      "text/plain": [
       "Loading checkpoint shards:   0%|          | 0/2 [00:00<?, ?it/s]"
      ]
     },
     "metadata": {},
     "output_type": "display_data"
    },
    {
     "name": "stderr",
     "output_type": "stream",
     "text": [
      "You are using a model of type llava to instantiate a model of type llava_llama. This is not supported for all configurations of models and can yield errors.\n"
     ]
    },
    {
     "data": {
      "application/vnd.jupyter.widget-view+json": {
       "model_id": "090ec23d6c50432eb0fa355330414ec4",
       "version_major": 2,
       "version_minor": 0
      },
      "text/plain": [
       "Loading checkpoint shards:   0%|          | 0/2 [00:00<?, ?it/s]"
      ]
     },
     "metadata": {},
     "output_type": "display_data"
    },
    {
     "name": "stderr",
     "output_type": "stream",
     "text": [
      "You are using a model of type llava to instantiate a model of type llava_llama. This is not supported for all configurations of models and can yield errors.\n"
     ]
    },
    {
     "data": {
      "application/vnd.jupyter.widget-view+json": {
       "model_id": "0f11516074c744d6bb8004f638c71c6c",
       "version_major": 2,
       "version_minor": 0
      },
      "text/plain": [
       "Loading checkpoint shards:   0%|          | 0/2 [00:00<?, ?it/s]"
      ]
     },
     "metadata": {},
     "output_type": "display_data"
    },
    {
     "name": "stderr",
     "output_type": "stream",
     "text": [
      "You are using a model of type llava to instantiate a model of type llava_llama. This is not supported for all configurations of models and can yield errors.\n"
     ]
    },
    {
     "data": {
      "application/vnd.jupyter.widget-view+json": {
       "model_id": "4702f2b19dab43afbf0b96480edd3507",
       "version_major": 2,
       "version_minor": 0
      },
      "text/plain": [
       "Loading checkpoint shards:   0%|          | 0/2 [00:00<?, ?it/s]"
      ]
     },
     "metadata": {},
     "output_type": "display_data"
    },
    {
     "name": "stderr",
     "output_type": "stream",
     "text": [
      "You are using a model of type llava to instantiate a model of type llava_llama. This is not supported for all configurations of models and can yield errors.\n"
     ]
    },
    {
     "data": {
      "application/vnd.jupyter.widget-view+json": {
       "model_id": "0097a7ef71484a089700c5e89a620220",
       "version_major": 2,
       "version_minor": 0
      },
      "text/plain": [
       "Loading checkpoint shards:   0%|          | 0/2 [00:00<?, ?it/s]"
      ]
     },
     "metadata": {},
     "output_type": "display_data"
    },
    {
     "name": "stderr",
     "output_type": "stream",
     "text": [
      "You are using a model of type llava to instantiate a model of type llava_llama. This is not supported for all configurations of models and can yield errors.\n"
     ]
    },
    {
     "data": {
      "application/vnd.jupyter.widget-view+json": {
       "model_id": "d7dfc79b749e4c5492c8d3c97fbb3130",
       "version_major": 2,
       "version_minor": 0
      },
      "text/plain": [
       "Loading checkpoint shards:   0%|          | 0/2 [00:00<?, ?it/s]"
      ]
     },
     "metadata": {},
     "output_type": "display_data"
    },
    {
     "data": {
      "application/vnd.jupyter.widget-view+json": {
       "model_id": "3b4b9f9836dc4c19b1fa7b4f318cd740",
       "version_major": 2,
       "version_minor": 0
      },
      "text/plain": [
       "Loading checkpoint shards:   0%|          | 0/2 [00:00<?, ?it/s]"
      ]
     },
     "metadata": {},
     "output_type": "display_data"
    },
    {
     "data": {
      "application/vnd.jupyter.widget-view+json": {
       "model_id": "f1bbce1a774e43f3a255928317ef353b",
       "version_major": 2,
       "version_minor": 0
      },
      "text/plain": [
       "Loading checkpoint shards:   0%|          | 0/2 [00:00<?, ?it/s]"
      ]
     },
     "metadata": {},
     "output_type": "display_data"
    },
    {
     "data": {
      "application/vnd.jupyter.widget-view+json": {
       "model_id": "e823417dd79a496d8db36d26ca23a105",
       "version_major": 2,
       "version_minor": 0
      },
      "text/plain": [
       "Loading checkpoint shards:   0%|          | 0/2 [00:00<?, ?it/s]"
      ]
     },
     "metadata": {},
     "output_type": "display_data"
    },
    {
     "data": {
      "application/vnd.jupyter.widget-view+json": {
       "model_id": "da2d977d9c2542b58b59fba72eb2aba7",
       "version_major": 2,
       "version_minor": 0
      },
      "text/plain": [
       "Loading checkpoint shards:   0%|          | 0/2 [00:00<?, ?it/s]"
      ]
     },
     "metadata": {},
     "output_type": "display_data"
    },
    {
     "data": {
      "application/vnd.jupyter.widget-view+json": {
       "model_id": "eceb352e01b64ec6a28b5073905cd37e",
       "version_major": 2,
       "version_minor": 0
      },
      "text/plain": [
       "Loading checkpoint shards:   0%|          | 0/2 [00:00<?, ?it/s]"
      ]
     },
     "metadata": {},
     "output_type": "display_data"
    },
    {
     "data": {
      "application/vnd.jupyter.widget-view+json": {
       "model_id": "633ffab0f9fc4753bcd3ff218d3d389f",
       "version_major": 2,
       "version_minor": 0
      },
      "text/plain": [
       "Loading checkpoint shards:   0%|          | 0/2 [00:00<?, ?it/s]"
      ]
     },
     "metadata": {},
     "output_type": "display_data"
    },
    {
     "data": {
      "application/vnd.jupyter.widget-view+json": {
       "model_id": "76cc294596364bb889fef02bae7b7eea",
       "version_major": 2,
       "version_minor": 0
      },
      "text/plain": [
       "Loading checkpoint shards:   0%|          | 0/2 [00:00<?, ?it/s]"
      ]
     },
     "metadata": {},
     "output_type": "display_data"
    },
    {
     "data": {
      "application/vnd.jupyter.widget-view+json": {
       "model_id": "290778daf66f4341868b3554063661aa",
       "version_major": 2,
       "version_minor": 0
      },
      "text/plain": [
       "Loading checkpoint shards:   0%|          | 0/2 [00:00<?, ?it/s]"
      ]
     },
     "metadata": {},
     "output_type": "display_data"
    },
    {
     "data": {
      "application/vnd.jupyter.widget-view+json": {
       "model_id": "75b786e788e447d2b03cb3078ba79700",
       "version_major": 2,
       "version_minor": 0
      },
      "text/plain": [
       "Loading checkpoint shards:   0%|          | 0/2 [00:00<?, ?it/s]"
      ]
     },
     "metadata": {},
     "output_type": "display_data"
    },
    {
     "data": {
      "application/vnd.jupyter.widget-view+json": {
       "model_id": "d1219eb670db4ab98863ce4cc0cb1fec",
       "version_major": 2,
       "version_minor": 0
      },
      "text/plain": [
       "Loading checkpoint shards:   0%|          | 0/2 [00:00<?, ?it/s]"
      ]
     },
     "metadata": {},
     "output_type": "display_data"
    },
    {
     "data": {
      "application/vnd.jupyter.widget-view+json": {
       "model_id": "1ced17d560184c1b8f89cf0d31e8c8e6",
       "version_major": 2,
       "version_minor": 0
      },
      "text/plain": [
       "Loading checkpoint shards:   0%|          | 0/2 [00:00<?, ?it/s]"
      ]
     },
     "metadata": {},
     "output_type": "display_data"
    },
    {
     "data": {
      "application/vnd.jupyter.widget-view+json": {
       "model_id": "890898333dec484caadf54c017d08662",
       "version_major": 2,
       "version_minor": 0
      },
      "text/plain": [
       "Loading checkpoint shards:   0%|          | 0/2 [00:00<?, ?it/s]"
      ]
     },
     "metadata": {},
     "output_type": "display_data"
    },
    {
     "data": {
      "application/vnd.jupyter.widget-view+json": {
       "model_id": "4b1fef87168c4d0fa9b45bfe200daae4",
       "version_major": 2,
       "version_minor": 0
      },
      "text/plain": [
       "Loading checkpoint shards:   0%|          | 0/2 [00:00<?, ?it/s]"
      ]
     },
     "metadata": {},
     "output_type": "display_data"
    },
    {
     "data": {
      "application/vnd.jupyter.widget-view+json": {
       "model_id": "f33fb0b9a6e7425db330d883b7798891",
       "version_major": 2,
       "version_minor": 0
      },
      "text/plain": [
       "Loading checkpoint shards:   0%|          | 0/2 [00:00<?, ?it/s]"
      ]
     },
     "metadata": {},
     "output_type": "display_data"
    },
    {
     "data": {
      "application/vnd.jupyter.widget-view+json": {
       "model_id": "c2283b3f934b44adbbaf15bbc122e737",
       "version_major": 2,
       "version_minor": 0
      },
      "text/plain": [
       "Loading checkpoint shards:   0%|          | 0/2 [00:00<?, ?it/s]"
      ]
     },
     "metadata": {},
     "output_type": "display_data"
    },
    {
     "data": {
      "application/vnd.jupyter.widget-view+json": {
       "model_id": "2ac61de72e154eccb20f90495f3bfdc9",
       "version_major": 2,
       "version_minor": 0
      },
      "text/plain": [
       "Loading checkpoint shards:   0%|          | 0/2 [00:00<?, ?it/s]"
      ]
     },
     "metadata": {},
     "output_type": "display_data"
    },
    {
     "data": {
      "application/vnd.jupyter.widget-view+json": {
       "model_id": "76f91d9d457344f1aeefcdbd5716830d",
       "version_major": 2,
       "version_minor": 0
      },
      "text/plain": [
       "Loading checkpoint shards:   0%|          | 0/2 [00:00<?, ?it/s]"
      ]
     },
     "metadata": {},
     "output_type": "display_data"
    },
    {
     "data": {
      "application/vnd.jupyter.widget-view+json": {
       "model_id": "ff3de27ed454415e98ab121d93013054",
       "version_major": 2,
       "version_minor": 0
      },
      "text/plain": [
       "Loading checkpoint shards:   0%|          | 0/2 [00:00<?, ?it/s]"
      ]
     },
     "metadata": {},
     "output_type": "display_data"
    },
    {
     "data": {
      "application/vnd.jupyter.widget-view+json": {
       "model_id": "e3f3c9a68f004dfd9b4b009ded45ef85",
       "version_major": 2,
       "version_minor": 0
      },
      "text/plain": [
       "Loading checkpoint shards:   0%|          | 0/2 [00:00<?, ?it/s]"
      ]
     },
     "metadata": {},
     "output_type": "display_data"
    },
    {
     "data": {
      "application/vnd.jupyter.widget-view+json": {
       "model_id": "be771501e59548778455f6157a8c325f",
       "version_major": 2,
       "version_minor": 0
      },
      "text/plain": [
       "Loading checkpoint shards:   0%|          | 0/2 [00:00<?, ?it/s]"
      ]
     },
     "metadata": {},
     "output_type": "display_data"
    },
    {
     "data": {
      "application/vnd.jupyter.widget-view+json": {
       "model_id": "6685a459c19441ef8bc91969b149c7e9",
       "version_major": 2,
       "version_minor": 0
      },
      "text/plain": [
       "Loading checkpoint shards:   0%|          | 0/2 [00:00<?, ?it/s]"
      ]
     },
     "metadata": {},
     "output_type": "display_data"
    },
    {
     "data": {
      "application/vnd.jupyter.widget-view+json": {
       "model_id": "7c95f82fde5a4d73a86583275a3d7021",
       "version_major": 2,
       "version_minor": 0
      },
      "text/plain": [
       "Loading checkpoint shards:   0%|          | 0/2 [00:00<?, ?it/s]"
      ]
     },
     "metadata": {},
     "output_type": "display_data"
    },
    {
     "data": {
      "application/vnd.jupyter.widget-view+json": {
       "model_id": "e682342d93c94a6b8a465a2704c897f9",
       "version_major": 2,
       "version_minor": 0
      },
      "text/plain": [
       "Loading checkpoint shards:   0%|          | 0/2 [00:00<?, ?it/s]"
      ]
     },
     "metadata": {},
     "output_type": "display_data"
    },
    {
     "data": {
      "application/vnd.jupyter.widget-view+json": {
       "model_id": "558d4d42a10645669b30d3881a29799d",
       "version_major": 2,
       "version_minor": 0
      },
      "text/plain": [
       "Loading checkpoint shards:   0%|          | 0/2 [00:00<?, ?it/s]"
      ]
     },
     "metadata": {},
     "output_type": "display_data"
    },
    {
     "data": {
      "application/vnd.jupyter.widget-view+json": {
       "model_id": "2c4731b11b4e4e759ff01a0db64d87e3",
       "version_major": 2,
       "version_minor": 0
      },
      "text/plain": [
       "Loading checkpoint shards:   0%|          | 0/2 [00:00<?, ?it/s]"
      ]
     },
     "metadata": {},
     "output_type": "display_data"
    },
    {
     "data": {
      "application/vnd.jupyter.widget-view+json": {
       "model_id": "18e708de34bd4309867b5a1bdeedc77a",
       "version_major": 2,
       "version_minor": 0
      },
      "text/plain": [
       "Loading checkpoint shards:   0%|          | 0/2 [00:00<?, ?it/s]"
      ]
     },
     "metadata": {},
     "output_type": "display_data"
    },
    {
     "data": {
      "application/vnd.jupyter.widget-view+json": {
       "model_id": "4e8ae887306044dbbda70d6938e7e561",
       "version_major": 2,
       "version_minor": 0
      },
      "text/plain": [
       "Loading checkpoint shards:   0%|          | 0/2 [00:00<?, ?it/s]"
      ]
     },
     "metadata": {},
     "output_type": "display_data"
    },
    {
     "data": {
      "application/vnd.jupyter.widget-view+json": {
       "model_id": "5208d26de8384755b1460690c90536d2",
       "version_major": 2,
       "version_minor": 0
      },
      "text/plain": [
       "Loading checkpoint shards:   0%|          | 0/2 [00:00<?, ?it/s]"
      ]
     },
     "metadata": {},
     "output_type": "display_data"
    },
    {
     "data": {
      "application/vnd.jupyter.widget-view+json": {
       "model_id": "a4d695f7e1424668bc9c729f18249c5c",
       "version_major": 2,
       "version_minor": 0
      },
      "text/plain": [
       "Loading checkpoint shards:   0%|          | 0/2 [00:00<?, ?it/s]"
      ]
     },
     "metadata": {},
     "output_type": "display_data"
    },
    {
     "data": {
      "application/vnd.jupyter.widget-view+json": {
       "model_id": "fefbcae1b3a1420b86bdcfb918ecdff5",
       "version_major": 2,
       "version_minor": 0
      },
      "text/plain": [
       "Loading checkpoint shards:   0%|          | 0/2 [00:00<?, ?it/s]"
      ]
     },
     "metadata": {},
     "output_type": "display_data"
    },
    {
     "data": {
      "application/vnd.jupyter.widget-view+json": {
       "model_id": "fe4e9c763e8e41679596d2a533b58b68",
       "version_major": 2,
       "version_minor": 0
      },
      "text/plain": [
       "Loading checkpoint shards:   0%|          | 0/2 [00:00<?, ?it/s]"
      ]
     },
     "metadata": {},
     "output_type": "display_data"
    },
    {
     "data": {
      "application/vnd.jupyter.widget-view+json": {
       "model_id": "3120882945be45a7bfc0599c94559351",
       "version_major": 2,
       "version_minor": 0
      },
      "text/plain": [
       "Loading checkpoint shards:   0%|          | 0/2 [00:00<?, ?it/s]"
      ]
     },
     "metadata": {},
     "output_type": "display_data"
    },
    {
     "data": {
      "application/vnd.jupyter.widget-view+json": {
       "model_id": "8a4e0a330bdd406dbe720a167447826b",
       "version_major": 2,
       "version_minor": 0
      },
      "text/plain": [
       "Loading checkpoint shards:   0%|          | 0/2 [00:00<?, ?it/s]"
      ]
     },
     "metadata": {},
     "output_type": "display_data"
    },
    {
     "data": {
      "application/vnd.jupyter.widget-view+json": {
       "model_id": "f8d5f33fc612438faf0068a32b411a55",
       "version_major": 2,
       "version_minor": 0
      },
      "text/plain": [
       "Loading checkpoint shards:   0%|          | 0/2 [00:00<?, ?it/s]"
      ]
     },
     "metadata": {},
     "output_type": "display_data"
    },
    {
     "data": {
      "application/vnd.jupyter.widget-view+json": {
       "model_id": "08a98f0ae63b48dfae9d94811aa8c9e8",
       "version_major": 2,
       "version_minor": 0
      },
      "text/plain": [
       "Loading checkpoint shards:   0%|          | 0/2 [00:00<?, ?it/s]"
      ]
     },
     "metadata": {},
     "output_type": "display_data"
    },
    {
     "data": {
      "application/vnd.jupyter.widget-view+json": {
       "model_id": "a49dc2a9dd554c1191db0967bb1f1833",
       "version_major": 2,
       "version_minor": 0
      },
      "text/plain": [
       "Loading checkpoint shards:   0%|          | 0/2 [00:00<?, ?it/s]"
      ]
     },
     "metadata": {},
     "output_type": "display_data"
    },
    {
     "data": {
      "application/vnd.jupyter.widget-view+json": {
       "model_id": "9107f293329a401c8c06fd20e9fcda0b",
       "version_major": 2,
       "version_minor": 0
      },
      "text/plain": [
       "Loading checkpoint shards:   0%|          | 0/2 [00:00<?, ?it/s]"
      ]
     },
     "metadata": {},
     "output_type": "display_data"
    },
    {
     "data": {
      "application/vnd.jupyter.widget-view+json": {
       "model_id": "e50fc32e5a1f4b9b8dbf1353b3ea0d12",
       "version_major": 2,
       "version_minor": 0
      },
      "text/plain": [
       "Loading checkpoint shards:   0%|          | 0/2 [00:00<?, ?it/s]"
      ]
     },
     "metadata": {},
     "output_type": "display_data"
    },
    {
     "data": {
      "application/vnd.jupyter.widget-view+json": {
       "model_id": "88e96eddeda44d78a7fb7628d61a59e2",
       "version_major": 2,
       "version_minor": 0
      },
      "text/plain": [
       "Loading checkpoint shards:   0%|          | 0/2 [00:00<?, ?it/s]"
      ]
     },
     "metadata": {},
     "output_type": "display_data"
    },
    {
     "data": {
      "application/vnd.jupyter.widget-view+json": {
       "model_id": "04329db513464a0b9751594872ccf442",
       "version_major": 2,
       "version_minor": 0
      },
      "text/plain": [
       "Loading checkpoint shards:   0%|          | 0/2 [00:00<?, ?it/s]"
      ]
     },
     "metadata": {},
     "output_type": "display_data"
    },
    {
     "data": {
      "application/vnd.jupyter.widget-view+json": {
       "model_id": "abb25548863642cdb0123f7dfcf985c5",
       "version_major": 2,
       "version_minor": 0
      },
      "text/plain": [
       "Loading checkpoint shards:   0%|          | 0/2 [00:00<?, ?it/s]"
      ]
     },
     "metadata": {},
     "output_type": "display_data"
    },
    {
     "data": {
      "application/vnd.jupyter.widget-view+json": {
       "model_id": "1141dee4eaa84288a18aeb4975ba4b2f",
       "version_major": 2,
       "version_minor": 0
      },
      "text/plain": [
       "Loading checkpoint shards:   0%|          | 0/2 [00:00<?, ?it/s]"
      ]
     },
     "metadata": {},
     "output_type": "display_data"
    },
    {
     "data": {
      "application/vnd.jupyter.widget-view+json": {
       "model_id": "68a898eac66241ab8f5ce92707269720",
       "version_major": 2,
       "version_minor": 0
      },
      "text/plain": [
       "Loading checkpoint shards:   0%|          | 0/2 [00:00<?, ?it/s]"
      ]
     },
     "metadata": {},
     "output_type": "display_data"
    },
    {
     "data": {
      "application/vnd.jupyter.widget-view+json": {
       "model_id": "7d9a92d4aee84f299fa57bc6e4c42cd5",
       "version_major": 2,
       "version_minor": 0
      },
      "text/plain": [
       "Loading checkpoint shards:   0%|          | 0/2 [00:00<?, ?it/s]"
      ]
     },
     "metadata": {},
     "output_type": "display_data"
    },
    {
     "data": {
      "application/vnd.jupyter.widget-view+json": {
       "model_id": "47ec627c0200470ebe930ea2e1243d62",
       "version_major": 2,
       "version_minor": 0
      },
      "text/plain": [
       "Loading checkpoint shards:   0%|          | 0/2 [00:00<?, ?it/s]"
      ]
     },
     "metadata": {},
     "output_type": "display_data"
    },
    {
     "data": {
      "application/vnd.jupyter.widget-view+json": {
       "model_id": "592b6b51dd4c415b89896301e0e72eea",
       "version_major": 2,
       "version_minor": 0
      },
      "text/plain": [
       "Loading checkpoint shards:   0%|          | 0/2 [00:00<?, ?it/s]"
      ]
     },
     "metadata": {},
     "output_type": "display_data"
    },
    {
     "data": {
      "application/vnd.jupyter.widget-view+json": {
       "model_id": "d8a0261a18484e51a06f373609d8c3ad",
       "version_major": 2,
       "version_minor": 0
      },
      "text/plain": [
       "Loading checkpoint shards:   0%|          | 0/2 [00:00<?, ?it/s]"
      ]
     },
     "metadata": {},
     "output_type": "display_data"
    },
    {
     "data": {
      "application/vnd.jupyter.widget-view+json": {
       "model_id": "9ff1070d93b44bf4ab1b2fb476bb8242",
       "version_major": 2,
       "version_minor": 0
      },
      "text/plain": [
       "Loading checkpoint shards:   0%|          | 0/2 [00:00<?, ?it/s]"
      ]
     },
     "metadata": {},
     "output_type": "display_data"
    },
    {
     "data": {
      "application/vnd.jupyter.widget-view+json": {
       "model_id": "03f11a0330354973a1c324b2b319a699",
       "version_major": 2,
       "version_minor": 0
      },
      "text/plain": [
       "Loading checkpoint shards:   0%|          | 0/2 [00:00<?, ?it/s]"
      ]
     },
     "metadata": {},
     "output_type": "display_data"
    },
    {
     "data": {
      "application/vnd.jupyter.widget-view+json": {
       "model_id": "f7373c2873f7469fb6a219c892aa5626",
       "version_major": 2,
       "version_minor": 0
      },
      "text/plain": [
       "Loading checkpoint shards:   0%|          | 0/2 [00:00<?, ?it/s]"
      ]
     },
     "metadata": {},
     "output_type": "display_data"
    },
    {
     "data": {
      "application/vnd.jupyter.widget-view+json": {
       "model_id": "f2f800d5746248428ea300a6ea4a964b",
       "version_major": 2,
       "version_minor": 0
      },
      "text/plain": [
       "Loading checkpoint shards:   0%|          | 0/2 [00:00<?, ?it/s]"
      ]
     },
     "metadata": {},
     "output_type": "display_data"
    },
    {
     "data": {
      "application/vnd.jupyter.widget-view+json": {
       "model_id": "1a6f96b2512441da9b9afd40fbee20a2",
       "version_major": 2,
       "version_minor": 0
      },
      "text/plain": [
       "Loading checkpoint shards:   0%|          | 0/2 [00:00<?, ?it/s]"
      ]
     },
     "metadata": {},
     "output_type": "display_data"
    },
    {
     "data": {
      "application/vnd.jupyter.widget-view+json": {
       "model_id": "92fa5adadcc24df598538d3e497058b6",
       "version_major": 2,
       "version_minor": 0
      },
      "text/plain": [
       "Loading checkpoint shards:   0%|          | 0/2 [00:00<?, ?it/s]"
      ]
     },
     "metadata": {},
     "output_type": "display_data"
    },
    {
     "data": {
      "application/vnd.jupyter.widget-view+json": {
       "model_id": "f1f1f9e0d325436baabf8d7d2138257e",
       "version_major": 2,
       "version_minor": 0
      },
      "text/plain": [
       "Loading checkpoint shards:   0%|          | 0/2 [00:00<?, ?it/s]"
      ]
     },
     "metadata": {},
     "output_type": "display_data"
    },
    {
     "data": {
      "application/vnd.jupyter.widget-view+json": {
       "model_id": "8b3a0543e882480ca1fa7db4389e9696",
       "version_major": 2,
       "version_minor": 0
      },
      "text/plain": [
       "Loading checkpoint shards:   0%|          | 0/2 [00:00<?, ?it/s]"
      ]
     },
     "metadata": {},
     "output_type": "display_data"
    },
    {
     "name": "stdout",
     "output_type": "stream",
     "text": [
      "{'gt': [[1.0, 0.2580645, 0.48387095, 0.87096775, 0.61290324], [1.0, 0.3611111, 0.6944444, 0.5555556, 0.16666667], [1.0, 0.54545456, 0.36363637, 0.27272728, 0.8484849], [1.0, 0.6333333, 0.9, 0.33333334, 0.46666667], [1.0, 0.5675676, 0.6756757, 0.13513513, 0.3243243], [1.0, 0.7941176, 0.2647059, 0.38235295, 0.5], [1.0, 0.5945946, 0.7567568, 0.21621622, 0.13513513], [1.0, 0.4117647, 0.14705883, 0.61764705, 0.7647059], [1.0, 0.2, 0.6, 0.37142858, 0.6857143], [1.0, 0.3611111, 0.6666667, 0.25, 0.5], [1.0, 0.30769232, 0.6923077, 0.46153846, 0.102564104], [1.0, 0.102564104, 0.46153846, 0.20512821, 0.7948718], [1.0, 0.7894737, 0.13157895, 0.42105263, 0.28947368], [1.0, 0.22580644, 0.48387095, 0.67741936, 0.83870965], [1.0, 0.40625, 0.25, 0.59375, 0.875], [1.0, 0.7714286, 0.2, 0.37142858, 0.51428574], [1.0, 0.5945946, 0.16216215, 0.27027026, 0.6756757], [1.0, 0.6216216, 0.43243244, 0.5135135, 0.13513513], [1.0, 0.53846157, 0.102564104, 0.25641027, 0.6666667], [1.0, 0.10526316, 0.81578946, 0.5, 0.21052632], [1.0, 0.33333334, 0.19444445, 0.8055556, 0.44444445], [1.0, 0.35135135, 0.45945945, 0.6216216, 0.27027026], [1.0, 0.4117647, 0.8235294, 0.14705883, 0.5588235], [1.0, 0.36842105, 0.4473684, 0.23684211, 0.57894737], [1.0, 0.9, 0.7, 0.5, 0.23333333], [1.0, 0.39473686, 0.10526316, 0.2631579, 0.8684211], [1.0, 0.8333333, 0.7, 0.56666666, 0.23333333], [1.0, 0.114285715, 0.31428573, 0.5714286, 0.85714287], [1.0, 0.42424244, 0.6363636, 0.72727275, 0.24242425], [1.0, 0.61764705, 0.23529412, 0.7352941, 0.3529412], [1.0, 0.6060606, 0.24242425, 0.7878788, 0.3939394], [1.0, 0.4848485, 0.6060606, 0.15151516, 0.7878788], [1.0, 0.85714287, 0.2, 0.31428573, 0.4857143], [1.0, 0.51428574, 0.14285715, 0.85714287, 0.34285715], [1.0, 0.65625, 0.1875, 0.4375, 0.84375], [1.0, 0.3611111, 0.75, 0.11111111, 0.5555556], [1.0, 0.9166667, 0.2777778, 0.44444445, 0.1388889], [1.0, 0.10526316, 0.36842105, 0.7105263, 0.4473684], [1.0, 0.9117647, 0.5294118, 0.14705883, 0.3529412], [1.0, 0.6857143, 0.14285715, 0.8, 0.22857143], [1.0, 0.5151515, 0.8787879, 0.21212122, 0.42424244], [1.0, 0.65625, 0.125, 0.5625, 0.78125], [1.0, 0.20588236, 0.9117647, 0.32352942, 0.5], [1.0, 0.625, 0.875, 0.1875, 0.4375], [1.0, 0.102564104, 0.9230769, 0.20512821, 0.33333334], [1.0, 0.5135135, 0.43243244, 0.13513513, 0.6216216], [1.0, 0.38235295, 0.47058824, 0.1764706, 0.9117647], [1.0, 0.10526316, 0.39473686, 0.5, 0.6315789], [1.0, 0.46875, 0.1875, 0.875, 0.59375], [1.0, 0.75, 0.875, 0.375, 0.125], [1.0, 0.51282054, 0.61538464, 0.25641027, 0.17948718], [1.0, 0.5, 0.8333333, 0.7, 0.3], [1.0, 0.17948718, 0.5897436, 0.33333334, 0.46153846], [1.0, 0.72727275, 0.42424244, 0.3030303, 0.57575756], [1.0, 0.38235295, 0.14705883, 0.7941176, 0.61764705]], 'ChatGPT': {'parameters': None, 'raw_answers': ['1.0, 0.2, 0.4, 0.6, 0.8', '1.0, 0.5, 0.4, 0.7, 0.6', '1.0, 0.2, 0.3, 0.4, 0.1', '1.0, 0.6, 0.4, 0.8, 0.2', '1.0, 0.5, 0.3, 0.2, 0.8', '1.0, 0.2, 0.6, 0.4, 0.8', '1.0, 0.2, 0.3, 0.2, 0.3', '1.0, 0.3, 0.5, 0.2, 0.4', '1.0, 0.4, 0.2, 0.2, 0.2', '1.0, 0.6, 0.3, 0.4, 0.7', '1.0, 0.6, 0.4, 0.3, 0.2', '1.0, 0.2, 0.6, 0.4, 0.8', '1.0, 0.2, 0.3, 0.4, 0.5', '1.0, 0.6, 0.4, 0.2, 0.8', '1.0, 0.2, 0.5, 0.3, 0.7', '1.0, 0.2, 0.3, 0.2, 0.3', '1.0, 0.2, 0.3, 0.1, 0.4', '1.0, 0.6, 0.8, 0.3, 0.4', '0.6, 0.3, 0.5, 0.4, 1.0', '1.0, 0.2, 0.2, 0.3, 0.3', '1.0, 0.5, 0.3, 0.2, 0.2', '1.0, 0.5, 0.5, 0.2, 0.2', '1.0, 0.4, 0.25, 0.2, 0.15', '1.0, 0.5, 0.3, 0.2, 0.7', '1.0, 0.7, 0.5, 0.4, 0.4', '1.0, 0.2, 0.6, 0.4, 0.8', '1.0, 0.5, 0.75, 0.25, 0.5', '1.0, 0.2, 0.3, 0.5, 0.7', '1.0, 0.5, 0.3, 0.2, 0.7', '1.0, 0.5, 0.3, 0.2, 0.7', '1.0, 0.3, 0.5, 0.7, 0.2', '1.0, 0.7, 0.5, 0.3, 0.2', '1.0, 0.4, 0.2, 0.2, 0.2', '1.0, 0.5, 0.4, 0.3, 0.2', '1.0, 0.6, 0.2, 0.4, 0.8', '1.0, 0.5, 0.2, 0.7, 0.4', '1.0, 0.8, 0.4, 0.2, 0.6', '1.0, 0.2, 0.5, 0.3, 0.6', '1.0, 0.2, 0.3, 0.5, 0.7', '1.0, 0.5, 0.3, 0.2, 0.6', '1.0, 0.6, 0.4, 0.2, 0.8', '1.0, 0.6, 0.4, 0.3, 0.7', '1.0, 0.4, 0.5, 0.3, 0.2', '1.0, 0.2, 0.6, 0.4, 0.8', '1.0, 0.2, 0.3, 0.2, 0.3', '1.0, 0.6, 0.2, 0.1, 0.1', '1.0, 0.2, 0.5, 0.4, 0.7', '1.0, 0.5, 0.6, 0.3, 0.4', '1.0, 0.2, 0.3, 0.4, 0.5', '1.0, 0.5, 0.2, 0.3, 0.7', '1.0, 0.6, 0.2, 0.1, 0.1', '1.0, 0.2, 0.3, 0.5, 0.6', '1.0, 0.6, 0.4, 0.7, 0.3', '1.0, 0.5, 0.4, 0.2, 0.8', '1.0, 0.6, 0.4, 0.3, 0.7'], 'parsed_answers': [[1.0, 0.2, 0.4, 0.6, 0.8], [1.0, 0.5, 0.4, 0.7, 0.6], [1.0, 0.2, 0.3, 0.4, 0.1], [1.0, 0.6, 0.4, 0.8, 0.2], [1.0, 0.5, 0.3, 0.2, 0.8], [1.0, 0.2, 0.6, 0.4, 0.8], [1.0, 0.2, 0.3, 0.2, 0.3], [1.0, 0.3, 0.5, 0.2, 0.4], [1.0, 0.4, 0.2, 0.2, 0.2], [1.0, 0.6, 0.3, 0.4, 0.7], [1.0, 0.6, 0.4, 0.3, 0.2], [1.0, 0.2, 0.6, 0.4, 0.8], [1.0, 0.2, 0.3, 0.4, 0.5], [1.0, 0.6, 0.4, 0.2, 0.8], [1.0, 0.2, 0.5, 0.3, 0.7], [1.0, 0.2, 0.3, 0.2, 0.3], [1.0, 0.2, 0.3, 0.1, 0.4], [1.0, 0.6, 0.8, 0.3, 0.4], [0.6, 0.3, 0.5, 0.4, 1.0], [1.0, 0.2, 0.2, 0.3, 0.3], [1.0, 0.5, 0.3, 0.2, 0.2], [1.0, 0.5, 0.5, 0.2, 0.2], [1.0, 0.4, 0.25, 0.2, 0.15], [1.0, 0.5, 0.3, 0.2, 0.7], [1.0, 0.7, 0.5, 0.4, 0.4], [1.0, 0.2, 0.6, 0.4, 0.8], [1.0, 0.5, 0.75, 0.25, 0.5], [1.0, 0.2, 0.3, 0.5, 0.7], [1.0, 0.5, 0.3, 0.2, 0.7], [1.0, 0.5, 0.3, 0.2, 0.7], [1.0, 0.3, 0.5, 0.7, 0.2], [1.0, 0.7, 0.5, 0.3, 0.2], [1.0, 0.4, 0.2, 0.2, 0.2], [1.0, 0.5, 0.4, 0.3, 0.2], [1.0, 0.6, 0.2, 0.4, 0.8], [1.0, 0.5, 0.2, 0.7, 0.4], [1.0, 0.8, 0.4, 0.2, 0.6], [1.0, 0.2, 0.5, 0.3, 0.6], [1.0, 0.2, 0.3, 0.5, 0.7], [1.0, 0.5, 0.3, 0.2, 0.6], [1.0, 0.6, 0.4, 0.2, 0.8], [1.0, 0.6, 0.4, 0.3, 0.7], [1.0, 0.4, 0.5, 0.3, 0.2], [1.0, 0.2, 0.6, 0.4, 0.8], [1.0, 0.2, 0.3, 0.2, 0.3], [1.0, 0.6, 0.2, 0.1, 0.1], [1.0, 0.2, 0.5, 0.4, 0.7], [1.0, 0.5, 0.6, 0.3, 0.4], [1.0, 0.2, 0.3, 0.4, 0.5], [1.0, 0.5, 0.2, 0.3, 0.7], [1.0, 0.6, 0.2, 0.1, 0.1], [1.0, 0.2, 0.3, 0.5, 0.6], [1.0, 0.6, 0.4, 0.7, 0.3], [1.0, 0.5, 0.4, 0.2, 0.8], [1.0, 0.6, 0.4, 0.3, 0.7]], 'mean': None, 'std': None, 'mse': 0.07057385541074455, 'mlae': 4.29354778513255, 'times': [1768.1972980499268, 13911.450386047363, 21178.865909576416, 19293.88999938965, 9407.310485839844, 9155.54165840149, 9524.484157562256, 4515.601873397827, 1558.0775737762451, 7673.938512802124, 14260.091304779053, 5583.545207977295, 1459.3918323516846, 1513.3569240570068, 8109.278678894043, 5052.774429321289, 4916.311502456665, 9196.412563323975, 8092.21076965332, 11404.857397079468, 1337.40234375, 1554.9113750457764, 4611.583232879639, 1649.1177082061768, 1387.1991634368896, 12180.647373199463, 5344.609498977661, 2516.101837158203, 2721.498489379883, 1372.4722862243652, 1654.3171405792236, 1871.889352798462, 1325.6187438964844, 4806.100368499756, 1529.3853282928467, 1888.146162033081, 24846.285104751587, 7471.645832061768, 1804.8171997070312, 1521.855354309082, 7894.693374633789, 13103.715896606445, 4743.167877197266, 1748.131513595581, 5013.409614562988, 4702.8045654296875, 1338.2692337036133, 6772.56441116333, 1416.862964630127, 35926.59330368042, 2203.5646438598633, 1546.6437339782715, 1885.5078220367432, 9395.377159118652, 1569.8299407958984], 'forced_repetitions': 64}, 'LLaVA': {'parameters': None, 'raw_answers': ['The largest portion of the pie is 1.0, and the other portions are 0.2, 0.4, 0.6, and 0.8.', 'The largest portion of the pie is 1.0, and the other portions are 0.2, 0.4, 0.6, and 0.8.', 'The largest portion of the pie is 1.0, and the other portions are 0.2, 0.4, 0.6, and 0.8.', 'The largest portion of the pie is 1.0, and the other portions are 0.2, 0.4, 0.6, and 0.8.', 'The largest portion of the pie is 1.0, and the other portions are 0.2, 0.4, 0.6, and 0.8.', 'The largest portion of the pie is 1.0, and the other portions are 0.2, 0.4, 0.6, and 0.8.', 'The largest portion of the pie is 1.0, and the other portions are 0.2, 0.4, 0.6, and 0.8.', 'The largest portion of the pie is 1.0, and the other portions are 0.2, 0.4, 0.6, and 0.8.', 'The largest portion of the pie is 1.0, and the other portions are 0.2, 0.4, 0.6, and 0.8.', 'The largest portion of the pie is 1.0, and the other portions are 0.2, 0.4, 0.6, and 0.8.', 'The largest portion of the pie is 1.0, and the other portions are 0.2, 0.4, 0.6, and 0.8.', 'The largest portion of the pie is 1.0, and the other portions are 0.2, 0.4, 0.6, and 0.8.', 'The largest portion of the pie is 1.0, and the other portions are 0.2, 0.4, 0.6, and 0.8.', 'The largest portion of the pie is 1.0, and the other portions are 0.2, 0.4, 0.6, and 0.8.', 'The largest portion of the pie is 1.0, and the other portions are 0.2, 0.4, 0.6, and 0.8.', 'The largest portion of the pie is 1.0, and the other portions are 0.2, 0.4, 0.6, and 0.8.', 'The largest portion of the pie is 1.0, and the other portions are 0.2, 0.4, 0.6, and 0.8.', 'The largest portion of the pie is 1.0, and the other portions are 0.2, 0.4, 0.6, and 0.8.', 'The largest portion of the pie is 1.0, and the other portions are 0.2, 0.4, 0.6, and 0.8.', 'The largest portion of the pie is 1.0, and the other portions are 0.2, 0.4, 0.6, and 0.8.', 'The largest portion of the pie is 1.0, and the other portions are 0.2, 0.4, 0.6, and 0.8.', 'The largest portion of the pie is 1.0, and the other portions are 0.2, 0.4, 0.6, and 0.8.', 'The largest portion of the pie is 1.0, and the other portions are 0.2, 0.4, 0.6, and 0.8.', 'The largest portion of the pie is 1.0, and the other portions are 0.2, 0.4, 0.6, and 0.8.', 'The largest portion of the pie is 1.0, and the other portions are 0.2, 0.4, 0.6, and 0.8.', 'The largest portion of the pie is 1.0, and the other portions are 0.2, 0.4, 0.6, and 0.8.', 'The largest portion of the pie is 1.0, and the other portions are 0.2, 0.4, 0.6, and 0.8.', 'The largest portion of the pie is 1.0, and the other portions are 0.2, 0.4, 0.6, and 0.8.', 'The largest portion of the pie is 1.0, and the other portions are 0.2, 0.4, 0.6, and 0.8.', 'The largest portion of the pie is 1.0, and the other portions are 0.2, 0.4, 0.6, and 0.8.', 'The largest portion of the pie is 1.0, and the other portions are 0.5, 0.33, 0.67, and 0.83.', 'The largest portion of the pie is 1.0, and the other portions are 0.2, 0.4, 0.6, and 0.8.', 'The largest portion of the pie is 1.0, and the other portions are 0.2, 0.4, 0.6, and 0.8.', 'The largest portion of the pie is 1.0, and the other portions are 0.2, 0.4, 0.6, and 0.8.', 'The largest portion of the pie is 1.0, and the other portions are 0.2, 0.4, 0.6, and 0.8.', 'The largest portion of the pie is 1.0, and the other portions are 0.2, 0.4, 0.6, and 0.8.', 'The largest portion of the pie is 1.0, and the other portions are 0.2, 0.4, 0.6, and 0.8.', 'The largest portion of the pie is 1.0, and the other portions are 0.2, 0.4, 0.6, and 0.8.', 'The largest portion of the pie is 1.0, and the other portions are 0.2, 0.4, 0.6, and 0.8.', 'The largest portion of the pie is 1.0, and the other portions are 0.2, 0.4, 0.6, and 0.8.', 'The largest portion of the pie is 1.0, and the other portions are 0.2, 0.4, 0.6, and 0.8.', 'The largest portion of the pie is 1.0, and the other portions are 0.2, 0.4, 0.6, and 0.8.', 'The largest portion of the pie is 1.0, and the other portions are 0.2, 0.4, 0.6, and 0.8.', 'The largest portion of the pie is 1.0, and the other portions are 0.2, 0.4, 0.6, and 0.8.', 'The largest portion of the pie is 1.0, and the other portions are 0.2, 0.4, 0.6, and 0.8.', 'The largest portion of the pie is 1.0, and the other portions are 0.2, 0.4, 0.6, and 0.8.', 'The largest portion of the pie is 1.0, and the other portions are 0.2, 0.4, 0.6, and 0.8.', 'The largest portion of the pie is 1.0, and the other portions are 0.2, 0.4, 0.6, and 0.8.', 'The largest portion of the pie is 1.0, and the other portions are 0.2, 0.4, 0.6, and 0.8.', 'The largest portion of the pie is 1.0, and the other portions are 0.2, 0.4, 0.6, and 0.8.', 'The largest portion of the pie is 1.0, and the other portions are 0.2, 0.4, 0.6, and 0.8.', 'The largest portion of the pie is 1.0, and the other portions are 0.2, 0.4, 0.6, and 0.8.', 'The largest portion of the pie is 1.0, and the other portions are 0.2, 0.4, 0.6, and 0.8.', 'The largest portion of the pie is 1.0, and the other portions are 0.5, 0.33, 0.67, and 0.83.', 'The largest portion of the pie is 1.0, and the other portions are 0.5, 0.33, 0.25, and 0.17.'], 'parsed_answers': [[1.0, 0.2, 0.4, 0.6, 0.8], [1.0, 0.2, 0.4, 0.6, 0.8], [1.0, 0.2, 0.4, 0.6, 0.8], [1.0, 0.2, 0.4, 0.6, 0.8], [1.0, 0.2, 0.4, 0.6, 0.8], [1.0, 0.2, 0.4, 0.6, 0.8], [1.0, 0.2, 0.4, 0.6, 0.8], [1.0, 0.2, 0.4, 0.6, 0.8], [1.0, 0.2, 0.4, 0.6, 0.8], [1.0, 0.2, 0.4, 0.6, 0.8], [1.0, 0.2, 0.4, 0.6, 0.8], [1.0, 0.2, 0.4, 0.6, 0.8], [1.0, 0.2, 0.4, 0.6, 0.8], [1.0, 0.2, 0.4, 0.6, 0.8], [1.0, 0.2, 0.4, 0.6, 0.8], [1.0, 0.2, 0.4, 0.6, 0.8], [1.0, 0.2, 0.4, 0.6, 0.8], [1.0, 0.2, 0.4, 0.6, 0.8], [1.0, 0.2, 0.4, 0.6, 0.8], [1.0, 0.2, 0.4, 0.6, 0.8], [1.0, 0.2, 0.4, 0.6, 0.8], [1.0, 0.2, 0.4, 0.6, 0.8], [1.0, 0.2, 0.4, 0.6, 0.8], [1.0, 0.2, 0.4, 0.6, 0.8], [1.0, 0.2, 0.4, 0.6, 0.8], [1.0, 0.2, 0.4, 0.6, 0.8], [1.0, 0.2, 0.4, 0.6, 0.8], [1.0, 0.2, 0.4, 0.6, 0.8], [1.0, 0.2, 0.4, 0.6, 0.8], [1.0, 0.2, 0.4, 0.6, 0.8], [1.0, 0.5, 0.33, 0.67, 0.83], [1.0, 0.2, 0.4, 0.6, 0.8], [1.0, 0.2, 0.4, 0.6, 0.8], [1.0, 0.2, 0.4, 0.6, 0.8], [1.0, 0.2, 0.4, 0.6, 0.8], [1.0, 0.2, 0.4, 0.6, 0.8], [1.0, 0.2, 0.4, 0.6, 0.8], [1.0, 0.2, 0.4, 0.6, 0.8], [1.0, 0.2, 0.4, 0.6, 0.8], [1.0, 0.2, 0.4, 0.6, 0.8], [1.0, 0.2, 0.4, 0.6, 0.8], [1.0, 0.2, 0.4, 0.6, 0.8], [1.0, 0.2, 0.4, 0.6, 0.8], [1.0, 0.2, 0.4, 0.6, 0.8], [1.0, 0.2, 0.4, 0.6, 0.8], [1.0, 0.2, 0.4, 0.6, 0.8], [1.0, 0.2, 0.4, 0.6, 0.8], [1.0, 0.2, 0.4, 0.6, 0.8], [1.0, 0.2, 0.4, 0.6, 0.8], [1.0, 0.2, 0.4, 0.6, 0.8], [1.0, 0.2, 0.4, 0.6, 0.8], [1.0, 0.2, 0.4, 0.6, 0.8], [1.0, 0.2, 0.4, 0.6, 0.8], [1.0, 0.5, 0.33, 0.67, 0.83], [1.0, 0.5, 0.33, 0.25, 0.17]], 'mean': None, 'std': None, 'mse': 0.08704881387697097, 'mlae': 4.47258901326584, 'times': [21886.180877685547, 8022.576332092285, 8806.18929862976, 7615.114688873291, 7727.748394012451, 7694.39697265625, 7701.455116271973, 7781.146049499512, 7653.62024307251, 8715.477228164673, 8385.372638702393, 7949.380874633789, 7749.905586242676, 7547.421455383301, 8003.229379653931, 7870.453119277954, 7813.090085983276, 7717.794895172119, 7754.602432250977, 7703.79114151001, 7774.924039840698, 7853.276968002319, 7753.1023025512695, 7745.865106582642, 7781.0680866241455, 7775.8190631866455, 7835.151672363281, 7734.33518409729, 7848.5541343688965, 7671.035051345825, 7772.170543670654, 7755.511999130249, 7920.3925132751465, 7712.937355041504, 8216.30883216858, 7716.087579727173, 8182.279109954834, 7829.364538192749, 7861.487150192261, 7765.436887741089, 7682.733058929443, 7818.833589553833, 8255.665063858032, 8148.960113525391, 7766.127347946167, 7820.965766906738, 7745.920896530151, 7753.536939620972, 8480.097770690918, 7750.506162643433, 7761.60740852356, 7793.797969818115, 7783.938646316528, 8035.019159317017, 8125.878810882568], 'forced_repetitions': 0}, 'CustomLLaVA': {'parameters': None, 'raw_answers': ['[1.0, 0.3125, 0.6875, 0.1875, 0.75]', '[1.0, 0.6111111, 0.11111111, 0.7777778, 0.44444445]', '[1.0, 0.45454547, 0.3030303, 0.8383838, 0.3838384]', '[1.0, 0.5483871, 0.1548387, 0.78387095, 0.48387095]', '[1.0, 0.35135135, 0.13513513, 0.75135135, 0.5135135]', '[1.0, 0.46153846, 0.15384616, 0.84615385, 0.61538464]', '[1.0, 0.45454547, 0.27272728, 0.8181818, 0.6464646]', '[1.0, 0.57894737, 0.15384616, 0.46153846, 0.84615385]', '[1.0, 0.46153846, 0.12820514, 0.7297368, 0.61538464]', '[1.0, 0.3125, 0.875, 0.1875, 0.6875]', '[1.0, 0.37142858, 0.5882353, 0.8235294, 0.14285715]', '[1.0, 0.6363636, 0.13131313, 0.5858586, 0.45454547]', '[1.0, 0.3125, 0.6875, 0.1875, 0.875]', '[1.0, 0.39130435, 0.102564104, 0.84615386, 0.61538464]', '[1.0, 0.8125, 0.15625, 0.375, 0.6875]', '[1.0, 0.47368422, 0.15384616, 0.68421054, 0.84210527]', '[1.0, 0.1764706, 0.47058824, 0.61538464, 0.7647059]', '[1.0, 0.31428573, 0.14285715, 0.6857143, 0.5714286]', '[1.0, 0.30769232, 0.1891892, 0.7692308, 0.5625]', '[1.0, 0.3243243, 0.43243244, 0.18181819, 0.6868182]', '[1.0, 0.375, 0.6875, 0.15625, 0.75]', '[1.0, 0.47368422, 0.102564104, 0.84210527, 0.36842105]', '[1.0, 0.37142858, 0.54285715, 0.14285715, 0.85714287]', '[1.0, 0.375, 0.6875, 0.15625, 0.875]', '[1.0, 0.84615386, 0.2631579, 0.31578947, 0.102564104]', '[1.0, 0.46153846, 0.12820514, 0.82051283, 0.61538464]', '[1.0, 0.39473686, 0.13513513, 0.73684211, 0.5135135]', '[1.0, 0.3125, 0.625, 0.1875, 0.875]', '[1.0, 0.8125, 0.1875, 0.625, 0.46875]', '[1.0, 0.375, 0.6875, 0.5625, 0.1875]', '[1.0, 0.84210527, 0.42105263, 0.15789473, 0.34210527]', '[1.0, 0.46875, 0.6875, 0.15625, 0.875]', '[1.0, 0.47368422, 0.1891892, 0.73684211, 0.61538464]', '[1.0, 0.47368422, 0.102564104, 0.84210527, 0.36842105]', '[1.0, 0.375, 0.15625, 0.875, 0.625]', '[1.0, 0.3846154, 0.5135135, 0.84615386, 0.13513513]', '[1.0, 0.4117647, 0.1764706, 0.8378378, 0.3783784]', '[1.0, 0.46153846, 0.12820514, 0.68421054, 0.84210517]', '[1.0, 0.46153846, 0.15384616, 0.68421054, 0.84210527]', '[1.0, 0.34375, 0.6875, 0.15625, 0.78125]', '[1.0, 0.46875, 0.1875, 0.875, 0.6875]', '[1.0, 0.3125, 0.875, 0.15625, 0.625]', '[1.0, 0.5769232, 0.1891892, 0.8918919, 0.46153846]', '[1.0, 0.57894737, 0.102564104, 0.41025642, 0.81025642]', '[1.0, 0.23076923, 0.5483871, 0.102564104, 0.7692308]', '[1.0, 0.46153846, 0.12820514, 0.66153846, 0.82051283]', '[1.0, 0.375, 0.875, 0.6875, 0.5625]', '[1.0, 0.45945945, 0.10810811, 0.8108108, 0.61538464]', '[1.0, 0.5483871, 0.15384616, 0.46153847, 0.84615386]', '[1.0, 0.68421054, 0.15384616, 0.2631579, 0.53846157]', '[1.0, 0.3846154, 0.102564104, 0.84615386, 0.25641027]', '[1.0, 0.5769232, 0.15384616, 0.7692308, 0.46153846]', '[1.0, 0.5483871, 0.21052632, 0.83870965, 0.38709676]', '[1.0, 0.34285715, 0.15384616, 0.5714286, 0.71428574]', '[1.0, 0.27027026, 0.65656566, 0.7027027, 0.45454547]'], 'parsed_answers': [[1.0, 0.3125, 0.6875, 0.1875, 0.75], [1.0, 0.6111111, 0.11111111, 0.7777778, 0.44444445], [1.0, 0.45454547, 0.3030303, 0.8383838, 0.3838384], [1.0, 0.5483871, 0.1548387, 0.78387095, 0.48387095], [1.0, 0.35135135, 0.13513513, 0.75135135, 0.5135135], [1.0, 0.46153846, 0.15384616, 0.84615385, 0.61538464], [1.0, 0.45454547, 0.27272728, 0.8181818, 0.6464646], [1.0, 0.57894737, 0.15384616, 0.46153846, 0.84615385], [1.0, 0.46153846, 0.12820514, 0.7297368, 0.61538464], [1.0, 0.3125, 0.875, 0.1875, 0.6875], [1.0, 0.37142858, 0.5882353, 0.8235294, 0.14285715], [1.0, 0.6363636, 0.13131313, 0.5858586, 0.45454547], [1.0, 0.3125, 0.6875, 0.1875, 0.875], [1.0, 0.39130435, 0.102564104, 0.84615386, 0.61538464], [1.0, 0.8125, 0.15625, 0.375, 0.6875], [1.0, 0.47368422, 0.15384616, 0.68421054, 0.84210527], [1.0, 0.1764706, 0.47058824, 0.61538464, 0.7647059], [1.0, 0.31428573, 0.14285715, 0.6857143, 0.5714286], [1.0, 0.30769232, 0.1891892, 0.7692308, 0.5625], [1.0, 0.3243243, 0.43243244, 0.18181819, 0.6868182], [1.0, 0.375, 0.6875, 0.15625, 0.75], [1.0, 0.47368422, 0.102564104, 0.84210527, 0.36842105], [1.0, 0.37142858, 0.54285715, 0.14285715, 0.85714287], [1.0, 0.375, 0.6875, 0.15625, 0.875], [1.0, 0.84615386, 0.2631579, 0.31578947, 0.102564104], [1.0, 0.46153846, 0.12820514, 0.82051283, 0.61538464], [1.0, 0.39473686, 0.13513513, 0.73684211, 0.5135135], [1.0, 0.3125, 0.625, 0.1875, 0.875], [1.0, 0.8125, 0.1875, 0.625, 0.46875], [1.0, 0.375, 0.6875, 0.5625, 0.1875], [1.0, 0.84210527, 0.42105263, 0.15789473, 0.34210527], [1.0, 0.46875, 0.6875, 0.15625, 0.875], [1.0, 0.47368422, 0.1891892, 0.73684211, 0.61538464], [1.0, 0.47368422, 0.102564104, 0.84210527, 0.36842105], [1.0, 0.375, 0.15625, 0.875, 0.625], [1.0, 0.3846154, 0.5135135, 0.84615386, 0.13513513], [1.0, 0.4117647, 0.1764706, 0.8378378, 0.3783784], [1.0, 0.46153846, 0.12820514, 0.68421054, 0.84210517], [1.0, 0.46153846, 0.15384616, 0.68421054, 0.84210527], [1.0, 0.34375, 0.6875, 0.15625, 0.78125], [1.0, 0.46875, 0.1875, 0.875, 0.6875], [1.0, 0.3125, 0.875, 0.15625, 0.625], [1.0, 0.5769232, 0.1891892, 0.8918919, 0.46153846], [1.0, 0.57894737, 0.102564104, 0.41025642, 0.81025642], [1.0, 0.23076923, 0.5483871, 0.102564104, 0.7692308], [1.0, 0.46153846, 0.12820514, 0.66153846, 0.82051283], [1.0, 0.375, 0.875, 0.6875, 0.5625], [1.0, 0.45945945, 0.10810811, 0.8108108, 0.61538464], [1.0, 0.5483871, 0.15384616, 0.46153847, 0.84615386], [1.0, 0.68421054, 0.15384616, 0.2631579, 0.53846157], [1.0, 0.3846154, 0.102564104, 0.84615386, 0.25641027], [1.0, 0.5769232, 0.15384616, 0.7692308, 0.46153846], [1.0, 0.5483871, 0.21052632, 0.83870965, 0.38709676], [1.0, 0.34285715, 0.15384616, 0.5714286, 0.71428574], [1.0, 0.27027026, 0.65656566, 0.7027027, 0.45454547]], 'mean': None, 'std': None, 'mse': 0.09424923368323619, 'mlae': 4.502996303816556, 'times': [10858.745813369751, 10180.448055267334, 10292.128801345825, 10300.241470336914, 10391.656637191772, 10287.590742111206, 10306.732177734375, 10285.795450210571, 10347.819328308105, 9819.21672821045, 10197.210550308228, 10300.470352172852, 10646.737098693848, 10850.024223327637, 9968.485832214355, 10352.710485458374, 11204.493522644043, 10476.733207702637, 10275.982856750488, 10433.953046798706, 9813.40765953064, 10508.089303970337, 10511.45339012146, 10083.613395690918, 10292.286396026611, 10540.616035461426, 10234.515905380249, 10157.279968261719, 10099.557876586914, 9809.844255447388, 10293.374300003052, 9858.116626739502, 10380.833625793457, 10245.590209960938, 9812.913179397583, 10929.357767105103, 11097.928047180176, 10713.453769683838, 10289.986610412598, 10107.508897781372, 10693.656921386719, 9923.21801185608, 10303.051710128784, 11183.762550354004, 10534.729957580566, 10333.192586898804, 10975.223779678345, 10220.985174179077, 10936.544418334961, 10420.830011367798, 10206.819295883179, 10248.487949371338, 10392.145156860352, 10220.723867416382, 10190.678596496582], 'forced_repetitions': 0}}\n"
     ]
    }
   ],
   "source": [
    "import sys\n",
    "sys.path.append('../')\n",
    "import LLMP as L\n",
    "import torch\n",
    "torch.torch.cuda.empty_cache()\n",
    "\n",
    "query = \"What do you see? There are 5 portions in the pie, and the largest one has a dot inside. Say the size of the largest portion is 1.0. \\\n",
    "        Give me the ratio of size of each portion to the largest portion. The value should be from 0 to 1. First tell me the ratio of the LARGEST PORTION \\\n",
    "         (which is 1.0) and keep going counter-clockwise and tell me the ratio of each portion. Do this until you see the largest portion again. \\\n",
    "         You should see 5 portinos in total. Give me the just 5 numbers--the first value should be 1.0.\"\n",
    "images = [L.GPImage.figure3('pie') for i in range(55)]\n",
    "models = [\"ChatGPT\", \"LLaVA\", \"CustomLLaVA\"]\n",
    "\n",
    "results = L.Evaluator2.run(images, query, models)\n",
    "print(results)"
   ]
  },
  {
   "cell_type": "code",
   "execution_count": 2,
   "id": "2663a2f4-4478-4518-8a68-644e1b452fd5",
   "metadata": {},
   "outputs": [],
   "source": [
    "chatGPT_mse = results[\"ChatGPT\"][\"mse\"]\n",
    "chatGPT_mlae = results[\"ChatGPT\"][\"mlae\"]\n",
    "chatGPT_mean = results[\"ChatGPT\"][\"mean\"]\n",
    "chatGPT_std = results[\"ChatGPT\"][\"std\"]\n",
    "llava_mse = results[\"LLaVA\"][\"mse\"]\n",
    "llava_mlae = results[\"LLaVA\"][\"mlae\"]\n",
    "llava_mean = results[\"LLaVA\"][\"mean\"]\n",
    "llava_std = results[\"LLaVA\"][\"std\"]\n",
    "custom_llava_mse = results[\"CustomLLaVA\"][\"mse\"]\n",
    "custom_llava_mlae = results[\"CustomLLaVA\"][\"mlae\"]\n",
    "custom_llava_mean = results[\"CustomLLaVA\"][\"mean\"]\n",
    "custom_llava_std = results[\"CustomLLaVA\"][\"std\"]"
   ]
  },
  {
   "cell_type": "code",
   "execution_count": 3,
   "id": "c9e7b876-09b6-4c99-a256-2b1a96b10790",
   "metadata": {},
   "outputs": [
    {
     "name": "stdout",
     "output_type": "stream",
     "text": [
      "ChatGPT mse:  0.07057385541074455\n",
      "ChatGPT mlae: 4.29354778513255\n",
      "ChatGPT mean: None\n",
      "ChatGPT std: None\n",
      "LLaVA mse:    0.08704881387697097\n",
      "LLaVA mlae:   4.47258901326584\n",
      "LLaVA mean:   None\n",
      "LLaVA std:   None\n",
      "CLLaVA mse:   0.09424923368323619\n",
      "CLLaVA mlae:  4.502996303816556\n",
      "CLLaVA mean:  None\n",
      "CLLaVA std:  None\n"
     ]
    }
   ],
   "source": [
    "print(\"ChatGPT mse: \", chatGPT_mse)\n",
    "print(\"ChatGPT mlae:\", chatGPT_mlae)\n",
    "print(\"ChatGPT mean:\", chatGPT_mean)\n",
    "print(\"ChatGPT std:\", chatGPT_std)\n",
    "print(\"LLaVA mse:   \", llava_mse)\n",
    "print(\"LLaVA mlae:  \", llava_mlae)\n",
    "print(\"LLaVA mean:  \", llava_mean)\n",
    "print(\"LLaVA std:  \", llava_std)\n",
    "print(\"CLLaVA mse:  \", custom_llava_mse)\n",
    "print(\"CLLaVA mlae: \", custom_llava_mlae)\n",
    "print(\"CLLaVA mean: \", custom_llava_mean)\n",
    "print(\"CLLaVA std: \", custom_llava_std)"
   ]
  },
  {
   "cell_type": "code",
   "execution_count": null,
   "id": "d271518b-0481-4273-937c-86f868964bda",
   "metadata": {},
   "outputs": [],
   "source": []
  }
 ],
 "metadata": {
  "kernelspec": {
   "display_name": "Python 3 (ipykernel)",
   "language": "python",
   "name": "python3"
  },
  "language_info": {
   "codemirror_mode": {
    "name": "ipython",
    "version": 3
   },
   "file_extension": ".py",
   "mimetype": "text/x-python",
   "name": "python",
   "nbconvert_exporter": "python",
   "pygments_lexer": "ipython3",
   "version": "3.11.7"
  }
 },
 "nbformat": 4,
 "nbformat_minor": 5
}
