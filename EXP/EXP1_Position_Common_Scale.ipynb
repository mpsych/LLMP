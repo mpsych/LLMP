{
 "cells": [
  {
   "cell_type": "code",
   "execution_count": 1,
   "id": "c5c9fa76-f1ad-4f13-9214-28b49b1b832e",
   "metadata": {},
   "outputs": [
    {
     "name": "stdout",
     "output_type": "stream",
     "text": [
      "[2024-04-28 09:02:24,384] [INFO] [real_accelerator.py:191:get_accelerator] Setting ds_accelerator to cuda (auto detect)\n"
     ]
    },
    {
     "name": "stderr",
     "output_type": "stream",
     "text": [
      "You are using a model of type llava to instantiate a model of type llava_llama. This is not supported for all configurations of models and can yield errors.\n"
     ]
    },
    {
     "data": {
      "application/vnd.jupyter.widget-view+json": {
       "model_id": "f23f06efeea74eeeb2e42cdac03acd78",
       "version_major": 2,
       "version_minor": 0
      },
      "text/plain": [
       "Loading checkpoint shards:   0%|          | 0/2 [00:00<?, ?it/s]"
      ]
     },
     "metadata": {},
     "output_type": "display_data"
    },
    {
     "name": "stderr",
     "output_type": "stream",
     "text": [
      "/home/kenichi.maeda001/anaconda3/envs/LLMP/lib/python3.11/site-packages/transformers/generation/configuration_utils.py:389: UserWarning: `do_sample` is set to `False`. However, `temperature` is set to `0` -- this flag is only used in sample-based generation modes. You should set `do_sample=True` or unset `temperature`.\n",
      "  warnings.warn(\n",
      "/home/kenichi.maeda001/anaconda3/envs/LLMP/lib/python3.11/site-packages/transformers/generation/configuration_utils.py:394: UserWarning: `do_sample` is set to `False`. However, `top_p` is set to `None` -- this flag is only used in sample-based generation modes. You should set `do_sample=True` or unset `top_p`.\n",
      "  warnings.warn(\n",
      "You are using a model of type llava to instantiate a model of type llava_llama. This is not supported for all configurations of models and can yield errors.\n"
     ]
    },
    {
     "data": {
      "application/vnd.jupyter.widget-view+json": {
       "model_id": "bd76af9d8afc483587290f4b59397e09",
       "version_major": 2,
       "version_minor": 0
      },
      "text/plain": [
       "Loading checkpoint shards:   0%|          | 0/2 [00:00<?, ?it/s]"
      ]
     },
     "metadata": {},
     "output_type": "display_data"
    },
    {
     "name": "stderr",
     "output_type": "stream",
     "text": [
      "You are using a model of type llava to instantiate a model of type llava_llama. This is not supported for all configurations of models and can yield errors.\n"
     ]
    },
    {
     "data": {
      "application/vnd.jupyter.widget-view+json": {
       "model_id": "403ce35f301d4688a52879a3596c40c2",
       "version_major": 2,
       "version_minor": 0
      },
      "text/plain": [
       "Loading checkpoint shards:   0%|          | 0/2 [00:00<?, ?it/s]"
      ]
     },
     "metadata": {},
     "output_type": "display_data"
    },
    {
     "name": "stderr",
     "output_type": "stream",
     "text": [
      "You are using a model of type llava to instantiate a model of type llava_llama. This is not supported for all configurations of models and can yield errors.\n"
     ]
    },
    {
     "data": {
      "application/vnd.jupyter.widget-view+json": {
       "model_id": "92f689ad91614fa6b48f81c46c0b2014",
       "version_major": 2,
       "version_minor": 0
      },
      "text/plain": [
       "Loading checkpoint shards:   0%|          | 0/2 [00:00<?, ?it/s]"
      ]
     },
     "metadata": {},
     "output_type": "display_data"
    },
    {
     "name": "stderr",
     "output_type": "stream",
     "text": [
      "You are using a model of type llava to instantiate a model of type llava_llama. This is not supported for all configurations of models and can yield errors.\n"
     ]
    },
    {
     "data": {
      "application/vnd.jupyter.widget-view+json": {
       "model_id": "9014e30a9a884c01966b76555f3c737c",
       "version_major": 2,
       "version_minor": 0
      },
      "text/plain": [
       "Loading checkpoint shards:   0%|          | 0/2 [00:00<?, ?it/s]"
      ]
     },
     "metadata": {},
     "output_type": "display_data"
    },
    {
     "name": "stderr",
     "output_type": "stream",
     "text": [
      "You are using a model of type llava to instantiate a model of type llava_llama. This is not supported for all configurations of models and can yield errors.\n"
     ]
    },
    {
     "data": {
      "application/vnd.jupyter.widget-view+json": {
       "model_id": "d687762133d241c19b6c9b4c85b88a4c",
       "version_major": 2,
       "version_minor": 0
      },
      "text/plain": [
       "Loading checkpoint shards:   0%|          | 0/2 [00:00<?, ?it/s]"
      ]
     },
     "metadata": {},
     "output_type": "display_data"
    },
    {
     "name": "stderr",
     "output_type": "stream",
     "text": [
      "You are using a model of type llava to instantiate a model of type llava_llama. This is not supported for all configurations of models and can yield errors.\n"
     ]
    },
    {
     "data": {
      "application/vnd.jupyter.widget-view+json": {
       "model_id": "b83dfbc6e470449e8daeab2e91bad804",
       "version_major": 2,
       "version_minor": 0
      },
      "text/plain": [
       "Loading checkpoint shards:   0%|          | 0/2 [00:00<?, ?it/s]"
      ]
     },
     "metadata": {},
     "output_type": "display_data"
    },
    {
     "name": "stderr",
     "output_type": "stream",
     "text": [
      "You are using a model of type llava to instantiate a model of type llava_llama. This is not supported for all configurations of models and can yield errors.\n"
     ]
    },
    {
     "data": {
      "application/vnd.jupyter.widget-view+json": {
       "model_id": "b28048b8ac704a54bca5f855af4acd7a",
       "version_major": 2,
       "version_minor": 0
      },
      "text/plain": [
       "Loading checkpoint shards:   0%|          | 0/2 [00:00<?, ?it/s]"
      ]
     },
     "metadata": {},
     "output_type": "display_data"
    },
    {
     "name": "stderr",
     "output_type": "stream",
     "text": [
      "You are using a model of type llava to instantiate a model of type llava_llama. This is not supported for all configurations of models and can yield errors.\n"
     ]
    },
    {
     "data": {
      "application/vnd.jupyter.widget-view+json": {
       "model_id": "47f530fd8a7943009c261c954e94dc81",
       "version_major": 2,
       "version_minor": 0
      },
      "text/plain": [
       "Loading checkpoint shards:   0%|          | 0/2 [00:00<?, ?it/s]"
      ]
     },
     "metadata": {},
     "output_type": "display_data"
    },
    {
     "name": "stderr",
     "output_type": "stream",
     "text": [
      "You are using a model of type llava to instantiate a model of type llava_llama. This is not supported for all configurations of models and can yield errors.\n"
     ]
    },
    {
     "data": {
      "application/vnd.jupyter.widget-view+json": {
       "model_id": "852e4b19856c48a28e0f57bb562d34d4",
       "version_major": 2,
       "version_minor": 0
      },
      "text/plain": [
       "Loading checkpoint shards:   0%|          | 0/2 [00:00<?, ?it/s]"
      ]
     },
     "metadata": {},
     "output_type": "display_data"
    },
    {
     "name": "stderr",
     "output_type": "stream",
     "text": [
      "You are using a model of type llava to instantiate a model of type llava_llama. This is not supported for all configurations of models and can yield errors.\n"
     ]
    },
    {
     "data": {
      "application/vnd.jupyter.widget-view+json": {
       "model_id": "47781de190e945dc9ab4c153dbd5b32d",
       "version_major": 2,
       "version_minor": 0
      },
      "text/plain": [
       "Loading checkpoint shards:   0%|          | 0/2 [00:00<?, ?it/s]"
      ]
     },
     "metadata": {},
     "output_type": "display_data"
    },
    {
     "name": "stderr",
     "output_type": "stream",
     "text": [
      "You are using a model of type llava to instantiate a model of type llava_llama. This is not supported for all configurations of models and can yield errors.\n"
     ]
    },
    {
     "data": {
      "application/vnd.jupyter.widget-view+json": {
       "model_id": "cef71ef072484d51bfbd7b0961105e3b",
       "version_major": 2,
       "version_minor": 0
      },
      "text/plain": [
       "Loading checkpoint shards:   0%|          | 0/2 [00:00<?, ?it/s]"
      ]
     },
     "metadata": {},
     "output_type": "display_data"
    },
    {
     "name": "stderr",
     "output_type": "stream",
     "text": [
      "You are using a model of type llava to instantiate a model of type llava_llama. This is not supported for all configurations of models and can yield errors.\n"
     ]
    },
    {
     "data": {
      "application/vnd.jupyter.widget-view+json": {
       "model_id": "8d932184a1d249d0a33beae5c0a2c317",
       "version_major": 2,
       "version_minor": 0
      },
      "text/plain": [
       "Loading checkpoint shards:   0%|          | 0/2 [00:00<?, ?it/s]"
      ]
     },
     "metadata": {},
     "output_type": "display_data"
    },
    {
     "name": "stderr",
     "output_type": "stream",
     "text": [
      "You are using a model of type llava to instantiate a model of type llava_llama. This is not supported for all configurations of models and can yield errors.\n"
     ]
    },
    {
     "data": {
      "application/vnd.jupyter.widget-view+json": {
       "model_id": "e5575097c04b48649e514ecbbeaa4cdb",
       "version_major": 2,
       "version_minor": 0
      },
      "text/plain": [
       "Loading checkpoint shards:   0%|          | 0/2 [00:00<?, ?it/s]"
      ]
     },
     "metadata": {},
     "output_type": "display_data"
    },
    {
     "name": "stderr",
     "output_type": "stream",
     "text": [
      "You are using a model of type llava to instantiate a model of type llava_llama. This is not supported for all configurations of models and can yield errors.\n"
     ]
    },
    {
     "data": {
      "application/vnd.jupyter.widget-view+json": {
       "model_id": "86f31b8e007748a4a1f9c201a4bd0e82",
       "version_major": 2,
       "version_minor": 0
      },
      "text/plain": [
       "Loading checkpoint shards:   0%|          | 0/2 [00:00<?, ?it/s]"
      ]
     },
     "metadata": {},
     "output_type": "display_data"
    },
    {
     "name": "stderr",
     "output_type": "stream",
     "text": [
      "You are using a model of type llava to instantiate a model of type llava_llama. This is not supported for all configurations of models and can yield errors.\n"
     ]
    },
    {
     "data": {
      "application/vnd.jupyter.widget-view+json": {
       "model_id": "dac907ecd49143cc8d43172090db9ec5",
       "version_major": 2,
       "version_minor": 0
      },
      "text/plain": [
       "Loading checkpoint shards:   0%|          | 0/2 [00:00<?, ?it/s]"
      ]
     },
     "metadata": {},
     "output_type": "display_data"
    },
    {
     "name": "stderr",
     "output_type": "stream",
     "text": [
      "You are using a model of type llava to instantiate a model of type llava_llama. This is not supported for all configurations of models and can yield errors.\n"
     ]
    },
    {
     "data": {
      "application/vnd.jupyter.widget-view+json": {
       "model_id": "b8cd708944974f279b84e553d9d25d8e",
       "version_major": 2,
       "version_minor": 0
      },
      "text/plain": [
       "Loading checkpoint shards:   0%|          | 0/2 [00:00<?, ?it/s]"
      ]
     },
     "metadata": {},
     "output_type": "display_data"
    },
    {
     "name": "stderr",
     "output_type": "stream",
     "text": [
      "You are using a model of type llava to instantiate a model of type llava_llama. This is not supported for all configurations of models and can yield errors.\n"
     ]
    },
    {
     "data": {
      "application/vnd.jupyter.widget-view+json": {
       "model_id": "3a89024278b5477ab0b7a79fbb5c6e58",
       "version_major": 2,
       "version_minor": 0
      },
      "text/plain": [
       "Loading checkpoint shards:   0%|          | 0/2 [00:00<?, ?it/s]"
      ]
     },
     "metadata": {},
     "output_type": "display_data"
    },
    {
     "name": "stderr",
     "output_type": "stream",
     "text": [
      "You are using a model of type llava to instantiate a model of type llava_llama. This is not supported for all configurations of models and can yield errors.\n"
     ]
    },
    {
     "data": {
      "application/vnd.jupyter.widget-view+json": {
       "model_id": "0fd1b8a90732451983b6ace6ed43d7af",
       "version_major": 2,
       "version_minor": 0
      },
      "text/plain": [
       "Loading checkpoint shards:   0%|          | 0/2 [00:00<?, ?it/s]"
      ]
     },
     "metadata": {},
     "output_type": "display_data"
    },
    {
     "name": "stderr",
     "output_type": "stream",
     "text": [
      "You are using a model of type llava to instantiate a model of type llava_llama. This is not supported for all configurations of models and can yield errors.\n"
     ]
    },
    {
     "data": {
      "application/vnd.jupyter.widget-view+json": {
       "model_id": "d63e190d73a2403dbdfde120155f32a1",
       "version_major": 2,
       "version_minor": 0
      },
      "text/plain": [
       "Loading checkpoint shards:   0%|          | 0/2 [00:00<?, ?it/s]"
      ]
     },
     "metadata": {},
     "output_type": "display_data"
    },
    {
     "name": "stderr",
     "output_type": "stream",
     "text": [
      "You are using a model of type llava to instantiate a model of type llava_llama. This is not supported for all configurations of models and can yield errors.\n"
     ]
    },
    {
     "data": {
      "application/vnd.jupyter.widget-view+json": {
       "model_id": "c8fc3dd89da84becb2b625e72750bd6e",
       "version_major": 2,
       "version_minor": 0
      },
      "text/plain": [
       "Loading checkpoint shards:   0%|          | 0/2 [00:00<?, ?it/s]"
      ]
     },
     "metadata": {},
     "output_type": "display_data"
    },
    {
     "name": "stderr",
     "output_type": "stream",
     "text": [
      "You are using a model of type llava to instantiate a model of type llava_llama. This is not supported for all configurations of models and can yield errors.\n"
     ]
    },
    {
     "data": {
      "application/vnd.jupyter.widget-view+json": {
       "model_id": "85ded70800c54b56afd3db5cac20188c",
       "version_major": 2,
       "version_minor": 0
      },
      "text/plain": [
       "Loading checkpoint shards:   0%|          | 0/2 [00:00<?, ?it/s]"
      ]
     },
     "metadata": {},
     "output_type": "display_data"
    },
    {
     "name": "stderr",
     "output_type": "stream",
     "text": [
      "You are using a model of type llava to instantiate a model of type llava_llama. This is not supported for all configurations of models and can yield errors.\n"
     ]
    },
    {
     "data": {
      "application/vnd.jupyter.widget-view+json": {
       "model_id": "dbd89d79b94d4c4ea12c0227f8bfa4ed",
       "version_major": 2,
       "version_minor": 0
      },
      "text/plain": [
       "Loading checkpoint shards:   0%|          | 0/2 [00:00<?, ?it/s]"
      ]
     },
     "metadata": {},
     "output_type": "display_data"
    },
    {
     "name": "stderr",
     "output_type": "stream",
     "text": [
      "You are using a model of type llava to instantiate a model of type llava_llama. This is not supported for all configurations of models and can yield errors.\n"
     ]
    },
    {
     "data": {
      "application/vnd.jupyter.widget-view+json": {
       "model_id": "dece3943ec4445fd894812b5ba87ac46",
       "version_major": 2,
       "version_minor": 0
      },
      "text/plain": [
       "Loading checkpoint shards:   0%|          | 0/2 [00:00<?, ?it/s]"
      ]
     },
     "metadata": {},
     "output_type": "display_data"
    },
    {
     "name": "stderr",
     "output_type": "stream",
     "text": [
      "You are using a model of type llava to instantiate a model of type llava_llama. This is not supported for all configurations of models and can yield errors.\n"
     ]
    },
    {
     "data": {
      "application/vnd.jupyter.widget-view+json": {
       "model_id": "eecc58db7ff344d498d8ff38bb75d3ca",
       "version_major": 2,
       "version_minor": 0
      },
      "text/plain": [
       "Loading checkpoint shards:   0%|          | 0/2 [00:00<?, ?it/s]"
      ]
     },
     "metadata": {},
     "output_type": "display_data"
    },
    {
     "name": "stderr",
     "output_type": "stream",
     "text": [
      "You are using a model of type llava to instantiate a model of type llava_llama. This is not supported for all configurations of models and can yield errors.\n"
     ]
    },
    {
     "data": {
      "application/vnd.jupyter.widget-view+json": {
       "model_id": "372426e84cb740cdaee5f7424429b3a1",
       "version_major": 2,
       "version_minor": 0
      },
      "text/plain": [
       "Loading checkpoint shards:   0%|          | 0/2 [00:00<?, ?it/s]"
      ]
     },
     "metadata": {},
     "output_type": "display_data"
    },
    {
     "name": "stderr",
     "output_type": "stream",
     "text": [
      "You are using a model of type llava to instantiate a model of type llava_llama. This is not supported for all configurations of models and can yield errors.\n"
     ]
    },
    {
     "data": {
      "application/vnd.jupyter.widget-view+json": {
       "model_id": "3ef2c7d2b16b4c6fade7b80c93b5ff90",
       "version_major": 2,
       "version_minor": 0
      },
      "text/plain": [
       "Loading checkpoint shards:   0%|          | 0/2 [00:00<?, ?it/s]"
      ]
     },
     "metadata": {},
     "output_type": "display_data"
    },
    {
     "name": "stderr",
     "output_type": "stream",
     "text": [
      "You are using a model of type llava to instantiate a model of type llava_llama. This is not supported for all configurations of models and can yield errors.\n"
     ]
    },
    {
     "data": {
      "application/vnd.jupyter.widget-view+json": {
       "model_id": "c1817a98086f49aabba279682abae159",
       "version_major": 2,
       "version_minor": 0
      },
      "text/plain": [
       "Loading checkpoint shards:   0%|          | 0/2 [00:00<?, ?it/s]"
      ]
     },
     "metadata": {},
     "output_type": "display_data"
    },
    {
     "name": "stderr",
     "output_type": "stream",
     "text": [
      "You are using a model of type llava to instantiate a model of type llava_llama. This is not supported for all configurations of models and can yield errors.\n"
     ]
    },
    {
     "data": {
      "application/vnd.jupyter.widget-view+json": {
       "model_id": "44c4a2c8df8643a0bd38966c845bed77",
       "version_major": 2,
       "version_minor": 0
      },
      "text/plain": [
       "Loading checkpoint shards:   0%|          | 0/2 [00:00<?, ?it/s]"
      ]
     },
     "metadata": {},
     "output_type": "display_data"
    },
    {
     "name": "stderr",
     "output_type": "stream",
     "text": [
      "You are using a model of type llava to instantiate a model of type llava_llama. This is not supported for all configurations of models and can yield errors.\n"
     ]
    },
    {
     "data": {
      "application/vnd.jupyter.widget-view+json": {
       "model_id": "a9bf2cd1ebae4db8801c9f7852741df1",
       "version_major": 2,
       "version_minor": 0
      },
      "text/plain": [
       "Loading checkpoint shards:   0%|          | 0/2 [00:00<?, ?it/s]"
      ]
     },
     "metadata": {},
     "output_type": "display_data"
    },
    {
     "name": "stderr",
     "output_type": "stream",
     "text": [
      "You are using a model of type llava to instantiate a model of type llava_llama. This is not supported for all configurations of models and can yield errors.\n"
     ]
    },
    {
     "data": {
      "application/vnd.jupyter.widget-view+json": {
       "model_id": "74a3ee5462da4fabb75811fdcb8c346a",
       "version_major": 2,
       "version_minor": 0
      },
      "text/plain": [
       "Loading checkpoint shards:   0%|          | 0/2 [00:00<?, ?it/s]"
      ]
     },
     "metadata": {},
     "output_type": "display_data"
    },
    {
     "name": "stderr",
     "output_type": "stream",
     "text": [
      "You are using a model of type llava to instantiate a model of type llava_llama. This is not supported for all configurations of models and can yield errors.\n"
     ]
    },
    {
     "data": {
      "application/vnd.jupyter.widget-view+json": {
       "model_id": "db4ac41c2651432d88070430d9384be9",
       "version_major": 2,
       "version_minor": 0
      },
      "text/plain": [
       "Loading checkpoint shards:   0%|          | 0/2 [00:00<?, ?it/s]"
      ]
     },
     "metadata": {},
     "output_type": "display_data"
    },
    {
     "name": "stderr",
     "output_type": "stream",
     "text": [
      "You are using a model of type llava to instantiate a model of type llava_llama. This is not supported for all configurations of models and can yield errors.\n"
     ]
    },
    {
     "data": {
      "application/vnd.jupyter.widget-view+json": {
       "model_id": "49788b1bff444bbc88feeac7d646e0f9",
       "version_major": 2,
       "version_minor": 0
      },
      "text/plain": [
       "Loading checkpoint shards:   0%|          | 0/2 [00:00<?, ?it/s]"
      ]
     },
     "metadata": {},
     "output_type": "display_data"
    },
    {
     "name": "stderr",
     "output_type": "stream",
     "text": [
      "You are using a model of type llava to instantiate a model of type llava_llama. This is not supported for all configurations of models and can yield errors.\n"
     ]
    },
    {
     "data": {
      "application/vnd.jupyter.widget-view+json": {
       "model_id": "1c3f369e553a45c284675bf971e5cce8",
       "version_major": 2,
       "version_minor": 0
      },
      "text/plain": [
       "Loading checkpoint shards:   0%|          | 0/2 [00:00<?, ?it/s]"
      ]
     },
     "metadata": {},
     "output_type": "display_data"
    },
    {
     "name": "stderr",
     "output_type": "stream",
     "text": [
      "You are using a model of type llava to instantiate a model of type llava_llama. This is not supported for all configurations of models and can yield errors.\n"
     ]
    },
    {
     "data": {
      "application/vnd.jupyter.widget-view+json": {
       "model_id": "56b07c06fcd34ef88b5ce78d03d0e9e5",
       "version_major": 2,
       "version_minor": 0
      },
      "text/plain": [
       "Loading checkpoint shards:   0%|          | 0/2 [00:00<?, ?it/s]"
      ]
     },
     "metadata": {},
     "output_type": "display_data"
    },
    {
     "name": "stderr",
     "output_type": "stream",
     "text": [
      "You are using a model of type llava to instantiate a model of type llava_llama. This is not supported for all configurations of models and can yield errors.\n"
     ]
    },
    {
     "data": {
      "application/vnd.jupyter.widget-view+json": {
       "model_id": "3881c4d2a255454bbe1552c6fa482f4d",
       "version_major": 2,
       "version_minor": 0
      },
      "text/plain": [
       "Loading checkpoint shards:   0%|          | 0/2 [00:00<?, ?it/s]"
      ]
     },
     "metadata": {},
     "output_type": "display_data"
    },
    {
     "name": "stderr",
     "output_type": "stream",
     "text": [
      "You are using a model of type llava to instantiate a model of type llava_llama. This is not supported for all configurations of models and can yield errors.\n"
     ]
    },
    {
     "data": {
      "application/vnd.jupyter.widget-view+json": {
       "model_id": "08e0f4b6115d4516a616f35c3a8334a9",
       "version_major": 2,
       "version_minor": 0
      },
      "text/plain": [
       "Loading checkpoint shards:   0%|          | 0/2 [00:00<?, ?it/s]"
      ]
     },
     "metadata": {},
     "output_type": "display_data"
    },
    {
     "name": "stderr",
     "output_type": "stream",
     "text": [
      "You are using a model of type llava to instantiate a model of type llava_llama. This is not supported for all configurations of models and can yield errors.\n"
     ]
    },
    {
     "data": {
      "application/vnd.jupyter.widget-view+json": {
       "model_id": "f42bf3c8442944f4aea0d6d294c6e119",
       "version_major": 2,
       "version_minor": 0
      },
      "text/plain": [
       "Loading checkpoint shards:   0%|          | 0/2 [00:00<?, ?it/s]"
      ]
     },
     "metadata": {},
     "output_type": "display_data"
    },
    {
     "name": "stderr",
     "output_type": "stream",
     "text": [
      "You are using a model of type llava to instantiate a model of type llava_llama. This is not supported for all configurations of models and can yield errors.\n"
     ]
    },
    {
     "data": {
      "application/vnd.jupyter.widget-view+json": {
       "model_id": "dbeea8e7d52a435da36dd02b370d50db",
       "version_major": 2,
       "version_minor": 0
      },
      "text/plain": [
       "Loading checkpoint shards:   0%|          | 0/2 [00:00<?, ?it/s]"
      ]
     },
     "metadata": {},
     "output_type": "display_data"
    },
    {
     "name": "stderr",
     "output_type": "stream",
     "text": [
      "You are using a model of type llava to instantiate a model of type llava_llama. This is not supported for all configurations of models and can yield errors.\n"
     ]
    },
    {
     "data": {
      "application/vnd.jupyter.widget-view+json": {
       "model_id": "a191b77d863a4d37badf8741cc47315c",
       "version_major": 2,
       "version_minor": 0
      },
      "text/plain": [
       "Loading checkpoint shards:   0%|          | 0/2 [00:00<?, ?it/s]"
      ]
     },
     "metadata": {},
     "output_type": "display_data"
    },
    {
     "name": "stderr",
     "output_type": "stream",
     "text": [
      "You are using a model of type llava to instantiate a model of type llava_llama. This is not supported for all configurations of models and can yield errors.\n"
     ]
    },
    {
     "data": {
      "application/vnd.jupyter.widget-view+json": {
       "model_id": "77e1d7ca59ff488f921a24617f558be3",
       "version_major": 2,
       "version_minor": 0
      },
      "text/plain": [
       "Loading checkpoint shards:   0%|          | 0/2 [00:00<?, ?it/s]"
      ]
     },
     "metadata": {},
     "output_type": "display_data"
    },
    {
     "name": "stderr",
     "output_type": "stream",
     "text": [
      "You are using a model of type llava to instantiate a model of type llava_llama. This is not supported for all configurations of models and can yield errors.\n"
     ]
    },
    {
     "data": {
      "application/vnd.jupyter.widget-view+json": {
       "model_id": "163c1f4dfbbd431284ad01b5cf57ad0b",
       "version_major": 2,
       "version_minor": 0
      },
      "text/plain": [
       "Loading checkpoint shards:   0%|          | 0/2 [00:00<?, ?it/s]"
      ]
     },
     "metadata": {},
     "output_type": "display_data"
    },
    {
     "name": "stderr",
     "output_type": "stream",
     "text": [
      "You are using a model of type llava to instantiate a model of type llava_llama. This is not supported for all configurations of models and can yield errors.\n"
     ]
    },
    {
     "data": {
      "application/vnd.jupyter.widget-view+json": {
       "model_id": "7afcf9c9d12546bb91404ddde105847e",
       "version_major": 2,
       "version_minor": 0
      },
      "text/plain": [
       "Loading checkpoint shards:   0%|          | 0/2 [00:00<?, ?it/s]"
      ]
     },
     "metadata": {},
     "output_type": "display_data"
    },
    {
     "name": "stderr",
     "output_type": "stream",
     "text": [
      "You are using a model of type llava to instantiate a model of type llava_llama. This is not supported for all configurations of models and can yield errors.\n"
     ]
    },
    {
     "data": {
      "application/vnd.jupyter.widget-view+json": {
       "model_id": "60843af1dbbc425a919a804908755fe9",
       "version_major": 2,
       "version_minor": 0
      },
      "text/plain": [
       "Loading checkpoint shards:   0%|          | 0/2 [00:00<?, ?it/s]"
      ]
     },
     "metadata": {},
     "output_type": "display_data"
    },
    {
     "name": "stderr",
     "output_type": "stream",
     "text": [
      "You are using a model of type llava to instantiate a model of type llava_llama. This is not supported for all configurations of models and can yield errors.\n"
     ]
    },
    {
     "data": {
      "application/vnd.jupyter.widget-view+json": {
       "model_id": "90ef1d1563594b3b93461ac690228dba",
       "version_major": 2,
       "version_minor": 0
      },
      "text/plain": [
       "Loading checkpoint shards:   0%|          | 0/2 [00:00<?, ?it/s]"
      ]
     },
     "metadata": {},
     "output_type": "display_data"
    },
    {
     "name": "stderr",
     "output_type": "stream",
     "text": [
      "You are using a model of type llava to instantiate a model of type llava_llama. This is not supported for all configurations of models and can yield errors.\n"
     ]
    },
    {
     "data": {
      "application/vnd.jupyter.widget-view+json": {
       "model_id": "83f0324ec08b4806ac01237172dcb72d",
       "version_major": 2,
       "version_minor": 0
      },
      "text/plain": [
       "Loading checkpoint shards:   0%|          | 0/2 [00:00<?, ?it/s]"
      ]
     },
     "metadata": {},
     "output_type": "display_data"
    },
    {
     "name": "stderr",
     "output_type": "stream",
     "text": [
      "You are using a model of type llava to instantiate a model of type llava_llama. This is not supported for all configurations of models and can yield errors.\n"
     ]
    },
    {
     "data": {
      "application/vnd.jupyter.widget-view+json": {
       "model_id": "0af4efecdde1401ab134cbdb05e3c6be",
       "version_major": 2,
       "version_minor": 0
      },
      "text/plain": [
       "Loading checkpoint shards:   0%|          | 0/2 [00:00<?, ?it/s]"
      ]
     },
     "metadata": {},
     "output_type": "display_data"
    },
    {
     "name": "stderr",
     "output_type": "stream",
     "text": [
      "You are using a model of type llava to instantiate a model of type llava_llama. This is not supported for all configurations of models and can yield errors.\n"
     ]
    },
    {
     "data": {
      "application/vnd.jupyter.widget-view+json": {
       "model_id": "2fdf16dca5ce46fd8679243b5b1c2457",
       "version_major": 2,
       "version_minor": 0
      },
      "text/plain": [
       "Loading checkpoint shards:   0%|          | 0/2 [00:00<?, ?it/s]"
      ]
     },
     "metadata": {},
     "output_type": "display_data"
    },
    {
     "name": "stderr",
     "output_type": "stream",
     "text": [
      "You are using a model of type llava to instantiate a model of type llava_llama. This is not supported for all configurations of models and can yield errors.\n"
     ]
    },
    {
     "data": {
      "application/vnd.jupyter.widget-view+json": {
       "model_id": "a74f50d478d34eda84980fdc8b907b11",
       "version_major": 2,
       "version_minor": 0
      },
      "text/plain": [
       "Loading checkpoint shards:   0%|          | 0/2 [00:00<?, ?it/s]"
      ]
     },
     "metadata": {},
     "output_type": "display_data"
    },
    {
     "name": "stderr",
     "output_type": "stream",
     "text": [
      "You are using a model of type llava to instantiate a model of type llava_llama. This is not supported for all configurations of models and can yield errors.\n"
     ]
    },
    {
     "data": {
      "application/vnd.jupyter.widget-view+json": {
       "model_id": "6eb216320d5d4290b9938b8cb41d85cc",
       "version_major": 2,
       "version_minor": 0
      },
      "text/plain": [
       "Loading checkpoint shards:   0%|          | 0/2 [00:00<?, ?it/s]"
      ]
     },
     "metadata": {},
     "output_type": "display_data"
    },
    {
     "name": "stderr",
     "output_type": "stream",
     "text": [
      "You are using a model of type llava to instantiate a model of type llava_llama. This is not supported for all configurations of models and can yield errors.\n"
     ]
    },
    {
     "data": {
      "application/vnd.jupyter.widget-view+json": {
       "model_id": "16ab532d664e44dc8bc4649fe523f2cc",
       "version_major": 2,
       "version_minor": 0
      },
      "text/plain": [
       "Loading checkpoint shards:   0%|          | 0/2 [00:00<?, ?it/s]"
      ]
     },
     "metadata": {},
     "output_type": "display_data"
    },
    {
     "name": "stderr",
     "output_type": "stream",
     "text": [
      "You are using a model of type llava to instantiate a model of type llava_llama. This is not supported for all configurations of models and can yield errors.\n"
     ]
    },
    {
     "data": {
      "application/vnd.jupyter.widget-view+json": {
       "model_id": "33aa717eccf343f2b3d1d0801cb5767b",
       "version_major": 2,
       "version_minor": 0
      },
      "text/plain": [
       "Loading checkpoint shards:   0%|          | 0/2 [00:00<?, ?it/s]"
      ]
     },
     "metadata": {},
     "output_type": "display_data"
    },
    {
     "name": "stderr",
     "output_type": "stream",
     "text": [
      "You are using a model of type llava to instantiate a model of type llava_llama. This is not supported for all configurations of models and can yield errors.\n"
     ]
    },
    {
     "data": {
      "application/vnd.jupyter.widget-view+json": {
       "model_id": "c9eddc59993d4d798aa58992b8c180d8",
       "version_major": 2,
       "version_minor": 0
      },
      "text/plain": [
       "Loading checkpoint shards:   0%|          | 0/2 [00:00<?, ?it/s]"
      ]
     },
     "metadata": {},
     "output_type": "display_data"
    },
    {
     "name": "stderr",
     "output_type": "stream",
     "text": [
      "You are using a model of type llava to instantiate a model of type llava_llama. This is not supported for all configurations of models and can yield errors.\n"
     ]
    },
    {
     "data": {
      "application/vnd.jupyter.widget-view+json": {
       "model_id": "e5cbe16a6b5c4976a8ee57e928c85b14",
       "version_major": 2,
       "version_minor": 0
      },
      "text/plain": [
       "Loading checkpoint shards:   0%|          | 0/2 [00:00<?, ?it/s]"
      ]
     },
     "metadata": {},
     "output_type": "display_data"
    },
    {
     "name": "stderr",
     "output_type": "stream",
     "text": [
      "You are using a model of type llava to instantiate a model of type llava_llama. This is not supported for all configurations of models and can yield errors.\n"
     ]
    },
    {
     "data": {
      "application/vnd.jupyter.widget-view+json": {
       "model_id": "d7fe6ad58da241d1b0aef2380ae9eef2",
       "version_major": 2,
       "version_minor": 0
      },
      "text/plain": [
       "Loading checkpoint shards:   0%|          | 0/2 [00:00<?, ?it/s]"
      ]
     },
     "metadata": {},
     "output_type": "display_data"
    },
    {
     "data": {
      "application/vnd.jupyter.widget-view+json": {
       "model_id": "05a24924ab6541b18ae6fe02dbe7c3fa",
       "version_major": 2,
       "version_minor": 0
      },
      "text/plain": [
       "Loading checkpoint shards:   0%|          | 0/2 [00:00<?, ?it/s]"
      ]
     },
     "metadata": {},
     "output_type": "display_data"
    },
    {
     "data": {
      "application/vnd.jupyter.widget-view+json": {
       "model_id": "01ef98d69cd54a22b74e8da7cace2024",
       "version_major": 2,
       "version_minor": 0
      },
      "text/plain": [
       "Loading checkpoint shards:   0%|          | 0/2 [00:00<?, ?it/s]"
      ]
     },
     "metadata": {},
     "output_type": "display_data"
    },
    {
     "data": {
      "application/vnd.jupyter.widget-view+json": {
       "model_id": "44133a4e528c4cebbecbb519ff44b894",
       "version_major": 2,
       "version_minor": 0
      },
      "text/plain": [
       "Loading checkpoint shards:   0%|          | 0/2 [00:00<?, ?it/s]"
      ]
     },
     "metadata": {},
     "output_type": "display_data"
    },
    {
     "data": {
      "application/vnd.jupyter.widget-view+json": {
       "model_id": "f1edf691c5764b469a18f56dabfe2d6c",
       "version_major": 2,
       "version_minor": 0
      },
      "text/plain": [
       "Loading checkpoint shards:   0%|          | 0/2 [00:00<?, ?it/s]"
      ]
     },
     "metadata": {},
     "output_type": "display_data"
    },
    {
     "data": {
      "application/vnd.jupyter.widget-view+json": {
       "model_id": "131291f6ae2246deb4b527ef98578714",
       "version_major": 2,
       "version_minor": 0
      },
      "text/plain": [
       "Loading checkpoint shards:   0%|          | 0/2 [00:00<?, ?it/s]"
      ]
     },
     "metadata": {},
     "output_type": "display_data"
    },
    {
     "data": {
      "application/vnd.jupyter.widget-view+json": {
       "model_id": "fb65cf4167d84c3b8ce337bfebee515d",
       "version_major": 2,
       "version_minor": 0
      },
      "text/plain": [
       "Loading checkpoint shards:   0%|          | 0/2 [00:00<?, ?it/s]"
      ]
     },
     "metadata": {},
     "output_type": "display_data"
    },
    {
     "data": {
      "application/vnd.jupyter.widget-view+json": {
       "model_id": "9c104054d3d6456c9eaf63365006553f",
       "version_major": 2,
       "version_minor": 0
      },
      "text/plain": [
       "Loading checkpoint shards:   0%|          | 0/2 [00:00<?, ?it/s]"
      ]
     },
     "metadata": {},
     "output_type": "display_data"
    },
    {
     "data": {
      "application/vnd.jupyter.widget-view+json": {
       "model_id": "a9ef132ccab743d690b03b34d60832a9",
       "version_major": 2,
       "version_minor": 0
      },
      "text/plain": [
       "Loading checkpoint shards:   0%|          | 0/2 [00:00<?, ?it/s]"
      ]
     },
     "metadata": {},
     "output_type": "display_data"
    },
    {
     "data": {
      "application/vnd.jupyter.widget-view+json": {
       "model_id": "4b81fb68b0864ee6affdf97e5f4fab35",
       "version_major": 2,
       "version_minor": 0
      },
      "text/plain": [
       "Loading checkpoint shards:   0%|          | 0/2 [00:00<?, ?it/s]"
      ]
     },
     "metadata": {},
     "output_type": "display_data"
    },
    {
     "data": {
      "application/vnd.jupyter.widget-view+json": {
       "model_id": "462eeba985744719b0b6ee180bdee70f",
       "version_major": 2,
       "version_minor": 0
      },
      "text/plain": [
       "Loading checkpoint shards:   0%|          | 0/2 [00:00<?, ?it/s]"
      ]
     },
     "metadata": {},
     "output_type": "display_data"
    },
    {
     "data": {
      "application/vnd.jupyter.widget-view+json": {
       "model_id": "689fad9124694bc7a93c670aa19eb922",
       "version_major": 2,
       "version_minor": 0
      },
      "text/plain": [
       "Loading checkpoint shards:   0%|          | 0/2 [00:00<?, ?it/s]"
      ]
     },
     "metadata": {},
     "output_type": "display_data"
    },
    {
     "data": {
      "application/vnd.jupyter.widget-view+json": {
       "model_id": "ca7f6a882832410b99a4b32df15e7478",
       "version_major": 2,
       "version_minor": 0
      },
      "text/plain": [
       "Loading checkpoint shards:   0%|          | 0/2 [00:00<?, ?it/s]"
      ]
     },
     "metadata": {},
     "output_type": "display_data"
    },
    {
     "data": {
      "application/vnd.jupyter.widget-view+json": {
       "model_id": "eb6df998a14649e1a9ceb7732e1111e2",
       "version_major": 2,
       "version_minor": 0
      },
      "text/plain": [
       "Loading checkpoint shards:   0%|          | 0/2 [00:00<?, ?it/s]"
      ]
     },
     "metadata": {},
     "output_type": "display_data"
    },
    {
     "data": {
      "application/vnd.jupyter.widget-view+json": {
       "model_id": "63160967b04342fd8cee0832f4a3b692",
       "version_major": 2,
       "version_minor": 0
      },
      "text/plain": [
       "Loading checkpoint shards:   0%|          | 0/2 [00:00<?, ?it/s]"
      ]
     },
     "metadata": {},
     "output_type": "display_data"
    },
    {
     "data": {
      "application/vnd.jupyter.widget-view+json": {
       "model_id": "5f8e30b02f73455cb5e8ee70ce827773",
       "version_major": 2,
       "version_minor": 0
      },
      "text/plain": [
       "Loading checkpoint shards:   0%|          | 0/2 [00:00<?, ?it/s]"
      ]
     },
     "metadata": {},
     "output_type": "display_data"
    },
    {
     "data": {
      "application/vnd.jupyter.widget-view+json": {
       "model_id": "738f510faf0947cfae2dea6f52257e5b",
       "version_major": 2,
       "version_minor": 0
      },
      "text/plain": [
       "Loading checkpoint shards:   0%|          | 0/2 [00:00<?, ?it/s]"
      ]
     },
     "metadata": {},
     "output_type": "display_data"
    },
    {
     "data": {
      "application/vnd.jupyter.widget-view+json": {
       "model_id": "ee6eed05c1f5415697f4b16d6a3b233a",
       "version_major": 2,
       "version_minor": 0
      },
      "text/plain": [
       "Loading checkpoint shards:   0%|          | 0/2 [00:00<?, ?it/s]"
      ]
     },
     "metadata": {},
     "output_type": "display_data"
    },
    {
     "data": {
      "application/vnd.jupyter.widget-view+json": {
       "model_id": "7b0eb2bdf1a84753977754cb9a185ff4",
       "version_major": 2,
       "version_minor": 0
      },
      "text/plain": [
       "Loading checkpoint shards:   0%|          | 0/2 [00:00<?, ?it/s]"
      ]
     },
     "metadata": {},
     "output_type": "display_data"
    },
    {
     "data": {
      "application/vnd.jupyter.widget-view+json": {
       "model_id": "e31a1b91cb134a41b3629836dc82aac5",
       "version_major": 2,
       "version_minor": 0
      },
      "text/plain": [
       "Loading checkpoint shards:   0%|          | 0/2 [00:00<?, ?it/s]"
      ]
     },
     "metadata": {},
     "output_type": "display_data"
    },
    {
     "data": {
      "application/vnd.jupyter.widget-view+json": {
       "model_id": "869dd58362894e41bb29182cc3b59328",
       "version_major": 2,
       "version_minor": 0
      },
      "text/plain": [
       "Loading checkpoint shards:   0%|          | 0/2 [00:00<?, ?it/s]"
      ]
     },
     "metadata": {},
     "output_type": "display_data"
    },
    {
     "data": {
      "application/vnd.jupyter.widget-view+json": {
       "model_id": "150a611792314288858bd05f7fe7e0ee",
       "version_major": 2,
       "version_minor": 0
      },
      "text/plain": [
       "Loading checkpoint shards:   0%|          | 0/2 [00:00<?, ?it/s]"
      ]
     },
     "metadata": {},
     "output_type": "display_data"
    },
    {
     "data": {
      "application/vnd.jupyter.widget-view+json": {
       "model_id": "795755a935374fddbc22ef89da8f9bb1",
       "version_major": 2,
       "version_minor": 0
      },
      "text/plain": [
       "Loading checkpoint shards:   0%|          | 0/2 [00:00<?, ?it/s]"
      ]
     },
     "metadata": {},
     "output_type": "display_data"
    },
    {
     "data": {
      "application/vnd.jupyter.widget-view+json": {
       "model_id": "8397833773f64e2fb39fc20b89c5fb5a",
       "version_major": 2,
       "version_minor": 0
      },
      "text/plain": [
       "Loading checkpoint shards:   0%|          | 0/2 [00:00<?, ?it/s]"
      ]
     },
     "metadata": {},
     "output_type": "display_data"
    },
    {
     "data": {
      "application/vnd.jupyter.widget-view+json": {
       "model_id": "7422485fd85744ce86a640b20bae143b",
       "version_major": 2,
       "version_minor": 0
      },
      "text/plain": [
       "Loading checkpoint shards:   0%|          | 0/2 [00:00<?, ?it/s]"
      ]
     },
     "metadata": {},
     "output_type": "display_data"
    },
    {
     "data": {
      "application/vnd.jupyter.widget-view+json": {
       "model_id": "262b5b12f73d4cd38f0f4f30fc91d359",
       "version_major": 2,
       "version_minor": 0
      },
      "text/plain": [
       "Loading checkpoint shards:   0%|          | 0/2 [00:00<?, ?it/s]"
      ]
     },
     "metadata": {},
     "output_type": "display_data"
    },
    {
     "data": {
      "application/vnd.jupyter.widget-view+json": {
       "model_id": "192e0d5657e345a9b04348914ae3b70d",
       "version_major": 2,
       "version_minor": 0
      },
      "text/plain": [
       "Loading checkpoint shards:   0%|          | 0/2 [00:00<?, ?it/s]"
      ]
     },
     "metadata": {},
     "output_type": "display_data"
    },
    {
     "data": {
      "application/vnd.jupyter.widget-view+json": {
       "model_id": "7a0faa5326c6441bbc595ee6e42f9aa3",
       "version_major": 2,
       "version_minor": 0
      },
      "text/plain": [
       "Loading checkpoint shards:   0%|          | 0/2 [00:00<?, ?it/s]"
      ]
     },
     "metadata": {},
     "output_type": "display_data"
    },
    {
     "data": {
      "application/vnd.jupyter.widget-view+json": {
       "model_id": "fa14ed3c91794230a2b02571a0b9b84b",
       "version_major": 2,
       "version_minor": 0
      },
      "text/plain": [
       "Loading checkpoint shards:   0%|          | 0/2 [00:00<?, ?it/s]"
      ]
     },
     "metadata": {},
     "output_type": "display_data"
    },
    {
     "data": {
      "application/vnd.jupyter.widget-view+json": {
       "model_id": "73773ef25c724b7485796fe391b5aae6",
       "version_major": 2,
       "version_minor": 0
      },
      "text/plain": [
       "Loading checkpoint shards:   0%|          | 0/2 [00:00<?, ?it/s]"
      ]
     },
     "metadata": {},
     "output_type": "display_data"
    },
    {
     "data": {
      "application/vnd.jupyter.widget-view+json": {
       "model_id": "6a07dc07a86e472a9d6c35973898932a",
       "version_major": 2,
       "version_minor": 0
      },
      "text/plain": [
       "Loading checkpoint shards:   0%|          | 0/2 [00:00<?, ?it/s]"
      ]
     },
     "metadata": {},
     "output_type": "display_data"
    },
    {
     "data": {
      "application/vnd.jupyter.widget-view+json": {
       "model_id": "4afad3de45224c79bc4514db82b5185a",
       "version_major": 2,
       "version_minor": 0
      },
      "text/plain": [
       "Loading checkpoint shards:   0%|          | 0/2 [00:00<?, ?it/s]"
      ]
     },
     "metadata": {},
     "output_type": "display_data"
    },
    {
     "data": {
      "application/vnd.jupyter.widget-view+json": {
       "model_id": "4cb3d6e924f74320851413938d745be5",
       "version_major": 2,
       "version_minor": 0
      },
      "text/plain": [
       "Loading checkpoint shards:   0%|          | 0/2 [00:00<?, ?it/s]"
      ]
     },
     "metadata": {},
     "output_type": "display_data"
    },
    {
     "data": {
      "application/vnd.jupyter.widget-view+json": {
       "model_id": "f1b9f7bd15d44ad69f7f17e99ae01475",
       "version_major": 2,
       "version_minor": 0
      },
      "text/plain": [
       "Loading checkpoint shards:   0%|          | 0/2 [00:00<?, ?it/s]"
      ]
     },
     "metadata": {},
     "output_type": "display_data"
    },
    {
     "data": {
      "application/vnd.jupyter.widget-view+json": {
       "model_id": "5b9511144f314182abb0cfb9ef7ffe42",
       "version_major": 2,
       "version_minor": 0
      },
      "text/plain": [
       "Loading checkpoint shards:   0%|          | 0/2 [00:00<?, ?it/s]"
      ]
     },
     "metadata": {},
     "output_type": "display_data"
    },
    {
     "data": {
      "application/vnd.jupyter.widget-view+json": {
       "model_id": "195d9759ab49440f98c93ce86c3c9bd7",
       "version_major": 2,
       "version_minor": 0
      },
      "text/plain": [
       "Loading checkpoint shards:   0%|          | 0/2 [00:00<?, ?it/s]"
      ]
     },
     "metadata": {},
     "output_type": "display_data"
    },
    {
     "data": {
      "application/vnd.jupyter.widget-view+json": {
       "model_id": "02bbad976bb24facb10598529ae21b49",
       "version_major": 2,
       "version_minor": 0
      },
      "text/plain": [
       "Loading checkpoint shards:   0%|          | 0/2 [00:00<?, ?it/s]"
      ]
     },
     "metadata": {},
     "output_type": "display_data"
    },
    {
     "data": {
      "application/vnd.jupyter.widget-view+json": {
       "model_id": "fd7209d1d62044409634069782169e57",
       "version_major": 2,
       "version_minor": 0
      },
      "text/plain": [
       "Loading checkpoint shards:   0%|          | 0/2 [00:00<?, ?it/s]"
      ]
     },
     "metadata": {},
     "output_type": "display_data"
    },
    {
     "data": {
      "application/vnd.jupyter.widget-view+json": {
       "model_id": "745a7b47a3744f078ae47809005941ff",
       "version_major": 2,
       "version_minor": 0
      },
      "text/plain": [
       "Loading checkpoint shards:   0%|          | 0/2 [00:00<?, ?it/s]"
      ]
     },
     "metadata": {},
     "output_type": "display_data"
    },
    {
     "data": {
      "application/vnd.jupyter.widget-view+json": {
       "model_id": "d1358ec256ff49009526c442cb098ce9",
       "version_major": 2,
       "version_minor": 0
      },
      "text/plain": [
       "Loading checkpoint shards:   0%|          | 0/2 [00:00<?, ?it/s]"
      ]
     },
     "metadata": {},
     "output_type": "display_data"
    },
    {
     "data": {
      "application/vnd.jupyter.widget-view+json": {
       "model_id": "525c3611d34e43da9069ad169cf503ec",
       "version_major": 2,
       "version_minor": 0
      },
      "text/plain": [
       "Loading checkpoint shards:   0%|          | 0/2 [00:00<?, ?it/s]"
      ]
     },
     "metadata": {},
     "output_type": "display_data"
    },
    {
     "data": {
      "application/vnd.jupyter.widget-view+json": {
       "model_id": "2e18d24ec37242db8d40eafe015a7cf0",
       "version_major": 2,
       "version_minor": 0
      },
      "text/plain": [
       "Loading checkpoint shards:   0%|          | 0/2 [00:00<?, ?it/s]"
      ]
     },
     "metadata": {},
     "output_type": "display_data"
    },
    {
     "data": {
      "application/vnd.jupyter.widget-view+json": {
       "model_id": "9c5236db7c6942b28e94e70b321e47ec",
       "version_major": 2,
       "version_minor": 0
      },
      "text/plain": [
       "Loading checkpoint shards:   0%|          | 0/2 [00:00<?, ?it/s]"
      ]
     },
     "metadata": {},
     "output_type": "display_data"
    },
    {
     "data": {
      "application/vnd.jupyter.widget-view+json": {
       "model_id": "8a34441fa0b146589dd988bd35ba0167",
       "version_major": 2,
       "version_minor": 0
      },
      "text/plain": [
       "Loading checkpoint shards:   0%|          | 0/2 [00:00<?, ?it/s]"
      ]
     },
     "metadata": {},
     "output_type": "display_data"
    },
    {
     "data": {
      "application/vnd.jupyter.widget-view+json": {
       "model_id": "a9d46b96090445d5be08cf628a2a4957",
       "version_major": 2,
       "version_minor": 0
      },
      "text/plain": [
       "Loading checkpoint shards:   0%|          | 0/2 [00:00<?, ?it/s]"
      ]
     },
     "metadata": {},
     "output_type": "display_data"
    },
    {
     "data": {
      "application/vnd.jupyter.widget-view+json": {
       "model_id": "8e31497028cb46738d57b348ece219d5",
       "version_major": 2,
       "version_minor": 0
      },
      "text/plain": [
       "Loading checkpoint shards:   0%|          | 0/2 [00:00<?, ?it/s]"
      ]
     },
     "metadata": {},
     "output_type": "display_data"
    },
    {
     "data": {
      "application/vnd.jupyter.widget-view+json": {
       "model_id": "a0e21ad4be0249feacf3a85976f4e74f",
       "version_major": 2,
       "version_minor": 0
      },
      "text/plain": [
       "Loading checkpoint shards:   0%|          | 0/2 [00:00<?, ?it/s]"
      ]
     },
     "metadata": {},
     "output_type": "display_data"
    },
    {
     "data": {
      "application/vnd.jupyter.widget-view+json": {
       "model_id": "4fc9829fd0994a89850ee2a4d3bbbc53",
       "version_major": 2,
       "version_minor": 0
      },
      "text/plain": [
       "Loading checkpoint shards:   0%|          | 0/2 [00:00<?, ?it/s]"
      ]
     },
     "metadata": {},
     "output_type": "display_data"
    },
    {
     "data": {
      "application/vnd.jupyter.widget-view+json": {
       "model_id": "545b76f65cbd4fd79c342693e56a09e2",
       "version_major": 2,
       "version_minor": 0
      },
      "text/plain": [
       "Loading checkpoint shards:   0%|          | 0/2 [00:00<?, ?it/s]"
      ]
     },
     "metadata": {},
     "output_type": "display_data"
    },
    {
     "data": {
      "application/vnd.jupyter.widget-view+json": {
       "model_id": "ffd95e0580b041248acda6e19aa3130c",
       "version_major": 2,
       "version_minor": 0
      },
      "text/plain": [
       "Loading checkpoint shards:   0%|          | 0/2 [00:00<?, ?it/s]"
      ]
     },
     "metadata": {},
     "output_type": "display_data"
    },
    {
     "data": {
      "application/vnd.jupyter.widget-view+json": {
       "model_id": "5b3bd9808f854d02b13b322e5bbfbb8d",
       "version_major": 2,
       "version_minor": 0
      },
      "text/plain": [
       "Loading checkpoint shards:   0%|          | 0/2 [00:00<?, ?it/s]"
      ]
     },
     "metadata": {},
     "output_type": "display_data"
    },
    {
     "data": {
      "application/vnd.jupyter.widget-view+json": {
       "model_id": "8e0bcdfd94424042bd006a6022208395",
       "version_major": 2,
       "version_minor": 0
      },
      "text/plain": [
       "Loading checkpoint shards:   0%|          | 0/2 [00:00<?, ?it/s]"
      ]
     },
     "metadata": {},
     "output_type": "display_data"
    },
    {
     "data": {
      "application/vnd.jupyter.widget-view+json": {
       "model_id": "0e57a15da1fa4a419da0424887ea6b34",
       "version_major": 2,
       "version_minor": 0
      },
      "text/plain": [
       "Loading checkpoint shards:   0%|          | 0/2 [00:00<?, ?it/s]"
      ]
     },
     "metadata": {},
     "output_type": "display_data"
    },
    {
     "data": {
      "application/vnd.jupyter.widget-view+json": {
       "model_id": "7bdb2b00e43a45e89277527270120478",
       "version_major": 2,
       "version_minor": 0
      },
      "text/plain": [
       "Loading checkpoint shards:   0%|          | 0/2 [00:00<?, ?it/s]"
      ]
     },
     "metadata": {},
     "output_type": "display_data"
    },
    {
     "data": {
      "application/vnd.jupyter.widget-view+json": {
       "model_id": "704ae87adb884d24a01c430c2738c260",
       "version_major": 2,
       "version_minor": 0
      },
      "text/plain": [
       "Loading checkpoint shards:   0%|          | 0/2 [00:00<?, ?it/s]"
      ]
     },
     "metadata": {},
     "output_type": "display_data"
    },
    {
     "data": {
      "application/vnd.jupyter.widget-view+json": {
       "model_id": "42c8cb28f587453d8a429e2cf166513d",
       "version_major": 2,
       "version_minor": 0
      },
      "text/plain": [
       "Loading checkpoint shards:   0%|          | 0/2 [00:00<?, ?it/s]"
      ]
     },
     "metadata": {},
     "output_type": "display_data"
    },
    {
     "name": "stdout",
     "output_type": "stream",
     "text": [
      "{'gt': [10, 52, 56, 47, 5, 1, 48, 45, 30, 37, 41, 52, 24, 21, 15, 20, 46, 18, 45, 37, 41, 5, 12, 18, 26, 25, 3, 53, 16, 17, 52, 37, 20, 48, 56, 0, 10, 19, 51, 22, 26, 3, 40, 59, 13, 8, 13, 54, 55, 34, 9, 49, 6, 3, 28], 'ChatGPT': {'parameters': None, 'raw_answers': ['The image displays a black vertical line on the left side and a small square dot toward the right. Estimating the difference between the y-coordinates of the top of the line and the dot, it looks to be in the range of approximately 20-30 pixels.', 'Using visual estimation from the image provided, the difference between the y-coordinates of the dot and the top of the line appears to be in the range of approximately 60-70 pixels.', 'Seeing the image provided, the difference between the y-coordinates of the dot and the top of the line looks to be approximately 20-30 pixels.', 'In the image you’ve provided, the black vertical line stands near the left side, and a small square dot is situated toward the right. Estimating the difference between the y-coordinates of the dot and the top of the line, it seems to be between 60-70 pixels.', 'Given the scale of the image, the difference between the y-coordinates of the dot and the top of the line appears to be around 20-30 pixels.', 'The difference between the y-coordinates of the dot and the top of the line appears to be in the range of 60-70 pixels.', \"In the provided image, I can see a black vertical line on the left and a small black square dot on the right. Given the scale and proportions within this 100x100 pixel image, and considering the line and dot's positions, the approximate difference in the y-coordinates between the top of the line and the center of the dot seems to be in the range of 60-70 pixels.\", \"To estimate the difference in y-coordinates between the dot and the top of the line, I will compare the relative position of the dot to the size of the image. However, I don't have the capability to measure or calculate distances in the image directly. Based on observation, the dot appears to be approximately 10-20 pixels below the top of the line.\", 'The estimated difference between the y-coordinates of the dot and the top of the line appears to be in the range of 70-75 pixels.', 'In the image, the black vertical line is near the left edge, and a small square dot is positioned to the right of the line, somewhat closer to the bottom of the image than the top. Considering the scale described, I would estimate that the y-coordinate difference between the dot and the top of the line is approximately 60-70 pixels.', 'In the image, I observe a vertical black line on the left side and a small black square dot towards the right. Estimating visually, the difference between the y-coordinates of the top of the line and the center of the dot appears to be approximately 20-30 pixels.', 'I cannot perform direct measurements or provide precise numerical estimations other than those based on general observation. However, based on the image you have provided and the scale with the origin at the bottom-left corner, the difference between the y-coordinates of the dot and the top of the line appears to be approximately 60-70 pixels. Please note that this is a rough estimation.', \"I'm sorry, but as an AI language model, I don't have the ability to precisely estimate dimensions or distances in an image. However, if I were to provide an estimate based on standard image processing techniques, the difference in y-coordinates between the top of the line and the center of the dot appears to be roughly in the range of 20-30 pixels. Please note that this is a rough estimate and for accurate measurement, image processing software or tools should be used.\", 'The difference between the y-coordinates of the dot and the top of the line appears to be roughly 20-30 pixels.', 'The dot appears to be roughly 10-20 pixels below the top of the line when estimating the difference between the y-coordinates of the dot and the top of the line.', 'In the image provided, the black vertical line and the small square dot are visible. The dot appears to lie higher on the y-axis compared to the top of the line. Estimating the difference between the y-coordinates of the dot and the top of the line, it looks to be in the range of approximately 10-20 pixels.', \"The image you've provided appears to show a black vertical line toward the left side of a white background, and a small black square dot located toward the right. Estimating the difference in y-coordinates between the dot and the top of the line in the 100x100 pixels image, it seems like the difference might be around 20-30 pixels. Please note that this is a rough visual estimation and not an exact measurement.\", \"Based on the image you've provided, the dot appears to be located roughly in the upper third of the image, but not quite at the top. Estimating the difference in y-coordinates between the dot and the top of the line, it seems to be about 20-30 pixels.\", 'To determine the difference between the y-coordinates of the dot and the top of the line, we can visually estimate the vertical distance between the two elements in the image. Given the scale is a 100x100 pixel image, without the ability to measure precisely, I would estimate that the difference in y-coordinates is approximately 60-70 pixels.', \"To estimate the difference between the y-coordinates of the dot and the top of the line, I'll compare their relative positions visually.\\n\\nThe top of the line appears to be almost at the upper boundary of the image, which would be very close to y = 100 pixels if we assume the y-coordinate follows a typical graphical representation with y = 0 at the bottom.\\n\\nThe dot is positioned somewhat lower. Visually estimating the difference without exact measurements, I would guess the difference in y-coordinates is approximately 20-30 pixels.\", 'The image shows a black vertical line on the left and a small square dot towards the right. Given the 100x100 pixel grid, the vertical line appears to extend towards the top of the image.\\n\\nTo estimate the difference in y-coordinates between the dot and the top of the line, I would need to compare the relative positions within the image. Although I cannot measure the pixels precisely without an actual measurement tool, by visually inspecting the image and considering the entire height as 100 pixels, I can provide an estimated range.\\n\\nBased on this approach, the difference between the y-coordinate of the dot and the top of the line appears to be in the range of 60-70 pixels.', 'The dot appears to be situated quite close to the top of the line. I estimate the difference between the y-coordinates of the dot and the top of the line to be about 5-10 pixels.', 'The difference between the y-coordinates of the dot and the top of the line appears to be approximately 15-25 pixels.', 'The image appears to be a simple black and white graphic with a vertical line and a square dot. Based on the scale of the image, it looks like the difference between the y-coordinate of the dot and the top of the line is approximately 20-30 pixels. Please note that this is a rough estimate, as the exact measurement would require more precise tools.', 'The y-coordinate difference between the top of the line and the center of the square dot appears to be approximately 70-80 pixels.', 'The black vertical line seems to extend almost to the top of the 100x100 pixel image, while the square dot is located significantly lower. Estimating the difference between the y-coordinates of the dot and the top of the line, it would be around 20-30 pixels.', 'Based on the image provided, the small square dot appears to be situated quite close to the top of the vertical line. Given the size of the image is 100x100 pixels, and estimating visually, the y-coordinate difference between the dot and the top of the line seems to be around 5-10 pixels.', 'The difference between the y-coordinates of the dot and the top of the line appears to be approximately 70-80 pixels.', \"Based on the image you've provided, it appears that the square dot is approximately 20-30 pixels below the top of the vertical line.\", 'The image appears to contain a black vertical line and a separate black square dot. Based on the given parameters, where the origin is at the bottom-left corner and the horizontal axis is the x-coordinate, it looks like the y-coordinate is the one that measures the vertical position.\\n\\nEstimating the difference between the y-coordinates of the dot and the top of the line by eye, it seems to be approximately 5-15 pixels.', 'To estimate the difference between the y-coordinates of the dot and the top of the line, I need to analyze the provided image visually.\\n\\nAfter examining the image, I estimate that the y-coordinate difference between the dot and the top of the line is approximately 60-70 pixels.', 'I see a black vertical line on the left side of the image and a small black square dot toward the right. Based on the image provided and taking into account the scale of the image (100x100 pixels), the difference between the y-coordinates of the dot and the top of the line appears to be approximately 10-20 pixels.', 'Based on the size of the image and visual estimation, the difference between the y-coordinates of the dot and the top of the line looks to be approximately 60-70 pixels.', 'The dot seems to be positioned roughly in the middle between the top of the line and the top edge of the image. If we consider the top of the line to be very close to the top edge of the 100 pixel image, then the dot appears to be approximately 25-35 pixels below the top of the line.', 'I see a black vertical line and a small square dot in the given 100x100 pixel image. Based on the provided information and the scale of the image, the difference between the y-coordinates of the dot and the top of the line seems to be approximately in the range of 20-30 pixels.', 'Based on the image provided, the difference in y-coordinates between the top of the line and the center of the square dot seems to be approximately 65-75 pixels.', 'The image shows a black vertical line on the left side and a small black square dot towards the right. Based on the given image, the difference between the y-coordinates of the dot and the top of the line appears to be approximately 10-20 pixels.', 'Based on the provided image, the y-coordinate difference between the dot and the top of the line appears to be approximately 20-30 pixels.', 'In the image, the square dot appears to be significantly lower than the top of the black vertical line. Estimating the difference in y-coordinates between the dot and the top of the line, it looks to be roughly in the range of 60-70 pixels.', 'The dot appears to be located at approximately the vertical midpoint of the image, and the top of the line is very close to the top edge of the image. Given the image size of 100x100 pixels, and assuming the top of the line is near the 100th pixel from the bottom, the y-coordinate of the dot would be around 50 pixels from the bottom.\\n\\nTherefore, the difference in y-coordinates between the dot and the top of the line is approximately 50 pixels.', 'In the image provided, the difference between the y-coordinate of the dot and the top of the line appears to be roughly 10-20 pixels. Please note this is an estimation and not an exact measurement.', 'The black vertical line appears to extend the full height of the image, which we are considering to be 100 pixels. The small square dot seems to be located above the midline of the image, but without precise measurement tools, it is difficult to provide an exact estimation. However, if I were to estimate the difference between the y-coordinates of the dot and the top of the line, I would guess it to be in the range of approximately 30-40 pixels.', 'In the image provided, the small square dot is located below the top of the vertical line. Based on the scale given, estimating the difference in pixels between the y-coordinate of the square dot and the y-coordinate of the top of the line, it seems to be in the range of 20-30 pixels.', 'Based on the image provided, the small square dot appears to be located near the bottom of the image and the black vertical line extends towards the top of the image. Estimating visually without precise tools, the difference between the y-coordinates of the dot and the top of the line seems to be around 70-80 pixels. Please note that this estimation has a degree of uncertainty as it is based on a visual approximation.', 'To estimate the difference between the y-coordinates of the square dot and the top of the line, I will compare the relative sizes and positions within the image. However, without the ability to measure precisely, my estimation will be based on the scale provided.\\n\\nConsidering the size of the dot and the length of the line within the 100x100 pixel image, I estimate the difference to be in the range of:\\n\\n15-25 pixels\\n\\nPlease note that this estimation assumes that the image resolution and cropping have not distorted the scale.', 'I see the image with a black vertical line and a small square dot you described. Based on the scale of the image, the difference between the y-coordinates of the dot and the top of the line appears to be approximately 60-70 pixels. This is a rough estimation, as precise measurements would require more exact tools.', 'To estimate the difference in y-coordinates between the dot and the top of the line, I need to analyze the image and compare their vertical positions. However, since I do not have the ability to measure pixel distances in images, I can only make a visual approximation.\\n\\nFrom observing the image, I can determine that the dot is located at a lower vertical position than the top of the line. Based on the relative scale of the 100x100 pixel image, the difference between the y-coordinates appears to be about 20-30 pixels. This is a rough estimate and not an exact measurement.', 'I see a black vertical line and a small square dot in the image. Based on the appearance, the difference between the y-coordinate of the dot and the top of the line looks to be about 60-70 pixels. This is an estimation and not an exact measurement.', 'There seems to be a misunderstanding, since I cannot visually analyze images to give a precise estimation of measurements or differences in pixels. However, if you can see the image, you can estimate the difference by comparing the relative sizes of known elements in the image. For example, if the line appears to be about 80 pixels tall, and the dot is approximately 10 pixels below the top, then the difference in y-coordinates could be estimated at around 70 pixels. Please note that this is a hypothetical example and should not be taken as an actual analysis of the image provided.', 'I see the black vertical line and the small square dot in the image as you described. Based on the size of the image being 100x100 pixels, I estimate the difference between the y-coordinates of the dot and the top of the line to be approximately 10-20 pixels.', 'Based on the provided image, the dot appears to be roughly 20-30 pixels below the top of the vertical line, considering the scale of the image.', 'Based on the image provided, the y-coordinate difference between the top of the black vertical line and the center of the small square dot looks to be approximately 10-20 pixels.', 'Based on the size of the image and the relative positions of the objects, the difference between the y-coordinates of the dot and the top of the line appears to be in the range of approximately 20-30 pixels.', 'Based on the provided image, the difference between the y-coordinates of the dot and the top of the line appears to be approximately 10-20 pixels.', 'I see both the black vertical line and the small square dot in the image. Upon estimating the difference between the y-coordinates of the dot and the top of the line, I would say it is in the range of 20-30 pixels.'], 'parsed_answers': [[20.0, 30.0], [60.0, 70.0], [20.0, 30.0], [60.0, 70.0], [20.0, 30.0], [60.0, 70.0], [60.0, 70.0], [10.0, 20.0], [70.0, 75.0], [60.0, 70.0], [20.0, 30.0], [60.0, 70.0], [20.0, 30.0], [20.0, 30.0], [10.0, 20.0], [10.0, 20.0], [20.0, 30.0], [20.0, 30.0], [60.0, 70.0], [20.0, 30.0], [60.0, 70.0], [5.0, 10.0], [15.0, 25.0], [20.0, 30.0], [70.0, 80.0], [20.0, 30.0], [5.0, 10.0], [70.0, 80.0], [20.0, 30.0], [5.0, 15.0], [60.0, 70.0], [10.0, 20.0], [60.0, 70.0], [25.0, 35.0], [20.0, 30.0], [65.0, 75.0], [10.0, 20.0], [20.0, 30.0], [60.0, 70.0], [50.0], [10.0, 20.0], [30.0, 40.0], [20.0, 30.0], [70.0, 80.0], [15.0, 25.0], [60.0, 70.0], [20.0, 30.0], [60.0, 70.0], [70.0], [10.0, 20.0], [20.0, 30.0], [10.0, 20.0], [20.0, 30.0], [10.0, 20.0], [20.0, 30.0]], 'mean': 37.654545454545456, 'std': 22.693385645736416, 'mse': 595.3090909090909, 'mlae': 10.884959656591834, 'times': [18413.83147239685, 1850.0244617462158, 8293.054580688477, 8464.760303497314, 1840.8148288726807, 1452.0115852355957, 34135.38098335266, 22188.042163848877, 1425.6157875061035, 2486.0336780548096, 58183.88915061951, 39690.56987762451, 26075.175762176514, 45720.999002456665, 28414.900541305542, 14448.627233505249, 28441.63489341736, 9174.267530441284, 272168.11752319336, 2863.358497619629, 89487.59460449219, 8741.381406784058, 1286.1340045928955, 79998.33035469055, 1402.2257328033447, 34792.34313964844, 9537.78100013733, 133221.18639945984, 1512.0396614074707, 35208.25982093811, 66314.6481513977, 16325.22702217102, 16555.4518699646, 109806.26010894775, 9005.993604660034, 32939.87679481506, 14477.71143913269, 14689.398050308228, 47717.46921539307, 9856.281042098999, 16838.1187915802, 16868.907690048218, 34841.795682907104, 60079.309940338135, 3253.591537475586, 24375.401973724365, 9239.915132522583, 198314.9356842041, 4057.9636096954346, 47171.42391204834, 1431.166410446167, 21254.698514938354, 15090.93976020813, 1749.513864517212, 1958.2488536834717], 'forced_repetitions': 260}, 'LLaVA': {'parameters': None, 'raw_answers': ['The difference between the y-coordinate of the dot and the top of the line is approximately 100 pixels.', 'The difference between the y-coordinate of the dot and the top of the line is approximately 100 pixels.', 'The difference between the y-coordinate of the dot and the top of the line is approximately 100 pixels.', 'The difference between the y-coordinate of the dot and the top of the line is approximately 100 pixels.', 'The difference between the y-coordinate of the dot and the top of the line is approximately 100 pixels.', 'The difference between the y-coordinate of the dot and the top of the line is approximately 100 pixels.', 'The difference between the y-coordinate of the dot and the top of the line is approximately 100 pixels.', 'The difference between the y-coordinate of the dot and the top of the line is approximately 100 pixels.', 'The difference between the y-coordinate of the dot and the top of the line is approximately 100 pixels.', 'The difference between the y-coordinate of the dot and the top of the line is approximately 100 pixels.', 'The difference between the y-coordinate of the dot and the top of the line is approximately 100 pixels.', 'The difference between the y-coordinate of the dot and the top of the line is approximately 100 pixels.', 'The difference between the y-coordinate of the dot and the top of the line is approximately 100 pixels.', 'The difference between the y-coordinate of the dot and the top of the line is approximately 100 pixels.', 'The difference between the y-coordinate of the dot and the top of the line is approximately 100 pixels.', 'The difference between the y-coordinate of the dot and the top of the line is approximately 100 pixels.', 'The difference between the y-coordinate of the dot and the top of the line is approximately 100 pixels.', 'The difference between the y-coordinate of the dot and the top of the line is approximately 100 pixels.', 'The difference between the y-coordinate of the dot and the top of the line is approximately 100 pixels.', 'The difference between the y-coordinate of the dot and the top of the line is approximately 100 pixels.', 'The difference between the y-coordinate of the dot and the top of the line is approximately 100 pixels.', 'The difference between the y-coordinate of the dot and the top of the line is approximately 100 pixels.', 'The difference between the y-coordinate of the dot and the top of the line is approximately 100 pixels.', 'The difference between the y-coordinate of the dot and the top of the line is approximately 100 pixels.', 'The difference between the y-coordinate of the dot and the top of the line is approximately 100 pixels.', 'The difference between the y-coordinate of the dot and the top of the line is approximately 100 pixels.', 'The difference between the y-coordinate of the dot and the top of the line is approximately 100 pixels.', 'The difference between the y-coordinate of the dot and the top of the line is approximately 100 pixels.', 'The difference between the y-coordinate of the dot and the top of the line is approximately 100 pixels.', 'The difference between the y-coordinate of the dot and the top of the line is approximately 100 pixels.', 'The difference between the y-coordinate of the dot and the top of the line is approximately 100 pixels.', 'The difference between the y-coordinate of the dot and the top of the line is approximately 100 pixels.', 'The difference between the y-coordinate of the dot and the top of the line is approximately 100 pixels.', 'The difference between the y-coordinate of the dot and the top of the line is approximately 100 pixels.', 'The difference between the y-coordinate of the dot and the top of the line is approximately 100 pixels.', 'The difference between the y-coordinate of the dot and the top of the line is approximately 100 pixels.', 'The difference between the y-coordinate of the dot and the top of the line is approximately 100 pixels.', 'The difference between the y-coordinate of the dot and the top of the line is approximately 100 pixels.', 'The difference between the y-coordinate of the dot and the top of the line is approximately 100 pixels.', 'The difference between the y-coordinate of the dot and the top of the line is approximately 100 pixels.', 'The difference between the y-coordinate of the dot and the top of the line is approximately 100 pixels.', 'The difference between the y-coordinate of the dot and the top of the line is approximately 100 pixels.', 'The difference between the y-coordinate of the dot and the top of the line is approximately 100 pixels.', 'The difference between the y-coordinate of the dot and the top of the line is approximately 100 pixels.', 'The difference between the y-coordinate of the dot and the top of the line is approximately 100 pixels.', 'The difference between the y-coordinate of the dot and the top of the line is approximately 100 pixels.', 'The difference between the y-coordinate of the dot and the top of the line is approximately 100 pixels.', 'The difference between the y-coordinate of the dot and the top of the line is approximately 100 pixels.', 'The difference between the y-coordinate of the dot and the top of the line is approximately 100 pixels.', 'The difference between the y-coordinate of the dot and the top of the line is approximately 100 pixels.', 'The difference between the y-coordinate of the dot and the top of the line is approximately 100 pixels.', 'The difference between the y-coordinate of the dot and the top of the line is approximately 100 pixels.', 'The difference between the y-coordinate of the dot and the top of the line is approximately 100 pixels.', 'The difference between the y-coordinate of the dot and the top of the line is approximately 100 pixels.', 'The difference between the y-coordinate of the dot and the top of the line is approximately 100 pixels.'], 'parsed_answers': [[100.0], [100.0], [100.0], [100.0], [100.0], [100.0], [100.0], [100.0], [100.0], [100.0], [100.0], [100.0], [100.0], [100.0], [100.0], [100.0], [100.0], [100.0], [100.0], [100.0], [100.0], [100.0], [100.0], [100.0], [100.0], [100.0], [100.0], [100.0], [100.0], [100.0], [100.0], [100.0], [100.0], [100.0], [100.0], [100.0], [100.0], [100.0], [100.0], [100.0], [100.0], [100.0], [100.0], [100.0], [100.0], [100.0], [100.0], [100.0], [100.0], [100.0], [100.0], [100.0], [100.0], [100.0], [100.0]], 'mean': 100.0, 'std': 0.0, 'mse': 5405.581818181819, 'mlae': 12.798791642455, 'times': [31516.162872314453, 7585.085153579712, 7291.723012924194, 7242.318391799927, 6956.087589263916, 7279.297351837158, 7324.40972328186, 7053.2262325286865, 7513.375043869019, 7021.954536437988, 7068.710803985596, 7159.782886505127, 7327.022075653076, 7070.486307144165, 7138.035535812378, 7121.544599533081, 7065.373659133911, 7011.685371398926, 7174.8411655426025, 7382.627248764038, 7144.703388214111, 7129.56428527832, 7055.3343296051025, 7118.941068649292, 7149.498462677002, 7349.440336227417, 7217.160224914551, 7194.491147994995, 7118.69740486145, 7239.115238189697, 7238.129377365112, 7498.104810714722, 7150.78067779541, 7185.827255249023, 7174.18098449707, 7302.2637367248535, 7316.587209701538, 7287.914514541626, 7087.719440460205, 7110.338449478149, 7158.219575881958, 7111.202001571655, 7252.467155456543, 7334.299564361572, 7078.485727310181, 7120.675086975098, 7126.106977462769, 7094.9037075042725, 7194.990634918213, 7287.541627883911, 7089.882612228394, 7209.248781204224, 7040.339469909668, 7128.360271453857, 7087.5489711761475], 'forced_repetitions': 0}, 'CustomLLaVA': {'parameters': None, 'raw_answers': ['45', '27', '46', '50', '47', '37', '49', '49', '31', '46', '37', '47', '21', '56', '51', '36', '53', '17', '31', '47', '13', '41', '38', '11', '49', '39', '15', '44', '31', '46', '43', '46', '46', '47', '41', '11', '13', '46', '57', '46', '37', '41', '51', '53', '13', '46', '34', '13', '51', '53', '49', '59', '49', '37', '46'], 'parsed_answers': [[45.0], [27.0], [46.0], [50.0], [47.0], [37.0], [49.0], [49.0], [31.0], [46.0], [37.0], [47.0], [21.0], [56.0], [51.0], [36.0], [53.0], [17.0], [31.0], [47.0], [13.0], [41.0], [38.0], [11.0], [49.0], [39.0], [15.0], [44.0], [31.0], [46.0], [43.0], [46.0], [46.0], [47.0], [41.0], [11.0], [13.0], [46.0], [57.0], [46.0], [37.0], [41.0], [51.0], [53.0], [13.0], [46.0], [34.0], [13.0], [51.0], [53.0], [49.0], [59.0], [49.0], [37.0], [46.0]], 'mean': 39.6, 'std': 13.117095022076413, 'mse': 478.92727272727274, 'mlae': 10.770992303825448, 'times': [10108.026266098022, 9078.996896743774, 8716.866970062256, 8829.387426376343, 8725.323677062988, 9079.723596572876, 9595.455169677734, 8902.0836353302, 8792.386293411255, 8879.255771636963, 9332.419157028198, 8821.49887084961, 8980.993509292603, 8755.474090576172, 8964.977502822876, 9303.07412147522, 8681.103706359863, 8791.546821594238, 9063.569784164429, 9038.293838500977, 8689.389705657959, 8677.746534347534, 8882.362127304077, 8819.610834121704, 8893.23878288269, 8736.487865447998, 8770.671367645264, 8665.826082229614, 8711.809396743774, 9157.55820274353, 8970.494031906128, 8746.413946151733, 8719.940662384033, 8759.108066558838, 8989.675760269165, 8976.062297821045, 8724.516868591309, 8737.977743148804, 8734.735250473022, 9048.941612243652, 8648.605346679688, 8743.676662445068, 8796.740055084229, 9223.142862319946, 8917.93441772461, 8704.705476760864, 8901.303052902222, 8754.449367523193, 9022.339582443237, 8765.549659729004, 8782.122373580933, 8769.129753112793, 8801.499605178833, 9185.72449684143, 8749.657392501831], 'forced_repetitions': 0}}\n"
     ]
    }
   ],
   "source": [
    "import sys\n",
    "sys.path.append('../')\n",
    "import LLMP as L\n",
    "import torch\n",
    "torch.torch.cuda.empty_cache()\n",
    "\n",
    "query = \"What do you see? You should see a black vertical line and a small square dot in the 100x100 pixel image. \\\n",
    "         Suppose the x-coordinate is the horizontal position and the y-coordinate is the vertical position where \\\n",
    "         the origin is at the bottom-left corner. Estimate the difference between the y-coordinates of the dot and the \\\n",
    "         top of the line in pixels. It does not have to be perfectly precise; just give me your numerical estimation \\\n",
    "         (Sample answer form: 40-50)\"\n",
    "images = [L.GPImage.figure1('position_common_scale') for i in range(55)]\n",
    "models = [\"ChatGPT\", \"LLaVA\", \"CustomLLaVA\"]\n",
    "\n",
    "results = L.Evaluator.run(images, query, models)\n",
    "print(results)"
   ]
  },
  {
   "cell_type": "code",
   "execution_count": 2,
   "id": "b5e941ac-ce75-4262-ac27-abda5502c1b0",
   "metadata": {},
   "outputs": [],
   "source": [
    "chatGPT_mse = results[\"ChatGPT\"][\"mse\"]\n",
    "chatGPT_mlae = results[\"ChatGPT\"][\"mlae\"]\n",
    "chatGPT_mean = results[\"ChatGPT\"][\"mean\"]\n",
    "chatGPT_std = results[\"ChatGPT\"][\"std\"]\n",
    "llava_mse = results[\"LLaVA\"][\"mse\"]\n",
    "llava_mlae = results[\"LLaVA\"][\"mlae\"]\n",
    "llava_mean = results[\"LLaVA\"][\"mean\"]\n",
    "llava_std = results[\"LLaVA\"][\"std\"]\n",
    "custom_llava_mse = results[\"CustomLLaVA\"][\"mse\"]\n",
    "custom_llava_mlae = results[\"CustomLLaVA\"][\"mlae\"]\n",
    "custom_llava_mean = results[\"CustomLLaVA\"][\"mean\"]\n",
    "custom_llava_std = results[\"CustomLLaVA\"][\"std\"]"
   ]
  },
  {
   "cell_type": "code",
   "execution_count": 3,
   "id": "b0857b87-cc8f-422e-8c3d-33675da74262",
   "metadata": {},
   "outputs": [
    {
     "name": "stdout",
     "output_type": "stream",
     "text": [
      "ChatGPT mse:  595.3090909090909\n",
      "ChatGPT mlae: 10.884959656591834\n",
      "ChatGPT mean: 37.654545454545456\n",
      "ChatGPT std: 22.693385645736416\n",
      "LLaVA mse:    5405.581818181819\n",
      "LLaVA mlae:   12.798791642455\n",
      "LLaVA mean:   100.0\n",
      "LLaVA std:   0.0\n",
      "CLLaVA mse:   478.92727272727274\n",
      "CLLaVA mlae:  10.770992303825448\n",
      "CLLaVA mean:  39.6\n",
      "CLLaVA std:  13.117095022076413\n"
     ]
    }
   ],
   "source": [
    "print(\"ChatGPT mse: \", chatGPT_mse)\n",
    "print(\"ChatGPT mlae:\", chatGPT_mlae)\n",
    "print(\"ChatGPT mean:\", chatGPT_mean)\n",
    "print(\"ChatGPT std:\", chatGPT_std)\n",
    "print(\"LLaVA mse:   \", llava_mse)\n",
    "print(\"LLaVA mlae:  \", llava_mlae)\n",
    "print(\"LLaVA mean:  \", llava_mean)\n",
    "print(\"LLaVA std:  \", llava_std)\n",
    "print(\"CLLaVA mse:  \", custom_llava_mse)\n",
    "print(\"CLLaVA mlae: \", custom_llava_mlae)\n",
    "print(\"CLLaVA mean: \", custom_llava_mean)\n",
    "print(\"CLLaVA std: \", custom_llava_std)"
   ]
  },
  {
   "cell_type": "code",
   "execution_count": null,
   "id": "f9c83ea1-e394-4ae6-b3d1-74a2cb4e1da6",
   "metadata": {},
   "outputs": [],
   "source": []
  }
 ],
 "metadata": {
  "kernelspec": {
   "display_name": "Python 3 (ipykernel)",
   "language": "python",
   "name": "python3"
  },
  "language_info": {
   "codemirror_mode": {
    "name": "ipython",
    "version": 3
   },
   "file_extension": ".py",
   "mimetype": "text/x-python",
   "name": "python",
   "nbconvert_exporter": "python",
   "pygments_lexer": "ipython3",
   "version": "3.11.7"
  }
 },
 "nbformat": 4,
 "nbformat_minor": 5
}
