{
 "cells": [
  {
   "cell_type": "code",
   "execution_count": null,
   "id": "f551db06-ffb8-41dd-974e-3bfe125b8286",
   "metadata": {},
   "outputs": [],
   "source": [
    "import sys\n",
    "sys.path.append('../')\n",
    "import LLMP as L\n",
    "import torch\n",
    "torch.torch.cuda.empty_cache()\n",
    "\n",
    "query = \"What do you see? You should see a black curved line. The image is 100 by 100 pixels. Estimate the curvature of the line. \\\n",
    "         It does not have to be perfectly precise; please respond with JUST a numerical rage. The value should be between 0 and 1.\"\n",
    "\n",
    "images = [L.GPImage.figure1('curvature') for i in range(10)]\n",
    "models = [\"ChatGPT\", \"LLaVA\", \"CustomLLaVA\"]\n",
    "\n",
    "results = L.Evaluator.run(images, query, models)\n",
    "print(results)"
   ]
  }
 ],
 "metadata": {
  "kernelspec": {
   "display_name": "Python 3 (ipykernel)",
   "language": "python",
   "name": "python3"
  },
  "language_info": {
   "codemirror_mode": {
    "name": "ipython",
    "version": 3
   },
   "file_extension": ".py",
   "mimetype": "text/x-python",
   "name": "python",
   "nbconvert_exporter": "python",
   "pygments_lexer": "ipython3",
   "version": "3.11.7"
  }
 },
 "nbformat": 4,
 "nbformat_minor": 5
}
